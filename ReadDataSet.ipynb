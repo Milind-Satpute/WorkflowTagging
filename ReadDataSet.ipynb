{
 "cells": [
  {
   "cell_type": "code",
   "execution_count": 3,
   "id": "d110d6a8",
   "metadata": {},
   "outputs": [
    {
     "name": "stdout",
     "output_type": "stream",
     "text": [
      "===============IMPORTING DATA====================\n",
      "=======Getting Data From ./Data/Output/Final/Dataset/Final_Log_DataSet20231114-180750.json============\n",
      "0      OSEM Customer domain transformationTransform O...\n",
      "1      OSEM Customer domain transformationTransform O...\n",
      "2      OSEM Customer domain transformationTransform O...\n",
      "3      OSEM Customer domain transformationTransform O...\n",
      "4      OSEM Customer domain transformationTransform O...\n",
      "                             ...                        \n",
      "115    OSEM Customer domain transformationTransform O...\n",
      "116    OSEM Customer domain transformationTransform O...\n",
      "117    OSEM Customer domain transformationTransform O...\n",
      "118    OSEM Customer domain transformationTransform O...\n",
      "119    OSEM Customer domain transformationTransform O...\n",
      "Name: logs, Length: 120, dtype: object\n"
     ]
    }
   ],
   "source": [
    "import json;\n",
    "import pandas as pd\n",
    "import time \n",
    "import os, shutil\n",
    "\n",
    "print('===============IMPORTING DATA====================')\n",
    "directoryName='./Data/Output/Final/Dataset/Final_Log_DataSet20231114-180750.json'\n",
    "\n",
    "print('=======Getting Data From '+directoryName+'============')\n",
    "\n",
    "f1  = open(directoryName, encoding=\"utf8\")\n",
    "\n",
    "dataSideCarLogs = json.load(f1)\n",
    "sidecarDataFrame= pd.DataFrame(dataSideCarLogs)\n",
    "\n",
    "print(sidecarDataFrame['logs'])\n"
   ]
  },
  {
   "cell_type": "code",
   "execution_count": null,
   "id": "e8cd6fa6",
   "metadata": {},
   "outputs": [],
   "source": []
  }
 ],
 "metadata": {
  "kernelspec": {
   "display_name": "Python 3 (ipykernel)",
   "language": "python",
   "name": "python3"
  },
  "language_info": {
   "codemirror_mode": {
    "name": "ipython",
    "version": 3
   },
   "file_extension": ".py",
   "mimetype": "text/x-python",
   "name": "python",
   "nbconvert_exporter": "python",
   "pygments_lexer": "ipython3",
   "version": "3.11.5"
  }
 },
 "nbformat": 4,
 "nbformat_minor": 5
}

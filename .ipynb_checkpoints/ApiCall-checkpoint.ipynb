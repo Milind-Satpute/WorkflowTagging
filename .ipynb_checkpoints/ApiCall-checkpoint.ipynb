{
 "cells": [
  {
   "cell_type": "markdown",
   "id": "82cc1758",
   "metadata": {},
   "source": [
    "# API CALL"
   ]
  },
  {
   "cell_type": "markdown",
   "id": "cdef75aa",
   "metadata": {},
   "source": [
    "LOG DEBUGGING"
   ]
  },
  {
   "cell_type": "code",
   "execution_count": 16,
   "id": "3027cc51",
   "metadata": {},
   "outputs": [
    {
     "name": "stderr",
     "output_type": "stream",
     "text": [
      "C:\\Users\\Satpum\\AppData\\Local\\anaconda3\\Lib\\site-packages\\urllib3\\connectionpool.py:1056: InsecureRequestWarning: Unverified HTTPS request is being made to host 'dfp-sidecar-configurator-ge2.omcs-nonprod.r1.pks.dell.com'. Adding certificate verification is strongly advised. See: https://urllib3.readthedocs.io/en/1.26.x/advanced-usage.html#ssl-warnings\n",
      "  warnings.warn(\n"
     ]
    },
    {
     "name": "stdout",
     "output_type": "stream",
     "text": [
      "200\n",
      "                            _index _type                   _id  _score  \\\n",
      "0     omcs-sidecar-logs-2023.05.01  _doc  kBMQ2IcBSNfBnqFLsHqO     NaN   \n",
      "1     omcs-sidecar-logs-2023.05.01  _doc  kRMQ2IcBSNfBnqFLsHqO     NaN   \n",
      "2     omcs-sidecar-logs-2023.05.01  _doc  hRMQ2IcBSNfBnqFLtH1g     NaN   \n",
      "3     omcs-sidecar-logs-2023.05.01  _doc  hhMQ2IcBSNfBnqFLtH1g     NaN   \n",
      "4     omcs-sidecar-logs-2023.05.01  _doc  hxMQ2IcBSNfBnqFLtH1g     NaN   \n",
      "...                            ...   ...                   ...     ...   \n",
      "9995  omcs-sidecar-logs-2023.05.03  _doc  WLXW4IcBfk1MJmXtG6-y     NaN   \n",
      "9996  omcs-sidecar-logs-2023.05.03  _doc  WbXW4IcBfk1MJmXtG6-y     NaN   \n",
      "9997  omcs-sidecar-logs-2023.05.03  _doc  WrXW4IcBfk1MJmXtG6-y     NaN   \n",
      "9998  omcs-sidecar-logs-2023.05.03  _doc  W7XW4IcBfk1MJmXtG6-y     NaN   \n",
      "9999  omcs-sidecar-logs-2023.05.03  _doc  2yzW4IcBSNfBnqFLHwgP     NaN   \n",
      "\n",
      "                                                _source             sort  \\\n",
      "0     {'@datetime': '2023-05-01T16:06:24.235Z', 'str...  [1682957184235]   \n",
      "1     {'@datetime': '2023-05-01T16:06:24.235Z', 'str...  [1682957184235]   \n",
      "2     {'@datetime': '2023-05-01T16:06:25.282Z', 'str...  [1682957185282]   \n",
      "3     {'@datetime': '2023-05-01T16:06:25.282Z', 'str...  [1682957185282]   \n",
      "4     {'@datetime': '2023-05-01T16:06:25.283Z', 'str...  [1682957185283]   \n",
      "...                                                 ...              ...   \n",
      "9995  {'@datetime': '2023-05-03T08:59:00.145Z', 'str...  [1683104340145]   \n",
      "9996  {'@datetime': '2023-05-03T08:59:00.820Z', 'str...  [1683104340820]   \n",
      "9997  {'@datetime': '2023-05-03T08:59:00.831Z', 'str...  [1683104340831]   \n",
      "9998  {'@datetime': '2023-05-03T08:59:00.831Z', 'str...  [1683104340831]   \n",
      "9999  {'@datetime': '2023-05-03T08:59:00.836Z', 'str...  [1683104340836]   \n",
      "\n",
      "                             _ignored  \n",
      "0                                 NaN  \n",
      "1                                 NaN  \n",
      "2                                 NaN  \n",
      "3                                 NaN  \n",
      "4                                 NaN  \n",
      "...                               ...  \n",
      "9995  [log_processed.message.keyword]  \n",
      "9996                              NaN  \n",
      "9997                              NaN  \n",
      "9998                              NaN  \n",
      "9999                              NaN  \n",
      "\n",
      "[10000 rows x 7 columns]\n",
      "./Data/Input/ge2/Es_SideCar_Logs_ge2.json\n"
     ]
    }
   ],
   "source": [
    "import requests\n",
    "import pandas as pd\n",
    "import os\n",
    "\n",
    "\n",
    "enviroment='ge2'\n",
    "# Specify the API URL we want to send our JSON to\n",
    "url = 'https://dfp-sidecar-configurator-'+enviroment+'.omcs-nonprod.r1.pks.dell.com/dfp-sidecar-configurator/api/log-search/es'\n",
    "# Specify the appropriate header for the POST request\n",
    "headers={'Content-Type':'application/json','Referer':'strict-origin-when-cross-origin'}\n",
    "# Specify the JSON data we want to send\n",
    "data = '{\"dpId\":\"\",\"tag\":\"\",\"uuid\":\"\",\"domain\":\"Customer\",\"logLevel\":\"\",\"severity\":\"\",\"startTimestamp\":\"2023-05-01T14:50:00.000Z\",\"endTimestamp\":\"2023-11-01T00:00:00.000Z\",\"freeText\":\"\",\"excludeSource\":\"\"}'\n",
    "\n",
    "\n",
    "response = requests.post(url, headers=headers, data=data, verify=False)\n",
    "\n",
    "\n",
    "print(response.status_code)\n",
    "responseData = response.text\n",
    "sideCarDf = pd.read_json(responseData, orient='records')\n",
    "print(sideCarDf)\n",
    "\n",
    "directoryName='./Data/Input/'+enviroment+'/'\n",
    "fileName='Es_SideCar_Logs_'+enviroment+'.json'\n",
    "if not os.path.exists(directoryName):\n",
    "   os.makedirs(directoryName)\n",
    "\n",
    "print(directoryName+fileName)\n",
    "sideCarDf.to_json(directoryName+fileName,orient='records')\n",
    "                              "
   ]
  },
  {
   "cell_type": "markdown",
   "id": "aa103560",
   "metadata": {},
   "source": [
    "CUSTOMER DASHBOARD: {\"url\":\"https://omcs-global-customer-persister-ge4.omcs-nonprod.r1.pks.dell.com/omcs-global-customer-persister/v1/Dashboard/GetWorkflowSteps?dpid=7040000447610\",\"method\":\"get\"}"
   ]
  },
  {
   "cell_type": "code",
   "execution_count": 52,
   "id": "ed05b697",
   "metadata": {},
   "outputs": [
    {
     "name": "stdout",
     "output_type": "stream",
     "text": [
      "Getting All  dpids\n"
     ]
    },
    {
     "name": "stderr",
     "output_type": "stream",
     "text": [
      "C:\\Users\\Satpum\\AppData\\Local\\anaconda3\\Lib\\site-packages\\urllib3\\connectionpool.py:1056: InsecureRequestWarning: Unverified HTTPS request is being made to host 'omcs-global-order-external-ge4.omcs-nonprod.r1.pks.dell.com'. Adding certificate verification is strongly advised. See: https://urllib3.readthedocs.io/en/1.26.x/advanced-usage.html#ssl-warnings\n",
      "  warnings.warn(\n"
     ]
    },
    {
     "name": "stdout",
     "output_type": "stream",
     "text": [
      "              dpid\n",
      "0    7040000447687\n",
      "1    7040000447663\n",
      "2    7040000447662\n",
      "3    7040000447660\n",
      "4    7040000447657\n",
      "..             ...\n",
      "446  7040000446381\n",
      "447  7040000446375\n",
      "448  7040000446374\n",
      "449  7040000446370\n",
      "450  7040000446361\n",
      "\n",
      "[451 rows x 1 columns]\n"
     ]
    }
   ],
   "source": [
    "import requests\n",
    "import pandas as pd\n",
    "import os\n",
    "\n",
    "\n",
    "print('Getting All  dpids');\n",
    "\n",
    "url=\"https://omcs-global-order-external-ge4.omcs-nonprod.r1.pks.dell.com/omcs-global-order-external/api/v1/order/search\"\n",
    "\n",
    "headers={'Content-Type':'application/json','Referer':'strict-origin-when-cross-origin','Authorization': 'allaccesskey'}\n",
    "\n",
    "data='{\"propertySearch\":\"Region\",\"searchValue\":\"APJ\",\"region\":\"\",\"fromDate\":\"2023-11-20\",\"toDate\":\"2023-11-21\",\"pageSize\":10000,\"pageCount\":1,\"sortBy\":\"\",\"buid\":\"\"}'\n",
    "\n",
    "response = requests.post(url, headers=headers, data=data, verify=False)\n",
    "#print(response.text)\n",
    "\n",
    "responseData = response.text\n",
    "\n",
    "sideCarDf = pd.read_json(responseData, orient='records')\n",
    "\n",
    "rowArray=[]\n",
    "for index,row in sideCarDf.iterrows():\n",
    "    rowArray.append(row['searchResultView'])\n",
    "    \n",
    "dpidsDF=pd.DataFrame(rowArray,columns=['dpid'])    \n",
    "print(dpidsDF)  \n",
    "    \n",
    "\n"
   ]
  },
  {
   "cell_type": "code",
   "execution_count": 53,
   "id": "187ee109",
   "metadata": {},
   "outputs": [
    {
     "name": "stdout",
     "output_type": "stream",
     "text": [
      "7040000447687\n"
     ]
    }
   ],
   "source": [
    "print(dpidsDF['dpid'][0])"
   ]
  },
  {
   "cell_type": "code",
   "execution_count": 60,
   "id": "93ed8428",
   "metadata": {},
   "outputs": [
    {
     "name": "stdout",
     "output_type": "stream",
     "text": [
      "<class 'str'>\n",
      "https://omcs-global-customer-persister-ge4.omcs-nonprod.r1.pks.dell.com/omcs-global-customer-persister/v1/Dashboard/GetTransformData?dpid=7\n"
     ]
    },
    {
     "name": "stderr",
     "output_type": "stream",
     "text": [
      "C:\\Users\\Satpum\\AppData\\Local\\anaconda3\\Lib\\site-packages\\urllib3\\connectionpool.py:1056: InsecureRequestWarning: Unverified HTTPS request is being made to host 'omcs-global-customer-persister-ge4.omcs-nonprod.r1.pks.dell.com'. Adding certificate verification is strongly advised. See: https://urllib3.readthedocs.io/en/1.26.x/advanced-usage.html#ssl-warnings\n",
      "  warnings.warn(\n"
     ]
    },
    {
     "name": "stdout",
     "output_type": "stream",
     "text": [
      "<class 'str'>\n",
      "https://omcs-global-customer-persister-ge4.omcs-nonprod.r1.pks.dell.com/omcs-global-customer-persister/v1/Dashboard/GetTransformData?dpid=0\n"
     ]
    },
    {
     "name": "stderr",
     "output_type": "stream",
     "text": [
      "C:\\Users\\Satpum\\AppData\\Local\\anaconda3\\Lib\\site-packages\\urllib3\\connectionpool.py:1056: InsecureRequestWarning: Unverified HTTPS request is being made to host 'omcs-global-customer-persister-ge4.omcs-nonprod.r1.pks.dell.com'. Adding certificate verification is strongly advised. See: https://urllib3.readthedocs.io/en/1.26.x/advanced-usage.html#ssl-warnings\n",
      "  warnings.warn(\n"
     ]
    },
    {
     "name": "stdout",
     "output_type": "stream",
     "text": [
      "<class 'str'>\n",
      "https://omcs-global-customer-persister-ge4.omcs-nonprod.r1.pks.dell.com/omcs-global-customer-persister/v1/Dashboard/GetTransformData?dpid=4\n"
     ]
    },
    {
     "name": "stderr",
     "output_type": "stream",
     "text": [
      "C:\\Users\\Satpum\\AppData\\Local\\anaconda3\\Lib\\site-packages\\urllib3\\connectionpool.py:1056: InsecureRequestWarning: Unverified HTTPS request is being made to host 'omcs-global-customer-persister-ge4.omcs-nonprod.r1.pks.dell.com'. Adding certificate verification is strongly advised. See: https://urllib3.readthedocs.io/en/1.26.x/advanced-usage.html#ssl-warnings\n",
      "  warnings.warn(\n"
     ]
    },
    {
     "name": "stdout",
     "output_type": "stream",
     "text": [
      "<class 'str'>\n",
      "https://omcs-global-customer-persister-ge4.omcs-nonprod.r1.pks.dell.com/omcs-global-customer-persister/v1/Dashboard/GetTransformData?dpid=0\n"
     ]
    },
    {
     "name": "stderr",
     "output_type": "stream",
     "text": [
      "C:\\Users\\Satpum\\AppData\\Local\\anaconda3\\Lib\\site-packages\\urllib3\\connectionpool.py:1056: InsecureRequestWarning: Unverified HTTPS request is being made to host 'omcs-global-customer-persister-ge4.omcs-nonprod.r1.pks.dell.com'. Adding certificate verification is strongly advised. See: https://urllib3.readthedocs.io/en/1.26.x/advanced-usage.html#ssl-warnings\n",
      "  warnings.warn(\n"
     ]
    },
    {
     "name": "stdout",
     "output_type": "stream",
     "text": [
      "<class 'str'>\n",
      "https://omcs-global-customer-persister-ge4.omcs-nonprod.r1.pks.dell.com/omcs-global-customer-persister/v1/Dashboard/GetTransformData?dpid=0\n"
     ]
    },
    {
     "name": "stderr",
     "output_type": "stream",
     "text": [
      "C:\\Users\\Satpum\\AppData\\Local\\anaconda3\\Lib\\site-packages\\urllib3\\connectionpool.py:1056: InsecureRequestWarning: Unverified HTTPS request is being made to host 'omcs-global-customer-persister-ge4.omcs-nonprod.r1.pks.dell.com'. Adding certificate verification is strongly advised. See: https://urllib3.readthedocs.io/en/1.26.x/advanced-usage.html#ssl-warnings\n",
      "  warnings.warn(\n"
     ]
    },
    {
     "name": "stdout",
     "output_type": "stream",
     "text": [
      "<class 'str'>\n",
      "https://omcs-global-customer-persister-ge4.omcs-nonprod.r1.pks.dell.com/omcs-global-customer-persister/v1/Dashboard/GetTransformData?dpid=0\n"
     ]
    },
    {
     "name": "stderr",
     "output_type": "stream",
     "text": [
      "C:\\Users\\Satpum\\AppData\\Local\\anaconda3\\Lib\\site-packages\\urllib3\\connectionpool.py:1056: InsecureRequestWarning: Unverified HTTPS request is being made to host 'omcs-global-customer-persister-ge4.omcs-nonprod.r1.pks.dell.com'. Adding certificate verification is strongly advised. See: https://urllib3.readthedocs.io/en/1.26.x/advanced-usage.html#ssl-warnings\n",
      "  warnings.warn(\n"
     ]
    },
    {
     "name": "stdout",
     "output_type": "stream",
     "text": [
      "<class 'str'>\n",
      "https://omcs-global-customer-persister-ge4.omcs-nonprod.r1.pks.dell.com/omcs-global-customer-persister/v1/Dashboard/GetTransformData?dpid=0\n"
     ]
    },
    {
     "name": "stderr",
     "output_type": "stream",
     "text": [
      "C:\\Users\\Satpum\\AppData\\Local\\anaconda3\\Lib\\site-packages\\urllib3\\connectionpool.py:1056: InsecureRequestWarning: Unverified HTTPS request is being made to host 'omcs-global-customer-persister-ge4.omcs-nonprod.r1.pks.dell.com'. Adding certificate verification is strongly advised. See: https://urllib3.readthedocs.io/en/1.26.x/advanced-usage.html#ssl-warnings\n",
      "  warnings.warn(\n"
     ]
    },
    {
     "name": "stdout",
     "output_type": "stream",
     "text": [
      "<class 'str'>\n",
      "https://omcs-global-customer-persister-ge4.omcs-nonprod.r1.pks.dell.com/omcs-global-customer-persister/v1/Dashboard/GetTransformData?dpid=4\n"
     ]
    },
    {
     "name": "stderr",
     "output_type": "stream",
     "text": [
      "C:\\Users\\Satpum\\AppData\\Local\\anaconda3\\Lib\\site-packages\\urllib3\\connectionpool.py:1056: InsecureRequestWarning: Unverified HTTPS request is being made to host 'omcs-global-customer-persister-ge4.omcs-nonprod.r1.pks.dell.com'. Adding certificate verification is strongly advised. See: https://urllib3.readthedocs.io/en/1.26.x/advanced-usage.html#ssl-warnings\n",
      "  warnings.warn(\n"
     ]
    },
    {
     "name": "stdout",
     "output_type": "stream",
     "text": [
      "<class 'str'>\n",
      "https://omcs-global-customer-persister-ge4.omcs-nonprod.r1.pks.dell.com/omcs-global-customer-persister/v1/Dashboard/GetTransformData?dpid=4\n"
     ]
    },
    {
     "name": "stderr",
     "output_type": "stream",
     "text": [
      "C:\\Users\\Satpum\\AppData\\Local\\anaconda3\\Lib\\site-packages\\urllib3\\connectionpool.py:1056: InsecureRequestWarning: Unverified HTTPS request is being made to host 'omcs-global-customer-persister-ge4.omcs-nonprod.r1.pks.dell.com'. Adding certificate verification is strongly advised. See: https://urllib3.readthedocs.io/en/1.26.x/advanced-usage.html#ssl-warnings\n",
      "  warnings.warn(\n"
     ]
    },
    {
     "name": "stdout",
     "output_type": "stream",
     "text": [
      "<class 'str'>\n",
      "https://omcs-global-customer-persister-ge4.omcs-nonprod.r1.pks.dell.com/omcs-global-customer-persister/v1/Dashboard/GetTransformData?dpid=7\n"
     ]
    },
    {
     "name": "stderr",
     "output_type": "stream",
     "text": [
      "C:\\Users\\Satpum\\AppData\\Local\\anaconda3\\Lib\\site-packages\\urllib3\\connectionpool.py:1056: InsecureRequestWarning: Unverified HTTPS request is being made to host 'omcs-global-customer-persister-ge4.omcs-nonprod.r1.pks.dell.com'. Adding certificate verification is strongly advised. See: https://urllib3.readthedocs.io/en/1.26.x/advanced-usage.html#ssl-warnings\n",
      "  warnings.warn(\n"
     ]
    },
    {
     "name": "stdout",
     "output_type": "stream",
     "text": [
      "<class 'str'>\n",
      "https://omcs-global-customer-persister-ge4.omcs-nonprod.r1.pks.dell.com/omcs-global-customer-persister/v1/Dashboard/GetTransformData?dpid=6\n"
     ]
    },
    {
     "name": "stderr",
     "output_type": "stream",
     "text": [
      "C:\\Users\\Satpum\\AppData\\Local\\anaconda3\\Lib\\site-packages\\urllib3\\connectionpool.py:1056: InsecureRequestWarning: Unverified HTTPS request is being made to host 'omcs-global-customer-persister-ge4.omcs-nonprod.r1.pks.dell.com'. Adding certificate verification is strongly advised. See: https://urllib3.readthedocs.io/en/1.26.x/advanced-usage.html#ssl-warnings\n",
      "  warnings.warn(\n"
     ]
    },
    {
     "name": "stdout",
     "output_type": "stream",
     "text": [
      "<class 'str'>\n",
      "https://omcs-global-customer-persister-ge4.omcs-nonprod.r1.pks.dell.com/omcs-global-customer-persister/v1/Dashboard/GetTransformData?dpid=8\n"
     ]
    },
    {
     "name": "stderr",
     "output_type": "stream",
     "text": [
      "C:\\Users\\Satpum\\AppData\\Local\\anaconda3\\Lib\\site-packages\\urllib3\\connectionpool.py:1056: InsecureRequestWarning: Unverified HTTPS request is being made to host 'omcs-global-customer-persister-ge4.omcs-nonprod.r1.pks.dell.com'. Adding certificate verification is strongly advised. See: https://urllib3.readthedocs.io/en/1.26.x/advanced-usage.html#ssl-warnings\n",
      "  warnings.warn(\n"
     ]
    },
    {
     "name": "stdout",
     "output_type": "stream",
     "text": [
      "<class 'str'>\n",
      "https://omcs-global-customer-persister-ge4.omcs-nonprod.r1.pks.dell.com/omcs-global-customer-persister/v1/Dashboard/GetTransformData?dpid=7\n"
     ]
    },
    {
     "name": "stderr",
     "output_type": "stream",
     "text": [
      "C:\\Users\\Satpum\\AppData\\Local\\anaconda3\\Lib\\site-packages\\urllib3\\connectionpool.py:1056: InsecureRequestWarning: Unverified HTTPS request is being made to host 'omcs-global-customer-persister-ge4.omcs-nonprod.r1.pks.dell.com'. Adding certificate verification is strongly advised. See: https://urllib3.readthedocs.io/en/1.26.x/advanced-usage.html#ssl-warnings\n",
      "  warnings.warn(\n"
     ]
    },
    {
     "name": "stdout",
     "output_type": "stream",
     "text": [
      "['7040000447687']\n",
      "./Data/Dashboard/Input/ge4/Dashboard_Logs_ge4.json\n"
     ]
    }
   ],
   "source": [
    "import requests\n",
    "import pandas as pd\n",
    "import os\n",
    "\n",
    "dashboardArray=[]\n",
    "responseData=''\n",
    "for dpid in dpidsDF['dpid']:\n",
    "    enviroment='ge4'\n",
    "    print(type(dpid))\n",
    "    # Specify the API URL we want to send our JSON to\n",
    "    url = 'https://omcs-global-customer-persister-ge4.omcs-nonprod.r1.pks.dell.com/omcs-global-customer-persister/v1/Dashboard/GetTransformData?dpid='+dpid.strip()\n",
    "    print(url)\n",
    "    # Specify the appropriate header for the POST request\n",
    "    headers={'Content-Type':'application/json','Referer':'strict-origin-when-cross-origin','Authorization': 'allaccesskey'}\n",
    "    # Specify the JSON data we want to send\n",
    "    #data = '{\"url\":\"https://omcs-global-customer-persister-ge4.omcs-nonprod.r1.pks.dell.com/omcs-global-customer-persister/v1/Dashboard/GetWorkflowSteps?dpid=7040000447610\"}'\n",
    "    result = requests.get(url,headers=headers,verify=False)\n",
    "    responseData = responseData+dpid\n",
    "dashboardArray.append(responseData)\n",
    "\n",
    "dashboardDf = pd.DataFrame(dashboardArray,columns=['logs'])\n",
    "print(dashboardArray)\n",
    "\n",
    "directoryName='./Data/Dashboard/Input/'+enviroment+'/'\n",
    "fileName='Dashboard_Logs_'+enviroment+'.json'\n",
    "if not os.path.exists(directoryName):\n",
    "    os.makedirs(directoryName)\n",
    "\n",
    "print(directoryName+fileName)\n",
    "dashboardDf.to_json(directoryName+fileName,orient='records')"
   ]
  },
  {
   "cell_type": "code",
   "execution_count": null,
   "id": "81222907",
   "metadata": {},
   "outputs": [],
   "source": []
  },
  {
   "cell_type": "code",
   "execution_count": null,
   "id": "afd2cfb9",
   "metadata": {},
   "outputs": [],
   "source": []
  },
  {
   "cell_type": "code",
   "execution_count": null,
   "id": "9e3871ef",
   "metadata": {},
   "outputs": [],
   "source": []
  }
 ],
 "metadata": {
  "kernelspec": {
   "display_name": "Python 3 (ipykernel)",
   "language": "python",
   "name": "python3"
  },
  "language_info": {
   "codemirror_mode": {
    "name": "ipython",
    "version": 3
   },
   "file_extension": ".py",
   "mimetype": "text/x-python",
   "name": "python",
   "nbconvert_exporter": "python",
   "pygments_lexer": "ipython3",
   "version": "3.11.5"
  }
 },
 "nbformat": 4,
 "nbformat_minor": 5
}

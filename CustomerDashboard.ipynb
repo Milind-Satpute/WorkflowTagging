{
 "cells": [
  {
   "cell_type": "markdown",
   "id": "26f6003a",
   "metadata": {},
   "source": [
    "CUSTOMER DASHBOARDS"
   ]
  },
  {
   "cell_type": "code",
   "execution_count": 16,
   "id": "4685bcca",
   "metadata": {},
   "outputs": [
    {
     "name": "stdout",
     "output_type": "stream",
     "text": [
      "Getting All  dpids\n"
     ]
    },
    {
     "name": "stderr",
     "output_type": "stream",
     "text": [
      "C:\\Users\\Satpum\\AppData\\Local\\anaconda3\\Lib\\site-packages\\urllib3\\connectionpool.py:1056: InsecureRequestWarning: Unverified HTTPS request is being made to host 'omcs-global-order-external-ge4.omcs-nonprod.r1.pks.dell.com'. Adding certificate verification is strongly advised. See: https://urllib3.readthedocs.io/en/1.26.x/advanced-usage.html#ssl-warnings\n",
      "  warnings.warn(\n"
     ]
    },
    {
     "name": "stdout",
     "output_type": "stream",
     "text": [
      "              dpid\n",
      "0    7040000447687\n",
      "1    7040000447663\n",
      "2    7040000447662\n",
      "3    7040000447660\n",
      "4    7040000447657\n",
      "..             ...\n",
      "446  7040000446381\n",
      "447  7040000446375\n",
      "448  7040000446374\n",
      "449  7040000446370\n",
      "450  7040000446361\n",
      "\n",
      "[451 rows x 1 columns]\n"
     ]
    }
   ],
   "source": [
    "import requests\n",
    "import pandas as pd\n",
    "import os\n",
    "\n",
    "\n",
    "print('Getting All  dpids');\n",
    "\n",
    "url=\"https://omcs-global-order-external-ge4.omcs-nonprod.r1.pks.dell.com/omcs-global-order-external/api/v1/order/search\"\n",
    "\n",
    "headers={'Content-Type':'application/json','Referer':'strict-origin-when-cross-origin','Authorization': 'allaccesskey'}\n",
    "\n",
    "data='{\"propertySearch\":\"Region\",\"searchValue\":\"APJ\",\"region\":\"\",\"fromDate\":\"2023-11-20\",\"toDate\":\"2023-11-21\",\"pageSize\":10000,\"pageCount\":1,\"sortBy\":\"\",\"buid\":\"\"}'\n",
    "\n",
    "response = requests.post(url, headers=headers, data=data, verify=False)\n",
    "#print(response.text)\n",
    "\n",
    "responseData = response.text\n",
    "\n",
    "sideCarDf = pd.read_json(responseData, orient='records')\n",
    "\n",
    "rowArray=[]\n",
    "for index,row in sideCarDf.iterrows():\n",
    "    rowArray.append(row['searchResultView'])\n",
    "    \n",
    "dpidsDF=pd.DataFrame(rowArray,columns=['dpid'])    \n",
    "print(dpidsDF)  "
   ]
  },
  {
   "cell_type": "code",
   "execution_count": 17,
   "id": "31105a25",
   "metadata": {},
   "outputs": [
    {
     "name": "stdout",
     "output_type": "stream",
     "text": [
      "7040000447687\n",
      "https://omcs-global-customer-persister-ge4.omcs-nonprod.r1.pks.dell.com/omcs-global-customer-persister/v1/Dashboard/GetTransformData?dpid=7040000447687\n"
     ]
    },
    {
     "name": "stderr",
     "output_type": "stream",
     "text": [
      "C:\\Users\\Satpum\\AppData\\Local\\anaconda3\\Lib\\site-packages\\urllib3\\connectionpool.py:1056: InsecureRequestWarning: Unverified HTTPS request is being made to host 'omcs-global-customer-persister-ge4.omcs-nonprod.r1.pks.dell.com'. Adding certificate verification is strongly advised. See: https://urllib3.readthedocs.io/en/1.26.x/advanced-usage.html#ssl-warnings\n",
      "  warnings.warn(\n"
     ]
    },
    {
     "name": "stdout",
     "output_type": "stream",
     "text": [
      "<class 'str'>\n",
      "not null\n",
      "7040000447663\n",
      "https://omcs-global-customer-persister-ge4.omcs-nonprod.r1.pks.dell.com/omcs-global-customer-persister/v1/Dashboard/GetTransformData?dpid=7040000447663\n"
     ]
    },
    {
     "name": "stderr",
     "output_type": "stream",
     "text": [
      "C:\\Users\\Satpum\\AppData\\Local\\anaconda3\\Lib\\site-packages\\urllib3\\connectionpool.py:1056: InsecureRequestWarning: Unverified HTTPS request is being made to host 'omcs-global-customer-persister-ge4.omcs-nonprod.r1.pks.dell.com'. Adding certificate verification is strongly advised. See: https://urllib3.readthedocs.io/en/1.26.x/advanced-usage.html#ssl-warnings\n",
      "  warnings.warn(\n"
     ]
    },
    {
     "name": "stdout",
     "output_type": "stream",
     "text": [
      "<class 'str'>\n",
      "null7040000447663\n",
      "7040000447662\n",
      "https://omcs-global-customer-persister-ge4.omcs-nonprod.r1.pks.dell.com/omcs-global-customer-persister/v1/Dashboard/GetTransformData?dpid=7040000447662\n"
     ]
    },
    {
     "name": "stderr",
     "output_type": "stream",
     "text": [
      "C:\\Users\\Satpum\\AppData\\Local\\anaconda3\\Lib\\site-packages\\urllib3\\connectionpool.py:1056: InsecureRequestWarning: Unverified HTTPS request is being made to host 'omcs-global-customer-persister-ge4.omcs-nonprod.r1.pks.dell.com'. Adding certificate verification is strongly advised. See: https://urllib3.readthedocs.io/en/1.26.x/advanced-usage.html#ssl-warnings\n",
      "  warnings.warn(\n"
     ]
    },
    {
     "name": "stdout",
     "output_type": "stream",
     "text": [
      "<class 'str'>\n",
      "null7040000447662\n",
      "7040000447660\n",
      "https://omcs-global-customer-persister-ge4.omcs-nonprod.r1.pks.dell.com/omcs-global-customer-persister/v1/Dashboard/GetTransformData?dpid=7040000447660\n"
     ]
    },
    {
     "name": "stderr",
     "output_type": "stream",
     "text": [
      "C:\\Users\\Satpum\\AppData\\Local\\anaconda3\\Lib\\site-packages\\urllib3\\connectionpool.py:1056: InsecureRequestWarning: Unverified HTTPS request is being made to host 'omcs-global-customer-persister-ge4.omcs-nonprod.r1.pks.dell.com'. Adding certificate verification is strongly advised. See: https://urllib3.readthedocs.io/en/1.26.x/advanced-usage.html#ssl-warnings\n",
      "  warnings.warn(\n"
     ]
    },
    {
     "name": "stdout",
     "output_type": "stream",
     "text": [
      "<class 'str'>\n",
      "null7040000447660\n",
      "7040000447657\n",
      "https://omcs-global-customer-persister-ge4.omcs-nonprod.r1.pks.dell.com/omcs-global-customer-persister/v1/Dashboard/GetTransformData?dpid=7040000447657\n"
     ]
    },
    {
     "name": "stderr",
     "output_type": "stream",
     "text": [
      "C:\\Users\\Satpum\\AppData\\Local\\anaconda3\\Lib\\site-packages\\urllib3\\connectionpool.py:1056: InsecureRequestWarning: Unverified HTTPS request is being made to host 'omcs-global-customer-persister-ge4.omcs-nonprod.r1.pks.dell.com'. Adding certificate verification is strongly advised. See: https://urllib3.readthedocs.io/en/1.26.x/advanced-usage.html#ssl-warnings\n",
      "  warnings.warn(\n"
     ]
    },
    {
     "name": "stdout",
     "output_type": "stream",
     "text": [
      "<class 'str'>\n",
      "null7040000447657\n",
      "7040000447656\n",
      "https://omcs-global-customer-persister-ge4.omcs-nonprod.r1.pks.dell.com/omcs-global-customer-persister/v1/Dashboard/GetTransformData?dpid=7040000447656\n"
     ]
    },
    {
     "name": "stderr",
     "output_type": "stream",
     "text": [
      "C:\\Users\\Satpum\\AppData\\Local\\anaconda3\\Lib\\site-packages\\urllib3\\connectionpool.py:1056: InsecureRequestWarning: Unverified HTTPS request is being made to host 'omcs-global-customer-persister-ge4.omcs-nonprod.r1.pks.dell.com'. Adding certificate verification is strongly advised. See: https://urllib3.readthedocs.io/en/1.26.x/advanced-usage.html#ssl-warnings\n",
      "  warnings.warn(\n"
     ]
    },
    {
     "name": "stdout",
     "output_type": "stream",
     "text": [
      "<class 'str'>\n",
      "null7040000447656\n",
      "7040000447655\n",
      "https://omcs-global-customer-persister-ge4.omcs-nonprod.r1.pks.dell.com/omcs-global-customer-persister/v1/Dashboard/GetTransformData?dpid=7040000447655\n"
     ]
    },
    {
     "name": "stderr",
     "output_type": "stream",
     "text": [
      "C:\\Users\\Satpum\\AppData\\Local\\anaconda3\\Lib\\site-packages\\urllib3\\connectionpool.py:1056: InsecureRequestWarning: Unverified HTTPS request is being made to host 'omcs-global-customer-persister-ge4.omcs-nonprod.r1.pks.dell.com'. Adding certificate verification is strongly advised. See: https://urllib3.readthedocs.io/en/1.26.x/advanced-usage.html#ssl-warnings\n",
      "  warnings.warn(\n"
     ]
    },
    {
     "name": "stdout",
     "output_type": "stream",
     "text": [
      "<class 'str'>\n",
      "null7040000447655\n",
      "7040000447651\n",
      "https://omcs-global-customer-persister-ge4.omcs-nonprod.r1.pks.dell.com/omcs-global-customer-persister/v1/Dashboard/GetTransformData?dpid=7040000447651\n"
     ]
    },
    {
     "name": "stderr",
     "output_type": "stream",
     "text": [
      "C:\\Users\\Satpum\\AppData\\Local\\anaconda3\\Lib\\site-packages\\urllib3\\connectionpool.py:1056: InsecureRequestWarning: Unverified HTTPS request is being made to host 'omcs-global-customer-persister-ge4.omcs-nonprod.r1.pks.dell.com'. Adding certificate verification is strongly advised. See: https://urllib3.readthedocs.io/en/1.26.x/advanced-usage.html#ssl-warnings\n",
      "  warnings.warn(\n"
     ]
    },
    {
     "name": "stdout",
     "output_type": "stream",
     "text": [
      "<class 'str'>\n",
      "null7040000447651\n",
      "7040000447650\n",
      "https://omcs-global-customer-persister-ge4.omcs-nonprod.r1.pks.dell.com/omcs-global-customer-persister/v1/Dashboard/GetTransformData?dpid=7040000447650\n"
     ]
    },
    {
     "name": "stderr",
     "output_type": "stream",
     "text": [
      "C:\\Users\\Satpum\\AppData\\Local\\anaconda3\\Lib\\site-packages\\urllib3\\connectionpool.py:1056: InsecureRequestWarning: Unverified HTTPS request is being made to host 'omcs-global-customer-persister-ge4.omcs-nonprod.r1.pks.dell.com'. Adding certificate verification is strongly advised. See: https://urllib3.readthedocs.io/en/1.26.x/advanced-usage.html#ssl-warnings\n",
      "  warnings.warn(\n"
     ]
    },
    {
     "name": "stdout",
     "output_type": "stream",
     "text": [
      "<class 'str'>\n",
      "null7040000447650\n",
      "7040000447649\n",
      "https://omcs-global-customer-persister-ge4.omcs-nonprod.r1.pks.dell.com/omcs-global-customer-persister/v1/Dashboard/GetTransformData?dpid=7040000447649\n"
     ]
    },
    {
     "name": "stderr",
     "output_type": "stream",
     "text": [
      "C:\\Users\\Satpum\\AppData\\Local\\anaconda3\\Lib\\site-packages\\urllib3\\connectionpool.py:1056: InsecureRequestWarning: Unverified HTTPS request is being made to host 'omcs-global-customer-persister-ge4.omcs-nonprod.r1.pks.dell.com'. Adding certificate verification is strongly advised. See: https://urllib3.readthedocs.io/en/1.26.x/advanced-usage.html#ssl-warnings\n",
      "  warnings.warn(\n"
     ]
    },
    {
     "name": "stdout",
     "output_type": "stream",
     "text": [
      "<class 'str'>\n",
      "null7040000447649\n",
      "7040000447648\n",
      "https://omcs-global-customer-persister-ge4.omcs-nonprod.r1.pks.dell.com/omcs-global-customer-persister/v1/Dashboard/GetTransformData?dpid=7040000447648\n"
     ]
    },
    {
     "name": "stderr",
     "output_type": "stream",
     "text": [
      "C:\\Users\\Satpum\\AppData\\Local\\anaconda3\\Lib\\site-packages\\urllib3\\connectionpool.py:1056: InsecureRequestWarning: Unverified HTTPS request is being made to host 'omcs-global-customer-persister-ge4.omcs-nonprod.r1.pks.dell.com'. Adding certificate verification is strongly advised. See: https://urllib3.readthedocs.io/en/1.26.x/advanced-usage.html#ssl-warnings\n",
      "  warnings.warn(\n"
     ]
    },
    {
     "name": "stdout",
     "output_type": "stream",
     "text": [
      "<class 'str'>\n",
      "null7040000447648\n",
      "7040000447645\n",
      "https://omcs-global-customer-persister-ge4.omcs-nonprod.r1.pks.dell.com/omcs-global-customer-persister/v1/Dashboard/GetTransformData?dpid=7040000447645\n"
     ]
    },
    {
     "name": "stderr",
     "output_type": "stream",
     "text": [
      "C:\\Users\\Satpum\\AppData\\Local\\anaconda3\\Lib\\site-packages\\urllib3\\connectionpool.py:1056: InsecureRequestWarning: Unverified HTTPS request is being made to host 'omcs-global-customer-persister-ge4.omcs-nonprod.r1.pks.dell.com'. Adding certificate verification is strongly advised. See: https://urllib3.readthedocs.io/en/1.26.x/advanced-usage.html#ssl-warnings\n",
      "  warnings.warn(\n"
     ]
    },
    {
     "name": "stdout",
     "output_type": "stream",
     "text": [
      "<class 'str'>\n",
      "null7040000447645\n",
      "7040000447644\n",
      "https://omcs-global-customer-persister-ge4.omcs-nonprod.r1.pks.dell.com/omcs-global-customer-persister/v1/Dashboard/GetTransformData?dpid=7040000447644\n"
     ]
    },
    {
     "name": "stderr",
     "output_type": "stream",
     "text": [
      "C:\\Users\\Satpum\\AppData\\Local\\anaconda3\\Lib\\site-packages\\urllib3\\connectionpool.py:1056: InsecureRequestWarning: Unverified HTTPS request is being made to host 'omcs-global-customer-persister-ge4.omcs-nonprod.r1.pks.dell.com'. Adding certificate verification is strongly advised. See: https://urllib3.readthedocs.io/en/1.26.x/advanced-usage.html#ssl-warnings\n",
      "  warnings.warn(\n"
     ]
    },
    {
     "name": "stdout",
     "output_type": "stream",
     "text": [
      "<class 'str'>\n",
      "null7040000447644\n",
      "7040000447638\n",
      "https://omcs-global-customer-persister-ge4.omcs-nonprod.r1.pks.dell.com/omcs-global-customer-persister/v1/Dashboard/GetTransformData?dpid=7040000447638\n"
     ]
    },
    {
     "name": "stderr",
     "output_type": "stream",
     "text": [
      "C:\\Users\\Satpum\\AppData\\Local\\anaconda3\\Lib\\site-packages\\urllib3\\connectionpool.py:1056: InsecureRequestWarning: Unverified HTTPS request is being made to host 'omcs-global-customer-persister-ge4.omcs-nonprod.r1.pks.dell.com'. Adding certificate verification is strongly advised. See: https://urllib3.readthedocs.io/en/1.26.x/advanced-usage.html#ssl-warnings\n",
      "  warnings.warn(\n"
     ]
    },
    {
     "name": "stdout",
     "output_type": "stream",
     "text": [
      "<class 'str'>\n",
      "null7040000447638\n",
      "7040000447637\n",
      "https://omcs-global-customer-persister-ge4.omcs-nonprod.r1.pks.dell.com/omcs-global-customer-persister/v1/Dashboard/GetTransformData?dpid=7040000447637\n"
     ]
    },
    {
     "name": "stderr",
     "output_type": "stream",
     "text": [
      "C:\\Users\\Satpum\\AppData\\Local\\anaconda3\\Lib\\site-packages\\urllib3\\connectionpool.py:1056: InsecureRequestWarning: Unverified HTTPS request is being made to host 'omcs-global-customer-persister-ge4.omcs-nonprod.r1.pks.dell.com'. Adding certificate verification is strongly advised. See: https://urllib3.readthedocs.io/en/1.26.x/advanced-usage.html#ssl-warnings\n",
      "  warnings.warn(\n"
     ]
    },
    {
     "name": "stdout",
     "output_type": "stream",
     "text": [
      "<class 'str'>\n",
      "null7040000447637\n",
      "7040000447621\n",
      "https://omcs-global-customer-persister-ge4.omcs-nonprod.r1.pks.dell.com/omcs-global-customer-persister/v1/Dashboard/GetTransformData?dpid=7040000447621\n"
     ]
    },
    {
     "name": "stderr",
     "output_type": "stream",
     "text": [
      "C:\\Users\\Satpum\\AppData\\Local\\anaconda3\\Lib\\site-packages\\urllib3\\connectionpool.py:1056: InsecureRequestWarning: Unverified HTTPS request is being made to host 'omcs-global-customer-persister-ge4.omcs-nonprod.r1.pks.dell.com'. Adding certificate verification is strongly advised. See: https://urllib3.readthedocs.io/en/1.26.x/advanced-usage.html#ssl-warnings\n",
      "  warnings.warn(\n"
     ]
    },
    {
     "name": "stdout",
     "output_type": "stream",
     "text": [
      "<class 'str'>\n",
      "null7040000447621\n",
      "7040000447615\n",
      "https://omcs-global-customer-persister-ge4.omcs-nonprod.r1.pks.dell.com/omcs-global-customer-persister/v1/Dashboard/GetTransformData?dpid=7040000447615\n"
     ]
    },
    {
     "name": "stderr",
     "output_type": "stream",
     "text": [
      "C:\\Users\\Satpum\\AppData\\Local\\anaconda3\\Lib\\site-packages\\urllib3\\connectionpool.py:1056: InsecureRequestWarning: Unverified HTTPS request is being made to host 'omcs-global-customer-persister-ge4.omcs-nonprod.r1.pks.dell.com'. Adding certificate verification is strongly advised. See: https://urllib3.readthedocs.io/en/1.26.x/advanced-usage.html#ssl-warnings\n",
      "  warnings.warn(\n"
     ]
    },
    {
     "name": "stdout",
     "output_type": "stream",
     "text": [
      "<class 'str'>\n",
      "null7040000447615\n",
      "7040000447610\n",
      "https://omcs-global-customer-persister-ge4.omcs-nonprod.r1.pks.dell.com/omcs-global-customer-persister/v1/Dashboard/GetTransformData?dpid=7040000447610\n"
     ]
    },
    {
     "name": "stderr",
     "output_type": "stream",
     "text": [
      "C:\\Users\\Satpum\\AppData\\Local\\anaconda3\\Lib\\site-packages\\urllib3\\connectionpool.py:1056: InsecureRequestWarning: Unverified HTTPS request is being made to host 'omcs-global-customer-persister-ge4.omcs-nonprod.r1.pks.dell.com'. Adding certificate verification is strongly advised. See: https://urllib3.readthedocs.io/en/1.26.x/advanced-usage.html#ssl-warnings\n",
      "  warnings.warn(\n"
     ]
    },
    {
     "name": "stdout",
     "output_type": "stream",
     "text": [
      "<class 'str'>\n",
      "not null\n",
      "7040000447606\n",
      "https://omcs-global-customer-persister-ge4.omcs-nonprod.r1.pks.dell.com/omcs-global-customer-persister/v1/Dashboard/GetTransformData?dpid=7040000447606\n"
     ]
    },
    {
     "name": "stderr",
     "output_type": "stream",
     "text": [
      "C:\\Users\\Satpum\\AppData\\Local\\anaconda3\\Lib\\site-packages\\urllib3\\connectionpool.py:1056: InsecureRequestWarning: Unverified HTTPS request is being made to host 'omcs-global-customer-persister-ge4.omcs-nonprod.r1.pks.dell.com'. Adding certificate verification is strongly advised. See: https://urllib3.readthedocs.io/en/1.26.x/advanced-usage.html#ssl-warnings\n",
      "  warnings.warn(\n"
     ]
    },
    {
     "name": "stdout",
     "output_type": "stream",
     "text": [
      "<class 'str'>\n",
      "null7040000447606\n",
      "7040000447605\n",
      "https://omcs-global-customer-persister-ge4.omcs-nonprod.r1.pks.dell.com/omcs-global-customer-persister/v1/Dashboard/GetTransformData?dpid=7040000447605\n"
     ]
    },
    {
     "name": "stderr",
     "output_type": "stream",
     "text": [
      "C:\\Users\\Satpum\\AppData\\Local\\anaconda3\\Lib\\site-packages\\urllib3\\connectionpool.py:1056: InsecureRequestWarning: Unverified HTTPS request is being made to host 'omcs-global-customer-persister-ge4.omcs-nonprod.r1.pks.dell.com'. Adding certificate verification is strongly advised. See: https://urllib3.readthedocs.io/en/1.26.x/advanced-usage.html#ssl-warnings\n",
      "  warnings.warn(\n"
     ]
    },
    {
     "name": "stdout",
     "output_type": "stream",
     "text": [
      "<class 'str'>\n",
      "null7040000447605\n",
      "7040000447604\n",
      "https://omcs-global-customer-persister-ge4.omcs-nonprod.r1.pks.dell.com/omcs-global-customer-persister/v1/Dashboard/GetTransformData?dpid=7040000447604\n"
     ]
    },
    {
     "name": "stderr",
     "output_type": "stream",
     "text": [
      "C:\\Users\\Satpum\\AppData\\Local\\anaconda3\\Lib\\site-packages\\urllib3\\connectionpool.py:1056: InsecureRequestWarning: Unverified HTTPS request is being made to host 'omcs-global-customer-persister-ge4.omcs-nonprod.r1.pks.dell.com'. Adding certificate verification is strongly advised. See: https://urllib3.readthedocs.io/en/1.26.x/advanced-usage.html#ssl-warnings\n",
      "  warnings.warn(\n"
     ]
    },
    {
     "name": "stdout",
     "output_type": "stream",
     "text": [
      "<class 'str'>\n",
      "null7040000447604\n",
      "7040000447603\n",
      "https://omcs-global-customer-persister-ge4.omcs-nonprod.r1.pks.dell.com/omcs-global-customer-persister/v1/Dashboard/GetTransformData?dpid=7040000447603\n"
     ]
    },
    {
     "name": "stderr",
     "output_type": "stream",
     "text": [
      "C:\\Users\\Satpum\\AppData\\Local\\anaconda3\\Lib\\site-packages\\urllib3\\connectionpool.py:1056: InsecureRequestWarning: Unverified HTTPS request is being made to host 'omcs-global-customer-persister-ge4.omcs-nonprod.r1.pks.dell.com'. Adding certificate verification is strongly advised. See: https://urllib3.readthedocs.io/en/1.26.x/advanced-usage.html#ssl-warnings\n",
      "  warnings.warn(\n"
     ]
    },
    {
     "name": "stdout",
     "output_type": "stream",
     "text": [
      "<class 'str'>\n",
      "null7040000447603\n",
      "7040000447602\n",
      "https://omcs-global-customer-persister-ge4.omcs-nonprod.r1.pks.dell.com/omcs-global-customer-persister/v1/Dashboard/GetTransformData?dpid=7040000447602\n"
     ]
    },
    {
     "name": "stderr",
     "output_type": "stream",
     "text": [
      "C:\\Users\\Satpum\\AppData\\Local\\anaconda3\\Lib\\site-packages\\urllib3\\connectionpool.py:1056: InsecureRequestWarning: Unverified HTTPS request is being made to host 'omcs-global-customer-persister-ge4.omcs-nonprod.r1.pks.dell.com'. Adding certificate verification is strongly advised. See: https://urllib3.readthedocs.io/en/1.26.x/advanced-usage.html#ssl-warnings\n",
      "  warnings.warn(\n"
     ]
    },
    {
     "name": "stdout",
     "output_type": "stream",
     "text": [
      "<class 'str'>\n",
      "null7040000447602\n",
      "7040000447601\n",
      "https://omcs-global-customer-persister-ge4.omcs-nonprod.r1.pks.dell.com/omcs-global-customer-persister/v1/Dashboard/GetTransformData?dpid=7040000447601\n"
     ]
    },
    {
     "name": "stderr",
     "output_type": "stream",
     "text": [
      "C:\\Users\\Satpum\\AppData\\Local\\anaconda3\\Lib\\site-packages\\urllib3\\connectionpool.py:1056: InsecureRequestWarning: Unverified HTTPS request is being made to host 'omcs-global-customer-persister-ge4.omcs-nonprod.r1.pks.dell.com'. Adding certificate verification is strongly advised. See: https://urllib3.readthedocs.io/en/1.26.x/advanced-usage.html#ssl-warnings\n",
      "  warnings.warn(\n"
     ]
    },
    {
     "name": "stdout",
     "output_type": "stream",
     "text": [
      "<class 'str'>\n",
      "null7040000447601\n",
      "7040000447600\n",
      "https://omcs-global-customer-persister-ge4.omcs-nonprod.r1.pks.dell.com/omcs-global-customer-persister/v1/Dashboard/GetTransformData?dpid=7040000447600\n"
     ]
    },
    {
     "name": "stderr",
     "output_type": "stream",
     "text": [
      "C:\\Users\\Satpum\\AppData\\Local\\anaconda3\\Lib\\site-packages\\urllib3\\connectionpool.py:1056: InsecureRequestWarning: Unverified HTTPS request is being made to host 'omcs-global-customer-persister-ge4.omcs-nonprod.r1.pks.dell.com'. Adding certificate verification is strongly advised. See: https://urllib3.readthedocs.io/en/1.26.x/advanced-usage.html#ssl-warnings\n",
      "  warnings.warn(\n"
     ]
    },
    {
     "name": "stdout",
     "output_type": "stream",
     "text": [
      "<class 'str'>\n",
      "null7040000447600\n",
      "7040000447599\n",
      "https://omcs-global-customer-persister-ge4.omcs-nonprod.r1.pks.dell.com/omcs-global-customer-persister/v1/Dashboard/GetTransformData?dpid=7040000447599\n"
     ]
    },
    {
     "name": "stderr",
     "output_type": "stream",
     "text": [
      "C:\\Users\\Satpum\\AppData\\Local\\anaconda3\\Lib\\site-packages\\urllib3\\connectionpool.py:1056: InsecureRequestWarning: Unverified HTTPS request is being made to host 'omcs-global-customer-persister-ge4.omcs-nonprod.r1.pks.dell.com'. Adding certificate verification is strongly advised. See: https://urllib3.readthedocs.io/en/1.26.x/advanced-usage.html#ssl-warnings\n",
      "  warnings.warn(\n"
     ]
    },
    {
     "name": "stdout",
     "output_type": "stream",
     "text": [
      "<class 'str'>\n",
      "null7040000447599\n",
      "7040000447597\n",
      "https://omcs-global-customer-persister-ge4.omcs-nonprod.r1.pks.dell.com/omcs-global-customer-persister/v1/Dashboard/GetTransformData?dpid=7040000447597\n"
     ]
    },
    {
     "name": "stderr",
     "output_type": "stream",
     "text": [
      "C:\\Users\\Satpum\\AppData\\Local\\anaconda3\\Lib\\site-packages\\urllib3\\connectionpool.py:1056: InsecureRequestWarning: Unverified HTTPS request is being made to host 'omcs-global-customer-persister-ge4.omcs-nonprod.r1.pks.dell.com'. Adding certificate verification is strongly advised. See: https://urllib3.readthedocs.io/en/1.26.x/advanced-usage.html#ssl-warnings\n",
      "  warnings.warn(\n"
     ]
    },
    {
     "name": "stdout",
     "output_type": "stream",
     "text": [
      "<class 'str'>\n",
      "null7040000447597\n",
      "7040000447596\n",
      "https://omcs-global-customer-persister-ge4.omcs-nonprod.r1.pks.dell.com/omcs-global-customer-persister/v1/Dashboard/GetTransformData?dpid=7040000447596\n"
     ]
    },
    {
     "name": "stderr",
     "output_type": "stream",
     "text": [
      "C:\\Users\\Satpum\\AppData\\Local\\anaconda3\\Lib\\site-packages\\urllib3\\connectionpool.py:1056: InsecureRequestWarning: Unverified HTTPS request is being made to host 'omcs-global-customer-persister-ge4.omcs-nonprod.r1.pks.dell.com'. Adding certificate verification is strongly advised. See: https://urllib3.readthedocs.io/en/1.26.x/advanced-usage.html#ssl-warnings\n",
      "  warnings.warn(\n"
     ]
    },
    {
     "name": "stdout",
     "output_type": "stream",
     "text": [
      "<class 'str'>\n",
      "null7040000447596\n",
      "7040000447595\n",
      "https://omcs-global-customer-persister-ge4.omcs-nonprod.r1.pks.dell.com/omcs-global-customer-persister/v1/Dashboard/GetTransformData?dpid=7040000447595\n"
     ]
    },
    {
     "name": "stderr",
     "output_type": "stream",
     "text": [
      "C:\\Users\\Satpum\\AppData\\Local\\anaconda3\\Lib\\site-packages\\urllib3\\connectionpool.py:1056: InsecureRequestWarning: Unverified HTTPS request is being made to host 'omcs-global-customer-persister-ge4.omcs-nonprod.r1.pks.dell.com'. Adding certificate verification is strongly advised. See: https://urllib3.readthedocs.io/en/1.26.x/advanced-usage.html#ssl-warnings\n",
      "  warnings.warn(\n"
     ]
    },
    {
     "name": "stdout",
     "output_type": "stream",
     "text": [
      "<class 'str'>\n",
      "null7040000447595\n",
      "7040000447589\n",
      "https://omcs-global-customer-persister-ge4.omcs-nonprod.r1.pks.dell.com/omcs-global-customer-persister/v1/Dashboard/GetTransformData?dpid=7040000447589\n"
     ]
    },
    {
     "name": "stderr",
     "output_type": "stream",
     "text": [
      "C:\\Users\\Satpum\\AppData\\Local\\anaconda3\\Lib\\site-packages\\urllib3\\connectionpool.py:1056: InsecureRequestWarning: Unverified HTTPS request is being made to host 'omcs-global-customer-persister-ge4.omcs-nonprod.r1.pks.dell.com'. Adding certificate verification is strongly advised. See: https://urllib3.readthedocs.io/en/1.26.x/advanced-usage.html#ssl-warnings\n",
      "  warnings.warn(\n"
     ]
    },
    {
     "name": "stdout",
     "output_type": "stream",
     "text": [
      "<class 'str'>\n",
      "null7040000447589\n",
      "7040000447567\n",
      "https://omcs-global-customer-persister-ge4.omcs-nonprod.r1.pks.dell.com/omcs-global-customer-persister/v1/Dashboard/GetTransformData?dpid=7040000447567\n"
     ]
    },
    {
     "name": "stderr",
     "output_type": "stream",
     "text": [
      "C:\\Users\\Satpum\\AppData\\Local\\anaconda3\\Lib\\site-packages\\urllib3\\connectionpool.py:1056: InsecureRequestWarning: Unverified HTTPS request is being made to host 'omcs-global-customer-persister-ge4.omcs-nonprod.r1.pks.dell.com'. Adding certificate verification is strongly advised. See: https://urllib3.readthedocs.io/en/1.26.x/advanced-usage.html#ssl-warnings\n",
      "  warnings.warn(\n"
     ]
    },
    {
     "name": "stdout",
     "output_type": "stream",
     "text": [
      "<class 'str'>\n",
      "not null\n",
      "7040000447566\n",
      "https://omcs-global-customer-persister-ge4.omcs-nonprod.r1.pks.dell.com/omcs-global-customer-persister/v1/Dashboard/GetTransformData?dpid=7040000447566\n"
     ]
    },
    {
     "name": "stderr",
     "output_type": "stream",
     "text": [
      "C:\\Users\\Satpum\\AppData\\Local\\anaconda3\\Lib\\site-packages\\urllib3\\connectionpool.py:1056: InsecureRequestWarning: Unverified HTTPS request is being made to host 'omcs-global-customer-persister-ge4.omcs-nonprod.r1.pks.dell.com'. Adding certificate verification is strongly advised. See: https://urllib3.readthedocs.io/en/1.26.x/advanced-usage.html#ssl-warnings\n",
      "  warnings.warn(\n"
     ]
    },
    {
     "name": "stdout",
     "output_type": "stream",
     "text": [
      "<class 'str'>\n",
      "not null\n",
      "7040000447565\n",
      "https://omcs-global-customer-persister-ge4.omcs-nonprod.r1.pks.dell.com/omcs-global-customer-persister/v1/Dashboard/GetTransformData?dpid=7040000447565\n"
     ]
    },
    {
     "name": "stderr",
     "output_type": "stream",
     "text": [
      "C:\\Users\\Satpum\\AppData\\Local\\anaconda3\\Lib\\site-packages\\urllib3\\connectionpool.py:1056: InsecureRequestWarning: Unverified HTTPS request is being made to host 'omcs-global-customer-persister-ge4.omcs-nonprod.r1.pks.dell.com'. Adding certificate verification is strongly advised. See: https://urllib3.readthedocs.io/en/1.26.x/advanced-usage.html#ssl-warnings\n",
      "  warnings.warn(\n"
     ]
    },
    {
     "name": "stdout",
     "output_type": "stream",
     "text": [
      "<class 'str'>\n",
      "not null\n",
      "7040000447561\n",
      "https://omcs-global-customer-persister-ge4.omcs-nonprod.r1.pks.dell.com/omcs-global-customer-persister/v1/Dashboard/GetTransformData?dpid=7040000447561\n"
     ]
    },
    {
     "name": "stderr",
     "output_type": "stream",
     "text": [
      "C:\\Users\\Satpum\\AppData\\Local\\anaconda3\\Lib\\site-packages\\urllib3\\connectionpool.py:1056: InsecureRequestWarning: Unverified HTTPS request is being made to host 'omcs-global-customer-persister-ge4.omcs-nonprod.r1.pks.dell.com'. Adding certificate verification is strongly advised. See: https://urllib3.readthedocs.io/en/1.26.x/advanced-usage.html#ssl-warnings\n",
      "  warnings.warn(\n"
     ]
    },
    {
     "name": "stdout",
     "output_type": "stream",
     "text": [
      "<class 'str'>\n",
      "not null\n",
      "7040000447556\n",
      "https://omcs-global-customer-persister-ge4.omcs-nonprod.r1.pks.dell.com/omcs-global-customer-persister/v1/Dashboard/GetTransformData?dpid=7040000447556\n"
     ]
    },
    {
     "name": "stderr",
     "output_type": "stream",
     "text": [
      "C:\\Users\\Satpum\\AppData\\Local\\anaconda3\\Lib\\site-packages\\urllib3\\connectionpool.py:1056: InsecureRequestWarning: Unverified HTTPS request is being made to host 'omcs-global-customer-persister-ge4.omcs-nonprod.r1.pks.dell.com'. Adding certificate verification is strongly advised. See: https://urllib3.readthedocs.io/en/1.26.x/advanced-usage.html#ssl-warnings\n",
      "  warnings.warn(\n"
     ]
    },
    {
     "name": "stdout",
     "output_type": "stream",
     "text": [
      "<class 'str'>\n",
      "not null\n",
      "7040000447555\n",
      "https://omcs-global-customer-persister-ge4.omcs-nonprod.r1.pks.dell.com/omcs-global-customer-persister/v1/Dashboard/GetTransformData?dpid=7040000447555\n"
     ]
    },
    {
     "name": "stderr",
     "output_type": "stream",
     "text": [
      "C:\\Users\\Satpum\\AppData\\Local\\anaconda3\\Lib\\site-packages\\urllib3\\connectionpool.py:1056: InsecureRequestWarning: Unverified HTTPS request is being made to host 'omcs-global-customer-persister-ge4.omcs-nonprod.r1.pks.dell.com'. Adding certificate verification is strongly advised. See: https://urllib3.readthedocs.io/en/1.26.x/advanced-usage.html#ssl-warnings\n",
      "  warnings.warn(\n"
     ]
    },
    {
     "name": "stdout",
     "output_type": "stream",
     "text": [
      "<class 'str'>\n",
      "not null\n",
      "7040000447554\n",
      "https://omcs-global-customer-persister-ge4.omcs-nonprod.r1.pks.dell.com/omcs-global-customer-persister/v1/Dashboard/GetTransformData?dpid=7040000447554\n"
     ]
    },
    {
     "name": "stderr",
     "output_type": "stream",
     "text": [
      "C:\\Users\\Satpum\\AppData\\Local\\anaconda3\\Lib\\site-packages\\urllib3\\connectionpool.py:1056: InsecureRequestWarning: Unverified HTTPS request is being made to host 'omcs-global-customer-persister-ge4.omcs-nonprod.r1.pks.dell.com'. Adding certificate verification is strongly advised. See: https://urllib3.readthedocs.io/en/1.26.x/advanced-usage.html#ssl-warnings\n",
      "  warnings.warn(\n"
     ]
    },
    {
     "name": "stdout",
     "output_type": "stream",
     "text": [
      "<class 'str'>\n",
      "not null\n",
      "7040000447553\n",
      "https://omcs-global-customer-persister-ge4.omcs-nonprod.r1.pks.dell.com/omcs-global-customer-persister/v1/Dashboard/GetTransformData?dpid=7040000447553\n"
     ]
    },
    {
     "name": "stderr",
     "output_type": "stream",
     "text": [
      "C:\\Users\\Satpum\\AppData\\Local\\anaconda3\\Lib\\site-packages\\urllib3\\connectionpool.py:1056: InsecureRequestWarning: Unverified HTTPS request is being made to host 'omcs-global-customer-persister-ge4.omcs-nonprod.r1.pks.dell.com'. Adding certificate verification is strongly advised. See: https://urllib3.readthedocs.io/en/1.26.x/advanced-usage.html#ssl-warnings\n",
      "  warnings.warn(\n"
     ]
    },
    {
     "name": "stdout",
     "output_type": "stream",
     "text": [
      "<class 'str'>\n",
      "not null\n",
      "7040000447552\n",
      "https://omcs-global-customer-persister-ge4.omcs-nonprod.r1.pks.dell.com/omcs-global-customer-persister/v1/Dashboard/GetTransformData?dpid=7040000447552\n"
     ]
    },
    {
     "name": "stderr",
     "output_type": "stream",
     "text": [
      "C:\\Users\\Satpum\\AppData\\Local\\anaconda3\\Lib\\site-packages\\urllib3\\connectionpool.py:1056: InsecureRequestWarning: Unverified HTTPS request is being made to host 'omcs-global-customer-persister-ge4.omcs-nonprod.r1.pks.dell.com'. Adding certificate verification is strongly advised. See: https://urllib3.readthedocs.io/en/1.26.x/advanced-usage.html#ssl-warnings\n",
      "  warnings.warn(\n"
     ]
    },
    {
     "name": "stdout",
     "output_type": "stream",
     "text": [
      "<class 'str'>\n",
      "not null\n",
      "7040000447551\n",
      "https://omcs-global-customer-persister-ge4.omcs-nonprod.r1.pks.dell.com/omcs-global-customer-persister/v1/Dashboard/GetTransformData?dpid=7040000447551\n"
     ]
    },
    {
     "name": "stderr",
     "output_type": "stream",
     "text": [
      "C:\\Users\\Satpum\\AppData\\Local\\anaconda3\\Lib\\site-packages\\urllib3\\connectionpool.py:1056: InsecureRequestWarning: Unverified HTTPS request is being made to host 'omcs-global-customer-persister-ge4.omcs-nonprod.r1.pks.dell.com'. Adding certificate verification is strongly advised. See: https://urllib3.readthedocs.io/en/1.26.x/advanced-usage.html#ssl-warnings\n",
      "  warnings.warn(\n"
     ]
    },
    {
     "name": "stdout",
     "output_type": "stream",
     "text": [
      "<class 'str'>\n",
      "not null\n",
      "7040000447550\n",
      "https://omcs-global-customer-persister-ge4.omcs-nonprod.r1.pks.dell.com/omcs-global-customer-persister/v1/Dashboard/GetTransformData?dpid=7040000447550\n"
     ]
    },
    {
     "name": "stderr",
     "output_type": "stream",
     "text": [
      "C:\\Users\\Satpum\\AppData\\Local\\anaconda3\\Lib\\site-packages\\urllib3\\connectionpool.py:1056: InsecureRequestWarning: Unverified HTTPS request is being made to host 'omcs-global-customer-persister-ge4.omcs-nonprod.r1.pks.dell.com'. Adding certificate verification is strongly advised. See: https://urllib3.readthedocs.io/en/1.26.x/advanced-usage.html#ssl-warnings\n",
      "  warnings.warn(\n"
     ]
    },
    {
     "name": "stdout",
     "output_type": "stream",
     "text": [
      "<class 'str'>\n",
      "not null\n",
      "7040000447544\n",
      "https://omcs-global-customer-persister-ge4.omcs-nonprod.r1.pks.dell.com/omcs-global-customer-persister/v1/Dashboard/GetTransformData?dpid=7040000447544\n"
     ]
    },
    {
     "name": "stderr",
     "output_type": "stream",
     "text": [
      "C:\\Users\\Satpum\\AppData\\Local\\anaconda3\\Lib\\site-packages\\urllib3\\connectionpool.py:1056: InsecureRequestWarning: Unverified HTTPS request is being made to host 'omcs-global-customer-persister-ge4.omcs-nonprod.r1.pks.dell.com'. Adding certificate verification is strongly advised. See: https://urllib3.readthedocs.io/en/1.26.x/advanced-usage.html#ssl-warnings\n",
      "  warnings.warn(\n"
     ]
    },
    {
     "name": "stdout",
     "output_type": "stream",
     "text": [
      "<class 'str'>\n",
      "null7040000447544\n",
      "7040000447543\n",
      "https://omcs-global-customer-persister-ge4.omcs-nonprod.r1.pks.dell.com/omcs-global-customer-persister/v1/Dashboard/GetTransformData?dpid=7040000447543\n"
     ]
    },
    {
     "name": "stderr",
     "output_type": "stream",
     "text": [
      "C:\\Users\\Satpum\\AppData\\Local\\anaconda3\\Lib\\site-packages\\urllib3\\connectionpool.py:1056: InsecureRequestWarning: Unverified HTTPS request is being made to host 'omcs-global-customer-persister-ge4.omcs-nonprod.r1.pks.dell.com'. Adding certificate verification is strongly advised. See: https://urllib3.readthedocs.io/en/1.26.x/advanced-usage.html#ssl-warnings\n",
      "  warnings.warn(\n"
     ]
    },
    {
     "name": "stdout",
     "output_type": "stream",
     "text": [
      "<class 'str'>\n",
      "null7040000447543\n",
      "7040000447542\n",
      "https://omcs-global-customer-persister-ge4.omcs-nonprod.r1.pks.dell.com/omcs-global-customer-persister/v1/Dashboard/GetTransformData?dpid=7040000447542\n"
     ]
    },
    {
     "name": "stderr",
     "output_type": "stream",
     "text": [
      "C:\\Users\\Satpum\\AppData\\Local\\anaconda3\\Lib\\site-packages\\urllib3\\connectionpool.py:1056: InsecureRequestWarning: Unverified HTTPS request is being made to host 'omcs-global-customer-persister-ge4.omcs-nonprod.r1.pks.dell.com'. Adding certificate verification is strongly advised. See: https://urllib3.readthedocs.io/en/1.26.x/advanced-usage.html#ssl-warnings\n",
      "  warnings.warn(\n"
     ]
    },
    {
     "name": "stdout",
     "output_type": "stream",
     "text": [
      "<class 'str'>\n",
      "null7040000447542\n",
      "7040000447541\n",
      "https://omcs-global-customer-persister-ge4.omcs-nonprod.r1.pks.dell.com/omcs-global-customer-persister/v1/Dashboard/GetTransformData?dpid=7040000447541\n"
     ]
    },
    {
     "name": "stderr",
     "output_type": "stream",
     "text": [
      "C:\\Users\\Satpum\\AppData\\Local\\anaconda3\\Lib\\site-packages\\urllib3\\connectionpool.py:1056: InsecureRequestWarning: Unverified HTTPS request is being made to host 'omcs-global-customer-persister-ge4.omcs-nonprod.r1.pks.dell.com'. Adding certificate verification is strongly advised. See: https://urllib3.readthedocs.io/en/1.26.x/advanced-usage.html#ssl-warnings\n",
      "  warnings.warn(\n"
     ]
    },
    {
     "name": "stdout",
     "output_type": "stream",
     "text": [
      "<class 'str'>\n",
      "null7040000447541\n",
      "7040000447539\n",
      "https://omcs-global-customer-persister-ge4.omcs-nonprod.r1.pks.dell.com/omcs-global-customer-persister/v1/Dashboard/GetTransformData?dpid=7040000447539\n"
     ]
    },
    {
     "name": "stderr",
     "output_type": "stream",
     "text": [
      "C:\\Users\\Satpum\\AppData\\Local\\anaconda3\\Lib\\site-packages\\urllib3\\connectionpool.py:1056: InsecureRequestWarning: Unverified HTTPS request is being made to host 'omcs-global-customer-persister-ge4.omcs-nonprod.r1.pks.dell.com'. Adding certificate verification is strongly advised. See: https://urllib3.readthedocs.io/en/1.26.x/advanced-usage.html#ssl-warnings\n",
      "  warnings.warn(\n"
     ]
    },
    {
     "name": "stdout",
     "output_type": "stream",
     "text": [
      "<class 'str'>\n",
      "null7040000447539\n",
      "7040000447528\n",
      "https://omcs-global-customer-persister-ge4.omcs-nonprod.r1.pks.dell.com/omcs-global-customer-persister/v1/Dashboard/GetTransformData?dpid=7040000447528\n"
     ]
    },
    {
     "name": "stderr",
     "output_type": "stream",
     "text": [
      "C:\\Users\\Satpum\\AppData\\Local\\anaconda3\\Lib\\site-packages\\urllib3\\connectionpool.py:1056: InsecureRequestWarning: Unverified HTTPS request is being made to host 'omcs-global-customer-persister-ge4.omcs-nonprod.r1.pks.dell.com'. Adding certificate verification is strongly advised. See: https://urllib3.readthedocs.io/en/1.26.x/advanced-usage.html#ssl-warnings\n",
      "  warnings.warn(\n"
     ]
    },
    {
     "name": "stdout",
     "output_type": "stream",
     "text": [
      "<class 'str'>\n",
      "null7040000447528\n",
      "7040000447522\n",
      "https://omcs-global-customer-persister-ge4.omcs-nonprod.r1.pks.dell.com/omcs-global-customer-persister/v1/Dashboard/GetTransformData?dpid=7040000447522\n"
     ]
    },
    {
     "name": "stderr",
     "output_type": "stream",
     "text": [
      "C:\\Users\\Satpum\\AppData\\Local\\anaconda3\\Lib\\site-packages\\urllib3\\connectionpool.py:1056: InsecureRequestWarning: Unverified HTTPS request is being made to host 'omcs-global-customer-persister-ge4.omcs-nonprod.r1.pks.dell.com'. Adding certificate verification is strongly advised. See: https://urllib3.readthedocs.io/en/1.26.x/advanced-usage.html#ssl-warnings\n",
      "  warnings.warn(\n"
     ]
    },
    {
     "name": "stdout",
     "output_type": "stream",
     "text": [
      "<class 'str'>\n",
      "null7040000447522\n",
      "7040000447520\n",
      "https://omcs-global-customer-persister-ge4.omcs-nonprod.r1.pks.dell.com/omcs-global-customer-persister/v1/Dashboard/GetTransformData?dpid=7040000447520\n"
     ]
    },
    {
     "name": "stderr",
     "output_type": "stream",
     "text": [
      "C:\\Users\\Satpum\\AppData\\Local\\anaconda3\\Lib\\site-packages\\urllib3\\connectionpool.py:1056: InsecureRequestWarning: Unverified HTTPS request is being made to host 'omcs-global-customer-persister-ge4.omcs-nonprod.r1.pks.dell.com'. Adding certificate verification is strongly advised. See: https://urllib3.readthedocs.io/en/1.26.x/advanced-usage.html#ssl-warnings\n",
      "  warnings.warn(\n"
     ]
    },
    {
     "name": "stdout",
     "output_type": "stream",
     "text": [
      "<class 'str'>\n",
      "null7040000447520\n",
      "7040000447519\n",
      "https://omcs-global-customer-persister-ge4.omcs-nonprod.r1.pks.dell.com/omcs-global-customer-persister/v1/Dashboard/GetTransformData?dpid=7040000447519\n"
     ]
    },
    {
     "name": "stderr",
     "output_type": "stream",
     "text": [
      "C:\\Users\\Satpum\\AppData\\Local\\anaconda3\\Lib\\site-packages\\urllib3\\connectionpool.py:1056: InsecureRequestWarning: Unverified HTTPS request is being made to host 'omcs-global-customer-persister-ge4.omcs-nonprod.r1.pks.dell.com'. Adding certificate verification is strongly advised. See: https://urllib3.readthedocs.io/en/1.26.x/advanced-usage.html#ssl-warnings\n",
      "  warnings.warn(\n"
     ]
    },
    {
     "name": "stdout",
     "output_type": "stream",
     "text": [
      "<class 'str'>\n",
      "null7040000447519\n",
      "7040000447518\n",
      "https://omcs-global-customer-persister-ge4.omcs-nonprod.r1.pks.dell.com/omcs-global-customer-persister/v1/Dashboard/GetTransformData?dpid=7040000447518\n"
     ]
    },
    {
     "name": "stderr",
     "output_type": "stream",
     "text": [
      "C:\\Users\\Satpum\\AppData\\Local\\anaconda3\\Lib\\site-packages\\urllib3\\connectionpool.py:1056: InsecureRequestWarning: Unverified HTTPS request is being made to host 'omcs-global-customer-persister-ge4.omcs-nonprod.r1.pks.dell.com'. Adding certificate verification is strongly advised. See: https://urllib3.readthedocs.io/en/1.26.x/advanced-usage.html#ssl-warnings\n",
      "  warnings.warn(\n"
     ]
    },
    {
     "name": "stdout",
     "output_type": "stream",
     "text": [
      "<class 'str'>\n",
      "null7040000447518\n",
      "7040000447517\n",
      "https://omcs-global-customer-persister-ge4.omcs-nonprod.r1.pks.dell.com/omcs-global-customer-persister/v1/Dashboard/GetTransformData?dpid=7040000447517\n"
     ]
    },
    {
     "name": "stderr",
     "output_type": "stream",
     "text": [
      "C:\\Users\\Satpum\\AppData\\Local\\anaconda3\\Lib\\site-packages\\urllib3\\connectionpool.py:1056: InsecureRequestWarning: Unverified HTTPS request is being made to host 'omcs-global-customer-persister-ge4.omcs-nonprod.r1.pks.dell.com'. Adding certificate verification is strongly advised. See: https://urllib3.readthedocs.io/en/1.26.x/advanced-usage.html#ssl-warnings\n",
      "  warnings.warn(\n"
     ]
    },
    {
     "name": "stdout",
     "output_type": "stream",
     "text": [
      "<class 'str'>\n",
      "null7040000447517\n",
      "7040000447515\n",
      "https://omcs-global-customer-persister-ge4.omcs-nonprod.r1.pks.dell.com/omcs-global-customer-persister/v1/Dashboard/GetTransformData?dpid=7040000447515\n"
     ]
    },
    {
     "name": "stderr",
     "output_type": "stream",
     "text": [
      "C:\\Users\\Satpum\\AppData\\Local\\anaconda3\\Lib\\site-packages\\urllib3\\connectionpool.py:1056: InsecureRequestWarning: Unverified HTTPS request is being made to host 'omcs-global-customer-persister-ge4.omcs-nonprod.r1.pks.dell.com'. Adding certificate verification is strongly advised. See: https://urllib3.readthedocs.io/en/1.26.x/advanced-usage.html#ssl-warnings\n",
      "  warnings.warn(\n"
     ]
    },
    {
     "name": "stdout",
     "output_type": "stream",
     "text": [
      "<class 'str'>\n",
      "null7040000447515\n",
      "7040000447514\n",
      "https://omcs-global-customer-persister-ge4.omcs-nonprod.r1.pks.dell.com/omcs-global-customer-persister/v1/Dashboard/GetTransformData?dpid=7040000447514\n"
     ]
    },
    {
     "name": "stderr",
     "output_type": "stream",
     "text": [
      "C:\\Users\\Satpum\\AppData\\Local\\anaconda3\\Lib\\site-packages\\urllib3\\connectionpool.py:1056: InsecureRequestWarning: Unverified HTTPS request is being made to host 'omcs-global-customer-persister-ge4.omcs-nonprod.r1.pks.dell.com'. Adding certificate verification is strongly advised. See: https://urllib3.readthedocs.io/en/1.26.x/advanced-usage.html#ssl-warnings\n",
      "  warnings.warn(\n"
     ]
    },
    {
     "name": "stdout",
     "output_type": "stream",
     "text": [
      "<class 'str'>\n",
      "null7040000447514\n",
      "7040000447513\n",
      "https://omcs-global-customer-persister-ge4.omcs-nonprod.r1.pks.dell.com/omcs-global-customer-persister/v1/Dashboard/GetTransformData?dpid=7040000447513\n"
     ]
    },
    {
     "name": "stderr",
     "output_type": "stream",
     "text": [
      "C:\\Users\\Satpum\\AppData\\Local\\anaconda3\\Lib\\site-packages\\urllib3\\connectionpool.py:1056: InsecureRequestWarning: Unverified HTTPS request is being made to host 'omcs-global-customer-persister-ge4.omcs-nonprod.r1.pks.dell.com'. Adding certificate verification is strongly advised. See: https://urllib3.readthedocs.io/en/1.26.x/advanced-usage.html#ssl-warnings\n",
      "  warnings.warn(\n"
     ]
    },
    {
     "name": "stdout",
     "output_type": "stream",
     "text": [
      "<class 'str'>\n",
      "null7040000447513\n",
      "7040000447512\n",
      "https://omcs-global-customer-persister-ge4.omcs-nonprod.r1.pks.dell.com/omcs-global-customer-persister/v1/Dashboard/GetTransformData?dpid=7040000447512\n"
     ]
    },
    {
     "name": "stderr",
     "output_type": "stream",
     "text": [
      "C:\\Users\\Satpum\\AppData\\Local\\anaconda3\\Lib\\site-packages\\urllib3\\connectionpool.py:1056: InsecureRequestWarning: Unverified HTTPS request is being made to host 'omcs-global-customer-persister-ge4.omcs-nonprod.r1.pks.dell.com'. Adding certificate verification is strongly advised. See: https://urllib3.readthedocs.io/en/1.26.x/advanced-usage.html#ssl-warnings\n",
      "  warnings.warn(\n"
     ]
    },
    {
     "name": "stdout",
     "output_type": "stream",
     "text": [
      "<class 'str'>\n",
      "null7040000447512\n",
      "7040000447511\n",
      "https://omcs-global-customer-persister-ge4.omcs-nonprod.r1.pks.dell.com/omcs-global-customer-persister/v1/Dashboard/GetTransformData?dpid=7040000447511\n"
     ]
    },
    {
     "name": "stderr",
     "output_type": "stream",
     "text": [
      "C:\\Users\\Satpum\\AppData\\Local\\anaconda3\\Lib\\site-packages\\urllib3\\connectionpool.py:1056: InsecureRequestWarning: Unverified HTTPS request is being made to host 'omcs-global-customer-persister-ge4.omcs-nonprod.r1.pks.dell.com'. Adding certificate verification is strongly advised. See: https://urllib3.readthedocs.io/en/1.26.x/advanced-usage.html#ssl-warnings\n",
      "  warnings.warn(\n"
     ]
    },
    {
     "name": "stdout",
     "output_type": "stream",
     "text": [
      "<class 'str'>\n",
      "null7040000447511\n",
      "7040000447509\n",
      "https://omcs-global-customer-persister-ge4.omcs-nonprod.r1.pks.dell.com/omcs-global-customer-persister/v1/Dashboard/GetTransformData?dpid=7040000447509\n"
     ]
    },
    {
     "name": "stderr",
     "output_type": "stream",
     "text": [
      "C:\\Users\\Satpum\\AppData\\Local\\anaconda3\\Lib\\site-packages\\urllib3\\connectionpool.py:1056: InsecureRequestWarning: Unverified HTTPS request is being made to host 'omcs-global-customer-persister-ge4.omcs-nonprod.r1.pks.dell.com'. Adding certificate verification is strongly advised. See: https://urllib3.readthedocs.io/en/1.26.x/advanced-usage.html#ssl-warnings\n",
      "  warnings.warn(\n"
     ]
    },
    {
     "name": "stdout",
     "output_type": "stream",
     "text": [
      "<class 'str'>\n",
      "null7040000447509\n",
      "7040000447506\n",
      "https://omcs-global-customer-persister-ge4.omcs-nonprod.r1.pks.dell.com/omcs-global-customer-persister/v1/Dashboard/GetTransformData?dpid=7040000447506\n"
     ]
    },
    {
     "name": "stderr",
     "output_type": "stream",
     "text": [
      "C:\\Users\\Satpum\\AppData\\Local\\anaconda3\\Lib\\site-packages\\urllib3\\connectionpool.py:1056: InsecureRequestWarning: Unverified HTTPS request is being made to host 'omcs-global-customer-persister-ge4.omcs-nonprod.r1.pks.dell.com'. Adding certificate verification is strongly advised. See: https://urllib3.readthedocs.io/en/1.26.x/advanced-usage.html#ssl-warnings\n",
      "  warnings.warn(\n"
     ]
    },
    {
     "name": "stdout",
     "output_type": "stream",
     "text": [
      "<class 'str'>\n",
      "null7040000447506\n",
      "7040000447505\n",
      "https://omcs-global-customer-persister-ge4.omcs-nonprod.r1.pks.dell.com/omcs-global-customer-persister/v1/Dashboard/GetTransformData?dpid=7040000447505\n"
     ]
    },
    {
     "name": "stderr",
     "output_type": "stream",
     "text": [
      "C:\\Users\\Satpum\\AppData\\Local\\anaconda3\\Lib\\site-packages\\urllib3\\connectionpool.py:1056: InsecureRequestWarning: Unverified HTTPS request is being made to host 'omcs-global-customer-persister-ge4.omcs-nonprod.r1.pks.dell.com'. Adding certificate verification is strongly advised. See: https://urllib3.readthedocs.io/en/1.26.x/advanced-usage.html#ssl-warnings\n",
      "  warnings.warn(\n"
     ]
    },
    {
     "name": "stdout",
     "output_type": "stream",
     "text": [
      "<class 'str'>\n",
      "null7040000447505\n",
      "7040000447504\n",
      "https://omcs-global-customer-persister-ge4.omcs-nonprod.r1.pks.dell.com/omcs-global-customer-persister/v1/Dashboard/GetTransformData?dpid=7040000447504\n"
     ]
    },
    {
     "name": "stderr",
     "output_type": "stream",
     "text": [
      "C:\\Users\\Satpum\\AppData\\Local\\anaconda3\\Lib\\site-packages\\urllib3\\connectionpool.py:1056: InsecureRequestWarning: Unverified HTTPS request is being made to host 'omcs-global-customer-persister-ge4.omcs-nonprod.r1.pks.dell.com'. Adding certificate verification is strongly advised. See: https://urllib3.readthedocs.io/en/1.26.x/advanced-usage.html#ssl-warnings\n",
      "  warnings.warn(\n"
     ]
    },
    {
     "name": "stdout",
     "output_type": "stream",
     "text": [
      "<class 'str'>\n",
      "null7040000447504\n",
      "7040000447503\n",
      "https://omcs-global-customer-persister-ge4.omcs-nonprod.r1.pks.dell.com/omcs-global-customer-persister/v1/Dashboard/GetTransformData?dpid=7040000447503\n"
     ]
    },
    {
     "name": "stderr",
     "output_type": "stream",
     "text": [
      "C:\\Users\\Satpum\\AppData\\Local\\anaconda3\\Lib\\site-packages\\urllib3\\connectionpool.py:1056: InsecureRequestWarning: Unverified HTTPS request is being made to host 'omcs-global-customer-persister-ge4.omcs-nonprod.r1.pks.dell.com'. Adding certificate verification is strongly advised. See: https://urllib3.readthedocs.io/en/1.26.x/advanced-usage.html#ssl-warnings\n",
      "  warnings.warn(\n"
     ]
    },
    {
     "name": "stdout",
     "output_type": "stream",
     "text": [
      "<class 'str'>\n",
      "null7040000447503\n",
      "7040000447502\n",
      "https://omcs-global-customer-persister-ge4.omcs-nonprod.r1.pks.dell.com/omcs-global-customer-persister/v1/Dashboard/GetTransformData?dpid=7040000447502\n"
     ]
    },
    {
     "name": "stderr",
     "output_type": "stream",
     "text": [
      "C:\\Users\\Satpum\\AppData\\Local\\anaconda3\\Lib\\site-packages\\urllib3\\connectionpool.py:1056: InsecureRequestWarning: Unverified HTTPS request is being made to host 'omcs-global-customer-persister-ge4.omcs-nonprod.r1.pks.dell.com'. Adding certificate verification is strongly advised. See: https://urllib3.readthedocs.io/en/1.26.x/advanced-usage.html#ssl-warnings\n",
      "  warnings.warn(\n"
     ]
    },
    {
     "name": "stdout",
     "output_type": "stream",
     "text": [
      "<class 'str'>\n",
      "null7040000447502\n",
      "7040000447501\n",
      "https://omcs-global-customer-persister-ge4.omcs-nonprod.r1.pks.dell.com/omcs-global-customer-persister/v1/Dashboard/GetTransformData?dpid=7040000447501\n"
     ]
    },
    {
     "name": "stderr",
     "output_type": "stream",
     "text": [
      "C:\\Users\\Satpum\\AppData\\Local\\anaconda3\\Lib\\site-packages\\urllib3\\connectionpool.py:1056: InsecureRequestWarning: Unverified HTTPS request is being made to host 'omcs-global-customer-persister-ge4.omcs-nonprod.r1.pks.dell.com'. Adding certificate verification is strongly advised. See: https://urllib3.readthedocs.io/en/1.26.x/advanced-usage.html#ssl-warnings\n",
      "  warnings.warn(\n"
     ]
    },
    {
     "name": "stdout",
     "output_type": "stream",
     "text": [
      "<class 'str'>\n",
      "null7040000447501\n",
      "7040000447499\n",
      "https://omcs-global-customer-persister-ge4.omcs-nonprod.r1.pks.dell.com/omcs-global-customer-persister/v1/Dashboard/GetTransformData?dpid=7040000447499\n"
     ]
    },
    {
     "name": "stderr",
     "output_type": "stream",
     "text": [
      "C:\\Users\\Satpum\\AppData\\Local\\anaconda3\\Lib\\site-packages\\urllib3\\connectionpool.py:1056: InsecureRequestWarning: Unverified HTTPS request is being made to host 'omcs-global-customer-persister-ge4.omcs-nonprod.r1.pks.dell.com'. Adding certificate verification is strongly advised. See: https://urllib3.readthedocs.io/en/1.26.x/advanced-usage.html#ssl-warnings\n",
      "  warnings.warn(\n"
     ]
    },
    {
     "name": "stdout",
     "output_type": "stream",
     "text": [
      "<class 'str'>\n",
      "null7040000447499\n",
      "7040000447497\n",
      "https://omcs-global-customer-persister-ge4.omcs-nonprod.r1.pks.dell.com/omcs-global-customer-persister/v1/Dashboard/GetTransformData?dpid=7040000447497\n"
     ]
    },
    {
     "name": "stderr",
     "output_type": "stream",
     "text": [
      "C:\\Users\\Satpum\\AppData\\Local\\anaconda3\\Lib\\site-packages\\urllib3\\connectionpool.py:1056: InsecureRequestWarning: Unverified HTTPS request is being made to host 'omcs-global-customer-persister-ge4.omcs-nonprod.r1.pks.dell.com'. Adding certificate verification is strongly advised. See: https://urllib3.readthedocs.io/en/1.26.x/advanced-usage.html#ssl-warnings\n",
      "  warnings.warn(\n"
     ]
    },
    {
     "name": "stdout",
     "output_type": "stream",
     "text": [
      "<class 'str'>\n",
      "null7040000447497\n",
      "7040000447496\n",
      "https://omcs-global-customer-persister-ge4.omcs-nonprod.r1.pks.dell.com/omcs-global-customer-persister/v1/Dashboard/GetTransformData?dpid=7040000447496\n"
     ]
    },
    {
     "name": "stderr",
     "output_type": "stream",
     "text": [
      "C:\\Users\\Satpum\\AppData\\Local\\anaconda3\\Lib\\site-packages\\urllib3\\connectionpool.py:1056: InsecureRequestWarning: Unverified HTTPS request is being made to host 'omcs-global-customer-persister-ge4.omcs-nonprod.r1.pks.dell.com'. Adding certificate verification is strongly advised. See: https://urllib3.readthedocs.io/en/1.26.x/advanced-usage.html#ssl-warnings\n",
      "  warnings.warn(\n"
     ]
    },
    {
     "name": "stdout",
     "output_type": "stream",
     "text": [
      "<class 'str'>\n",
      "null7040000447496\n",
      "7040000447495\n",
      "https://omcs-global-customer-persister-ge4.omcs-nonprod.r1.pks.dell.com/omcs-global-customer-persister/v1/Dashboard/GetTransformData?dpid=7040000447495\n"
     ]
    },
    {
     "name": "stderr",
     "output_type": "stream",
     "text": [
      "C:\\Users\\Satpum\\AppData\\Local\\anaconda3\\Lib\\site-packages\\urllib3\\connectionpool.py:1056: InsecureRequestWarning: Unverified HTTPS request is being made to host 'omcs-global-customer-persister-ge4.omcs-nonprod.r1.pks.dell.com'. Adding certificate verification is strongly advised. See: https://urllib3.readthedocs.io/en/1.26.x/advanced-usage.html#ssl-warnings\n",
      "  warnings.warn(\n"
     ]
    },
    {
     "name": "stdout",
     "output_type": "stream",
     "text": [
      "<class 'str'>\n",
      "null7040000447495\n",
      "7040000447494\n",
      "https://omcs-global-customer-persister-ge4.omcs-nonprod.r1.pks.dell.com/omcs-global-customer-persister/v1/Dashboard/GetTransformData?dpid=7040000447494\n"
     ]
    },
    {
     "name": "stderr",
     "output_type": "stream",
     "text": [
      "C:\\Users\\Satpum\\AppData\\Local\\anaconda3\\Lib\\site-packages\\urllib3\\connectionpool.py:1056: InsecureRequestWarning: Unverified HTTPS request is being made to host 'omcs-global-customer-persister-ge4.omcs-nonprod.r1.pks.dell.com'. Adding certificate verification is strongly advised. See: https://urllib3.readthedocs.io/en/1.26.x/advanced-usage.html#ssl-warnings\n",
      "  warnings.warn(\n"
     ]
    },
    {
     "name": "stdout",
     "output_type": "stream",
     "text": [
      "<class 'str'>\n",
      "null7040000447494\n",
      "7040000447493\n",
      "https://omcs-global-customer-persister-ge4.omcs-nonprod.r1.pks.dell.com/omcs-global-customer-persister/v1/Dashboard/GetTransformData?dpid=7040000447493\n"
     ]
    },
    {
     "name": "stderr",
     "output_type": "stream",
     "text": [
      "C:\\Users\\Satpum\\AppData\\Local\\anaconda3\\Lib\\site-packages\\urllib3\\connectionpool.py:1056: InsecureRequestWarning: Unverified HTTPS request is being made to host 'omcs-global-customer-persister-ge4.omcs-nonprod.r1.pks.dell.com'. Adding certificate verification is strongly advised. See: https://urllib3.readthedocs.io/en/1.26.x/advanced-usage.html#ssl-warnings\n",
      "  warnings.warn(\n"
     ]
    },
    {
     "name": "stdout",
     "output_type": "stream",
     "text": [
      "<class 'str'>\n",
      "null7040000447493\n",
      "7040000447492\n",
      "https://omcs-global-customer-persister-ge4.omcs-nonprod.r1.pks.dell.com/omcs-global-customer-persister/v1/Dashboard/GetTransformData?dpid=7040000447492\n"
     ]
    },
    {
     "name": "stderr",
     "output_type": "stream",
     "text": [
      "C:\\Users\\Satpum\\AppData\\Local\\anaconda3\\Lib\\site-packages\\urllib3\\connectionpool.py:1056: InsecureRequestWarning: Unverified HTTPS request is being made to host 'omcs-global-customer-persister-ge4.omcs-nonprod.r1.pks.dell.com'. Adding certificate verification is strongly advised. See: https://urllib3.readthedocs.io/en/1.26.x/advanced-usage.html#ssl-warnings\n",
      "  warnings.warn(\n"
     ]
    },
    {
     "name": "stdout",
     "output_type": "stream",
     "text": [
      "<class 'str'>\n",
      "null7040000447492\n",
      "7040000447491\n",
      "https://omcs-global-customer-persister-ge4.omcs-nonprod.r1.pks.dell.com/omcs-global-customer-persister/v1/Dashboard/GetTransformData?dpid=7040000447491\n"
     ]
    },
    {
     "name": "stderr",
     "output_type": "stream",
     "text": [
      "C:\\Users\\Satpum\\AppData\\Local\\anaconda3\\Lib\\site-packages\\urllib3\\connectionpool.py:1056: InsecureRequestWarning: Unverified HTTPS request is being made to host 'omcs-global-customer-persister-ge4.omcs-nonprod.r1.pks.dell.com'. Adding certificate verification is strongly advised. See: https://urllib3.readthedocs.io/en/1.26.x/advanced-usage.html#ssl-warnings\n",
      "  warnings.warn(\n"
     ]
    },
    {
     "name": "stdout",
     "output_type": "stream",
     "text": [
      "<class 'str'>\n",
      "null7040000447491\n",
      "7040000447490\n",
      "https://omcs-global-customer-persister-ge4.omcs-nonprod.r1.pks.dell.com/omcs-global-customer-persister/v1/Dashboard/GetTransformData?dpid=7040000447490\n"
     ]
    },
    {
     "name": "stderr",
     "output_type": "stream",
     "text": [
      "C:\\Users\\Satpum\\AppData\\Local\\anaconda3\\Lib\\site-packages\\urllib3\\connectionpool.py:1056: InsecureRequestWarning: Unverified HTTPS request is being made to host 'omcs-global-customer-persister-ge4.omcs-nonprod.r1.pks.dell.com'. Adding certificate verification is strongly advised. See: https://urllib3.readthedocs.io/en/1.26.x/advanced-usage.html#ssl-warnings\n",
      "  warnings.warn(\n"
     ]
    },
    {
     "name": "stdout",
     "output_type": "stream",
     "text": [
      "<class 'str'>\n",
      "null7040000447490\n",
      "7040000447489\n",
      "https://omcs-global-customer-persister-ge4.omcs-nonprod.r1.pks.dell.com/omcs-global-customer-persister/v1/Dashboard/GetTransformData?dpid=7040000447489\n"
     ]
    },
    {
     "name": "stderr",
     "output_type": "stream",
     "text": [
      "C:\\Users\\Satpum\\AppData\\Local\\anaconda3\\Lib\\site-packages\\urllib3\\connectionpool.py:1056: InsecureRequestWarning: Unverified HTTPS request is being made to host 'omcs-global-customer-persister-ge4.omcs-nonprod.r1.pks.dell.com'. Adding certificate verification is strongly advised. See: https://urllib3.readthedocs.io/en/1.26.x/advanced-usage.html#ssl-warnings\n",
      "  warnings.warn(\n"
     ]
    },
    {
     "name": "stdout",
     "output_type": "stream",
     "text": [
      "<class 'str'>\n",
      "null7040000447489\n",
      "7040000447487\n",
      "https://omcs-global-customer-persister-ge4.omcs-nonprod.r1.pks.dell.com/omcs-global-customer-persister/v1/Dashboard/GetTransformData?dpid=7040000447487\n"
     ]
    },
    {
     "name": "stderr",
     "output_type": "stream",
     "text": [
      "C:\\Users\\Satpum\\AppData\\Local\\anaconda3\\Lib\\site-packages\\urllib3\\connectionpool.py:1056: InsecureRequestWarning: Unverified HTTPS request is being made to host 'omcs-global-customer-persister-ge4.omcs-nonprod.r1.pks.dell.com'. Adding certificate verification is strongly advised. See: https://urllib3.readthedocs.io/en/1.26.x/advanced-usage.html#ssl-warnings\n",
      "  warnings.warn(\n"
     ]
    },
    {
     "name": "stdout",
     "output_type": "stream",
     "text": [
      "<class 'str'>\n",
      "null7040000447487\n",
      "7040000447486\n",
      "https://omcs-global-customer-persister-ge4.omcs-nonprod.r1.pks.dell.com/omcs-global-customer-persister/v1/Dashboard/GetTransformData?dpid=7040000447486\n"
     ]
    },
    {
     "name": "stderr",
     "output_type": "stream",
     "text": [
      "C:\\Users\\Satpum\\AppData\\Local\\anaconda3\\Lib\\site-packages\\urllib3\\connectionpool.py:1056: InsecureRequestWarning: Unverified HTTPS request is being made to host 'omcs-global-customer-persister-ge4.omcs-nonprod.r1.pks.dell.com'. Adding certificate verification is strongly advised. See: https://urllib3.readthedocs.io/en/1.26.x/advanced-usage.html#ssl-warnings\n",
      "  warnings.warn(\n"
     ]
    },
    {
     "name": "stdout",
     "output_type": "stream",
     "text": [
      "<class 'str'>\n",
      "null7040000447486\n",
      "7040000447485\n",
      "https://omcs-global-customer-persister-ge4.omcs-nonprod.r1.pks.dell.com/omcs-global-customer-persister/v1/Dashboard/GetTransformData?dpid=7040000447485\n"
     ]
    },
    {
     "name": "stderr",
     "output_type": "stream",
     "text": [
      "C:\\Users\\Satpum\\AppData\\Local\\anaconda3\\Lib\\site-packages\\urllib3\\connectionpool.py:1056: InsecureRequestWarning: Unverified HTTPS request is being made to host 'omcs-global-customer-persister-ge4.omcs-nonprod.r1.pks.dell.com'. Adding certificate verification is strongly advised. See: https://urllib3.readthedocs.io/en/1.26.x/advanced-usage.html#ssl-warnings\n",
      "  warnings.warn(\n"
     ]
    },
    {
     "name": "stdout",
     "output_type": "stream",
     "text": [
      "<class 'str'>\n",
      "null7040000447485\n",
      "7040000447484\n",
      "https://omcs-global-customer-persister-ge4.omcs-nonprod.r1.pks.dell.com/omcs-global-customer-persister/v1/Dashboard/GetTransformData?dpid=7040000447484\n"
     ]
    },
    {
     "name": "stderr",
     "output_type": "stream",
     "text": [
      "C:\\Users\\Satpum\\AppData\\Local\\anaconda3\\Lib\\site-packages\\urllib3\\connectionpool.py:1056: InsecureRequestWarning: Unverified HTTPS request is being made to host 'omcs-global-customer-persister-ge4.omcs-nonprod.r1.pks.dell.com'. Adding certificate verification is strongly advised. See: https://urllib3.readthedocs.io/en/1.26.x/advanced-usage.html#ssl-warnings\n",
      "  warnings.warn(\n"
     ]
    },
    {
     "name": "stdout",
     "output_type": "stream",
     "text": [
      "<class 'str'>\n",
      "null7040000447484\n",
      "7040000447483\n",
      "https://omcs-global-customer-persister-ge4.omcs-nonprod.r1.pks.dell.com/omcs-global-customer-persister/v1/Dashboard/GetTransformData?dpid=7040000447483\n"
     ]
    },
    {
     "name": "stderr",
     "output_type": "stream",
     "text": [
      "C:\\Users\\Satpum\\AppData\\Local\\anaconda3\\Lib\\site-packages\\urllib3\\connectionpool.py:1056: InsecureRequestWarning: Unverified HTTPS request is being made to host 'omcs-global-customer-persister-ge4.omcs-nonprod.r1.pks.dell.com'. Adding certificate verification is strongly advised. See: https://urllib3.readthedocs.io/en/1.26.x/advanced-usage.html#ssl-warnings\n",
      "  warnings.warn(\n"
     ]
    },
    {
     "name": "stdout",
     "output_type": "stream",
     "text": [
      "<class 'str'>\n",
      "null7040000447483\n",
      "7040000447482\n",
      "https://omcs-global-customer-persister-ge4.omcs-nonprod.r1.pks.dell.com/omcs-global-customer-persister/v1/Dashboard/GetTransformData?dpid=7040000447482\n"
     ]
    },
    {
     "name": "stderr",
     "output_type": "stream",
     "text": [
      "C:\\Users\\Satpum\\AppData\\Local\\anaconda3\\Lib\\site-packages\\urllib3\\connectionpool.py:1056: InsecureRequestWarning: Unverified HTTPS request is being made to host 'omcs-global-customer-persister-ge4.omcs-nonprod.r1.pks.dell.com'. Adding certificate verification is strongly advised. See: https://urllib3.readthedocs.io/en/1.26.x/advanced-usage.html#ssl-warnings\n",
      "  warnings.warn(\n"
     ]
    },
    {
     "name": "stdout",
     "output_type": "stream",
     "text": [
      "<class 'str'>\n",
      "null7040000447482\n",
      "7040000447480\n",
      "https://omcs-global-customer-persister-ge4.omcs-nonprod.r1.pks.dell.com/omcs-global-customer-persister/v1/Dashboard/GetTransformData?dpid=7040000447480\n"
     ]
    },
    {
     "name": "stderr",
     "output_type": "stream",
     "text": [
      "C:\\Users\\Satpum\\AppData\\Local\\anaconda3\\Lib\\site-packages\\urllib3\\connectionpool.py:1056: InsecureRequestWarning: Unverified HTTPS request is being made to host 'omcs-global-customer-persister-ge4.omcs-nonprod.r1.pks.dell.com'. Adding certificate verification is strongly advised. See: https://urllib3.readthedocs.io/en/1.26.x/advanced-usage.html#ssl-warnings\n",
      "  warnings.warn(\n"
     ]
    },
    {
     "name": "stdout",
     "output_type": "stream",
     "text": [
      "<class 'str'>\n",
      "null7040000447480\n",
      "7040000447479\n",
      "https://omcs-global-customer-persister-ge4.omcs-nonprod.r1.pks.dell.com/omcs-global-customer-persister/v1/Dashboard/GetTransformData?dpid=7040000447479\n"
     ]
    },
    {
     "name": "stderr",
     "output_type": "stream",
     "text": [
      "C:\\Users\\Satpum\\AppData\\Local\\anaconda3\\Lib\\site-packages\\urllib3\\connectionpool.py:1056: InsecureRequestWarning: Unverified HTTPS request is being made to host 'omcs-global-customer-persister-ge4.omcs-nonprod.r1.pks.dell.com'. Adding certificate verification is strongly advised. See: https://urllib3.readthedocs.io/en/1.26.x/advanced-usage.html#ssl-warnings\n",
      "  warnings.warn(\n"
     ]
    },
    {
     "name": "stdout",
     "output_type": "stream",
     "text": [
      "<class 'str'>\n",
      "null7040000447479\n",
      "7040000447478\n",
      "https://omcs-global-customer-persister-ge4.omcs-nonprod.r1.pks.dell.com/omcs-global-customer-persister/v1/Dashboard/GetTransformData?dpid=7040000447478\n"
     ]
    },
    {
     "name": "stderr",
     "output_type": "stream",
     "text": [
      "C:\\Users\\Satpum\\AppData\\Local\\anaconda3\\Lib\\site-packages\\urllib3\\connectionpool.py:1056: InsecureRequestWarning: Unverified HTTPS request is being made to host 'omcs-global-customer-persister-ge4.omcs-nonprod.r1.pks.dell.com'. Adding certificate verification is strongly advised. See: https://urllib3.readthedocs.io/en/1.26.x/advanced-usage.html#ssl-warnings\n",
      "  warnings.warn(\n"
     ]
    },
    {
     "name": "stdout",
     "output_type": "stream",
     "text": [
      "<class 'str'>\n",
      "null7040000447478\n",
      "7040000447477\n",
      "https://omcs-global-customer-persister-ge4.omcs-nonprod.r1.pks.dell.com/omcs-global-customer-persister/v1/Dashboard/GetTransformData?dpid=7040000447477\n"
     ]
    },
    {
     "name": "stderr",
     "output_type": "stream",
     "text": [
      "C:\\Users\\Satpum\\AppData\\Local\\anaconda3\\Lib\\site-packages\\urllib3\\connectionpool.py:1056: InsecureRequestWarning: Unverified HTTPS request is being made to host 'omcs-global-customer-persister-ge4.omcs-nonprod.r1.pks.dell.com'. Adding certificate verification is strongly advised. See: https://urllib3.readthedocs.io/en/1.26.x/advanced-usage.html#ssl-warnings\n",
      "  warnings.warn(\n"
     ]
    },
    {
     "name": "stdout",
     "output_type": "stream",
     "text": [
      "<class 'str'>\n",
      "null7040000447477\n",
      "7040000447476\n",
      "https://omcs-global-customer-persister-ge4.omcs-nonprod.r1.pks.dell.com/omcs-global-customer-persister/v1/Dashboard/GetTransformData?dpid=7040000447476\n"
     ]
    },
    {
     "name": "stderr",
     "output_type": "stream",
     "text": [
      "C:\\Users\\Satpum\\AppData\\Local\\anaconda3\\Lib\\site-packages\\urllib3\\connectionpool.py:1056: InsecureRequestWarning: Unverified HTTPS request is being made to host 'omcs-global-customer-persister-ge4.omcs-nonprod.r1.pks.dell.com'. Adding certificate verification is strongly advised. See: https://urllib3.readthedocs.io/en/1.26.x/advanced-usage.html#ssl-warnings\n",
      "  warnings.warn(\n"
     ]
    },
    {
     "name": "stdout",
     "output_type": "stream",
     "text": [
      "<class 'str'>\n",
      "null7040000447476\n",
      "7040000447474\n",
      "https://omcs-global-customer-persister-ge4.omcs-nonprod.r1.pks.dell.com/omcs-global-customer-persister/v1/Dashboard/GetTransformData?dpid=7040000447474\n"
     ]
    },
    {
     "name": "stderr",
     "output_type": "stream",
     "text": [
      "C:\\Users\\Satpum\\AppData\\Local\\anaconda3\\Lib\\site-packages\\urllib3\\connectionpool.py:1056: InsecureRequestWarning: Unverified HTTPS request is being made to host 'omcs-global-customer-persister-ge4.omcs-nonprod.r1.pks.dell.com'. Adding certificate verification is strongly advised. See: https://urllib3.readthedocs.io/en/1.26.x/advanced-usage.html#ssl-warnings\n",
      "  warnings.warn(\n"
     ]
    },
    {
     "name": "stdout",
     "output_type": "stream",
     "text": [
      "<class 'str'>\n",
      "null7040000447474\n",
      "7040000447473\n",
      "https://omcs-global-customer-persister-ge4.omcs-nonprod.r1.pks.dell.com/omcs-global-customer-persister/v1/Dashboard/GetTransformData?dpid=7040000447473\n"
     ]
    },
    {
     "name": "stderr",
     "output_type": "stream",
     "text": [
      "C:\\Users\\Satpum\\AppData\\Local\\anaconda3\\Lib\\site-packages\\urllib3\\connectionpool.py:1056: InsecureRequestWarning: Unverified HTTPS request is being made to host 'omcs-global-customer-persister-ge4.omcs-nonprod.r1.pks.dell.com'. Adding certificate verification is strongly advised. See: https://urllib3.readthedocs.io/en/1.26.x/advanced-usage.html#ssl-warnings\n",
      "  warnings.warn(\n"
     ]
    },
    {
     "name": "stdout",
     "output_type": "stream",
     "text": [
      "<class 'str'>\n",
      "null7040000447473\n",
      "7040000447472\n",
      "https://omcs-global-customer-persister-ge4.omcs-nonprod.r1.pks.dell.com/omcs-global-customer-persister/v1/Dashboard/GetTransformData?dpid=7040000447472\n"
     ]
    },
    {
     "name": "stderr",
     "output_type": "stream",
     "text": [
      "C:\\Users\\Satpum\\AppData\\Local\\anaconda3\\Lib\\site-packages\\urllib3\\connectionpool.py:1056: InsecureRequestWarning: Unverified HTTPS request is being made to host 'omcs-global-customer-persister-ge4.omcs-nonprod.r1.pks.dell.com'. Adding certificate verification is strongly advised. See: https://urllib3.readthedocs.io/en/1.26.x/advanced-usage.html#ssl-warnings\n",
      "  warnings.warn(\n"
     ]
    },
    {
     "name": "stdout",
     "output_type": "stream",
     "text": [
      "<class 'str'>\n",
      "null7040000447472\n",
      "7040000447471\n",
      "https://omcs-global-customer-persister-ge4.omcs-nonprod.r1.pks.dell.com/omcs-global-customer-persister/v1/Dashboard/GetTransformData?dpid=7040000447471\n"
     ]
    },
    {
     "name": "stderr",
     "output_type": "stream",
     "text": [
      "C:\\Users\\Satpum\\AppData\\Local\\anaconda3\\Lib\\site-packages\\urllib3\\connectionpool.py:1056: InsecureRequestWarning: Unverified HTTPS request is being made to host 'omcs-global-customer-persister-ge4.omcs-nonprod.r1.pks.dell.com'. Adding certificate verification is strongly advised. See: https://urllib3.readthedocs.io/en/1.26.x/advanced-usage.html#ssl-warnings\n",
      "  warnings.warn(\n"
     ]
    },
    {
     "name": "stdout",
     "output_type": "stream",
     "text": [
      "<class 'str'>\n",
      "null7040000447471\n",
      "7040000447470\n",
      "https://omcs-global-customer-persister-ge4.omcs-nonprod.r1.pks.dell.com/omcs-global-customer-persister/v1/Dashboard/GetTransformData?dpid=7040000447470\n"
     ]
    },
    {
     "name": "stderr",
     "output_type": "stream",
     "text": [
      "C:\\Users\\Satpum\\AppData\\Local\\anaconda3\\Lib\\site-packages\\urllib3\\connectionpool.py:1056: InsecureRequestWarning: Unverified HTTPS request is being made to host 'omcs-global-customer-persister-ge4.omcs-nonprod.r1.pks.dell.com'. Adding certificate verification is strongly advised. See: https://urllib3.readthedocs.io/en/1.26.x/advanced-usage.html#ssl-warnings\n",
      "  warnings.warn(\n"
     ]
    },
    {
     "name": "stdout",
     "output_type": "stream",
     "text": [
      "<class 'str'>\n",
      "null7040000447470\n",
      "7040000447468\n",
      "https://omcs-global-customer-persister-ge4.omcs-nonprod.r1.pks.dell.com/omcs-global-customer-persister/v1/Dashboard/GetTransformData?dpid=7040000447468\n"
     ]
    },
    {
     "name": "stderr",
     "output_type": "stream",
     "text": [
      "C:\\Users\\Satpum\\AppData\\Local\\anaconda3\\Lib\\site-packages\\urllib3\\connectionpool.py:1056: InsecureRequestWarning: Unverified HTTPS request is being made to host 'omcs-global-customer-persister-ge4.omcs-nonprod.r1.pks.dell.com'. Adding certificate verification is strongly advised. See: https://urllib3.readthedocs.io/en/1.26.x/advanced-usage.html#ssl-warnings\n",
      "  warnings.warn(\n"
     ]
    },
    {
     "name": "stdout",
     "output_type": "stream",
     "text": [
      "<class 'str'>\n",
      "null7040000447468\n",
      "7040000447467\n",
      "https://omcs-global-customer-persister-ge4.omcs-nonprod.r1.pks.dell.com/omcs-global-customer-persister/v1/Dashboard/GetTransformData?dpid=7040000447467\n"
     ]
    },
    {
     "name": "stderr",
     "output_type": "stream",
     "text": [
      "C:\\Users\\Satpum\\AppData\\Local\\anaconda3\\Lib\\site-packages\\urllib3\\connectionpool.py:1056: InsecureRequestWarning: Unverified HTTPS request is being made to host 'omcs-global-customer-persister-ge4.omcs-nonprod.r1.pks.dell.com'. Adding certificate verification is strongly advised. See: https://urllib3.readthedocs.io/en/1.26.x/advanced-usage.html#ssl-warnings\n",
      "  warnings.warn(\n"
     ]
    },
    {
     "name": "stdout",
     "output_type": "stream",
     "text": [
      "<class 'str'>\n",
      "null7040000447467\n",
      "7040000447466\n",
      "https://omcs-global-customer-persister-ge4.omcs-nonprod.r1.pks.dell.com/omcs-global-customer-persister/v1/Dashboard/GetTransformData?dpid=7040000447466\n"
     ]
    },
    {
     "name": "stderr",
     "output_type": "stream",
     "text": [
      "C:\\Users\\Satpum\\AppData\\Local\\anaconda3\\Lib\\site-packages\\urllib3\\connectionpool.py:1056: InsecureRequestWarning: Unverified HTTPS request is being made to host 'omcs-global-customer-persister-ge4.omcs-nonprod.r1.pks.dell.com'. Adding certificate verification is strongly advised. See: https://urllib3.readthedocs.io/en/1.26.x/advanced-usage.html#ssl-warnings\n",
      "  warnings.warn(\n"
     ]
    },
    {
     "name": "stdout",
     "output_type": "stream",
     "text": [
      "<class 'str'>\n",
      "null7040000447466\n",
      "7040000447464\n",
      "https://omcs-global-customer-persister-ge4.omcs-nonprod.r1.pks.dell.com/omcs-global-customer-persister/v1/Dashboard/GetTransformData?dpid=7040000447464\n"
     ]
    },
    {
     "name": "stderr",
     "output_type": "stream",
     "text": [
      "C:\\Users\\Satpum\\AppData\\Local\\anaconda3\\Lib\\site-packages\\urllib3\\connectionpool.py:1056: InsecureRequestWarning: Unverified HTTPS request is being made to host 'omcs-global-customer-persister-ge4.omcs-nonprod.r1.pks.dell.com'. Adding certificate verification is strongly advised. See: https://urllib3.readthedocs.io/en/1.26.x/advanced-usage.html#ssl-warnings\n",
      "  warnings.warn(\n"
     ]
    },
    {
     "name": "stdout",
     "output_type": "stream",
     "text": [
      "<class 'str'>\n",
      "null7040000447464\n",
      "7040000447463\n",
      "https://omcs-global-customer-persister-ge4.omcs-nonprod.r1.pks.dell.com/omcs-global-customer-persister/v1/Dashboard/GetTransformData?dpid=7040000447463\n"
     ]
    },
    {
     "name": "stderr",
     "output_type": "stream",
     "text": [
      "C:\\Users\\Satpum\\AppData\\Local\\anaconda3\\Lib\\site-packages\\urllib3\\connectionpool.py:1056: InsecureRequestWarning: Unverified HTTPS request is being made to host 'omcs-global-customer-persister-ge4.omcs-nonprod.r1.pks.dell.com'. Adding certificate verification is strongly advised. See: https://urllib3.readthedocs.io/en/1.26.x/advanced-usage.html#ssl-warnings\n",
      "  warnings.warn(\n"
     ]
    },
    {
     "name": "stdout",
     "output_type": "stream",
     "text": [
      "<class 'str'>\n",
      "null7040000447463\n",
      "7040000447462\n",
      "https://omcs-global-customer-persister-ge4.omcs-nonprod.r1.pks.dell.com/omcs-global-customer-persister/v1/Dashboard/GetTransformData?dpid=7040000447462\n"
     ]
    },
    {
     "name": "stderr",
     "output_type": "stream",
     "text": [
      "C:\\Users\\Satpum\\AppData\\Local\\anaconda3\\Lib\\site-packages\\urllib3\\connectionpool.py:1056: InsecureRequestWarning: Unverified HTTPS request is being made to host 'omcs-global-customer-persister-ge4.omcs-nonprod.r1.pks.dell.com'. Adding certificate verification is strongly advised. See: https://urllib3.readthedocs.io/en/1.26.x/advanced-usage.html#ssl-warnings\n",
      "  warnings.warn(\n"
     ]
    },
    {
     "name": "stdout",
     "output_type": "stream",
     "text": [
      "<class 'str'>\n",
      "null7040000447462\n",
      "7040000447460\n",
      "https://omcs-global-customer-persister-ge4.omcs-nonprod.r1.pks.dell.com/omcs-global-customer-persister/v1/Dashboard/GetTransformData?dpid=7040000447460\n"
     ]
    },
    {
     "name": "stderr",
     "output_type": "stream",
     "text": [
      "C:\\Users\\Satpum\\AppData\\Local\\anaconda3\\Lib\\site-packages\\urllib3\\connectionpool.py:1056: InsecureRequestWarning: Unverified HTTPS request is being made to host 'omcs-global-customer-persister-ge4.omcs-nonprod.r1.pks.dell.com'. Adding certificate verification is strongly advised. See: https://urllib3.readthedocs.io/en/1.26.x/advanced-usage.html#ssl-warnings\n",
      "  warnings.warn(\n"
     ]
    },
    {
     "name": "stdout",
     "output_type": "stream",
     "text": [
      "<class 'str'>\n",
      "null7040000447460\n",
      "7040000447459\n",
      "https://omcs-global-customer-persister-ge4.omcs-nonprod.r1.pks.dell.com/omcs-global-customer-persister/v1/Dashboard/GetTransformData?dpid=7040000447459\n"
     ]
    },
    {
     "name": "stderr",
     "output_type": "stream",
     "text": [
      "C:\\Users\\Satpum\\AppData\\Local\\anaconda3\\Lib\\site-packages\\urllib3\\connectionpool.py:1056: InsecureRequestWarning: Unverified HTTPS request is being made to host 'omcs-global-customer-persister-ge4.omcs-nonprod.r1.pks.dell.com'. Adding certificate verification is strongly advised. See: https://urllib3.readthedocs.io/en/1.26.x/advanced-usage.html#ssl-warnings\n",
      "  warnings.warn(\n"
     ]
    },
    {
     "name": "stdout",
     "output_type": "stream",
     "text": [
      "<class 'str'>\n",
      "null7040000447459\n",
      "7040000447458\n",
      "https://omcs-global-customer-persister-ge4.omcs-nonprod.r1.pks.dell.com/omcs-global-customer-persister/v1/Dashboard/GetTransformData?dpid=7040000447458\n"
     ]
    },
    {
     "name": "stderr",
     "output_type": "stream",
     "text": [
      "C:\\Users\\Satpum\\AppData\\Local\\anaconda3\\Lib\\site-packages\\urllib3\\connectionpool.py:1056: InsecureRequestWarning: Unverified HTTPS request is being made to host 'omcs-global-customer-persister-ge4.omcs-nonprod.r1.pks.dell.com'. Adding certificate verification is strongly advised. See: https://urllib3.readthedocs.io/en/1.26.x/advanced-usage.html#ssl-warnings\n",
      "  warnings.warn(\n"
     ]
    },
    {
     "name": "stdout",
     "output_type": "stream",
     "text": [
      "<class 'str'>\n",
      "null7040000447458\n",
      "7040000447457\n",
      "https://omcs-global-customer-persister-ge4.omcs-nonprod.r1.pks.dell.com/omcs-global-customer-persister/v1/Dashboard/GetTransformData?dpid=7040000447457\n"
     ]
    },
    {
     "name": "stderr",
     "output_type": "stream",
     "text": [
      "C:\\Users\\Satpum\\AppData\\Local\\anaconda3\\Lib\\site-packages\\urllib3\\connectionpool.py:1056: InsecureRequestWarning: Unverified HTTPS request is being made to host 'omcs-global-customer-persister-ge4.omcs-nonprod.r1.pks.dell.com'. Adding certificate verification is strongly advised. See: https://urllib3.readthedocs.io/en/1.26.x/advanced-usage.html#ssl-warnings\n",
      "  warnings.warn(\n"
     ]
    },
    {
     "name": "stdout",
     "output_type": "stream",
     "text": [
      "<class 'str'>\n",
      "null7040000447457\n",
      "7040000447452\n",
      "https://omcs-global-customer-persister-ge4.omcs-nonprod.r1.pks.dell.com/omcs-global-customer-persister/v1/Dashboard/GetTransformData?dpid=7040000447452\n"
     ]
    },
    {
     "name": "stderr",
     "output_type": "stream",
     "text": [
      "C:\\Users\\Satpum\\AppData\\Local\\anaconda3\\Lib\\site-packages\\urllib3\\connectionpool.py:1056: InsecureRequestWarning: Unverified HTTPS request is being made to host 'omcs-global-customer-persister-ge4.omcs-nonprod.r1.pks.dell.com'. Adding certificate verification is strongly advised. See: https://urllib3.readthedocs.io/en/1.26.x/advanced-usage.html#ssl-warnings\n",
      "  warnings.warn(\n"
     ]
    },
    {
     "name": "stdout",
     "output_type": "stream",
     "text": [
      "<class 'str'>\n",
      "null7040000447452\n",
      "7040000447451\n",
      "https://omcs-global-customer-persister-ge4.omcs-nonprod.r1.pks.dell.com/omcs-global-customer-persister/v1/Dashboard/GetTransformData?dpid=7040000447451\n"
     ]
    },
    {
     "name": "stderr",
     "output_type": "stream",
     "text": [
      "C:\\Users\\Satpum\\AppData\\Local\\anaconda3\\Lib\\site-packages\\urllib3\\connectionpool.py:1056: InsecureRequestWarning: Unverified HTTPS request is being made to host 'omcs-global-customer-persister-ge4.omcs-nonprod.r1.pks.dell.com'. Adding certificate verification is strongly advised. See: https://urllib3.readthedocs.io/en/1.26.x/advanced-usage.html#ssl-warnings\n",
      "  warnings.warn(\n"
     ]
    },
    {
     "name": "stdout",
     "output_type": "stream",
     "text": [
      "<class 'str'>\n",
      "null7040000447451\n",
      "7040000447450\n",
      "https://omcs-global-customer-persister-ge4.omcs-nonprod.r1.pks.dell.com/omcs-global-customer-persister/v1/Dashboard/GetTransformData?dpid=7040000447450\n"
     ]
    },
    {
     "name": "stderr",
     "output_type": "stream",
     "text": [
      "C:\\Users\\Satpum\\AppData\\Local\\anaconda3\\Lib\\site-packages\\urllib3\\connectionpool.py:1056: InsecureRequestWarning: Unverified HTTPS request is being made to host 'omcs-global-customer-persister-ge4.omcs-nonprod.r1.pks.dell.com'. Adding certificate verification is strongly advised. See: https://urllib3.readthedocs.io/en/1.26.x/advanced-usage.html#ssl-warnings\n",
      "  warnings.warn(\n"
     ]
    },
    {
     "name": "stdout",
     "output_type": "stream",
     "text": [
      "<class 'str'>\n",
      "null7040000447450\n",
      "7040000447449\n",
      "https://omcs-global-customer-persister-ge4.omcs-nonprod.r1.pks.dell.com/omcs-global-customer-persister/v1/Dashboard/GetTransformData?dpid=7040000447449\n"
     ]
    },
    {
     "name": "stderr",
     "output_type": "stream",
     "text": [
      "C:\\Users\\Satpum\\AppData\\Local\\anaconda3\\Lib\\site-packages\\urllib3\\connectionpool.py:1056: InsecureRequestWarning: Unverified HTTPS request is being made to host 'omcs-global-customer-persister-ge4.omcs-nonprod.r1.pks.dell.com'. Adding certificate verification is strongly advised. See: https://urllib3.readthedocs.io/en/1.26.x/advanced-usage.html#ssl-warnings\n",
      "  warnings.warn(\n"
     ]
    },
    {
     "name": "stdout",
     "output_type": "stream",
     "text": [
      "<class 'str'>\n",
      "null7040000447449\n",
      "7040000447448\n",
      "https://omcs-global-customer-persister-ge4.omcs-nonprod.r1.pks.dell.com/omcs-global-customer-persister/v1/Dashboard/GetTransformData?dpid=7040000447448\n"
     ]
    },
    {
     "name": "stderr",
     "output_type": "stream",
     "text": [
      "C:\\Users\\Satpum\\AppData\\Local\\anaconda3\\Lib\\site-packages\\urllib3\\connectionpool.py:1056: InsecureRequestWarning: Unverified HTTPS request is being made to host 'omcs-global-customer-persister-ge4.omcs-nonprod.r1.pks.dell.com'. Adding certificate verification is strongly advised. See: https://urllib3.readthedocs.io/en/1.26.x/advanced-usage.html#ssl-warnings\n",
      "  warnings.warn(\n"
     ]
    },
    {
     "name": "stdout",
     "output_type": "stream",
     "text": [
      "<class 'str'>\n",
      "null7040000447448\n",
      "7040000447447\n",
      "https://omcs-global-customer-persister-ge4.omcs-nonprod.r1.pks.dell.com/omcs-global-customer-persister/v1/Dashboard/GetTransformData?dpid=7040000447447\n"
     ]
    },
    {
     "name": "stderr",
     "output_type": "stream",
     "text": [
      "C:\\Users\\Satpum\\AppData\\Local\\anaconda3\\Lib\\site-packages\\urllib3\\connectionpool.py:1056: InsecureRequestWarning: Unverified HTTPS request is being made to host 'omcs-global-customer-persister-ge4.omcs-nonprod.r1.pks.dell.com'. Adding certificate verification is strongly advised. See: https://urllib3.readthedocs.io/en/1.26.x/advanced-usage.html#ssl-warnings\n",
      "  warnings.warn(\n"
     ]
    },
    {
     "name": "stdout",
     "output_type": "stream",
     "text": [
      "<class 'str'>\n",
      "null7040000447447\n",
      "7040000447446\n",
      "https://omcs-global-customer-persister-ge4.omcs-nonprod.r1.pks.dell.com/omcs-global-customer-persister/v1/Dashboard/GetTransformData?dpid=7040000447446\n"
     ]
    },
    {
     "name": "stderr",
     "output_type": "stream",
     "text": [
      "C:\\Users\\Satpum\\AppData\\Local\\anaconda3\\Lib\\site-packages\\urllib3\\connectionpool.py:1056: InsecureRequestWarning: Unverified HTTPS request is being made to host 'omcs-global-customer-persister-ge4.omcs-nonprod.r1.pks.dell.com'. Adding certificate verification is strongly advised. See: https://urllib3.readthedocs.io/en/1.26.x/advanced-usage.html#ssl-warnings\n",
      "  warnings.warn(\n"
     ]
    },
    {
     "name": "stdout",
     "output_type": "stream",
     "text": [
      "<class 'str'>\n",
      "null7040000447446\n",
      "7040000447445\n",
      "https://omcs-global-customer-persister-ge4.omcs-nonprod.r1.pks.dell.com/omcs-global-customer-persister/v1/Dashboard/GetTransformData?dpid=7040000447445\n"
     ]
    },
    {
     "name": "stderr",
     "output_type": "stream",
     "text": [
      "C:\\Users\\Satpum\\AppData\\Local\\anaconda3\\Lib\\site-packages\\urllib3\\connectionpool.py:1056: InsecureRequestWarning: Unverified HTTPS request is being made to host 'omcs-global-customer-persister-ge4.omcs-nonprod.r1.pks.dell.com'. Adding certificate verification is strongly advised. See: https://urllib3.readthedocs.io/en/1.26.x/advanced-usage.html#ssl-warnings\n",
      "  warnings.warn(\n"
     ]
    },
    {
     "name": "stdout",
     "output_type": "stream",
     "text": [
      "<class 'str'>\n",
      "null7040000447445\n",
      "7040000447443\n",
      "https://omcs-global-customer-persister-ge4.omcs-nonprod.r1.pks.dell.com/omcs-global-customer-persister/v1/Dashboard/GetTransformData?dpid=7040000447443\n"
     ]
    },
    {
     "name": "stderr",
     "output_type": "stream",
     "text": [
      "C:\\Users\\Satpum\\AppData\\Local\\anaconda3\\Lib\\site-packages\\urllib3\\connectionpool.py:1056: InsecureRequestWarning: Unverified HTTPS request is being made to host 'omcs-global-customer-persister-ge4.omcs-nonprod.r1.pks.dell.com'. Adding certificate verification is strongly advised. See: https://urllib3.readthedocs.io/en/1.26.x/advanced-usage.html#ssl-warnings\n",
      "  warnings.warn(\n"
     ]
    },
    {
     "name": "stdout",
     "output_type": "stream",
     "text": [
      "<class 'str'>\n",
      "null7040000447443\n",
      "7040000447442\n",
      "https://omcs-global-customer-persister-ge4.omcs-nonprod.r1.pks.dell.com/omcs-global-customer-persister/v1/Dashboard/GetTransformData?dpid=7040000447442\n"
     ]
    },
    {
     "name": "stderr",
     "output_type": "stream",
     "text": [
      "C:\\Users\\Satpum\\AppData\\Local\\anaconda3\\Lib\\site-packages\\urllib3\\connectionpool.py:1056: InsecureRequestWarning: Unverified HTTPS request is being made to host 'omcs-global-customer-persister-ge4.omcs-nonprod.r1.pks.dell.com'. Adding certificate verification is strongly advised. See: https://urllib3.readthedocs.io/en/1.26.x/advanced-usage.html#ssl-warnings\n",
      "  warnings.warn(\n"
     ]
    },
    {
     "name": "stdout",
     "output_type": "stream",
     "text": [
      "<class 'str'>\n",
      "null7040000447442\n",
      "7040000447441\n",
      "https://omcs-global-customer-persister-ge4.omcs-nonprod.r1.pks.dell.com/omcs-global-customer-persister/v1/Dashboard/GetTransformData?dpid=7040000447441\n"
     ]
    },
    {
     "name": "stderr",
     "output_type": "stream",
     "text": [
      "C:\\Users\\Satpum\\AppData\\Local\\anaconda3\\Lib\\site-packages\\urllib3\\connectionpool.py:1056: InsecureRequestWarning: Unverified HTTPS request is being made to host 'omcs-global-customer-persister-ge4.omcs-nonprod.r1.pks.dell.com'. Adding certificate verification is strongly advised. See: https://urllib3.readthedocs.io/en/1.26.x/advanced-usage.html#ssl-warnings\n",
      "  warnings.warn(\n"
     ]
    },
    {
     "name": "stdout",
     "output_type": "stream",
     "text": [
      "<class 'str'>\n",
      "null7040000447441\n",
      "7040000447440\n",
      "https://omcs-global-customer-persister-ge4.omcs-nonprod.r1.pks.dell.com/omcs-global-customer-persister/v1/Dashboard/GetTransformData?dpid=7040000447440\n"
     ]
    },
    {
     "name": "stderr",
     "output_type": "stream",
     "text": [
      "C:\\Users\\Satpum\\AppData\\Local\\anaconda3\\Lib\\site-packages\\urllib3\\connectionpool.py:1056: InsecureRequestWarning: Unverified HTTPS request is being made to host 'omcs-global-customer-persister-ge4.omcs-nonprod.r1.pks.dell.com'. Adding certificate verification is strongly advised. See: https://urllib3.readthedocs.io/en/1.26.x/advanced-usage.html#ssl-warnings\n",
      "  warnings.warn(\n"
     ]
    },
    {
     "name": "stdout",
     "output_type": "stream",
     "text": [
      "<class 'str'>\n",
      "null7040000447440\n",
      "7040000447439\n",
      "https://omcs-global-customer-persister-ge4.omcs-nonprod.r1.pks.dell.com/omcs-global-customer-persister/v1/Dashboard/GetTransformData?dpid=7040000447439\n"
     ]
    },
    {
     "name": "stderr",
     "output_type": "stream",
     "text": [
      "C:\\Users\\Satpum\\AppData\\Local\\anaconda3\\Lib\\site-packages\\urllib3\\connectionpool.py:1056: InsecureRequestWarning: Unverified HTTPS request is being made to host 'omcs-global-customer-persister-ge4.omcs-nonprod.r1.pks.dell.com'. Adding certificate verification is strongly advised. See: https://urllib3.readthedocs.io/en/1.26.x/advanced-usage.html#ssl-warnings\n",
      "  warnings.warn(\n"
     ]
    },
    {
     "name": "stdout",
     "output_type": "stream",
     "text": [
      "<class 'str'>\n",
      "null7040000447439\n",
      "7040000447437\n",
      "https://omcs-global-customer-persister-ge4.omcs-nonprod.r1.pks.dell.com/omcs-global-customer-persister/v1/Dashboard/GetTransformData?dpid=7040000447437\n"
     ]
    },
    {
     "name": "stderr",
     "output_type": "stream",
     "text": [
      "C:\\Users\\Satpum\\AppData\\Local\\anaconda3\\Lib\\site-packages\\urllib3\\connectionpool.py:1056: InsecureRequestWarning: Unverified HTTPS request is being made to host 'omcs-global-customer-persister-ge4.omcs-nonprod.r1.pks.dell.com'. Adding certificate verification is strongly advised. See: https://urllib3.readthedocs.io/en/1.26.x/advanced-usage.html#ssl-warnings\n",
      "  warnings.warn(\n"
     ]
    },
    {
     "name": "stdout",
     "output_type": "stream",
     "text": [
      "<class 'str'>\n",
      "null7040000447437\n",
      "7040000447436\n",
      "https://omcs-global-customer-persister-ge4.omcs-nonprod.r1.pks.dell.com/omcs-global-customer-persister/v1/Dashboard/GetTransformData?dpid=7040000447436\n"
     ]
    },
    {
     "name": "stderr",
     "output_type": "stream",
     "text": [
      "C:\\Users\\Satpum\\AppData\\Local\\anaconda3\\Lib\\site-packages\\urllib3\\connectionpool.py:1056: InsecureRequestWarning: Unverified HTTPS request is being made to host 'omcs-global-customer-persister-ge4.omcs-nonprod.r1.pks.dell.com'. Adding certificate verification is strongly advised. See: https://urllib3.readthedocs.io/en/1.26.x/advanced-usage.html#ssl-warnings\n",
      "  warnings.warn(\n"
     ]
    },
    {
     "name": "stdout",
     "output_type": "stream",
     "text": [
      "<class 'str'>\n",
      "null7040000447436\n",
      "7040000447435\n",
      "https://omcs-global-customer-persister-ge4.omcs-nonprod.r1.pks.dell.com/omcs-global-customer-persister/v1/Dashboard/GetTransformData?dpid=7040000447435\n"
     ]
    },
    {
     "name": "stderr",
     "output_type": "stream",
     "text": [
      "C:\\Users\\Satpum\\AppData\\Local\\anaconda3\\Lib\\site-packages\\urllib3\\connectionpool.py:1056: InsecureRequestWarning: Unverified HTTPS request is being made to host 'omcs-global-customer-persister-ge4.omcs-nonprod.r1.pks.dell.com'. Adding certificate verification is strongly advised. See: https://urllib3.readthedocs.io/en/1.26.x/advanced-usage.html#ssl-warnings\n",
      "  warnings.warn(\n"
     ]
    },
    {
     "name": "stdout",
     "output_type": "stream",
     "text": [
      "<class 'str'>\n",
      "null7040000447435\n",
      "7040000447433\n",
      "https://omcs-global-customer-persister-ge4.omcs-nonprod.r1.pks.dell.com/omcs-global-customer-persister/v1/Dashboard/GetTransformData?dpid=7040000447433\n"
     ]
    },
    {
     "name": "stderr",
     "output_type": "stream",
     "text": [
      "C:\\Users\\Satpum\\AppData\\Local\\anaconda3\\Lib\\site-packages\\urllib3\\connectionpool.py:1056: InsecureRequestWarning: Unverified HTTPS request is being made to host 'omcs-global-customer-persister-ge4.omcs-nonprod.r1.pks.dell.com'. Adding certificate verification is strongly advised. See: https://urllib3.readthedocs.io/en/1.26.x/advanced-usage.html#ssl-warnings\n",
      "  warnings.warn(\n"
     ]
    },
    {
     "name": "stdout",
     "output_type": "stream",
     "text": [
      "<class 'str'>\n",
      "null7040000447433\n",
      "7040000447432\n",
      "https://omcs-global-customer-persister-ge4.omcs-nonprod.r1.pks.dell.com/omcs-global-customer-persister/v1/Dashboard/GetTransformData?dpid=7040000447432\n"
     ]
    },
    {
     "name": "stderr",
     "output_type": "stream",
     "text": [
      "C:\\Users\\Satpum\\AppData\\Local\\anaconda3\\Lib\\site-packages\\urllib3\\connectionpool.py:1056: InsecureRequestWarning: Unverified HTTPS request is being made to host 'omcs-global-customer-persister-ge4.omcs-nonprod.r1.pks.dell.com'. Adding certificate verification is strongly advised. See: https://urllib3.readthedocs.io/en/1.26.x/advanced-usage.html#ssl-warnings\n",
      "  warnings.warn(\n"
     ]
    },
    {
     "name": "stdout",
     "output_type": "stream",
     "text": [
      "<class 'str'>\n",
      "null7040000447432\n",
      "7040000447431\n",
      "https://omcs-global-customer-persister-ge4.omcs-nonprod.r1.pks.dell.com/omcs-global-customer-persister/v1/Dashboard/GetTransformData?dpid=7040000447431\n"
     ]
    },
    {
     "name": "stderr",
     "output_type": "stream",
     "text": [
      "C:\\Users\\Satpum\\AppData\\Local\\anaconda3\\Lib\\site-packages\\urllib3\\connectionpool.py:1056: InsecureRequestWarning: Unverified HTTPS request is being made to host 'omcs-global-customer-persister-ge4.omcs-nonprod.r1.pks.dell.com'. Adding certificate verification is strongly advised. See: https://urllib3.readthedocs.io/en/1.26.x/advanced-usage.html#ssl-warnings\n",
      "  warnings.warn(\n"
     ]
    },
    {
     "name": "stdout",
     "output_type": "stream",
     "text": [
      "<class 'str'>\n",
      "null7040000447431\n",
      "7040000447430\n",
      "https://omcs-global-customer-persister-ge4.omcs-nonprod.r1.pks.dell.com/omcs-global-customer-persister/v1/Dashboard/GetTransformData?dpid=7040000447430\n"
     ]
    },
    {
     "name": "stderr",
     "output_type": "stream",
     "text": [
      "C:\\Users\\Satpum\\AppData\\Local\\anaconda3\\Lib\\site-packages\\urllib3\\connectionpool.py:1056: InsecureRequestWarning: Unverified HTTPS request is being made to host 'omcs-global-customer-persister-ge4.omcs-nonprod.r1.pks.dell.com'. Adding certificate verification is strongly advised. See: https://urllib3.readthedocs.io/en/1.26.x/advanced-usage.html#ssl-warnings\n",
      "  warnings.warn(\n"
     ]
    },
    {
     "name": "stdout",
     "output_type": "stream",
     "text": [
      "<class 'str'>\n",
      "null7040000447430\n",
      "7040000447429\n",
      "https://omcs-global-customer-persister-ge4.omcs-nonprod.r1.pks.dell.com/omcs-global-customer-persister/v1/Dashboard/GetTransformData?dpid=7040000447429\n"
     ]
    },
    {
     "name": "stderr",
     "output_type": "stream",
     "text": [
      "C:\\Users\\Satpum\\AppData\\Local\\anaconda3\\Lib\\site-packages\\urllib3\\connectionpool.py:1056: InsecureRequestWarning: Unverified HTTPS request is being made to host 'omcs-global-customer-persister-ge4.omcs-nonprod.r1.pks.dell.com'. Adding certificate verification is strongly advised. See: https://urllib3.readthedocs.io/en/1.26.x/advanced-usage.html#ssl-warnings\n",
      "  warnings.warn(\n"
     ]
    },
    {
     "name": "stdout",
     "output_type": "stream",
     "text": [
      "<class 'str'>\n",
      "null7040000447429\n",
      "7040000447427\n",
      "https://omcs-global-customer-persister-ge4.omcs-nonprod.r1.pks.dell.com/omcs-global-customer-persister/v1/Dashboard/GetTransformData?dpid=7040000447427\n"
     ]
    },
    {
     "name": "stderr",
     "output_type": "stream",
     "text": [
      "C:\\Users\\Satpum\\AppData\\Local\\anaconda3\\Lib\\site-packages\\urllib3\\connectionpool.py:1056: InsecureRequestWarning: Unverified HTTPS request is being made to host 'omcs-global-customer-persister-ge4.omcs-nonprod.r1.pks.dell.com'. Adding certificate verification is strongly advised. See: https://urllib3.readthedocs.io/en/1.26.x/advanced-usage.html#ssl-warnings\n",
      "  warnings.warn(\n"
     ]
    },
    {
     "name": "stdout",
     "output_type": "stream",
     "text": [
      "<class 'str'>\n",
      "null7040000447427\n",
      "7040000447426\n",
      "https://omcs-global-customer-persister-ge4.omcs-nonprod.r1.pks.dell.com/omcs-global-customer-persister/v1/Dashboard/GetTransformData?dpid=7040000447426\n"
     ]
    },
    {
     "name": "stderr",
     "output_type": "stream",
     "text": [
      "C:\\Users\\Satpum\\AppData\\Local\\anaconda3\\Lib\\site-packages\\urllib3\\connectionpool.py:1056: InsecureRequestWarning: Unverified HTTPS request is being made to host 'omcs-global-customer-persister-ge4.omcs-nonprod.r1.pks.dell.com'. Adding certificate verification is strongly advised. See: https://urllib3.readthedocs.io/en/1.26.x/advanced-usage.html#ssl-warnings\n",
      "  warnings.warn(\n"
     ]
    },
    {
     "name": "stdout",
     "output_type": "stream",
     "text": [
      "<class 'str'>\n",
      "null7040000447426\n",
      "7040000447425\n",
      "https://omcs-global-customer-persister-ge4.omcs-nonprod.r1.pks.dell.com/omcs-global-customer-persister/v1/Dashboard/GetTransformData?dpid=7040000447425\n"
     ]
    },
    {
     "name": "stderr",
     "output_type": "stream",
     "text": [
      "C:\\Users\\Satpum\\AppData\\Local\\anaconda3\\Lib\\site-packages\\urllib3\\connectionpool.py:1056: InsecureRequestWarning: Unverified HTTPS request is being made to host 'omcs-global-customer-persister-ge4.omcs-nonprod.r1.pks.dell.com'. Adding certificate verification is strongly advised. See: https://urllib3.readthedocs.io/en/1.26.x/advanced-usage.html#ssl-warnings\n",
      "  warnings.warn(\n"
     ]
    },
    {
     "name": "stdout",
     "output_type": "stream",
     "text": [
      "<class 'str'>\n",
      "null7040000447425\n",
      "7040000447424\n",
      "https://omcs-global-customer-persister-ge4.omcs-nonprod.r1.pks.dell.com/omcs-global-customer-persister/v1/Dashboard/GetTransformData?dpid=7040000447424\n"
     ]
    },
    {
     "name": "stderr",
     "output_type": "stream",
     "text": [
      "C:\\Users\\Satpum\\AppData\\Local\\anaconda3\\Lib\\site-packages\\urllib3\\connectionpool.py:1056: InsecureRequestWarning: Unverified HTTPS request is being made to host 'omcs-global-customer-persister-ge4.omcs-nonprod.r1.pks.dell.com'. Adding certificate verification is strongly advised. See: https://urllib3.readthedocs.io/en/1.26.x/advanced-usage.html#ssl-warnings\n",
      "  warnings.warn(\n"
     ]
    },
    {
     "name": "stdout",
     "output_type": "stream",
     "text": [
      "<class 'str'>\n",
      "null7040000447424\n",
      "7040000447423\n",
      "https://omcs-global-customer-persister-ge4.omcs-nonprod.r1.pks.dell.com/omcs-global-customer-persister/v1/Dashboard/GetTransformData?dpid=7040000447423\n"
     ]
    },
    {
     "name": "stderr",
     "output_type": "stream",
     "text": [
      "C:\\Users\\Satpum\\AppData\\Local\\anaconda3\\Lib\\site-packages\\urllib3\\connectionpool.py:1056: InsecureRequestWarning: Unverified HTTPS request is being made to host 'omcs-global-customer-persister-ge4.omcs-nonprod.r1.pks.dell.com'. Adding certificate verification is strongly advised. See: https://urllib3.readthedocs.io/en/1.26.x/advanced-usage.html#ssl-warnings\n",
      "  warnings.warn(\n"
     ]
    },
    {
     "name": "stdout",
     "output_type": "stream",
     "text": [
      "<class 'str'>\n",
      "null7040000447423\n",
      "7040000447422\n",
      "https://omcs-global-customer-persister-ge4.omcs-nonprod.r1.pks.dell.com/omcs-global-customer-persister/v1/Dashboard/GetTransformData?dpid=7040000447422\n"
     ]
    },
    {
     "name": "stderr",
     "output_type": "stream",
     "text": [
      "C:\\Users\\Satpum\\AppData\\Local\\anaconda3\\Lib\\site-packages\\urllib3\\connectionpool.py:1056: InsecureRequestWarning: Unverified HTTPS request is being made to host 'omcs-global-customer-persister-ge4.omcs-nonprod.r1.pks.dell.com'. Adding certificate verification is strongly advised. See: https://urllib3.readthedocs.io/en/1.26.x/advanced-usage.html#ssl-warnings\n",
      "  warnings.warn(\n"
     ]
    },
    {
     "name": "stdout",
     "output_type": "stream",
     "text": [
      "<class 'str'>\n",
      "null7040000447422\n",
      "7040000447421\n",
      "https://omcs-global-customer-persister-ge4.omcs-nonprod.r1.pks.dell.com/omcs-global-customer-persister/v1/Dashboard/GetTransformData?dpid=7040000447421\n"
     ]
    },
    {
     "name": "stderr",
     "output_type": "stream",
     "text": [
      "C:\\Users\\Satpum\\AppData\\Local\\anaconda3\\Lib\\site-packages\\urllib3\\connectionpool.py:1056: InsecureRequestWarning: Unverified HTTPS request is being made to host 'omcs-global-customer-persister-ge4.omcs-nonprod.r1.pks.dell.com'. Adding certificate verification is strongly advised. See: https://urllib3.readthedocs.io/en/1.26.x/advanced-usage.html#ssl-warnings\n",
      "  warnings.warn(\n"
     ]
    },
    {
     "name": "stdout",
     "output_type": "stream",
     "text": [
      "<class 'str'>\n",
      "null7040000447421\n",
      "7040000447418\n",
      "https://omcs-global-customer-persister-ge4.omcs-nonprod.r1.pks.dell.com/omcs-global-customer-persister/v1/Dashboard/GetTransformData?dpid=7040000447418\n"
     ]
    },
    {
     "name": "stderr",
     "output_type": "stream",
     "text": [
      "C:\\Users\\Satpum\\AppData\\Local\\anaconda3\\Lib\\site-packages\\urllib3\\connectionpool.py:1056: InsecureRequestWarning: Unverified HTTPS request is being made to host 'omcs-global-customer-persister-ge4.omcs-nonprod.r1.pks.dell.com'. Adding certificate verification is strongly advised. See: https://urllib3.readthedocs.io/en/1.26.x/advanced-usage.html#ssl-warnings\n",
      "  warnings.warn(\n"
     ]
    },
    {
     "name": "stdout",
     "output_type": "stream",
     "text": [
      "<class 'str'>\n",
      "null7040000447418\n",
      "7040000447417\n",
      "https://omcs-global-customer-persister-ge4.omcs-nonprod.r1.pks.dell.com/omcs-global-customer-persister/v1/Dashboard/GetTransformData?dpid=7040000447417\n"
     ]
    },
    {
     "name": "stderr",
     "output_type": "stream",
     "text": [
      "C:\\Users\\Satpum\\AppData\\Local\\anaconda3\\Lib\\site-packages\\urllib3\\connectionpool.py:1056: InsecureRequestWarning: Unverified HTTPS request is being made to host 'omcs-global-customer-persister-ge4.omcs-nonprod.r1.pks.dell.com'. Adding certificate verification is strongly advised. See: https://urllib3.readthedocs.io/en/1.26.x/advanced-usage.html#ssl-warnings\n",
      "  warnings.warn(\n"
     ]
    },
    {
     "name": "stdout",
     "output_type": "stream",
     "text": [
      "<class 'str'>\n",
      "null7040000447417\n",
      "7040000447416\n",
      "https://omcs-global-customer-persister-ge4.omcs-nonprod.r1.pks.dell.com/omcs-global-customer-persister/v1/Dashboard/GetTransformData?dpid=7040000447416\n"
     ]
    },
    {
     "name": "stderr",
     "output_type": "stream",
     "text": [
      "C:\\Users\\Satpum\\AppData\\Local\\anaconda3\\Lib\\site-packages\\urllib3\\connectionpool.py:1056: InsecureRequestWarning: Unverified HTTPS request is being made to host 'omcs-global-customer-persister-ge4.omcs-nonprod.r1.pks.dell.com'. Adding certificate verification is strongly advised. See: https://urllib3.readthedocs.io/en/1.26.x/advanced-usage.html#ssl-warnings\n",
      "  warnings.warn(\n"
     ]
    },
    {
     "name": "stdout",
     "output_type": "stream",
     "text": [
      "<class 'str'>\n",
      "null7040000447416\n",
      "7040000447415\n",
      "https://omcs-global-customer-persister-ge4.omcs-nonprod.r1.pks.dell.com/omcs-global-customer-persister/v1/Dashboard/GetTransformData?dpid=7040000447415\n"
     ]
    },
    {
     "name": "stderr",
     "output_type": "stream",
     "text": [
      "C:\\Users\\Satpum\\AppData\\Local\\anaconda3\\Lib\\site-packages\\urllib3\\connectionpool.py:1056: InsecureRequestWarning: Unverified HTTPS request is being made to host 'omcs-global-customer-persister-ge4.omcs-nonprod.r1.pks.dell.com'. Adding certificate verification is strongly advised. See: https://urllib3.readthedocs.io/en/1.26.x/advanced-usage.html#ssl-warnings\n",
      "  warnings.warn(\n"
     ]
    },
    {
     "name": "stdout",
     "output_type": "stream",
     "text": [
      "<class 'str'>\n",
      "null7040000447415\n",
      "7040000447414\n",
      "https://omcs-global-customer-persister-ge4.omcs-nonprod.r1.pks.dell.com/omcs-global-customer-persister/v1/Dashboard/GetTransformData?dpid=7040000447414\n"
     ]
    },
    {
     "name": "stderr",
     "output_type": "stream",
     "text": [
      "C:\\Users\\Satpum\\AppData\\Local\\anaconda3\\Lib\\site-packages\\urllib3\\connectionpool.py:1056: InsecureRequestWarning: Unverified HTTPS request is being made to host 'omcs-global-customer-persister-ge4.omcs-nonprod.r1.pks.dell.com'. Adding certificate verification is strongly advised. See: https://urllib3.readthedocs.io/en/1.26.x/advanced-usage.html#ssl-warnings\n",
      "  warnings.warn(\n"
     ]
    },
    {
     "name": "stdout",
     "output_type": "stream",
     "text": [
      "<class 'str'>\n",
      "null7040000447414\n",
      "7040000447412\n",
      "https://omcs-global-customer-persister-ge4.omcs-nonprod.r1.pks.dell.com/omcs-global-customer-persister/v1/Dashboard/GetTransformData?dpid=7040000447412\n"
     ]
    },
    {
     "name": "stderr",
     "output_type": "stream",
     "text": [
      "C:\\Users\\Satpum\\AppData\\Local\\anaconda3\\Lib\\site-packages\\urllib3\\connectionpool.py:1056: InsecureRequestWarning: Unverified HTTPS request is being made to host 'omcs-global-customer-persister-ge4.omcs-nonprod.r1.pks.dell.com'. Adding certificate verification is strongly advised. See: https://urllib3.readthedocs.io/en/1.26.x/advanced-usage.html#ssl-warnings\n",
      "  warnings.warn(\n"
     ]
    },
    {
     "name": "stdout",
     "output_type": "stream",
     "text": [
      "<class 'str'>\n",
      "null7040000447412\n",
      "7040000447411\n",
      "https://omcs-global-customer-persister-ge4.omcs-nonprod.r1.pks.dell.com/omcs-global-customer-persister/v1/Dashboard/GetTransformData?dpid=7040000447411\n"
     ]
    },
    {
     "name": "stderr",
     "output_type": "stream",
     "text": [
      "C:\\Users\\Satpum\\AppData\\Local\\anaconda3\\Lib\\site-packages\\urllib3\\connectionpool.py:1056: InsecureRequestWarning: Unverified HTTPS request is being made to host 'omcs-global-customer-persister-ge4.omcs-nonprod.r1.pks.dell.com'. Adding certificate verification is strongly advised. See: https://urllib3.readthedocs.io/en/1.26.x/advanced-usage.html#ssl-warnings\n",
      "  warnings.warn(\n"
     ]
    },
    {
     "name": "stdout",
     "output_type": "stream",
     "text": [
      "<class 'str'>\n",
      "null7040000447411\n",
      "7040000447410\n",
      "https://omcs-global-customer-persister-ge4.omcs-nonprod.r1.pks.dell.com/omcs-global-customer-persister/v1/Dashboard/GetTransformData?dpid=7040000447410\n"
     ]
    },
    {
     "name": "stderr",
     "output_type": "stream",
     "text": [
      "C:\\Users\\Satpum\\AppData\\Local\\anaconda3\\Lib\\site-packages\\urllib3\\connectionpool.py:1056: InsecureRequestWarning: Unverified HTTPS request is being made to host 'omcs-global-customer-persister-ge4.omcs-nonprod.r1.pks.dell.com'. Adding certificate verification is strongly advised. See: https://urllib3.readthedocs.io/en/1.26.x/advanced-usage.html#ssl-warnings\n",
      "  warnings.warn(\n"
     ]
    },
    {
     "name": "stdout",
     "output_type": "stream",
     "text": [
      "<class 'str'>\n",
      "null7040000447410\n",
      "7040000447409\n",
      "https://omcs-global-customer-persister-ge4.omcs-nonprod.r1.pks.dell.com/omcs-global-customer-persister/v1/Dashboard/GetTransformData?dpid=7040000447409\n"
     ]
    },
    {
     "name": "stderr",
     "output_type": "stream",
     "text": [
      "C:\\Users\\Satpum\\AppData\\Local\\anaconda3\\Lib\\site-packages\\urllib3\\connectionpool.py:1056: InsecureRequestWarning: Unverified HTTPS request is being made to host 'omcs-global-customer-persister-ge4.omcs-nonprod.r1.pks.dell.com'. Adding certificate verification is strongly advised. See: https://urllib3.readthedocs.io/en/1.26.x/advanced-usage.html#ssl-warnings\n",
      "  warnings.warn(\n"
     ]
    },
    {
     "name": "stdout",
     "output_type": "stream",
     "text": [
      "<class 'str'>\n",
      "null7040000447409\n",
      "7040000447408\n",
      "https://omcs-global-customer-persister-ge4.omcs-nonprod.r1.pks.dell.com/omcs-global-customer-persister/v1/Dashboard/GetTransformData?dpid=7040000447408\n"
     ]
    },
    {
     "name": "stderr",
     "output_type": "stream",
     "text": [
      "C:\\Users\\Satpum\\AppData\\Local\\anaconda3\\Lib\\site-packages\\urllib3\\connectionpool.py:1056: InsecureRequestWarning: Unverified HTTPS request is being made to host 'omcs-global-customer-persister-ge4.omcs-nonprod.r1.pks.dell.com'. Adding certificate verification is strongly advised. See: https://urllib3.readthedocs.io/en/1.26.x/advanced-usage.html#ssl-warnings\n",
      "  warnings.warn(\n"
     ]
    },
    {
     "name": "stdout",
     "output_type": "stream",
     "text": [
      "<class 'str'>\n",
      "null7040000447408\n",
      "7040000447404\n",
      "https://omcs-global-customer-persister-ge4.omcs-nonprod.r1.pks.dell.com/omcs-global-customer-persister/v1/Dashboard/GetTransformData?dpid=7040000447404\n"
     ]
    },
    {
     "name": "stderr",
     "output_type": "stream",
     "text": [
      "C:\\Users\\Satpum\\AppData\\Local\\anaconda3\\Lib\\site-packages\\urllib3\\connectionpool.py:1056: InsecureRequestWarning: Unverified HTTPS request is being made to host 'omcs-global-customer-persister-ge4.omcs-nonprod.r1.pks.dell.com'. Adding certificate verification is strongly advised. See: https://urllib3.readthedocs.io/en/1.26.x/advanced-usage.html#ssl-warnings\n",
      "  warnings.warn(\n"
     ]
    },
    {
     "name": "stdout",
     "output_type": "stream",
     "text": [
      "<class 'str'>\n",
      "null7040000447404\n",
      "7040000447403\n",
      "https://omcs-global-customer-persister-ge4.omcs-nonprod.r1.pks.dell.com/omcs-global-customer-persister/v1/Dashboard/GetTransformData?dpid=7040000447403\n"
     ]
    },
    {
     "name": "stderr",
     "output_type": "stream",
     "text": [
      "C:\\Users\\Satpum\\AppData\\Local\\anaconda3\\Lib\\site-packages\\urllib3\\connectionpool.py:1056: InsecureRequestWarning: Unverified HTTPS request is being made to host 'omcs-global-customer-persister-ge4.omcs-nonprod.r1.pks.dell.com'. Adding certificate verification is strongly advised. See: https://urllib3.readthedocs.io/en/1.26.x/advanced-usage.html#ssl-warnings\n",
      "  warnings.warn(\n"
     ]
    },
    {
     "name": "stdout",
     "output_type": "stream",
     "text": [
      "<class 'str'>\n",
      "null7040000447403\n",
      "7040000447402\n",
      "https://omcs-global-customer-persister-ge4.omcs-nonprod.r1.pks.dell.com/omcs-global-customer-persister/v1/Dashboard/GetTransformData?dpid=7040000447402\n"
     ]
    },
    {
     "name": "stderr",
     "output_type": "stream",
     "text": [
      "C:\\Users\\Satpum\\AppData\\Local\\anaconda3\\Lib\\site-packages\\urllib3\\connectionpool.py:1056: InsecureRequestWarning: Unverified HTTPS request is being made to host 'omcs-global-customer-persister-ge4.omcs-nonprod.r1.pks.dell.com'. Adding certificate verification is strongly advised. See: https://urllib3.readthedocs.io/en/1.26.x/advanced-usage.html#ssl-warnings\n",
      "  warnings.warn(\n"
     ]
    },
    {
     "name": "stdout",
     "output_type": "stream",
     "text": [
      "<class 'str'>\n",
      "null7040000447402\n",
      "7040000447400\n",
      "https://omcs-global-customer-persister-ge4.omcs-nonprod.r1.pks.dell.com/omcs-global-customer-persister/v1/Dashboard/GetTransformData?dpid=7040000447400\n"
     ]
    },
    {
     "name": "stderr",
     "output_type": "stream",
     "text": [
      "C:\\Users\\Satpum\\AppData\\Local\\anaconda3\\Lib\\site-packages\\urllib3\\connectionpool.py:1056: InsecureRequestWarning: Unverified HTTPS request is being made to host 'omcs-global-customer-persister-ge4.omcs-nonprod.r1.pks.dell.com'. Adding certificate verification is strongly advised. See: https://urllib3.readthedocs.io/en/1.26.x/advanced-usage.html#ssl-warnings\n",
      "  warnings.warn(\n"
     ]
    },
    {
     "name": "stdout",
     "output_type": "stream",
     "text": [
      "<class 'str'>\n",
      "null7040000447400\n",
      "7040000447399\n",
      "https://omcs-global-customer-persister-ge4.omcs-nonprod.r1.pks.dell.com/omcs-global-customer-persister/v1/Dashboard/GetTransformData?dpid=7040000447399\n"
     ]
    },
    {
     "name": "stderr",
     "output_type": "stream",
     "text": [
      "C:\\Users\\Satpum\\AppData\\Local\\anaconda3\\Lib\\site-packages\\urllib3\\connectionpool.py:1056: InsecureRequestWarning: Unverified HTTPS request is being made to host 'omcs-global-customer-persister-ge4.omcs-nonprod.r1.pks.dell.com'. Adding certificate verification is strongly advised. See: https://urllib3.readthedocs.io/en/1.26.x/advanced-usage.html#ssl-warnings\n",
      "  warnings.warn(\n"
     ]
    },
    {
     "name": "stdout",
     "output_type": "stream",
     "text": [
      "<class 'str'>\n",
      "null7040000447399\n",
      "7040000447393\n",
      "https://omcs-global-customer-persister-ge4.omcs-nonprod.r1.pks.dell.com/omcs-global-customer-persister/v1/Dashboard/GetTransformData?dpid=7040000447393\n"
     ]
    },
    {
     "name": "stderr",
     "output_type": "stream",
     "text": [
      "C:\\Users\\Satpum\\AppData\\Local\\anaconda3\\Lib\\site-packages\\urllib3\\connectionpool.py:1056: InsecureRequestWarning: Unverified HTTPS request is being made to host 'omcs-global-customer-persister-ge4.omcs-nonprod.r1.pks.dell.com'. Adding certificate verification is strongly advised. See: https://urllib3.readthedocs.io/en/1.26.x/advanced-usage.html#ssl-warnings\n",
      "  warnings.warn(\n"
     ]
    },
    {
     "name": "stdout",
     "output_type": "stream",
     "text": [
      "<class 'str'>\n",
      "null7040000447393\n",
      "7040000447392\n",
      "https://omcs-global-customer-persister-ge4.omcs-nonprod.r1.pks.dell.com/omcs-global-customer-persister/v1/Dashboard/GetTransformData?dpid=7040000447392\n"
     ]
    },
    {
     "name": "stderr",
     "output_type": "stream",
     "text": [
      "C:\\Users\\Satpum\\AppData\\Local\\anaconda3\\Lib\\site-packages\\urllib3\\connectionpool.py:1056: InsecureRequestWarning: Unverified HTTPS request is being made to host 'omcs-global-customer-persister-ge4.omcs-nonprod.r1.pks.dell.com'. Adding certificate verification is strongly advised. See: https://urllib3.readthedocs.io/en/1.26.x/advanced-usage.html#ssl-warnings\n",
      "  warnings.warn(\n"
     ]
    },
    {
     "name": "stdout",
     "output_type": "stream",
     "text": [
      "<class 'str'>\n",
      "null7040000447392\n",
      "7040000447390\n",
      "https://omcs-global-customer-persister-ge4.omcs-nonprod.r1.pks.dell.com/omcs-global-customer-persister/v1/Dashboard/GetTransformData?dpid=7040000447390\n"
     ]
    },
    {
     "name": "stderr",
     "output_type": "stream",
     "text": [
      "C:\\Users\\Satpum\\AppData\\Local\\anaconda3\\Lib\\site-packages\\urllib3\\connectionpool.py:1056: InsecureRequestWarning: Unverified HTTPS request is being made to host 'omcs-global-customer-persister-ge4.omcs-nonprod.r1.pks.dell.com'. Adding certificate verification is strongly advised. See: https://urllib3.readthedocs.io/en/1.26.x/advanced-usage.html#ssl-warnings\n",
      "  warnings.warn(\n"
     ]
    },
    {
     "name": "stdout",
     "output_type": "stream",
     "text": [
      "<class 'str'>\n",
      "null7040000447390\n",
      "7040000447389\n",
      "https://omcs-global-customer-persister-ge4.omcs-nonprod.r1.pks.dell.com/omcs-global-customer-persister/v1/Dashboard/GetTransformData?dpid=7040000447389\n"
     ]
    },
    {
     "name": "stderr",
     "output_type": "stream",
     "text": [
      "C:\\Users\\Satpum\\AppData\\Local\\anaconda3\\Lib\\site-packages\\urllib3\\connectionpool.py:1056: InsecureRequestWarning: Unverified HTTPS request is being made to host 'omcs-global-customer-persister-ge4.omcs-nonprod.r1.pks.dell.com'. Adding certificate verification is strongly advised. See: https://urllib3.readthedocs.io/en/1.26.x/advanced-usage.html#ssl-warnings\n",
      "  warnings.warn(\n"
     ]
    },
    {
     "name": "stdout",
     "output_type": "stream",
     "text": [
      "<class 'str'>\n",
      "null7040000447389\n",
      "7040000447380\n",
      "https://omcs-global-customer-persister-ge4.omcs-nonprod.r1.pks.dell.com/omcs-global-customer-persister/v1/Dashboard/GetTransformData?dpid=7040000447380\n"
     ]
    },
    {
     "name": "stderr",
     "output_type": "stream",
     "text": [
      "C:\\Users\\Satpum\\AppData\\Local\\anaconda3\\Lib\\site-packages\\urllib3\\connectionpool.py:1056: InsecureRequestWarning: Unverified HTTPS request is being made to host 'omcs-global-customer-persister-ge4.omcs-nonprod.r1.pks.dell.com'. Adding certificate verification is strongly advised. See: https://urllib3.readthedocs.io/en/1.26.x/advanced-usage.html#ssl-warnings\n",
      "  warnings.warn(\n"
     ]
    },
    {
     "name": "stdout",
     "output_type": "stream",
     "text": [
      "<class 'str'>\n",
      "null7040000447380\n",
      "7040000447377\n",
      "https://omcs-global-customer-persister-ge4.omcs-nonprod.r1.pks.dell.com/omcs-global-customer-persister/v1/Dashboard/GetTransformData?dpid=7040000447377\n"
     ]
    },
    {
     "name": "stderr",
     "output_type": "stream",
     "text": [
      "C:\\Users\\Satpum\\AppData\\Local\\anaconda3\\Lib\\site-packages\\urllib3\\connectionpool.py:1056: InsecureRequestWarning: Unverified HTTPS request is being made to host 'omcs-global-customer-persister-ge4.omcs-nonprod.r1.pks.dell.com'. Adding certificate verification is strongly advised. See: https://urllib3.readthedocs.io/en/1.26.x/advanced-usage.html#ssl-warnings\n",
      "  warnings.warn(\n"
     ]
    },
    {
     "name": "stdout",
     "output_type": "stream",
     "text": [
      "<class 'str'>\n",
      "null7040000447377\n",
      "7040000447375\n",
      "https://omcs-global-customer-persister-ge4.omcs-nonprod.r1.pks.dell.com/omcs-global-customer-persister/v1/Dashboard/GetTransformData?dpid=7040000447375\n"
     ]
    },
    {
     "name": "stderr",
     "output_type": "stream",
     "text": [
      "C:\\Users\\Satpum\\AppData\\Local\\anaconda3\\Lib\\site-packages\\urllib3\\connectionpool.py:1056: InsecureRequestWarning: Unverified HTTPS request is being made to host 'omcs-global-customer-persister-ge4.omcs-nonprod.r1.pks.dell.com'. Adding certificate verification is strongly advised. See: https://urllib3.readthedocs.io/en/1.26.x/advanced-usage.html#ssl-warnings\n",
      "  warnings.warn(\n"
     ]
    },
    {
     "name": "stdout",
     "output_type": "stream",
     "text": [
      "<class 'str'>\n",
      "null7040000447375\n",
      "7040000447374\n",
      "https://omcs-global-customer-persister-ge4.omcs-nonprod.r1.pks.dell.com/omcs-global-customer-persister/v1/Dashboard/GetTransformData?dpid=7040000447374\n"
     ]
    },
    {
     "name": "stderr",
     "output_type": "stream",
     "text": [
      "C:\\Users\\Satpum\\AppData\\Local\\anaconda3\\Lib\\site-packages\\urllib3\\connectionpool.py:1056: InsecureRequestWarning: Unverified HTTPS request is being made to host 'omcs-global-customer-persister-ge4.omcs-nonprod.r1.pks.dell.com'. Adding certificate verification is strongly advised. See: https://urllib3.readthedocs.io/en/1.26.x/advanced-usage.html#ssl-warnings\n",
      "  warnings.warn(\n"
     ]
    },
    {
     "name": "stdout",
     "output_type": "stream",
     "text": [
      "<class 'str'>\n",
      "null7040000447374\n",
      "7040000447372\n",
      "https://omcs-global-customer-persister-ge4.omcs-nonprod.r1.pks.dell.com/omcs-global-customer-persister/v1/Dashboard/GetTransformData?dpid=7040000447372\n"
     ]
    },
    {
     "name": "stderr",
     "output_type": "stream",
     "text": [
      "C:\\Users\\Satpum\\AppData\\Local\\anaconda3\\Lib\\site-packages\\urllib3\\connectionpool.py:1056: InsecureRequestWarning: Unverified HTTPS request is being made to host 'omcs-global-customer-persister-ge4.omcs-nonprod.r1.pks.dell.com'. Adding certificate verification is strongly advised. See: https://urllib3.readthedocs.io/en/1.26.x/advanced-usage.html#ssl-warnings\n",
      "  warnings.warn(\n"
     ]
    },
    {
     "name": "stdout",
     "output_type": "stream",
     "text": [
      "<class 'str'>\n",
      "null7040000447372\n",
      "7040000447371\n",
      "https://omcs-global-customer-persister-ge4.omcs-nonprod.r1.pks.dell.com/omcs-global-customer-persister/v1/Dashboard/GetTransformData?dpid=7040000447371\n"
     ]
    },
    {
     "name": "stderr",
     "output_type": "stream",
     "text": [
      "C:\\Users\\Satpum\\AppData\\Local\\anaconda3\\Lib\\site-packages\\urllib3\\connectionpool.py:1056: InsecureRequestWarning: Unverified HTTPS request is being made to host 'omcs-global-customer-persister-ge4.omcs-nonprod.r1.pks.dell.com'. Adding certificate verification is strongly advised. See: https://urllib3.readthedocs.io/en/1.26.x/advanced-usage.html#ssl-warnings\n",
      "  warnings.warn(\n"
     ]
    },
    {
     "name": "stdout",
     "output_type": "stream",
     "text": [
      "<class 'str'>\n",
      "null7040000447371\n",
      "7040000447370\n",
      "https://omcs-global-customer-persister-ge4.omcs-nonprod.r1.pks.dell.com/omcs-global-customer-persister/v1/Dashboard/GetTransformData?dpid=7040000447370\n"
     ]
    },
    {
     "name": "stderr",
     "output_type": "stream",
     "text": [
      "C:\\Users\\Satpum\\AppData\\Local\\anaconda3\\Lib\\site-packages\\urllib3\\connectionpool.py:1056: InsecureRequestWarning: Unverified HTTPS request is being made to host 'omcs-global-customer-persister-ge4.omcs-nonprod.r1.pks.dell.com'. Adding certificate verification is strongly advised. See: https://urllib3.readthedocs.io/en/1.26.x/advanced-usage.html#ssl-warnings\n",
      "  warnings.warn(\n"
     ]
    },
    {
     "name": "stdout",
     "output_type": "stream",
     "text": [
      "<class 'str'>\n",
      "null7040000447370\n",
      "7040000447369\n",
      "https://omcs-global-customer-persister-ge4.omcs-nonprod.r1.pks.dell.com/omcs-global-customer-persister/v1/Dashboard/GetTransformData?dpid=7040000447369\n"
     ]
    },
    {
     "name": "stderr",
     "output_type": "stream",
     "text": [
      "C:\\Users\\Satpum\\AppData\\Local\\anaconda3\\Lib\\site-packages\\urllib3\\connectionpool.py:1056: InsecureRequestWarning: Unverified HTTPS request is being made to host 'omcs-global-customer-persister-ge4.omcs-nonprod.r1.pks.dell.com'. Adding certificate verification is strongly advised. See: https://urllib3.readthedocs.io/en/1.26.x/advanced-usage.html#ssl-warnings\n",
      "  warnings.warn(\n"
     ]
    },
    {
     "name": "stdout",
     "output_type": "stream",
     "text": [
      "<class 'str'>\n",
      "null7040000447369\n",
      "7040000447367\n",
      "https://omcs-global-customer-persister-ge4.omcs-nonprod.r1.pks.dell.com/omcs-global-customer-persister/v1/Dashboard/GetTransformData?dpid=7040000447367\n"
     ]
    },
    {
     "name": "stderr",
     "output_type": "stream",
     "text": [
      "C:\\Users\\Satpum\\AppData\\Local\\anaconda3\\Lib\\site-packages\\urllib3\\connectionpool.py:1056: InsecureRequestWarning: Unverified HTTPS request is being made to host 'omcs-global-customer-persister-ge4.omcs-nonprod.r1.pks.dell.com'. Adding certificate verification is strongly advised. See: https://urllib3.readthedocs.io/en/1.26.x/advanced-usage.html#ssl-warnings\n",
      "  warnings.warn(\n"
     ]
    },
    {
     "name": "stdout",
     "output_type": "stream",
     "text": [
      "<class 'str'>\n",
      "null7040000447367\n",
      "7040000447366\n",
      "https://omcs-global-customer-persister-ge4.omcs-nonprod.r1.pks.dell.com/omcs-global-customer-persister/v1/Dashboard/GetTransformData?dpid=7040000447366\n"
     ]
    },
    {
     "name": "stderr",
     "output_type": "stream",
     "text": [
      "C:\\Users\\Satpum\\AppData\\Local\\anaconda3\\Lib\\site-packages\\urllib3\\connectionpool.py:1056: InsecureRequestWarning: Unverified HTTPS request is being made to host 'omcs-global-customer-persister-ge4.omcs-nonprod.r1.pks.dell.com'. Adding certificate verification is strongly advised. See: https://urllib3.readthedocs.io/en/1.26.x/advanced-usage.html#ssl-warnings\n",
      "  warnings.warn(\n"
     ]
    },
    {
     "name": "stdout",
     "output_type": "stream",
     "text": [
      "<class 'str'>\n",
      "null7040000447366\n",
      "7040000447362\n",
      "https://omcs-global-customer-persister-ge4.omcs-nonprod.r1.pks.dell.com/omcs-global-customer-persister/v1/Dashboard/GetTransformData?dpid=7040000447362\n"
     ]
    },
    {
     "name": "stderr",
     "output_type": "stream",
     "text": [
      "C:\\Users\\Satpum\\AppData\\Local\\anaconda3\\Lib\\site-packages\\urllib3\\connectionpool.py:1056: InsecureRequestWarning: Unverified HTTPS request is being made to host 'omcs-global-customer-persister-ge4.omcs-nonprod.r1.pks.dell.com'. Adding certificate verification is strongly advised. See: https://urllib3.readthedocs.io/en/1.26.x/advanced-usage.html#ssl-warnings\n",
      "  warnings.warn(\n"
     ]
    },
    {
     "name": "stdout",
     "output_type": "stream",
     "text": [
      "<class 'str'>\n",
      "null7040000447362\n",
      "7040000447361\n",
      "https://omcs-global-customer-persister-ge4.omcs-nonprod.r1.pks.dell.com/omcs-global-customer-persister/v1/Dashboard/GetTransformData?dpid=7040000447361\n"
     ]
    },
    {
     "name": "stderr",
     "output_type": "stream",
     "text": [
      "C:\\Users\\Satpum\\AppData\\Local\\anaconda3\\Lib\\site-packages\\urllib3\\connectionpool.py:1056: InsecureRequestWarning: Unverified HTTPS request is being made to host 'omcs-global-customer-persister-ge4.omcs-nonprod.r1.pks.dell.com'. Adding certificate verification is strongly advised. See: https://urllib3.readthedocs.io/en/1.26.x/advanced-usage.html#ssl-warnings\n",
      "  warnings.warn(\n"
     ]
    },
    {
     "name": "stdout",
     "output_type": "stream",
     "text": [
      "<class 'str'>\n",
      "null7040000447361\n",
      "7040000447360\n",
      "https://omcs-global-customer-persister-ge4.omcs-nonprod.r1.pks.dell.com/omcs-global-customer-persister/v1/Dashboard/GetTransformData?dpid=7040000447360\n"
     ]
    },
    {
     "name": "stderr",
     "output_type": "stream",
     "text": [
      "C:\\Users\\Satpum\\AppData\\Local\\anaconda3\\Lib\\site-packages\\urllib3\\connectionpool.py:1056: InsecureRequestWarning: Unverified HTTPS request is being made to host 'omcs-global-customer-persister-ge4.omcs-nonprod.r1.pks.dell.com'. Adding certificate verification is strongly advised. See: https://urllib3.readthedocs.io/en/1.26.x/advanced-usage.html#ssl-warnings\n",
      "  warnings.warn(\n"
     ]
    },
    {
     "name": "stdout",
     "output_type": "stream",
     "text": [
      "<class 'str'>\n",
      "null7040000447360\n",
      "7040000447359\n",
      "https://omcs-global-customer-persister-ge4.omcs-nonprod.r1.pks.dell.com/omcs-global-customer-persister/v1/Dashboard/GetTransformData?dpid=7040000447359\n"
     ]
    },
    {
     "name": "stderr",
     "output_type": "stream",
     "text": [
      "C:\\Users\\Satpum\\AppData\\Local\\anaconda3\\Lib\\site-packages\\urllib3\\connectionpool.py:1056: InsecureRequestWarning: Unverified HTTPS request is being made to host 'omcs-global-customer-persister-ge4.omcs-nonprod.r1.pks.dell.com'. Adding certificate verification is strongly advised. See: https://urllib3.readthedocs.io/en/1.26.x/advanced-usage.html#ssl-warnings\n",
      "  warnings.warn(\n"
     ]
    },
    {
     "name": "stdout",
     "output_type": "stream",
     "text": [
      "<class 'str'>\n",
      "null7040000447359\n",
      "7040000447347\n",
      "https://omcs-global-customer-persister-ge4.omcs-nonprod.r1.pks.dell.com/omcs-global-customer-persister/v1/Dashboard/GetTransformData?dpid=7040000447347\n"
     ]
    },
    {
     "name": "stderr",
     "output_type": "stream",
     "text": [
      "C:\\Users\\Satpum\\AppData\\Local\\anaconda3\\Lib\\site-packages\\urllib3\\connectionpool.py:1056: InsecureRequestWarning: Unverified HTTPS request is being made to host 'omcs-global-customer-persister-ge4.omcs-nonprod.r1.pks.dell.com'. Adding certificate verification is strongly advised. See: https://urllib3.readthedocs.io/en/1.26.x/advanced-usage.html#ssl-warnings\n",
      "  warnings.warn(\n"
     ]
    },
    {
     "name": "stdout",
     "output_type": "stream",
     "text": [
      "<class 'str'>\n",
      "null7040000447347\n",
      "7040000447346\n",
      "https://omcs-global-customer-persister-ge4.omcs-nonprod.r1.pks.dell.com/omcs-global-customer-persister/v1/Dashboard/GetTransformData?dpid=7040000447346\n"
     ]
    },
    {
     "name": "stderr",
     "output_type": "stream",
     "text": [
      "C:\\Users\\Satpum\\AppData\\Local\\anaconda3\\Lib\\site-packages\\urllib3\\connectionpool.py:1056: InsecureRequestWarning: Unverified HTTPS request is being made to host 'omcs-global-customer-persister-ge4.omcs-nonprod.r1.pks.dell.com'. Adding certificate verification is strongly advised. See: https://urllib3.readthedocs.io/en/1.26.x/advanced-usage.html#ssl-warnings\n",
      "  warnings.warn(\n"
     ]
    },
    {
     "name": "stdout",
     "output_type": "stream",
     "text": [
      "<class 'str'>\n",
      "null7040000447346\n",
      "7040000447344\n",
      "https://omcs-global-customer-persister-ge4.omcs-nonprod.r1.pks.dell.com/omcs-global-customer-persister/v1/Dashboard/GetTransformData?dpid=7040000447344\n"
     ]
    },
    {
     "name": "stderr",
     "output_type": "stream",
     "text": [
      "C:\\Users\\Satpum\\AppData\\Local\\anaconda3\\Lib\\site-packages\\urllib3\\connectionpool.py:1056: InsecureRequestWarning: Unverified HTTPS request is being made to host 'omcs-global-customer-persister-ge4.omcs-nonprod.r1.pks.dell.com'. Adding certificate verification is strongly advised. See: https://urllib3.readthedocs.io/en/1.26.x/advanced-usage.html#ssl-warnings\n",
      "  warnings.warn(\n"
     ]
    },
    {
     "name": "stdout",
     "output_type": "stream",
     "text": [
      "<class 'str'>\n",
      "null7040000447344\n",
      "7040000447333\n",
      "https://omcs-global-customer-persister-ge4.omcs-nonprod.r1.pks.dell.com/omcs-global-customer-persister/v1/Dashboard/GetTransformData?dpid=7040000447333\n"
     ]
    },
    {
     "name": "stderr",
     "output_type": "stream",
     "text": [
      "C:\\Users\\Satpum\\AppData\\Local\\anaconda3\\Lib\\site-packages\\urllib3\\connectionpool.py:1056: InsecureRequestWarning: Unverified HTTPS request is being made to host 'omcs-global-customer-persister-ge4.omcs-nonprod.r1.pks.dell.com'. Adding certificate verification is strongly advised. See: https://urllib3.readthedocs.io/en/1.26.x/advanced-usage.html#ssl-warnings\n",
      "  warnings.warn(\n"
     ]
    },
    {
     "name": "stdout",
     "output_type": "stream",
     "text": [
      "<class 'str'>\n",
      "null7040000447333\n",
      "7040000447331\n",
      "https://omcs-global-customer-persister-ge4.omcs-nonprod.r1.pks.dell.com/omcs-global-customer-persister/v1/Dashboard/GetTransformData?dpid=7040000447331\n"
     ]
    },
    {
     "name": "stderr",
     "output_type": "stream",
     "text": [
      "C:\\Users\\Satpum\\AppData\\Local\\anaconda3\\Lib\\site-packages\\urllib3\\connectionpool.py:1056: InsecureRequestWarning: Unverified HTTPS request is being made to host 'omcs-global-customer-persister-ge4.omcs-nonprod.r1.pks.dell.com'. Adding certificate verification is strongly advised. See: https://urllib3.readthedocs.io/en/1.26.x/advanced-usage.html#ssl-warnings\n",
      "  warnings.warn(\n"
     ]
    },
    {
     "name": "stdout",
     "output_type": "stream",
     "text": [
      "<class 'str'>\n",
      "null7040000447331\n",
      "7040000447330\n",
      "https://omcs-global-customer-persister-ge4.omcs-nonprod.r1.pks.dell.com/omcs-global-customer-persister/v1/Dashboard/GetTransformData?dpid=7040000447330\n"
     ]
    },
    {
     "name": "stderr",
     "output_type": "stream",
     "text": [
      "C:\\Users\\Satpum\\AppData\\Local\\anaconda3\\Lib\\site-packages\\urllib3\\connectionpool.py:1056: InsecureRequestWarning: Unverified HTTPS request is being made to host 'omcs-global-customer-persister-ge4.omcs-nonprod.r1.pks.dell.com'. Adding certificate verification is strongly advised. See: https://urllib3.readthedocs.io/en/1.26.x/advanced-usage.html#ssl-warnings\n",
      "  warnings.warn(\n"
     ]
    },
    {
     "name": "stdout",
     "output_type": "stream",
     "text": [
      "<class 'str'>\n",
      "null7040000447330\n",
      "7040000447329\n",
      "https://omcs-global-customer-persister-ge4.omcs-nonprod.r1.pks.dell.com/omcs-global-customer-persister/v1/Dashboard/GetTransformData?dpid=7040000447329\n"
     ]
    },
    {
     "name": "stderr",
     "output_type": "stream",
     "text": [
      "C:\\Users\\Satpum\\AppData\\Local\\anaconda3\\Lib\\site-packages\\urllib3\\connectionpool.py:1056: InsecureRequestWarning: Unverified HTTPS request is being made to host 'omcs-global-customer-persister-ge4.omcs-nonprod.r1.pks.dell.com'. Adding certificate verification is strongly advised. See: https://urllib3.readthedocs.io/en/1.26.x/advanced-usage.html#ssl-warnings\n",
      "  warnings.warn(\n"
     ]
    },
    {
     "name": "stdout",
     "output_type": "stream",
     "text": [
      "<class 'str'>\n",
      "null7040000447329\n",
      "7040000447328\n",
      "https://omcs-global-customer-persister-ge4.omcs-nonprod.r1.pks.dell.com/omcs-global-customer-persister/v1/Dashboard/GetTransformData?dpid=7040000447328\n"
     ]
    },
    {
     "name": "stderr",
     "output_type": "stream",
     "text": [
      "C:\\Users\\Satpum\\AppData\\Local\\anaconda3\\Lib\\site-packages\\urllib3\\connectionpool.py:1056: InsecureRequestWarning: Unverified HTTPS request is being made to host 'omcs-global-customer-persister-ge4.omcs-nonprod.r1.pks.dell.com'. Adding certificate verification is strongly advised. See: https://urllib3.readthedocs.io/en/1.26.x/advanced-usage.html#ssl-warnings\n",
      "  warnings.warn(\n"
     ]
    },
    {
     "name": "stdout",
     "output_type": "stream",
     "text": [
      "<class 'str'>\n",
      "null7040000447328\n",
      "7040000447325\n",
      "https://omcs-global-customer-persister-ge4.omcs-nonprod.r1.pks.dell.com/omcs-global-customer-persister/v1/Dashboard/GetTransformData?dpid=7040000447325\n"
     ]
    },
    {
     "name": "stderr",
     "output_type": "stream",
     "text": [
      "C:\\Users\\Satpum\\AppData\\Local\\anaconda3\\Lib\\site-packages\\urllib3\\connectionpool.py:1056: InsecureRequestWarning: Unverified HTTPS request is being made to host 'omcs-global-customer-persister-ge4.omcs-nonprod.r1.pks.dell.com'. Adding certificate verification is strongly advised. See: https://urllib3.readthedocs.io/en/1.26.x/advanced-usage.html#ssl-warnings\n",
      "  warnings.warn(\n"
     ]
    },
    {
     "name": "stdout",
     "output_type": "stream",
     "text": [
      "<class 'str'>\n",
      "null7040000447325\n",
      "7040000447319\n",
      "https://omcs-global-customer-persister-ge4.omcs-nonprod.r1.pks.dell.com/omcs-global-customer-persister/v1/Dashboard/GetTransformData?dpid=7040000447319\n"
     ]
    },
    {
     "name": "stderr",
     "output_type": "stream",
     "text": [
      "C:\\Users\\Satpum\\AppData\\Local\\anaconda3\\Lib\\site-packages\\urllib3\\connectionpool.py:1056: InsecureRequestWarning: Unverified HTTPS request is being made to host 'omcs-global-customer-persister-ge4.omcs-nonprod.r1.pks.dell.com'. Adding certificate verification is strongly advised. See: https://urllib3.readthedocs.io/en/1.26.x/advanced-usage.html#ssl-warnings\n",
      "  warnings.warn(\n"
     ]
    },
    {
     "name": "stdout",
     "output_type": "stream",
     "text": [
      "<class 'str'>\n",
      "null7040000447319\n",
      "7040000447318\n",
      "https://omcs-global-customer-persister-ge4.omcs-nonprod.r1.pks.dell.com/omcs-global-customer-persister/v1/Dashboard/GetTransformData?dpid=7040000447318\n"
     ]
    },
    {
     "name": "stderr",
     "output_type": "stream",
     "text": [
      "C:\\Users\\Satpum\\AppData\\Local\\anaconda3\\Lib\\site-packages\\urllib3\\connectionpool.py:1056: InsecureRequestWarning: Unverified HTTPS request is being made to host 'omcs-global-customer-persister-ge4.omcs-nonprod.r1.pks.dell.com'. Adding certificate verification is strongly advised. See: https://urllib3.readthedocs.io/en/1.26.x/advanced-usage.html#ssl-warnings\n",
      "  warnings.warn(\n"
     ]
    },
    {
     "name": "stdout",
     "output_type": "stream",
     "text": [
      "<class 'str'>\n",
      "null7040000447318\n",
      "7040000447317\n",
      "https://omcs-global-customer-persister-ge4.omcs-nonprod.r1.pks.dell.com/omcs-global-customer-persister/v1/Dashboard/GetTransformData?dpid=7040000447317\n"
     ]
    },
    {
     "name": "stderr",
     "output_type": "stream",
     "text": [
      "C:\\Users\\Satpum\\AppData\\Local\\anaconda3\\Lib\\site-packages\\urllib3\\connectionpool.py:1056: InsecureRequestWarning: Unverified HTTPS request is being made to host 'omcs-global-customer-persister-ge4.omcs-nonprod.r1.pks.dell.com'. Adding certificate verification is strongly advised. See: https://urllib3.readthedocs.io/en/1.26.x/advanced-usage.html#ssl-warnings\n",
      "  warnings.warn(\n"
     ]
    },
    {
     "name": "stdout",
     "output_type": "stream",
     "text": [
      "<class 'str'>\n",
      "null7040000447317\n",
      "7040000447314\n",
      "https://omcs-global-customer-persister-ge4.omcs-nonprod.r1.pks.dell.com/omcs-global-customer-persister/v1/Dashboard/GetTransformData?dpid=7040000447314\n"
     ]
    },
    {
     "name": "stderr",
     "output_type": "stream",
     "text": [
      "C:\\Users\\Satpum\\AppData\\Local\\anaconda3\\Lib\\site-packages\\urllib3\\connectionpool.py:1056: InsecureRequestWarning: Unverified HTTPS request is being made to host 'omcs-global-customer-persister-ge4.omcs-nonprod.r1.pks.dell.com'. Adding certificate verification is strongly advised. See: https://urllib3.readthedocs.io/en/1.26.x/advanced-usage.html#ssl-warnings\n",
      "  warnings.warn(\n"
     ]
    },
    {
     "name": "stdout",
     "output_type": "stream",
     "text": [
      "<class 'str'>\n",
      "null7040000447314\n",
      "7040000447313\n",
      "https://omcs-global-customer-persister-ge4.omcs-nonprod.r1.pks.dell.com/omcs-global-customer-persister/v1/Dashboard/GetTransformData?dpid=7040000447313\n"
     ]
    },
    {
     "name": "stderr",
     "output_type": "stream",
     "text": [
      "C:\\Users\\Satpum\\AppData\\Local\\anaconda3\\Lib\\site-packages\\urllib3\\connectionpool.py:1056: InsecureRequestWarning: Unverified HTTPS request is being made to host 'omcs-global-customer-persister-ge4.omcs-nonprod.r1.pks.dell.com'. Adding certificate verification is strongly advised. See: https://urllib3.readthedocs.io/en/1.26.x/advanced-usage.html#ssl-warnings\n",
      "  warnings.warn(\n"
     ]
    },
    {
     "name": "stdout",
     "output_type": "stream",
     "text": [
      "<class 'str'>\n",
      "null7040000447313\n",
      "7040000447311\n",
      "https://omcs-global-customer-persister-ge4.omcs-nonprod.r1.pks.dell.com/omcs-global-customer-persister/v1/Dashboard/GetTransformData?dpid=7040000447311\n"
     ]
    },
    {
     "name": "stderr",
     "output_type": "stream",
     "text": [
      "C:\\Users\\Satpum\\AppData\\Local\\anaconda3\\Lib\\site-packages\\urllib3\\connectionpool.py:1056: InsecureRequestWarning: Unverified HTTPS request is being made to host 'omcs-global-customer-persister-ge4.omcs-nonprod.r1.pks.dell.com'. Adding certificate verification is strongly advised. See: https://urllib3.readthedocs.io/en/1.26.x/advanced-usage.html#ssl-warnings\n",
      "  warnings.warn(\n"
     ]
    },
    {
     "name": "stdout",
     "output_type": "stream",
     "text": [
      "<class 'str'>\n",
      "null7040000447311\n",
      "7040000447310\n",
      "https://omcs-global-customer-persister-ge4.omcs-nonprod.r1.pks.dell.com/omcs-global-customer-persister/v1/Dashboard/GetTransformData?dpid=7040000447310\n"
     ]
    },
    {
     "name": "stderr",
     "output_type": "stream",
     "text": [
      "C:\\Users\\Satpum\\AppData\\Local\\anaconda3\\Lib\\site-packages\\urllib3\\connectionpool.py:1056: InsecureRequestWarning: Unverified HTTPS request is being made to host 'omcs-global-customer-persister-ge4.omcs-nonprod.r1.pks.dell.com'. Adding certificate verification is strongly advised. See: https://urllib3.readthedocs.io/en/1.26.x/advanced-usage.html#ssl-warnings\n",
      "  warnings.warn(\n"
     ]
    },
    {
     "name": "stdout",
     "output_type": "stream",
     "text": [
      "<class 'str'>\n",
      "null7040000447310\n",
      "7040000447309\n",
      "https://omcs-global-customer-persister-ge4.omcs-nonprod.r1.pks.dell.com/omcs-global-customer-persister/v1/Dashboard/GetTransformData?dpid=7040000447309\n"
     ]
    },
    {
     "name": "stderr",
     "output_type": "stream",
     "text": [
      "C:\\Users\\Satpum\\AppData\\Local\\anaconda3\\Lib\\site-packages\\urllib3\\connectionpool.py:1056: InsecureRequestWarning: Unverified HTTPS request is being made to host 'omcs-global-customer-persister-ge4.omcs-nonprod.r1.pks.dell.com'. Adding certificate verification is strongly advised. See: https://urllib3.readthedocs.io/en/1.26.x/advanced-usage.html#ssl-warnings\n",
      "  warnings.warn(\n"
     ]
    },
    {
     "name": "stdout",
     "output_type": "stream",
     "text": [
      "<class 'str'>\n",
      "null7040000447309\n",
      "7040000447306\n",
      "https://omcs-global-customer-persister-ge4.omcs-nonprod.r1.pks.dell.com/omcs-global-customer-persister/v1/Dashboard/GetTransformData?dpid=7040000447306\n"
     ]
    },
    {
     "name": "stderr",
     "output_type": "stream",
     "text": [
      "C:\\Users\\Satpum\\AppData\\Local\\anaconda3\\Lib\\site-packages\\urllib3\\connectionpool.py:1056: InsecureRequestWarning: Unverified HTTPS request is being made to host 'omcs-global-customer-persister-ge4.omcs-nonprod.r1.pks.dell.com'. Adding certificate verification is strongly advised. See: https://urllib3.readthedocs.io/en/1.26.x/advanced-usage.html#ssl-warnings\n",
      "  warnings.warn(\n"
     ]
    },
    {
     "name": "stdout",
     "output_type": "stream",
     "text": [
      "<class 'str'>\n",
      "null7040000447306\n",
      "7040000447304\n",
      "https://omcs-global-customer-persister-ge4.omcs-nonprod.r1.pks.dell.com/omcs-global-customer-persister/v1/Dashboard/GetTransformData?dpid=7040000447304\n"
     ]
    },
    {
     "name": "stderr",
     "output_type": "stream",
     "text": [
      "C:\\Users\\Satpum\\AppData\\Local\\anaconda3\\Lib\\site-packages\\urllib3\\connectionpool.py:1056: InsecureRequestWarning: Unverified HTTPS request is being made to host 'omcs-global-customer-persister-ge4.omcs-nonprod.r1.pks.dell.com'. Adding certificate verification is strongly advised. See: https://urllib3.readthedocs.io/en/1.26.x/advanced-usage.html#ssl-warnings\n",
      "  warnings.warn(\n"
     ]
    },
    {
     "name": "stdout",
     "output_type": "stream",
     "text": [
      "<class 'str'>\n",
      "null7040000447304\n",
      "7040000447303\n",
      "https://omcs-global-customer-persister-ge4.omcs-nonprod.r1.pks.dell.com/omcs-global-customer-persister/v1/Dashboard/GetTransformData?dpid=7040000447303\n"
     ]
    },
    {
     "name": "stderr",
     "output_type": "stream",
     "text": [
      "C:\\Users\\Satpum\\AppData\\Local\\anaconda3\\Lib\\site-packages\\urllib3\\connectionpool.py:1056: InsecureRequestWarning: Unverified HTTPS request is being made to host 'omcs-global-customer-persister-ge4.omcs-nonprod.r1.pks.dell.com'. Adding certificate verification is strongly advised. See: https://urllib3.readthedocs.io/en/1.26.x/advanced-usage.html#ssl-warnings\n",
      "  warnings.warn(\n"
     ]
    },
    {
     "name": "stdout",
     "output_type": "stream",
     "text": [
      "<class 'str'>\n",
      "null7040000447303\n",
      "7040000447301\n",
      "https://omcs-global-customer-persister-ge4.omcs-nonprod.r1.pks.dell.com/omcs-global-customer-persister/v1/Dashboard/GetTransformData?dpid=7040000447301\n"
     ]
    },
    {
     "name": "stderr",
     "output_type": "stream",
     "text": [
      "C:\\Users\\Satpum\\AppData\\Local\\anaconda3\\Lib\\site-packages\\urllib3\\connectionpool.py:1056: InsecureRequestWarning: Unverified HTTPS request is being made to host 'omcs-global-customer-persister-ge4.omcs-nonprod.r1.pks.dell.com'. Adding certificate verification is strongly advised. See: https://urllib3.readthedocs.io/en/1.26.x/advanced-usage.html#ssl-warnings\n",
      "  warnings.warn(\n"
     ]
    },
    {
     "name": "stdout",
     "output_type": "stream",
     "text": [
      "<class 'str'>\n",
      "null7040000447301\n",
      "7040000447299\n",
      "https://omcs-global-customer-persister-ge4.omcs-nonprod.r1.pks.dell.com/omcs-global-customer-persister/v1/Dashboard/GetTransformData?dpid=7040000447299\n"
     ]
    },
    {
     "name": "stderr",
     "output_type": "stream",
     "text": [
      "C:\\Users\\Satpum\\AppData\\Local\\anaconda3\\Lib\\site-packages\\urllib3\\connectionpool.py:1056: InsecureRequestWarning: Unverified HTTPS request is being made to host 'omcs-global-customer-persister-ge4.omcs-nonprod.r1.pks.dell.com'. Adding certificate verification is strongly advised. See: https://urllib3.readthedocs.io/en/1.26.x/advanced-usage.html#ssl-warnings\n",
      "  warnings.warn(\n"
     ]
    },
    {
     "name": "stdout",
     "output_type": "stream",
     "text": [
      "<class 'str'>\n",
      "null7040000447299\n",
      "7040000447298\n",
      "https://omcs-global-customer-persister-ge4.omcs-nonprod.r1.pks.dell.com/omcs-global-customer-persister/v1/Dashboard/GetTransformData?dpid=7040000447298\n"
     ]
    },
    {
     "name": "stderr",
     "output_type": "stream",
     "text": [
      "C:\\Users\\Satpum\\AppData\\Local\\anaconda3\\Lib\\site-packages\\urllib3\\connectionpool.py:1056: InsecureRequestWarning: Unverified HTTPS request is being made to host 'omcs-global-customer-persister-ge4.omcs-nonprod.r1.pks.dell.com'. Adding certificate verification is strongly advised. See: https://urllib3.readthedocs.io/en/1.26.x/advanced-usage.html#ssl-warnings\n",
      "  warnings.warn(\n"
     ]
    },
    {
     "name": "stdout",
     "output_type": "stream",
     "text": [
      "<class 'str'>\n",
      "null7040000447298\n",
      "7040000447295\n",
      "https://omcs-global-customer-persister-ge4.omcs-nonprod.r1.pks.dell.com/omcs-global-customer-persister/v1/Dashboard/GetTransformData?dpid=7040000447295\n"
     ]
    },
    {
     "name": "stderr",
     "output_type": "stream",
     "text": [
      "C:\\Users\\Satpum\\AppData\\Local\\anaconda3\\Lib\\site-packages\\urllib3\\connectionpool.py:1056: InsecureRequestWarning: Unverified HTTPS request is being made to host 'omcs-global-customer-persister-ge4.omcs-nonprod.r1.pks.dell.com'. Adding certificate verification is strongly advised. See: https://urllib3.readthedocs.io/en/1.26.x/advanced-usage.html#ssl-warnings\n",
      "  warnings.warn(\n"
     ]
    },
    {
     "name": "stdout",
     "output_type": "stream",
     "text": [
      "<class 'str'>\n",
      "null7040000447295\n",
      "7040000447294\n",
      "https://omcs-global-customer-persister-ge4.omcs-nonprod.r1.pks.dell.com/omcs-global-customer-persister/v1/Dashboard/GetTransformData?dpid=7040000447294\n"
     ]
    },
    {
     "name": "stderr",
     "output_type": "stream",
     "text": [
      "C:\\Users\\Satpum\\AppData\\Local\\anaconda3\\Lib\\site-packages\\urllib3\\connectionpool.py:1056: InsecureRequestWarning: Unverified HTTPS request is being made to host 'omcs-global-customer-persister-ge4.omcs-nonprod.r1.pks.dell.com'. Adding certificate verification is strongly advised. See: https://urllib3.readthedocs.io/en/1.26.x/advanced-usage.html#ssl-warnings\n",
      "  warnings.warn(\n"
     ]
    },
    {
     "name": "stdout",
     "output_type": "stream",
     "text": [
      "<class 'str'>\n",
      "null7040000447294\n",
      "7040000447292\n",
      "https://omcs-global-customer-persister-ge4.omcs-nonprod.r1.pks.dell.com/omcs-global-customer-persister/v1/Dashboard/GetTransformData?dpid=7040000447292\n"
     ]
    },
    {
     "name": "stderr",
     "output_type": "stream",
     "text": [
      "C:\\Users\\Satpum\\AppData\\Local\\anaconda3\\Lib\\site-packages\\urllib3\\connectionpool.py:1056: InsecureRequestWarning: Unverified HTTPS request is being made to host 'omcs-global-customer-persister-ge4.omcs-nonprod.r1.pks.dell.com'. Adding certificate verification is strongly advised. See: https://urllib3.readthedocs.io/en/1.26.x/advanced-usage.html#ssl-warnings\n",
      "  warnings.warn(\n"
     ]
    },
    {
     "name": "stdout",
     "output_type": "stream",
     "text": [
      "<class 'str'>\n",
      "null7040000447292\n",
      "7040000447291\n",
      "https://omcs-global-customer-persister-ge4.omcs-nonprod.r1.pks.dell.com/omcs-global-customer-persister/v1/Dashboard/GetTransformData?dpid=7040000447291\n"
     ]
    },
    {
     "name": "stderr",
     "output_type": "stream",
     "text": [
      "C:\\Users\\Satpum\\AppData\\Local\\anaconda3\\Lib\\site-packages\\urllib3\\connectionpool.py:1056: InsecureRequestWarning: Unverified HTTPS request is being made to host 'omcs-global-customer-persister-ge4.omcs-nonprod.r1.pks.dell.com'. Adding certificate verification is strongly advised. See: https://urllib3.readthedocs.io/en/1.26.x/advanced-usage.html#ssl-warnings\n",
      "  warnings.warn(\n"
     ]
    },
    {
     "name": "stdout",
     "output_type": "stream",
     "text": [
      "<class 'str'>\n",
      "null7040000447291\n",
      "7040000447290\n",
      "https://omcs-global-customer-persister-ge4.omcs-nonprod.r1.pks.dell.com/omcs-global-customer-persister/v1/Dashboard/GetTransformData?dpid=7040000447290\n"
     ]
    },
    {
     "name": "stderr",
     "output_type": "stream",
     "text": [
      "C:\\Users\\Satpum\\AppData\\Local\\anaconda3\\Lib\\site-packages\\urllib3\\connectionpool.py:1056: InsecureRequestWarning: Unverified HTTPS request is being made to host 'omcs-global-customer-persister-ge4.omcs-nonprod.r1.pks.dell.com'. Adding certificate verification is strongly advised. See: https://urllib3.readthedocs.io/en/1.26.x/advanced-usage.html#ssl-warnings\n",
      "  warnings.warn(\n"
     ]
    },
    {
     "name": "stdout",
     "output_type": "stream",
     "text": [
      "<class 'str'>\n",
      "null7040000447290\n",
      "7040000447289\n",
      "https://omcs-global-customer-persister-ge4.omcs-nonprod.r1.pks.dell.com/omcs-global-customer-persister/v1/Dashboard/GetTransformData?dpid=7040000447289\n"
     ]
    },
    {
     "name": "stderr",
     "output_type": "stream",
     "text": [
      "C:\\Users\\Satpum\\AppData\\Local\\anaconda3\\Lib\\site-packages\\urllib3\\connectionpool.py:1056: InsecureRequestWarning: Unverified HTTPS request is being made to host 'omcs-global-customer-persister-ge4.omcs-nonprod.r1.pks.dell.com'. Adding certificate verification is strongly advised. See: https://urllib3.readthedocs.io/en/1.26.x/advanced-usage.html#ssl-warnings\n",
      "  warnings.warn(\n"
     ]
    },
    {
     "name": "stdout",
     "output_type": "stream",
     "text": [
      "<class 'str'>\n",
      "null7040000447289\n",
      "7040000447286\n",
      "https://omcs-global-customer-persister-ge4.omcs-nonprod.r1.pks.dell.com/omcs-global-customer-persister/v1/Dashboard/GetTransformData?dpid=7040000447286\n"
     ]
    },
    {
     "name": "stderr",
     "output_type": "stream",
     "text": [
      "C:\\Users\\Satpum\\AppData\\Local\\anaconda3\\Lib\\site-packages\\urllib3\\connectionpool.py:1056: InsecureRequestWarning: Unverified HTTPS request is being made to host 'omcs-global-customer-persister-ge4.omcs-nonprod.r1.pks.dell.com'. Adding certificate verification is strongly advised. See: https://urllib3.readthedocs.io/en/1.26.x/advanced-usage.html#ssl-warnings\n",
      "  warnings.warn(\n"
     ]
    },
    {
     "name": "stdout",
     "output_type": "stream",
     "text": [
      "<class 'str'>\n",
      "null7040000447286\n",
      "7040000447269\n",
      "https://omcs-global-customer-persister-ge4.omcs-nonprod.r1.pks.dell.com/omcs-global-customer-persister/v1/Dashboard/GetTransformData?dpid=7040000447269\n"
     ]
    },
    {
     "name": "stderr",
     "output_type": "stream",
     "text": [
      "C:\\Users\\Satpum\\AppData\\Local\\anaconda3\\Lib\\site-packages\\urllib3\\connectionpool.py:1056: InsecureRequestWarning: Unverified HTTPS request is being made to host 'omcs-global-customer-persister-ge4.omcs-nonprod.r1.pks.dell.com'. Adding certificate verification is strongly advised. See: https://urllib3.readthedocs.io/en/1.26.x/advanced-usage.html#ssl-warnings\n",
      "  warnings.warn(\n"
     ]
    },
    {
     "name": "stdout",
     "output_type": "stream",
     "text": [
      "<class 'str'>\n",
      "null7040000447269\n",
      "7040000447264\n",
      "https://omcs-global-customer-persister-ge4.omcs-nonprod.r1.pks.dell.com/omcs-global-customer-persister/v1/Dashboard/GetTransformData?dpid=7040000447264\n"
     ]
    },
    {
     "name": "stderr",
     "output_type": "stream",
     "text": [
      "C:\\Users\\Satpum\\AppData\\Local\\anaconda3\\Lib\\site-packages\\urllib3\\connectionpool.py:1056: InsecureRequestWarning: Unverified HTTPS request is being made to host 'omcs-global-customer-persister-ge4.omcs-nonprod.r1.pks.dell.com'. Adding certificate verification is strongly advised. See: https://urllib3.readthedocs.io/en/1.26.x/advanced-usage.html#ssl-warnings\n",
      "  warnings.warn(\n"
     ]
    },
    {
     "name": "stdout",
     "output_type": "stream",
     "text": [
      "<class 'str'>\n",
      "null7040000447264\n",
      "7040000447261\n",
      "https://omcs-global-customer-persister-ge4.omcs-nonprod.r1.pks.dell.com/omcs-global-customer-persister/v1/Dashboard/GetTransformData?dpid=7040000447261\n"
     ]
    },
    {
     "name": "stderr",
     "output_type": "stream",
     "text": [
      "C:\\Users\\Satpum\\AppData\\Local\\anaconda3\\Lib\\site-packages\\urllib3\\connectionpool.py:1056: InsecureRequestWarning: Unverified HTTPS request is being made to host 'omcs-global-customer-persister-ge4.omcs-nonprod.r1.pks.dell.com'. Adding certificate verification is strongly advised. See: https://urllib3.readthedocs.io/en/1.26.x/advanced-usage.html#ssl-warnings\n",
      "  warnings.warn(\n"
     ]
    },
    {
     "name": "stdout",
     "output_type": "stream",
     "text": [
      "<class 'str'>\n",
      "null7040000447261\n",
      "7040000447259\n",
      "https://omcs-global-customer-persister-ge4.omcs-nonprod.r1.pks.dell.com/omcs-global-customer-persister/v1/Dashboard/GetTransformData?dpid=7040000447259\n"
     ]
    },
    {
     "name": "stderr",
     "output_type": "stream",
     "text": [
      "C:\\Users\\Satpum\\AppData\\Local\\anaconda3\\Lib\\site-packages\\urllib3\\connectionpool.py:1056: InsecureRequestWarning: Unverified HTTPS request is being made to host 'omcs-global-customer-persister-ge4.omcs-nonprod.r1.pks.dell.com'. Adding certificate verification is strongly advised. See: https://urllib3.readthedocs.io/en/1.26.x/advanced-usage.html#ssl-warnings\n",
      "  warnings.warn(\n"
     ]
    },
    {
     "name": "stdout",
     "output_type": "stream",
     "text": [
      "<class 'str'>\n",
      "null7040000447259\n",
      "7040000447258\n",
      "https://omcs-global-customer-persister-ge4.omcs-nonprod.r1.pks.dell.com/omcs-global-customer-persister/v1/Dashboard/GetTransformData?dpid=7040000447258\n"
     ]
    },
    {
     "name": "stderr",
     "output_type": "stream",
     "text": [
      "C:\\Users\\Satpum\\AppData\\Local\\anaconda3\\Lib\\site-packages\\urllib3\\connectionpool.py:1056: InsecureRequestWarning: Unverified HTTPS request is being made to host 'omcs-global-customer-persister-ge4.omcs-nonprod.r1.pks.dell.com'. Adding certificate verification is strongly advised. See: https://urllib3.readthedocs.io/en/1.26.x/advanced-usage.html#ssl-warnings\n",
      "  warnings.warn(\n"
     ]
    },
    {
     "name": "stdout",
     "output_type": "stream",
     "text": [
      "<class 'str'>\n",
      "not null\n",
      "7040000447257\n",
      "https://omcs-global-customer-persister-ge4.omcs-nonprod.r1.pks.dell.com/omcs-global-customer-persister/v1/Dashboard/GetTransformData?dpid=7040000447257\n"
     ]
    },
    {
     "name": "stderr",
     "output_type": "stream",
     "text": [
      "C:\\Users\\Satpum\\AppData\\Local\\anaconda3\\Lib\\site-packages\\urllib3\\connectionpool.py:1056: InsecureRequestWarning: Unverified HTTPS request is being made to host 'omcs-global-customer-persister-ge4.omcs-nonprod.r1.pks.dell.com'. Adding certificate verification is strongly advised. See: https://urllib3.readthedocs.io/en/1.26.x/advanced-usage.html#ssl-warnings\n",
      "  warnings.warn(\n"
     ]
    },
    {
     "name": "stdout",
     "output_type": "stream",
     "text": [
      "<class 'str'>\n",
      "not null\n",
      "7040000447256\n",
      "https://omcs-global-customer-persister-ge4.omcs-nonprod.r1.pks.dell.com/omcs-global-customer-persister/v1/Dashboard/GetTransformData?dpid=7040000447256\n"
     ]
    },
    {
     "name": "stderr",
     "output_type": "stream",
     "text": [
      "C:\\Users\\Satpum\\AppData\\Local\\anaconda3\\Lib\\site-packages\\urllib3\\connectionpool.py:1056: InsecureRequestWarning: Unverified HTTPS request is being made to host 'omcs-global-customer-persister-ge4.omcs-nonprod.r1.pks.dell.com'. Adding certificate verification is strongly advised. See: https://urllib3.readthedocs.io/en/1.26.x/advanced-usage.html#ssl-warnings\n",
      "  warnings.warn(\n"
     ]
    },
    {
     "name": "stdout",
     "output_type": "stream",
     "text": [
      "<class 'str'>\n",
      "not null\n",
      "7040000447250\n",
      "https://omcs-global-customer-persister-ge4.omcs-nonprod.r1.pks.dell.com/omcs-global-customer-persister/v1/Dashboard/GetTransformData?dpid=7040000447250\n"
     ]
    },
    {
     "name": "stderr",
     "output_type": "stream",
     "text": [
      "C:\\Users\\Satpum\\AppData\\Local\\anaconda3\\Lib\\site-packages\\urllib3\\connectionpool.py:1056: InsecureRequestWarning: Unverified HTTPS request is being made to host 'omcs-global-customer-persister-ge4.omcs-nonprod.r1.pks.dell.com'. Adding certificate verification is strongly advised. See: https://urllib3.readthedocs.io/en/1.26.x/advanced-usage.html#ssl-warnings\n",
      "  warnings.warn(\n"
     ]
    },
    {
     "name": "stdout",
     "output_type": "stream",
     "text": [
      "<class 'str'>\n",
      "not null\n",
      "7040000447249\n",
      "https://omcs-global-customer-persister-ge4.omcs-nonprod.r1.pks.dell.com/omcs-global-customer-persister/v1/Dashboard/GetTransformData?dpid=7040000447249\n"
     ]
    },
    {
     "name": "stderr",
     "output_type": "stream",
     "text": [
      "C:\\Users\\Satpum\\AppData\\Local\\anaconda3\\Lib\\site-packages\\urllib3\\connectionpool.py:1056: InsecureRequestWarning: Unverified HTTPS request is being made to host 'omcs-global-customer-persister-ge4.omcs-nonprod.r1.pks.dell.com'. Adding certificate verification is strongly advised. See: https://urllib3.readthedocs.io/en/1.26.x/advanced-usage.html#ssl-warnings\n",
      "  warnings.warn(\n"
     ]
    },
    {
     "name": "stdout",
     "output_type": "stream",
     "text": [
      "<class 'str'>\n",
      "not null\n",
      "7040000447247\n",
      "https://omcs-global-customer-persister-ge4.omcs-nonprod.r1.pks.dell.com/omcs-global-customer-persister/v1/Dashboard/GetTransformData?dpid=7040000447247\n"
     ]
    },
    {
     "name": "stderr",
     "output_type": "stream",
     "text": [
      "C:\\Users\\Satpum\\AppData\\Local\\anaconda3\\Lib\\site-packages\\urllib3\\connectionpool.py:1056: InsecureRequestWarning: Unverified HTTPS request is being made to host 'omcs-global-customer-persister-ge4.omcs-nonprod.r1.pks.dell.com'. Adding certificate verification is strongly advised. See: https://urllib3.readthedocs.io/en/1.26.x/advanced-usage.html#ssl-warnings\n",
      "  warnings.warn(\n"
     ]
    },
    {
     "name": "stdout",
     "output_type": "stream",
     "text": [
      "<class 'str'>\n",
      "not null\n",
      "7040000447246\n",
      "https://omcs-global-customer-persister-ge4.omcs-nonprod.r1.pks.dell.com/omcs-global-customer-persister/v1/Dashboard/GetTransformData?dpid=7040000447246\n"
     ]
    },
    {
     "name": "stderr",
     "output_type": "stream",
     "text": [
      "C:\\Users\\Satpum\\AppData\\Local\\anaconda3\\Lib\\site-packages\\urllib3\\connectionpool.py:1056: InsecureRequestWarning: Unverified HTTPS request is being made to host 'omcs-global-customer-persister-ge4.omcs-nonprod.r1.pks.dell.com'. Adding certificate verification is strongly advised. See: https://urllib3.readthedocs.io/en/1.26.x/advanced-usage.html#ssl-warnings\n",
      "  warnings.warn(\n"
     ]
    },
    {
     "name": "stdout",
     "output_type": "stream",
     "text": [
      "<class 'str'>\n",
      "not null\n",
      "7040000447231\n",
      "https://omcs-global-customer-persister-ge4.omcs-nonprod.r1.pks.dell.com/omcs-global-customer-persister/v1/Dashboard/GetTransformData?dpid=7040000447231\n"
     ]
    },
    {
     "name": "stderr",
     "output_type": "stream",
     "text": [
      "C:\\Users\\Satpum\\AppData\\Local\\anaconda3\\Lib\\site-packages\\urllib3\\connectionpool.py:1056: InsecureRequestWarning: Unverified HTTPS request is being made to host 'omcs-global-customer-persister-ge4.omcs-nonprod.r1.pks.dell.com'. Adding certificate verification is strongly advised. See: https://urllib3.readthedocs.io/en/1.26.x/advanced-usage.html#ssl-warnings\n",
      "  warnings.warn(\n"
     ]
    },
    {
     "name": "stdout",
     "output_type": "stream",
     "text": [
      "<class 'str'>\n",
      "null7040000447231\n",
      "7040000447230\n",
      "https://omcs-global-customer-persister-ge4.omcs-nonprod.r1.pks.dell.com/omcs-global-customer-persister/v1/Dashboard/GetTransformData?dpid=7040000447230\n"
     ]
    },
    {
     "name": "stderr",
     "output_type": "stream",
     "text": [
      "C:\\Users\\Satpum\\AppData\\Local\\anaconda3\\Lib\\site-packages\\urllib3\\connectionpool.py:1056: InsecureRequestWarning: Unverified HTTPS request is being made to host 'omcs-global-customer-persister-ge4.omcs-nonprod.r1.pks.dell.com'. Adding certificate verification is strongly advised. See: https://urllib3.readthedocs.io/en/1.26.x/advanced-usage.html#ssl-warnings\n",
      "  warnings.warn(\n"
     ]
    },
    {
     "name": "stdout",
     "output_type": "stream",
     "text": [
      "<class 'str'>\n",
      "null7040000447230\n",
      "7040000447225\n",
      "https://omcs-global-customer-persister-ge4.omcs-nonprod.r1.pks.dell.com/omcs-global-customer-persister/v1/Dashboard/GetTransformData?dpid=7040000447225\n"
     ]
    },
    {
     "name": "stderr",
     "output_type": "stream",
     "text": [
      "C:\\Users\\Satpum\\AppData\\Local\\anaconda3\\Lib\\site-packages\\urllib3\\connectionpool.py:1056: InsecureRequestWarning: Unverified HTTPS request is being made to host 'omcs-global-customer-persister-ge4.omcs-nonprod.r1.pks.dell.com'. Adding certificate verification is strongly advised. See: https://urllib3.readthedocs.io/en/1.26.x/advanced-usage.html#ssl-warnings\n",
      "  warnings.warn(\n"
     ]
    },
    {
     "name": "stdout",
     "output_type": "stream",
     "text": [
      "<class 'str'>\n",
      "null7040000447225\n",
      "7040000447224\n",
      "https://omcs-global-customer-persister-ge4.omcs-nonprod.r1.pks.dell.com/omcs-global-customer-persister/v1/Dashboard/GetTransformData?dpid=7040000447224\n"
     ]
    },
    {
     "name": "stderr",
     "output_type": "stream",
     "text": [
      "C:\\Users\\Satpum\\AppData\\Local\\anaconda3\\Lib\\site-packages\\urllib3\\connectionpool.py:1056: InsecureRequestWarning: Unverified HTTPS request is being made to host 'omcs-global-customer-persister-ge4.omcs-nonprod.r1.pks.dell.com'. Adding certificate verification is strongly advised. See: https://urllib3.readthedocs.io/en/1.26.x/advanced-usage.html#ssl-warnings\n",
      "  warnings.warn(\n"
     ]
    },
    {
     "name": "stdout",
     "output_type": "stream",
     "text": [
      "<class 'str'>\n",
      "null7040000447224\n",
      "7040000447223\n",
      "https://omcs-global-customer-persister-ge4.omcs-nonprod.r1.pks.dell.com/omcs-global-customer-persister/v1/Dashboard/GetTransformData?dpid=7040000447223\n"
     ]
    },
    {
     "name": "stderr",
     "output_type": "stream",
     "text": [
      "C:\\Users\\Satpum\\AppData\\Local\\anaconda3\\Lib\\site-packages\\urllib3\\connectionpool.py:1056: InsecureRequestWarning: Unverified HTTPS request is being made to host 'omcs-global-customer-persister-ge4.omcs-nonprod.r1.pks.dell.com'. Adding certificate verification is strongly advised. See: https://urllib3.readthedocs.io/en/1.26.x/advanced-usage.html#ssl-warnings\n",
      "  warnings.warn(\n"
     ]
    },
    {
     "name": "stdout",
     "output_type": "stream",
     "text": [
      "<class 'str'>\n",
      "null7040000447223\n",
      "7040000447219\n",
      "https://omcs-global-customer-persister-ge4.omcs-nonprod.r1.pks.dell.com/omcs-global-customer-persister/v1/Dashboard/GetTransformData?dpid=7040000447219\n"
     ]
    },
    {
     "name": "stderr",
     "output_type": "stream",
     "text": [
      "C:\\Users\\Satpum\\AppData\\Local\\anaconda3\\Lib\\site-packages\\urllib3\\connectionpool.py:1056: InsecureRequestWarning: Unverified HTTPS request is being made to host 'omcs-global-customer-persister-ge4.omcs-nonprod.r1.pks.dell.com'. Adding certificate verification is strongly advised. See: https://urllib3.readthedocs.io/en/1.26.x/advanced-usage.html#ssl-warnings\n",
      "  warnings.warn(\n"
     ]
    },
    {
     "name": "stdout",
     "output_type": "stream",
     "text": [
      "<class 'str'>\n",
      "not null\n",
      "7040000447169\n",
      "https://omcs-global-customer-persister-ge4.omcs-nonprod.r1.pks.dell.com/omcs-global-customer-persister/v1/Dashboard/GetTransformData?dpid=7040000447169\n"
     ]
    },
    {
     "name": "stderr",
     "output_type": "stream",
     "text": [
      "C:\\Users\\Satpum\\AppData\\Local\\anaconda3\\Lib\\site-packages\\urllib3\\connectionpool.py:1056: InsecureRequestWarning: Unverified HTTPS request is being made to host 'omcs-global-customer-persister-ge4.omcs-nonprod.r1.pks.dell.com'. Adding certificate verification is strongly advised. See: https://urllib3.readthedocs.io/en/1.26.x/advanced-usage.html#ssl-warnings\n",
      "  warnings.warn(\n"
     ]
    },
    {
     "name": "stdout",
     "output_type": "stream",
     "text": [
      "<class 'str'>\n",
      "null7040000447169\n",
      "7040000447168\n",
      "https://omcs-global-customer-persister-ge4.omcs-nonprod.r1.pks.dell.com/omcs-global-customer-persister/v1/Dashboard/GetTransformData?dpid=7040000447168\n"
     ]
    },
    {
     "name": "stderr",
     "output_type": "stream",
     "text": [
      "C:\\Users\\Satpum\\AppData\\Local\\anaconda3\\Lib\\site-packages\\urllib3\\connectionpool.py:1056: InsecureRequestWarning: Unverified HTTPS request is being made to host 'omcs-global-customer-persister-ge4.omcs-nonprod.r1.pks.dell.com'. Adding certificate verification is strongly advised. See: https://urllib3.readthedocs.io/en/1.26.x/advanced-usage.html#ssl-warnings\n",
      "  warnings.warn(\n"
     ]
    },
    {
     "name": "stdout",
     "output_type": "stream",
     "text": [
      "<class 'str'>\n",
      "null7040000447168\n",
      "7040000447166\n",
      "https://omcs-global-customer-persister-ge4.omcs-nonprod.r1.pks.dell.com/omcs-global-customer-persister/v1/Dashboard/GetTransformData?dpid=7040000447166\n"
     ]
    },
    {
     "name": "stderr",
     "output_type": "stream",
     "text": [
      "C:\\Users\\Satpum\\AppData\\Local\\anaconda3\\Lib\\site-packages\\urllib3\\connectionpool.py:1056: InsecureRequestWarning: Unverified HTTPS request is being made to host 'omcs-global-customer-persister-ge4.omcs-nonprod.r1.pks.dell.com'. Adding certificate verification is strongly advised. See: https://urllib3.readthedocs.io/en/1.26.x/advanced-usage.html#ssl-warnings\n",
      "  warnings.warn(\n"
     ]
    },
    {
     "name": "stdout",
     "output_type": "stream",
     "text": [
      "<class 'str'>\n",
      "null7040000447166\n",
      "7040000447161\n",
      "https://omcs-global-customer-persister-ge4.omcs-nonprod.r1.pks.dell.com/omcs-global-customer-persister/v1/Dashboard/GetTransformData?dpid=7040000447161\n"
     ]
    },
    {
     "name": "stderr",
     "output_type": "stream",
     "text": [
      "C:\\Users\\Satpum\\AppData\\Local\\anaconda3\\Lib\\site-packages\\urllib3\\connectionpool.py:1056: InsecureRequestWarning: Unverified HTTPS request is being made to host 'omcs-global-customer-persister-ge4.omcs-nonprod.r1.pks.dell.com'. Adding certificate verification is strongly advised. See: https://urllib3.readthedocs.io/en/1.26.x/advanced-usage.html#ssl-warnings\n",
      "  warnings.warn(\n"
     ]
    },
    {
     "name": "stdout",
     "output_type": "stream",
     "text": [
      "<class 'str'>\n",
      "null7040000447161\n",
      "7040000447160\n",
      "https://omcs-global-customer-persister-ge4.omcs-nonprod.r1.pks.dell.com/omcs-global-customer-persister/v1/Dashboard/GetTransformData?dpid=7040000447160\n"
     ]
    },
    {
     "name": "stderr",
     "output_type": "stream",
     "text": [
      "C:\\Users\\Satpum\\AppData\\Local\\anaconda3\\Lib\\site-packages\\urllib3\\connectionpool.py:1056: InsecureRequestWarning: Unverified HTTPS request is being made to host 'omcs-global-customer-persister-ge4.omcs-nonprod.r1.pks.dell.com'. Adding certificate verification is strongly advised. See: https://urllib3.readthedocs.io/en/1.26.x/advanced-usage.html#ssl-warnings\n",
      "  warnings.warn(\n"
     ]
    },
    {
     "name": "stdout",
     "output_type": "stream",
     "text": [
      "<class 'str'>\n",
      "null7040000447160\n",
      "7040000447159\n",
      "https://omcs-global-customer-persister-ge4.omcs-nonprod.r1.pks.dell.com/omcs-global-customer-persister/v1/Dashboard/GetTransformData?dpid=7040000447159\n"
     ]
    },
    {
     "name": "stderr",
     "output_type": "stream",
     "text": [
      "C:\\Users\\Satpum\\AppData\\Local\\anaconda3\\Lib\\site-packages\\urllib3\\connectionpool.py:1056: InsecureRequestWarning: Unverified HTTPS request is being made to host 'omcs-global-customer-persister-ge4.omcs-nonprod.r1.pks.dell.com'. Adding certificate verification is strongly advised. See: https://urllib3.readthedocs.io/en/1.26.x/advanced-usage.html#ssl-warnings\n",
      "  warnings.warn(\n"
     ]
    },
    {
     "name": "stdout",
     "output_type": "stream",
     "text": [
      "<class 'str'>\n",
      "null7040000447159\n",
      "7040000447155\n",
      "https://omcs-global-customer-persister-ge4.omcs-nonprod.r1.pks.dell.com/omcs-global-customer-persister/v1/Dashboard/GetTransformData?dpid=7040000447155\n"
     ]
    },
    {
     "name": "stderr",
     "output_type": "stream",
     "text": [
      "C:\\Users\\Satpum\\AppData\\Local\\anaconda3\\Lib\\site-packages\\urllib3\\connectionpool.py:1056: InsecureRequestWarning: Unverified HTTPS request is being made to host 'omcs-global-customer-persister-ge4.omcs-nonprod.r1.pks.dell.com'. Adding certificate verification is strongly advised. See: https://urllib3.readthedocs.io/en/1.26.x/advanced-usage.html#ssl-warnings\n",
      "  warnings.warn(\n"
     ]
    },
    {
     "name": "stdout",
     "output_type": "stream",
     "text": [
      "<class 'str'>\n",
      "null7040000447155\n",
      "7040000447154\n",
      "https://omcs-global-customer-persister-ge4.omcs-nonprod.r1.pks.dell.com/omcs-global-customer-persister/v1/Dashboard/GetTransformData?dpid=7040000447154\n"
     ]
    },
    {
     "name": "stderr",
     "output_type": "stream",
     "text": [
      "C:\\Users\\Satpum\\AppData\\Local\\anaconda3\\Lib\\site-packages\\urllib3\\connectionpool.py:1056: InsecureRequestWarning: Unverified HTTPS request is being made to host 'omcs-global-customer-persister-ge4.omcs-nonprod.r1.pks.dell.com'. Adding certificate verification is strongly advised. See: https://urllib3.readthedocs.io/en/1.26.x/advanced-usage.html#ssl-warnings\n",
      "  warnings.warn(\n"
     ]
    },
    {
     "name": "stdout",
     "output_type": "stream",
     "text": [
      "<class 'str'>\n",
      "null7040000447154\n",
      "7040000447153\n",
      "https://omcs-global-customer-persister-ge4.omcs-nonprod.r1.pks.dell.com/omcs-global-customer-persister/v1/Dashboard/GetTransformData?dpid=7040000447153\n"
     ]
    },
    {
     "name": "stderr",
     "output_type": "stream",
     "text": [
      "C:\\Users\\Satpum\\AppData\\Local\\anaconda3\\Lib\\site-packages\\urllib3\\connectionpool.py:1056: InsecureRequestWarning: Unverified HTTPS request is being made to host 'omcs-global-customer-persister-ge4.omcs-nonprod.r1.pks.dell.com'. Adding certificate verification is strongly advised. See: https://urllib3.readthedocs.io/en/1.26.x/advanced-usage.html#ssl-warnings\n",
      "  warnings.warn(\n"
     ]
    },
    {
     "name": "stdout",
     "output_type": "stream",
     "text": [
      "<class 'str'>\n",
      "null7040000447153\n",
      "7040000447152\n",
      "https://omcs-global-customer-persister-ge4.omcs-nonprod.r1.pks.dell.com/omcs-global-customer-persister/v1/Dashboard/GetTransformData?dpid=7040000447152\n"
     ]
    },
    {
     "name": "stderr",
     "output_type": "stream",
     "text": [
      "C:\\Users\\Satpum\\AppData\\Local\\anaconda3\\Lib\\site-packages\\urllib3\\connectionpool.py:1056: InsecureRequestWarning: Unverified HTTPS request is being made to host 'omcs-global-customer-persister-ge4.omcs-nonprod.r1.pks.dell.com'. Adding certificate verification is strongly advised. See: https://urllib3.readthedocs.io/en/1.26.x/advanced-usage.html#ssl-warnings\n",
      "  warnings.warn(\n"
     ]
    },
    {
     "name": "stdout",
     "output_type": "stream",
     "text": [
      "<class 'str'>\n",
      "null7040000447152\n",
      "7040000447147\n",
      "https://omcs-global-customer-persister-ge4.omcs-nonprod.r1.pks.dell.com/omcs-global-customer-persister/v1/Dashboard/GetTransformData?dpid=7040000447147\n"
     ]
    },
    {
     "name": "stderr",
     "output_type": "stream",
     "text": [
      "C:\\Users\\Satpum\\AppData\\Local\\anaconda3\\Lib\\site-packages\\urllib3\\connectionpool.py:1056: InsecureRequestWarning: Unverified HTTPS request is being made to host 'omcs-global-customer-persister-ge4.omcs-nonprod.r1.pks.dell.com'. Adding certificate verification is strongly advised. See: https://urllib3.readthedocs.io/en/1.26.x/advanced-usage.html#ssl-warnings\n",
      "  warnings.warn(\n"
     ]
    },
    {
     "name": "stdout",
     "output_type": "stream",
     "text": [
      "<class 'str'>\n",
      "null7040000447147\n",
      "7040000447146\n",
      "https://omcs-global-customer-persister-ge4.omcs-nonprod.r1.pks.dell.com/omcs-global-customer-persister/v1/Dashboard/GetTransformData?dpid=7040000447146\n"
     ]
    },
    {
     "name": "stderr",
     "output_type": "stream",
     "text": [
      "C:\\Users\\Satpum\\AppData\\Local\\anaconda3\\Lib\\site-packages\\urllib3\\connectionpool.py:1056: InsecureRequestWarning: Unverified HTTPS request is being made to host 'omcs-global-customer-persister-ge4.omcs-nonprod.r1.pks.dell.com'. Adding certificate verification is strongly advised. See: https://urllib3.readthedocs.io/en/1.26.x/advanced-usage.html#ssl-warnings\n",
      "  warnings.warn(\n"
     ]
    },
    {
     "name": "stdout",
     "output_type": "stream",
     "text": [
      "<class 'str'>\n",
      "null7040000447146\n",
      "7040000447115\n",
      "https://omcs-global-customer-persister-ge4.omcs-nonprod.r1.pks.dell.com/omcs-global-customer-persister/v1/Dashboard/GetTransformData?dpid=7040000447115\n"
     ]
    },
    {
     "name": "stderr",
     "output_type": "stream",
     "text": [
      "C:\\Users\\Satpum\\AppData\\Local\\anaconda3\\Lib\\site-packages\\urllib3\\connectionpool.py:1056: InsecureRequestWarning: Unverified HTTPS request is being made to host 'omcs-global-customer-persister-ge4.omcs-nonprod.r1.pks.dell.com'. Adding certificate verification is strongly advised. See: https://urllib3.readthedocs.io/en/1.26.x/advanced-usage.html#ssl-warnings\n",
      "  warnings.warn(\n"
     ]
    },
    {
     "name": "stdout",
     "output_type": "stream",
     "text": [
      "<class 'str'>\n",
      "null7040000447115\n",
      "7040000447114\n",
      "https://omcs-global-customer-persister-ge4.omcs-nonprod.r1.pks.dell.com/omcs-global-customer-persister/v1/Dashboard/GetTransformData?dpid=7040000447114\n"
     ]
    },
    {
     "name": "stderr",
     "output_type": "stream",
     "text": [
      "C:\\Users\\Satpum\\AppData\\Local\\anaconda3\\Lib\\site-packages\\urllib3\\connectionpool.py:1056: InsecureRequestWarning: Unverified HTTPS request is being made to host 'omcs-global-customer-persister-ge4.omcs-nonprod.r1.pks.dell.com'. Adding certificate verification is strongly advised. See: https://urllib3.readthedocs.io/en/1.26.x/advanced-usage.html#ssl-warnings\n",
      "  warnings.warn(\n"
     ]
    },
    {
     "name": "stdout",
     "output_type": "stream",
     "text": [
      "<class 'str'>\n",
      "null7040000447114\n",
      "7040000447103\n",
      "https://omcs-global-customer-persister-ge4.omcs-nonprod.r1.pks.dell.com/omcs-global-customer-persister/v1/Dashboard/GetTransformData?dpid=7040000447103\n"
     ]
    },
    {
     "name": "stderr",
     "output_type": "stream",
     "text": [
      "C:\\Users\\Satpum\\AppData\\Local\\anaconda3\\Lib\\site-packages\\urllib3\\connectionpool.py:1056: InsecureRequestWarning: Unverified HTTPS request is being made to host 'omcs-global-customer-persister-ge4.omcs-nonprod.r1.pks.dell.com'. Adding certificate verification is strongly advised. See: https://urllib3.readthedocs.io/en/1.26.x/advanced-usage.html#ssl-warnings\n",
      "  warnings.warn(\n"
     ]
    },
    {
     "name": "stdout",
     "output_type": "stream",
     "text": [
      "<class 'str'>\n",
      "null7040000447103\n",
      "7040000447102\n",
      "https://omcs-global-customer-persister-ge4.omcs-nonprod.r1.pks.dell.com/omcs-global-customer-persister/v1/Dashboard/GetTransformData?dpid=7040000447102\n"
     ]
    },
    {
     "name": "stderr",
     "output_type": "stream",
     "text": [
      "C:\\Users\\Satpum\\AppData\\Local\\anaconda3\\Lib\\site-packages\\urllib3\\connectionpool.py:1056: InsecureRequestWarning: Unverified HTTPS request is being made to host 'omcs-global-customer-persister-ge4.omcs-nonprod.r1.pks.dell.com'. Adding certificate verification is strongly advised. See: https://urllib3.readthedocs.io/en/1.26.x/advanced-usage.html#ssl-warnings\n",
      "  warnings.warn(\n"
     ]
    },
    {
     "name": "stdout",
     "output_type": "stream",
     "text": [
      "<class 'str'>\n",
      "null7040000447102\n",
      "7040000447099\n",
      "https://omcs-global-customer-persister-ge4.omcs-nonprod.r1.pks.dell.com/omcs-global-customer-persister/v1/Dashboard/GetTransformData?dpid=7040000447099\n"
     ]
    },
    {
     "name": "stderr",
     "output_type": "stream",
     "text": [
      "C:\\Users\\Satpum\\AppData\\Local\\anaconda3\\Lib\\site-packages\\urllib3\\connectionpool.py:1056: InsecureRequestWarning: Unverified HTTPS request is being made to host 'omcs-global-customer-persister-ge4.omcs-nonprod.r1.pks.dell.com'. Adding certificate verification is strongly advised. See: https://urllib3.readthedocs.io/en/1.26.x/advanced-usage.html#ssl-warnings\n",
      "  warnings.warn(\n"
     ]
    },
    {
     "name": "stdout",
     "output_type": "stream",
     "text": [
      "<class 'str'>\n",
      "null7040000447099\n",
      "7040000447098\n",
      "https://omcs-global-customer-persister-ge4.omcs-nonprod.r1.pks.dell.com/omcs-global-customer-persister/v1/Dashboard/GetTransformData?dpid=7040000447098\n"
     ]
    },
    {
     "name": "stderr",
     "output_type": "stream",
     "text": [
      "C:\\Users\\Satpum\\AppData\\Local\\anaconda3\\Lib\\site-packages\\urllib3\\connectionpool.py:1056: InsecureRequestWarning: Unverified HTTPS request is being made to host 'omcs-global-customer-persister-ge4.omcs-nonprod.r1.pks.dell.com'. Adding certificate verification is strongly advised. See: https://urllib3.readthedocs.io/en/1.26.x/advanced-usage.html#ssl-warnings\n",
      "  warnings.warn(\n"
     ]
    },
    {
     "name": "stdout",
     "output_type": "stream",
     "text": [
      "<class 'str'>\n",
      "null7040000447098\n",
      "7040000447082\n",
      "https://omcs-global-customer-persister-ge4.omcs-nonprod.r1.pks.dell.com/omcs-global-customer-persister/v1/Dashboard/GetTransformData?dpid=7040000447082\n"
     ]
    },
    {
     "name": "stderr",
     "output_type": "stream",
     "text": [
      "C:\\Users\\Satpum\\AppData\\Local\\anaconda3\\Lib\\site-packages\\urllib3\\connectionpool.py:1056: InsecureRequestWarning: Unverified HTTPS request is being made to host 'omcs-global-customer-persister-ge4.omcs-nonprod.r1.pks.dell.com'. Adding certificate verification is strongly advised. See: https://urllib3.readthedocs.io/en/1.26.x/advanced-usage.html#ssl-warnings\n",
      "  warnings.warn(\n"
     ]
    },
    {
     "name": "stdout",
     "output_type": "stream",
     "text": [
      "<class 'str'>\n",
      "null7040000447082\n",
      "7040000447071\n",
      "https://omcs-global-customer-persister-ge4.omcs-nonprod.r1.pks.dell.com/omcs-global-customer-persister/v1/Dashboard/GetTransformData?dpid=7040000447071\n"
     ]
    },
    {
     "name": "stderr",
     "output_type": "stream",
     "text": [
      "C:\\Users\\Satpum\\AppData\\Local\\anaconda3\\Lib\\site-packages\\urllib3\\connectionpool.py:1056: InsecureRequestWarning: Unverified HTTPS request is being made to host 'omcs-global-customer-persister-ge4.omcs-nonprod.r1.pks.dell.com'. Adding certificate verification is strongly advised. See: https://urllib3.readthedocs.io/en/1.26.x/advanced-usage.html#ssl-warnings\n",
      "  warnings.warn(\n"
     ]
    },
    {
     "name": "stdout",
     "output_type": "stream",
     "text": [
      "<class 'str'>\n",
      "null7040000447071\n",
      "7040000447067\n",
      "https://omcs-global-customer-persister-ge4.omcs-nonprod.r1.pks.dell.com/omcs-global-customer-persister/v1/Dashboard/GetTransformData?dpid=7040000447067\n"
     ]
    },
    {
     "name": "stderr",
     "output_type": "stream",
     "text": [
      "C:\\Users\\Satpum\\AppData\\Local\\anaconda3\\Lib\\site-packages\\urllib3\\connectionpool.py:1056: InsecureRequestWarning: Unverified HTTPS request is being made to host 'omcs-global-customer-persister-ge4.omcs-nonprod.r1.pks.dell.com'. Adding certificate verification is strongly advised. See: https://urllib3.readthedocs.io/en/1.26.x/advanced-usage.html#ssl-warnings\n",
      "  warnings.warn(\n"
     ]
    },
    {
     "name": "stdout",
     "output_type": "stream",
     "text": [
      "<class 'str'>\n",
      "not null\n",
      "7040000447058\n",
      "https://omcs-global-customer-persister-ge4.omcs-nonprod.r1.pks.dell.com/omcs-global-customer-persister/v1/Dashboard/GetTransformData?dpid=7040000447058\n"
     ]
    },
    {
     "name": "stderr",
     "output_type": "stream",
     "text": [
      "C:\\Users\\Satpum\\AppData\\Local\\anaconda3\\Lib\\site-packages\\urllib3\\connectionpool.py:1056: InsecureRequestWarning: Unverified HTTPS request is being made to host 'omcs-global-customer-persister-ge4.omcs-nonprod.r1.pks.dell.com'. Adding certificate verification is strongly advised. See: https://urllib3.readthedocs.io/en/1.26.x/advanced-usage.html#ssl-warnings\n",
      "  warnings.warn(\n"
     ]
    },
    {
     "name": "stdout",
     "output_type": "stream",
     "text": [
      "<class 'str'>\n",
      "null7040000447058\n",
      "7040000447057\n",
      "https://omcs-global-customer-persister-ge4.omcs-nonprod.r1.pks.dell.com/omcs-global-customer-persister/v1/Dashboard/GetTransformData?dpid=7040000447057\n"
     ]
    },
    {
     "name": "stderr",
     "output_type": "stream",
     "text": [
      "C:\\Users\\Satpum\\AppData\\Local\\anaconda3\\Lib\\site-packages\\urllib3\\connectionpool.py:1056: InsecureRequestWarning: Unverified HTTPS request is being made to host 'omcs-global-customer-persister-ge4.omcs-nonprod.r1.pks.dell.com'. Adding certificate verification is strongly advised. See: https://urllib3.readthedocs.io/en/1.26.x/advanced-usage.html#ssl-warnings\n",
      "  warnings.warn(\n"
     ]
    },
    {
     "name": "stdout",
     "output_type": "stream",
     "text": [
      "<class 'str'>\n",
      "null7040000447057\n",
      "7040000447055\n",
      "https://omcs-global-customer-persister-ge4.omcs-nonprod.r1.pks.dell.com/omcs-global-customer-persister/v1/Dashboard/GetTransformData?dpid=7040000447055\n"
     ]
    },
    {
     "name": "stderr",
     "output_type": "stream",
     "text": [
      "C:\\Users\\Satpum\\AppData\\Local\\anaconda3\\Lib\\site-packages\\urllib3\\connectionpool.py:1056: InsecureRequestWarning: Unverified HTTPS request is being made to host 'omcs-global-customer-persister-ge4.omcs-nonprod.r1.pks.dell.com'. Adding certificate verification is strongly advised. See: https://urllib3.readthedocs.io/en/1.26.x/advanced-usage.html#ssl-warnings\n",
      "  warnings.warn(\n"
     ]
    },
    {
     "name": "stdout",
     "output_type": "stream",
     "text": [
      "<class 'str'>\n",
      "null7040000447055\n",
      "7040000447054\n",
      "https://omcs-global-customer-persister-ge4.omcs-nonprod.r1.pks.dell.com/omcs-global-customer-persister/v1/Dashboard/GetTransformData?dpid=7040000447054\n"
     ]
    },
    {
     "name": "stderr",
     "output_type": "stream",
     "text": [
      "C:\\Users\\Satpum\\AppData\\Local\\anaconda3\\Lib\\site-packages\\urllib3\\connectionpool.py:1056: InsecureRequestWarning: Unverified HTTPS request is being made to host 'omcs-global-customer-persister-ge4.omcs-nonprod.r1.pks.dell.com'. Adding certificate verification is strongly advised. See: https://urllib3.readthedocs.io/en/1.26.x/advanced-usage.html#ssl-warnings\n",
      "  warnings.warn(\n"
     ]
    },
    {
     "name": "stdout",
     "output_type": "stream",
     "text": [
      "<class 'str'>\n",
      "null7040000447054\n",
      "7040000447053\n",
      "https://omcs-global-customer-persister-ge4.omcs-nonprod.r1.pks.dell.com/omcs-global-customer-persister/v1/Dashboard/GetTransformData?dpid=7040000447053\n"
     ]
    },
    {
     "name": "stderr",
     "output_type": "stream",
     "text": [
      "C:\\Users\\Satpum\\AppData\\Local\\anaconda3\\Lib\\site-packages\\urllib3\\connectionpool.py:1056: InsecureRequestWarning: Unverified HTTPS request is being made to host 'omcs-global-customer-persister-ge4.omcs-nonprod.r1.pks.dell.com'. Adding certificate verification is strongly advised. See: https://urllib3.readthedocs.io/en/1.26.x/advanced-usage.html#ssl-warnings\n",
      "  warnings.warn(\n"
     ]
    },
    {
     "name": "stdout",
     "output_type": "stream",
     "text": [
      "<class 'str'>\n",
      "null7040000447053\n",
      "7040000447051\n",
      "https://omcs-global-customer-persister-ge4.omcs-nonprod.r1.pks.dell.com/omcs-global-customer-persister/v1/Dashboard/GetTransformData?dpid=7040000447051\n"
     ]
    },
    {
     "name": "stderr",
     "output_type": "stream",
     "text": [
      "C:\\Users\\Satpum\\AppData\\Local\\anaconda3\\Lib\\site-packages\\urllib3\\connectionpool.py:1056: InsecureRequestWarning: Unverified HTTPS request is being made to host 'omcs-global-customer-persister-ge4.omcs-nonprod.r1.pks.dell.com'. Adding certificate verification is strongly advised. See: https://urllib3.readthedocs.io/en/1.26.x/advanced-usage.html#ssl-warnings\n",
      "  warnings.warn(\n"
     ]
    },
    {
     "name": "stdout",
     "output_type": "stream",
     "text": [
      "<class 'str'>\n",
      "null7040000447051\n",
      "7040000447050\n",
      "https://omcs-global-customer-persister-ge4.omcs-nonprod.r1.pks.dell.com/omcs-global-customer-persister/v1/Dashboard/GetTransformData?dpid=7040000447050\n"
     ]
    },
    {
     "name": "stderr",
     "output_type": "stream",
     "text": [
      "C:\\Users\\Satpum\\AppData\\Local\\anaconda3\\Lib\\site-packages\\urllib3\\connectionpool.py:1056: InsecureRequestWarning: Unverified HTTPS request is being made to host 'omcs-global-customer-persister-ge4.omcs-nonprod.r1.pks.dell.com'. Adding certificate verification is strongly advised. See: https://urllib3.readthedocs.io/en/1.26.x/advanced-usage.html#ssl-warnings\n",
      "  warnings.warn(\n"
     ]
    },
    {
     "name": "stdout",
     "output_type": "stream",
     "text": [
      "<class 'str'>\n",
      "null7040000447050\n",
      "7040000447049\n",
      "https://omcs-global-customer-persister-ge4.omcs-nonprod.r1.pks.dell.com/omcs-global-customer-persister/v1/Dashboard/GetTransformData?dpid=7040000447049\n"
     ]
    },
    {
     "name": "stderr",
     "output_type": "stream",
     "text": [
      "C:\\Users\\Satpum\\AppData\\Local\\anaconda3\\Lib\\site-packages\\urllib3\\connectionpool.py:1056: InsecureRequestWarning: Unverified HTTPS request is being made to host 'omcs-global-customer-persister-ge4.omcs-nonprod.r1.pks.dell.com'. Adding certificate verification is strongly advised. See: https://urllib3.readthedocs.io/en/1.26.x/advanced-usage.html#ssl-warnings\n",
      "  warnings.warn(\n"
     ]
    },
    {
     "name": "stdout",
     "output_type": "stream",
     "text": [
      "<class 'str'>\n",
      "null7040000447049\n",
      "7040000447047\n",
      "https://omcs-global-customer-persister-ge4.omcs-nonprod.r1.pks.dell.com/omcs-global-customer-persister/v1/Dashboard/GetTransformData?dpid=7040000447047\n"
     ]
    },
    {
     "name": "stderr",
     "output_type": "stream",
     "text": [
      "C:\\Users\\Satpum\\AppData\\Local\\anaconda3\\Lib\\site-packages\\urllib3\\connectionpool.py:1056: InsecureRequestWarning: Unverified HTTPS request is being made to host 'omcs-global-customer-persister-ge4.omcs-nonprod.r1.pks.dell.com'. Adding certificate verification is strongly advised. See: https://urllib3.readthedocs.io/en/1.26.x/advanced-usage.html#ssl-warnings\n",
      "  warnings.warn(\n"
     ]
    },
    {
     "name": "stdout",
     "output_type": "stream",
     "text": [
      "<class 'str'>\n",
      "null7040000447047\n",
      "7040000447046\n",
      "https://omcs-global-customer-persister-ge4.omcs-nonprod.r1.pks.dell.com/omcs-global-customer-persister/v1/Dashboard/GetTransformData?dpid=7040000447046\n"
     ]
    },
    {
     "name": "stderr",
     "output_type": "stream",
     "text": [
      "C:\\Users\\Satpum\\AppData\\Local\\anaconda3\\Lib\\site-packages\\urllib3\\connectionpool.py:1056: InsecureRequestWarning: Unverified HTTPS request is being made to host 'omcs-global-customer-persister-ge4.omcs-nonprod.r1.pks.dell.com'. Adding certificate verification is strongly advised. See: https://urllib3.readthedocs.io/en/1.26.x/advanced-usage.html#ssl-warnings\n",
      "  warnings.warn(\n"
     ]
    },
    {
     "name": "stdout",
     "output_type": "stream",
     "text": [
      "<class 'str'>\n",
      "null7040000447046\n",
      "7040000447045\n",
      "https://omcs-global-customer-persister-ge4.omcs-nonprod.r1.pks.dell.com/omcs-global-customer-persister/v1/Dashboard/GetTransformData?dpid=7040000447045\n"
     ]
    },
    {
     "name": "stderr",
     "output_type": "stream",
     "text": [
      "C:\\Users\\Satpum\\AppData\\Local\\anaconda3\\Lib\\site-packages\\urllib3\\connectionpool.py:1056: InsecureRequestWarning: Unverified HTTPS request is being made to host 'omcs-global-customer-persister-ge4.omcs-nonprod.r1.pks.dell.com'. Adding certificate verification is strongly advised. See: https://urllib3.readthedocs.io/en/1.26.x/advanced-usage.html#ssl-warnings\n",
      "  warnings.warn(\n"
     ]
    },
    {
     "name": "stdout",
     "output_type": "stream",
     "text": [
      "<class 'str'>\n",
      "null7040000447045\n",
      "7040000447042\n",
      "https://omcs-global-customer-persister-ge4.omcs-nonprod.r1.pks.dell.com/omcs-global-customer-persister/v1/Dashboard/GetTransformData?dpid=7040000447042\n"
     ]
    },
    {
     "name": "stderr",
     "output_type": "stream",
     "text": [
      "C:\\Users\\Satpum\\AppData\\Local\\anaconda3\\Lib\\site-packages\\urllib3\\connectionpool.py:1056: InsecureRequestWarning: Unverified HTTPS request is being made to host 'omcs-global-customer-persister-ge4.omcs-nonprod.r1.pks.dell.com'. Adding certificate verification is strongly advised. See: https://urllib3.readthedocs.io/en/1.26.x/advanced-usage.html#ssl-warnings\n",
      "  warnings.warn(\n"
     ]
    },
    {
     "name": "stdout",
     "output_type": "stream",
     "text": [
      "<class 'str'>\n",
      "null7040000447042\n",
      "7040000447040\n",
      "https://omcs-global-customer-persister-ge4.omcs-nonprod.r1.pks.dell.com/omcs-global-customer-persister/v1/Dashboard/GetTransformData?dpid=7040000447040\n"
     ]
    },
    {
     "name": "stderr",
     "output_type": "stream",
     "text": [
      "C:\\Users\\Satpum\\AppData\\Local\\anaconda3\\Lib\\site-packages\\urllib3\\connectionpool.py:1056: InsecureRequestWarning: Unverified HTTPS request is being made to host 'omcs-global-customer-persister-ge4.omcs-nonprod.r1.pks.dell.com'. Adding certificate verification is strongly advised. See: https://urllib3.readthedocs.io/en/1.26.x/advanced-usage.html#ssl-warnings\n",
      "  warnings.warn(\n"
     ]
    },
    {
     "name": "stdout",
     "output_type": "stream",
     "text": [
      "<class 'str'>\n",
      "null7040000447040\n",
      "7040000447038\n",
      "https://omcs-global-customer-persister-ge4.omcs-nonprod.r1.pks.dell.com/omcs-global-customer-persister/v1/Dashboard/GetTransformData?dpid=7040000447038\n"
     ]
    },
    {
     "name": "stderr",
     "output_type": "stream",
     "text": [
      "C:\\Users\\Satpum\\AppData\\Local\\anaconda3\\Lib\\site-packages\\urllib3\\connectionpool.py:1056: InsecureRequestWarning: Unverified HTTPS request is being made to host 'omcs-global-customer-persister-ge4.omcs-nonprod.r1.pks.dell.com'. Adding certificate verification is strongly advised. See: https://urllib3.readthedocs.io/en/1.26.x/advanced-usage.html#ssl-warnings\n",
      "  warnings.warn(\n"
     ]
    },
    {
     "name": "stdout",
     "output_type": "stream",
     "text": [
      "<class 'str'>\n",
      "null7040000447038\n",
      "7040000447036\n",
      "https://omcs-global-customer-persister-ge4.omcs-nonprod.r1.pks.dell.com/omcs-global-customer-persister/v1/Dashboard/GetTransformData?dpid=7040000447036\n"
     ]
    },
    {
     "name": "stderr",
     "output_type": "stream",
     "text": [
      "C:\\Users\\Satpum\\AppData\\Local\\anaconda3\\Lib\\site-packages\\urllib3\\connectionpool.py:1056: InsecureRequestWarning: Unverified HTTPS request is being made to host 'omcs-global-customer-persister-ge4.omcs-nonprod.r1.pks.dell.com'. Adding certificate verification is strongly advised. See: https://urllib3.readthedocs.io/en/1.26.x/advanced-usage.html#ssl-warnings\n",
      "  warnings.warn(\n"
     ]
    },
    {
     "name": "stdout",
     "output_type": "stream",
     "text": [
      "<class 'str'>\n",
      "null7040000447036\n",
      "7040000447034\n",
      "https://omcs-global-customer-persister-ge4.omcs-nonprod.r1.pks.dell.com/omcs-global-customer-persister/v1/Dashboard/GetTransformData?dpid=7040000447034\n"
     ]
    },
    {
     "name": "stderr",
     "output_type": "stream",
     "text": [
      "C:\\Users\\Satpum\\AppData\\Local\\anaconda3\\Lib\\site-packages\\urllib3\\connectionpool.py:1056: InsecureRequestWarning: Unverified HTTPS request is being made to host 'omcs-global-customer-persister-ge4.omcs-nonprod.r1.pks.dell.com'. Adding certificate verification is strongly advised. See: https://urllib3.readthedocs.io/en/1.26.x/advanced-usage.html#ssl-warnings\n",
      "  warnings.warn(\n"
     ]
    },
    {
     "name": "stdout",
     "output_type": "stream",
     "text": [
      "<class 'str'>\n",
      "null7040000447034\n",
      "7040000447031\n",
      "https://omcs-global-customer-persister-ge4.omcs-nonprod.r1.pks.dell.com/omcs-global-customer-persister/v1/Dashboard/GetTransformData?dpid=7040000447031\n"
     ]
    },
    {
     "name": "stderr",
     "output_type": "stream",
     "text": [
      "C:\\Users\\Satpum\\AppData\\Local\\anaconda3\\Lib\\site-packages\\urllib3\\connectionpool.py:1056: InsecureRequestWarning: Unverified HTTPS request is being made to host 'omcs-global-customer-persister-ge4.omcs-nonprod.r1.pks.dell.com'. Adding certificate verification is strongly advised. See: https://urllib3.readthedocs.io/en/1.26.x/advanced-usage.html#ssl-warnings\n",
      "  warnings.warn(\n"
     ]
    },
    {
     "name": "stdout",
     "output_type": "stream",
     "text": [
      "<class 'str'>\n",
      "null7040000447031\n",
      "7040000447027\n",
      "https://omcs-global-customer-persister-ge4.omcs-nonprod.r1.pks.dell.com/omcs-global-customer-persister/v1/Dashboard/GetTransformData?dpid=7040000447027\n"
     ]
    },
    {
     "name": "stderr",
     "output_type": "stream",
     "text": [
      "C:\\Users\\Satpum\\AppData\\Local\\anaconda3\\Lib\\site-packages\\urllib3\\connectionpool.py:1056: InsecureRequestWarning: Unverified HTTPS request is being made to host 'omcs-global-customer-persister-ge4.omcs-nonprod.r1.pks.dell.com'. Adding certificate verification is strongly advised. See: https://urllib3.readthedocs.io/en/1.26.x/advanced-usage.html#ssl-warnings\n",
      "  warnings.warn(\n"
     ]
    },
    {
     "name": "stdout",
     "output_type": "stream",
     "text": [
      "<class 'str'>\n",
      "null7040000447027\n",
      "7040000447025\n",
      "https://omcs-global-customer-persister-ge4.omcs-nonprod.r1.pks.dell.com/omcs-global-customer-persister/v1/Dashboard/GetTransformData?dpid=7040000447025\n"
     ]
    },
    {
     "name": "stderr",
     "output_type": "stream",
     "text": [
      "C:\\Users\\Satpum\\AppData\\Local\\anaconda3\\Lib\\site-packages\\urllib3\\connectionpool.py:1056: InsecureRequestWarning: Unverified HTTPS request is being made to host 'omcs-global-customer-persister-ge4.omcs-nonprod.r1.pks.dell.com'. Adding certificate verification is strongly advised. See: https://urllib3.readthedocs.io/en/1.26.x/advanced-usage.html#ssl-warnings\n",
      "  warnings.warn(\n"
     ]
    },
    {
     "name": "stdout",
     "output_type": "stream",
     "text": [
      "<class 'str'>\n",
      "null7040000447025\n",
      "7040000447023\n",
      "https://omcs-global-customer-persister-ge4.omcs-nonprod.r1.pks.dell.com/omcs-global-customer-persister/v1/Dashboard/GetTransformData?dpid=7040000447023\n"
     ]
    },
    {
     "name": "stderr",
     "output_type": "stream",
     "text": [
      "C:\\Users\\Satpum\\AppData\\Local\\anaconda3\\Lib\\site-packages\\urllib3\\connectionpool.py:1056: InsecureRequestWarning: Unverified HTTPS request is being made to host 'omcs-global-customer-persister-ge4.omcs-nonprod.r1.pks.dell.com'. Adding certificate verification is strongly advised. See: https://urllib3.readthedocs.io/en/1.26.x/advanced-usage.html#ssl-warnings\n",
      "  warnings.warn(\n"
     ]
    },
    {
     "name": "stdout",
     "output_type": "stream",
     "text": [
      "<class 'str'>\n",
      "null7040000447023\n",
      "7040000447020\n",
      "https://omcs-global-customer-persister-ge4.omcs-nonprod.r1.pks.dell.com/omcs-global-customer-persister/v1/Dashboard/GetTransformData?dpid=7040000447020\n"
     ]
    },
    {
     "name": "stderr",
     "output_type": "stream",
     "text": [
      "C:\\Users\\Satpum\\AppData\\Local\\anaconda3\\Lib\\site-packages\\urllib3\\connectionpool.py:1056: InsecureRequestWarning: Unverified HTTPS request is being made to host 'omcs-global-customer-persister-ge4.omcs-nonprod.r1.pks.dell.com'. Adding certificate verification is strongly advised. See: https://urllib3.readthedocs.io/en/1.26.x/advanced-usage.html#ssl-warnings\n",
      "  warnings.warn(\n"
     ]
    },
    {
     "name": "stdout",
     "output_type": "stream",
     "text": [
      "<class 'str'>\n",
      "null7040000447020\n",
      "7040000447018\n",
      "https://omcs-global-customer-persister-ge4.omcs-nonprod.r1.pks.dell.com/omcs-global-customer-persister/v1/Dashboard/GetTransformData?dpid=7040000447018\n"
     ]
    },
    {
     "name": "stderr",
     "output_type": "stream",
     "text": [
      "C:\\Users\\Satpum\\AppData\\Local\\anaconda3\\Lib\\site-packages\\urllib3\\connectionpool.py:1056: InsecureRequestWarning: Unverified HTTPS request is being made to host 'omcs-global-customer-persister-ge4.omcs-nonprod.r1.pks.dell.com'. Adding certificate verification is strongly advised. See: https://urllib3.readthedocs.io/en/1.26.x/advanced-usage.html#ssl-warnings\n",
      "  warnings.warn(\n"
     ]
    },
    {
     "name": "stdout",
     "output_type": "stream",
     "text": [
      "<class 'str'>\n",
      "null7040000447018\n",
      "7040000447016\n",
      "https://omcs-global-customer-persister-ge4.omcs-nonprod.r1.pks.dell.com/omcs-global-customer-persister/v1/Dashboard/GetTransformData?dpid=7040000447016\n"
     ]
    },
    {
     "name": "stderr",
     "output_type": "stream",
     "text": [
      "C:\\Users\\Satpum\\AppData\\Local\\anaconda3\\Lib\\site-packages\\urllib3\\connectionpool.py:1056: InsecureRequestWarning: Unverified HTTPS request is being made to host 'omcs-global-customer-persister-ge4.omcs-nonprod.r1.pks.dell.com'. Adding certificate verification is strongly advised. See: https://urllib3.readthedocs.io/en/1.26.x/advanced-usage.html#ssl-warnings\n",
      "  warnings.warn(\n"
     ]
    },
    {
     "name": "stdout",
     "output_type": "stream",
     "text": [
      "<class 'str'>\n",
      "null7040000447016\n",
      "7040000447013\n",
      "https://omcs-global-customer-persister-ge4.omcs-nonprod.r1.pks.dell.com/omcs-global-customer-persister/v1/Dashboard/GetTransformData?dpid=7040000447013\n"
     ]
    },
    {
     "name": "stderr",
     "output_type": "stream",
     "text": [
      "C:\\Users\\Satpum\\AppData\\Local\\anaconda3\\Lib\\site-packages\\urllib3\\connectionpool.py:1056: InsecureRequestWarning: Unverified HTTPS request is being made to host 'omcs-global-customer-persister-ge4.omcs-nonprod.r1.pks.dell.com'. Adding certificate verification is strongly advised. See: https://urllib3.readthedocs.io/en/1.26.x/advanced-usage.html#ssl-warnings\n",
      "  warnings.warn(\n"
     ]
    },
    {
     "name": "stdout",
     "output_type": "stream",
     "text": [
      "<class 'str'>\n",
      "null7040000447013\n",
      "7040000447012\n",
      "https://omcs-global-customer-persister-ge4.omcs-nonprod.r1.pks.dell.com/omcs-global-customer-persister/v1/Dashboard/GetTransformData?dpid=7040000447012\n"
     ]
    },
    {
     "name": "stderr",
     "output_type": "stream",
     "text": [
      "C:\\Users\\Satpum\\AppData\\Local\\anaconda3\\Lib\\site-packages\\urllib3\\connectionpool.py:1056: InsecureRequestWarning: Unverified HTTPS request is being made to host 'omcs-global-customer-persister-ge4.omcs-nonprod.r1.pks.dell.com'. Adding certificate verification is strongly advised. See: https://urllib3.readthedocs.io/en/1.26.x/advanced-usage.html#ssl-warnings\n",
      "  warnings.warn(\n"
     ]
    },
    {
     "name": "stdout",
     "output_type": "stream",
     "text": [
      "<class 'str'>\n",
      "null7040000447012\n",
      "7040000447009\n",
      "https://omcs-global-customer-persister-ge4.omcs-nonprod.r1.pks.dell.com/omcs-global-customer-persister/v1/Dashboard/GetTransformData?dpid=7040000447009\n"
     ]
    },
    {
     "name": "stderr",
     "output_type": "stream",
     "text": [
      "C:\\Users\\Satpum\\AppData\\Local\\anaconda3\\Lib\\site-packages\\urllib3\\connectionpool.py:1056: InsecureRequestWarning: Unverified HTTPS request is being made to host 'omcs-global-customer-persister-ge4.omcs-nonprod.r1.pks.dell.com'. Adding certificate verification is strongly advised. See: https://urllib3.readthedocs.io/en/1.26.x/advanced-usage.html#ssl-warnings\n",
      "  warnings.warn(\n"
     ]
    },
    {
     "name": "stdout",
     "output_type": "stream",
     "text": [
      "<class 'str'>\n",
      "null7040000447009\n",
      "7040000447004\n",
      "https://omcs-global-customer-persister-ge4.omcs-nonprod.r1.pks.dell.com/omcs-global-customer-persister/v1/Dashboard/GetTransformData?dpid=7040000447004\n"
     ]
    },
    {
     "name": "stderr",
     "output_type": "stream",
     "text": [
      "C:\\Users\\Satpum\\AppData\\Local\\anaconda3\\Lib\\site-packages\\urllib3\\connectionpool.py:1056: InsecureRequestWarning: Unverified HTTPS request is being made to host 'omcs-global-customer-persister-ge4.omcs-nonprod.r1.pks.dell.com'. Adding certificate verification is strongly advised. See: https://urllib3.readthedocs.io/en/1.26.x/advanced-usage.html#ssl-warnings\n",
      "  warnings.warn(\n"
     ]
    },
    {
     "name": "stdout",
     "output_type": "stream",
     "text": [
      "<class 'str'>\n",
      "null7040000447004\n",
      "7040000447001\n",
      "https://omcs-global-customer-persister-ge4.omcs-nonprod.r1.pks.dell.com/omcs-global-customer-persister/v1/Dashboard/GetTransformData?dpid=7040000447001\n"
     ]
    },
    {
     "name": "stderr",
     "output_type": "stream",
     "text": [
      "C:\\Users\\Satpum\\AppData\\Local\\anaconda3\\Lib\\site-packages\\urllib3\\connectionpool.py:1056: InsecureRequestWarning: Unverified HTTPS request is being made to host 'omcs-global-customer-persister-ge4.omcs-nonprod.r1.pks.dell.com'. Adding certificate verification is strongly advised. See: https://urllib3.readthedocs.io/en/1.26.x/advanced-usage.html#ssl-warnings\n",
      "  warnings.warn(\n"
     ]
    },
    {
     "name": "stdout",
     "output_type": "stream",
     "text": [
      "<class 'str'>\n",
      "null7040000447001\n",
      "7040000446999\n",
      "https://omcs-global-customer-persister-ge4.omcs-nonprod.r1.pks.dell.com/omcs-global-customer-persister/v1/Dashboard/GetTransformData?dpid=7040000446999\n"
     ]
    },
    {
     "name": "stderr",
     "output_type": "stream",
     "text": [
      "C:\\Users\\Satpum\\AppData\\Local\\anaconda3\\Lib\\site-packages\\urllib3\\connectionpool.py:1056: InsecureRequestWarning: Unverified HTTPS request is being made to host 'omcs-global-customer-persister-ge4.omcs-nonprod.r1.pks.dell.com'. Adding certificate verification is strongly advised. See: https://urllib3.readthedocs.io/en/1.26.x/advanced-usage.html#ssl-warnings\n",
      "  warnings.warn(\n"
     ]
    },
    {
     "name": "stdout",
     "output_type": "stream",
     "text": [
      "<class 'str'>\n",
      "null7040000446999\n",
      "7040000446998\n",
      "https://omcs-global-customer-persister-ge4.omcs-nonprod.r1.pks.dell.com/omcs-global-customer-persister/v1/Dashboard/GetTransformData?dpid=7040000446998\n"
     ]
    },
    {
     "name": "stderr",
     "output_type": "stream",
     "text": [
      "C:\\Users\\Satpum\\AppData\\Local\\anaconda3\\Lib\\site-packages\\urllib3\\connectionpool.py:1056: InsecureRequestWarning: Unverified HTTPS request is being made to host 'omcs-global-customer-persister-ge4.omcs-nonprod.r1.pks.dell.com'. Adding certificate verification is strongly advised. See: https://urllib3.readthedocs.io/en/1.26.x/advanced-usage.html#ssl-warnings\n",
      "  warnings.warn(\n"
     ]
    },
    {
     "name": "stdout",
     "output_type": "stream",
     "text": [
      "<class 'str'>\n",
      "null7040000446998\n",
      "7040000446997\n",
      "https://omcs-global-customer-persister-ge4.omcs-nonprod.r1.pks.dell.com/omcs-global-customer-persister/v1/Dashboard/GetTransformData?dpid=7040000446997\n"
     ]
    },
    {
     "name": "stderr",
     "output_type": "stream",
     "text": [
      "C:\\Users\\Satpum\\AppData\\Local\\anaconda3\\Lib\\site-packages\\urllib3\\connectionpool.py:1056: InsecureRequestWarning: Unverified HTTPS request is being made to host 'omcs-global-customer-persister-ge4.omcs-nonprod.r1.pks.dell.com'. Adding certificate verification is strongly advised. See: https://urllib3.readthedocs.io/en/1.26.x/advanced-usage.html#ssl-warnings\n",
      "  warnings.warn(\n"
     ]
    },
    {
     "name": "stdout",
     "output_type": "stream",
     "text": [
      "<class 'str'>\n",
      "null7040000446997\n",
      "7040000446995\n",
      "https://omcs-global-customer-persister-ge4.omcs-nonprod.r1.pks.dell.com/omcs-global-customer-persister/v1/Dashboard/GetTransformData?dpid=7040000446995\n"
     ]
    },
    {
     "name": "stderr",
     "output_type": "stream",
     "text": [
      "C:\\Users\\Satpum\\AppData\\Local\\anaconda3\\Lib\\site-packages\\urllib3\\connectionpool.py:1056: InsecureRequestWarning: Unverified HTTPS request is being made to host 'omcs-global-customer-persister-ge4.omcs-nonprod.r1.pks.dell.com'. Adding certificate verification is strongly advised. See: https://urllib3.readthedocs.io/en/1.26.x/advanced-usage.html#ssl-warnings\n",
      "  warnings.warn(\n"
     ]
    },
    {
     "name": "stdout",
     "output_type": "stream",
     "text": [
      "<class 'str'>\n",
      "null7040000446995\n",
      "7040000446994\n",
      "https://omcs-global-customer-persister-ge4.omcs-nonprod.r1.pks.dell.com/omcs-global-customer-persister/v1/Dashboard/GetTransformData?dpid=7040000446994\n"
     ]
    },
    {
     "name": "stderr",
     "output_type": "stream",
     "text": [
      "C:\\Users\\Satpum\\AppData\\Local\\anaconda3\\Lib\\site-packages\\urllib3\\connectionpool.py:1056: InsecureRequestWarning: Unverified HTTPS request is being made to host 'omcs-global-customer-persister-ge4.omcs-nonprod.r1.pks.dell.com'. Adding certificate verification is strongly advised. See: https://urllib3.readthedocs.io/en/1.26.x/advanced-usage.html#ssl-warnings\n",
      "  warnings.warn(\n"
     ]
    },
    {
     "name": "stdout",
     "output_type": "stream",
     "text": [
      "<class 'str'>\n",
      "null7040000446994\n",
      "7040000446993\n",
      "https://omcs-global-customer-persister-ge4.omcs-nonprod.r1.pks.dell.com/omcs-global-customer-persister/v1/Dashboard/GetTransformData?dpid=7040000446993\n"
     ]
    },
    {
     "name": "stderr",
     "output_type": "stream",
     "text": [
      "C:\\Users\\Satpum\\AppData\\Local\\anaconda3\\Lib\\site-packages\\urllib3\\connectionpool.py:1056: InsecureRequestWarning: Unverified HTTPS request is being made to host 'omcs-global-customer-persister-ge4.omcs-nonprod.r1.pks.dell.com'. Adding certificate verification is strongly advised. See: https://urllib3.readthedocs.io/en/1.26.x/advanced-usage.html#ssl-warnings\n",
      "  warnings.warn(\n"
     ]
    },
    {
     "name": "stdout",
     "output_type": "stream",
     "text": [
      "<class 'str'>\n",
      "null7040000446993\n",
      "7040000446992\n",
      "https://omcs-global-customer-persister-ge4.omcs-nonprod.r1.pks.dell.com/omcs-global-customer-persister/v1/Dashboard/GetTransformData?dpid=7040000446992\n"
     ]
    },
    {
     "name": "stderr",
     "output_type": "stream",
     "text": [
      "C:\\Users\\Satpum\\AppData\\Local\\anaconda3\\Lib\\site-packages\\urllib3\\connectionpool.py:1056: InsecureRequestWarning: Unverified HTTPS request is being made to host 'omcs-global-customer-persister-ge4.omcs-nonprod.r1.pks.dell.com'. Adding certificate verification is strongly advised. See: https://urllib3.readthedocs.io/en/1.26.x/advanced-usage.html#ssl-warnings\n",
      "  warnings.warn(\n"
     ]
    },
    {
     "name": "stdout",
     "output_type": "stream",
     "text": [
      "<class 'str'>\n",
      "null7040000446992\n",
      "7040000446991\n",
      "https://omcs-global-customer-persister-ge4.omcs-nonprod.r1.pks.dell.com/omcs-global-customer-persister/v1/Dashboard/GetTransformData?dpid=7040000446991\n"
     ]
    },
    {
     "name": "stderr",
     "output_type": "stream",
     "text": [
      "C:\\Users\\Satpum\\AppData\\Local\\anaconda3\\Lib\\site-packages\\urllib3\\connectionpool.py:1056: InsecureRequestWarning: Unverified HTTPS request is being made to host 'omcs-global-customer-persister-ge4.omcs-nonprod.r1.pks.dell.com'. Adding certificate verification is strongly advised. See: https://urllib3.readthedocs.io/en/1.26.x/advanced-usage.html#ssl-warnings\n",
      "  warnings.warn(\n"
     ]
    },
    {
     "name": "stdout",
     "output_type": "stream",
     "text": [
      "<class 'str'>\n",
      "null7040000446991\n",
      "7040000446990\n",
      "https://omcs-global-customer-persister-ge4.omcs-nonprod.r1.pks.dell.com/omcs-global-customer-persister/v1/Dashboard/GetTransformData?dpid=7040000446990\n"
     ]
    },
    {
     "name": "stderr",
     "output_type": "stream",
     "text": [
      "C:\\Users\\Satpum\\AppData\\Local\\anaconda3\\Lib\\site-packages\\urllib3\\connectionpool.py:1056: InsecureRequestWarning: Unverified HTTPS request is being made to host 'omcs-global-customer-persister-ge4.omcs-nonprod.r1.pks.dell.com'. Adding certificate verification is strongly advised. See: https://urllib3.readthedocs.io/en/1.26.x/advanced-usage.html#ssl-warnings\n",
      "  warnings.warn(\n"
     ]
    },
    {
     "name": "stdout",
     "output_type": "stream",
     "text": [
      "<class 'str'>\n",
      "null7040000446990\n",
      "7040000446989\n",
      "https://omcs-global-customer-persister-ge4.omcs-nonprod.r1.pks.dell.com/omcs-global-customer-persister/v1/Dashboard/GetTransformData?dpid=7040000446989\n"
     ]
    },
    {
     "name": "stderr",
     "output_type": "stream",
     "text": [
      "C:\\Users\\Satpum\\AppData\\Local\\anaconda3\\Lib\\site-packages\\urllib3\\connectionpool.py:1056: InsecureRequestWarning: Unverified HTTPS request is being made to host 'omcs-global-customer-persister-ge4.omcs-nonprod.r1.pks.dell.com'. Adding certificate verification is strongly advised. See: https://urllib3.readthedocs.io/en/1.26.x/advanced-usage.html#ssl-warnings\n",
      "  warnings.warn(\n"
     ]
    },
    {
     "name": "stdout",
     "output_type": "stream",
     "text": [
      "<class 'str'>\n",
      "null7040000446989\n",
      "7040000446988\n",
      "https://omcs-global-customer-persister-ge4.omcs-nonprod.r1.pks.dell.com/omcs-global-customer-persister/v1/Dashboard/GetTransformData?dpid=7040000446988\n"
     ]
    },
    {
     "name": "stderr",
     "output_type": "stream",
     "text": [
      "C:\\Users\\Satpum\\AppData\\Local\\anaconda3\\Lib\\site-packages\\urllib3\\connectionpool.py:1056: InsecureRequestWarning: Unverified HTTPS request is being made to host 'omcs-global-customer-persister-ge4.omcs-nonprod.r1.pks.dell.com'. Adding certificate verification is strongly advised. See: https://urllib3.readthedocs.io/en/1.26.x/advanced-usage.html#ssl-warnings\n",
      "  warnings.warn(\n"
     ]
    },
    {
     "name": "stdout",
     "output_type": "stream",
     "text": [
      "<class 'str'>\n",
      "null7040000446988\n",
      "7040000446984\n",
      "https://omcs-global-customer-persister-ge4.omcs-nonprod.r1.pks.dell.com/omcs-global-customer-persister/v1/Dashboard/GetTransformData?dpid=7040000446984\n"
     ]
    },
    {
     "name": "stderr",
     "output_type": "stream",
     "text": [
      "C:\\Users\\Satpum\\AppData\\Local\\anaconda3\\Lib\\site-packages\\urllib3\\connectionpool.py:1056: InsecureRequestWarning: Unverified HTTPS request is being made to host 'omcs-global-customer-persister-ge4.omcs-nonprod.r1.pks.dell.com'. Adding certificate verification is strongly advised. See: https://urllib3.readthedocs.io/en/1.26.x/advanced-usage.html#ssl-warnings\n",
      "  warnings.warn(\n"
     ]
    },
    {
     "name": "stdout",
     "output_type": "stream",
     "text": [
      "<class 'str'>\n",
      "null7040000446984\n",
      "7040000446983\n",
      "https://omcs-global-customer-persister-ge4.omcs-nonprod.r1.pks.dell.com/omcs-global-customer-persister/v1/Dashboard/GetTransformData?dpid=7040000446983\n"
     ]
    },
    {
     "name": "stderr",
     "output_type": "stream",
     "text": [
      "C:\\Users\\Satpum\\AppData\\Local\\anaconda3\\Lib\\site-packages\\urllib3\\connectionpool.py:1056: InsecureRequestWarning: Unverified HTTPS request is being made to host 'omcs-global-customer-persister-ge4.omcs-nonprod.r1.pks.dell.com'. Adding certificate verification is strongly advised. See: https://urllib3.readthedocs.io/en/1.26.x/advanced-usage.html#ssl-warnings\n",
      "  warnings.warn(\n"
     ]
    },
    {
     "name": "stdout",
     "output_type": "stream",
     "text": [
      "<class 'str'>\n",
      "null7040000446983\n",
      "7040000446982\n",
      "https://omcs-global-customer-persister-ge4.omcs-nonprod.r1.pks.dell.com/omcs-global-customer-persister/v1/Dashboard/GetTransformData?dpid=7040000446982\n"
     ]
    },
    {
     "name": "stderr",
     "output_type": "stream",
     "text": [
      "C:\\Users\\Satpum\\AppData\\Local\\anaconda3\\Lib\\site-packages\\urllib3\\connectionpool.py:1056: InsecureRequestWarning: Unverified HTTPS request is being made to host 'omcs-global-customer-persister-ge4.omcs-nonprod.r1.pks.dell.com'. Adding certificate verification is strongly advised. See: https://urllib3.readthedocs.io/en/1.26.x/advanced-usage.html#ssl-warnings\n",
      "  warnings.warn(\n"
     ]
    },
    {
     "name": "stdout",
     "output_type": "stream",
     "text": [
      "<class 'str'>\n",
      "null7040000446982\n",
      "7040000446981\n",
      "https://omcs-global-customer-persister-ge4.omcs-nonprod.r1.pks.dell.com/omcs-global-customer-persister/v1/Dashboard/GetTransformData?dpid=7040000446981\n"
     ]
    },
    {
     "name": "stderr",
     "output_type": "stream",
     "text": [
      "C:\\Users\\Satpum\\AppData\\Local\\anaconda3\\Lib\\site-packages\\urllib3\\connectionpool.py:1056: InsecureRequestWarning: Unverified HTTPS request is being made to host 'omcs-global-customer-persister-ge4.omcs-nonprod.r1.pks.dell.com'. Adding certificate verification is strongly advised. See: https://urllib3.readthedocs.io/en/1.26.x/advanced-usage.html#ssl-warnings\n",
      "  warnings.warn(\n"
     ]
    },
    {
     "name": "stdout",
     "output_type": "stream",
     "text": [
      "<class 'str'>\n",
      "null7040000446981\n",
      "7040000446980\n",
      "https://omcs-global-customer-persister-ge4.omcs-nonprod.r1.pks.dell.com/omcs-global-customer-persister/v1/Dashboard/GetTransformData?dpid=7040000446980\n"
     ]
    },
    {
     "name": "stderr",
     "output_type": "stream",
     "text": [
      "C:\\Users\\Satpum\\AppData\\Local\\anaconda3\\Lib\\site-packages\\urllib3\\connectionpool.py:1056: InsecureRequestWarning: Unverified HTTPS request is being made to host 'omcs-global-customer-persister-ge4.omcs-nonprod.r1.pks.dell.com'. Adding certificate verification is strongly advised. See: https://urllib3.readthedocs.io/en/1.26.x/advanced-usage.html#ssl-warnings\n",
      "  warnings.warn(\n"
     ]
    },
    {
     "name": "stdout",
     "output_type": "stream",
     "text": [
      "<class 'str'>\n",
      "null7040000446980\n",
      "7040000446979\n",
      "https://omcs-global-customer-persister-ge4.omcs-nonprod.r1.pks.dell.com/omcs-global-customer-persister/v1/Dashboard/GetTransformData?dpid=7040000446979\n"
     ]
    },
    {
     "name": "stderr",
     "output_type": "stream",
     "text": [
      "C:\\Users\\Satpum\\AppData\\Local\\anaconda3\\Lib\\site-packages\\urllib3\\connectionpool.py:1056: InsecureRequestWarning: Unverified HTTPS request is being made to host 'omcs-global-customer-persister-ge4.omcs-nonprod.r1.pks.dell.com'. Adding certificate verification is strongly advised. See: https://urllib3.readthedocs.io/en/1.26.x/advanced-usage.html#ssl-warnings\n",
      "  warnings.warn(\n"
     ]
    },
    {
     "name": "stdout",
     "output_type": "stream",
     "text": [
      "<class 'str'>\n",
      "null7040000446979\n",
      "7040000446972\n",
      "https://omcs-global-customer-persister-ge4.omcs-nonprod.r1.pks.dell.com/omcs-global-customer-persister/v1/Dashboard/GetTransformData?dpid=7040000446972\n"
     ]
    },
    {
     "name": "stderr",
     "output_type": "stream",
     "text": [
      "C:\\Users\\Satpum\\AppData\\Local\\anaconda3\\Lib\\site-packages\\urllib3\\connectionpool.py:1056: InsecureRequestWarning: Unverified HTTPS request is being made to host 'omcs-global-customer-persister-ge4.omcs-nonprod.r1.pks.dell.com'. Adding certificate verification is strongly advised. See: https://urllib3.readthedocs.io/en/1.26.x/advanced-usage.html#ssl-warnings\n",
      "  warnings.warn(\n"
     ]
    },
    {
     "name": "stdout",
     "output_type": "stream",
     "text": [
      "<class 'str'>\n",
      "not null\n",
      "7040000446962\n",
      "https://omcs-global-customer-persister-ge4.omcs-nonprod.r1.pks.dell.com/omcs-global-customer-persister/v1/Dashboard/GetTransformData?dpid=7040000446962\n"
     ]
    },
    {
     "name": "stderr",
     "output_type": "stream",
     "text": [
      "C:\\Users\\Satpum\\AppData\\Local\\anaconda3\\Lib\\site-packages\\urllib3\\connectionpool.py:1056: InsecureRequestWarning: Unverified HTTPS request is being made to host 'omcs-global-customer-persister-ge4.omcs-nonprod.r1.pks.dell.com'. Adding certificate verification is strongly advised. See: https://urllib3.readthedocs.io/en/1.26.x/advanced-usage.html#ssl-warnings\n",
      "  warnings.warn(\n"
     ]
    },
    {
     "name": "stdout",
     "output_type": "stream",
     "text": [
      "<class 'str'>\n",
      "not null\n",
      "7040000446960\n",
      "https://omcs-global-customer-persister-ge4.omcs-nonprod.r1.pks.dell.com/omcs-global-customer-persister/v1/Dashboard/GetTransformData?dpid=7040000446960\n"
     ]
    },
    {
     "name": "stderr",
     "output_type": "stream",
     "text": [
      "C:\\Users\\Satpum\\AppData\\Local\\anaconda3\\Lib\\site-packages\\urllib3\\connectionpool.py:1056: InsecureRequestWarning: Unverified HTTPS request is being made to host 'omcs-global-customer-persister-ge4.omcs-nonprod.r1.pks.dell.com'. Adding certificate verification is strongly advised. See: https://urllib3.readthedocs.io/en/1.26.x/advanced-usage.html#ssl-warnings\n",
      "  warnings.warn(\n"
     ]
    },
    {
     "name": "stdout",
     "output_type": "stream",
     "text": [
      "<class 'str'>\n",
      "null7040000446960\n",
      "7040000446959\n",
      "https://omcs-global-customer-persister-ge4.omcs-nonprod.r1.pks.dell.com/omcs-global-customer-persister/v1/Dashboard/GetTransformData?dpid=7040000446959\n"
     ]
    },
    {
     "name": "stderr",
     "output_type": "stream",
     "text": [
      "C:\\Users\\Satpum\\AppData\\Local\\anaconda3\\Lib\\site-packages\\urllib3\\connectionpool.py:1056: InsecureRequestWarning: Unverified HTTPS request is being made to host 'omcs-global-customer-persister-ge4.omcs-nonprod.r1.pks.dell.com'. Adding certificate verification is strongly advised. See: https://urllib3.readthedocs.io/en/1.26.x/advanced-usage.html#ssl-warnings\n",
      "  warnings.warn(\n"
     ]
    },
    {
     "name": "stdout",
     "output_type": "stream",
     "text": [
      "<class 'str'>\n",
      "null7040000446959\n",
      "7040000446958\n",
      "https://omcs-global-customer-persister-ge4.omcs-nonprod.r1.pks.dell.com/omcs-global-customer-persister/v1/Dashboard/GetTransformData?dpid=7040000446958\n"
     ]
    },
    {
     "name": "stderr",
     "output_type": "stream",
     "text": [
      "C:\\Users\\Satpum\\AppData\\Local\\anaconda3\\Lib\\site-packages\\urllib3\\connectionpool.py:1056: InsecureRequestWarning: Unverified HTTPS request is being made to host 'omcs-global-customer-persister-ge4.omcs-nonprod.r1.pks.dell.com'. Adding certificate verification is strongly advised. See: https://urllib3.readthedocs.io/en/1.26.x/advanced-usage.html#ssl-warnings\n",
      "  warnings.warn(\n"
     ]
    },
    {
     "name": "stdout",
     "output_type": "stream",
     "text": [
      "<class 'str'>\n",
      "null7040000446958\n",
      "7040000446957\n",
      "https://omcs-global-customer-persister-ge4.omcs-nonprod.r1.pks.dell.com/omcs-global-customer-persister/v1/Dashboard/GetTransformData?dpid=7040000446957\n"
     ]
    },
    {
     "name": "stderr",
     "output_type": "stream",
     "text": [
      "C:\\Users\\Satpum\\AppData\\Local\\anaconda3\\Lib\\site-packages\\urllib3\\connectionpool.py:1056: InsecureRequestWarning: Unverified HTTPS request is being made to host 'omcs-global-customer-persister-ge4.omcs-nonprod.r1.pks.dell.com'. Adding certificate verification is strongly advised. See: https://urllib3.readthedocs.io/en/1.26.x/advanced-usage.html#ssl-warnings\n",
      "  warnings.warn(\n"
     ]
    },
    {
     "name": "stdout",
     "output_type": "stream",
     "text": [
      "<class 'str'>\n",
      "null7040000446957\n",
      "7040000446956\n",
      "https://omcs-global-customer-persister-ge4.omcs-nonprod.r1.pks.dell.com/omcs-global-customer-persister/v1/Dashboard/GetTransformData?dpid=7040000446956\n"
     ]
    },
    {
     "name": "stderr",
     "output_type": "stream",
     "text": [
      "C:\\Users\\Satpum\\AppData\\Local\\anaconda3\\Lib\\site-packages\\urllib3\\connectionpool.py:1056: InsecureRequestWarning: Unverified HTTPS request is being made to host 'omcs-global-customer-persister-ge4.omcs-nonprod.r1.pks.dell.com'. Adding certificate verification is strongly advised. See: https://urllib3.readthedocs.io/en/1.26.x/advanced-usage.html#ssl-warnings\n",
      "  warnings.warn(\n"
     ]
    },
    {
     "name": "stdout",
     "output_type": "stream",
     "text": [
      "<class 'str'>\n",
      "null7040000446956\n",
      "7040000446955\n",
      "https://omcs-global-customer-persister-ge4.omcs-nonprod.r1.pks.dell.com/omcs-global-customer-persister/v1/Dashboard/GetTransformData?dpid=7040000446955\n"
     ]
    },
    {
     "name": "stderr",
     "output_type": "stream",
     "text": [
      "C:\\Users\\Satpum\\AppData\\Local\\anaconda3\\Lib\\site-packages\\urllib3\\connectionpool.py:1056: InsecureRequestWarning: Unverified HTTPS request is being made to host 'omcs-global-customer-persister-ge4.omcs-nonprod.r1.pks.dell.com'. Adding certificate verification is strongly advised. See: https://urllib3.readthedocs.io/en/1.26.x/advanced-usage.html#ssl-warnings\n",
      "  warnings.warn(\n"
     ]
    },
    {
     "name": "stdout",
     "output_type": "stream",
     "text": [
      "<class 'str'>\n",
      "null7040000446955\n",
      "7040000446954\n",
      "https://omcs-global-customer-persister-ge4.omcs-nonprod.r1.pks.dell.com/omcs-global-customer-persister/v1/Dashboard/GetTransformData?dpid=7040000446954\n"
     ]
    },
    {
     "name": "stderr",
     "output_type": "stream",
     "text": [
      "C:\\Users\\Satpum\\AppData\\Local\\anaconda3\\Lib\\site-packages\\urllib3\\connectionpool.py:1056: InsecureRequestWarning: Unverified HTTPS request is being made to host 'omcs-global-customer-persister-ge4.omcs-nonprod.r1.pks.dell.com'. Adding certificate verification is strongly advised. See: https://urllib3.readthedocs.io/en/1.26.x/advanced-usage.html#ssl-warnings\n",
      "  warnings.warn(\n"
     ]
    },
    {
     "name": "stdout",
     "output_type": "stream",
     "text": [
      "<class 'str'>\n",
      "null7040000446954\n",
      "7040000446953\n",
      "https://omcs-global-customer-persister-ge4.omcs-nonprod.r1.pks.dell.com/omcs-global-customer-persister/v1/Dashboard/GetTransformData?dpid=7040000446953\n"
     ]
    },
    {
     "name": "stderr",
     "output_type": "stream",
     "text": [
      "C:\\Users\\Satpum\\AppData\\Local\\anaconda3\\Lib\\site-packages\\urllib3\\connectionpool.py:1056: InsecureRequestWarning: Unverified HTTPS request is being made to host 'omcs-global-customer-persister-ge4.omcs-nonprod.r1.pks.dell.com'. Adding certificate verification is strongly advised. See: https://urllib3.readthedocs.io/en/1.26.x/advanced-usage.html#ssl-warnings\n",
      "  warnings.warn(\n"
     ]
    },
    {
     "name": "stdout",
     "output_type": "stream",
     "text": [
      "<class 'str'>\n",
      "null7040000446953\n",
      "7040000446952\n",
      "https://omcs-global-customer-persister-ge4.omcs-nonprod.r1.pks.dell.com/omcs-global-customer-persister/v1/Dashboard/GetTransformData?dpid=7040000446952\n"
     ]
    },
    {
     "name": "stderr",
     "output_type": "stream",
     "text": [
      "C:\\Users\\Satpum\\AppData\\Local\\anaconda3\\Lib\\site-packages\\urllib3\\connectionpool.py:1056: InsecureRequestWarning: Unverified HTTPS request is being made to host 'omcs-global-customer-persister-ge4.omcs-nonprod.r1.pks.dell.com'. Adding certificate verification is strongly advised. See: https://urllib3.readthedocs.io/en/1.26.x/advanced-usage.html#ssl-warnings\n",
      "  warnings.warn(\n"
     ]
    },
    {
     "name": "stdout",
     "output_type": "stream",
     "text": [
      "<class 'str'>\n",
      "null7040000446952\n",
      "7040000446951\n",
      "https://omcs-global-customer-persister-ge4.omcs-nonprod.r1.pks.dell.com/omcs-global-customer-persister/v1/Dashboard/GetTransformData?dpid=7040000446951\n"
     ]
    },
    {
     "name": "stderr",
     "output_type": "stream",
     "text": [
      "C:\\Users\\Satpum\\AppData\\Local\\anaconda3\\Lib\\site-packages\\urllib3\\connectionpool.py:1056: InsecureRequestWarning: Unverified HTTPS request is being made to host 'omcs-global-customer-persister-ge4.omcs-nonprod.r1.pks.dell.com'. Adding certificate verification is strongly advised. See: https://urllib3.readthedocs.io/en/1.26.x/advanced-usage.html#ssl-warnings\n",
      "  warnings.warn(\n"
     ]
    },
    {
     "name": "stdout",
     "output_type": "stream",
     "text": [
      "<class 'str'>\n",
      "null7040000446951\n",
      "7040000446950\n",
      "https://omcs-global-customer-persister-ge4.omcs-nonprod.r1.pks.dell.com/omcs-global-customer-persister/v1/Dashboard/GetTransformData?dpid=7040000446950\n"
     ]
    },
    {
     "name": "stderr",
     "output_type": "stream",
     "text": [
      "C:\\Users\\Satpum\\AppData\\Local\\anaconda3\\Lib\\site-packages\\urllib3\\connectionpool.py:1056: InsecureRequestWarning: Unverified HTTPS request is being made to host 'omcs-global-customer-persister-ge4.omcs-nonprod.r1.pks.dell.com'. Adding certificate verification is strongly advised. See: https://urllib3.readthedocs.io/en/1.26.x/advanced-usage.html#ssl-warnings\n",
      "  warnings.warn(\n"
     ]
    },
    {
     "name": "stdout",
     "output_type": "stream",
     "text": [
      "<class 'str'>\n",
      "null7040000446950\n",
      "7040000446949\n",
      "https://omcs-global-customer-persister-ge4.omcs-nonprod.r1.pks.dell.com/omcs-global-customer-persister/v1/Dashboard/GetTransformData?dpid=7040000446949\n"
     ]
    },
    {
     "name": "stderr",
     "output_type": "stream",
     "text": [
      "C:\\Users\\Satpum\\AppData\\Local\\anaconda3\\Lib\\site-packages\\urllib3\\connectionpool.py:1056: InsecureRequestWarning: Unverified HTTPS request is being made to host 'omcs-global-customer-persister-ge4.omcs-nonprod.r1.pks.dell.com'. Adding certificate verification is strongly advised. See: https://urllib3.readthedocs.io/en/1.26.x/advanced-usage.html#ssl-warnings\n",
      "  warnings.warn(\n"
     ]
    },
    {
     "name": "stdout",
     "output_type": "stream",
     "text": [
      "<class 'str'>\n",
      "null7040000446949\n",
      "7040000446948\n",
      "https://omcs-global-customer-persister-ge4.omcs-nonprod.r1.pks.dell.com/omcs-global-customer-persister/v1/Dashboard/GetTransformData?dpid=7040000446948\n"
     ]
    },
    {
     "name": "stderr",
     "output_type": "stream",
     "text": [
      "C:\\Users\\Satpum\\AppData\\Local\\anaconda3\\Lib\\site-packages\\urllib3\\connectionpool.py:1056: InsecureRequestWarning: Unverified HTTPS request is being made to host 'omcs-global-customer-persister-ge4.omcs-nonprod.r1.pks.dell.com'. Adding certificate verification is strongly advised. See: https://urllib3.readthedocs.io/en/1.26.x/advanced-usage.html#ssl-warnings\n",
      "  warnings.warn(\n"
     ]
    },
    {
     "name": "stdout",
     "output_type": "stream",
     "text": [
      "<class 'str'>\n",
      "null7040000446948\n",
      "7040000446947\n",
      "https://omcs-global-customer-persister-ge4.omcs-nonprod.r1.pks.dell.com/omcs-global-customer-persister/v1/Dashboard/GetTransformData?dpid=7040000446947\n"
     ]
    },
    {
     "name": "stderr",
     "output_type": "stream",
     "text": [
      "C:\\Users\\Satpum\\AppData\\Local\\anaconda3\\Lib\\site-packages\\urllib3\\connectionpool.py:1056: InsecureRequestWarning: Unverified HTTPS request is being made to host 'omcs-global-customer-persister-ge4.omcs-nonprod.r1.pks.dell.com'. Adding certificate verification is strongly advised. See: https://urllib3.readthedocs.io/en/1.26.x/advanced-usage.html#ssl-warnings\n",
      "  warnings.warn(\n"
     ]
    },
    {
     "name": "stdout",
     "output_type": "stream",
     "text": [
      "<class 'str'>\n",
      "null7040000446947\n",
      "7040000446946\n",
      "https://omcs-global-customer-persister-ge4.omcs-nonprod.r1.pks.dell.com/omcs-global-customer-persister/v1/Dashboard/GetTransformData?dpid=7040000446946\n"
     ]
    },
    {
     "name": "stderr",
     "output_type": "stream",
     "text": [
      "C:\\Users\\Satpum\\AppData\\Local\\anaconda3\\Lib\\site-packages\\urllib3\\connectionpool.py:1056: InsecureRequestWarning: Unverified HTTPS request is being made to host 'omcs-global-customer-persister-ge4.omcs-nonprod.r1.pks.dell.com'. Adding certificate verification is strongly advised. See: https://urllib3.readthedocs.io/en/1.26.x/advanced-usage.html#ssl-warnings\n",
      "  warnings.warn(\n"
     ]
    },
    {
     "name": "stdout",
     "output_type": "stream",
     "text": [
      "<class 'str'>\n",
      "null7040000446946\n",
      "7040000446945\n",
      "https://omcs-global-customer-persister-ge4.omcs-nonprod.r1.pks.dell.com/omcs-global-customer-persister/v1/Dashboard/GetTransformData?dpid=7040000446945\n"
     ]
    },
    {
     "name": "stderr",
     "output_type": "stream",
     "text": [
      "C:\\Users\\Satpum\\AppData\\Local\\anaconda3\\Lib\\site-packages\\urllib3\\connectionpool.py:1056: InsecureRequestWarning: Unverified HTTPS request is being made to host 'omcs-global-customer-persister-ge4.omcs-nonprod.r1.pks.dell.com'. Adding certificate verification is strongly advised. See: https://urllib3.readthedocs.io/en/1.26.x/advanced-usage.html#ssl-warnings\n",
      "  warnings.warn(\n"
     ]
    },
    {
     "name": "stdout",
     "output_type": "stream",
     "text": [
      "<class 'str'>\n",
      "null7040000446945\n",
      "7040000446944\n",
      "https://omcs-global-customer-persister-ge4.omcs-nonprod.r1.pks.dell.com/omcs-global-customer-persister/v1/Dashboard/GetTransformData?dpid=7040000446944\n"
     ]
    },
    {
     "name": "stderr",
     "output_type": "stream",
     "text": [
      "C:\\Users\\Satpum\\AppData\\Local\\anaconda3\\Lib\\site-packages\\urllib3\\connectionpool.py:1056: InsecureRequestWarning: Unverified HTTPS request is being made to host 'omcs-global-customer-persister-ge4.omcs-nonprod.r1.pks.dell.com'. Adding certificate verification is strongly advised. See: https://urllib3.readthedocs.io/en/1.26.x/advanced-usage.html#ssl-warnings\n",
      "  warnings.warn(\n"
     ]
    },
    {
     "name": "stdout",
     "output_type": "stream",
     "text": [
      "<class 'str'>\n",
      "null7040000446944\n",
      "7040000446943\n",
      "https://omcs-global-customer-persister-ge4.omcs-nonprod.r1.pks.dell.com/omcs-global-customer-persister/v1/Dashboard/GetTransformData?dpid=7040000446943\n"
     ]
    },
    {
     "name": "stderr",
     "output_type": "stream",
     "text": [
      "C:\\Users\\Satpum\\AppData\\Local\\anaconda3\\Lib\\site-packages\\urllib3\\connectionpool.py:1056: InsecureRequestWarning: Unverified HTTPS request is being made to host 'omcs-global-customer-persister-ge4.omcs-nonprod.r1.pks.dell.com'. Adding certificate verification is strongly advised. See: https://urllib3.readthedocs.io/en/1.26.x/advanced-usage.html#ssl-warnings\n",
      "  warnings.warn(\n"
     ]
    },
    {
     "name": "stdout",
     "output_type": "stream",
     "text": [
      "<class 'str'>\n",
      "null7040000446943\n",
      "7040000446942\n",
      "https://omcs-global-customer-persister-ge4.omcs-nonprod.r1.pks.dell.com/omcs-global-customer-persister/v1/Dashboard/GetTransformData?dpid=7040000446942\n"
     ]
    },
    {
     "name": "stderr",
     "output_type": "stream",
     "text": [
      "C:\\Users\\Satpum\\AppData\\Local\\anaconda3\\Lib\\site-packages\\urllib3\\connectionpool.py:1056: InsecureRequestWarning: Unverified HTTPS request is being made to host 'omcs-global-customer-persister-ge4.omcs-nonprod.r1.pks.dell.com'. Adding certificate verification is strongly advised. See: https://urllib3.readthedocs.io/en/1.26.x/advanced-usage.html#ssl-warnings\n",
      "  warnings.warn(\n"
     ]
    },
    {
     "name": "stdout",
     "output_type": "stream",
     "text": [
      "<class 'str'>\n",
      "null7040000446942\n",
      "7040000446941\n",
      "https://omcs-global-customer-persister-ge4.omcs-nonprod.r1.pks.dell.com/omcs-global-customer-persister/v1/Dashboard/GetTransformData?dpid=7040000446941\n"
     ]
    },
    {
     "name": "stderr",
     "output_type": "stream",
     "text": [
      "C:\\Users\\Satpum\\AppData\\Local\\anaconda3\\Lib\\site-packages\\urllib3\\connectionpool.py:1056: InsecureRequestWarning: Unverified HTTPS request is being made to host 'omcs-global-customer-persister-ge4.omcs-nonprod.r1.pks.dell.com'. Adding certificate verification is strongly advised. See: https://urllib3.readthedocs.io/en/1.26.x/advanced-usage.html#ssl-warnings\n",
      "  warnings.warn(\n"
     ]
    },
    {
     "name": "stdout",
     "output_type": "stream",
     "text": [
      "<class 'str'>\n",
      "null7040000446941\n",
      "7040000446940\n",
      "https://omcs-global-customer-persister-ge4.omcs-nonprod.r1.pks.dell.com/omcs-global-customer-persister/v1/Dashboard/GetTransformData?dpid=7040000446940\n"
     ]
    },
    {
     "name": "stderr",
     "output_type": "stream",
     "text": [
      "C:\\Users\\Satpum\\AppData\\Local\\anaconda3\\Lib\\site-packages\\urllib3\\connectionpool.py:1056: InsecureRequestWarning: Unverified HTTPS request is being made to host 'omcs-global-customer-persister-ge4.omcs-nonprod.r1.pks.dell.com'. Adding certificate verification is strongly advised. See: https://urllib3.readthedocs.io/en/1.26.x/advanced-usage.html#ssl-warnings\n",
      "  warnings.warn(\n"
     ]
    },
    {
     "name": "stdout",
     "output_type": "stream",
     "text": [
      "<class 'str'>\n",
      "null7040000446940\n",
      "7040000446939\n",
      "https://omcs-global-customer-persister-ge4.omcs-nonprod.r1.pks.dell.com/omcs-global-customer-persister/v1/Dashboard/GetTransformData?dpid=7040000446939\n"
     ]
    },
    {
     "name": "stderr",
     "output_type": "stream",
     "text": [
      "C:\\Users\\Satpum\\AppData\\Local\\anaconda3\\Lib\\site-packages\\urllib3\\connectionpool.py:1056: InsecureRequestWarning: Unverified HTTPS request is being made to host 'omcs-global-customer-persister-ge4.omcs-nonprod.r1.pks.dell.com'. Adding certificate verification is strongly advised. See: https://urllib3.readthedocs.io/en/1.26.x/advanced-usage.html#ssl-warnings\n",
      "  warnings.warn(\n"
     ]
    },
    {
     "name": "stdout",
     "output_type": "stream",
     "text": [
      "<class 'str'>\n",
      "null7040000446939\n",
      "7040000446938\n",
      "https://omcs-global-customer-persister-ge4.omcs-nonprod.r1.pks.dell.com/omcs-global-customer-persister/v1/Dashboard/GetTransformData?dpid=7040000446938\n"
     ]
    },
    {
     "name": "stderr",
     "output_type": "stream",
     "text": [
      "C:\\Users\\Satpum\\AppData\\Local\\anaconda3\\Lib\\site-packages\\urllib3\\connectionpool.py:1056: InsecureRequestWarning: Unverified HTTPS request is being made to host 'omcs-global-customer-persister-ge4.omcs-nonprod.r1.pks.dell.com'. Adding certificate verification is strongly advised. See: https://urllib3.readthedocs.io/en/1.26.x/advanced-usage.html#ssl-warnings\n",
      "  warnings.warn(\n"
     ]
    },
    {
     "name": "stdout",
     "output_type": "stream",
     "text": [
      "<class 'str'>\n",
      "null7040000446938\n",
      "7040000446937\n",
      "https://omcs-global-customer-persister-ge4.omcs-nonprod.r1.pks.dell.com/omcs-global-customer-persister/v1/Dashboard/GetTransformData?dpid=7040000446937\n"
     ]
    },
    {
     "name": "stderr",
     "output_type": "stream",
     "text": [
      "C:\\Users\\Satpum\\AppData\\Local\\anaconda3\\Lib\\site-packages\\urllib3\\connectionpool.py:1056: InsecureRequestWarning: Unverified HTTPS request is being made to host 'omcs-global-customer-persister-ge4.omcs-nonprod.r1.pks.dell.com'. Adding certificate verification is strongly advised. See: https://urllib3.readthedocs.io/en/1.26.x/advanced-usage.html#ssl-warnings\n",
      "  warnings.warn(\n"
     ]
    },
    {
     "name": "stdout",
     "output_type": "stream",
     "text": [
      "<class 'str'>\n",
      "null7040000446937\n",
      "7040000446936\n",
      "https://omcs-global-customer-persister-ge4.omcs-nonprod.r1.pks.dell.com/omcs-global-customer-persister/v1/Dashboard/GetTransformData?dpid=7040000446936\n"
     ]
    },
    {
     "name": "stderr",
     "output_type": "stream",
     "text": [
      "C:\\Users\\Satpum\\AppData\\Local\\anaconda3\\Lib\\site-packages\\urllib3\\connectionpool.py:1056: InsecureRequestWarning: Unverified HTTPS request is being made to host 'omcs-global-customer-persister-ge4.omcs-nonprod.r1.pks.dell.com'. Adding certificate verification is strongly advised. See: https://urllib3.readthedocs.io/en/1.26.x/advanced-usage.html#ssl-warnings\n",
      "  warnings.warn(\n"
     ]
    },
    {
     "name": "stdout",
     "output_type": "stream",
     "text": [
      "<class 'str'>\n",
      "null7040000446936\n",
      "7040000446935\n",
      "https://omcs-global-customer-persister-ge4.omcs-nonprod.r1.pks.dell.com/omcs-global-customer-persister/v1/Dashboard/GetTransformData?dpid=7040000446935\n"
     ]
    },
    {
     "name": "stderr",
     "output_type": "stream",
     "text": [
      "C:\\Users\\Satpum\\AppData\\Local\\anaconda3\\Lib\\site-packages\\urllib3\\connectionpool.py:1056: InsecureRequestWarning: Unverified HTTPS request is being made to host 'omcs-global-customer-persister-ge4.omcs-nonprod.r1.pks.dell.com'. Adding certificate verification is strongly advised. See: https://urllib3.readthedocs.io/en/1.26.x/advanced-usage.html#ssl-warnings\n",
      "  warnings.warn(\n"
     ]
    },
    {
     "name": "stdout",
     "output_type": "stream",
     "text": [
      "<class 'str'>\n",
      "null7040000446935\n",
      "7040000446934\n",
      "https://omcs-global-customer-persister-ge4.omcs-nonprod.r1.pks.dell.com/omcs-global-customer-persister/v1/Dashboard/GetTransformData?dpid=7040000446934\n"
     ]
    },
    {
     "name": "stderr",
     "output_type": "stream",
     "text": [
      "C:\\Users\\Satpum\\AppData\\Local\\anaconda3\\Lib\\site-packages\\urllib3\\connectionpool.py:1056: InsecureRequestWarning: Unverified HTTPS request is being made to host 'omcs-global-customer-persister-ge4.omcs-nonprod.r1.pks.dell.com'. Adding certificate verification is strongly advised. See: https://urllib3.readthedocs.io/en/1.26.x/advanced-usage.html#ssl-warnings\n",
      "  warnings.warn(\n"
     ]
    },
    {
     "name": "stdout",
     "output_type": "stream",
     "text": [
      "<class 'str'>\n",
      "null7040000446934\n",
      "7040000446933\n",
      "https://omcs-global-customer-persister-ge4.omcs-nonprod.r1.pks.dell.com/omcs-global-customer-persister/v1/Dashboard/GetTransformData?dpid=7040000446933\n"
     ]
    },
    {
     "name": "stderr",
     "output_type": "stream",
     "text": [
      "C:\\Users\\Satpum\\AppData\\Local\\anaconda3\\Lib\\site-packages\\urllib3\\connectionpool.py:1056: InsecureRequestWarning: Unverified HTTPS request is being made to host 'omcs-global-customer-persister-ge4.omcs-nonprod.r1.pks.dell.com'. Adding certificate verification is strongly advised. See: https://urllib3.readthedocs.io/en/1.26.x/advanced-usage.html#ssl-warnings\n",
      "  warnings.warn(\n"
     ]
    },
    {
     "name": "stdout",
     "output_type": "stream",
     "text": [
      "<class 'str'>\n",
      "null7040000446933\n",
      "7040000446932\n",
      "https://omcs-global-customer-persister-ge4.omcs-nonprod.r1.pks.dell.com/omcs-global-customer-persister/v1/Dashboard/GetTransformData?dpid=7040000446932\n"
     ]
    },
    {
     "name": "stderr",
     "output_type": "stream",
     "text": [
      "C:\\Users\\Satpum\\AppData\\Local\\anaconda3\\Lib\\site-packages\\urllib3\\connectionpool.py:1056: InsecureRequestWarning: Unverified HTTPS request is being made to host 'omcs-global-customer-persister-ge4.omcs-nonprod.r1.pks.dell.com'. Adding certificate verification is strongly advised. See: https://urllib3.readthedocs.io/en/1.26.x/advanced-usage.html#ssl-warnings\n",
      "  warnings.warn(\n"
     ]
    },
    {
     "name": "stdout",
     "output_type": "stream",
     "text": [
      "<class 'str'>\n",
      "null7040000446932\n",
      "7040000446931\n",
      "https://omcs-global-customer-persister-ge4.omcs-nonprod.r1.pks.dell.com/omcs-global-customer-persister/v1/Dashboard/GetTransformData?dpid=7040000446931\n"
     ]
    },
    {
     "name": "stderr",
     "output_type": "stream",
     "text": [
      "C:\\Users\\Satpum\\AppData\\Local\\anaconda3\\Lib\\site-packages\\urllib3\\connectionpool.py:1056: InsecureRequestWarning: Unverified HTTPS request is being made to host 'omcs-global-customer-persister-ge4.omcs-nonprod.r1.pks.dell.com'. Adding certificate verification is strongly advised. See: https://urllib3.readthedocs.io/en/1.26.x/advanced-usage.html#ssl-warnings\n",
      "  warnings.warn(\n"
     ]
    },
    {
     "name": "stdout",
     "output_type": "stream",
     "text": [
      "<class 'str'>\n",
      "null7040000446931\n",
      "7040000446930\n",
      "https://omcs-global-customer-persister-ge4.omcs-nonprod.r1.pks.dell.com/omcs-global-customer-persister/v1/Dashboard/GetTransformData?dpid=7040000446930\n"
     ]
    },
    {
     "name": "stderr",
     "output_type": "stream",
     "text": [
      "C:\\Users\\Satpum\\AppData\\Local\\anaconda3\\Lib\\site-packages\\urllib3\\connectionpool.py:1056: InsecureRequestWarning: Unverified HTTPS request is being made to host 'omcs-global-customer-persister-ge4.omcs-nonprod.r1.pks.dell.com'. Adding certificate verification is strongly advised. See: https://urllib3.readthedocs.io/en/1.26.x/advanced-usage.html#ssl-warnings\n",
      "  warnings.warn(\n"
     ]
    },
    {
     "name": "stdout",
     "output_type": "stream",
     "text": [
      "<class 'str'>\n",
      "null7040000446930\n",
      "7040000446929\n",
      "https://omcs-global-customer-persister-ge4.omcs-nonprod.r1.pks.dell.com/omcs-global-customer-persister/v1/Dashboard/GetTransformData?dpid=7040000446929\n"
     ]
    },
    {
     "name": "stderr",
     "output_type": "stream",
     "text": [
      "C:\\Users\\Satpum\\AppData\\Local\\anaconda3\\Lib\\site-packages\\urllib3\\connectionpool.py:1056: InsecureRequestWarning: Unverified HTTPS request is being made to host 'omcs-global-customer-persister-ge4.omcs-nonprod.r1.pks.dell.com'. Adding certificate verification is strongly advised. See: https://urllib3.readthedocs.io/en/1.26.x/advanced-usage.html#ssl-warnings\n",
      "  warnings.warn(\n"
     ]
    },
    {
     "name": "stdout",
     "output_type": "stream",
     "text": [
      "<class 'str'>\n",
      "null7040000446929\n",
      "7040000446928\n",
      "https://omcs-global-customer-persister-ge4.omcs-nonprod.r1.pks.dell.com/omcs-global-customer-persister/v1/Dashboard/GetTransformData?dpid=7040000446928\n"
     ]
    },
    {
     "name": "stderr",
     "output_type": "stream",
     "text": [
      "C:\\Users\\Satpum\\AppData\\Local\\anaconda3\\Lib\\site-packages\\urllib3\\connectionpool.py:1056: InsecureRequestWarning: Unverified HTTPS request is being made to host 'omcs-global-customer-persister-ge4.omcs-nonprod.r1.pks.dell.com'. Adding certificate verification is strongly advised. See: https://urllib3.readthedocs.io/en/1.26.x/advanced-usage.html#ssl-warnings\n",
      "  warnings.warn(\n"
     ]
    },
    {
     "name": "stdout",
     "output_type": "stream",
     "text": [
      "<class 'str'>\n",
      "null7040000446928\n",
      "7040000446927\n",
      "https://omcs-global-customer-persister-ge4.omcs-nonprod.r1.pks.dell.com/omcs-global-customer-persister/v1/Dashboard/GetTransformData?dpid=7040000446927\n"
     ]
    },
    {
     "name": "stderr",
     "output_type": "stream",
     "text": [
      "C:\\Users\\Satpum\\AppData\\Local\\anaconda3\\Lib\\site-packages\\urllib3\\connectionpool.py:1056: InsecureRequestWarning: Unverified HTTPS request is being made to host 'omcs-global-customer-persister-ge4.omcs-nonprod.r1.pks.dell.com'. Adding certificate verification is strongly advised. See: https://urllib3.readthedocs.io/en/1.26.x/advanced-usage.html#ssl-warnings\n",
      "  warnings.warn(\n"
     ]
    },
    {
     "name": "stdout",
     "output_type": "stream",
     "text": [
      "<class 'str'>\n",
      "null7040000446927\n",
      "7040000446926\n",
      "https://omcs-global-customer-persister-ge4.omcs-nonprod.r1.pks.dell.com/omcs-global-customer-persister/v1/Dashboard/GetTransformData?dpid=7040000446926\n"
     ]
    },
    {
     "name": "stderr",
     "output_type": "stream",
     "text": [
      "C:\\Users\\Satpum\\AppData\\Local\\anaconda3\\Lib\\site-packages\\urllib3\\connectionpool.py:1056: InsecureRequestWarning: Unverified HTTPS request is being made to host 'omcs-global-customer-persister-ge4.omcs-nonprod.r1.pks.dell.com'. Adding certificate verification is strongly advised. See: https://urllib3.readthedocs.io/en/1.26.x/advanced-usage.html#ssl-warnings\n",
      "  warnings.warn(\n"
     ]
    },
    {
     "name": "stdout",
     "output_type": "stream",
     "text": [
      "<class 'str'>\n",
      "null7040000446926\n",
      "7040000446925\n",
      "https://omcs-global-customer-persister-ge4.omcs-nonprod.r1.pks.dell.com/omcs-global-customer-persister/v1/Dashboard/GetTransformData?dpid=7040000446925\n"
     ]
    },
    {
     "name": "stderr",
     "output_type": "stream",
     "text": [
      "C:\\Users\\Satpum\\AppData\\Local\\anaconda3\\Lib\\site-packages\\urllib3\\connectionpool.py:1056: InsecureRequestWarning: Unverified HTTPS request is being made to host 'omcs-global-customer-persister-ge4.omcs-nonprod.r1.pks.dell.com'. Adding certificate verification is strongly advised. See: https://urllib3.readthedocs.io/en/1.26.x/advanced-usage.html#ssl-warnings\n",
      "  warnings.warn(\n"
     ]
    },
    {
     "name": "stdout",
     "output_type": "stream",
     "text": [
      "<class 'str'>\n",
      "null7040000446925\n",
      "7040000446923\n",
      "https://omcs-global-customer-persister-ge4.omcs-nonprod.r1.pks.dell.com/omcs-global-customer-persister/v1/Dashboard/GetTransformData?dpid=7040000446923\n"
     ]
    },
    {
     "name": "stderr",
     "output_type": "stream",
     "text": [
      "C:\\Users\\Satpum\\AppData\\Local\\anaconda3\\Lib\\site-packages\\urllib3\\connectionpool.py:1056: InsecureRequestWarning: Unverified HTTPS request is being made to host 'omcs-global-customer-persister-ge4.omcs-nonprod.r1.pks.dell.com'. Adding certificate verification is strongly advised. See: https://urllib3.readthedocs.io/en/1.26.x/advanced-usage.html#ssl-warnings\n",
      "  warnings.warn(\n"
     ]
    },
    {
     "name": "stdout",
     "output_type": "stream",
     "text": [
      "<class 'str'>\n",
      "null7040000446923\n",
      "7040000446922\n",
      "https://omcs-global-customer-persister-ge4.omcs-nonprod.r1.pks.dell.com/omcs-global-customer-persister/v1/Dashboard/GetTransformData?dpid=7040000446922\n"
     ]
    },
    {
     "name": "stderr",
     "output_type": "stream",
     "text": [
      "C:\\Users\\Satpum\\AppData\\Local\\anaconda3\\Lib\\site-packages\\urllib3\\connectionpool.py:1056: InsecureRequestWarning: Unverified HTTPS request is being made to host 'omcs-global-customer-persister-ge4.omcs-nonprod.r1.pks.dell.com'. Adding certificate verification is strongly advised. See: https://urllib3.readthedocs.io/en/1.26.x/advanced-usage.html#ssl-warnings\n",
      "  warnings.warn(\n"
     ]
    },
    {
     "name": "stdout",
     "output_type": "stream",
     "text": [
      "<class 'str'>\n",
      "null7040000446922\n",
      "7040000446921\n",
      "https://omcs-global-customer-persister-ge4.omcs-nonprod.r1.pks.dell.com/omcs-global-customer-persister/v1/Dashboard/GetTransformData?dpid=7040000446921\n"
     ]
    },
    {
     "name": "stderr",
     "output_type": "stream",
     "text": [
      "C:\\Users\\Satpum\\AppData\\Local\\anaconda3\\Lib\\site-packages\\urllib3\\connectionpool.py:1056: InsecureRequestWarning: Unverified HTTPS request is being made to host 'omcs-global-customer-persister-ge4.omcs-nonprod.r1.pks.dell.com'. Adding certificate verification is strongly advised. See: https://urllib3.readthedocs.io/en/1.26.x/advanced-usage.html#ssl-warnings\n",
      "  warnings.warn(\n"
     ]
    },
    {
     "name": "stdout",
     "output_type": "stream",
     "text": [
      "<class 'str'>\n",
      "null7040000446921\n",
      "7040000446920\n",
      "https://omcs-global-customer-persister-ge4.omcs-nonprod.r1.pks.dell.com/omcs-global-customer-persister/v1/Dashboard/GetTransformData?dpid=7040000446920\n"
     ]
    },
    {
     "name": "stderr",
     "output_type": "stream",
     "text": [
      "C:\\Users\\Satpum\\AppData\\Local\\anaconda3\\Lib\\site-packages\\urllib3\\connectionpool.py:1056: InsecureRequestWarning: Unverified HTTPS request is being made to host 'omcs-global-customer-persister-ge4.omcs-nonprod.r1.pks.dell.com'. Adding certificate verification is strongly advised. See: https://urllib3.readthedocs.io/en/1.26.x/advanced-usage.html#ssl-warnings\n",
      "  warnings.warn(\n"
     ]
    },
    {
     "name": "stdout",
     "output_type": "stream",
     "text": [
      "<class 'str'>\n",
      "null7040000446920\n",
      "7040000446919\n",
      "https://omcs-global-customer-persister-ge4.omcs-nonprod.r1.pks.dell.com/omcs-global-customer-persister/v1/Dashboard/GetTransformData?dpid=7040000446919\n"
     ]
    },
    {
     "name": "stderr",
     "output_type": "stream",
     "text": [
      "C:\\Users\\Satpum\\AppData\\Local\\anaconda3\\Lib\\site-packages\\urllib3\\connectionpool.py:1056: InsecureRequestWarning: Unverified HTTPS request is being made to host 'omcs-global-customer-persister-ge4.omcs-nonprod.r1.pks.dell.com'. Adding certificate verification is strongly advised. See: https://urllib3.readthedocs.io/en/1.26.x/advanced-usage.html#ssl-warnings\n",
      "  warnings.warn(\n"
     ]
    },
    {
     "name": "stdout",
     "output_type": "stream",
     "text": [
      "<class 'str'>\n",
      "null7040000446919\n",
      "7040000446918\n",
      "https://omcs-global-customer-persister-ge4.omcs-nonprod.r1.pks.dell.com/omcs-global-customer-persister/v1/Dashboard/GetTransformData?dpid=7040000446918\n"
     ]
    },
    {
     "name": "stderr",
     "output_type": "stream",
     "text": [
      "C:\\Users\\Satpum\\AppData\\Local\\anaconda3\\Lib\\site-packages\\urllib3\\connectionpool.py:1056: InsecureRequestWarning: Unverified HTTPS request is being made to host 'omcs-global-customer-persister-ge4.omcs-nonprod.r1.pks.dell.com'. Adding certificate verification is strongly advised. See: https://urllib3.readthedocs.io/en/1.26.x/advanced-usage.html#ssl-warnings\n",
      "  warnings.warn(\n"
     ]
    },
    {
     "name": "stdout",
     "output_type": "stream",
     "text": [
      "<class 'str'>\n",
      "null7040000446918\n",
      "7040000446917\n",
      "https://omcs-global-customer-persister-ge4.omcs-nonprod.r1.pks.dell.com/omcs-global-customer-persister/v1/Dashboard/GetTransformData?dpid=7040000446917\n"
     ]
    },
    {
     "name": "stderr",
     "output_type": "stream",
     "text": [
      "C:\\Users\\Satpum\\AppData\\Local\\anaconda3\\Lib\\site-packages\\urllib3\\connectionpool.py:1056: InsecureRequestWarning: Unverified HTTPS request is being made to host 'omcs-global-customer-persister-ge4.omcs-nonprod.r1.pks.dell.com'. Adding certificate verification is strongly advised. See: https://urllib3.readthedocs.io/en/1.26.x/advanced-usage.html#ssl-warnings\n",
      "  warnings.warn(\n"
     ]
    },
    {
     "name": "stdout",
     "output_type": "stream",
     "text": [
      "<class 'str'>\n",
      "null7040000446917\n",
      "7040000446916\n",
      "https://omcs-global-customer-persister-ge4.omcs-nonprod.r1.pks.dell.com/omcs-global-customer-persister/v1/Dashboard/GetTransformData?dpid=7040000446916\n"
     ]
    },
    {
     "name": "stderr",
     "output_type": "stream",
     "text": [
      "C:\\Users\\Satpum\\AppData\\Local\\anaconda3\\Lib\\site-packages\\urllib3\\connectionpool.py:1056: InsecureRequestWarning: Unverified HTTPS request is being made to host 'omcs-global-customer-persister-ge4.omcs-nonprod.r1.pks.dell.com'. Adding certificate verification is strongly advised. See: https://urllib3.readthedocs.io/en/1.26.x/advanced-usage.html#ssl-warnings\n",
      "  warnings.warn(\n"
     ]
    },
    {
     "name": "stdout",
     "output_type": "stream",
     "text": [
      "<class 'str'>\n",
      "null7040000446916\n",
      "7040000446915\n",
      "https://omcs-global-customer-persister-ge4.omcs-nonprod.r1.pks.dell.com/omcs-global-customer-persister/v1/Dashboard/GetTransformData?dpid=7040000446915\n"
     ]
    },
    {
     "name": "stderr",
     "output_type": "stream",
     "text": [
      "C:\\Users\\Satpum\\AppData\\Local\\anaconda3\\Lib\\site-packages\\urllib3\\connectionpool.py:1056: InsecureRequestWarning: Unverified HTTPS request is being made to host 'omcs-global-customer-persister-ge4.omcs-nonprod.r1.pks.dell.com'. Adding certificate verification is strongly advised. See: https://urllib3.readthedocs.io/en/1.26.x/advanced-usage.html#ssl-warnings\n",
      "  warnings.warn(\n"
     ]
    },
    {
     "name": "stdout",
     "output_type": "stream",
     "text": [
      "<class 'str'>\n",
      "null7040000446915\n",
      "7040000446915\n",
      "https://omcs-global-customer-persister-ge4.omcs-nonprod.r1.pks.dell.com/omcs-global-customer-persister/v1/Dashboard/GetTransformData?dpid=7040000446915\n"
     ]
    },
    {
     "name": "stderr",
     "output_type": "stream",
     "text": [
      "C:\\Users\\Satpum\\AppData\\Local\\anaconda3\\Lib\\site-packages\\urllib3\\connectionpool.py:1056: InsecureRequestWarning: Unverified HTTPS request is being made to host 'omcs-global-customer-persister-ge4.omcs-nonprod.r1.pks.dell.com'. Adding certificate verification is strongly advised. See: https://urllib3.readthedocs.io/en/1.26.x/advanced-usage.html#ssl-warnings\n",
      "  warnings.warn(\n"
     ]
    },
    {
     "name": "stdout",
     "output_type": "stream",
     "text": [
      "<class 'str'>\n",
      "null7040000446915\n",
      "7040000446914\n",
      "https://omcs-global-customer-persister-ge4.omcs-nonprod.r1.pks.dell.com/omcs-global-customer-persister/v1/Dashboard/GetTransformData?dpid=7040000446914\n"
     ]
    },
    {
     "name": "stderr",
     "output_type": "stream",
     "text": [
      "C:\\Users\\Satpum\\AppData\\Local\\anaconda3\\Lib\\site-packages\\urllib3\\connectionpool.py:1056: InsecureRequestWarning: Unverified HTTPS request is being made to host 'omcs-global-customer-persister-ge4.omcs-nonprod.r1.pks.dell.com'. Adding certificate verification is strongly advised. See: https://urllib3.readthedocs.io/en/1.26.x/advanced-usage.html#ssl-warnings\n",
      "  warnings.warn(\n"
     ]
    },
    {
     "name": "stdout",
     "output_type": "stream",
     "text": [
      "<class 'str'>\n",
      "null7040000446914\n",
      "7040000446913\n",
      "https://omcs-global-customer-persister-ge4.omcs-nonprod.r1.pks.dell.com/omcs-global-customer-persister/v1/Dashboard/GetTransformData?dpid=7040000446913\n"
     ]
    },
    {
     "name": "stderr",
     "output_type": "stream",
     "text": [
      "C:\\Users\\Satpum\\AppData\\Local\\anaconda3\\Lib\\site-packages\\urllib3\\connectionpool.py:1056: InsecureRequestWarning: Unverified HTTPS request is being made to host 'omcs-global-customer-persister-ge4.omcs-nonprod.r1.pks.dell.com'. Adding certificate verification is strongly advised. See: https://urllib3.readthedocs.io/en/1.26.x/advanced-usage.html#ssl-warnings\n",
      "  warnings.warn(\n"
     ]
    },
    {
     "name": "stdout",
     "output_type": "stream",
     "text": [
      "<class 'str'>\n",
      "null7040000446913\n",
      "7040000446912\n",
      "https://omcs-global-customer-persister-ge4.omcs-nonprod.r1.pks.dell.com/omcs-global-customer-persister/v1/Dashboard/GetTransformData?dpid=7040000446912\n"
     ]
    },
    {
     "name": "stderr",
     "output_type": "stream",
     "text": [
      "C:\\Users\\Satpum\\AppData\\Local\\anaconda3\\Lib\\site-packages\\urllib3\\connectionpool.py:1056: InsecureRequestWarning: Unverified HTTPS request is being made to host 'omcs-global-customer-persister-ge4.omcs-nonprod.r1.pks.dell.com'. Adding certificate verification is strongly advised. See: https://urllib3.readthedocs.io/en/1.26.x/advanced-usage.html#ssl-warnings\n",
      "  warnings.warn(\n"
     ]
    },
    {
     "name": "stdout",
     "output_type": "stream",
     "text": [
      "<class 'str'>\n",
      "null7040000446912\n",
      "7040000446911\n",
      "https://omcs-global-customer-persister-ge4.omcs-nonprod.r1.pks.dell.com/omcs-global-customer-persister/v1/Dashboard/GetTransformData?dpid=7040000446911\n"
     ]
    },
    {
     "name": "stderr",
     "output_type": "stream",
     "text": [
      "C:\\Users\\Satpum\\AppData\\Local\\anaconda3\\Lib\\site-packages\\urllib3\\connectionpool.py:1056: InsecureRequestWarning: Unverified HTTPS request is being made to host 'omcs-global-customer-persister-ge4.omcs-nonprod.r1.pks.dell.com'. Adding certificate verification is strongly advised. See: https://urllib3.readthedocs.io/en/1.26.x/advanced-usage.html#ssl-warnings\n",
      "  warnings.warn(\n"
     ]
    },
    {
     "name": "stdout",
     "output_type": "stream",
     "text": [
      "<class 'str'>\n",
      "null7040000446911\n",
      "7040000446910\n",
      "https://omcs-global-customer-persister-ge4.omcs-nonprod.r1.pks.dell.com/omcs-global-customer-persister/v1/Dashboard/GetTransformData?dpid=7040000446910\n"
     ]
    },
    {
     "name": "stderr",
     "output_type": "stream",
     "text": [
      "C:\\Users\\Satpum\\AppData\\Local\\anaconda3\\Lib\\site-packages\\urllib3\\connectionpool.py:1056: InsecureRequestWarning: Unverified HTTPS request is being made to host 'omcs-global-customer-persister-ge4.omcs-nonprod.r1.pks.dell.com'. Adding certificate verification is strongly advised. See: https://urllib3.readthedocs.io/en/1.26.x/advanced-usage.html#ssl-warnings\n",
      "  warnings.warn(\n"
     ]
    },
    {
     "name": "stdout",
     "output_type": "stream",
     "text": [
      "<class 'str'>\n",
      "null7040000446910\n",
      "7040000446909\n",
      "https://omcs-global-customer-persister-ge4.omcs-nonprod.r1.pks.dell.com/omcs-global-customer-persister/v1/Dashboard/GetTransformData?dpid=7040000446909\n"
     ]
    },
    {
     "name": "stderr",
     "output_type": "stream",
     "text": [
      "C:\\Users\\Satpum\\AppData\\Local\\anaconda3\\Lib\\site-packages\\urllib3\\connectionpool.py:1056: InsecureRequestWarning: Unverified HTTPS request is being made to host 'omcs-global-customer-persister-ge4.omcs-nonprod.r1.pks.dell.com'. Adding certificate verification is strongly advised. See: https://urllib3.readthedocs.io/en/1.26.x/advanced-usage.html#ssl-warnings\n",
      "  warnings.warn(\n"
     ]
    },
    {
     "name": "stdout",
     "output_type": "stream",
     "text": [
      "<class 'str'>\n",
      "null7040000446909\n",
      "7040000446908\n",
      "https://omcs-global-customer-persister-ge4.omcs-nonprod.r1.pks.dell.com/omcs-global-customer-persister/v1/Dashboard/GetTransformData?dpid=7040000446908\n"
     ]
    },
    {
     "name": "stderr",
     "output_type": "stream",
     "text": [
      "C:\\Users\\Satpum\\AppData\\Local\\anaconda3\\Lib\\site-packages\\urllib3\\connectionpool.py:1056: InsecureRequestWarning: Unverified HTTPS request is being made to host 'omcs-global-customer-persister-ge4.omcs-nonprod.r1.pks.dell.com'. Adding certificate verification is strongly advised. See: https://urllib3.readthedocs.io/en/1.26.x/advanced-usage.html#ssl-warnings\n",
      "  warnings.warn(\n"
     ]
    },
    {
     "name": "stdout",
     "output_type": "stream",
     "text": [
      "<class 'str'>\n",
      "null7040000446908\n",
      "7040000446907\n",
      "https://omcs-global-customer-persister-ge4.omcs-nonprod.r1.pks.dell.com/omcs-global-customer-persister/v1/Dashboard/GetTransformData?dpid=7040000446907\n"
     ]
    },
    {
     "name": "stderr",
     "output_type": "stream",
     "text": [
      "C:\\Users\\Satpum\\AppData\\Local\\anaconda3\\Lib\\site-packages\\urllib3\\connectionpool.py:1056: InsecureRequestWarning: Unverified HTTPS request is being made to host 'omcs-global-customer-persister-ge4.omcs-nonprod.r1.pks.dell.com'. Adding certificate verification is strongly advised. See: https://urllib3.readthedocs.io/en/1.26.x/advanced-usage.html#ssl-warnings\n",
      "  warnings.warn(\n"
     ]
    },
    {
     "name": "stdout",
     "output_type": "stream",
     "text": [
      "<class 'str'>\n",
      "null7040000446907\n",
      "7040000446906\n",
      "https://omcs-global-customer-persister-ge4.omcs-nonprod.r1.pks.dell.com/omcs-global-customer-persister/v1/Dashboard/GetTransformData?dpid=7040000446906\n"
     ]
    },
    {
     "name": "stderr",
     "output_type": "stream",
     "text": [
      "C:\\Users\\Satpum\\AppData\\Local\\anaconda3\\Lib\\site-packages\\urllib3\\connectionpool.py:1056: InsecureRequestWarning: Unverified HTTPS request is being made to host 'omcs-global-customer-persister-ge4.omcs-nonprod.r1.pks.dell.com'. Adding certificate verification is strongly advised. See: https://urllib3.readthedocs.io/en/1.26.x/advanced-usage.html#ssl-warnings\n",
      "  warnings.warn(\n"
     ]
    },
    {
     "name": "stdout",
     "output_type": "stream",
     "text": [
      "<class 'str'>\n",
      "null7040000446906\n",
      "7040000446903\n",
      "https://omcs-global-customer-persister-ge4.omcs-nonprod.r1.pks.dell.com/omcs-global-customer-persister/v1/Dashboard/GetTransformData?dpid=7040000446903\n"
     ]
    },
    {
     "name": "stderr",
     "output_type": "stream",
     "text": [
      "C:\\Users\\Satpum\\AppData\\Local\\anaconda3\\Lib\\site-packages\\urllib3\\connectionpool.py:1056: InsecureRequestWarning: Unverified HTTPS request is being made to host 'omcs-global-customer-persister-ge4.omcs-nonprod.r1.pks.dell.com'. Adding certificate verification is strongly advised. See: https://urllib3.readthedocs.io/en/1.26.x/advanced-usage.html#ssl-warnings\n",
      "  warnings.warn(\n"
     ]
    },
    {
     "name": "stdout",
     "output_type": "stream",
     "text": [
      "<class 'str'>\n",
      "not null\n",
      "7040000446899\n",
      "https://omcs-global-customer-persister-ge4.omcs-nonprod.r1.pks.dell.com/omcs-global-customer-persister/v1/Dashboard/GetTransformData?dpid=7040000446899\n"
     ]
    },
    {
     "name": "stderr",
     "output_type": "stream",
     "text": [
      "C:\\Users\\Satpum\\AppData\\Local\\anaconda3\\Lib\\site-packages\\urllib3\\connectionpool.py:1056: InsecureRequestWarning: Unverified HTTPS request is being made to host 'omcs-global-customer-persister-ge4.omcs-nonprod.r1.pks.dell.com'. Adding certificate verification is strongly advised. See: https://urllib3.readthedocs.io/en/1.26.x/advanced-usage.html#ssl-warnings\n",
      "  warnings.warn(\n"
     ]
    },
    {
     "name": "stdout",
     "output_type": "stream",
     "text": [
      "<class 'str'>\n",
      "not null\n",
      "7040000446897\n",
      "https://omcs-global-customer-persister-ge4.omcs-nonprod.r1.pks.dell.com/omcs-global-customer-persister/v1/Dashboard/GetTransformData?dpid=7040000446897\n"
     ]
    },
    {
     "name": "stderr",
     "output_type": "stream",
     "text": [
      "C:\\Users\\Satpum\\AppData\\Local\\anaconda3\\Lib\\site-packages\\urllib3\\connectionpool.py:1056: InsecureRequestWarning: Unverified HTTPS request is being made to host 'omcs-global-customer-persister-ge4.omcs-nonprod.r1.pks.dell.com'. Adding certificate verification is strongly advised. See: https://urllib3.readthedocs.io/en/1.26.x/advanced-usage.html#ssl-warnings\n",
      "  warnings.warn(\n"
     ]
    },
    {
     "name": "stdout",
     "output_type": "stream",
     "text": [
      "<class 'str'>\n",
      "not null\n",
      "7040000446896\n",
      "https://omcs-global-customer-persister-ge4.omcs-nonprod.r1.pks.dell.com/omcs-global-customer-persister/v1/Dashboard/GetTransformData?dpid=7040000446896\n"
     ]
    },
    {
     "name": "stderr",
     "output_type": "stream",
     "text": [
      "C:\\Users\\Satpum\\AppData\\Local\\anaconda3\\Lib\\site-packages\\urllib3\\connectionpool.py:1056: InsecureRequestWarning: Unverified HTTPS request is being made to host 'omcs-global-customer-persister-ge4.omcs-nonprod.r1.pks.dell.com'. Adding certificate verification is strongly advised. See: https://urllib3.readthedocs.io/en/1.26.x/advanced-usage.html#ssl-warnings\n",
      "  warnings.warn(\n"
     ]
    },
    {
     "name": "stdout",
     "output_type": "stream",
     "text": [
      "<class 'str'>\n",
      "not null\n",
      "7040000446895\n",
      "https://omcs-global-customer-persister-ge4.omcs-nonprod.r1.pks.dell.com/omcs-global-customer-persister/v1/Dashboard/GetTransformData?dpid=7040000446895\n"
     ]
    },
    {
     "name": "stderr",
     "output_type": "stream",
     "text": [
      "C:\\Users\\Satpum\\AppData\\Local\\anaconda3\\Lib\\site-packages\\urllib3\\connectionpool.py:1056: InsecureRequestWarning: Unverified HTTPS request is being made to host 'omcs-global-customer-persister-ge4.omcs-nonprod.r1.pks.dell.com'. Adding certificate verification is strongly advised. See: https://urllib3.readthedocs.io/en/1.26.x/advanced-usage.html#ssl-warnings\n",
      "  warnings.warn(\n"
     ]
    },
    {
     "name": "stdout",
     "output_type": "stream",
     "text": [
      "<class 'str'>\n",
      "not null\n",
      "7040000446894\n",
      "https://omcs-global-customer-persister-ge4.omcs-nonprod.r1.pks.dell.com/omcs-global-customer-persister/v1/Dashboard/GetTransformData?dpid=7040000446894\n"
     ]
    },
    {
     "name": "stderr",
     "output_type": "stream",
     "text": [
      "C:\\Users\\Satpum\\AppData\\Local\\anaconda3\\Lib\\site-packages\\urllib3\\connectionpool.py:1056: InsecureRequestWarning: Unverified HTTPS request is being made to host 'omcs-global-customer-persister-ge4.omcs-nonprod.r1.pks.dell.com'. Adding certificate verification is strongly advised. See: https://urllib3.readthedocs.io/en/1.26.x/advanced-usage.html#ssl-warnings\n",
      "  warnings.warn(\n"
     ]
    },
    {
     "name": "stdout",
     "output_type": "stream",
     "text": [
      "<class 'str'>\n",
      "not null\n",
      "7040000446892\n",
      "https://omcs-global-customer-persister-ge4.omcs-nonprod.r1.pks.dell.com/omcs-global-customer-persister/v1/Dashboard/GetTransformData?dpid=7040000446892\n"
     ]
    },
    {
     "name": "stderr",
     "output_type": "stream",
     "text": [
      "C:\\Users\\Satpum\\AppData\\Local\\anaconda3\\Lib\\site-packages\\urllib3\\connectionpool.py:1056: InsecureRequestWarning: Unverified HTTPS request is being made to host 'omcs-global-customer-persister-ge4.omcs-nonprod.r1.pks.dell.com'. Adding certificate verification is strongly advised. See: https://urllib3.readthedocs.io/en/1.26.x/advanced-usage.html#ssl-warnings\n",
      "  warnings.warn(\n"
     ]
    },
    {
     "name": "stdout",
     "output_type": "stream",
     "text": [
      "<class 'str'>\n",
      "not null\n",
      "7040000446890\n",
      "https://omcs-global-customer-persister-ge4.omcs-nonprod.r1.pks.dell.com/omcs-global-customer-persister/v1/Dashboard/GetTransformData?dpid=7040000446890\n"
     ]
    },
    {
     "name": "stderr",
     "output_type": "stream",
     "text": [
      "C:\\Users\\Satpum\\AppData\\Local\\anaconda3\\Lib\\site-packages\\urllib3\\connectionpool.py:1056: InsecureRequestWarning: Unverified HTTPS request is being made to host 'omcs-global-customer-persister-ge4.omcs-nonprod.r1.pks.dell.com'. Adding certificate verification is strongly advised. See: https://urllib3.readthedocs.io/en/1.26.x/advanced-usage.html#ssl-warnings\n",
      "  warnings.warn(\n"
     ]
    },
    {
     "name": "stdout",
     "output_type": "stream",
     "text": [
      "<class 'str'>\n",
      "not null\n",
      "7040000446883\n",
      "https://omcs-global-customer-persister-ge4.omcs-nonprod.r1.pks.dell.com/omcs-global-customer-persister/v1/Dashboard/GetTransformData?dpid=7040000446883\n"
     ]
    },
    {
     "name": "stderr",
     "output_type": "stream",
     "text": [
      "C:\\Users\\Satpum\\AppData\\Local\\anaconda3\\Lib\\site-packages\\urllib3\\connectionpool.py:1056: InsecureRequestWarning: Unverified HTTPS request is being made to host 'omcs-global-customer-persister-ge4.omcs-nonprod.r1.pks.dell.com'. Adding certificate verification is strongly advised. See: https://urllib3.readthedocs.io/en/1.26.x/advanced-usage.html#ssl-warnings\n",
      "  warnings.warn(\n"
     ]
    },
    {
     "name": "stdout",
     "output_type": "stream",
     "text": [
      "<class 'str'>\n",
      "null7040000446883\n",
      "7040000446882\n",
      "https://omcs-global-customer-persister-ge4.omcs-nonprod.r1.pks.dell.com/omcs-global-customer-persister/v1/Dashboard/GetTransformData?dpid=7040000446882\n"
     ]
    },
    {
     "name": "stderr",
     "output_type": "stream",
     "text": [
      "C:\\Users\\Satpum\\AppData\\Local\\anaconda3\\Lib\\site-packages\\urllib3\\connectionpool.py:1056: InsecureRequestWarning: Unverified HTTPS request is being made to host 'omcs-global-customer-persister-ge4.omcs-nonprod.r1.pks.dell.com'. Adding certificate verification is strongly advised. See: https://urllib3.readthedocs.io/en/1.26.x/advanced-usage.html#ssl-warnings\n",
      "  warnings.warn(\n"
     ]
    },
    {
     "name": "stdout",
     "output_type": "stream",
     "text": [
      "<class 'str'>\n",
      "not null\n",
      "7040000446881\n",
      "https://omcs-global-customer-persister-ge4.omcs-nonprod.r1.pks.dell.com/omcs-global-customer-persister/v1/Dashboard/GetTransformData?dpid=7040000446881\n"
     ]
    },
    {
     "name": "stderr",
     "output_type": "stream",
     "text": [
      "C:\\Users\\Satpum\\AppData\\Local\\anaconda3\\Lib\\site-packages\\urllib3\\connectionpool.py:1056: InsecureRequestWarning: Unverified HTTPS request is being made to host 'omcs-global-customer-persister-ge4.omcs-nonprod.r1.pks.dell.com'. Adding certificate verification is strongly advised. See: https://urllib3.readthedocs.io/en/1.26.x/advanced-usage.html#ssl-warnings\n",
      "  warnings.warn(\n"
     ]
    },
    {
     "name": "stdout",
     "output_type": "stream",
     "text": [
      "<class 'str'>\n",
      "not null\n",
      "7040000446880\n",
      "https://omcs-global-customer-persister-ge4.omcs-nonprod.r1.pks.dell.com/omcs-global-customer-persister/v1/Dashboard/GetTransformData?dpid=7040000446880\n"
     ]
    },
    {
     "name": "stderr",
     "output_type": "stream",
     "text": [
      "C:\\Users\\Satpum\\AppData\\Local\\anaconda3\\Lib\\site-packages\\urllib3\\connectionpool.py:1056: InsecureRequestWarning: Unverified HTTPS request is being made to host 'omcs-global-customer-persister-ge4.omcs-nonprod.r1.pks.dell.com'. Adding certificate verification is strongly advised. See: https://urllib3.readthedocs.io/en/1.26.x/advanced-usage.html#ssl-warnings\n",
      "  warnings.warn(\n"
     ]
    },
    {
     "name": "stdout",
     "output_type": "stream",
     "text": [
      "<class 'str'>\n",
      "null7040000446880\n",
      "7040000446879\n",
      "https://omcs-global-customer-persister-ge4.omcs-nonprod.r1.pks.dell.com/omcs-global-customer-persister/v1/Dashboard/GetTransformData?dpid=7040000446879\n"
     ]
    },
    {
     "name": "stderr",
     "output_type": "stream",
     "text": [
      "C:\\Users\\Satpum\\AppData\\Local\\anaconda3\\Lib\\site-packages\\urllib3\\connectionpool.py:1056: InsecureRequestWarning: Unverified HTTPS request is being made to host 'omcs-global-customer-persister-ge4.omcs-nonprod.r1.pks.dell.com'. Adding certificate verification is strongly advised. See: https://urllib3.readthedocs.io/en/1.26.x/advanced-usage.html#ssl-warnings\n",
      "  warnings.warn(\n"
     ]
    },
    {
     "name": "stdout",
     "output_type": "stream",
     "text": [
      "<class 'str'>\n",
      "null7040000446879\n",
      "7040000446876\n",
      "https://omcs-global-customer-persister-ge4.omcs-nonprod.r1.pks.dell.com/omcs-global-customer-persister/v1/Dashboard/GetTransformData?dpid=7040000446876\n"
     ]
    },
    {
     "name": "stderr",
     "output_type": "stream",
     "text": [
      "C:\\Users\\Satpum\\AppData\\Local\\anaconda3\\Lib\\site-packages\\urllib3\\connectionpool.py:1056: InsecureRequestWarning: Unverified HTTPS request is being made to host 'omcs-global-customer-persister-ge4.omcs-nonprod.r1.pks.dell.com'. Adding certificate verification is strongly advised. See: https://urllib3.readthedocs.io/en/1.26.x/advanced-usage.html#ssl-warnings\n",
      "  warnings.warn(\n"
     ]
    },
    {
     "name": "stdout",
     "output_type": "stream",
     "text": [
      "<class 'str'>\n",
      "null7040000446876\n",
      "7040000446875\n",
      "https://omcs-global-customer-persister-ge4.omcs-nonprod.r1.pks.dell.com/omcs-global-customer-persister/v1/Dashboard/GetTransformData?dpid=7040000446875\n"
     ]
    },
    {
     "name": "stderr",
     "output_type": "stream",
     "text": [
      "C:\\Users\\Satpum\\AppData\\Local\\anaconda3\\Lib\\site-packages\\urllib3\\connectionpool.py:1056: InsecureRequestWarning: Unverified HTTPS request is being made to host 'omcs-global-customer-persister-ge4.omcs-nonprod.r1.pks.dell.com'. Adding certificate verification is strongly advised. See: https://urllib3.readthedocs.io/en/1.26.x/advanced-usage.html#ssl-warnings\n",
      "  warnings.warn(\n"
     ]
    },
    {
     "name": "stdout",
     "output_type": "stream",
     "text": [
      "<class 'str'>\n",
      "null7040000446875\n",
      "7040000446874\n",
      "https://omcs-global-customer-persister-ge4.omcs-nonprod.r1.pks.dell.com/omcs-global-customer-persister/v1/Dashboard/GetTransformData?dpid=7040000446874\n"
     ]
    },
    {
     "name": "stderr",
     "output_type": "stream",
     "text": [
      "C:\\Users\\Satpum\\AppData\\Local\\anaconda3\\Lib\\site-packages\\urllib3\\connectionpool.py:1056: InsecureRequestWarning: Unverified HTTPS request is being made to host 'omcs-global-customer-persister-ge4.omcs-nonprod.r1.pks.dell.com'. Adding certificate verification is strongly advised. See: https://urllib3.readthedocs.io/en/1.26.x/advanced-usage.html#ssl-warnings\n",
      "  warnings.warn(\n"
     ]
    },
    {
     "name": "stdout",
     "output_type": "stream",
     "text": [
      "<class 'str'>\n",
      "null7040000446874\n",
      "7040000446873\n",
      "https://omcs-global-customer-persister-ge4.omcs-nonprod.r1.pks.dell.com/omcs-global-customer-persister/v1/Dashboard/GetTransformData?dpid=7040000446873\n"
     ]
    },
    {
     "name": "stderr",
     "output_type": "stream",
     "text": [
      "C:\\Users\\Satpum\\AppData\\Local\\anaconda3\\Lib\\site-packages\\urllib3\\connectionpool.py:1056: InsecureRequestWarning: Unverified HTTPS request is being made to host 'omcs-global-customer-persister-ge4.omcs-nonprod.r1.pks.dell.com'. Adding certificate verification is strongly advised. See: https://urllib3.readthedocs.io/en/1.26.x/advanced-usage.html#ssl-warnings\n",
      "  warnings.warn(\n"
     ]
    },
    {
     "name": "stdout",
     "output_type": "stream",
     "text": [
      "<class 'str'>\n",
      "null7040000446873\n",
      "7040000446854\n",
      "https://omcs-global-customer-persister-ge4.omcs-nonprod.r1.pks.dell.com/omcs-global-customer-persister/v1/Dashboard/GetTransformData?dpid=7040000446854\n"
     ]
    },
    {
     "name": "stderr",
     "output_type": "stream",
     "text": [
      "C:\\Users\\Satpum\\AppData\\Local\\anaconda3\\Lib\\site-packages\\urllib3\\connectionpool.py:1056: InsecureRequestWarning: Unverified HTTPS request is being made to host 'omcs-global-customer-persister-ge4.omcs-nonprod.r1.pks.dell.com'. Adding certificate verification is strongly advised. See: https://urllib3.readthedocs.io/en/1.26.x/advanced-usage.html#ssl-warnings\n",
      "  warnings.warn(\n"
     ]
    },
    {
     "name": "stdout",
     "output_type": "stream",
     "text": [
      "<class 'str'>\n",
      "null7040000446854\n",
      "7040000446842\n",
      "https://omcs-global-customer-persister-ge4.omcs-nonprod.r1.pks.dell.com/omcs-global-customer-persister/v1/Dashboard/GetTransformData?dpid=7040000446842\n"
     ]
    },
    {
     "name": "stderr",
     "output_type": "stream",
     "text": [
      "C:\\Users\\Satpum\\AppData\\Local\\anaconda3\\Lib\\site-packages\\urllib3\\connectionpool.py:1056: InsecureRequestWarning: Unverified HTTPS request is being made to host 'omcs-global-customer-persister-ge4.omcs-nonprod.r1.pks.dell.com'. Adding certificate verification is strongly advised. See: https://urllib3.readthedocs.io/en/1.26.x/advanced-usage.html#ssl-warnings\n",
      "  warnings.warn(\n"
     ]
    },
    {
     "name": "stdout",
     "output_type": "stream",
     "text": [
      "<class 'str'>\n",
      "null7040000446842\n",
      "7040000446841\n",
      "https://omcs-global-customer-persister-ge4.omcs-nonprod.r1.pks.dell.com/omcs-global-customer-persister/v1/Dashboard/GetTransformData?dpid=7040000446841\n"
     ]
    },
    {
     "name": "stderr",
     "output_type": "stream",
     "text": [
      "C:\\Users\\Satpum\\AppData\\Local\\anaconda3\\Lib\\site-packages\\urllib3\\connectionpool.py:1056: InsecureRequestWarning: Unverified HTTPS request is being made to host 'omcs-global-customer-persister-ge4.omcs-nonprod.r1.pks.dell.com'. Adding certificate verification is strongly advised. See: https://urllib3.readthedocs.io/en/1.26.x/advanced-usage.html#ssl-warnings\n",
      "  warnings.warn(\n"
     ]
    },
    {
     "name": "stdout",
     "output_type": "stream",
     "text": [
      "<class 'str'>\n",
      "null7040000446841\n",
      "7040000446840\n",
      "https://omcs-global-customer-persister-ge4.omcs-nonprod.r1.pks.dell.com/omcs-global-customer-persister/v1/Dashboard/GetTransformData?dpid=7040000446840\n"
     ]
    },
    {
     "name": "stderr",
     "output_type": "stream",
     "text": [
      "C:\\Users\\Satpum\\AppData\\Local\\anaconda3\\Lib\\site-packages\\urllib3\\connectionpool.py:1056: InsecureRequestWarning: Unverified HTTPS request is being made to host 'omcs-global-customer-persister-ge4.omcs-nonprod.r1.pks.dell.com'. Adding certificate verification is strongly advised. See: https://urllib3.readthedocs.io/en/1.26.x/advanced-usage.html#ssl-warnings\n",
      "  warnings.warn(\n"
     ]
    },
    {
     "name": "stdout",
     "output_type": "stream",
     "text": [
      "<class 'str'>\n",
      "null7040000446840\n",
      "7040000446838\n",
      "https://omcs-global-customer-persister-ge4.omcs-nonprod.r1.pks.dell.com/omcs-global-customer-persister/v1/Dashboard/GetTransformData?dpid=7040000446838\n"
     ]
    },
    {
     "name": "stderr",
     "output_type": "stream",
     "text": [
      "C:\\Users\\Satpum\\AppData\\Local\\anaconda3\\Lib\\site-packages\\urllib3\\connectionpool.py:1056: InsecureRequestWarning: Unverified HTTPS request is being made to host 'omcs-global-customer-persister-ge4.omcs-nonprod.r1.pks.dell.com'. Adding certificate verification is strongly advised. See: https://urllib3.readthedocs.io/en/1.26.x/advanced-usage.html#ssl-warnings\n",
      "  warnings.warn(\n"
     ]
    },
    {
     "name": "stdout",
     "output_type": "stream",
     "text": [
      "<class 'str'>\n",
      "null7040000446838\n",
      "7040000446833\n",
      "https://omcs-global-customer-persister-ge4.omcs-nonprod.r1.pks.dell.com/omcs-global-customer-persister/v1/Dashboard/GetTransformData?dpid=7040000446833\n"
     ]
    },
    {
     "name": "stderr",
     "output_type": "stream",
     "text": [
      "C:\\Users\\Satpum\\AppData\\Local\\anaconda3\\Lib\\site-packages\\urllib3\\connectionpool.py:1056: InsecureRequestWarning: Unverified HTTPS request is being made to host 'omcs-global-customer-persister-ge4.omcs-nonprod.r1.pks.dell.com'. Adding certificate verification is strongly advised. See: https://urllib3.readthedocs.io/en/1.26.x/advanced-usage.html#ssl-warnings\n",
      "  warnings.warn(\n"
     ]
    },
    {
     "name": "stdout",
     "output_type": "stream",
     "text": [
      "<class 'str'>\n",
      "null7040000446833\n",
      "7040000446832\n",
      "https://omcs-global-customer-persister-ge4.omcs-nonprod.r1.pks.dell.com/omcs-global-customer-persister/v1/Dashboard/GetTransformData?dpid=7040000446832\n"
     ]
    },
    {
     "name": "stderr",
     "output_type": "stream",
     "text": [
      "C:\\Users\\Satpum\\AppData\\Local\\anaconda3\\Lib\\site-packages\\urllib3\\connectionpool.py:1056: InsecureRequestWarning: Unverified HTTPS request is being made to host 'omcs-global-customer-persister-ge4.omcs-nonprod.r1.pks.dell.com'. Adding certificate verification is strongly advised. See: https://urllib3.readthedocs.io/en/1.26.x/advanced-usage.html#ssl-warnings\n",
      "  warnings.warn(\n"
     ]
    },
    {
     "name": "stdout",
     "output_type": "stream",
     "text": [
      "<class 'str'>\n",
      "null7040000446832\n",
      "7040000446831\n",
      "https://omcs-global-customer-persister-ge4.omcs-nonprod.r1.pks.dell.com/omcs-global-customer-persister/v1/Dashboard/GetTransformData?dpid=7040000446831\n"
     ]
    },
    {
     "name": "stderr",
     "output_type": "stream",
     "text": [
      "C:\\Users\\Satpum\\AppData\\Local\\anaconda3\\Lib\\site-packages\\urllib3\\connectionpool.py:1056: InsecureRequestWarning: Unverified HTTPS request is being made to host 'omcs-global-customer-persister-ge4.omcs-nonprod.r1.pks.dell.com'. Adding certificate verification is strongly advised. See: https://urllib3.readthedocs.io/en/1.26.x/advanced-usage.html#ssl-warnings\n",
      "  warnings.warn(\n"
     ]
    },
    {
     "name": "stdout",
     "output_type": "stream",
     "text": [
      "<class 'str'>\n",
      "null7040000446831\n",
      "7040000446827\n",
      "https://omcs-global-customer-persister-ge4.omcs-nonprod.r1.pks.dell.com/omcs-global-customer-persister/v1/Dashboard/GetTransformData?dpid=7040000446827\n"
     ]
    },
    {
     "name": "stderr",
     "output_type": "stream",
     "text": [
      "C:\\Users\\Satpum\\AppData\\Local\\anaconda3\\Lib\\site-packages\\urllib3\\connectionpool.py:1056: InsecureRequestWarning: Unverified HTTPS request is being made to host 'omcs-global-customer-persister-ge4.omcs-nonprod.r1.pks.dell.com'. Adding certificate verification is strongly advised. See: https://urllib3.readthedocs.io/en/1.26.x/advanced-usage.html#ssl-warnings\n",
      "  warnings.warn(\n"
     ]
    },
    {
     "name": "stdout",
     "output_type": "stream",
     "text": [
      "<class 'str'>\n",
      "null7040000446827\n",
      "7040000446826\n",
      "https://omcs-global-customer-persister-ge4.omcs-nonprod.r1.pks.dell.com/omcs-global-customer-persister/v1/Dashboard/GetTransformData?dpid=7040000446826\n"
     ]
    },
    {
     "name": "stderr",
     "output_type": "stream",
     "text": [
      "C:\\Users\\Satpum\\AppData\\Local\\anaconda3\\Lib\\site-packages\\urllib3\\connectionpool.py:1056: InsecureRequestWarning: Unverified HTTPS request is being made to host 'omcs-global-customer-persister-ge4.omcs-nonprod.r1.pks.dell.com'. Adding certificate verification is strongly advised. See: https://urllib3.readthedocs.io/en/1.26.x/advanced-usage.html#ssl-warnings\n",
      "  warnings.warn(\n"
     ]
    },
    {
     "name": "stdout",
     "output_type": "stream",
     "text": [
      "<class 'str'>\n",
      "null7040000446826\n",
      "7040000446825\n",
      "https://omcs-global-customer-persister-ge4.omcs-nonprod.r1.pks.dell.com/omcs-global-customer-persister/v1/Dashboard/GetTransformData?dpid=7040000446825\n"
     ]
    },
    {
     "name": "stderr",
     "output_type": "stream",
     "text": [
      "C:\\Users\\Satpum\\AppData\\Local\\anaconda3\\Lib\\site-packages\\urllib3\\connectionpool.py:1056: InsecureRequestWarning: Unverified HTTPS request is being made to host 'omcs-global-customer-persister-ge4.omcs-nonprod.r1.pks.dell.com'. Adding certificate verification is strongly advised. See: https://urllib3.readthedocs.io/en/1.26.x/advanced-usage.html#ssl-warnings\n",
      "  warnings.warn(\n"
     ]
    },
    {
     "name": "stdout",
     "output_type": "stream",
     "text": [
      "<class 'str'>\n",
      "null7040000446825\n",
      "7040000446824\n",
      "https://omcs-global-customer-persister-ge4.omcs-nonprod.r1.pks.dell.com/omcs-global-customer-persister/v1/Dashboard/GetTransformData?dpid=7040000446824\n"
     ]
    },
    {
     "name": "stderr",
     "output_type": "stream",
     "text": [
      "C:\\Users\\Satpum\\AppData\\Local\\anaconda3\\Lib\\site-packages\\urllib3\\connectionpool.py:1056: InsecureRequestWarning: Unverified HTTPS request is being made to host 'omcs-global-customer-persister-ge4.omcs-nonprod.r1.pks.dell.com'. Adding certificate verification is strongly advised. See: https://urllib3.readthedocs.io/en/1.26.x/advanced-usage.html#ssl-warnings\n",
      "  warnings.warn(\n"
     ]
    },
    {
     "name": "stdout",
     "output_type": "stream",
     "text": [
      "<class 'str'>\n",
      "null7040000446824\n",
      "7040000446819\n",
      "https://omcs-global-customer-persister-ge4.omcs-nonprod.r1.pks.dell.com/omcs-global-customer-persister/v1/Dashboard/GetTransformData?dpid=7040000446819\n"
     ]
    },
    {
     "name": "stderr",
     "output_type": "stream",
     "text": [
      "C:\\Users\\Satpum\\AppData\\Local\\anaconda3\\Lib\\site-packages\\urllib3\\connectionpool.py:1056: InsecureRequestWarning: Unverified HTTPS request is being made to host 'omcs-global-customer-persister-ge4.omcs-nonprod.r1.pks.dell.com'. Adding certificate verification is strongly advised. See: https://urllib3.readthedocs.io/en/1.26.x/advanced-usage.html#ssl-warnings\n",
      "  warnings.warn(\n"
     ]
    },
    {
     "name": "stdout",
     "output_type": "stream",
     "text": [
      "<class 'str'>\n",
      "null7040000446819\n",
      "7040000446818\n",
      "https://omcs-global-customer-persister-ge4.omcs-nonprod.r1.pks.dell.com/omcs-global-customer-persister/v1/Dashboard/GetTransformData?dpid=7040000446818\n"
     ]
    },
    {
     "name": "stderr",
     "output_type": "stream",
     "text": [
      "C:\\Users\\Satpum\\AppData\\Local\\anaconda3\\Lib\\site-packages\\urllib3\\connectionpool.py:1056: InsecureRequestWarning: Unverified HTTPS request is being made to host 'omcs-global-customer-persister-ge4.omcs-nonprod.r1.pks.dell.com'. Adding certificate verification is strongly advised. See: https://urllib3.readthedocs.io/en/1.26.x/advanced-usage.html#ssl-warnings\n",
      "  warnings.warn(\n"
     ]
    },
    {
     "name": "stdout",
     "output_type": "stream",
     "text": [
      "<class 'str'>\n",
      "null7040000446818\n",
      "7040000446771\n",
      "https://omcs-global-customer-persister-ge4.omcs-nonprod.r1.pks.dell.com/omcs-global-customer-persister/v1/Dashboard/GetTransformData?dpid=7040000446771\n"
     ]
    },
    {
     "name": "stderr",
     "output_type": "stream",
     "text": [
      "C:\\Users\\Satpum\\AppData\\Local\\anaconda3\\Lib\\site-packages\\urllib3\\connectionpool.py:1056: InsecureRequestWarning: Unverified HTTPS request is being made to host 'omcs-global-customer-persister-ge4.omcs-nonprod.r1.pks.dell.com'. Adding certificate verification is strongly advised. See: https://urllib3.readthedocs.io/en/1.26.x/advanced-usage.html#ssl-warnings\n",
      "  warnings.warn(\n"
     ]
    },
    {
     "name": "stdout",
     "output_type": "stream",
     "text": [
      "<class 'str'>\n",
      "null7040000446771\n",
      "7040000446770\n",
      "https://omcs-global-customer-persister-ge4.omcs-nonprod.r1.pks.dell.com/omcs-global-customer-persister/v1/Dashboard/GetTransformData?dpid=7040000446770\n"
     ]
    },
    {
     "name": "stderr",
     "output_type": "stream",
     "text": [
      "C:\\Users\\Satpum\\AppData\\Local\\anaconda3\\Lib\\site-packages\\urllib3\\connectionpool.py:1056: InsecureRequestWarning: Unverified HTTPS request is being made to host 'omcs-global-customer-persister-ge4.omcs-nonprod.r1.pks.dell.com'. Adding certificate verification is strongly advised. See: https://urllib3.readthedocs.io/en/1.26.x/advanced-usage.html#ssl-warnings\n",
      "  warnings.warn(\n"
     ]
    },
    {
     "name": "stdout",
     "output_type": "stream",
     "text": [
      "<class 'str'>\n",
      "null7040000446770\n",
      "7040000446737\n",
      "https://omcs-global-customer-persister-ge4.omcs-nonprod.r1.pks.dell.com/omcs-global-customer-persister/v1/Dashboard/GetTransformData?dpid=7040000446737\n"
     ]
    },
    {
     "name": "stderr",
     "output_type": "stream",
     "text": [
      "C:\\Users\\Satpum\\AppData\\Local\\anaconda3\\Lib\\site-packages\\urllib3\\connectionpool.py:1056: InsecureRequestWarning: Unverified HTTPS request is being made to host 'omcs-global-customer-persister-ge4.omcs-nonprod.r1.pks.dell.com'. Adding certificate verification is strongly advised. See: https://urllib3.readthedocs.io/en/1.26.x/advanced-usage.html#ssl-warnings\n",
      "  warnings.warn(\n"
     ]
    },
    {
     "name": "stdout",
     "output_type": "stream",
     "text": [
      "<class 'str'>\n",
      "null7040000446737\n",
      "7040000446717\n",
      "https://omcs-global-customer-persister-ge4.omcs-nonprod.r1.pks.dell.com/omcs-global-customer-persister/v1/Dashboard/GetTransformData?dpid=7040000446717\n"
     ]
    },
    {
     "name": "stderr",
     "output_type": "stream",
     "text": [
      "C:\\Users\\Satpum\\AppData\\Local\\anaconda3\\Lib\\site-packages\\urllib3\\connectionpool.py:1056: InsecureRequestWarning: Unverified HTTPS request is being made to host 'omcs-global-customer-persister-ge4.omcs-nonprod.r1.pks.dell.com'. Adding certificate verification is strongly advised. See: https://urllib3.readthedocs.io/en/1.26.x/advanced-usage.html#ssl-warnings\n",
      "  warnings.warn(\n"
     ]
    },
    {
     "name": "stdout",
     "output_type": "stream",
     "text": [
      "<class 'str'>\n",
      "null7040000446717\n",
      "7040000446715\n",
      "https://omcs-global-customer-persister-ge4.omcs-nonprod.r1.pks.dell.com/omcs-global-customer-persister/v1/Dashboard/GetTransformData?dpid=7040000446715\n"
     ]
    },
    {
     "name": "stderr",
     "output_type": "stream",
     "text": [
      "C:\\Users\\Satpum\\AppData\\Local\\anaconda3\\Lib\\site-packages\\urllib3\\connectionpool.py:1056: InsecureRequestWarning: Unverified HTTPS request is being made to host 'omcs-global-customer-persister-ge4.omcs-nonprod.r1.pks.dell.com'. Adding certificate verification is strongly advised. See: https://urllib3.readthedocs.io/en/1.26.x/advanced-usage.html#ssl-warnings\n",
      "  warnings.warn(\n"
     ]
    },
    {
     "name": "stdout",
     "output_type": "stream",
     "text": [
      "<class 'str'>\n",
      "null7040000446715\n",
      "7040000446695\n",
      "https://omcs-global-customer-persister-ge4.omcs-nonprod.r1.pks.dell.com/omcs-global-customer-persister/v1/Dashboard/GetTransformData?dpid=7040000446695\n"
     ]
    },
    {
     "name": "stderr",
     "output_type": "stream",
     "text": [
      "C:\\Users\\Satpum\\AppData\\Local\\anaconda3\\Lib\\site-packages\\urllib3\\connectionpool.py:1056: InsecureRequestWarning: Unverified HTTPS request is being made to host 'omcs-global-customer-persister-ge4.omcs-nonprod.r1.pks.dell.com'. Adding certificate verification is strongly advised. See: https://urllib3.readthedocs.io/en/1.26.x/advanced-usage.html#ssl-warnings\n",
      "  warnings.warn(\n"
     ]
    },
    {
     "name": "stdout",
     "output_type": "stream",
     "text": [
      "<class 'str'>\n",
      "null7040000446695\n",
      "7040000446693\n",
      "https://omcs-global-customer-persister-ge4.omcs-nonprod.r1.pks.dell.com/omcs-global-customer-persister/v1/Dashboard/GetTransformData?dpid=7040000446693\n"
     ]
    },
    {
     "name": "stderr",
     "output_type": "stream",
     "text": [
      "C:\\Users\\Satpum\\AppData\\Local\\anaconda3\\Lib\\site-packages\\urllib3\\connectionpool.py:1056: InsecureRequestWarning: Unverified HTTPS request is being made to host 'omcs-global-customer-persister-ge4.omcs-nonprod.r1.pks.dell.com'. Adding certificate verification is strongly advised. See: https://urllib3.readthedocs.io/en/1.26.x/advanced-usage.html#ssl-warnings\n",
      "  warnings.warn(\n"
     ]
    },
    {
     "name": "stdout",
     "output_type": "stream",
     "text": [
      "<class 'str'>\n",
      "null7040000446693\n",
      "7040000446691\n",
      "https://omcs-global-customer-persister-ge4.omcs-nonprod.r1.pks.dell.com/omcs-global-customer-persister/v1/Dashboard/GetTransformData?dpid=7040000446691\n"
     ]
    },
    {
     "name": "stderr",
     "output_type": "stream",
     "text": [
      "C:\\Users\\Satpum\\AppData\\Local\\anaconda3\\Lib\\site-packages\\urllib3\\connectionpool.py:1056: InsecureRequestWarning: Unverified HTTPS request is being made to host 'omcs-global-customer-persister-ge4.omcs-nonprod.r1.pks.dell.com'. Adding certificate verification is strongly advised. See: https://urllib3.readthedocs.io/en/1.26.x/advanced-usage.html#ssl-warnings\n",
      "  warnings.warn(\n"
     ]
    },
    {
     "name": "stdout",
     "output_type": "stream",
     "text": [
      "<class 'str'>\n",
      "null7040000446691\n",
      "7040000446690\n",
      "https://omcs-global-customer-persister-ge4.omcs-nonprod.r1.pks.dell.com/omcs-global-customer-persister/v1/Dashboard/GetTransformData?dpid=7040000446690\n"
     ]
    },
    {
     "name": "stderr",
     "output_type": "stream",
     "text": [
      "C:\\Users\\Satpum\\AppData\\Local\\anaconda3\\Lib\\site-packages\\urllib3\\connectionpool.py:1056: InsecureRequestWarning: Unverified HTTPS request is being made to host 'omcs-global-customer-persister-ge4.omcs-nonprod.r1.pks.dell.com'. Adding certificate verification is strongly advised. See: https://urllib3.readthedocs.io/en/1.26.x/advanced-usage.html#ssl-warnings\n",
      "  warnings.warn(\n"
     ]
    },
    {
     "name": "stdout",
     "output_type": "stream",
     "text": [
      "<class 'str'>\n",
      "null7040000446690\n",
      "7040000446688\n",
      "https://omcs-global-customer-persister-ge4.omcs-nonprod.r1.pks.dell.com/omcs-global-customer-persister/v1/Dashboard/GetTransformData?dpid=7040000446688\n"
     ]
    },
    {
     "name": "stderr",
     "output_type": "stream",
     "text": [
      "C:\\Users\\Satpum\\AppData\\Local\\anaconda3\\Lib\\site-packages\\urllib3\\connectionpool.py:1056: InsecureRequestWarning: Unverified HTTPS request is being made to host 'omcs-global-customer-persister-ge4.omcs-nonprod.r1.pks.dell.com'. Adding certificate verification is strongly advised. See: https://urllib3.readthedocs.io/en/1.26.x/advanced-usage.html#ssl-warnings\n",
      "  warnings.warn(\n"
     ]
    },
    {
     "name": "stdout",
     "output_type": "stream",
     "text": [
      "<class 'str'>\n",
      "null7040000446688\n",
      "7040000446686\n",
      "https://omcs-global-customer-persister-ge4.omcs-nonprod.r1.pks.dell.com/omcs-global-customer-persister/v1/Dashboard/GetTransformData?dpid=7040000446686\n"
     ]
    },
    {
     "name": "stderr",
     "output_type": "stream",
     "text": [
      "C:\\Users\\Satpum\\AppData\\Local\\anaconda3\\Lib\\site-packages\\urllib3\\connectionpool.py:1056: InsecureRequestWarning: Unverified HTTPS request is being made to host 'omcs-global-customer-persister-ge4.omcs-nonprod.r1.pks.dell.com'. Adding certificate verification is strongly advised. See: https://urllib3.readthedocs.io/en/1.26.x/advanced-usage.html#ssl-warnings\n",
      "  warnings.warn(\n"
     ]
    },
    {
     "name": "stdout",
     "output_type": "stream",
     "text": [
      "<class 'str'>\n",
      "null7040000446686\n",
      "7040000446684\n",
      "https://omcs-global-customer-persister-ge4.omcs-nonprod.r1.pks.dell.com/omcs-global-customer-persister/v1/Dashboard/GetTransformData?dpid=7040000446684\n"
     ]
    },
    {
     "name": "stderr",
     "output_type": "stream",
     "text": [
      "C:\\Users\\Satpum\\AppData\\Local\\anaconda3\\Lib\\site-packages\\urllib3\\connectionpool.py:1056: InsecureRequestWarning: Unverified HTTPS request is being made to host 'omcs-global-customer-persister-ge4.omcs-nonprod.r1.pks.dell.com'. Adding certificate verification is strongly advised. See: https://urllib3.readthedocs.io/en/1.26.x/advanced-usage.html#ssl-warnings\n",
      "  warnings.warn(\n"
     ]
    },
    {
     "name": "stdout",
     "output_type": "stream",
     "text": [
      "<class 'str'>\n",
      "null7040000446684\n",
      "7040000446681\n",
      "https://omcs-global-customer-persister-ge4.omcs-nonprod.r1.pks.dell.com/omcs-global-customer-persister/v1/Dashboard/GetTransformData?dpid=7040000446681\n"
     ]
    },
    {
     "name": "stderr",
     "output_type": "stream",
     "text": [
      "C:\\Users\\Satpum\\AppData\\Local\\anaconda3\\Lib\\site-packages\\urllib3\\connectionpool.py:1056: InsecureRequestWarning: Unverified HTTPS request is being made to host 'omcs-global-customer-persister-ge4.omcs-nonprod.r1.pks.dell.com'. Adding certificate verification is strongly advised. See: https://urllib3.readthedocs.io/en/1.26.x/advanced-usage.html#ssl-warnings\n",
      "  warnings.warn(\n"
     ]
    },
    {
     "name": "stdout",
     "output_type": "stream",
     "text": [
      "<class 'str'>\n",
      "null7040000446681\n",
      "7040000446679\n",
      "https://omcs-global-customer-persister-ge4.omcs-nonprod.r1.pks.dell.com/omcs-global-customer-persister/v1/Dashboard/GetTransformData?dpid=7040000446679\n"
     ]
    },
    {
     "name": "stderr",
     "output_type": "stream",
     "text": [
      "C:\\Users\\Satpum\\AppData\\Local\\anaconda3\\Lib\\site-packages\\urllib3\\connectionpool.py:1056: InsecureRequestWarning: Unverified HTTPS request is being made to host 'omcs-global-customer-persister-ge4.omcs-nonprod.r1.pks.dell.com'. Adding certificate verification is strongly advised. See: https://urllib3.readthedocs.io/en/1.26.x/advanced-usage.html#ssl-warnings\n",
      "  warnings.warn(\n"
     ]
    },
    {
     "name": "stdout",
     "output_type": "stream",
     "text": [
      "<class 'str'>\n",
      "null7040000446679\n",
      "7040000446678\n",
      "https://omcs-global-customer-persister-ge4.omcs-nonprod.r1.pks.dell.com/omcs-global-customer-persister/v1/Dashboard/GetTransformData?dpid=7040000446678\n"
     ]
    },
    {
     "name": "stderr",
     "output_type": "stream",
     "text": [
      "C:\\Users\\Satpum\\AppData\\Local\\anaconda3\\Lib\\site-packages\\urllib3\\connectionpool.py:1056: InsecureRequestWarning: Unverified HTTPS request is being made to host 'omcs-global-customer-persister-ge4.omcs-nonprod.r1.pks.dell.com'. Adding certificate verification is strongly advised. See: https://urllib3.readthedocs.io/en/1.26.x/advanced-usage.html#ssl-warnings\n",
      "  warnings.warn(\n"
     ]
    },
    {
     "name": "stdout",
     "output_type": "stream",
     "text": [
      "<class 'str'>\n",
      "null7040000446678\n",
      "7040000446675\n",
      "https://omcs-global-customer-persister-ge4.omcs-nonprod.r1.pks.dell.com/omcs-global-customer-persister/v1/Dashboard/GetTransformData?dpid=7040000446675\n"
     ]
    },
    {
     "name": "stderr",
     "output_type": "stream",
     "text": [
      "C:\\Users\\Satpum\\AppData\\Local\\anaconda3\\Lib\\site-packages\\urllib3\\connectionpool.py:1056: InsecureRequestWarning: Unverified HTTPS request is being made to host 'omcs-global-customer-persister-ge4.omcs-nonprod.r1.pks.dell.com'. Adding certificate verification is strongly advised. See: https://urllib3.readthedocs.io/en/1.26.x/advanced-usage.html#ssl-warnings\n",
      "  warnings.warn(\n"
     ]
    },
    {
     "name": "stdout",
     "output_type": "stream",
     "text": [
      "<class 'str'>\n",
      "null7040000446675\n",
      "7040000446673\n",
      "https://omcs-global-customer-persister-ge4.omcs-nonprod.r1.pks.dell.com/omcs-global-customer-persister/v1/Dashboard/GetTransformData?dpid=7040000446673\n"
     ]
    },
    {
     "name": "stderr",
     "output_type": "stream",
     "text": [
      "C:\\Users\\Satpum\\AppData\\Local\\anaconda3\\Lib\\site-packages\\urllib3\\connectionpool.py:1056: InsecureRequestWarning: Unverified HTTPS request is being made to host 'omcs-global-customer-persister-ge4.omcs-nonprod.r1.pks.dell.com'. Adding certificate verification is strongly advised. See: https://urllib3.readthedocs.io/en/1.26.x/advanced-usage.html#ssl-warnings\n",
      "  warnings.warn(\n"
     ]
    },
    {
     "name": "stdout",
     "output_type": "stream",
     "text": [
      "<class 'str'>\n",
      "null7040000446673\n",
      "7040000446670\n",
      "https://omcs-global-customer-persister-ge4.omcs-nonprod.r1.pks.dell.com/omcs-global-customer-persister/v1/Dashboard/GetTransformData?dpid=7040000446670\n"
     ]
    },
    {
     "name": "stderr",
     "output_type": "stream",
     "text": [
      "C:\\Users\\Satpum\\AppData\\Local\\anaconda3\\Lib\\site-packages\\urllib3\\connectionpool.py:1056: InsecureRequestWarning: Unverified HTTPS request is being made to host 'omcs-global-customer-persister-ge4.omcs-nonprod.r1.pks.dell.com'. Adding certificate verification is strongly advised. See: https://urllib3.readthedocs.io/en/1.26.x/advanced-usage.html#ssl-warnings\n",
      "  warnings.warn(\n"
     ]
    },
    {
     "name": "stdout",
     "output_type": "stream",
     "text": [
      "<class 'str'>\n",
      "null7040000446670\n",
      "7040000446666\n",
      "https://omcs-global-customer-persister-ge4.omcs-nonprod.r1.pks.dell.com/omcs-global-customer-persister/v1/Dashboard/GetTransformData?dpid=7040000446666\n"
     ]
    },
    {
     "name": "stderr",
     "output_type": "stream",
     "text": [
      "C:\\Users\\Satpum\\AppData\\Local\\anaconda3\\Lib\\site-packages\\urllib3\\connectionpool.py:1056: InsecureRequestWarning: Unverified HTTPS request is being made to host 'omcs-global-customer-persister-ge4.omcs-nonprod.r1.pks.dell.com'. Adding certificate verification is strongly advised. See: https://urllib3.readthedocs.io/en/1.26.x/advanced-usage.html#ssl-warnings\n",
      "  warnings.warn(\n"
     ]
    },
    {
     "name": "stdout",
     "output_type": "stream",
     "text": [
      "<class 'str'>\n",
      "null7040000446666\n",
      "7040000446664\n",
      "https://omcs-global-customer-persister-ge4.omcs-nonprod.r1.pks.dell.com/omcs-global-customer-persister/v1/Dashboard/GetTransformData?dpid=7040000446664\n"
     ]
    },
    {
     "name": "stderr",
     "output_type": "stream",
     "text": [
      "C:\\Users\\Satpum\\AppData\\Local\\anaconda3\\Lib\\site-packages\\urllib3\\connectionpool.py:1056: InsecureRequestWarning: Unverified HTTPS request is being made to host 'omcs-global-customer-persister-ge4.omcs-nonprod.r1.pks.dell.com'. Adding certificate verification is strongly advised. See: https://urllib3.readthedocs.io/en/1.26.x/advanced-usage.html#ssl-warnings\n",
      "  warnings.warn(\n"
     ]
    },
    {
     "name": "stdout",
     "output_type": "stream",
     "text": [
      "<class 'str'>\n",
      "null7040000446664\n",
      "7040000446660\n",
      "https://omcs-global-customer-persister-ge4.omcs-nonprod.r1.pks.dell.com/omcs-global-customer-persister/v1/Dashboard/GetTransformData?dpid=7040000446660\n"
     ]
    },
    {
     "name": "stderr",
     "output_type": "stream",
     "text": [
      "C:\\Users\\Satpum\\AppData\\Local\\anaconda3\\Lib\\site-packages\\urllib3\\connectionpool.py:1056: InsecureRequestWarning: Unverified HTTPS request is being made to host 'omcs-global-customer-persister-ge4.omcs-nonprod.r1.pks.dell.com'. Adding certificate verification is strongly advised. See: https://urllib3.readthedocs.io/en/1.26.x/advanced-usage.html#ssl-warnings\n",
      "  warnings.warn(\n"
     ]
    },
    {
     "name": "stdout",
     "output_type": "stream",
     "text": [
      "<class 'str'>\n",
      "null7040000446660\n",
      "7040000446653\n",
      "https://omcs-global-customer-persister-ge4.omcs-nonprod.r1.pks.dell.com/omcs-global-customer-persister/v1/Dashboard/GetTransformData?dpid=7040000446653\n"
     ]
    },
    {
     "name": "stderr",
     "output_type": "stream",
     "text": [
      "C:\\Users\\Satpum\\AppData\\Local\\anaconda3\\Lib\\site-packages\\urllib3\\connectionpool.py:1056: InsecureRequestWarning: Unverified HTTPS request is being made to host 'omcs-global-customer-persister-ge4.omcs-nonprod.r1.pks.dell.com'. Adding certificate verification is strongly advised. See: https://urllib3.readthedocs.io/en/1.26.x/advanced-usage.html#ssl-warnings\n",
      "  warnings.warn(\n"
     ]
    },
    {
     "name": "stdout",
     "output_type": "stream",
     "text": [
      "<class 'str'>\n",
      "null7040000446653\n",
      "7040000446649\n",
      "https://omcs-global-customer-persister-ge4.omcs-nonprod.r1.pks.dell.com/omcs-global-customer-persister/v1/Dashboard/GetTransformData?dpid=7040000446649\n"
     ]
    },
    {
     "name": "stderr",
     "output_type": "stream",
     "text": [
      "C:\\Users\\Satpum\\AppData\\Local\\anaconda3\\Lib\\site-packages\\urllib3\\connectionpool.py:1056: InsecureRequestWarning: Unverified HTTPS request is being made to host 'omcs-global-customer-persister-ge4.omcs-nonprod.r1.pks.dell.com'. Adding certificate verification is strongly advised. See: https://urllib3.readthedocs.io/en/1.26.x/advanced-usage.html#ssl-warnings\n",
      "  warnings.warn(\n"
     ]
    },
    {
     "name": "stdout",
     "output_type": "stream",
     "text": [
      "<class 'str'>\n",
      "null7040000446649\n",
      "7040000446645\n",
      "https://omcs-global-customer-persister-ge4.omcs-nonprod.r1.pks.dell.com/omcs-global-customer-persister/v1/Dashboard/GetTransformData?dpid=7040000446645\n"
     ]
    },
    {
     "name": "stderr",
     "output_type": "stream",
     "text": [
      "C:\\Users\\Satpum\\AppData\\Local\\anaconda3\\Lib\\site-packages\\urllib3\\connectionpool.py:1056: InsecureRequestWarning: Unverified HTTPS request is being made to host 'omcs-global-customer-persister-ge4.omcs-nonprod.r1.pks.dell.com'. Adding certificate verification is strongly advised. See: https://urllib3.readthedocs.io/en/1.26.x/advanced-usage.html#ssl-warnings\n",
      "  warnings.warn(\n"
     ]
    },
    {
     "name": "stdout",
     "output_type": "stream",
     "text": [
      "<class 'str'>\n",
      "null7040000446645\n",
      "7040000446641\n",
      "https://omcs-global-customer-persister-ge4.omcs-nonprod.r1.pks.dell.com/omcs-global-customer-persister/v1/Dashboard/GetTransformData?dpid=7040000446641\n"
     ]
    },
    {
     "name": "stderr",
     "output_type": "stream",
     "text": [
      "C:\\Users\\Satpum\\AppData\\Local\\anaconda3\\Lib\\site-packages\\urllib3\\connectionpool.py:1056: InsecureRequestWarning: Unverified HTTPS request is being made to host 'omcs-global-customer-persister-ge4.omcs-nonprod.r1.pks.dell.com'. Adding certificate verification is strongly advised. See: https://urllib3.readthedocs.io/en/1.26.x/advanced-usage.html#ssl-warnings\n",
      "  warnings.warn(\n"
     ]
    },
    {
     "name": "stdout",
     "output_type": "stream",
     "text": [
      "<class 'str'>\n",
      "null7040000446641\n",
      "7040000446639\n",
      "https://omcs-global-customer-persister-ge4.omcs-nonprod.r1.pks.dell.com/omcs-global-customer-persister/v1/Dashboard/GetTransformData?dpid=7040000446639\n"
     ]
    },
    {
     "name": "stderr",
     "output_type": "stream",
     "text": [
      "C:\\Users\\Satpum\\AppData\\Local\\anaconda3\\Lib\\site-packages\\urllib3\\connectionpool.py:1056: InsecureRequestWarning: Unverified HTTPS request is being made to host 'omcs-global-customer-persister-ge4.omcs-nonprod.r1.pks.dell.com'. Adding certificate verification is strongly advised. See: https://urllib3.readthedocs.io/en/1.26.x/advanced-usage.html#ssl-warnings\n",
      "  warnings.warn(\n"
     ]
    },
    {
     "name": "stdout",
     "output_type": "stream",
     "text": [
      "<class 'str'>\n",
      "null7040000446639\n",
      "7040000446636\n",
      "https://omcs-global-customer-persister-ge4.omcs-nonprod.r1.pks.dell.com/omcs-global-customer-persister/v1/Dashboard/GetTransformData?dpid=7040000446636\n"
     ]
    },
    {
     "name": "stderr",
     "output_type": "stream",
     "text": [
      "C:\\Users\\Satpum\\AppData\\Local\\anaconda3\\Lib\\site-packages\\urllib3\\connectionpool.py:1056: InsecureRequestWarning: Unverified HTTPS request is being made to host 'omcs-global-customer-persister-ge4.omcs-nonprod.r1.pks.dell.com'. Adding certificate verification is strongly advised. See: https://urllib3.readthedocs.io/en/1.26.x/advanced-usage.html#ssl-warnings\n",
      "  warnings.warn(\n"
     ]
    },
    {
     "name": "stdout",
     "output_type": "stream",
     "text": [
      "<class 'str'>\n",
      "null7040000446636\n",
      "7040000446633\n",
      "https://omcs-global-customer-persister-ge4.omcs-nonprod.r1.pks.dell.com/omcs-global-customer-persister/v1/Dashboard/GetTransformData?dpid=7040000446633\n"
     ]
    },
    {
     "name": "stderr",
     "output_type": "stream",
     "text": [
      "C:\\Users\\Satpum\\AppData\\Local\\anaconda3\\Lib\\site-packages\\urllib3\\connectionpool.py:1056: InsecureRequestWarning: Unverified HTTPS request is being made to host 'omcs-global-customer-persister-ge4.omcs-nonprod.r1.pks.dell.com'. Adding certificate verification is strongly advised. See: https://urllib3.readthedocs.io/en/1.26.x/advanced-usage.html#ssl-warnings\n",
      "  warnings.warn(\n"
     ]
    },
    {
     "name": "stdout",
     "output_type": "stream",
     "text": [
      "<class 'str'>\n",
      "null7040000446633\n",
      "7040000446629\n",
      "https://omcs-global-customer-persister-ge4.omcs-nonprod.r1.pks.dell.com/omcs-global-customer-persister/v1/Dashboard/GetTransformData?dpid=7040000446629\n"
     ]
    },
    {
     "name": "stderr",
     "output_type": "stream",
     "text": [
      "C:\\Users\\Satpum\\AppData\\Local\\anaconda3\\Lib\\site-packages\\urllib3\\connectionpool.py:1056: InsecureRequestWarning: Unverified HTTPS request is being made to host 'omcs-global-customer-persister-ge4.omcs-nonprod.r1.pks.dell.com'. Adding certificate verification is strongly advised. See: https://urllib3.readthedocs.io/en/1.26.x/advanced-usage.html#ssl-warnings\n",
      "  warnings.warn(\n"
     ]
    },
    {
     "name": "stdout",
     "output_type": "stream",
     "text": [
      "<class 'str'>\n",
      "null7040000446629\n",
      "7040000446627\n",
      "https://omcs-global-customer-persister-ge4.omcs-nonprod.r1.pks.dell.com/omcs-global-customer-persister/v1/Dashboard/GetTransformData?dpid=7040000446627\n"
     ]
    },
    {
     "name": "stderr",
     "output_type": "stream",
     "text": [
      "C:\\Users\\Satpum\\AppData\\Local\\anaconda3\\Lib\\site-packages\\urllib3\\connectionpool.py:1056: InsecureRequestWarning: Unverified HTTPS request is being made to host 'omcs-global-customer-persister-ge4.omcs-nonprod.r1.pks.dell.com'. Adding certificate verification is strongly advised. See: https://urllib3.readthedocs.io/en/1.26.x/advanced-usage.html#ssl-warnings\n",
      "  warnings.warn(\n"
     ]
    },
    {
     "name": "stdout",
     "output_type": "stream",
     "text": [
      "<class 'str'>\n",
      "null7040000446627\n",
      "7040000446591\n",
      "https://omcs-global-customer-persister-ge4.omcs-nonprod.r1.pks.dell.com/omcs-global-customer-persister/v1/Dashboard/GetTransformData?dpid=7040000446591\n"
     ]
    },
    {
     "name": "stderr",
     "output_type": "stream",
     "text": [
      "C:\\Users\\Satpum\\AppData\\Local\\anaconda3\\Lib\\site-packages\\urllib3\\connectionpool.py:1056: InsecureRequestWarning: Unverified HTTPS request is being made to host 'omcs-global-customer-persister-ge4.omcs-nonprod.r1.pks.dell.com'. Adding certificate verification is strongly advised. See: https://urllib3.readthedocs.io/en/1.26.x/advanced-usage.html#ssl-warnings\n",
      "  warnings.warn(\n"
     ]
    },
    {
     "name": "stdout",
     "output_type": "stream",
     "text": [
      "<class 'str'>\n",
      "null7040000446591\n",
      "7040000446589\n",
      "https://omcs-global-customer-persister-ge4.omcs-nonprod.r1.pks.dell.com/omcs-global-customer-persister/v1/Dashboard/GetTransformData?dpid=7040000446589\n"
     ]
    },
    {
     "name": "stderr",
     "output_type": "stream",
     "text": [
      "C:\\Users\\Satpum\\AppData\\Local\\anaconda3\\Lib\\site-packages\\urllib3\\connectionpool.py:1056: InsecureRequestWarning: Unverified HTTPS request is being made to host 'omcs-global-customer-persister-ge4.omcs-nonprod.r1.pks.dell.com'. Adding certificate verification is strongly advised. See: https://urllib3.readthedocs.io/en/1.26.x/advanced-usage.html#ssl-warnings\n",
      "  warnings.warn(\n"
     ]
    },
    {
     "name": "stdout",
     "output_type": "stream",
     "text": [
      "<class 'str'>\n",
      "null7040000446589\n",
      "7040000446588\n",
      "https://omcs-global-customer-persister-ge4.omcs-nonprod.r1.pks.dell.com/omcs-global-customer-persister/v1/Dashboard/GetTransformData?dpid=7040000446588\n"
     ]
    },
    {
     "name": "stderr",
     "output_type": "stream",
     "text": [
      "C:\\Users\\Satpum\\AppData\\Local\\anaconda3\\Lib\\site-packages\\urllib3\\connectionpool.py:1056: InsecureRequestWarning: Unverified HTTPS request is being made to host 'omcs-global-customer-persister-ge4.omcs-nonprod.r1.pks.dell.com'. Adding certificate verification is strongly advised. See: https://urllib3.readthedocs.io/en/1.26.x/advanced-usage.html#ssl-warnings\n",
      "  warnings.warn(\n"
     ]
    },
    {
     "name": "stdout",
     "output_type": "stream",
     "text": [
      "<class 'str'>\n",
      "null7040000446588\n",
      "7040000446586\n",
      "https://omcs-global-customer-persister-ge4.omcs-nonprod.r1.pks.dell.com/omcs-global-customer-persister/v1/Dashboard/GetTransformData?dpid=7040000446586\n"
     ]
    },
    {
     "name": "stderr",
     "output_type": "stream",
     "text": [
      "C:\\Users\\Satpum\\AppData\\Local\\anaconda3\\Lib\\site-packages\\urllib3\\connectionpool.py:1056: InsecureRequestWarning: Unverified HTTPS request is being made to host 'omcs-global-customer-persister-ge4.omcs-nonprod.r1.pks.dell.com'. Adding certificate verification is strongly advised. See: https://urllib3.readthedocs.io/en/1.26.x/advanced-usage.html#ssl-warnings\n",
      "  warnings.warn(\n"
     ]
    },
    {
     "name": "stdout",
     "output_type": "stream",
     "text": [
      "<class 'str'>\n",
      "not null\n",
      "7040000446582\n",
      "https://omcs-global-customer-persister-ge4.omcs-nonprod.r1.pks.dell.com/omcs-global-customer-persister/v1/Dashboard/GetTransformData?dpid=7040000446582\n"
     ]
    },
    {
     "name": "stderr",
     "output_type": "stream",
     "text": [
      "C:\\Users\\Satpum\\AppData\\Local\\anaconda3\\Lib\\site-packages\\urllib3\\connectionpool.py:1056: InsecureRequestWarning: Unverified HTTPS request is being made to host 'omcs-global-customer-persister-ge4.omcs-nonprod.r1.pks.dell.com'. Adding certificate verification is strongly advised. See: https://urllib3.readthedocs.io/en/1.26.x/advanced-usage.html#ssl-warnings\n",
      "  warnings.warn(\n"
     ]
    },
    {
     "name": "stdout",
     "output_type": "stream",
     "text": [
      "<class 'str'>\n",
      "null7040000446582\n",
      "7040000446577\n",
      "https://omcs-global-customer-persister-ge4.omcs-nonprod.r1.pks.dell.com/omcs-global-customer-persister/v1/Dashboard/GetTransformData?dpid=7040000446577\n"
     ]
    },
    {
     "name": "stderr",
     "output_type": "stream",
     "text": [
      "C:\\Users\\Satpum\\AppData\\Local\\anaconda3\\Lib\\site-packages\\urllib3\\connectionpool.py:1056: InsecureRequestWarning: Unverified HTTPS request is being made to host 'omcs-global-customer-persister-ge4.omcs-nonprod.r1.pks.dell.com'. Adding certificate verification is strongly advised. See: https://urllib3.readthedocs.io/en/1.26.x/advanced-usage.html#ssl-warnings\n",
      "  warnings.warn(\n"
     ]
    },
    {
     "name": "stdout",
     "output_type": "stream",
     "text": [
      "<class 'str'>\n",
      "not null\n",
      "7040000446573\n",
      "https://omcs-global-customer-persister-ge4.omcs-nonprod.r1.pks.dell.com/omcs-global-customer-persister/v1/Dashboard/GetTransformData?dpid=7040000446573\n"
     ]
    },
    {
     "name": "stderr",
     "output_type": "stream",
     "text": [
      "C:\\Users\\Satpum\\AppData\\Local\\anaconda3\\Lib\\site-packages\\urllib3\\connectionpool.py:1056: InsecureRequestWarning: Unverified HTTPS request is being made to host 'omcs-global-customer-persister-ge4.omcs-nonprod.r1.pks.dell.com'. Adding certificate verification is strongly advised. See: https://urllib3.readthedocs.io/en/1.26.x/advanced-usage.html#ssl-warnings\n",
      "  warnings.warn(\n"
     ]
    },
    {
     "name": "stdout",
     "output_type": "stream",
     "text": [
      "<class 'str'>\n",
      "null7040000446573\n",
      "7040000446566\n",
      "https://omcs-global-customer-persister-ge4.omcs-nonprod.r1.pks.dell.com/omcs-global-customer-persister/v1/Dashboard/GetTransformData?dpid=7040000446566\n"
     ]
    },
    {
     "name": "stderr",
     "output_type": "stream",
     "text": [
      "C:\\Users\\Satpum\\AppData\\Local\\anaconda3\\Lib\\site-packages\\urllib3\\connectionpool.py:1056: InsecureRequestWarning: Unverified HTTPS request is being made to host 'omcs-global-customer-persister-ge4.omcs-nonprod.r1.pks.dell.com'. Adding certificate verification is strongly advised. See: https://urllib3.readthedocs.io/en/1.26.x/advanced-usage.html#ssl-warnings\n",
      "  warnings.warn(\n"
     ]
    },
    {
     "name": "stdout",
     "output_type": "stream",
     "text": [
      "<class 'str'>\n",
      "null7040000446566\n",
      "7040000446528\n",
      "https://omcs-global-customer-persister-ge4.omcs-nonprod.r1.pks.dell.com/omcs-global-customer-persister/v1/Dashboard/GetTransformData?dpid=7040000446528\n"
     ]
    },
    {
     "name": "stderr",
     "output_type": "stream",
     "text": [
      "C:\\Users\\Satpum\\AppData\\Local\\anaconda3\\Lib\\site-packages\\urllib3\\connectionpool.py:1056: InsecureRequestWarning: Unverified HTTPS request is being made to host 'omcs-global-customer-persister-ge4.omcs-nonprod.r1.pks.dell.com'. Adding certificate verification is strongly advised. See: https://urllib3.readthedocs.io/en/1.26.x/advanced-usage.html#ssl-warnings\n",
      "  warnings.warn(\n"
     ]
    },
    {
     "name": "stdout",
     "output_type": "stream",
     "text": [
      "<class 'str'>\n",
      "not null\n",
      "7040000446527\n",
      "https://omcs-global-customer-persister-ge4.omcs-nonprod.r1.pks.dell.com/omcs-global-customer-persister/v1/Dashboard/GetTransformData?dpid=7040000446527\n"
     ]
    },
    {
     "name": "stderr",
     "output_type": "stream",
     "text": [
      "C:\\Users\\Satpum\\AppData\\Local\\anaconda3\\Lib\\site-packages\\urllib3\\connectionpool.py:1056: InsecureRequestWarning: Unverified HTTPS request is being made to host 'omcs-global-customer-persister-ge4.omcs-nonprod.r1.pks.dell.com'. Adding certificate verification is strongly advised. See: https://urllib3.readthedocs.io/en/1.26.x/advanced-usage.html#ssl-warnings\n",
      "  warnings.warn(\n"
     ]
    },
    {
     "name": "stdout",
     "output_type": "stream",
     "text": [
      "<class 'str'>\n",
      "null7040000446527\n",
      "7040000446526\n",
      "https://omcs-global-customer-persister-ge4.omcs-nonprod.r1.pks.dell.com/omcs-global-customer-persister/v1/Dashboard/GetTransformData?dpid=7040000446526\n"
     ]
    },
    {
     "name": "stderr",
     "output_type": "stream",
     "text": [
      "C:\\Users\\Satpum\\AppData\\Local\\anaconda3\\Lib\\site-packages\\urllib3\\connectionpool.py:1056: InsecureRequestWarning: Unverified HTTPS request is being made to host 'omcs-global-customer-persister-ge4.omcs-nonprod.r1.pks.dell.com'. Adding certificate verification is strongly advised. See: https://urllib3.readthedocs.io/en/1.26.x/advanced-usage.html#ssl-warnings\n",
      "  warnings.warn(\n"
     ]
    },
    {
     "name": "stdout",
     "output_type": "stream",
     "text": [
      "<class 'str'>\n",
      "null7040000446526\n",
      "7040000446524\n",
      "https://omcs-global-customer-persister-ge4.omcs-nonprod.r1.pks.dell.com/omcs-global-customer-persister/v1/Dashboard/GetTransformData?dpid=7040000446524\n"
     ]
    },
    {
     "name": "stderr",
     "output_type": "stream",
     "text": [
      "C:\\Users\\Satpum\\AppData\\Local\\anaconda3\\Lib\\site-packages\\urllib3\\connectionpool.py:1056: InsecureRequestWarning: Unverified HTTPS request is being made to host 'omcs-global-customer-persister-ge4.omcs-nonprod.r1.pks.dell.com'. Adding certificate verification is strongly advised. See: https://urllib3.readthedocs.io/en/1.26.x/advanced-usage.html#ssl-warnings\n",
      "  warnings.warn(\n"
     ]
    },
    {
     "name": "stdout",
     "output_type": "stream",
     "text": [
      "<class 'str'>\n",
      "not null\n",
      "7040000446523\n",
      "https://omcs-global-customer-persister-ge4.omcs-nonprod.r1.pks.dell.com/omcs-global-customer-persister/v1/Dashboard/GetTransformData?dpid=7040000446523\n"
     ]
    },
    {
     "name": "stderr",
     "output_type": "stream",
     "text": [
      "C:\\Users\\Satpum\\AppData\\Local\\anaconda3\\Lib\\site-packages\\urllib3\\connectionpool.py:1056: InsecureRequestWarning: Unverified HTTPS request is being made to host 'omcs-global-customer-persister-ge4.omcs-nonprod.r1.pks.dell.com'. Adding certificate verification is strongly advised. See: https://urllib3.readthedocs.io/en/1.26.x/advanced-usage.html#ssl-warnings\n",
      "  warnings.warn(\n"
     ]
    },
    {
     "name": "stdout",
     "output_type": "stream",
     "text": [
      "<class 'str'>\n",
      "null7040000446523\n",
      "7040000446522\n",
      "https://omcs-global-customer-persister-ge4.omcs-nonprod.r1.pks.dell.com/omcs-global-customer-persister/v1/Dashboard/GetTransformData?dpid=7040000446522\n"
     ]
    },
    {
     "name": "stderr",
     "output_type": "stream",
     "text": [
      "C:\\Users\\Satpum\\AppData\\Local\\anaconda3\\Lib\\site-packages\\urllib3\\connectionpool.py:1056: InsecureRequestWarning: Unverified HTTPS request is being made to host 'omcs-global-customer-persister-ge4.omcs-nonprod.r1.pks.dell.com'. Adding certificate verification is strongly advised. See: https://urllib3.readthedocs.io/en/1.26.x/advanced-usage.html#ssl-warnings\n",
      "  warnings.warn(\n"
     ]
    },
    {
     "name": "stdout",
     "output_type": "stream",
     "text": [
      "<class 'str'>\n",
      "not null\n",
      "7040000446521\n",
      "https://omcs-global-customer-persister-ge4.omcs-nonprod.r1.pks.dell.com/omcs-global-customer-persister/v1/Dashboard/GetTransformData?dpid=7040000446521\n"
     ]
    },
    {
     "name": "stderr",
     "output_type": "stream",
     "text": [
      "C:\\Users\\Satpum\\AppData\\Local\\anaconda3\\Lib\\site-packages\\urllib3\\connectionpool.py:1056: InsecureRequestWarning: Unverified HTTPS request is being made to host 'omcs-global-customer-persister-ge4.omcs-nonprod.r1.pks.dell.com'. Adding certificate verification is strongly advised. See: https://urllib3.readthedocs.io/en/1.26.x/advanced-usage.html#ssl-warnings\n",
      "  warnings.warn(\n"
     ]
    },
    {
     "name": "stdout",
     "output_type": "stream",
     "text": [
      "<class 'str'>\n",
      "null7040000446521\n",
      "7040000446520\n",
      "https://omcs-global-customer-persister-ge4.omcs-nonprod.r1.pks.dell.com/omcs-global-customer-persister/v1/Dashboard/GetTransformData?dpid=7040000446520\n"
     ]
    },
    {
     "name": "stderr",
     "output_type": "stream",
     "text": [
      "C:\\Users\\Satpum\\AppData\\Local\\anaconda3\\Lib\\site-packages\\urllib3\\connectionpool.py:1056: InsecureRequestWarning: Unverified HTTPS request is being made to host 'omcs-global-customer-persister-ge4.omcs-nonprod.r1.pks.dell.com'. Adding certificate verification is strongly advised. See: https://urllib3.readthedocs.io/en/1.26.x/advanced-usage.html#ssl-warnings\n",
      "  warnings.warn(\n"
     ]
    },
    {
     "name": "stdout",
     "output_type": "stream",
     "text": [
      "<class 'str'>\n",
      "null7040000446520\n",
      "7040000446519\n",
      "https://omcs-global-customer-persister-ge4.omcs-nonprod.r1.pks.dell.com/omcs-global-customer-persister/v1/Dashboard/GetTransformData?dpid=7040000446519\n"
     ]
    },
    {
     "name": "stderr",
     "output_type": "stream",
     "text": [
      "C:\\Users\\Satpum\\AppData\\Local\\anaconda3\\Lib\\site-packages\\urllib3\\connectionpool.py:1056: InsecureRequestWarning: Unverified HTTPS request is being made to host 'omcs-global-customer-persister-ge4.omcs-nonprod.r1.pks.dell.com'. Adding certificate verification is strongly advised. See: https://urllib3.readthedocs.io/en/1.26.x/advanced-usage.html#ssl-warnings\n",
      "  warnings.warn(\n"
     ]
    },
    {
     "name": "stdout",
     "output_type": "stream",
     "text": [
      "<class 'str'>\n",
      "not null\n",
      "7040000446518\n",
      "https://omcs-global-customer-persister-ge4.omcs-nonprod.r1.pks.dell.com/omcs-global-customer-persister/v1/Dashboard/GetTransformData?dpid=7040000446518\n"
     ]
    },
    {
     "name": "stderr",
     "output_type": "stream",
     "text": [
      "C:\\Users\\Satpum\\AppData\\Local\\anaconda3\\Lib\\site-packages\\urllib3\\connectionpool.py:1056: InsecureRequestWarning: Unverified HTTPS request is being made to host 'omcs-global-customer-persister-ge4.omcs-nonprod.r1.pks.dell.com'. Adding certificate verification is strongly advised. See: https://urllib3.readthedocs.io/en/1.26.x/advanced-usage.html#ssl-warnings\n",
      "  warnings.warn(\n"
     ]
    },
    {
     "name": "stdout",
     "output_type": "stream",
     "text": [
      "<class 'str'>\n",
      "null7040000446518\n",
      "7040000446517\n",
      "https://omcs-global-customer-persister-ge4.omcs-nonprod.r1.pks.dell.com/omcs-global-customer-persister/v1/Dashboard/GetTransformData?dpid=7040000446517\n"
     ]
    },
    {
     "name": "stderr",
     "output_type": "stream",
     "text": [
      "C:\\Users\\Satpum\\AppData\\Local\\anaconda3\\Lib\\site-packages\\urllib3\\connectionpool.py:1056: InsecureRequestWarning: Unverified HTTPS request is being made to host 'omcs-global-customer-persister-ge4.omcs-nonprod.r1.pks.dell.com'. Adding certificate verification is strongly advised. See: https://urllib3.readthedocs.io/en/1.26.x/advanced-usage.html#ssl-warnings\n",
      "  warnings.warn(\n"
     ]
    },
    {
     "name": "stdout",
     "output_type": "stream",
     "text": [
      "<class 'str'>\n",
      "null7040000446517\n",
      "7040000446516\n",
      "https://omcs-global-customer-persister-ge4.omcs-nonprod.r1.pks.dell.com/omcs-global-customer-persister/v1/Dashboard/GetTransformData?dpid=7040000446516\n"
     ]
    },
    {
     "name": "stderr",
     "output_type": "stream",
     "text": [
      "C:\\Users\\Satpum\\AppData\\Local\\anaconda3\\Lib\\site-packages\\urllib3\\connectionpool.py:1056: InsecureRequestWarning: Unverified HTTPS request is being made to host 'omcs-global-customer-persister-ge4.omcs-nonprod.r1.pks.dell.com'. Adding certificate verification is strongly advised. See: https://urllib3.readthedocs.io/en/1.26.x/advanced-usage.html#ssl-warnings\n",
      "  warnings.warn(\n"
     ]
    },
    {
     "name": "stdout",
     "output_type": "stream",
     "text": [
      "<class 'str'>\n",
      "null7040000446516\n",
      "7040000446515\n",
      "https://omcs-global-customer-persister-ge4.omcs-nonprod.r1.pks.dell.com/omcs-global-customer-persister/v1/Dashboard/GetTransformData?dpid=7040000446515\n"
     ]
    },
    {
     "name": "stderr",
     "output_type": "stream",
     "text": [
      "C:\\Users\\Satpum\\AppData\\Local\\anaconda3\\Lib\\site-packages\\urllib3\\connectionpool.py:1056: InsecureRequestWarning: Unverified HTTPS request is being made to host 'omcs-global-customer-persister-ge4.omcs-nonprod.r1.pks.dell.com'. Adding certificate verification is strongly advised. See: https://urllib3.readthedocs.io/en/1.26.x/advanced-usage.html#ssl-warnings\n",
      "  warnings.warn(\n"
     ]
    },
    {
     "name": "stdout",
     "output_type": "stream",
     "text": [
      "<class 'str'>\n",
      "null7040000446515\n",
      "7040000446513\n",
      "https://omcs-global-customer-persister-ge4.omcs-nonprod.r1.pks.dell.com/omcs-global-customer-persister/v1/Dashboard/GetTransformData?dpid=7040000446513\n"
     ]
    },
    {
     "name": "stderr",
     "output_type": "stream",
     "text": [
      "C:\\Users\\Satpum\\AppData\\Local\\anaconda3\\Lib\\site-packages\\urllib3\\connectionpool.py:1056: InsecureRequestWarning: Unverified HTTPS request is being made to host 'omcs-global-customer-persister-ge4.omcs-nonprod.r1.pks.dell.com'. Adding certificate verification is strongly advised. See: https://urllib3.readthedocs.io/en/1.26.x/advanced-usage.html#ssl-warnings\n",
      "  warnings.warn(\n"
     ]
    },
    {
     "name": "stdout",
     "output_type": "stream",
     "text": [
      "<class 'str'>\n",
      "null7040000446513\n",
      "7040000446512\n",
      "https://omcs-global-customer-persister-ge4.omcs-nonprod.r1.pks.dell.com/omcs-global-customer-persister/v1/Dashboard/GetTransformData?dpid=7040000446512\n"
     ]
    },
    {
     "name": "stderr",
     "output_type": "stream",
     "text": [
      "C:\\Users\\Satpum\\AppData\\Local\\anaconda3\\Lib\\site-packages\\urllib3\\connectionpool.py:1056: InsecureRequestWarning: Unverified HTTPS request is being made to host 'omcs-global-customer-persister-ge4.omcs-nonprod.r1.pks.dell.com'. Adding certificate verification is strongly advised. See: https://urllib3.readthedocs.io/en/1.26.x/advanced-usage.html#ssl-warnings\n",
      "  warnings.warn(\n"
     ]
    },
    {
     "name": "stdout",
     "output_type": "stream",
     "text": [
      "<class 'str'>\n",
      "not null\n",
      "7040000446504\n",
      "https://omcs-global-customer-persister-ge4.omcs-nonprod.r1.pks.dell.com/omcs-global-customer-persister/v1/Dashboard/GetTransformData?dpid=7040000446504\n"
     ]
    },
    {
     "name": "stderr",
     "output_type": "stream",
     "text": [
      "C:\\Users\\Satpum\\AppData\\Local\\anaconda3\\Lib\\site-packages\\urllib3\\connectionpool.py:1056: InsecureRequestWarning: Unverified HTTPS request is being made to host 'omcs-global-customer-persister-ge4.omcs-nonprod.r1.pks.dell.com'. Adding certificate verification is strongly advised. See: https://urllib3.readthedocs.io/en/1.26.x/advanced-usage.html#ssl-warnings\n",
      "  warnings.warn(\n"
     ]
    },
    {
     "name": "stdout",
     "output_type": "stream",
     "text": [
      "<class 'str'>\n",
      "null7040000446504\n",
      "7040000446502\n",
      "https://omcs-global-customer-persister-ge4.omcs-nonprod.r1.pks.dell.com/omcs-global-customer-persister/v1/Dashboard/GetTransformData?dpid=7040000446502\n"
     ]
    },
    {
     "name": "stderr",
     "output_type": "stream",
     "text": [
      "C:\\Users\\Satpum\\AppData\\Local\\anaconda3\\Lib\\site-packages\\urllib3\\connectionpool.py:1056: InsecureRequestWarning: Unverified HTTPS request is being made to host 'omcs-global-customer-persister-ge4.omcs-nonprod.r1.pks.dell.com'. Adding certificate verification is strongly advised. See: https://urllib3.readthedocs.io/en/1.26.x/advanced-usage.html#ssl-warnings\n",
      "  warnings.warn(\n"
     ]
    },
    {
     "name": "stdout",
     "output_type": "stream",
     "text": [
      "<class 'str'>\n",
      "null7040000446502\n",
      "7040000446501\n",
      "https://omcs-global-customer-persister-ge4.omcs-nonprod.r1.pks.dell.com/omcs-global-customer-persister/v1/Dashboard/GetTransformData?dpid=7040000446501\n"
     ]
    },
    {
     "name": "stderr",
     "output_type": "stream",
     "text": [
      "C:\\Users\\Satpum\\AppData\\Local\\anaconda3\\Lib\\site-packages\\urllib3\\connectionpool.py:1056: InsecureRequestWarning: Unverified HTTPS request is being made to host 'omcs-global-customer-persister-ge4.omcs-nonprod.r1.pks.dell.com'. Adding certificate verification is strongly advised. See: https://urllib3.readthedocs.io/en/1.26.x/advanced-usage.html#ssl-warnings\n",
      "  warnings.warn(\n"
     ]
    },
    {
     "name": "stdout",
     "output_type": "stream",
     "text": [
      "<class 'str'>\n",
      "null7040000446501\n",
      "7040000446489\n",
      "https://omcs-global-customer-persister-ge4.omcs-nonprod.r1.pks.dell.com/omcs-global-customer-persister/v1/Dashboard/GetTransformData?dpid=7040000446489\n"
     ]
    },
    {
     "name": "stderr",
     "output_type": "stream",
     "text": [
      "C:\\Users\\Satpum\\AppData\\Local\\anaconda3\\Lib\\site-packages\\urllib3\\connectionpool.py:1056: InsecureRequestWarning: Unverified HTTPS request is being made to host 'omcs-global-customer-persister-ge4.omcs-nonprod.r1.pks.dell.com'. Adding certificate verification is strongly advised. See: https://urllib3.readthedocs.io/en/1.26.x/advanced-usage.html#ssl-warnings\n",
      "  warnings.warn(\n"
     ]
    },
    {
     "name": "stdout",
     "output_type": "stream",
     "text": [
      "<class 'str'>\n",
      "null7040000446489\n",
      "7040000446488\n",
      "https://omcs-global-customer-persister-ge4.omcs-nonprod.r1.pks.dell.com/omcs-global-customer-persister/v1/Dashboard/GetTransformData?dpid=7040000446488\n"
     ]
    },
    {
     "name": "stderr",
     "output_type": "stream",
     "text": [
      "C:\\Users\\Satpum\\AppData\\Local\\anaconda3\\Lib\\site-packages\\urllib3\\connectionpool.py:1056: InsecureRequestWarning: Unverified HTTPS request is being made to host 'omcs-global-customer-persister-ge4.omcs-nonprod.r1.pks.dell.com'. Adding certificate verification is strongly advised. See: https://urllib3.readthedocs.io/en/1.26.x/advanced-usage.html#ssl-warnings\n",
      "  warnings.warn(\n"
     ]
    },
    {
     "name": "stdout",
     "output_type": "stream",
     "text": [
      "<class 'str'>\n",
      "null7040000446488\n",
      "7040000446487\n",
      "https://omcs-global-customer-persister-ge4.omcs-nonprod.r1.pks.dell.com/omcs-global-customer-persister/v1/Dashboard/GetTransformData?dpid=7040000446487\n"
     ]
    },
    {
     "name": "stderr",
     "output_type": "stream",
     "text": [
      "C:\\Users\\Satpum\\AppData\\Local\\anaconda3\\Lib\\site-packages\\urllib3\\connectionpool.py:1056: InsecureRequestWarning: Unverified HTTPS request is being made to host 'omcs-global-customer-persister-ge4.omcs-nonprod.r1.pks.dell.com'. Adding certificate verification is strongly advised. See: https://urllib3.readthedocs.io/en/1.26.x/advanced-usage.html#ssl-warnings\n",
      "  warnings.warn(\n"
     ]
    },
    {
     "name": "stdout",
     "output_type": "stream",
     "text": [
      "<class 'str'>\n",
      "null7040000446487\n",
      "7040000446478\n",
      "https://omcs-global-customer-persister-ge4.omcs-nonprod.r1.pks.dell.com/omcs-global-customer-persister/v1/Dashboard/GetTransformData?dpid=7040000446478\n"
     ]
    },
    {
     "name": "stderr",
     "output_type": "stream",
     "text": [
      "C:\\Users\\Satpum\\AppData\\Local\\anaconda3\\Lib\\site-packages\\urllib3\\connectionpool.py:1056: InsecureRequestWarning: Unverified HTTPS request is being made to host 'omcs-global-customer-persister-ge4.omcs-nonprod.r1.pks.dell.com'. Adding certificate verification is strongly advised. See: https://urllib3.readthedocs.io/en/1.26.x/advanced-usage.html#ssl-warnings\n",
      "  warnings.warn(\n"
     ]
    },
    {
     "name": "stdout",
     "output_type": "stream",
     "text": [
      "<class 'str'>\n",
      "null7040000446478\n",
      "7040000446477\n",
      "https://omcs-global-customer-persister-ge4.omcs-nonprod.r1.pks.dell.com/omcs-global-customer-persister/v1/Dashboard/GetTransformData?dpid=7040000446477\n"
     ]
    },
    {
     "name": "stderr",
     "output_type": "stream",
     "text": [
      "C:\\Users\\Satpum\\AppData\\Local\\anaconda3\\Lib\\site-packages\\urllib3\\connectionpool.py:1056: InsecureRequestWarning: Unverified HTTPS request is being made to host 'omcs-global-customer-persister-ge4.omcs-nonprod.r1.pks.dell.com'. Adding certificate verification is strongly advised. See: https://urllib3.readthedocs.io/en/1.26.x/advanced-usage.html#ssl-warnings\n",
      "  warnings.warn(\n"
     ]
    },
    {
     "name": "stdout",
     "output_type": "stream",
     "text": [
      "<class 'str'>\n",
      "null7040000446477\n",
      "7040000446470\n",
      "https://omcs-global-customer-persister-ge4.omcs-nonprod.r1.pks.dell.com/omcs-global-customer-persister/v1/Dashboard/GetTransformData?dpid=7040000446470\n"
     ]
    },
    {
     "name": "stderr",
     "output_type": "stream",
     "text": [
      "C:\\Users\\Satpum\\AppData\\Local\\anaconda3\\Lib\\site-packages\\urllib3\\connectionpool.py:1056: InsecureRequestWarning: Unverified HTTPS request is being made to host 'omcs-global-customer-persister-ge4.omcs-nonprod.r1.pks.dell.com'. Adding certificate verification is strongly advised. See: https://urllib3.readthedocs.io/en/1.26.x/advanced-usage.html#ssl-warnings\n",
      "  warnings.warn(\n"
     ]
    },
    {
     "name": "stdout",
     "output_type": "stream",
     "text": [
      "<class 'str'>\n",
      "not null\n",
      "7040000446469\n",
      "https://omcs-global-customer-persister-ge4.omcs-nonprod.r1.pks.dell.com/omcs-global-customer-persister/v1/Dashboard/GetTransformData?dpid=7040000446469\n"
     ]
    },
    {
     "name": "stderr",
     "output_type": "stream",
     "text": [
      "C:\\Users\\Satpum\\AppData\\Local\\anaconda3\\Lib\\site-packages\\urllib3\\connectionpool.py:1056: InsecureRequestWarning: Unverified HTTPS request is being made to host 'omcs-global-customer-persister-ge4.omcs-nonprod.r1.pks.dell.com'. Adding certificate verification is strongly advised. See: https://urllib3.readthedocs.io/en/1.26.x/advanced-usage.html#ssl-warnings\n",
      "  warnings.warn(\n"
     ]
    },
    {
     "name": "stdout",
     "output_type": "stream",
     "text": [
      "<class 'str'>\n",
      "not null\n",
      "7040000446466\n",
      "https://omcs-global-customer-persister-ge4.omcs-nonprod.r1.pks.dell.com/omcs-global-customer-persister/v1/Dashboard/GetTransformData?dpid=7040000446466\n"
     ]
    },
    {
     "name": "stderr",
     "output_type": "stream",
     "text": [
      "C:\\Users\\Satpum\\AppData\\Local\\anaconda3\\Lib\\site-packages\\urllib3\\connectionpool.py:1056: InsecureRequestWarning: Unverified HTTPS request is being made to host 'omcs-global-customer-persister-ge4.omcs-nonprod.r1.pks.dell.com'. Adding certificate verification is strongly advised. See: https://urllib3.readthedocs.io/en/1.26.x/advanced-usage.html#ssl-warnings\n",
      "  warnings.warn(\n"
     ]
    },
    {
     "name": "stdout",
     "output_type": "stream",
     "text": [
      "<class 'str'>\n",
      "not null\n",
      "7040000446464\n",
      "https://omcs-global-customer-persister-ge4.omcs-nonprod.r1.pks.dell.com/omcs-global-customer-persister/v1/Dashboard/GetTransformData?dpid=7040000446464\n"
     ]
    },
    {
     "name": "stderr",
     "output_type": "stream",
     "text": [
      "C:\\Users\\Satpum\\AppData\\Local\\anaconda3\\Lib\\site-packages\\urllib3\\connectionpool.py:1056: InsecureRequestWarning: Unverified HTTPS request is being made to host 'omcs-global-customer-persister-ge4.omcs-nonprod.r1.pks.dell.com'. Adding certificate verification is strongly advised. See: https://urllib3.readthedocs.io/en/1.26.x/advanced-usage.html#ssl-warnings\n",
      "  warnings.warn(\n"
     ]
    },
    {
     "name": "stdout",
     "output_type": "stream",
     "text": [
      "<class 'str'>\n",
      "not null\n",
      "7040000446461\n",
      "https://omcs-global-customer-persister-ge4.omcs-nonprod.r1.pks.dell.com/omcs-global-customer-persister/v1/Dashboard/GetTransformData?dpid=7040000446461\n"
     ]
    },
    {
     "name": "stderr",
     "output_type": "stream",
     "text": [
      "C:\\Users\\Satpum\\AppData\\Local\\anaconda3\\Lib\\site-packages\\urllib3\\connectionpool.py:1056: InsecureRequestWarning: Unverified HTTPS request is being made to host 'omcs-global-customer-persister-ge4.omcs-nonprod.r1.pks.dell.com'. Adding certificate verification is strongly advised. See: https://urllib3.readthedocs.io/en/1.26.x/advanced-usage.html#ssl-warnings\n",
      "  warnings.warn(\n"
     ]
    },
    {
     "name": "stdout",
     "output_type": "stream",
     "text": [
      "<class 'str'>\n",
      "null7040000446461\n",
      "7040000446460\n",
      "https://omcs-global-customer-persister-ge4.omcs-nonprod.r1.pks.dell.com/omcs-global-customer-persister/v1/Dashboard/GetTransformData?dpid=7040000446460\n"
     ]
    },
    {
     "name": "stderr",
     "output_type": "stream",
     "text": [
      "C:\\Users\\Satpum\\AppData\\Local\\anaconda3\\Lib\\site-packages\\urllib3\\connectionpool.py:1056: InsecureRequestWarning: Unverified HTTPS request is being made to host 'omcs-global-customer-persister-ge4.omcs-nonprod.r1.pks.dell.com'. Adding certificate verification is strongly advised. See: https://urllib3.readthedocs.io/en/1.26.x/advanced-usage.html#ssl-warnings\n",
      "  warnings.warn(\n"
     ]
    },
    {
     "name": "stdout",
     "output_type": "stream",
     "text": [
      "<class 'str'>\n",
      "null7040000446460\n",
      "7040000446456\n",
      "https://omcs-global-customer-persister-ge4.omcs-nonprod.r1.pks.dell.com/omcs-global-customer-persister/v1/Dashboard/GetTransformData?dpid=7040000446456\n"
     ]
    },
    {
     "name": "stderr",
     "output_type": "stream",
     "text": [
      "C:\\Users\\Satpum\\AppData\\Local\\anaconda3\\Lib\\site-packages\\urllib3\\connectionpool.py:1056: InsecureRequestWarning: Unverified HTTPS request is being made to host 'omcs-global-customer-persister-ge4.omcs-nonprod.r1.pks.dell.com'. Adding certificate verification is strongly advised. See: https://urllib3.readthedocs.io/en/1.26.x/advanced-usage.html#ssl-warnings\n",
      "  warnings.warn(\n"
     ]
    },
    {
     "name": "stdout",
     "output_type": "stream",
     "text": [
      "<class 'str'>\n",
      "null7040000446456\n",
      "7040000446453\n",
      "https://omcs-global-customer-persister-ge4.omcs-nonprod.r1.pks.dell.com/omcs-global-customer-persister/v1/Dashboard/GetTransformData?dpid=7040000446453\n"
     ]
    },
    {
     "name": "stderr",
     "output_type": "stream",
     "text": [
      "C:\\Users\\Satpum\\AppData\\Local\\anaconda3\\Lib\\site-packages\\urllib3\\connectionpool.py:1056: InsecureRequestWarning: Unverified HTTPS request is being made to host 'omcs-global-customer-persister-ge4.omcs-nonprod.r1.pks.dell.com'. Adding certificate verification is strongly advised. See: https://urllib3.readthedocs.io/en/1.26.x/advanced-usage.html#ssl-warnings\n",
      "  warnings.warn(\n"
     ]
    },
    {
     "name": "stdout",
     "output_type": "stream",
     "text": [
      "<class 'str'>\n",
      "null7040000446453\n",
      "7040000446452\n",
      "https://omcs-global-customer-persister-ge4.omcs-nonprod.r1.pks.dell.com/omcs-global-customer-persister/v1/Dashboard/GetTransformData?dpid=7040000446452\n"
     ]
    },
    {
     "name": "stderr",
     "output_type": "stream",
     "text": [
      "C:\\Users\\Satpum\\AppData\\Local\\anaconda3\\Lib\\site-packages\\urllib3\\connectionpool.py:1056: InsecureRequestWarning: Unverified HTTPS request is being made to host 'omcs-global-customer-persister-ge4.omcs-nonprod.r1.pks.dell.com'. Adding certificate verification is strongly advised. See: https://urllib3.readthedocs.io/en/1.26.x/advanced-usage.html#ssl-warnings\n",
      "  warnings.warn(\n"
     ]
    },
    {
     "name": "stdout",
     "output_type": "stream",
     "text": [
      "<class 'str'>\n",
      "null7040000446452\n",
      "7040000446449\n",
      "https://omcs-global-customer-persister-ge4.omcs-nonprod.r1.pks.dell.com/omcs-global-customer-persister/v1/Dashboard/GetTransformData?dpid=7040000446449\n"
     ]
    },
    {
     "name": "stderr",
     "output_type": "stream",
     "text": [
      "C:\\Users\\Satpum\\AppData\\Local\\anaconda3\\Lib\\site-packages\\urllib3\\connectionpool.py:1056: InsecureRequestWarning: Unverified HTTPS request is being made to host 'omcs-global-customer-persister-ge4.omcs-nonprod.r1.pks.dell.com'. Adding certificate verification is strongly advised. See: https://urllib3.readthedocs.io/en/1.26.x/advanced-usage.html#ssl-warnings\n",
      "  warnings.warn(\n"
     ]
    },
    {
     "name": "stdout",
     "output_type": "stream",
     "text": [
      "<class 'str'>\n",
      "null7040000446449\n",
      "7040000446448\n",
      "https://omcs-global-customer-persister-ge4.omcs-nonprod.r1.pks.dell.com/omcs-global-customer-persister/v1/Dashboard/GetTransformData?dpid=7040000446448\n"
     ]
    },
    {
     "name": "stderr",
     "output_type": "stream",
     "text": [
      "C:\\Users\\Satpum\\AppData\\Local\\anaconda3\\Lib\\site-packages\\urllib3\\connectionpool.py:1056: InsecureRequestWarning: Unverified HTTPS request is being made to host 'omcs-global-customer-persister-ge4.omcs-nonprod.r1.pks.dell.com'. Adding certificate verification is strongly advised. See: https://urllib3.readthedocs.io/en/1.26.x/advanced-usage.html#ssl-warnings\n",
      "  warnings.warn(\n"
     ]
    },
    {
     "name": "stdout",
     "output_type": "stream",
     "text": [
      "<class 'str'>\n",
      "null7040000446448\n",
      "7040000446447\n",
      "https://omcs-global-customer-persister-ge4.omcs-nonprod.r1.pks.dell.com/omcs-global-customer-persister/v1/Dashboard/GetTransformData?dpid=7040000446447\n"
     ]
    },
    {
     "name": "stderr",
     "output_type": "stream",
     "text": [
      "C:\\Users\\Satpum\\AppData\\Local\\anaconda3\\Lib\\site-packages\\urllib3\\connectionpool.py:1056: InsecureRequestWarning: Unverified HTTPS request is being made to host 'omcs-global-customer-persister-ge4.omcs-nonprod.r1.pks.dell.com'. Adding certificate verification is strongly advised. See: https://urllib3.readthedocs.io/en/1.26.x/advanced-usage.html#ssl-warnings\n",
      "  warnings.warn(\n"
     ]
    },
    {
     "name": "stdout",
     "output_type": "stream",
     "text": [
      "<class 'str'>\n",
      "null7040000446447\n",
      "7040000446445\n",
      "https://omcs-global-customer-persister-ge4.omcs-nonprod.r1.pks.dell.com/omcs-global-customer-persister/v1/Dashboard/GetTransformData?dpid=7040000446445\n"
     ]
    },
    {
     "name": "stderr",
     "output_type": "stream",
     "text": [
      "C:\\Users\\Satpum\\AppData\\Local\\anaconda3\\Lib\\site-packages\\urllib3\\connectionpool.py:1056: InsecureRequestWarning: Unverified HTTPS request is being made to host 'omcs-global-customer-persister-ge4.omcs-nonprod.r1.pks.dell.com'. Adding certificate verification is strongly advised. See: https://urllib3.readthedocs.io/en/1.26.x/advanced-usage.html#ssl-warnings\n",
      "  warnings.warn(\n"
     ]
    },
    {
     "name": "stdout",
     "output_type": "stream",
     "text": [
      "<class 'str'>\n",
      "null7040000446445\n",
      "7040000446443\n",
      "https://omcs-global-customer-persister-ge4.omcs-nonprod.r1.pks.dell.com/omcs-global-customer-persister/v1/Dashboard/GetTransformData?dpid=7040000446443\n"
     ]
    },
    {
     "name": "stderr",
     "output_type": "stream",
     "text": [
      "C:\\Users\\Satpum\\AppData\\Local\\anaconda3\\Lib\\site-packages\\urllib3\\connectionpool.py:1056: InsecureRequestWarning: Unverified HTTPS request is being made to host 'omcs-global-customer-persister-ge4.omcs-nonprod.r1.pks.dell.com'. Adding certificate verification is strongly advised. See: https://urllib3.readthedocs.io/en/1.26.x/advanced-usage.html#ssl-warnings\n",
      "  warnings.warn(\n"
     ]
    },
    {
     "name": "stdout",
     "output_type": "stream",
     "text": [
      "<class 'str'>\n",
      "null7040000446443\n",
      "7040000446441\n",
      "https://omcs-global-customer-persister-ge4.omcs-nonprod.r1.pks.dell.com/omcs-global-customer-persister/v1/Dashboard/GetTransformData?dpid=7040000446441\n"
     ]
    },
    {
     "name": "stderr",
     "output_type": "stream",
     "text": [
      "C:\\Users\\Satpum\\AppData\\Local\\anaconda3\\Lib\\site-packages\\urllib3\\connectionpool.py:1056: InsecureRequestWarning: Unverified HTTPS request is being made to host 'omcs-global-customer-persister-ge4.omcs-nonprod.r1.pks.dell.com'. Adding certificate verification is strongly advised. See: https://urllib3.readthedocs.io/en/1.26.x/advanced-usage.html#ssl-warnings\n",
      "  warnings.warn(\n"
     ]
    },
    {
     "name": "stdout",
     "output_type": "stream",
     "text": [
      "<class 'str'>\n",
      "null7040000446441\n",
      "7040000446440\n",
      "https://omcs-global-customer-persister-ge4.omcs-nonprod.r1.pks.dell.com/omcs-global-customer-persister/v1/Dashboard/GetTransformData?dpid=7040000446440\n"
     ]
    },
    {
     "name": "stderr",
     "output_type": "stream",
     "text": [
      "C:\\Users\\Satpum\\AppData\\Local\\anaconda3\\Lib\\site-packages\\urllib3\\connectionpool.py:1056: InsecureRequestWarning: Unverified HTTPS request is being made to host 'omcs-global-customer-persister-ge4.omcs-nonprod.r1.pks.dell.com'. Adding certificate verification is strongly advised. See: https://urllib3.readthedocs.io/en/1.26.x/advanced-usage.html#ssl-warnings\n",
      "  warnings.warn(\n"
     ]
    },
    {
     "name": "stdout",
     "output_type": "stream",
     "text": [
      "<class 'str'>\n",
      "null7040000446440\n",
      "7040000446439\n",
      "https://omcs-global-customer-persister-ge4.omcs-nonprod.r1.pks.dell.com/omcs-global-customer-persister/v1/Dashboard/GetTransformData?dpid=7040000446439\n"
     ]
    },
    {
     "name": "stderr",
     "output_type": "stream",
     "text": [
      "C:\\Users\\Satpum\\AppData\\Local\\anaconda3\\Lib\\site-packages\\urllib3\\connectionpool.py:1056: InsecureRequestWarning: Unverified HTTPS request is being made to host 'omcs-global-customer-persister-ge4.omcs-nonprod.r1.pks.dell.com'. Adding certificate verification is strongly advised. See: https://urllib3.readthedocs.io/en/1.26.x/advanced-usage.html#ssl-warnings\n",
      "  warnings.warn(\n"
     ]
    },
    {
     "name": "stdout",
     "output_type": "stream",
     "text": [
      "<class 'str'>\n",
      "null7040000446439\n",
      "7040000446392\n",
      "https://omcs-global-customer-persister-ge4.omcs-nonprod.r1.pks.dell.com/omcs-global-customer-persister/v1/Dashboard/GetTransformData?dpid=7040000446392\n"
     ]
    },
    {
     "name": "stderr",
     "output_type": "stream",
     "text": [
      "C:\\Users\\Satpum\\AppData\\Local\\anaconda3\\Lib\\site-packages\\urllib3\\connectionpool.py:1056: InsecureRequestWarning: Unverified HTTPS request is being made to host 'omcs-global-customer-persister-ge4.omcs-nonprod.r1.pks.dell.com'. Adding certificate verification is strongly advised. See: https://urllib3.readthedocs.io/en/1.26.x/advanced-usage.html#ssl-warnings\n",
      "  warnings.warn(\n"
     ]
    },
    {
     "name": "stdout",
     "output_type": "stream",
     "text": [
      "<class 'str'>\n",
      "null7040000446392\n",
      "7040000446390\n",
      "https://omcs-global-customer-persister-ge4.omcs-nonprod.r1.pks.dell.com/omcs-global-customer-persister/v1/Dashboard/GetTransformData?dpid=7040000446390\n"
     ]
    },
    {
     "name": "stderr",
     "output_type": "stream",
     "text": [
      "C:\\Users\\Satpum\\AppData\\Local\\anaconda3\\Lib\\site-packages\\urllib3\\connectionpool.py:1056: InsecureRequestWarning: Unverified HTTPS request is being made to host 'omcs-global-customer-persister-ge4.omcs-nonprod.r1.pks.dell.com'. Adding certificate verification is strongly advised. See: https://urllib3.readthedocs.io/en/1.26.x/advanced-usage.html#ssl-warnings\n",
      "  warnings.warn(\n"
     ]
    },
    {
     "name": "stdout",
     "output_type": "stream",
     "text": [
      "<class 'str'>\n",
      "null7040000446390\n",
      "7040000446387\n",
      "https://omcs-global-customer-persister-ge4.omcs-nonprod.r1.pks.dell.com/omcs-global-customer-persister/v1/Dashboard/GetTransformData?dpid=7040000446387\n"
     ]
    },
    {
     "name": "stderr",
     "output_type": "stream",
     "text": [
      "C:\\Users\\Satpum\\AppData\\Local\\anaconda3\\Lib\\site-packages\\urllib3\\connectionpool.py:1056: InsecureRequestWarning: Unverified HTTPS request is being made to host 'omcs-global-customer-persister-ge4.omcs-nonprod.r1.pks.dell.com'. Adding certificate verification is strongly advised. See: https://urllib3.readthedocs.io/en/1.26.x/advanced-usage.html#ssl-warnings\n",
      "  warnings.warn(\n"
     ]
    },
    {
     "name": "stdout",
     "output_type": "stream",
     "text": [
      "<class 'str'>\n",
      "null7040000446387\n",
      "7040000446386\n",
      "https://omcs-global-customer-persister-ge4.omcs-nonprod.r1.pks.dell.com/omcs-global-customer-persister/v1/Dashboard/GetTransformData?dpid=7040000446386\n"
     ]
    },
    {
     "name": "stderr",
     "output_type": "stream",
     "text": [
      "C:\\Users\\Satpum\\AppData\\Local\\anaconda3\\Lib\\site-packages\\urllib3\\connectionpool.py:1056: InsecureRequestWarning: Unverified HTTPS request is being made to host 'omcs-global-customer-persister-ge4.omcs-nonprod.r1.pks.dell.com'. Adding certificate verification is strongly advised. See: https://urllib3.readthedocs.io/en/1.26.x/advanced-usage.html#ssl-warnings\n",
      "  warnings.warn(\n"
     ]
    },
    {
     "name": "stdout",
     "output_type": "stream",
     "text": [
      "<class 'str'>\n",
      "null7040000446386\n",
      "7040000446383\n",
      "https://omcs-global-customer-persister-ge4.omcs-nonprod.r1.pks.dell.com/omcs-global-customer-persister/v1/Dashboard/GetTransformData?dpid=7040000446383\n"
     ]
    },
    {
     "name": "stderr",
     "output_type": "stream",
     "text": [
      "C:\\Users\\Satpum\\AppData\\Local\\anaconda3\\Lib\\site-packages\\urllib3\\connectionpool.py:1056: InsecureRequestWarning: Unverified HTTPS request is being made to host 'omcs-global-customer-persister-ge4.omcs-nonprod.r1.pks.dell.com'. Adding certificate verification is strongly advised. See: https://urllib3.readthedocs.io/en/1.26.x/advanced-usage.html#ssl-warnings\n",
      "  warnings.warn(\n"
     ]
    },
    {
     "name": "stdout",
     "output_type": "stream",
     "text": [
      "<class 'str'>\n",
      "null7040000446383\n",
      "7040000446382\n",
      "https://omcs-global-customer-persister-ge4.omcs-nonprod.r1.pks.dell.com/omcs-global-customer-persister/v1/Dashboard/GetTransformData?dpid=7040000446382\n"
     ]
    },
    {
     "name": "stderr",
     "output_type": "stream",
     "text": [
      "C:\\Users\\Satpum\\AppData\\Local\\anaconda3\\Lib\\site-packages\\urllib3\\connectionpool.py:1056: InsecureRequestWarning: Unverified HTTPS request is being made to host 'omcs-global-customer-persister-ge4.omcs-nonprod.r1.pks.dell.com'. Adding certificate verification is strongly advised. See: https://urllib3.readthedocs.io/en/1.26.x/advanced-usage.html#ssl-warnings\n",
      "  warnings.warn(\n"
     ]
    },
    {
     "name": "stdout",
     "output_type": "stream",
     "text": [
      "<class 'str'>\n",
      "null7040000446382\n",
      "7040000446381\n",
      "https://omcs-global-customer-persister-ge4.omcs-nonprod.r1.pks.dell.com/omcs-global-customer-persister/v1/Dashboard/GetTransformData?dpid=7040000446381\n"
     ]
    },
    {
     "name": "stderr",
     "output_type": "stream",
     "text": [
      "C:\\Users\\Satpum\\AppData\\Local\\anaconda3\\Lib\\site-packages\\urllib3\\connectionpool.py:1056: InsecureRequestWarning: Unverified HTTPS request is being made to host 'omcs-global-customer-persister-ge4.omcs-nonprod.r1.pks.dell.com'. Adding certificate verification is strongly advised. See: https://urllib3.readthedocs.io/en/1.26.x/advanced-usage.html#ssl-warnings\n",
      "  warnings.warn(\n"
     ]
    },
    {
     "name": "stdout",
     "output_type": "stream",
     "text": [
      "<class 'str'>\n",
      "null7040000446381\n",
      "7040000446375\n",
      "https://omcs-global-customer-persister-ge4.omcs-nonprod.r1.pks.dell.com/omcs-global-customer-persister/v1/Dashboard/GetTransformData?dpid=7040000446375\n"
     ]
    },
    {
     "name": "stderr",
     "output_type": "stream",
     "text": [
      "C:\\Users\\Satpum\\AppData\\Local\\anaconda3\\Lib\\site-packages\\urllib3\\connectionpool.py:1056: InsecureRequestWarning: Unverified HTTPS request is being made to host 'omcs-global-customer-persister-ge4.omcs-nonprod.r1.pks.dell.com'. Adding certificate verification is strongly advised. See: https://urllib3.readthedocs.io/en/1.26.x/advanced-usage.html#ssl-warnings\n",
      "  warnings.warn(\n"
     ]
    },
    {
     "name": "stdout",
     "output_type": "stream",
     "text": [
      "<class 'str'>\n",
      "null7040000446375\n",
      "7040000446374\n",
      "https://omcs-global-customer-persister-ge4.omcs-nonprod.r1.pks.dell.com/omcs-global-customer-persister/v1/Dashboard/GetTransformData?dpid=7040000446374\n"
     ]
    },
    {
     "name": "stderr",
     "output_type": "stream",
     "text": [
      "C:\\Users\\Satpum\\AppData\\Local\\anaconda3\\Lib\\site-packages\\urllib3\\connectionpool.py:1056: InsecureRequestWarning: Unverified HTTPS request is being made to host 'omcs-global-customer-persister-ge4.omcs-nonprod.r1.pks.dell.com'. Adding certificate verification is strongly advised. See: https://urllib3.readthedocs.io/en/1.26.x/advanced-usage.html#ssl-warnings\n",
      "  warnings.warn(\n"
     ]
    },
    {
     "name": "stdout",
     "output_type": "stream",
     "text": [
      "<class 'str'>\n",
      "null7040000446374\n",
      "7040000446370\n",
      "https://omcs-global-customer-persister-ge4.omcs-nonprod.r1.pks.dell.com/omcs-global-customer-persister/v1/Dashboard/GetTransformData?dpid=7040000446370\n"
     ]
    },
    {
     "name": "stderr",
     "output_type": "stream",
     "text": [
      "C:\\Users\\Satpum\\AppData\\Local\\anaconda3\\Lib\\site-packages\\urllib3\\connectionpool.py:1056: InsecureRequestWarning: Unverified HTTPS request is being made to host 'omcs-global-customer-persister-ge4.omcs-nonprod.r1.pks.dell.com'. Adding certificate verification is strongly advised. See: https://urllib3.readthedocs.io/en/1.26.x/advanced-usage.html#ssl-warnings\n",
      "  warnings.warn(\n"
     ]
    },
    {
     "name": "stdout",
     "output_type": "stream",
     "text": [
      "<class 'str'>\n",
      "null7040000446370\n",
      "7040000446361\n",
      "https://omcs-global-customer-persister-ge4.omcs-nonprod.r1.pks.dell.com/omcs-global-customer-persister/v1/Dashboard/GetTransformData?dpid=7040000446361\n"
     ]
    },
    {
     "name": "stderr",
     "output_type": "stream",
     "text": [
      "C:\\Users\\Satpum\\AppData\\Local\\anaconda3\\Lib\\site-packages\\urllib3\\connectionpool.py:1056: InsecureRequestWarning: Unverified HTTPS request is being made to host 'omcs-global-customer-persister-ge4.omcs-nonprod.r1.pks.dell.com'. Adding certificate verification is strongly advised. See: https://urllib3.readthedocs.io/en/1.26.x/advanced-usage.html#ssl-warnings\n",
      "  warnings.warn(\n"
     ]
    },
    {
     "name": "stdout",
     "output_type": "stream",
     "text": [
      "<class 'str'>\n",
      "null7040000446361\n",
      "            dpid                        type  \\\n",
      "0  7040000446464      OMCS_GET_CUST_BILL_REQ   \n",
      "1  7040000446464      OMCS_GET_CUST_BILL_RES   \n",
      "2  7040000446464        OMCS_GET_CN_BILL_REQ   \n",
      "3  7040000446464        OMCS_GET_CN_BILL_RES   \n",
      "4  7040000446464  OMCS_GET_ACC_ID_SOLDTO_REQ   \n",
      "\n",
      "                                                data  \n",
      "0  {\"Id\":\"747400117460\",\"BusinessUnitId\":\"3535\",\"...  \n",
      "1  {\"SucceededRefIds\":null,\"Result\":{\"Source\":\"CA...  \n",
      "2  {\"Id\":\"747400117460\",\"CamLocationId\":\"60000001...  \n",
      "3  {\"Result\":{\"Source\":\"CAM_APJ\",\"ResultCode\":\"SU...  \n",
      "4  {\"customerDetails\":[{\"customerNumber\":\"7474001...  \n",
      "==================dpidNull==========================\n",
      "['7040000447663', '7040000447662', '7040000447660', '7040000447657', '7040000447656', '7040000447655', '7040000447651', '7040000447650', '7040000447649', '7040000447648', '7040000447645', '7040000447644', '7040000447638', '7040000447637', '7040000447621', '7040000447615', '7040000447606', '7040000447605', '7040000447604', '7040000447603', '7040000447602', '7040000447601', '7040000447600', '7040000447599', '7040000447597', '7040000447596', '7040000447595', '7040000447589', '7040000447544', '7040000447543', '7040000447542', '7040000447541', '7040000447539', '7040000447528', '7040000447522', '7040000447520', '7040000447519', '7040000447518', '7040000447517', '7040000447515', '7040000447514', '7040000447513', '7040000447512', '7040000447511', '7040000447509', '7040000447506', '7040000447505', '7040000447504', '7040000447503', '7040000447502', '7040000447501', '7040000447499', '7040000447497', '7040000447496', '7040000447495', '7040000447494', '7040000447493', '7040000447492', '7040000447491', '7040000447490', '7040000447489', '7040000447487', '7040000447486', '7040000447485', '7040000447484', '7040000447483', '7040000447482', '7040000447480', '7040000447479', '7040000447478', '7040000447477', '7040000447476', '7040000447474', '7040000447473', '7040000447472', '7040000447471', '7040000447470', '7040000447468', '7040000447467', '7040000447466', '7040000447464', '7040000447463', '7040000447462', '7040000447460', '7040000447459', '7040000447458', '7040000447457', '7040000447452', '7040000447451', '7040000447450', '7040000447449', '7040000447448', '7040000447447', '7040000447446', '7040000447445', '7040000447443', '7040000447442', '7040000447441', '7040000447440', '7040000447439', '7040000447437', '7040000447436', '7040000447435', '7040000447433', '7040000447432', '7040000447431', '7040000447430', '7040000447429', '7040000447427', '7040000447426', '7040000447425', '7040000447424', '7040000447423', '7040000447422', '7040000447421', '7040000447418', '7040000447417', '7040000447416', '7040000447415', '7040000447414', '7040000447412', '7040000447411', '7040000447410', '7040000447409', '7040000447408', '7040000447404', '7040000447403', '7040000447402', '7040000447400', '7040000447399', '7040000447393', '7040000447392', '7040000447390', '7040000447389', '7040000447380', '7040000447377', '7040000447375', '7040000447374', '7040000447372', '7040000447371', '7040000447370', '7040000447369', '7040000447367', '7040000447366', '7040000447362', '7040000447361', '7040000447360', '7040000447359', '7040000447347', '7040000447346', '7040000447344', '7040000447333', '7040000447331', '7040000447330', '7040000447329', '7040000447328', '7040000447325', '7040000447319', '7040000447318', '7040000447317', '7040000447314', '7040000447313', '7040000447311', '7040000447310', '7040000447309', '7040000447306', '7040000447304', '7040000447303', '7040000447301', '7040000447299', '7040000447298', '7040000447295', '7040000447294', '7040000447292', '7040000447291', '7040000447290', '7040000447289', '7040000447286', '7040000447269', '7040000447264', '7040000447261', '7040000447259', '7040000447231', '7040000447230', '7040000447225', '7040000447224', '7040000447223', '7040000447169', '7040000447168', '7040000447166', '7040000447161', '7040000447160', '7040000447159', '7040000447155', '7040000447154', '7040000447153', '7040000447152', '7040000447147', '7040000447146', '7040000447115', '7040000447114', '7040000447103', '7040000447102', '7040000447099', '7040000447098', '7040000447082', '7040000447071', '7040000447058', '7040000447057', '7040000447055', '7040000447054', '7040000447053', '7040000447051', '7040000447050', '7040000447049', '7040000447047', '7040000447046', '7040000447045', '7040000447042', '7040000447040', '7040000447038', '7040000447036', '7040000447034', '7040000447031', '7040000447027', '7040000447025', '7040000447023', '7040000447020', '7040000447018', '7040000447016', '7040000447013', '7040000447012', '7040000447009', '7040000447004', '7040000447001', '7040000446999', '7040000446998', '7040000446997', '7040000446995', '7040000446994', '7040000446993', '7040000446992', '7040000446991', '7040000446990', '7040000446989', '7040000446988', '7040000446984', '7040000446983', '7040000446982', '7040000446981', '7040000446980', '7040000446979', '7040000446960', '7040000446959', '7040000446958', '7040000446957', '7040000446956', '7040000446955', '7040000446954', '7040000446953', '7040000446952', '7040000446951', '7040000446950', '7040000446949', '7040000446948', '7040000446947', '7040000446946', '7040000446945', '7040000446944', '7040000446943', '7040000446942', '7040000446941', '7040000446940', '7040000446939', '7040000446938', '7040000446937', '7040000446936', '7040000446935', '7040000446934', '7040000446933', '7040000446932', '7040000446931', '7040000446930', '7040000446929', '7040000446928', '7040000446927', '7040000446926', '7040000446925', '7040000446923', '7040000446922', '7040000446921', '7040000446920', '7040000446919', '7040000446918', '7040000446917', '7040000446916', '7040000446915', '7040000446915', '7040000446914', '7040000446913', '7040000446912', '7040000446911', '7040000446910', '7040000446909', '7040000446908', '7040000446907', '7040000446906', '7040000446883', '7040000446880', '7040000446879', '7040000446876', '7040000446875', '7040000446874', '7040000446873', '7040000446854', '7040000446842', '7040000446841', '7040000446840', '7040000446838', '7040000446833', '7040000446832', '7040000446831', '7040000446827', '7040000446826', '7040000446825', '7040000446824', '7040000446819', '7040000446818', '7040000446771', '7040000446770', '7040000446737', '7040000446717', '7040000446715', '7040000446695', '7040000446693', '7040000446691', '7040000446690', '7040000446688', '7040000446686', '7040000446684', '7040000446681', '7040000446679', '7040000446678', '7040000446675', '7040000446673', '7040000446670', '7040000446666', '7040000446664', '7040000446660', '7040000446653', '7040000446649', '7040000446645', '7040000446641', '7040000446639', '7040000446636', '7040000446633', '7040000446629', '7040000446627', '7040000446591', '7040000446589', '7040000446588', '7040000446582', '7040000446573', '7040000446566', '7040000446527', '7040000446526', '7040000446523', '7040000446521', '7040000446520', '7040000446518', '7040000446517', '7040000446516', '7040000446515', '7040000446513', '7040000446504', '7040000446502', '7040000446501', '7040000446489', '7040000446488', '7040000446487', '7040000446478', '7040000446477', '7040000446461', '7040000446460', '7040000446456', '7040000446453', '7040000446452', '7040000446449', '7040000446448', '7040000446447', '7040000446445', '7040000446443', '7040000446441', '7040000446440', '7040000446439', '7040000446392', '7040000446390', '7040000446387', '7040000446386', '7040000446383', '7040000446382', '7040000446381', '7040000446375', '7040000446374', '7040000446370', '7040000446361']\n",
      "./Data/Dashboard/Input/ge4/Dashboard_Logs_ge4.json\n"
     ]
    }
   ],
   "source": [
    "import requests\n",
    "import pandas as pd\n",
    "import os\n",
    "import pandas as pd\n",
    "import json\n",
    "\n",
    "dashboardArray=[]\n",
    "temp=[]\n",
    "dpidNull=[]\n",
    "dashboardDf = pd.DataFrame()\n",
    "\n",
    "for dpid in dpidsDF['dpid']:\n",
    "#for dpid in ['7040000447687','7040000447687','7040000446370','7040000446374','7040000446375']: \n",
    "#for dpid in ['7040000447687','7040000447687']: \n",
    "    enviroment='ge4'\n",
    "    print(dpid)\n",
    "    # Specify the API URL we want to send our JSON to\n",
    "    url = 'https://omcs-global-customer-persister-ge4.omcs-nonprod.r1.pks.dell.com/omcs-global-customer-persister/v1/Dashboard/GetTransformData?dpid='+dpid.strip()\n",
    "    print(url)\n",
    "    # Specify the appropriate header for the POST request\n",
    "    headers={'Content-Type':'application/json','Referer':'strict-origin-when-cross-origin','Authorization': 'allaccesskey'}\n",
    "    # Specify the JSON data we want to send\n",
    "    #data = '{\"url\":\"https://omcs-global-customer-persister-ge4.omcs-nonprod.r1.pks.dell.com/omcs-global-customer-persister/v1/Dashboard/GetWorkflowSteps?dpid=7040000447610\"}'\n",
    "    result = requests.get(url,headers=headers,verify=False)\n",
    "    print(type(result.text))\n",
    "    if len(result.text) > 2:\n",
    "        print('not null')\n",
    "        # Load the JSON array string into a Python list\n",
    "        data = json.loads(result.text)\n",
    "        # Create a DataFrame from the list\n",
    "        dashboardDf = pd.DataFrame(data,columns=['dpid','type','data'])\n",
    "        #dashboardArray.append(responseData)\n",
    "    else:\n",
    "        print('null'+dpid)\n",
    "        dpidNull.append(dpid)\n",
    "\n",
    "print(dashboardDf)\n",
    "\n",
    "#print(len(dashboardArray))  \n",
    "print('==================dpidNull==========================')\n",
    "print(dpidNull)\n",
    "\n",
    "# dashboardDf = pd.DataFrame(dashboardArray)\n",
    "# print(dashboardArray)\n",
    "\n",
    "directoryName='./Data/Dashboard/Input/'+enviroment+'/'\n",
    "fileName='Dashboard_Logs_'+enviroment+'.json'\n",
    "if not os.path.exists(directoryName):\n",
    "    os.makedirs(directoryName)\n",
    "\n",
    "print(directoryName+fileName)\n",
    "dashboardDf.to_json(directoryName+fileName,orient='records')"
   ]
  },
  {
   "cell_type": "code",
   "execution_count": 20,
   "id": "ad9abafa",
   "metadata": {},
   "outputs": [
    {
     "name": "stdout",
     "output_type": "stream",
     "text": [
      "===============IMPORTING DATA====================\n",
      "=======Getting Data From ./Data/Dashboard/Input/ge4/Dashboard_Logs_ge4.json============\n",
      "dpid                                        7040000446464\n",
      "type                               OMCS_GET_CUST_BILL_REQ\n",
      "data    {\"Id\":\"747400117460\",\"BusinessUnitId\":\"3535\",\"...\n",
      "Name: 0, dtype: object\n"
     ]
    }
   ],
   "source": [
    "# -*- coding: utf-8 -*-\n",
    "\"\"\"\n",
    "Created on Sun Nov  5 15:56:13 2023\n",
    "\n",
    "@author: satpum\n",
    "\"\"\"\n",
    "\n",
    "import json;\n",
    "import pandas as pd\n",
    "import time \n",
    "import os, shutil\n",
    "from bs4 import BeautifulSoup \n",
    "import requests \n",
    "import re\n",
    "\n",
    "\n",
    "print('===============IMPORTING DATA====================')\n",
    "directoryName='./Data/Dashboard/Input/ge4/Dashboard_Logs_ge4.json'\n",
    "if not os.path.exists(directoryName):\n",
    "   os.makedirs(directoryName)\n",
    "\n",
    "\n",
    "print('=======Getting Data From '+directoryName+'============')\n",
    "\n",
    "f1  = open(directoryName, encoding=\"utf8\")\n",
    "\n",
    "\n",
    "dataDashboardLogs = json.load(f1)\n",
    "\n",
    "#print(dataDashboardLogs)\n",
    "#os.close(f1)\n",
    "\n",
    "sourceArray=[]\n",
    "\n",
    "sidecarDataFrame= pd.DataFrame(dataDashboardLogs)\n",
    "#print(sidecarDataFrame)\n",
    "\n",
    "rowArray=[]\n",
    "\n",
    "for index,row in sidecarDataFrame.iterrows():\n",
    "    rowArray.append(row)\n",
    "\n",
    "logArray=[]    \n",
    "#print(rowArray)    \n",
    "for i in rowArray:\n",
    "     logArray.append(i)\n",
    "    \n",
    "dpidsDF=pd.DataFrame(logArray)    \n",
    "\n",
    "print(logArray[0])\n",
    "\n",
    "# sourceArrayDataFrame= pd.DataFrame(sidecarDataFrame['_source'])\n",
    "# #sourceArrayDataFrame['_source'].to_json('./Data/Input/ge2/Data2.json',orient='records')\n",
    "# #print(sourceArrayDataFrame)\n",
    "\n",
    "# log_processed=[]\n",
    "# for row in sourceArrayDataFrame['_source']:\n",
    "#     log_processed.append(row)\n",
    "# #print(log_processed)    \n",
    "\n",
    "\n",
    "\n",
    "# logprocessedDF= pd.DataFrame(log_processed,columns=['log_processed'])\n",
    "\n",
    "# #print(logprocessedDF)\n",
    "\n",
    "\n",
    "# logArray=[]\n",
    "# for log in logprocessedDF['log_processed']:\n",
    "#     logArray.append(log)\n",
    "\n",
    "# logsDF=pd.DataFrame(logArray,columns=['dpid','message','domain'])\n",
    "\n",
    "\n",
    "# print('===============READING HITS ====================')\n",
    "\n",
    "\n",
    "# #logsDF=pd.DataFrame(logs,columns=['dpid','message','domain']) \n",
    "# #print(logsDF.head(2))\n",
    "# uniquiDpid=[]\n",
    "# uniquiDpid=logsDF['dpid'].unique();\n",
    "\n",
    "# print('============Saving logs in Dpid Name file ===============')\n",
    "# message=[]\n",
    "\n",
    "# #print(logsDF[(logsDF['dpid']=='7020000346408')]['message'])\n",
    "\n",
    "# for dpid in uniquiDpid:\n",
    "#     fileName=dpid+'.json'\n",
    "#     if not os.path.exists('./Data/Output/Final/Dpids'):\n",
    "#        os.makedirs('./Data/Output/Final/Dpids')\n",
    "#     pathName='./Data/Output/Final/Dpids/'+fileName\n",
    "#     series=logsDF[(logsDF['dpid']==dpid)]['message']\n",
    "#     #print(type(series))\n",
    "#     pdf=series.to_frame()\n",
    "# #    pdf=pdf.rename(columns = {0:'message'})\n",
    "#     pdf['message'].to_json(pathName,orient='records')\n",
    "#     #logsDF[(logsDF['dpid']==dpid)]['message'].to_json(pathName)\n",
    "#     #print('===saving file at '+pathName) \n",
    "\n",
    "\n",
    "\n",
    "# print('============Creating Data Set ===============')\n",
    "\n",
    "# uniquiDpid=[]\n",
    "# uniquiDpid=logsDF['dpid'].unique();\n",
    "\n",
    "# message=''\n",
    "# messageArray=[]\n",
    "# for dpid in uniquiDpid:\n",
    "#     fileName=dpid+'.json'\n",
    "#     directoryName='./Data/Output/Final/Dpids/'+fileName\n",
    "#     print('=======Getting Data From '+directoryName+'============')\n",
    "#     f1  = open(directoryName, encoding=\"utf8\")\n",
    "#     logs = json.load(f1)\n",
    "#     logsDF=pd.DataFrame(logs,columns=['logs'])\n",
    "#     #print(logsDF)\n",
    "\n",
    "#     logarray=[]\n",
    "#     for index, row in logsDF.iterrows():\n",
    "#         message=message +row;\n",
    "#     messageArray.append(message)\n",
    "#     print(len(messageArray))\n",
    "\n",
    "\n",
    "# print('============Done creating MessageArray ===============')\n",
    "\n",
    "# LogsDataSetDF=pd.DataFrame(messageArray)\n",
    "\n",
    "# newLogArray=[]\n",
    "\n",
    "# LogsDataSetDF['logs'] = LogsDataSetDF['logs'].replace(to_replace=r'^https?:\\/\\/.*[\\r\\n]*',value='',regex=True)\n",
    "\n",
    "# #print(LogsDataSetDF.head())\n",
    "# #for index, row in LogsDataSetDF.iterrows():\n",
    "# #    row = re.sub(r'^https?:\\/\\/.*[\\r\\n]*', '', row, flags=re.MULTILINE)\n",
    "# #    newLogArray.append(row)\n",
    "    \n",
    "\n",
    "# #text = re.sub(r'^https?:\\/\\/.*[\\r\\n]*', '', text, flags=re.MULTILINE)\n",
    "    \n",
    "\n",
    "# print('============Saving DataSet ===============')\n",
    "    \n",
    "# pathName='./Data/Output/final/DataSet/'    \n",
    "\n",
    "# if not os.path.exists(pathName): \n",
    "#     os.makedirs(pathName)  \n",
    "\n",
    "# fileName='Final_Log_DataSet'+ time.strftime(\"%Y%m%d-%H%M%S\")+'.json'\n",
    "# LogsDataSetDF.to_json(pathName+fileName,orient='records')\n",
    "# print(os.path.abspath(pathName+fileName))\n",
    "\n",
    "# print('============Saving DataSet at '+fileName+'====================')\n",
    "# print('============Finish Saving DataSet ===============')\n",
    "\n",
    "\n"
   ]
  },
  {
   "cell_type": "code",
   "execution_count": null,
   "id": "442720a0",
   "metadata": {},
   "outputs": [],
   "source": []
  }
 ],
 "metadata": {
  "kernelspec": {
   "display_name": "Python 3 (ipykernel)",
   "language": "python",
   "name": "python3"
  },
  "language_info": {
   "codemirror_mode": {
    "name": "ipython",
    "version": 3
   },
   "file_extension": ".py",
   "mimetype": "text/x-python",
   "name": "python",
   "nbconvert_exporter": "python",
   "pygments_lexer": "ipython3",
   "version": "3.11.5"
  }
 },
 "nbformat": 4,
 "nbformat_minor": 5
}

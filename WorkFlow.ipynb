{
 "cells": [
  {
   "cell_type": "markdown",
   "id": "26f6003a",
   "metadata": {},
   "source": [
    "# CUSTOMER Workflow DASHBOARDS"
   ]
  },
  {
   "cell_type": "markdown",
   "id": "fa2e5a7f",
   "metadata": {},
   "source": [
    "# API CALL"
   ]
  },
  {
   "cell_type": "code",
   "execution_count": 12,
   "id": "4685bcca",
   "metadata": {},
   "outputs": [
    {
     "name": "stdout",
     "output_type": "stream",
     "text": [
      "Getting All  dpids\n"
     ]
    },
    {
     "name": "stderr",
     "output_type": "stream",
     "text": [
      "C:\\Users\\Satpum\\AppData\\Local\\anaconda3\\Lib\\site-packages\\urllib3\\connectionpool.py:1056: InsecureRequestWarning: Unverified HTTPS request is being made to host 'omcs-global-order-external-ge4.omcs-nonprod.r1.pks.dell.com'. Adding certificate verification is strongly advised. See: https://urllib3.readthedocs.io/en/1.26.x/advanced-usage.html#ssl-warnings\n",
      "  warnings.warn(\n"
     ]
    },
    {
     "data": {
      "text/html": [
       "<div>\n",
       "<style scoped>\n",
       "    .dataframe tbody tr th:only-of-type {\n",
       "        vertical-align: middle;\n",
       "    }\n",
       "\n",
       "    .dataframe tbody tr th {\n",
       "        vertical-align: top;\n",
       "    }\n",
       "\n",
       "    .dataframe thead th {\n",
       "        text-align: right;\n",
       "    }\n",
       "</style>\n",
       "<table border=\"1\" class=\"dataframe\">\n",
       "  <thead>\n",
       "    <tr style=\"text-align: right;\">\n",
       "      <th></th>\n",
       "      <th>dpid</th>\n",
       "    </tr>\n",
       "  </thead>\n",
       "  <tbody>\n",
       "    <tr>\n",
       "      <th>0</th>\n",
       "      <td>7040000447687</td>\n",
       "    </tr>\n",
       "    <tr>\n",
       "      <th>1</th>\n",
       "      <td>7040000447686</td>\n",
       "    </tr>\n",
       "    <tr>\n",
       "      <th>2</th>\n",
       "      <td>7040000447685</td>\n",
       "    </tr>\n",
       "    <tr>\n",
       "      <th>3</th>\n",
       "      <td>7040000447684</td>\n",
       "    </tr>\n",
       "    <tr>\n",
       "      <th>4</th>\n",
       "      <td>7040000447683</td>\n",
       "    </tr>\n",
       "    <tr>\n",
       "      <th>...</th>\n",
       "      <td>...</td>\n",
       "    </tr>\n",
       "    <tr>\n",
       "      <th>9995</th>\n",
       "      <td>7040000437402</td>\n",
       "    </tr>\n",
       "    <tr>\n",
       "      <th>9996</th>\n",
       "      <td>7040000437401</td>\n",
       "    </tr>\n",
       "    <tr>\n",
       "      <th>9997</th>\n",
       "      <td>7040000437400</td>\n",
       "    </tr>\n",
       "    <tr>\n",
       "      <th>9998</th>\n",
       "      <td>7040000437399</td>\n",
       "    </tr>\n",
       "    <tr>\n",
       "      <th>9999</th>\n",
       "      <td>7040000437398</td>\n",
       "    </tr>\n",
       "  </tbody>\n",
       "</table>\n",
       "<p>10000 rows × 1 columns</p>\n",
       "</div>"
      ],
      "text/plain": [
       "               dpid\n",
       "0     7040000447687\n",
       "1     7040000447686\n",
       "2     7040000447685\n",
       "3     7040000447684\n",
       "4     7040000447683\n",
       "...             ...\n",
       "9995  7040000437402\n",
       "9996  7040000437401\n",
       "9997  7040000437400\n",
       "9998  7040000437399\n",
       "9999  7040000437398\n",
       "\n",
       "[10000 rows x 1 columns]"
      ]
     },
     "metadata": {},
     "output_type": "display_data"
    }
   ],
   "source": [
    "import requests\n",
    "import pandas as pd\n",
    "import os\n",
    "from IPython.display import display\n",
    "\n",
    "#C:\\Users\\Satpum\\DebugLogTagging\\Data\\Workflow\\Input\\ge4\n",
    "print('Getting All  dpids');\n",
    "\n",
    "url=\"https://omcs-global-order-external-ge4.omcs-nonprod.r1.pks.dell.com/omcs-global-order-external/api/v1/order/search\"\n",
    "\n",
    "headers={'Content-Type':'application/json','Referer':'strict-origin-when-cross-origin','Authorization': 'allaccesskey'}\n",
    "\n",
    "#data='{\"propertySearch\":\"Region\",\"searchValue\":\"APJ\",\"region\":\"\",\"fromDate\":\"2023-11-20\",\"toDate\":\"2023-11-21\",\"pageSize\":10000,\"pageCount\":1,\"sortBy\":\"\",\"buid\":\"\"}'\n",
    "data='{\"propertySearch\":\"Region\",\"searchValue\":\"\",\"region\":\"\",\"fromDate\":\"2023-05-01\",\"toDate\":\"2023-11-21\",\"pageSize\":10000,\"pageCount\":1,\"sortBy\":\"\",\"buid\":\"\"}'\n",
    "\n",
    "response = requests.post(url, headers=headers, data=data, verify=False)\n",
    "#print(response.text)\n",
    "\n",
    "responseData = response.text\n",
    "\n",
    "sideCarDf = pd.read_json(responseData, orient='records')\n",
    "\n",
    "rowArray=[]\n",
    "for index,row in sideCarDf.iterrows():\n",
    "    rowArray.append(row['searchResultView'])\n",
    "    \n",
    "dpidsDF=pd.DataFrame(rowArray,columns=['dpid'])    \n",
    "display(dpidsDF)  "
   ]
  },
  {
   "cell_type": "code",
   "execution_count": 5,
   "id": "31105a25",
   "metadata": {},
   "outputs": [
    {
     "name": "stdout",
     "output_type": "stream",
     "text": [
      "7040000447687\n",
      "count 1\n",
      "https://omcs-global-customer-persister-ge4.omcs-nonprod.r1.pks.dell.com/omcs-global-customer-persister/v1/Dashboard/GetWorkflowSteps?dpid=7040000447687\n"
     ]
    },
    {
     "name": "stderr",
     "output_type": "stream",
     "text": [
      "C:\\Users\\Satpum\\AppData\\Local\\anaconda3\\Lib\\site-packages\\urllib3\\connectionpool.py:1056: InsecureRequestWarning: Unverified HTTPS request is being made to host 'omcs-global-customer-persister-ge4.omcs-nonprod.r1.pks.dell.com'. Adding certificate verification is strongly advised. See: https://urllib3.readthedocs.io/en/1.26.x/advanced-usage.html#ssl-warnings\n",
      "  warnings.warn(\n"
     ]
    },
    {
     "name": "stdout",
     "output_type": "stream",
     "text": [
      "<class 'str'>\n",
      "not null\n",
      "7040000447686\n",
      "count 2\n",
      "https://omcs-global-customer-persister-ge4.omcs-nonprod.r1.pks.dell.com/omcs-global-customer-persister/v1/Dashboard/GetWorkflowSteps?dpid=7040000447686\n"
     ]
    },
    {
     "name": "stderr",
     "output_type": "stream",
     "text": [
      "C:\\Users\\Satpum\\AppData\\Local\\anaconda3\\Lib\\site-packages\\urllib3\\connectionpool.py:1056: InsecureRequestWarning: Unverified HTTPS request is being made to host 'omcs-global-customer-persister-ge4.omcs-nonprod.r1.pks.dell.com'. Adding certificate verification is strongly advised. See: https://urllib3.readthedocs.io/en/1.26.x/advanced-usage.html#ssl-warnings\n",
      "  warnings.warn(\n"
     ]
    },
    {
     "name": "stdout",
     "output_type": "stream",
     "text": [
      "<class 'str'>\n",
      "null7040000447686\n",
      "7040000447685\n",
      "count 3\n",
      "https://omcs-global-customer-persister-ge4.omcs-nonprod.r1.pks.dell.com/omcs-global-customer-persister/v1/Dashboard/GetWorkflowSteps?dpid=7040000447685\n"
     ]
    },
    {
     "name": "stderr",
     "output_type": "stream",
     "text": [
      "C:\\Users\\Satpum\\AppData\\Local\\anaconda3\\Lib\\site-packages\\urllib3\\connectionpool.py:1056: InsecureRequestWarning: Unverified HTTPS request is being made to host 'omcs-global-customer-persister-ge4.omcs-nonprod.r1.pks.dell.com'. Adding certificate verification is strongly advised. See: https://urllib3.readthedocs.io/en/1.26.x/advanced-usage.html#ssl-warnings\n",
      "  warnings.warn(\n"
     ]
    },
    {
     "name": "stdout",
     "output_type": "stream",
     "text": [
      "<class 'str'>\n",
      "not null\n",
      "7040000447684\n",
      "count 4\n",
      "https://omcs-global-customer-persister-ge4.omcs-nonprod.r1.pks.dell.com/omcs-global-customer-persister/v1/Dashboard/GetWorkflowSteps?dpid=7040000447684\n"
     ]
    },
    {
     "name": "stderr",
     "output_type": "stream",
     "text": [
      "C:\\Users\\Satpum\\AppData\\Local\\anaconda3\\Lib\\site-packages\\urllib3\\connectionpool.py:1056: InsecureRequestWarning: Unverified HTTPS request is being made to host 'omcs-global-customer-persister-ge4.omcs-nonprod.r1.pks.dell.com'. Adding certificate verification is strongly advised. See: https://urllib3.readthedocs.io/en/1.26.x/advanced-usage.html#ssl-warnings\n",
      "  warnings.warn(\n"
     ]
    },
    {
     "name": "stdout",
     "output_type": "stream",
     "text": [
      "<class 'str'>\n",
      "not null\n",
      "7040000447683\n",
      "count 5\n",
      "https://omcs-global-customer-persister-ge4.omcs-nonprod.r1.pks.dell.com/omcs-global-customer-persister/v1/Dashboard/GetWorkflowSteps?dpid=7040000447683\n"
     ]
    },
    {
     "name": "stderr",
     "output_type": "stream",
     "text": [
      "C:\\Users\\Satpum\\AppData\\Local\\anaconda3\\Lib\\site-packages\\urllib3\\connectionpool.py:1056: InsecureRequestWarning: Unverified HTTPS request is being made to host 'omcs-global-customer-persister-ge4.omcs-nonprod.r1.pks.dell.com'. Adding certificate verification is strongly advised. See: https://urllib3.readthedocs.io/en/1.26.x/advanced-usage.html#ssl-warnings\n",
      "  warnings.warn(\n"
     ]
    },
    {
     "name": "stdout",
     "output_type": "stream",
     "text": [
      "<class 'str'>\n",
      "not null\n",
      "1\n",
      "2\n",
      "3\n",
      "4\n",
      "5\n",
      "6\n",
      "7\n",
      "8\n",
      "9\n",
      "10\n",
      "11\n",
      "12\n",
      "13\n",
      "14\n",
      "15\n",
      "16\n",
      "17\n",
      "18\n",
      "19\n",
      "20\n",
      "21\n",
      "22\n",
      "23\n",
      "24\n",
      "25\n",
      "26\n",
      "27\n",
      "28\n",
      "29\n",
      "30\n",
      "31\n",
      "32\n",
      "33\n",
      "34\n",
      "35\n",
      "36\n",
      "37\n",
      "38\n",
      "39\n",
      "40\n",
      "41\n",
      "42\n",
      "43\n",
      "44\n",
      "==================dpidNull==========================\n",
      "./Data/Workflow/Output/ge4/Dashboard_Logs_ge4.json\n"
     ]
    }
   ],
   "source": [
    "# import requests\n",
    "# import pandas as pd\n",
    "# import os\n",
    "# import pandas as pd\n",
    "# import json\n",
    "\n",
    "# dashboardArray=[]\n",
    "# temp=[]\n",
    "# dpidNull=[]\n",
    "# dpidNotNull=[]\n",
    "# dashboardDf = pd.DataFrame()\n",
    "# count=0\n",
    "# for dpid in dpidsDF['dpid'].iloc[:5]:\n",
    "# #for dpid in ['7040000447687','7040000447687','7040000446370','7040000446374','7040000446375']: \n",
    "# #for dpid in ['7040000447687','7040000447687']: \n",
    "#     enviroment='ge4'\n",
    "#     print(dpid)\n",
    "#     count=count+1\n",
    "#     print(\"count\",count)\n",
    "#     # Specify the API URL we want to send our JSON to\n",
    "#     #https://omcs-global-customer-persister-prod-s3b.omcs-dr.s1.pks.dell.com/omcs-global-customer-persister/v1/Dashboard/GetWorkflowSteps?dpid=7400003912158\n",
    "#     url = 'https://omcs-global-customer-persister-ge4.omcs-nonprod.r1.pks.dell.com/omcs-global-customer-persister/v1/Dashboard/GetWorkflowSteps?dpid='+dpid.strip()\n",
    "#     print(url)\n",
    "#     # Specify the appropriate header for the POST request\n",
    "#     headers={'Content-Type':'application/json','Referer':'strict-origin-when-cross-origin','Authorization': 'allaccesskey'}\n",
    "#     # Specify the JSON data we want to send\n",
    "#     #data = '{\"url\":\"https://omcs-global-customer-persister-ge4.omcs-nonprod.r1.pks.dell.com/omcs-global-customer-persister/v1/Dashboard/GetWorkflowSteps?dpid=7040000447610\"}'\n",
    "#     result = requests.get(url,headers=headers,verify=False)\n",
    "#     print(type(result.text))\n",
    "#     if len(result.text) > 2:\n",
    "#         print('not null')\n",
    "#         # Load the JSON array string into a Python list\n",
    "#         data = json.loads(result.text)\n",
    "#         # Create a DataFrame from the list\n",
    "#         dashboardArray.append(data)\n",
    "#         dpidNotNull.append(dpid)\n",
    "#     else:\n",
    "#         print('null'+dpid)\n",
    "#         dpidNull.append(dpid)\n",
    "\n",
    "\n",
    "# dashboardDf = pd.DataFrame(dashboardArray)\n",
    "\n",
    "# dfFinal = pd.DataFrame()\n",
    "# dfFinal1 = pd.DataFrame()\n",
    "# for index,row in dashboardDf.iterrows():\n",
    "#     for j in row:\n",
    "#         dfFinal = pd.concat([dfFinal, pd.DataFrame([j])], ignore_index=True)\n",
    "#         print(len(dfFinal))\n",
    "# # Display the updated dataframe\n",
    "# #print(dfFinal)\n",
    "\n",
    "\n",
    "# print('==================dpidNull==========================')\n",
    "# #print(len(dpidNotNull))\n",
    "\n",
    "\n",
    "# directoryName='./Data/Workflow/Output/'+enviroment+'/'\n",
    "# fileName='Dashboard_Logs_'+enviroment+'.json'\n",
    "# if not os.path.exists(directoryName):\n",
    "#     os.makedirs(directoryName)\n",
    "\n",
    "# print(directoryName+fileName)\n",
    "# dfFinal.to_json(directoryName+fileName,orient='records')"
   ]
  },
  {
   "cell_type": "code",
   "execution_count": 13,
   "id": "5595f132",
   "metadata": {},
   "outputs": [
    {
     "name": "stdout",
     "output_type": "stream",
     "text": [
      "7040000447687\n",
      "count 1\n",
      "https://omcs-global-customer-persister-ge4.omcs-nonprod.r1.pks.dell.com/omcs-global-customer-persister/v1/Dashboard/GetWorkflowSteps?dpid=7040000447687\n"
     ]
    },
    {
     "name": "stderr",
     "output_type": "stream",
     "text": [
      "C:\\Users\\Satpum\\AppData\\Local\\anaconda3\\Lib\\site-packages\\urllib3\\connectionpool.py:1056: InsecureRequestWarning: Unverified HTTPS request is being made to host 'omcs-global-customer-persister-ge4.omcs-nonprod.r1.pks.dell.com'. Adding certificate verification is strongly advised. See: https://urllib3.readthedocs.io/en/1.26.x/advanced-usage.html#ssl-warnings\n",
      "  warnings.warn(\n"
     ]
    },
    {
     "name": "stdout",
     "output_type": "stream",
     "text": [
      "not null\n",
      "7040000447686\n",
      "count 2\n",
      "https://omcs-global-customer-persister-ge4.omcs-nonprod.r1.pks.dell.com/omcs-global-customer-persister/v1/Dashboard/GetWorkflowSteps?dpid=7040000447686\n"
     ]
    },
    {
     "name": "stderr",
     "output_type": "stream",
     "text": [
      "C:\\Users\\Satpum\\AppData\\Local\\anaconda3\\Lib\\site-packages\\urllib3\\connectionpool.py:1056: InsecureRequestWarning: Unverified HTTPS request is being made to host 'omcs-global-customer-persister-ge4.omcs-nonprod.r1.pks.dell.com'. Adding certificate verification is strongly advised. See: https://urllib3.readthedocs.io/en/1.26.x/advanced-usage.html#ssl-warnings\n",
      "  warnings.warn(\n"
     ]
    },
    {
     "name": "stdout",
     "output_type": "stream",
     "text": [
      "null7040000447686\n",
      "7040000447685\n",
      "count 3\n",
      "https://omcs-global-customer-persister-ge4.omcs-nonprod.r1.pks.dell.com/omcs-global-customer-persister/v1/Dashboard/GetWorkflowSteps?dpid=7040000447685\n"
     ]
    },
    {
     "name": "stderr",
     "output_type": "stream",
     "text": [
      "C:\\Users\\Satpum\\AppData\\Local\\anaconda3\\Lib\\site-packages\\urllib3\\connectionpool.py:1056: InsecureRequestWarning: Unverified HTTPS request is being made to host 'omcs-global-customer-persister-ge4.omcs-nonprod.r1.pks.dell.com'. Adding certificate verification is strongly advised. See: https://urllib3.readthedocs.io/en/1.26.x/advanced-usage.html#ssl-warnings\n",
      "  warnings.warn(\n"
     ]
    },
    {
     "name": "stdout",
     "output_type": "stream",
     "text": [
      "not null\n",
      "7040000447684\n",
      "count 4\n",
      "https://omcs-global-customer-persister-ge4.omcs-nonprod.r1.pks.dell.com/omcs-global-customer-persister/v1/Dashboard/GetWorkflowSteps?dpid=7040000447684\n"
     ]
    },
    {
     "name": "stderr",
     "output_type": "stream",
     "text": [
      "C:\\Users\\Satpum\\AppData\\Local\\anaconda3\\Lib\\site-packages\\urllib3\\connectionpool.py:1056: InsecureRequestWarning: Unverified HTTPS request is being made to host 'omcs-global-customer-persister-ge4.omcs-nonprod.r1.pks.dell.com'. Adding certificate verification is strongly advised. See: https://urllib3.readthedocs.io/en/1.26.x/advanced-usage.html#ssl-warnings\n",
      "  warnings.warn(\n"
     ]
    },
    {
     "name": "stdout",
     "output_type": "stream",
     "text": [
      "not null\n",
      "7040000447683\n",
      "count 5\n",
      "https://omcs-global-customer-persister-ge4.omcs-nonprod.r1.pks.dell.com/omcs-global-customer-persister/v1/Dashboard/GetWorkflowSteps?dpid=7040000447683\n"
     ]
    },
    {
     "name": "stderr",
     "output_type": "stream",
     "text": [
      "C:\\Users\\Satpum\\AppData\\Local\\anaconda3\\Lib\\site-packages\\urllib3\\connectionpool.py:1056: InsecureRequestWarning: Unverified HTTPS request is being made to host 'omcs-global-customer-persister-ge4.omcs-nonprod.r1.pks.dell.com'. Adding certificate verification is strongly advised. See: https://urllib3.readthedocs.io/en/1.26.x/advanced-usage.html#ssl-warnings\n",
      "  warnings.warn(\n"
     ]
    },
    {
     "name": "stdout",
     "output_type": "stream",
     "text": [
      "not null\n",
      "7040000447682\n",
      "count 6\n",
      "https://omcs-global-customer-persister-ge4.omcs-nonprod.r1.pks.dell.com/omcs-global-customer-persister/v1/Dashboard/GetWorkflowSteps?dpid=7040000447682\n"
     ]
    },
    {
     "name": "stderr",
     "output_type": "stream",
     "text": [
      "C:\\Users\\Satpum\\AppData\\Local\\anaconda3\\Lib\\site-packages\\urllib3\\connectionpool.py:1056: InsecureRequestWarning: Unverified HTTPS request is being made to host 'omcs-global-customer-persister-ge4.omcs-nonprod.r1.pks.dell.com'. Adding certificate verification is strongly advised. See: https://urllib3.readthedocs.io/en/1.26.x/advanced-usage.html#ssl-warnings\n",
      "  warnings.warn(\n"
     ]
    },
    {
     "name": "stdout",
     "output_type": "stream",
     "text": [
      "not null\n",
      "7040000447681\n",
      "count 7\n",
      "https://omcs-global-customer-persister-ge4.omcs-nonprod.r1.pks.dell.com/omcs-global-customer-persister/v1/Dashboard/GetWorkflowSteps?dpid=7040000447681\n"
     ]
    },
    {
     "name": "stderr",
     "output_type": "stream",
     "text": [
      "C:\\Users\\Satpum\\AppData\\Local\\anaconda3\\Lib\\site-packages\\urllib3\\connectionpool.py:1056: InsecureRequestWarning: Unverified HTTPS request is being made to host 'omcs-global-customer-persister-ge4.omcs-nonprod.r1.pks.dell.com'. Adding certificate verification is strongly advised. See: https://urllib3.readthedocs.io/en/1.26.x/advanced-usage.html#ssl-warnings\n",
      "  warnings.warn(\n"
     ]
    },
    {
     "name": "stdout",
     "output_type": "stream",
     "text": [
      "not null\n",
      "7040000447680\n",
      "count 8\n",
      "https://omcs-global-customer-persister-ge4.omcs-nonprod.r1.pks.dell.com/omcs-global-customer-persister/v1/Dashboard/GetWorkflowSteps?dpid=7040000447680\n"
     ]
    },
    {
     "name": "stderr",
     "output_type": "stream",
     "text": [
      "C:\\Users\\Satpum\\AppData\\Local\\anaconda3\\Lib\\site-packages\\urllib3\\connectionpool.py:1056: InsecureRequestWarning: Unverified HTTPS request is being made to host 'omcs-global-customer-persister-ge4.omcs-nonprod.r1.pks.dell.com'. Adding certificate verification is strongly advised. See: https://urllib3.readthedocs.io/en/1.26.x/advanced-usage.html#ssl-warnings\n",
      "  warnings.warn(\n"
     ]
    },
    {
     "name": "stdout",
     "output_type": "stream",
     "text": [
      "not null\n",
      "7040000447679\n",
      "count 9\n",
      "https://omcs-global-customer-persister-ge4.omcs-nonprod.r1.pks.dell.com/omcs-global-customer-persister/v1/Dashboard/GetWorkflowSteps?dpid=7040000447679\n"
     ]
    },
    {
     "name": "stderr",
     "output_type": "stream",
     "text": [
      "C:\\Users\\Satpum\\AppData\\Local\\anaconda3\\Lib\\site-packages\\urllib3\\connectionpool.py:1056: InsecureRequestWarning: Unverified HTTPS request is being made to host 'omcs-global-customer-persister-ge4.omcs-nonprod.r1.pks.dell.com'. Adding certificate verification is strongly advised. See: https://urllib3.readthedocs.io/en/1.26.x/advanced-usage.html#ssl-warnings\n",
      "  warnings.warn(\n"
     ]
    },
    {
     "name": "stdout",
     "output_type": "stream",
     "text": [
      "not null\n",
      "7040000447678\n",
      "count 10\n",
      "https://omcs-global-customer-persister-ge4.omcs-nonprod.r1.pks.dell.com/omcs-global-customer-persister/v1/Dashboard/GetWorkflowSteps?dpid=7040000447678\n"
     ]
    },
    {
     "name": "stderr",
     "output_type": "stream",
     "text": [
      "C:\\Users\\Satpum\\AppData\\Local\\anaconda3\\Lib\\site-packages\\urllib3\\connectionpool.py:1056: InsecureRequestWarning: Unverified HTTPS request is being made to host 'omcs-global-customer-persister-ge4.omcs-nonprod.r1.pks.dell.com'. Adding certificate verification is strongly advised. See: https://urllib3.readthedocs.io/en/1.26.x/advanced-usage.html#ssl-warnings\n",
      "  warnings.warn(\n"
     ]
    },
    {
     "name": "stdout",
     "output_type": "stream",
     "text": [
      "not null\n",
      "7040000447677\n",
      "count 11\n",
      "https://omcs-global-customer-persister-ge4.omcs-nonprod.r1.pks.dell.com/omcs-global-customer-persister/v1/Dashboard/GetWorkflowSteps?dpid=7040000447677\n"
     ]
    },
    {
     "name": "stderr",
     "output_type": "stream",
     "text": [
      "C:\\Users\\Satpum\\AppData\\Local\\anaconda3\\Lib\\site-packages\\urllib3\\connectionpool.py:1056: InsecureRequestWarning: Unverified HTTPS request is being made to host 'omcs-global-customer-persister-ge4.omcs-nonprod.r1.pks.dell.com'. Adding certificate verification is strongly advised. See: https://urllib3.readthedocs.io/en/1.26.x/advanced-usage.html#ssl-warnings\n",
      "  warnings.warn(\n"
     ]
    },
    {
     "name": "stdout",
     "output_type": "stream",
     "text": [
      "not null\n",
      "7040000447676\n",
      "count 12\n",
      "https://omcs-global-customer-persister-ge4.omcs-nonprod.r1.pks.dell.com/omcs-global-customer-persister/v1/Dashboard/GetWorkflowSteps?dpid=7040000447676\n"
     ]
    },
    {
     "name": "stderr",
     "output_type": "stream",
     "text": [
      "C:\\Users\\Satpum\\AppData\\Local\\anaconda3\\Lib\\site-packages\\urllib3\\connectionpool.py:1056: InsecureRequestWarning: Unverified HTTPS request is being made to host 'omcs-global-customer-persister-ge4.omcs-nonprod.r1.pks.dell.com'. Adding certificate verification is strongly advised. See: https://urllib3.readthedocs.io/en/1.26.x/advanced-usage.html#ssl-warnings\n",
      "  warnings.warn(\n"
     ]
    },
    {
     "name": "stdout",
     "output_type": "stream",
     "text": [
      "not null\n",
      "7040000447675\n",
      "count 13\n",
      "https://omcs-global-customer-persister-ge4.omcs-nonprod.r1.pks.dell.com/omcs-global-customer-persister/v1/Dashboard/GetWorkflowSteps?dpid=7040000447675\n"
     ]
    },
    {
     "name": "stderr",
     "output_type": "stream",
     "text": [
      "C:\\Users\\Satpum\\AppData\\Local\\anaconda3\\Lib\\site-packages\\urllib3\\connectionpool.py:1056: InsecureRequestWarning: Unverified HTTPS request is being made to host 'omcs-global-customer-persister-ge4.omcs-nonprod.r1.pks.dell.com'. Adding certificate verification is strongly advised. See: https://urllib3.readthedocs.io/en/1.26.x/advanced-usage.html#ssl-warnings\n",
      "  warnings.warn(\n"
     ]
    },
    {
     "name": "stdout",
     "output_type": "stream",
     "text": [
      "null7040000447675\n",
      "7040000447674\n",
      "count 14\n",
      "https://omcs-global-customer-persister-ge4.omcs-nonprod.r1.pks.dell.com/omcs-global-customer-persister/v1/Dashboard/GetWorkflowSteps?dpid=7040000447674\n"
     ]
    },
    {
     "name": "stderr",
     "output_type": "stream",
     "text": [
      "C:\\Users\\Satpum\\AppData\\Local\\anaconda3\\Lib\\site-packages\\urllib3\\connectionpool.py:1056: InsecureRequestWarning: Unverified HTTPS request is being made to host 'omcs-global-customer-persister-ge4.omcs-nonprod.r1.pks.dell.com'. Adding certificate verification is strongly advised. See: https://urllib3.readthedocs.io/en/1.26.x/advanced-usage.html#ssl-warnings\n",
      "  warnings.warn(\n"
     ]
    },
    {
     "name": "stdout",
     "output_type": "stream",
     "text": [
      "not null\n",
      "7040000447673\n",
      "count 15\n",
      "https://omcs-global-customer-persister-ge4.omcs-nonprod.r1.pks.dell.com/omcs-global-customer-persister/v1/Dashboard/GetWorkflowSteps?dpid=7040000447673\n"
     ]
    },
    {
     "name": "stderr",
     "output_type": "stream",
     "text": [
      "C:\\Users\\Satpum\\AppData\\Local\\anaconda3\\Lib\\site-packages\\urllib3\\connectionpool.py:1056: InsecureRequestWarning: Unverified HTTPS request is being made to host 'omcs-global-customer-persister-ge4.omcs-nonprod.r1.pks.dell.com'. Adding certificate verification is strongly advised. See: https://urllib3.readthedocs.io/en/1.26.x/advanced-usage.html#ssl-warnings\n",
      "  warnings.warn(\n"
     ]
    },
    {
     "name": "stdout",
     "output_type": "stream",
     "text": [
      "not null\n",
      "7040000447672\n",
      "count 16\n",
      "https://omcs-global-customer-persister-ge4.omcs-nonprod.r1.pks.dell.com/omcs-global-customer-persister/v1/Dashboard/GetWorkflowSteps?dpid=7040000447672\n"
     ]
    },
    {
     "name": "stderr",
     "output_type": "stream",
     "text": [
      "C:\\Users\\Satpum\\AppData\\Local\\anaconda3\\Lib\\site-packages\\urllib3\\connectionpool.py:1056: InsecureRequestWarning: Unverified HTTPS request is being made to host 'omcs-global-customer-persister-ge4.omcs-nonprod.r1.pks.dell.com'. Adding certificate verification is strongly advised. See: https://urllib3.readthedocs.io/en/1.26.x/advanced-usage.html#ssl-warnings\n",
      "  warnings.warn(\n"
     ]
    },
    {
     "name": "stdout",
     "output_type": "stream",
     "text": [
      "null7040000447672\n",
      "7040000447671\n",
      "count 17\n",
      "https://omcs-global-customer-persister-ge4.omcs-nonprod.r1.pks.dell.com/omcs-global-customer-persister/v1/Dashboard/GetWorkflowSteps?dpid=7040000447671\n"
     ]
    },
    {
     "name": "stderr",
     "output_type": "stream",
     "text": [
      "C:\\Users\\Satpum\\AppData\\Local\\anaconda3\\Lib\\site-packages\\urllib3\\connectionpool.py:1056: InsecureRequestWarning: Unverified HTTPS request is being made to host 'omcs-global-customer-persister-ge4.omcs-nonprod.r1.pks.dell.com'. Adding certificate verification is strongly advised. See: https://urllib3.readthedocs.io/en/1.26.x/advanced-usage.html#ssl-warnings\n",
      "  warnings.warn(\n"
     ]
    },
    {
     "name": "stdout",
     "output_type": "stream",
     "text": [
      "not null\n",
      "7040000447670\n",
      "count 18\n",
      "https://omcs-global-customer-persister-ge4.omcs-nonprod.r1.pks.dell.com/omcs-global-customer-persister/v1/Dashboard/GetWorkflowSteps?dpid=7040000447670\n"
     ]
    },
    {
     "name": "stderr",
     "output_type": "stream",
     "text": [
      "C:\\Users\\Satpum\\AppData\\Local\\anaconda3\\Lib\\site-packages\\urllib3\\connectionpool.py:1056: InsecureRequestWarning: Unverified HTTPS request is being made to host 'omcs-global-customer-persister-ge4.omcs-nonprod.r1.pks.dell.com'. Adding certificate verification is strongly advised. See: https://urllib3.readthedocs.io/en/1.26.x/advanced-usage.html#ssl-warnings\n",
      "  warnings.warn(\n"
     ]
    },
    {
     "name": "stdout",
     "output_type": "stream",
     "text": [
      "not null\n",
      "7040000447669\n",
      "count 19\n",
      "https://omcs-global-customer-persister-ge4.omcs-nonprod.r1.pks.dell.com/omcs-global-customer-persister/v1/Dashboard/GetWorkflowSteps?dpid=7040000447669\n"
     ]
    },
    {
     "name": "stderr",
     "output_type": "stream",
     "text": [
      "C:\\Users\\Satpum\\AppData\\Local\\anaconda3\\Lib\\site-packages\\urllib3\\connectionpool.py:1056: InsecureRequestWarning: Unverified HTTPS request is being made to host 'omcs-global-customer-persister-ge4.omcs-nonprod.r1.pks.dell.com'. Adding certificate verification is strongly advised. See: https://urllib3.readthedocs.io/en/1.26.x/advanced-usage.html#ssl-warnings\n",
      "  warnings.warn(\n"
     ]
    },
    {
     "name": "stdout",
     "output_type": "stream",
     "text": [
      "not null\n",
      "7040000447668\n",
      "count 20\n",
      "https://omcs-global-customer-persister-ge4.omcs-nonprod.r1.pks.dell.com/omcs-global-customer-persister/v1/Dashboard/GetWorkflowSteps?dpid=7040000447668\n"
     ]
    },
    {
     "name": "stderr",
     "output_type": "stream",
     "text": [
      "C:\\Users\\Satpum\\AppData\\Local\\anaconda3\\Lib\\site-packages\\urllib3\\connectionpool.py:1056: InsecureRequestWarning: Unverified HTTPS request is being made to host 'omcs-global-customer-persister-ge4.omcs-nonprod.r1.pks.dell.com'. Adding certificate verification is strongly advised. See: https://urllib3.readthedocs.io/en/1.26.x/advanced-usage.html#ssl-warnings\n",
      "  warnings.warn(\n"
     ]
    },
    {
     "name": "stdout",
     "output_type": "stream",
     "text": [
      "not null\n",
      "7040000447667\n",
      "count 21\n",
      "https://omcs-global-customer-persister-ge4.omcs-nonprod.r1.pks.dell.com/omcs-global-customer-persister/v1/Dashboard/GetWorkflowSteps?dpid=7040000447667\n"
     ]
    },
    {
     "name": "stderr",
     "output_type": "stream",
     "text": [
      "C:\\Users\\Satpum\\AppData\\Local\\anaconda3\\Lib\\site-packages\\urllib3\\connectionpool.py:1056: InsecureRequestWarning: Unverified HTTPS request is being made to host 'omcs-global-customer-persister-ge4.omcs-nonprod.r1.pks.dell.com'. Adding certificate verification is strongly advised. See: https://urllib3.readthedocs.io/en/1.26.x/advanced-usage.html#ssl-warnings\n",
      "  warnings.warn(\n"
     ]
    },
    {
     "name": "stdout",
     "output_type": "stream",
     "text": [
      "not null\n",
      "7040000447666\n",
      "count 22\n",
      "https://omcs-global-customer-persister-ge4.omcs-nonprod.r1.pks.dell.com/omcs-global-customer-persister/v1/Dashboard/GetWorkflowSteps?dpid=7040000447666\n"
     ]
    },
    {
     "name": "stderr",
     "output_type": "stream",
     "text": [
      "C:\\Users\\Satpum\\AppData\\Local\\anaconda3\\Lib\\site-packages\\urllib3\\connectionpool.py:1056: InsecureRequestWarning: Unverified HTTPS request is being made to host 'omcs-global-customer-persister-ge4.omcs-nonprod.r1.pks.dell.com'. Adding certificate verification is strongly advised. See: https://urllib3.readthedocs.io/en/1.26.x/advanced-usage.html#ssl-warnings\n",
      "  warnings.warn(\n"
     ]
    },
    {
     "name": "stdout",
     "output_type": "stream",
     "text": [
      "not null\n",
      "7040000447665\n",
      "count 23\n",
      "https://omcs-global-customer-persister-ge4.omcs-nonprod.r1.pks.dell.com/omcs-global-customer-persister/v1/Dashboard/GetWorkflowSteps?dpid=7040000447665\n"
     ]
    },
    {
     "name": "stderr",
     "output_type": "stream",
     "text": [
      "C:\\Users\\Satpum\\AppData\\Local\\anaconda3\\Lib\\site-packages\\urllib3\\connectionpool.py:1056: InsecureRequestWarning: Unverified HTTPS request is being made to host 'omcs-global-customer-persister-ge4.omcs-nonprod.r1.pks.dell.com'. Adding certificate verification is strongly advised. See: https://urllib3.readthedocs.io/en/1.26.x/advanced-usage.html#ssl-warnings\n",
      "  warnings.warn(\n"
     ]
    },
    {
     "name": "stdout",
     "output_type": "stream",
     "text": [
      "not null\n",
      "7040000447664\n",
      "count 24\n",
      "https://omcs-global-customer-persister-ge4.omcs-nonprod.r1.pks.dell.com/omcs-global-customer-persister/v1/Dashboard/GetWorkflowSteps?dpid=7040000447664\n"
     ]
    },
    {
     "name": "stderr",
     "output_type": "stream",
     "text": [
      "C:\\Users\\Satpum\\AppData\\Local\\anaconda3\\Lib\\site-packages\\urllib3\\connectionpool.py:1056: InsecureRequestWarning: Unverified HTTPS request is being made to host 'omcs-global-customer-persister-ge4.omcs-nonprod.r1.pks.dell.com'. Adding certificate verification is strongly advised. See: https://urllib3.readthedocs.io/en/1.26.x/advanced-usage.html#ssl-warnings\n",
      "  warnings.warn(\n"
     ]
    },
    {
     "name": "stdout",
     "output_type": "stream",
     "text": [
      "null7040000447664\n",
      "7040000447663\n",
      "count 25\n",
      "https://omcs-global-customer-persister-ge4.omcs-nonprod.r1.pks.dell.com/omcs-global-customer-persister/v1/Dashboard/GetWorkflowSteps?dpid=7040000447663\n"
     ]
    },
    {
     "name": "stderr",
     "output_type": "stream",
     "text": [
      "C:\\Users\\Satpum\\AppData\\Local\\anaconda3\\Lib\\site-packages\\urllib3\\connectionpool.py:1056: InsecureRequestWarning: Unverified HTTPS request is being made to host 'omcs-global-customer-persister-ge4.omcs-nonprod.r1.pks.dell.com'. Adding certificate verification is strongly advised. See: https://urllib3.readthedocs.io/en/1.26.x/advanced-usage.html#ssl-warnings\n",
      "  warnings.warn(\n"
     ]
    },
    {
     "name": "stdout",
     "output_type": "stream",
     "text": [
      "null7040000447663\n",
      "7040000447662\n",
      "count 26\n",
      "https://omcs-global-customer-persister-ge4.omcs-nonprod.r1.pks.dell.com/omcs-global-customer-persister/v1/Dashboard/GetWorkflowSteps?dpid=7040000447662\n"
     ]
    },
    {
     "name": "stderr",
     "output_type": "stream",
     "text": [
      "C:\\Users\\Satpum\\AppData\\Local\\anaconda3\\Lib\\site-packages\\urllib3\\connectionpool.py:1056: InsecureRequestWarning: Unverified HTTPS request is being made to host 'omcs-global-customer-persister-ge4.omcs-nonprod.r1.pks.dell.com'. Adding certificate verification is strongly advised. See: https://urllib3.readthedocs.io/en/1.26.x/advanced-usage.html#ssl-warnings\n",
      "  warnings.warn(\n"
     ]
    },
    {
     "name": "stdout",
     "output_type": "stream",
     "text": [
      "null7040000447662\n",
      "7040000447661\n",
      "count 27\n",
      "https://omcs-global-customer-persister-ge4.omcs-nonprod.r1.pks.dell.com/omcs-global-customer-persister/v1/Dashboard/GetWorkflowSteps?dpid=7040000447661\n"
     ]
    },
    {
     "name": "stderr",
     "output_type": "stream",
     "text": [
      "C:\\Users\\Satpum\\AppData\\Local\\anaconda3\\Lib\\site-packages\\urllib3\\connectionpool.py:1056: InsecureRequestWarning: Unverified HTTPS request is being made to host 'omcs-global-customer-persister-ge4.omcs-nonprod.r1.pks.dell.com'. Adding certificate verification is strongly advised. See: https://urllib3.readthedocs.io/en/1.26.x/advanced-usage.html#ssl-warnings\n",
      "  warnings.warn(\n"
     ]
    },
    {
     "name": "stdout",
     "output_type": "stream",
     "text": [
      "not null\n",
      "7040000447660\n",
      "count 28\n",
      "https://omcs-global-customer-persister-ge4.omcs-nonprod.r1.pks.dell.com/omcs-global-customer-persister/v1/Dashboard/GetWorkflowSteps?dpid=7040000447660\n"
     ]
    },
    {
     "name": "stderr",
     "output_type": "stream",
     "text": [
      "C:\\Users\\Satpum\\AppData\\Local\\anaconda3\\Lib\\site-packages\\urllib3\\connectionpool.py:1056: InsecureRequestWarning: Unverified HTTPS request is being made to host 'omcs-global-customer-persister-ge4.omcs-nonprod.r1.pks.dell.com'. Adding certificate verification is strongly advised. See: https://urllib3.readthedocs.io/en/1.26.x/advanced-usage.html#ssl-warnings\n",
      "  warnings.warn(\n"
     ]
    },
    {
     "name": "stdout",
     "output_type": "stream",
     "text": [
      "null7040000447660\n",
      "7040000447659\n",
      "count 29\n",
      "https://omcs-global-customer-persister-ge4.omcs-nonprod.r1.pks.dell.com/omcs-global-customer-persister/v1/Dashboard/GetWorkflowSteps?dpid=7040000447659\n"
     ]
    },
    {
     "name": "stderr",
     "output_type": "stream",
     "text": [
      "C:\\Users\\Satpum\\AppData\\Local\\anaconda3\\Lib\\site-packages\\urllib3\\connectionpool.py:1056: InsecureRequestWarning: Unverified HTTPS request is being made to host 'omcs-global-customer-persister-ge4.omcs-nonprod.r1.pks.dell.com'. Adding certificate verification is strongly advised. See: https://urllib3.readthedocs.io/en/1.26.x/advanced-usage.html#ssl-warnings\n",
      "  warnings.warn(\n"
     ]
    },
    {
     "name": "stdout",
     "output_type": "stream",
     "text": [
      "not null\n",
      "7040000447658\n",
      "count 30\n",
      "https://omcs-global-customer-persister-ge4.omcs-nonprod.r1.pks.dell.com/omcs-global-customer-persister/v1/Dashboard/GetWorkflowSteps?dpid=7040000447658\n"
     ]
    },
    {
     "name": "stderr",
     "output_type": "stream",
     "text": [
      "C:\\Users\\Satpum\\AppData\\Local\\anaconda3\\Lib\\site-packages\\urllib3\\connectionpool.py:1056: InsecureRequestWarning: Unverified HTTPS request is being made to host 'omcs-global-customer-persister-ge4.omcs-nonprod.r1.pks.dell.com'. Adding certificate verification is strongly advised. See: https://urllib3.readthedocs.io/en/1.26.x/advanced-usage.html#ssl-warnings\n",
      "  warnings.warn(\n"
     ]
    },
    {
     "name": "stdout",
     "output_type": "stream",
     "text": [
      "not null\n",
      "7040000447657\n",
      "count 31\n",
      "https://omcs-global-customer-persister-ge4.omcs-nonprod.r1.pks.dell.com/omcs-global-customer-persister/v1/Dashboard/GetWorkflowSteps?dpid=7040000447657\n"
     ]
    },
    {
     "name": "stderr",
     "output_type": "stream",
     "text": [
      "C:\\Users\\Satpum\\AppData\\Local\\anaconda3\\Lib\\site-packages\\urllib3\\connectionpool.py:1056: InsecureRequestWarning: Unverified HTTPS request is being made to host 'omcs-global-customer-persister-ge4.omcs-nonprod.r1.pks.dell.com'. Adding certificate verification is strongly advised. See: https://urllib3.readthedocs.io/en/1.26.x/advanced-usage.html#ssl-warnings\n",
      "  warnings.warn(\n"
     ]
    },
    {
     "name": "stdout",
     "output_type": "stream",
     "text": [
      "null7040000447657\n",
      "7040000447656\n",
      "count 32\n",
      "https://omcs-global-customer-persister-ge4.omcs-nonprod.r1.pks.dell.com/omcs-global-customer-persister/v1/Dashboard/GetWorkflowSteps?dpid=7040000447656\n"
     ]
    },
    {
     "name": "stderr",
     "output_type": "stream",
     "text": [
      "C:\\Users\\Satpum\\AppData\\Local\\anaconda3\\Lib\\site-packages\\urllib3\\connectionpool.py:1056: InsecureRequestWarning: Unverified HTTPS request is being made to host 'omcs-global-customer-persister-ge4.omcs-nonprod.r1.pks.dell.com'. Adding certificate verification is strongly advised. See: https://urllib3.readthedocs.io/en/1.26.x/advanced-usage.html#ssl-warnings\n",
      "  warnings.warn(\n"
     ]
    },
    {
     "name": "stdout",
     "output_type": "stream",
     "text": [
      "null7040000447656\n",
      "7040000447655\n",
      "count 33\n",
      "https://omcs-global-customer-persister-ge4.omcs-nonprod.r1.pks.dell.com/omcs-global-customer-persister/v1/Dashboard/GetWorkflowSteps?dpid=7040000447655\n"
     ]
    },
    {
     "name": "stderr",
     "output_type": "stream",
     "text": [
      "C:\\Users\\Satpum\\AppData\\Local\\anaconda3\\Lib\\site-packages\\urllib3\\connectionpool.py:1056: InsecureRequestWarning: Unverified HTTPS request is being made to host 'omcs-global-customer-persister-ge4.omcs-nonprod.r1.pks.dell.com'. Adding certificate verification is strongly advised. See: https://urllib3.readthedocs.io/en/1.26.x/advanced-usage.html#ssl-warnings\n",
      "  warnings.warn(\n"
     ]
    },
    {
     "name": "stdout",
     "output_type": "stream",
     "text": [
      "null7040000447655\n",
      "7040000447654\n",
      "count 34\n",
      "https://omcs-global-customer-persister-ge4.omcs-nonprod.r1.pks.dell.com/omcs-global-customer-persister/v1/Dashboard/GetWorkflowSteps?dpid=7040000447654\n"
     ]
    },
    {
     "name": "stderr",
     "output_type": "stream",
     "text": [
      "C:\\Users\\Satpum\\AppData\\Local\\anaconda3\\Lib\\site-packages\\urllib3\\connectionpool.py:1056: InsecureRequestWarning: Unverified HTTPS request is being made to host 'omcs-global-customer-persister-ge4.omcs-nonprod.r1.pks.dell.com'. Adding certificate verification is strongly advised. See: https://urllib3.readthedocs.io/en/1.26.x/advanced-usage.html#ssl-warnings\n",
      "  warnings.warn(\n"
     ]
    },
    {
     "name": "stdout",
     "output_type": "stream",
     "text": [
      "not null\n",
      "7040000447653\n",
      "count 35\n",
      "https://omcs-global-customer-persister-ge4.omcs-nonprod.r1.pks.dell.com/omcs-global-customer-persister/v1/Dashboard/GetWorkflowSteps?dpid=7040000447653\n"
     ]
    },
    {
     "name": "stderr",
     "output_type": "stream",
     "text": [
      "C:\\Users\\Satpum\\AppData\\Local\\anaconda3\\Lib\\site-packages\\urllib3\\connectionpool.py:1056: InsecureRequestWarning: Unverified HTTPS request is being made to host 'omcs-global-customer-persister-ge4.omcs-nonprod.r1.pks.dell.com'. Adding certificate verification is strongly advised. See: https://urllib3.readthedocs.io/en/1.26.x/advanced-usage.html#ssl-warnings\n",
      "  warnings.warn(\n"
     ]
    },
    {
     "name": "stdout",
     "output_type": "stream",
     "text": [
      "not null\n",
      "7040000447652\n",
      "count 36\n",
      "https://omcs-global-customer-persister-ge4.omcs-nonprod.r1.pks.dell.com/omcs-global-customer-persister/v1/Dashboard/GetWorkflowSteps?dpid=7040000447652\n"
     ]
    },
    {
     "name": "stderr",
     "output_type": "stream",
     "text": [
      "C:\\Users\\Satpum\\AppData\\Local\\anaconda3\\Lib\\site-packages\\urllib3\\connectionpool.py:1056: InsecureRequestWarning: Unverified HTTPS request is being made to host 'omcs-global-customer-persister-ge4.omcs-nonprod.r1.pks.dell.com'. Adding certificate verification is strongly advised. See: https://urllib3.readthedocs.io/en/1.26.x/advanced-usage.html#ssl-warnings\n",
      "  warnings.warn(\n"
     ]
    },
    {
     "name": "stdout",
     "output_type": "stream",
     "text": [
      "not null\n",
      "7040000447651\n",
      "count 37\n",
      "https://omcs-global-customer-persister-ge4.omcs-nonprod.r1.pks.dell.com/omcs-global-customer-persister/v1/Dashboard/GetWorkflowSteps?dpid=7040000447651\n"
     ]
    },
    {
     "name": "stderr",
     "output_type": "stream",
     "text": [
      "C:\\Users\\Satpum\\AppData\\Local\\anaconda3\\Lib\\site-packages\\urllib3\\connectionpool.py:1056: InsecureRequestWarning: Unverified HTTPS request is being made to host 'omcs-global-customer-persister-ge4.omcs-nonprod.r1.pks.dell.com'. Adding certificate verification is strongly advised. See: https://urllib3.readthedocs.io/en/1.26.x/advanced-usage.html#ssl-warnings\n",
      "  warnings.warn(\n"
     ]
    },
    {
     "name": "stdout",
     "output_type": "stream",
     "text": [
      "null7040000447651\n",
      "7040000447650\n",
      "count 38\n",
      "https://omcs-global-customer-persister-ge4.omcs-nonprod.r1.pks.dell.com/omcs-global-customer-persister/v1/Dashboard/GetWorkflowSteps?dpid=7040000447650\n"
     ]
    },
    {
     "name": "stderr",
     "output_type": "stream",
     "text": [
      "C:\\Users\\Satpum\\AppData\\Local\\anaconda3\\Lib\\site-packages\\urllib3\\connectionpool.py:1056: InsecureRequestWarning: Unverified HTTPS request is being made to host 'omcs-global-customer-persister-ge4.omcs-nonprod.r1.pks.dell.com'. Adding certificate verification is strongly advised. See: https://urllib3.readthedocs.io/en/1.26.x/advanced-usage.html#ssl-warnings\n",
      "  warnings.warn(\n"
     ]
    },
    {
     "name": "stdout",
     "output_type": "stream",
     "text": [
      "null7040000447650\n",
      "7040000447649\n",
      "count 39\n",
      "https://omcs-global-customer-persister-ge4.omcs-nonprod.r1.pks.dell.com/omcs-global-customer-persister/v1/Dashboard/GetWorkflowSteps?dpid=7040000447649\n"
     ]
    },
    {
     "name": "stderr",
     "output_type": "stream",
     "text": [
      "C:\\Users\\Satpum\\AppData\\Local\\anaconda3\\Lib\\site-packages\\urllib3\\connectionpool.py:1056: InsecureRequestWarning: Unverified HTTPS request is being made to host 'omcs-global-customer-persister-ge4.omcs-nonprod.r1.pks.dell.com'. Adding certificate verification is strongly advised. See: https://urllib3.readthedocs.io/en/1.26.x/advanced-usage.html#ssl-warnings\n",
      "  warnings.warn(\n"
     ]
    },
    {
     "name": "stdout",
     "output_type": "stream",
     "text": [
      "null7040000447649\n",
      "7040000447648\n",
      "count 40\n",
      "https://omcs-global-customer-persister-ge4.omcs-nonprod.r1.pks.dell.com/omcs-global-customer-persister/v1/Dashboard/GetWorkflowSteps?dpid=7040000447648\n"
     ]
    },
    {
     "name": "stderr",
     "output_type": "stream",
     "text": [
      "C:\\Users\\Satpum\\AppData\\Local\\anaconda3\\Lib\\site-packages\\urllib3\\connectionpool.py:1056: InsecureRequestWarning: Unverified HTTPS request is being made to host 'omcs-global-customer-persister-ge4.omcs-nonprod.r1.pks.dell.com'. Adding certificate verification is strongly advised. See: https://urllib3.readthedocs.io/en/1.26.x/advanced-usage.html#ssl-warnings\n",
      "  warnings.warn(\n"
     ]
    },
    {
     "name": "stdout",
     "output_type": "stream",
     "text": [
      "null7040000447648\n",
      "7040000447647\n",
      "count 41\n",
      "https://omcs-global-customer-persister-ge4.omcs-nonprod.r1.pks.dell.com/omcs-global-customer-persister/v1/Dashboard/GetWorkflowSteps?dpid=7040000447647\n"
     ]
    },
    {
     "name": "stderr",
     "output_type": "stream",
     "text": [
      "C:\\Users\\Satpum\\AppData\\Local\\anaconda3\\Lib\\site-packages\\urllib3\\connectionpool.py:1056: InsecureRequestWarning: Unverified HTTPS request is being made to host 'omcs-global-customer-persister-ge4.omcs-nonprod.r1.pks.dell.com'. Adding certificate verification is strongly advised. See: https://urllib3.readthedocs.io/en/1.26.x/advanced-usage.html#ssl-warnings\n",
      "  warnings.warn(\n"
     ]
    },
    {
     "name": "stdout",
     "output_type": "stream",
     "text": [
      "not null\n",
      "7040000447646\n",
      "count 42\n",
      "https://omcs-global-customer-persister-ge4.omcs-nonprod.r1.pks.dell.com/omcs-global-customer-persister/v1/Dashboard/GetWorkflowSteps?dpid=7040000447646\n"
     ]
    },
    {
     "name": "stderr",
     "output_type": "stream",
     "text": [
      "C:\\Users\\Satpum\\AppData\\Local\\anaconda3\\Lib\\site-packages\\urllib3\\connectionpool.py:1056: InsecureRequestWarning: Unverified HTTPS request is being made to host 'omcs-global-customer-persister-ge4.omcs-nonprod.r1.pks.dell.com'. Adding certificate verification is strongly advised. See: https://urllib3.readthedocs.io/en/1.26.x/advanced-usage.html#ssl-warnings\n",
      "  warnings.warn(\n"
     ]
    },
    {
     "name": "stdout",
     "output_type": "stream",
     "text": [
      "not null\n",
      "7040000447645\n",
      "count 43\n",
      "https://omcs-global-customer-persister-ge4.omcs-nonprod.r1.pks.dell.com/omcs-global-customer-persister/v1/Dashboard/GetWorkflowSteps?dpid=7040000447645\n"
     ]
    },
    {
     "name": "stderr",
     "output_type": "stream",
     "text": [
      "C:\\Users\\Satpum\\AppData\\Local\\anaconda3\\Lib\\site-packages\\urllib3\\connectionpool.py:1056: InsecureRequestWarning: Unverified HTTPS request is being made to host 'omcs-global-customer-persister-ge4.omcs-nonprod.r1.pks.dell.com'. Adding certificate verification is strongly advised. See: https://urllib3.readthedocs.io/en/1.26.x/advanced-usage.html#ssl-warnings\n",
      "  warnings.warn(\n"
     ]
    },
    {
     "name": "stdout",
     "output_type": "stream",
     "text": [
      "null7040000447645\n",
      "7040000447644\n",
      "count 44\n",
      "https://omcs-global-customer-persister-ge4.omcs-nonprod.r1.pks.dell.com/omcs-global-customer-persister/v1/Dashboard/GetWorkflowSteps?dpid=7040000447644\n"
     ]
    },
    {
     "name": "stderr",
     "output_type": "stream",
     "text": [
      "C:\\Users\\Satpum\\AppData\\Local\\anaconda3\\Lib\\site-packages\\urllib3\\connectionpool.py:1056: InsecureRequestWarning: Unverified HTTPS request is being made to host 'omcs-global-customer-persister-ge4.omcs-nonprod.r1.pks.dell.com'. Adding certificate verification is strongly advised. See: https://urllib3.readthedocs.io/en/1.26.x/advanced-usage.html#ssl-warnings\n",
      "  warnings.warn(\n"
     ]
    },
    {
     "name": "stdout",
     "output_type": "stream",
     "text": [
      "null7040000447644\n",
      "7040000447643\n",
      "count 45\n",
      "https://omcs-global-customer-persister-ge4.omcs-nonprod.r1.pks.dell.com/omcs-global-customer-persister/v1/Dashboard/GetWorkflowSteps?dpid=7040000447643\n"
     ]
    },
    {
     "name": "stderr",
     "output_type": "stream",
     "text": [
      "C:\\Users\\Satpum\\AppData\\Local\\anaconda3\\Lib\\site-packages\\urllib3\\connectionpool.py:1056: InsecureRequestWarning: Unverified HTTPS request is being made to host 'omcs-global-customer-persister-ge4.omcs-nonprod.r1.pks.dell.com'. Adding certificate verification is strongly advised. See: https://urllib3.readthedocs.io/en/1.26.x/advanced-usage.html#ssl-warnings\n",
      "  warnings.warn(\n"
     ]
    },
    {
     "name": "stdout",
     "output_type": "stream",
     "text": [
      "not null\n",
      "7040000447642\n",
      "count 46\n",
      "https://omcs-global-customer-persister-ge4.omcs-nonprod.r1.pks.dell.com/omcs-global-customer-persister/v1/Dashboard/GetWorkflowSteps?dpid=7040000447642\n"
     ]
    },
    {
     "name": "stderr",
     "output_type": "stream",
     "text": [
      "C:\\Users\\Satpum\\AppData\\Local\\anaconda3\\Lib\\site-packages\\urllib3\\connectionpool.py:1056: InsecureRequestWarning: Unverified HTTPS request is being made to host 'omcs-global-customer-persister-ge4.omcs-nonprod.r1.pks.dell.com'. Adding certificate verification is strongly advised. See: https://urllib3.readthedocs.io/en/1.26.x/advanced-usage.html#ssl-warnings\n",
      "  warnings.warn(\n"
     ]
    },
    {
     "name": "stdout",
     "output_type": "stream",
     "text": [
      "not null\n",
      "7040000447641\n",
      "count 47\n",
      "https://omcs-global-customer-persister-ge4.omcs-nonprod.r1.pks.dell.com/omcs-global-customer-persister/v1/Dashboard/GetWorkflowSteps?dpid=7040000447641\n"
     ]
    },
    {
     "name": "stderr",
     "output_type": "stream",
     "text": [
      "C:\\Users\\Satpum\\AppData\\Local\\anaconda3\\Lib\\site-packages\\urllib3\\connectionpool.py:1056: InsecureRequestWarning: Unverified HTTPS request is being made to host 'omcs-global-customer-persister-ge4.omcs-nonprod.r1.pks.dell.com'. Adding certificate verification is strongly advised. See: https://urllib3.readthedocs.io/en/1.26.x/advanced-usage.html#ssl-warnings\n",
      "  warnings.warn(\n"
     ]
    },
    {
     "name": "stdout",
     "output_type": "stream",
     "text": [
      "not null\n",
      "7040000447640\n",
      "count 48\n",
      "https://omcs-global-customer-persister-ge4.omcs-nonprod.r1.pks.dell.com/omcs-global-customer-persister/v1/Dashboard/GetWorkflowSteps?dpid=7040000447640\n"
     ]
    },
    {
     "name": "stderr",
     "output_type": "stream",
     "text": [
      "C:\\Users\\Satpum\\AppData\\Local\\anaconda3\\Lib\\site-packages\\urllib3\\connectionpool.py:1056: InsecureRequestWarning: Unverified HTTPS request is being made to host 'omcs-global-customer-persister-ge4.omcs-nonprod.r1.pks.dell.com'. Adding certificate verification is strongly advised. See: https://urllib3.readthedocs.io/en/1.26.x/advanced-usage.html#ssl-warnings\n",
      "  warnings.warn(\n"
     ]
    },
    {
     "name": "stdout",
     "output_type": "stream",
     "text": [
      "not null\n",
      "7040000447639\n",
      "count 49\n",
      "https://omcs-global-customer-persister-ge4.omcs-nonprod.r1.pks.dell.com/omcs-global-customer-persister/v1/Dashboard/GetWorkflowSteps?dpid=7040000447639\n"
     ]
    },
    {
     "name": "stderr",
     "output_type": "stream",
     "text": [
      "C:\\Users\\Satpum\\AppData\\Local\\anaconda3\\Lib\\site-packages\\urllib3\\connectionpool.py:1056: InsecureRequestWarning: Unverified HTTPS request is being made to host 'omcs-global-customer-persister-ge4.omcs-nonprod.r1.pks.dell.com'. Adding certificate verification is strongly advised. See: https://urllib3.readthedocs.io/en/1.26.x/advanced-usage.html#ssl-warnings\n",
      "  warnings.warn(\n"
     ]
    },
    {
     "name": "stdout",
     "output_type": "stream",
     "text": [
      "not null\n",
      "7040000447638\n",
      "count 50\n",
      "https://omcs-global-customer-persister-ge4.omcs-nonprod.r1.pks.dell.com/omcs-global-customer-persister/v1/Dashboard/GetWorkflowSteps?dpid=7040000447638\n"
     ]
    },
    {
     "name": "stderr",
     "output_type": "stream",
     "text": [
      "C:\\Users\\Satpum\\AppData\\Local\\anaconda3\\Lib\\site-packages\\urllib3\\connectionpool.py:1056: InsecureRequestWarning: Unverified HTTPS request is being made to host 'omcs-global-customer-persister-ge4.omcs-nonprod.r1.pks.dell.com'. Adding certificate verification is strongly advised. See: https://urllib3.readthedocs.io/en/1.26.x/advanced-usage.html#ssl-warnings\n",
      "  warnings.warn(\n"
     ]
    },
    {
     "name": "stdout",
     "output_type": "stream",
     "text": [
      "null7040000447638\n",
      "7040000447637\n",
      "count 51\n",
      "https://omcs-global-customer-persister-ge4.omcs-nonprod.r1.pks.dell.com/omcs-global-customer-persister/v1/Dashboard/GetWorkflowSteps?dpid=7040000447637\n"
     ]
    },
    {
     "name": "stderr",
     "output_type": "stream",
     "text": [
      "C:\\Users\\Satpum\\AppData\\Local\\anaconda3\\Lib\\site-packages\\urllib3\\connectionpool.py:1056: InsecureRequestWarning: Unverified HTTPS request is being made to host 'omcs-global-customer-persister-ge4.omcs-nonprod.r1.pks.dell.com'. Adding certificate verification is strongly advised. See: https://urllib3.readthedocs.io/en/1.26.x/advanced-usage.html#ssl-warnings\n",
      "  warnings.warn(\n"
     ]
    },
    {
     "name": "stdout",
     "output_type": "stream",
     "text": [
      "null7040000447637\n",
      "7040000447636\n",
      "count 52\n",
      "https://omcs-global-customer-persister-ge4.omcs-nonprod.r1.pks.dell.com/omcs-global-customer-persister/v1/Dashboard/GetWorkflowSteps?dpid=7040000447636\n"
     ]
    },
    {
     "name": "stderr",
     "output_type": "stream",
     "text": [
      "C:\\Users\\Satpum\\AppData\\Local\\anaconda3\\Lib\\site-packages\\urllib3\\connectionpool.py:1056: InsecureRequestWarning: Unverified HTTPS request is being made to host 'omcs-global-customer-persister-ge4.omcs-nonprod.r1.pks.dell.com'. Adding certificate verification is strongly advised. See: https://urllib3.readthedocs.io/en/1.26.x/advanced-usage.html#ssl-warnings\n",
      "  warnings.warn(\n"
     ]
    },
    {
     "name": "stdout",
     "output_type": "stream",
     "text": [
      "not null\n",
      "7040000447635\n",
      "count 53\n",
      "https://omcs-global-customer-persister-ge4.omcs-nonprod.r1.pks.dell.com/omcs-global-customer-persister/v1/Dashboard/GetWorkflowSteps?dpid=7040000447635\n"
     ]
    },
    {
     "name": "stderr",
     "output_type": "stream",
     "text": [
      "C:\\Users\\Satpum\\AppData\\Local\\anaconda3\\Lib\\site-packages\\urllib3\\connectionpool.py:1056: InsecureRequestWarning: Unverified HTTPS request is being made to host 'omcs-global-customer-persister-ge4.omcs-nonprod.r1.pks.dell.com'. Adding certificate verification is strongly advised. See: https://urllib3.readthedocs.io/en/1.26.x/advanced-usage.html#ssl-warnings\n",
      "  warnings.warn(\n"
     ]
    },
    {
     "name": "stdout",
     "output_type": "stream",
     "text": [
      "not null\n",
      "7040000447634\n",
      "count 54\n",
      "https://omcs-global-customer-persister-ge4.omcs-nonprod.r1.pks.dell.com/omcs-global-customer-persister/v1/Dashboard/GetWorkflowSteps?dpid=7040000447634\n"
     ]
    },
    {
     "name": "stderr",
     "output_type": "stream",
     "text": [
      "C:\\Users\\Satpum\\AppData\\Local\\anaconda3\\Lib\\site-packages\\urllib3\\connectionpool.py:1056: InsecureRequestWarning: Unverified HTTPS request is being made to host 'omcs-global-customer-persister-ge4.omcs-nonprod.r1.pks.dell.com'. Adding certificate verification is strongly advised. See: https://urllib3.readthedocs.io/en/1.26.x/advanced-usage.html#ssl-warnings\n",
      "  warnings.warn(\n"
     ]
    },
    {
     "name": "stdout",
     "output_type": "stream",
     "text": [
      "not null\n",
      "7040000447633\n",
      "count 55\n",
      "https://omcs-global-customer-persister-ge4.omcs-nonprod.r1.pks.dell.com/omcs-global-customer-persister/v1/Dashboard/GetWorkflowSteps?dpid=7040000447633\n"
     ]
    },
    {
     "name": "stderr",
     "output_type": "stream",
     "text": [
      "C:\\Users\\Satpum\\AppData\\Local\\anaconda3\\Lib\\site-packages\\urllib3\\connectionpool.py:1056: InsecureRequestWarning: Unverified HTTPS request is being made to host 'omcs-global-customer-persister-ge4.omcs-nonprod.r1.pks.dell.com'. Adding certificate verification is strongly advised. See: https://urllib3.readthedocs.io/en/1.26.x/advanced-usage.html#ssl-warnings\n",
      "  warnings.warn(\n"
     ]
    },
    {
     "name": "stdout",
     "output_type": "stream",
     "text": [
      "not null\n",
      "7040000447632\n",
      "count 56\n",
      "https://omcs-global-customer-persister-ge4.omcs-nonprod.r1.pks.dell.com/omcs-global-customer-persister/v1/Dashboard/GetWorkflowSteps?dpid=7040000447632\n"
     ]
    },
    {
     "name": "stderr",
     "output_type": "stream",
     "text": [
      "C:\\Users\\Satpum\\AppData\\Local\\anaconda3\\Lib\\site-packages\\urllib3\\connectionpool.py:1056: InsecureRequestWarning: Unverified HTTPS request is being made to host 'omcs-global-customer-persister-ge4.omcs-nonprod.r1.pks.dell.com'. Adding certificate verification is strongly advised. See: https://urllib3.readthedocs.io/en/1.26.x/advanced-usage.html#ssl-warnings\n",
      "  warnings.warn(\n"
     ]
    },
    {
     "name": "stdout",
     "output_type": "stream",
     "text": [
      "not null\n",
      "7040000447631\n",
      "count 57\n",
      "https://omcs-global-customer-persister-ge4.omcs-nonprod.r1.pks.dell.com/omcs-global-customer-persister/v1/Dashboard/GetWorkflowSteps?dpid=7040000447631\n"
     ]
    },
    {
     "name": "stderr",
     "output_type": "stream",
     "text": [
      "C:\\Users\\Satpum\\AppData\\Local\\anaconda3\\Lib\\site-packages\\urllib3\\connectionpool.py:1056: InsecureRequestWarning: Unverified HTTPS request is being made to host 'omcs-global-customer-persister-ge4.omcs-nonprod.r1.pks.dell.com'. Adding certificate verification is strongly advised. See: https://urllib3.readthedocs.io/en/1.26.x/advanced-usage.html#ssl-warnings\n",
      "  warnings.warn(\n"
     ]
    },
    {
     "name": "stdout",
     "output_type": "stream",
     "text": [
      "not null\n",
      "7040000447630\n",
      "count 58\n",
      "https://omcs-global-customer-persister-ge4.omcs-nonprod.r1.pks.dell.com/omcs-global-customer-persister/v1/Dashboard/GetWorkflowSteps?dpid=7040000447630\n"
     ]
    },
    {
     "name": "stderr",
     "output_type": "stream",
     "text": [
      "C:\\Users\\Satpum\\AppData\\Local\\anaconda3\\Lib\\site-packages\\urllib3\\connectionpool.py:1056: InsecureRequestWarning: Unverified HTTPS request is being made to host 'omcs-global-customer-persister-ge4.omcs-nonprod.r1.pks.dell.com'. Adding certificate verification is strongly advised. See: https://urllib3.readthedocs.io/en/1.26.x/advanced-usage.html#ssl-warnings\n",
      "  warnings.warn(\n"
     ]
    },
    {
     "name": "stdout",
     "output_type": "stream",
     "text": [
      "not null\n",
      "7040000447629\n",
      "count 59\n",
      "https://omcs-global-customer-persister-ge4.omcs-nonprod.r1.pks.dell.com/omcs-global-customer-persister/v1/Dashboard/GetWorkflowSteps?dpid=7040000447629\n"
     ]
    },
    {
     "name": "stderr",
     "output_type": "stream",
     "text": [
      "C:\\Users\\Satpum\\AppData\\Local\\anaconda3\\Lib\\site-packages\\urllib3\\connectionpool.py:1056: InsecureRequestWarning: Unverified HTTPS request is being made to host 'omcs-global-customer-persister-ge4.omcs-nonprod.r1.pks.dell.com'. Adding certificate verification is strongly advised. See: https://urllib3.readthedocs.io/en/1.26.x/advanced-usage.html#ssl-warnings\n",
      "  warnings.warn(\n"
     ]
    },
    {
     "name": "stdout",
     "output_type": "stream",
     "text": [
      "not null\n",
      "7040000447628\n",
      "count 60\n",
      "https://omcs-global-customer-persister-ge4.omcs-nonprod.r1.pks.dell.com/omcs-global-customer-persister/v1/Dashboard/GetWorkflowSteps?dpid=7040000447628\n"
     ]
    },
    {
     "name": "stderr",
     "output_type": "stream",
     "text": [
      "C:\\Users\\Satpum\\AppData\\Local\\anaconda3\\Lib\\site-packages\\urllib3\\connectionpool.py:1056: InsecureRequestWarning: Unverified HTTPS request is being made to host 'omcs-global-customer-persister-ge4.omcs-nonprod.r1.pks.dell.com'. Adding certificate verification is strongly advised. See: https://urllib3.readthedocs.io/en/1.26.x/advanced-usage.html#ssl-warnings\n",
      "  warnings.warn(\n"
     ]
    },
    {
     "name": "stdout",
     "output_type": "stream",
     "text": [
      "not null\n",
      "7040000447627\n",
      "count 61\n",
      "https://omcs-global-customer-persister-ge4.omcs-nonprod.r1.pks.dell.com/omcs-global-customer-persister/v1/Dashboard/GetWorkflowSteps?dpid=7040000447627\n"
     ]
    },
    {
     "name": "stderr",
     "output_type": "stream",
     "text": [
      "C:\\Users\\Satpum\\AppData\\Local\\anaconda3\\Lib\\site-packages\\urllib3\\connectionpool.py:1056: InsecureRequestWarning: Unverified HTTPS request is being made to host 'omcs-global-customer-persister-ge4.omcs-nonprod.r1.pks.dell.com'. Adding certificate verification is strongly advised. See: https://urllib3.readthedocs.io/en/1.26.x/advanced-usage.html#ssl-warnings\n",
      "  warnings.warn(\n"
     ]
    },
    {
     "name": "stdout",
     "output_type": "stream",
     "text": [
      "not null\n",
      "7040000447626\n",
      "count 62\n",
      "https://omcs-global-customer-persister-ge4.omcs-nonprod.r1.pks.dell.com/omcs-global-customer-persister/v1/Dashboard/GetWorkflowSteps?dpid=7040000447626\n"
     ]
    },
    {
     "name": "stderr",
     "output_type": "stream",
     "text": [
      "C:\\Users\\Satpum\\AppData\\Local\\anaconda3\\Lib\\site-packages\\urllib3\\connectionpool.py:1056: InsecureRequestWarning: Unverified HTTPS request is being made to host 'omcs-global-customer-persister-ge4.omcs-nonprod.r1.pks.dell.com'. Adding certificate verification is strongly advised. See: https://urllib3.readthedocs.io/en/1.26.x/advanced-usage.html#ssl-warnings\n",
      "  warnings.warn(\n"
     ]
    },
    {
     "name": "stdout",
     "output_type": "stream",
     "text": [
      "not null\n",
      "7040000447625\n",
      "count 63\n",
      "https://omcs-global-customer-persister-ge4.omcs-nonprod.r1.pks.dell.com/omcs-global-customer-persister/v1/Dashboard/GetWorkflowSteps?dpid=7040000447625\n"
     ]
    },
    {
     "name": "stderr",
     "output_type": "stream",
     "text": [
      "C:\\Users\\Satpum\\AppData\\Local\\anaconda3\\Lib\\site-packages\\urllib3\\connectionpool.py:1056: InsecureRequestWarning: Unverified HTTPS request is being made to host 'omcs-global-customer-persister-ge4.omcs-nonprod.r1.pks.dell.com'. Adding certificate verification is strongly advised. See: https://urllib3.readthedocs.io/en/1.26.x/advanced-usage.html#ssl-warnings\n",
      "  warnings.warn(\n"
     ]
    },
    {
     "name": "stdout",
     "output_type": "stream",
     "text": [
      "not null\n",
      "7040000447624\n",
      "count 64\n",
      "https://omcs-global-customer-persister-ge4.omcs-nonprod.r1.pks.dell.com/omcs-global-customer-persister/v1/Dashboard/GetWorkflowSteps?dpid=7040000447624\n"
     ]
    },
    {
     "name": "stderr",
     "output_type": "stream",
     "text": [
      "C:\\Users\\Satpum\\AppData\\Local\\anaconda3\\Lib\\site-packages\\urllib3\\connectionpool.py:1056: InsecureRequestWarning: Unverified HTTPS request is being made to host 'omcs-global-customer-persister-ge4.omcs-nonprod.r1.pks.dell.com'. Adding certificate verification is strongly advised. See: https://urllib3.readthedocs.io/en/1.26.x/advanced-usage.html#ssl-warnings\n",
      "  warnings.warn(\n"
     ]
    },
    {
     "name": "stdout",
     "output_type": "stream",
     "text": [
      "not null\n",
      "7040000447623\n",
      "count 65\n",
      "https://omcs-global-customer-persister-ge4.omcs-nonprod.r1.pks.dell.com/omcs-global-customer-persister/v1/Dashboard/GetWorkflowSteps?dpid=7040000447623\n"
     ]
    },
    {
     "name": "stderr",
     "output_type": "stream",
     "text": [
      "C:\\Users\\Satpum\\AppData\\Local\\anaconda3\\Lib\\site-packages\\urllib3\\connectionpool.py:1056: InsecureRequestWarning: Unverified HTTPS request is being made to host 'omcs-global-customer-persister-ge4.omcs-nonprod.r1.pks.dell.com'. Adding certificate verification is strongly advised. See: https://urllib3.readthedocs.io/en/1.26.x/advanced-usage.html#ssl-warnings\n",
      "  warnings.warn(\n"
     ]
    },
    {
     "name": "stdout",
     "output_type": "stream",
     "text": [
      "not null\n",
      "7040000447622\n",
      "count 66\n",
      "https://omcs-global-customer-persister-ge4.omcs-nonprod.r1.pks.dell.com/omcs-global-customer-persister/v1/Dashboard/GetWorkflowSteps?dpid=7040000447622\n"
     ]
    },
    {
     "name": "stderr",
     "output_type": "stream",
     "text": [
      "C:\\Users\\Satpum\\AppData\\Local\\anaconda3\\Lib\\site-packages\\urllib3\\connectionpool.py:1056: InsecureRequestWarning: Unverified HTTPS request is being made to host 'omcs-global-customer-persister-ge4.omcs-nonprod.r1.pks.dell.com'. Adding certificate verification is strongly advised. See: https://urllib3.readthedocs.io/en/1.26.x/advanced-usage.html#ssl-warnings\n",
      "  warnings.warn(\n"
     ]
    },
    {
     "name": "stdout",
     "output_type": "stream",
     "text": [
      "not null\n",
      "7040000447621\n",
      "count 67\n",
      "https://omcs-global-customer-persister-ge4.omcs-nonprod.r1.pks.dell.com/omcs-global-customer-persister/v1/Dashboard/GetWorkflowSteps?dpid=7040000447621\n"
     ]
    },
    {
     "name": "stderr",
     "output_type": "stream",
     "text": [
      "C:\\Users\\Satpum\\AppData\\Local\\anaconda3\\Lib\\site-packages\\urllib3\\connectionpool.py:1056: InsecureRequestWarning: Unverified HTTPS request is being made to host 'omcs-global-customer-persister-ge4.omcs-nonprod.r1.pks.dell.com'. Adding certificate verification is strongly advised. See: https://urllib3.readthedocs.io/en/1.26.x/advanced-usage.html#ssl-warnings\n",
      "  warnings.warn(\n"
     ]
    },
    {
     "name": "stdout",
     "output_type": "stream",
     "text": [
      "null7040000447621\n",
      "7040000447620\n",
      "count 68\n",
      "https://omcs-global-customer-persister-ge4.omcs-nonprod.r1.pks.dell.com/omcs-global-customer-persister/v1/Dashboard/GetWorkflowSteps?dpid=7040000447620\n"
     ]
    },
    {
     "name": "stderr",
     "output_type": "stream",
     "text": [
      "C:\\Users\\Satpum\\AppData\\Local\\anaconda3\\Lib\\site-packages\\urllib3\\connectionpool.py:1056: InsecureRequestWarning: Unverified HTTPS request is being made to host 'omcs-global-customer-persister-ge4.omcs-nonprod.r1.pks.dell.com'. Adding certificate verification is strongly advised. See: https://urllib3.readthedocs.io/en/1.26.x/advanced-usage.html#ssl-warnings\n",
      "  warnings.warn(\n"
     ]
    },
    {
     "name": "stdout",
     "output_type": "stream",
     "text": [
      "null7040000447620\n",
      "7040000447619\n",
      "count 69\n",
      "https://omcs-global-customer-persister-ge4.omcs-nonprod.r1.pks.dell.com/omcs-global-customer-persister/v1/Dashboard/GetWorkflowSteps?dpid=7040000447619\n"
     ]
    },
    {
     "name": "stderr",
     "output_type": "stream",
     "text": [
      "C:\\Users\\Satpum\\AppData\\Local\\anaconda3\\Lib\\site-packages\\urllib3\\connectionpool.py:1056: InsecureRequestWarning: Unverified HTTPS request is being made to host 'omcs-global-customer-persister-ge4.omcs-nonprod.r1.pks.dell.com'. Adding certificate verification is strongly advised. See: https://urllib3.readthedocs.io/en/1.26.x/advanced-usage.html#ssl-warnings\n",
      "  warnings.warn(\n"
     ]
    },
    {
     "name": "stdout",
     "output_type": "stream",
     "text": [
      "not null\n",
      "7040000447618\n",
      "count 70\n",
      "https://omcs-global-customer-persister-ge4.omcs-nonprod.r1.pks.dell.com/omcs-global-customer-persister/v1/Dashboard/GetWorkflowSteps?dpid=7040000447618\n"
     ]
    },
    {
     "name": "stderr",
     "output_type": "stream",
     "text": [
      "C:\\Users\\Satpum\\AppData\\Local\\anaconda3\\Lib\\site-packages\\urllib3\\connectionpool.py:1056: InsecureRequestWarning: Unverified HTTPS request is being made to host 'omcs-global-customer-persister-ge4.omcs-nonprod.r1.pks.dell.com'. Adding certificate verification is strongly advised. See: https://urllib3.readthedocs.io/en/1.26.x/advanced-usage.html#ssl-warnings\n",
      "  warnings.warn(\n"
     ]
    },
    {
     "name": "stdout",
     "output_type": "stream",
     "text": [
      "null7040000447618\n",
      "7040000447617\n",
      "count 71\n",
      "https://omcs-global-customer-persister-ge4.omcs-nonprod.r1.pks.dell.com/omcs-global-customer-persister/v1/Dashboard/GetWorkflowSteps?dpid=7040000447617\n"
     ]
    },
    {
     "name": "stderr",
     "output_type": "stream",
     "text": [
      "C:\\Users\\Satpum\\AppData\\Local\\anaconda3\\Lib\\site-packages\\urllib3\\connectionpool.py:1056: InsecureRequestWarning: Unverified HTTPS request is being made to host 'omcs-global-customer-persister-ge4.omcs-nonprod.r1.pks.dell.com'. Adding certificate verification is strongly advised. See: https://urllib3.readthedocs.io/en/1.26.x/advanced-usage.html#ssl-warnings\n",
      "  warnings.warn(\n"
     ]
    },
    {
     "name": "stdout",
     "output_type": "stream",
     "text": [
      "null7040000447617\n",
      "7040000447616\n",
      "count 72\n",
      "https://omcs-global-customer-persister-ge4.omcs-nonprod.r1.pks.dell.com/omcs-global-customer-persister/v1/Dashboard/GetWorkflowSteps?dpid=7040000447616\n"
     ]
    },
    {
     "name": "stderr",
     "output_type": "stream",
     "text": [
      "C:\\Users\\Satpum\\AppData\\Local\\anaconda3\\Lib\\site-packages\\urllib3\\connectionpool.py:1056: InsecureRequestWarning: Unverified HTTPS request is being made to host 'omcs-global-customer-persister-ge4.omcs-nonprod.r1.pks.dell.com'. Adding certificate verification is strongly advised. See: https://urllib3.readthedocs.io/en/1.26.x/advanced-usage.html#ssl-warnings\n",
      "  warnings.warn(\n"
     ]
    },
    {
     "name": "stdout",
     "output_type": "stream",
     "text": [
      "not null\n",
      "7040000447615\n",
      "count 73\n",
      "https://omcs-global-customer-persister-ge4.omcs-nonprod.r1.pks.dell.com/omcs-global-customer-persister/v1/Dashboard/GetWorkflowSteps?dpid=7040000447615\n"
     ]
    },
    {
     "name": "stderr",
     "output_type": "stream",
     "text": [
      "C:\\Users\\Satpum\\AppData\\Local\\anaconda3\\Lib\\site-packages\\urllib3\\connectionpool.py:1056: InsecureRequestWarning: Unverified HTTPS request is being made to host 'omcs-global-customer-persister-ge4.omcs-nonprod.r1.pks.dell.com'. Adding certificate verification is strongly advised. See: https://urllib3.readthedocs.io/en/1.26.x/advanced-usage.html#ssl-warnings\n",
      "  warnings.warn(\n"
     ]
    },
    {
     "name": "stdout",
     "output_type": "stream",
     "text": [
      "null7040000447615\n",
      "7040000447614\n",
      "count 74\n",
      "https://omcs-global-customer-persister-ge4.omcs-nonprod.r1.pks.dell.com/omcs-global-customer-persister/v1/Dashboard/GetWorkflowSteps?dpid=7040000447614\n"
     ]
    },
    {
     "name": "stderr",
     "output_type": "stream",
     "text": [
      "C:\\Users\\Satpum\\AppData\\Local\\anaconda3\\Lib\\site-packages\\urllib3\\connectionpool.py:1056: InsecureRequestWarning: Unverified HTTPS request is being made to host 'omcs-global-customer-persister-ge4.omcs-nonprod.r1.pks.dell.com'. Adding certificate verification is strongly advised. See: https://urllib3.readthedocs.io/en/1.26.x/advanced-usage.html#ssl-warnings\n",
      "  warnings.warn(\n"
     ]
    },
    {
     "name": "stdout",
     "output_type": "stream",
     "text": [
      "not null\n",
      "7040000447613\n",
      "count 75\n",
      "https://omcs-global-customer-persister-ge4.omcs-nonprod.r1.pks.dell.com/omcs-global-customer-persister/v1/Dashboard/GetWorkflowSteps?dpid=7040000447613\n"
     ]
    },
    {
     "name": "stderr",
     "output_type": "stream",
     "text": [
      "C:\\Users\\Satpum\\AppData\\Local\\anaconda3\\Lib\\site-packages\\urllib3\\connectionpool.py:1056: InsecureRequestWarning: Unverified HTTPS request is being made to host 'omcs-global-customer-persister-ge4.omcs-nonprod.r1.pks.dell.com'. Adding certificate verification is strongly advised. See: https://urllib3.readthedocs.io/en/1.26.x/advanced-usage.html#ssl-warnings\n",
      "  warnings.warn(\n"
     ]
    },
    {
     "name": "stdout",
     "output_type": "stream",
     "text": [
      "not null\n",
      "7040000447612\n",
      "count 76\n",
      "https://omcs-global-customer-persister-ge4.omcs-nonprod.r1.pks.dell.com/omcs-global-customer-persister/v1/Dashboard/GetWorkflowSteps?dpid=7040000447612\n"
     ]
    },
    {
     "name": "stderr",
     "output_type": "stream",
     "text": [
      "C:\\Users\\Satpum\\AppData\\Local\\anaconda3\\Lib\\site-packages\\urllib3\\connectionpool.py:1056: InsecureRequestWarning: Unverified HTTPS request is being made to host 'omcs-global-customer-persister-ge4.omcs-nonprod.r1.pks.dell.com'. Adding certificate verification is strongly advised. See: https://urllib3.readthedocs.io/en/1.26.x/advanced-usage.html#ssl-warnings\n",
      "  warnings.warn(\n"
     ]
    },
    {
     "name": "stdout",
     "output_type": "stream",
     "text": [
      "not null\n",
      "7040000447611\n",
      "count 77\n",
      "https://omcs-global-customer-persister-ge4.omcs-nonprod.r1.pks.dell.com/omcs-global-customer-persister/v1/Dashboard/GetWorkflowSteps?dpid=7040000447611\n"
     ]
    },
    {
     "name": "stderr",
     "output_type": "stream",
     "text": [
      "C:\\Users\\Satpum\\AppData\\Local\\anaconda3\\Lib\\site-packages\\urllib3\\connectionpool.py:1056: InsecureRequestWarning: Unverified HTTPS request is being made to host 'omcs-global-customer-persister-ge4.omcs-nonprod.r1.pks.dell.com'. Adding certificate verification is strongly advised. See: https://urllib3.readthedocs.io/en/1.26.x/advanced-usage.html#ssl-warnings\n",
      "  warnings.warn(\n"
     ]
    },
    {
     "name": "stdout",
     "output_type": "stream",
     "text": [
      "not null\n",
      "7040000447610\n",
      "count 78\n",
      "https://omcs-global-customer-persister-ge4.omcs-nonprod.r1.pks.dell.com/omcs-global-customer-persister/v1/Dashboard/GetWorkflowSteps?dpid=7040000447610\n"
     ]
    },
    {
     "name": "stderr",
     "output_type": "stream",
     "text": [
      "C:\\Users\\Satpum\\AppData\\Local\\anaconda3\\Lib\\site-packages\\urllib3\\connectionpool.py:1056: InsecureRequestWarning: Unverified HTTPS request is being made to host 'omcs-global-customer-persister-ge4.omcs-nonprod.r1.pks.dell.com'. Adding certificate verification is strongly advised. See: https://urllib3.readthedocs.io/en/1.26.x/advanced-usage.html#ssl-warnings\n",
      "  warnings.warn(\n"
     ]
    },
    {
     "name": "stdout",
     "output_type": "stream",
     "text": [
      "not null\n",
      "7040000447609\n",
      "count 79\n",
      "https://omcs-global-customer-persister-ge4.omcs-nonprod.r1.pks.dell.com/omcs-global-customer-persister/v1/Dashboard/GetWorkflowSteps?dpid=7040000447609\n"
     ]
    },
    {
     "name": "stderr",
     "output_type": "stream",
     "text": [
      "C:\\Users\\Satpum\\AppData\\Local\\anaconda3\\Lib\\site-packages\\urllib3\\connectionpool.py:1056: InsecureRequestWarning: Unverified HTTPS request is being made to host 'omcs-global-customer-persister-ge4.omcs-nonprod.r1.pks.dell.com'. Adding certificate verification is strongly advised. See: https://urllib3.readthedocs.io/en/1.26.x/advanced-usage.html#ssl-warnings\n",
      "  warnings.warn(\n"
     ]
    },
    {
     "name": "stdout",
     "output_type": "stream",
     "text": [
      "not null\n",
      "7040000447608\n",
      "count 80\n",
      "https://omcs-global-customer-persister-ge4.omcs-nonprod.r1.pks.dell.com/omcs-global-customer-persister/v1/Dashboard/GetWorkflowSteps?dpid=7040000447608\n"
     ]
    },
    {
     "name": "stderr",
     "output_type": "stream",
     "text": [
      "C:\\Users\\Satpum\\AppData\\Local\\anaconda3\\Lib\\site-packages\\urllib3\\connectionpool.py:1056: InsecureRequestWarning: Unverified HTTPS request is being made to host 'omcs-global-customer-persister-ge4.omcs-nonprod.r1.pks.dell.com'. Adding certificate verification is strongly advised. See: https://urllib3.readthedocs.io/en/1.26.x/advanced-usage.html#ssl-warnings\n",
      "  warnings.warn(\n"
     ]
    },
    {
     "name": "stdout",
     "output_type": "stream",
     "text": [
      "not null\n",
      "7040000447607\n",
      "count 81\n",
      "https://omcs-global-customer-persister-ge4.omcs-nonprod.r1.pks.dell.com/omcs-global-customer-persister/v1/Dashboard/GetWorkflowSteps?dpid=7040000447607\n"
     ]
    },
    {
     "name": "stderr",
     "output_type": "stream",
     "text": [
      "C:\\Users\\Satpum\\AppData\\Local\\anaconda3\\Lib\\site-packages\\urllib3\\connectionpool.py:1056: InsecureRequestWarning: Unverified HTTPS request is being made to host 'omcs-global-customer-persister-ge4.omcs-nonprod.r1.pks.dell.com'. Adding certificate verification is strongly advised. See: https://urllib3.readthedocs.io/en/1.26.x/advanced-usage.html#ssl-warnings\n",
      "  warnings.warn(\n"
     ]
    },
    {
     "name": "stdout",
     "output_type": "stream",
     "text": [
      "not null\n",
      "7040000447606\n",
      "count 82\n",
      "https://omcs-global-customer-persister-ge4.omcs-nonprod.r1.pks.dell.com/omcs-global-customer-persister/v1/Dashboard/GetWorkflowSteps?dpid=7040000447606\n"
     ]
    },
    {
     "name": "stderr",
     "output_type": "stream",
     "text": [
      "C:\\Users\\Satpum\\AppData\\Local\\anaconda3\\Lib\\site-packages\\urllib3\\connectionpool.py:1056: InsecureRequestWarning: Unverified HTTPS request is being made to host 'omcs-global-customer-persister-ge4.omcs-nonprod.r1.pks.dell.com'. Adding certificate verification is strongly advised. See: https://urllib3.readthedocs.io/en/1.26.x/advanced-usage.html#ssl-warnings\n",
      "  warnings.warn(\n"
     ]
    },
    {
     "name": "stdout",
     "output_type": "stream",
     "text": [
      "null7040000447606\n",
      "7040000447605\n",
      "count 83\n",
      "https://omcs-global-customer-persister-ge4.omcs-nonprod.r1.pks.dell.com/omcs-global-customer-persister/v1/Dashboard/GetWorkflowSteps?dpid=7040000447605\n"
     ]
    },
    {
     "name": "stderr",
     "output_type": "stream",
     "text": [
      "C:\\Users\\Satpum\\AppData\\Local\\anaconda3\\Lib\\site-packages\\urllib3\\connectionpool.py:1056: InsecureRequestWarning: Unverified HTTPS request is being made to host 'omcs-global-customer-persister-ge4.omcs-nonprod.r1.pks.dell.com'. Adding certificate verification is strongly advised. See: https://urllib3.readthedocs.io/en/1.26.x/advanced-usage.html#ssl-warnings\n",
      "  warnings.warn(\n"
     ]
    },
    {
     "name": "stdout",
     "output_type": "stream",
     "text": [
      "null7040000447605\n",
      "7040000447604\n",
      "count 84\n",
      "https://omcs-global-customer-persister-ge4.omcs-nonprod.r1.pks.dell.com/omcs-global-customer-persister/v1/Dashboard/GetWorkflowSteps?dpid=7040000447604\n"
     ]
    },
    {
     "name": "stderr",
     "output_type": "stream",
     "text": [
      "C:\\Users\\Satpum\\AppData\\Local\\anaconda3\\Lib\\site-packages\\urllib3\\connectionpool.py:1056: InsecureRequestWarning: Unverified HTTPS request is being made to host 'omcs-global-customer-persister-ge4.omcs-nonprod.r1.pks.dell.com'. Adding certificate verification is strongly advised. See: https://urllib3.readthedocs.io/en/1.26.x/advanced-usage.html#ssl-warnings\n",
      "  warnings.warn(\n"
     ]
    },
    {
     "name": "stdout",
     "output_type": "stream",
     "text": [
      "null7040000447604\n",
      "7040000447603\n",
      "count 85\n",
      "https://omcs-global-customer-persister-ge4.omcs-nonprod.r1.pks.dell.com/omcs-global-customer-persister/v1/Dashboard/GetWorkflowSteps?dpid=7040000447603\n"
     ]
    },
    {
     "name": "stderr",
     "output_type": "stream",
     "text": [
      "C:\\Users\\Satpum\\AppData\\Local\\anaconda3\\Lib\\site-packages\\urllib3\\connectionpool.py:1056: InsecureRequestWarning: Unverified HTTPS request is being made to host 'omcs-global-customer-persister-ge4.omcs-nonprod.r1.pks.dell.com'. Adding certificate verification is strongly advised. See: https://urllib3.readthedocs.io/en/1.26.x/advanced-usage.html#ssl-warnings\n",
      "  warnings.warn(\n"
     ]
    },
    {
     "name": "stdout",
     "output_type": "stream",
     "text": [
      "null7040000447603\n",
      "7040000447602\n",
      "count 86\n",
      "https://omcs-global-customer-persister-ge4.omcs-nonprod.r1.pks.dell.com/omcs-global-customer-persister/v1/Dashboard/GetWorkflowSteps?dpid=7040000447602\n"
     ]
    },
    {
     "name": "stderr",
     "output_type": "stream",
     "text": [
      "C:\\Users\\Satpum\\AppData\\Local\\anaconda3\\Lib\\site-packages\\urllib3\\connectionpool.py:1056: InsecureRequestWarning: Unverified HTTPS request is being made to host 'omcs-global-customer-persister-ge4.omcs-nonprod.r1.pks.dell.com'. Adding certificate verification is strongly advised. See: https://urllib3.readthedocs.io/en/1.26.x/advanced-usage.html#ssl-warnings\n",
      "  warnings.warn(\n"
     ]
    },
    {
     "name": "stdout",
     "output_type": "stream",
     "text": [
      "null7040000447602\n",
      "7040000447601\n",
      "count 87\n",
      "https://omcs-global-customer-persister-ge4.omcs-nonprod.r1.pks.dell.com/omcs-global-customer-persister/v1/Dashboard/GetWorkflowSteps?dpid=7040000447601\n"
     ]
    },
    {
     "name": "stderr",
     "output_type": "stream",
     "text": [
      "C:\\Users\\Satpum\\AppData\\Local\\anaconda3\\Lib\\site-packages\\urllib3\\connectionpool.py:1056: InsecureRequestWarning: Unverified HTTPS request is being made to host 'omcs-global-customer-persister-ge4.omcs-nonprod.r1.pks.dell.com'. Adding certificate verification is strongly advised. See: https://urllib3.readthedocs.io/en/1.26.x/advanced-usage.html#ssl-warnings\n",
      "  warnings.warn(\n"
     ]
    },
    {
     "name": "stdout",
     "output_type": "stream",
     "text": [
      "null7040000447601\n",
      "7040000447600\n",
      "count 88\n",
      "https://omcs-global-customer-persister-ge4.omcs-nonprod.r1.pks.dell.com/omcs-global-customer-persister/v1/Dashboard/GetWorkflowSteps?dpid=7040000447600\n"
     ]
    },
    {
     "name": "stderr",
     "output_type": "stream",
     "text": [
      "C:\\Users\\Satpum\\AppData\\Local\\anaconda3\\Lib\\site-packages\\urllib3\\connectionpool.py:1056: InsecureRequestWarning: Unverified HTTPS request is being made to host 'omcs-global-customer-persister-ge4.omcs-nonprod.r1.pks.dell.com'. Adding certificate verification is strongly advised. See: https://urllib3.readthedocs.io/en/1.26.x/advanced-usage.html#ssl-warnings\n",
      "  warnings.warn(\n"
     ]
    },
    {
     "name": "stdout",
     "output_type": "stream",
     "text": [
      "null7040000447600\n",
      "7040000447599\n",
      "count 89\n",
      "https://omcs-global-customer-persister-ge4.omcs-nonprod.r1.pks.dell.com/omcs-global-customer-persister/v1/Dashboard/GetWorkflowSteps?dpid=7040000447599\n"
     ]
    },
    {
     "name": "stderr",
     "output_type": "stream",
     "text": [
      "C:\\Users\\Satpum\\AppData\\Local\\anaconda3\\Lib\\site-packages\\urllib3\\connectionpool.py:1056: InsecureRequestWarning: Unverified HTTPS request is being made to host 'omcs-global-customer-persister-ge4.omcs-nonprod.r1.pks.dell.com'. Adding certificate verification is strongly advised. See: https://urllib3.readthedocs.io/en/1.26.x/advanced-usage.html#ssl-warnings\n",
      "  warnings.warn(\n"
     ]
    },
    {
     "name": "stdout",
     "output_type": "stream",
     "text": [
      "null7040000447599\n",
      "7040000447598\n",
      "count 90\n",
      "https://omcs-global-customer-persister-ge4.omcs-nonprod.r1.pks.dell.com/omcs-global-customer-persister/v1/Dashboard/GetWorkflowSteps?dpid=7040000447598\n"
     ]
    },
    {
     "name": "stderr",
     "output_type": "stream",
     "text": [
      "C:\\Users\\Satpum\\AppData\\Local\\anaconda3\\Lib\\site-packages\\urllib3\\connectionpool.py:1056: InsecureRequestWarning: Unverified HTTPS request is being made to host 'omcs-global-customer-persister-ge4.omcs-nonprod.r1.pks.dell.com'. Adding certificate verification is strongly advised. See: https://urllib3.readthedocs.io/en/1.26.x/advanced-usage.html#ssl-warnings\n",
      "  warnings.warn(\n"
     ]
    },
    {
     "name": "stdout",
     "output_type": "stream",
     "text": [
      "not null\n",
      "7040000447597\n",
      "count 91\n",
      "https://omcs-global-customer-persister-ge4.omcs-nonprod.r1.pks.dell.com/omcs-global-customer-persister/v1/Dashboard/GetWorkflowSteps?dpid=7040000447597\n"
     ]
    },
    {
     "name": "stderr",
     "output_type": "stream",
     "text": [
      "C:\\Users\\Satpum\\AppData\\Local\\anaconda3\\Lib\\site-packages\\urllib3\\connectionpool.py:1056: InsecureRequestWarning: Unverified HTTPS request is being made to host 'omcs-global-customer-persister-ge4.omcs-nonprod.r1.pks.dell.com'. Adding certificate verification is strongly advised. See: https://urllib3.readthedocs.io/en/1.26.x/advanced-usage.html#ssl-warnings\n",
      "  warnings.warn(\n"
     ]
    },
    {
     "name": "stdout",
     "output_type": "stream",
     "text": [
      "null7040000447597\n",
      "7040000447596\n",
      "count 92\n",
      "https://omcs-global-customer-persister-ge4.omcs-nonprod.r1.pks.dell.com/omcs-global-customer-persister/v1/Dashboard/GetWorkflowSteps?dpid=7040000447596\n"
     ]
    },
    {
     "name": "stderr",
     "output_type": "stream",
     "text": [
      "C:\\Users\\Satpum\\AppData\\Local\\anaconda3\\Lib\\site-packages\\urllib3\\connectionpool.py:1056: InsecureRequestWarning: Unverified HTTPS request is being made to host 'omcs-global-customer-persister-ge4.omcs-nonprod.r1.pks.dell.com'. Adding certificate verification is strongly advised. See: https://urllib3.readthedocs.io/en/1.26.x/advanced-usage.html#ssl-warnings\n",
      "  warnings.warn(\n"
     ]
    },
    {
     "name": "stdout",
     "output_type": "stream",
     "text": [
      "null7040000447596\n",
      "7040000447595\n",
      "count 93\n",
      "https://omcs-global-customer-persister-ge4.omcs-nonprod.r1.pks.dell.com/omcs-global-customer-persister/v1/Dashboard/GetWorkflowSteps?dpid=7040000447595\n"
     ]
    },
    {
     "name": "stderr",
     "output_type": "stream",
     "text": [
      "C:\\Users\\Satpum\\AppData\\Local\\anaconda3\\Lib\\site-packages\\urllib3\\connectionpool.py:1056: InsecureRequestWarning: Unverified HTTPS request is being made to host 'omcs-global-customer-persister-ge4.omcs-nonprod.r1.pks.dell.com'. Adding certificate verification is strongly advised. See: https://urllib3.readthedocs.io/en/1.26.x/advanced-usage.html#ssl-warnings\n",
      "  warnings.warn(\n"
     ]
    },
    {
     "name": "stdout",
     "output_type": "stream",
     "text": [
      "null7040000447595\n",
      "7040000447594\n",
      "count 94\n",
      "https://omcs-global-customer-persister-ge4.omcs-nonprod.r1.pks.dell.com/omcs-global-customer-persister/v1/Dashboard/GetWorkflowSteps?dpid=7040000447594\n"
     ]
    },
    {
     "name": "stderr",
     "output_type": "stream",
     "text": [
      "C:\\Users\\Satpum\\AppData\\Local\\anaconda3\\Lib\\site-packages\\urllib3\\connectionpool.py:1056: InsecureRequestWarning: Unverified HTTPS request is being made to host 'omcs-global-customer-persister-ge4.omcs-nonprod.r1.pks.dell.com'. Adding certificate verification is strongly advised. See: https://urllib3.readthedocs.io/en/1.26.x/advanced-usage.html#ssl-warnings\n",
      "  warnings.warn(\n"
     ]
    },
    {
     "name": "stdout",
     "output_type": "stream",
     "text": [
      "null7040000447594\n",
      "7040000447593\n",
      "count 95\n",
      "https://omcs-global-customer-persister-ge4.omcs-nonprod.r1.pks.dell.com/omcs-global-customer-persister/v1/Dashboard/GetWorkflowSteps?dpid=7040000447593\n"
     ]
    },
    {
     "name": "stderr",
     "output_type": "stream",
     "text": [
      "C:\\Users\\Satpum\\AppData\\Local\\anaconda3\\Lib\\site-packages\\urllib3\\connectionpool.py:1056: InsecureRequestWarning: Unverified HTTPS request is being made to host 'omcs-global-customer-persister-ge4.omcs-nonprod.r1.pks.dell.com'. Adding certificate verification is strongly advised. See: https://urllib3.readthedocs.io/en/1.26.x/advanced-usage.html#ssl-warnings\n",
      "  warnings.warn(\n"
     ]
    },
    {
     "name": "stdout",
     "output_type": "stream",
     "text": [
      "not null\n",
      "7040000447592\n",
      "count 96\n",
      "https://omcs-global-customer-persister-ge4.omcs-nonprod.r1.pks.dell.com/omcs-global-customer-persister/v1/Dashboard/GetWorkflowSteps?dpid=7040000447592\n"
     ]
    },
    {
     "name": "stderr",
     "output_type": "stream",
     "text": [
      "C:\\Users\\Satpum\\AppData\\Local\\anaconda3\\Lib\\site-packages\\urllib3\\connectionpool.py:1056: InsecureRequestWarning: Unverified HTTPS request is being made to host 'omcs-global-customer-persister-ge4.omcs-nonprod.r1.pks.dell.com'. Adding certificate verification is strongly advised. See: https://urllib3.readthedocs.io/en/1.26.x/advanced-usage.html#ssl-warnings\n",
      "  warnings.warn(\n"
     ]
    },
    {
     "name": "stdout",
     "output_type": "stream",
     "text": [
      "not null\n",
      "7040000447591\n",
      "count 97\n",
      "https://omcs-global-customer-persister-ge4.omcs-nonprod.r1.pks.dell.com/omcs-global-customer-persister/v1/Dashboard/GetWorkflowSteps?dpid=7040000447591\n"
     ]
    },
    {
     "name": "stderr",
     "output_type": "stream",
     "text": [
      "C:\\Users\\Satpum\\AppData\\Local\\anaconda3\\Lib\\site-packages\\urllib3\\connectionpool.py:1056: InsecureRequestWarning: Unverified HTTPS request is being made to host 'omcs-global-customer-persister-ge4.omcs-nonprod.r1.pks.dell.com'. Adding certificate verification is strongly advised. See: https://urllib3.readthedocs.io/en/1.26.x/advanced-usage.html#ssl-warnings\n",
      "  warnings.warn(\n"
     ]
    },
    {
     "name": "stdout",
     "output_type": "stream",
     "text": [
      "not null\n",
      "7040000447590\n",
      "count 98\n",
      "https://omcs-global-customer-persister-ge4.omcs-nonprod.r1.pks.dell.com/omcs-global-customer-persister/v1/Dashboard/GetWorkflowSteps?dpid=7040000447590\n"
     ]
    },
    {
     "name": "stderr",
     "output_type": "stream",
     "text": [
      "C:\\Users\\Satpum\\AppData\\Local\\anaconda3\\Lib\\site-packages\\urllib3\\connectionpool.py:1056: InsecureRequestWarning: Unverified HTTPS request is being made to host 'omcs-global-customer-persister-ge4.omcs-nonprod.r1.pks.dell.com'. Adding certificate verification is strongly advised. See: https://urllib3.readthedocs.io/en/1.26.x/advanced-usage.html#ssl-warnings\n",
      "  warnings.warn(\n"
     ]
    },
    {
     "name": "stdout",
     "output_type": "stream",
     "text": [
      "not null\n",
      "7040000447589\n",
      "count 99\n",
      "https://omcs-global-customer-persister-ge4.omcs-nonprod.r1.pks.dell.com/omcs-global-customer-persister/v1/Dashboard/GetWorkflowSteps?dpid=7040000447589\n"
     ]
    },
    {
     "name": "stderr",
     "output_type": "stream",
     "text": [
      "C:\\Users\\Satpum\\AppData\\Local\\anaconda3\\Lib\\site-packages\\urllib3\\connectionpool.py:1056: InsecureRequestWarning: Unverified HTTPS request is being made to host 'omcs-global-customer-persister-ge4.omcs-nonprod.r1.pks.dell.com'. Adding certificate verification is strongly advised. See: https://urllib3.readthedocs.io/en/1.26.x/advanced-usage.html#ssl-warnings\n",
      "  warnings.warn(\n"
     ]
    },
    {
     "name": "stdout",
     "output_type": "stream",
     "text": [
      "null7040000447589\n",
      "7040000447588\n",
      "count 100\n",
      "https://omcs-global-customer-persister-ge4.omcs-nonprod.r1.pks.dell.com/omcs-global-customer-persister/v1/Dashboard/GetWorkflowSteps?dpid=7040000447588\n"
     ]
    },
    {
     "name": "stderr",
     "output_type": "stream",
     "text": [
      "C:\\Users\\Satpum\\AppData\\Local\\anaconda3\\Lib\\site-packages\\urllib3\\connectionpool.py:1056: InsecureRequestWarning: Unverified HTTPS request is being made to host 'omcs-global-customer-persister-ge4.omcs-nonprod.r1.pks.dell.com'. Adding certificate verification is strongly advised. See: https://urllib3.readthedocs.io/en/1.26.x/advanced-usage.html#ssl-warnings\n",
      "  warnings.warn(\n"
     ]
    },
    {
     "name": "stdout",
     "output_type": "stream",
     "text": [
      "not null\n",
      "7040000447587\n",
      "count 101\n",
      "https://omcs-global-customer-persister-ge4.omcs-nonprod.r1.pks.dell.com/omcs-global-customer-persister/v1/Dashboard/GetWorkflowSteps?dpid=7040000447587\n"
     ]
    },
    {
     "name": "stderr",
     "output_type": "stream",
     "text": [
      "C:\\Users\\Satpum\\AppData\\Local\\anaconda3\\Lib\\site-packages\\urllib3\\connectionpool.py:1056: InsecureRequestWarning: Unverified HTTPS request is being made to host 'omcs-global-customer-persister-ge4.omcs-nonprod.r1.pks.dell.com'. Adding certificate verification is strongly advised. See: https://urllib3.readthedocs.io/en/1.26.x/advanced-usage.html#ssl-warnings\n",
      "  warnings.warn(\n"
     ]
    },
    {
     "name": "stdout",
     "output_type": "stream",
     "text": [
      "not null\n",
      "7040000447586\n",
      "count 102\n",
      "https://omcs-global-customer-persister-ge4.omcs-nonprod.r1.pks.dell.com/omcs-global-customer-persister/v1/Dashboard/GetWorkflowSteps?dpid=7040000447586\n"
     ]
    },
    {
     "name": "stderr",
     "output_type": "stream",
     "text": [
      "C:\\Users\\Satpum\\AppData\\Local\\anaconda3\\Lib\\site-packages\\urllib3\\connectionpool.py:1056: InsecureRequestWarning: Unverified HTTPS request is being made to host 'omcs-global-customer-persister-ge4.omcs-nonprod.r1.pks.dell.com'. Adding certificate verification is strongly advised. See: https://urllib3.readthedocs.io/en/1.26.x/advanced-usage.html#ssl-warnings\n",
      "  warnings.warn(\n"
     ]
    },
    {
     "name": "stdout",
     "output_type": "stream",
     "text": [
      "not null\n",
      "7040000447585\n",
      "count 103\n",
      "https://omcs-global-customer-persister-ge4.omcs-nonprod.r1.pks.dell.com/omcs-global-customer-persister/v1/Dashboard/GetWorkflowSteps?dpid=7040000447585\n"
     ]
    },
    {
     "name": "stderr",
     "output_type": "stream",
     "text": [
      "C:\\Users\\Satpum\\AppData\\Local\\anaconda3\\Lib\\site-packages\\urllib3\\connectionpool.py:1056: InsecureRequestWarning: Unverified HTTPS request is being made to host 'omcs-global-customer-persister-ge4.omcs-nonprod.r1.pks.dell.com'. Adding certificate verification is strongly advised. See: https://urllib3.readthedocs.io/en/1.26.x/advanced-usage.html#ssl-warnings\n",
      "  warnings.warn(\n"
     ]
    },
    {
     "name": "stdout",
     "output_type": "stream",
     "text": [
      "not null\n",
      "7040000447584\n",
      "count 104\n",
      "https://omcs-global-customer-persister-ge4.omcs-nonprod.r1.pks.dell.com/omcs-global-customer-persister/v1/Dashboard/GetWorkflowSteps?dpid=7040000447584\n"
     ]
    },
    {
     "name": "stderr",
     "output_type": "stream",
     "text": [
      "C:\\Users\\Satpum\\AppData\\Local\\anaconda3\\Lib\\site-packages\\urllib3\\connectionpool.py:1056: InsecureRequestWarning: Unverified HTTPS request is being made to host 'omcs-global-customer-persister-ge4.omcs-nonprod.r1.pks.dell.com'. Adding certificate verification is strongly advised. See: https://urllib3.readthedocs.io/en/1.26.x/advanced-usage.html#ssl-warnings\n",
      "  warnings.warn(\n"
     ]
    },
    {
     "name": "stdout",
     "output_type": "stream",
     "text": [
      "not null\n",
      "7040000447583\n",
      "count 105\n",
      "https://omcs-global-customer-persister-ge4.omcs-nonprod.r1.pks.dell.com/omcs-global-customer-persister/v1/Dashboard/GetWorkflowSteps?dpid=7040000447583\n"
     ]
    },
    {
     "name": "stderr",
     "output_type": "stream",
     "text": [
      "C:\\Users\\Satpum\\AppData\\Local\\anaconda3\\Lib\\site-packages\\urllib3\\connectionpool.py:1056: InsecureRequestWarning: Unverified HTTPS request is being made to host 'omcs-global-customer-persister-ge4.omcs-nonprod.r1.pks.dell.com'. Adding certificate verification is strongly advised. See: https://urllib3.readthedocs.io/en/1.26.x/advanced-usage.html#ssl-warnings\n",
      "  warnings.warn(\n"
     ]
    },
    {
     "name": "stdout",
     "output_type": "stream",
     "text": [
      "not null\n",
      "7040000447582\n",
      "count 106\n",
      "https://omcs-global-customer-persister-ge4.omcs-nonprod.r1.pks.dell.com/omcs-global-customer-persister/v1/Dashboard/GetWorkflowSteps?dpid=7040000447582\n"
     ]
    },
    {
     "name": "stderr",
     "output_type": "stream",
     "text": [
      "C:\\Users\\Satpum\\AppData\\Local\\anaconda3\\Lib\\site-packages\\urllib3\\connectionpool.py:1056: InsecureRequestWarning: Unverified HTTPS request is being made to host 'omcs-global-customer-persister-ge4.omcs-nonprod.r1.pks.dell.com'. Adding certificate verification is strongly advised. See: https://urllib3.readthedocs.io/en/1.26.x/advanced-usage.html#ssl-warnings\n",
      "  warnings.warn(\n"
     ]
    },
    {
     "name": "stdout",
     "output_type": "stream",
     "text": [
      "not null\n",
      "7040000447581\n",
      "count 107\n",
      "https://omcs-global-customer-persister-ge4.omcs-nonprod.r1.pks.dell.com/omcs-global-customer-persister/v1/Dashboard/GetWorkflowSteps?dpid=7040000447581\n"
     ]
    },
    {
     "name": "stderr",
     "output_type": "stream",
     "text": [
      "C:\\Users\\Satpum\\AppData\\Local\\anaconda3\\Lib\\site-packages\\urllib3\\connectionpool.py:1056: InsecureRequestWarning: Unverified HTTPS request is being made to host 'omcs-global-customer-persister-ge4.omcs-nonprod.r1.pks.dell.com'. Adding certificate verification is strongly advised. See: https://urllib3.readthedocs.io/en/1.26.x/advanced-usage.html#ssl-warnings\n",
      "  warnings.warn(\n"
     ]
    },
    {
     "name": "stdout",
     "output_type": "stream",
     "text": [
      "not null\n",
      "7040000447580\n",
      "count 108\n",
      "https://omcs-global-customer-persister-ge4.omcs-nonprod.r1.pks.dell.com/omcs-global-customer-persister/v1/Dashboard/GetWorkflowSteps?dpid=7040000447580\n"
     ]
    },
    {
     "name": "stderr",
     "output_type": "stream",
     "text": [
      "C:\\Users\\Satpum\\AppData\\Local\\anaconda3\\Lib\\site-packages\\urllib3\\connectionpool.py:1056: InsecureRequestWarning: Unverified HTTPS request is being made to host 'omcs-global-customer-persister-ge4.omcs-nonprod.r1.pks.dell.com'. Adding certificate verification is strongly advised. See: https://urllib3.readthedocs.io/en/1.26.x/advanced-usage.html#ssl-warnings\n",
      "  warnings.warn(\n"
     ]
    },
    {
     "name": "stdout",
     "output_type": "stream",
     "text": [
      "not null\n",
      "7040000447579\n",
      "count 109\n",
      "https://omcs-global-customer-persister-ge4.omcs-nonprod.r1.pks.dell.com/omcs-global-customer-persister/v1/Dashboard/GetWorkflowSteps?dpid=7040000447579\n"
     ]
    },
    {
     "name": "stderr",
     "output_type": "stream",
     "text": [
      "C:\\Users\\Satpum\\AppData\\Local\\anaconda3\\Lib\\site-packages\\urllib3\\connectionpool.py:1056: InsecureRequestWarning: Unverified HTTPS request is being made to host 'omcs-global-customer-persister-ge4.omcs-nonprod.r1.pks.dell.com'. Adding certificate verification is strongly advised. See: https://urllib3.readthedocs.io/en/1.26.x/advanced-usage.html#ssl-warnings\n",
      "  warnings.warn(\n"
     ]
    },
    {
     "name": "stdout",
     "output_type": "stream",
     "text": [
      "not null\n",
      "7040000447578\n",
      "count 110\n",
      "https://omcs-global-customer-persister-ge4.omcs-nonprod.r1.pks.dell.com/omcs-global-customer-persister/v1/Dashboard/GetWorkflowSteps?dpid=7040000447578\n"
     ]
    },
    {
     "name": "stderr",
     "output_type": "stream",
     "text": [
      "C:\\Users\\Satpum\\AppData\\Local\\anaconda3\\Lib\\site-packages\\urllib3\\connectionpool.py:1056: InsecureRequestWarning: Unverified HTTPS request is being made to host 'omcs-global-customer-persister-ge4.omcs-nonprod.r1.pks.dell.com'. Adding certificate verification is strongly advised. See: https://urllib3.readthedocs.io/en/1.26.x/advanced-usage.html#ssl-warnings\n",
      "  warnings.warn(\n"
     ]
    },
    {
     "name": "stdout",
     "output_type": "stream",
     "text": [
      "not null\n",
      "7040000447577\n",
      "count 111\n",
      "https://omcs-global-customer-persister-ge4.omcs-nonprod.r1.pks.dell.com/omcs-global-customer-persister/v1/Dashboard/GetWorkflowSteps?dpid=7040000447577\n"
     ]
    },
    {
     "name": "stderr",
     "output_type": "stream",
     "text": [
      "C:\\Users\\Satpum\\AppData\\Local\\anaconda3\\Lib\\site-packages\\urllib3\\connectionpool.py:1056: InsecureRequestWarning: Unverified HTTPS request is being made to host 'omcs-global-customer-persister-ge4.omcs-nonprod.r1.pks.dell.com'. Adding certificate verification is strongly advised. See: https://urllib3.readthedocs.io/en/1.26.x/advanced-usage.html#ssl-warnings\n",
      "  warnings.warn(\n"
     ]
    },
    {
     "name": "stdout",
     "output_type": "stream",
     "text": [
      "not null\n",
      "7040000447576\n",
      "count 112\n",
      "https://omcs-global-customer-persister-ge4.omcs-nonprod.r1.pks.dell.com/omcs-global-customer-persister/v1/Dashboard/GetWorkflowSteps?dpid=7040000447576\n"
     ]
    },
    {
     "name": "stderr",
     "output_type": "stream",
     "text": [
      "C:\\Users\\Satpum\\AppData\\Local\\anaconda3\\Lib\\site-packages\\urllib3\\connectionpool.py:1056: InsecureRequestWarning: Unverified HTTPS request is being made to host 'omcs-global-customer-persister-ge4.omcs-nonprod.r1.pks.dell.com'. Adding certificate verification is strongly advised. See: https://urllib3.readthedocs.io/en/1.26.x/advanced-usage.html#ssl-warnings\n",
      "  warnings.warn(\n"
     ]
    },
    {
     "name": "stdout",
     "output_type": "stream",
     "text": [
      "not null\n",
      "7040000447575\n",
      "count 113\n",
      "https://omcs-global-customer-persister-ge4.omcs-nonprod.r1.pks.dell.com/omcs-global-customer-persister/v1/Dashboard/GetWorkflowSteps?dpid=7040000447575\n"
     ]
    },
    {
     "name": "stderr",
     "output_type": "stream",
     "text": [
      "C:\\Users\\Satpum\\AppData\\Local\\anaconda3\\Lib\\site-packages\\urllib3\\connectionpool.py:1056: InsecureRequestWarning: Unverified HTTPS request is being made to host 'omcs-global-customer-persister-ge4.omcs-nonprod.r1.pks.dell.com'. Adding certificate verification is strongly advised. See: https://urllib3.readthedocs.io/en/1.26.x/advanced-usage.html#ssl-warnings\n",
      "  warnings.warn(\n"
     ]
    },
    {
     "name": "stdout",
     "output_type": "stream",
     "text": [
      "not null\n",
      "7040000447574\n",
      "count 114\n",
      "https://omcs-global-customer-persister-ge4.omcs-nonprod.r1.pks.dell.com/omcs-global-customer-persister/v1/Dashboard/GetWorkflowSteps?dpid=7040000447574\n"
     ]
    },
    {
     "name": "stderr",
     "output_type": "stream",
     "text": [
      "C:\\Users\\Satpum\\AppData\\Local\\anaconda3\\Lib\\site-packages\\urllib3\\connectionpool.py:1056: InsecureRequestWarning: Unverified HTTPS request is being made to host 'omcs-global-customer-persister-ge4.omcs-nonprod.r1.pks.dell.com'. Adding certificate verification is strongly advised. See: https://urllib3.readthedocs.io/en/1.26.x/advanced-usage.html#ssl-warnings\n",
      "  warnings.warn(\n"
     ]
    },
    {
     "name": "stdout",
     "output_type": "stream",
     "text": [
      "not null\n",
      "7040000447573\n",
      "count 115\n",
      "https://omcs-global-customer-persister-ge4.omcs-nonprod.r1.pks.dell.com/omcs-global-customer-persister/v1/Dashboard/GetWorkflowSteps?dpid=7040000447573\n"
     ]
    },
    {
     "name": "stderr",
     "output_type": "stream",
     "text": [
      "C:\\Users\\Satpum\\AppData\\Local\\anaconda3\\Lib\\site-packages\\urllib3\\connectionpool.py:1056: InsecureRequestWarning: Unverified HTTPS request is being made to host 'omcs-global-customer-persister-ge4.omcs-nonprod.r1.pks.dell.com'. Adding certificate verification is strongly advised. See: https://urllib3.readthedocs.io/en/1.26.x/advanced-usage.html#ssl-warnings\n",
      "  warnings.warn(\n"
     ]
    },
    {
     "name": "stdout",
     "output_type": "stream",
     "text": [
      "not null\n",
      "7040000447572\n",
      "count 116\n",
      "https://omcs-global-customer-persister-ge4.omcs-nonprod.r1.pks.dell.com/omcs-global-customer-persister/v1/Dashboard/GetWorkflowSteps?dpid=7040000447572\n"
     ]
    },
    {
     "name": "stderr",
     "output_type": "stream",
     "text": [
      "C:\\Users\\Satpum\\AppData\\Local\\anaconda3\\Lib\\site-packages\\urllib3\\connectionpool.py:1056: InsecureRequestWarning: Unverified HTTPS request is being made to host 'omcs-global-customer-persister-ge4.omcs-nonprod.r1.pks.dell.com'. Adding certificate verification is strongly advised. See: https://urllib3.readthedocs.io/en/1.26.x/advanced-usage.html#ssl-warnings\n",
      "  warnings.warn(\n"
     ]
    },
    {
     "name": "stdout",
     "output_type": "stream",
     "text": [
      "not null\n",
      "7040000447571\n",
      "count 117\n",
      "https://omcs-global-customer-persister-ge4.omcs-nonprod.r1.pks.dell.com/omcs-global-customer-persister/v1/Dashboard/GetWorkflowSteps?dpid=7040000447571\n"
     ]
    },
    {
     "name": "stderr",
     "output_type": "stream",
     "text": [
      "C:\\Users\\Satpum\\AppData\\Local\\anaconda3\\Lib\\site-packages\\urllib3\\connectionpool.py:1056: InsecureRequestWarning: Unverified HTTPS request is being made to host 'omcs-global-customer-persister-ge4.omcs-nonprod.r1.pks.dell.com'. Adding certificate verification is strongly advised. See: https://urllib3.readthedocs.io/en/1.26.x/advanced-usage.html#ssl-warnings\n",
      "  warnings.warn(\n"
     ]
    },
    {
     "name": "stdout",
     "output_type": "stream",
     "text": [
      "not null\n",
      "7040000447570\n",
      "count 118\n",
      "https://omcs-global-customer-persister-ge4.omcs-nonprod.r1.pks.dell.com/omcs-global-customer-persister/v1/Dashboard/GetWorkflowSteps?dpid=7040000447570\n"
     ]
    },
    {
     "name": "stderr",
     "output_type": "stream",
     "text": [
      "C:\\Users\\Satpum\\AppData\\Local\\anaconda3\\Lib\\site-packages\\urllib3\\connectionpool.py:1056: InsecureRequestWarning: Unverified HTTPS request is being made to host 'omcs-global-customer-persister-ge4.omcs-nonprod.r1.pks.dell.com'. Adding certificate verification is strongly advised. See: https://urllib3.readthedocs.io/en/1.26.x/advanced-usage.html#ssl-warnings\n",
      "  warnings.warn(\n"
     ]
    },
    {
     "name": "stdout",
     "output_type": "stream",
     "text": [
      "not null\n",
      "7040000447569\n",
      "count 119\n",
      "https://omcs-global-customer-persister-ge4.omcs-nonprod.r1.pks.dell.com/omcs-global-customer-persister/v1/Dashboard/GetWorkflowSteps?dpid=7040000447569\n"
     ]
    },
    {
     "name": "stderr",
     "output_type": "stream",
     "text": [
      "C:\\Users\\Satpum\\AppData\\Local\\anaconda3\\Lib\\site-packages\\urllib3\\connectionpool.py:1056: InsecureRequestWarning: Unverified HTTPS request is being made to host 'omcs-global-customer-persister-ge4.omcs-nonprod.r1.pks.dell.com'. Adding certificate verification is strongly advised. See: https://urllib3.readthedocs.io/en/1.26.x/advanced-usage.html#ssl-warnings\n",
      "  warnings.warn(\n"
     ]
    },
    {
     "name": "stdout",
     "output_type": "stream",
     "text": [
      "not null\n",
      "7040000447568\n",
      "count 120\n",
      "https://omcs-global-customer-persister-ge4.omcs-nonprod.r1.pks.dell.com/omcs-global-customer-persister/v1/Dashboard/GetWorkflowSteps?dpid=7040000447568\n"
     ]
    },
    {
     "name": "stderr",
     "output_type": "stream",
     "text": [
      "C:\\Users\\Satpum\\AppData\\Local\\anaconda3\\Lib\\site-packages\\urllib3\\connectionpool.py:1056: InsecureRequestWarning: Unverified HTTPS request is being made to host 'omcs-global-customer-persister-ge4.omcs-nonprod.r1.pks.dell.com'. Adding certificate verification is strongly advised. See: https://urllib3.readthedocs.io/en/1.26.x/advanced-usage.html#ssl-warnings\n",
      "  warnings.warn(\n"
     ]
    },
    {
     "name": "stdout",
     "output_type": "stream",
     "text": [
      "not null\n",
      "7040000447567\n",
      "count 121\n",
      "https://omcs-global-customer-persister-ge4.omcs-nonprod.r1.pks.dell.com/omcs-global-customer-persister/v1/Dashboard/GetWorkflowSteps?dpid=7040000447567\n"
     ]
    },
    {
     "name": "stderr",
     "output_type": "stream",
     "text": [
      "C:\\Users\\Satpum\\AppData\\Local\\anaconda3\\Lib\\site-packages\\urllib3\\connectionpool.py:1056: InsecureRequestWarning: Unverified HTTPS request is being made to host 'omcs-global-customer-persister-ge4.omcs-nonprod.r1.pks.dell.com'. Adding certificate verification is strongly advised. See: https://urllib3.readthedocs.io/en/1.26.x/advanced-usage.html#ssl-warnings\n",
      "  warnings.warn(\n"
     ]
    },
    {
     "name": "stdout",
     "output_type": "stream",
     "text": [
      "not null\n",
      "7040000447566\n",
      "count 122\n",
      "https://omcs-global-customer-persister-ge4.omcs-nonprod.r1.pks.dell.com/omcs-global-customer-persister/v1/Dashboard/GetWorkflowSteps?dpid=7040000447566\n"
     ]
    },
    {
     "name": "stderr",
     "output_type": "stream",
     "text": [
      "C:\\Users\\Satpum\\AppData\\Local\\anaconda3\\Lib\\site-packages\\urllib3\\connectionpool.py:1056: InsecureRequestWarning: Unverified HTTPS request is being made to host 'omcs-global-customer-persister-ge4.omcs-nonprod.r1.pks.dell.com'. Adding certificate verification is strongly advised. See: https://urllib3.readthedocs.io/en/1.26.x/advanced-usage.html#ssl-warnings\n",
      "  warnings.warn(\n"
     ]
    },
    {
     "name": "stdout",
     "output_type": "stream",
     "text": [
      "not null\n",
      "7040000447565\n",
      "count 123\n",
      "https://omcs-global-customer-persister-ge4.omcs-nonprod.r1.pks.dell.com/omcs-global-customer-persister/v1/Dashboard/GetWorkflowSteps?dpid=7040000447565\n"
     ]
    },
    {
     "name": "stderr",
     "output_type": "stream",
     "text": [
      "C:\\Users\\Satpum\\AppData\\Local\\anaconda3\\Lib\\site-packages\\urllib3\\connectionpool.py:1056: InsecureRequestWarning: Unverified HTTPS request is being made to host 'omcs-global-customer-persister-ge4.omcs-nonprod.r1.pks.dell.com'. Adding certificate verification is strongly advised. See: https://urllib3.readthedocs.io/en/1.26.x/advanced-usage.html#ssl-warnings\n",
      "  warnings.warn(\n"
     ]
    },
    {
     "name": "stdout",
     "output_type": "stream",
     "text": [
      "not null\n",
      "7040000447564\n",
      "count 124\n",
      "https://omcs-global-customer-persister-ge4.omcs-nonprod.r1.pks.dell.com/omcs-global-customer-persister/v1/Dashboard/GetWorkflowSteps?dpid=7040000447564\n"
     ]
    },
    {
     "name": "stderr",
     "output_type": "stream",
     "text": [
      "C:\\Users\\Satpum\\AppData\\Local\\anaconda3\\Lib\\site-packages\\urllib3\\connectionpool.py:1056: InsecureRequestWarning: Unverified HTTPS request is being made to host 'omcs-global-customer-persister-ge4.omcs-nonprod.r1.pks.dell.com'. Adding certificate verification is strongly advised. See: https://urllib3.readthedocs.io/en/1.26.x/advanced-usage.html#ssl-warnings\n",
      "  warnings.warn(\n"
     ]
    },
    {
     "name": "stdout",
     "output_type": "stream",
     "text": [
      "not null\n",
      "7040000447563\n",
      "count 125\n",
      "https://omcs-global-customer-persister-ge4.omcs-nonprod.r1.pks.dell.com/omcs-global-customer-persister/v1/Dashboard/GetWorkflowSteps?dpid=7040000447563\n"
     ]
    },
    {
     "name": "stderr",
     "output_type": "stream",
     "text": [
      "C:\\Users\\Satpum\\AppData\\Local\\anaconda3\\Lib\\site-packages\\urllib3\\connectionpool.py:1056: InsecureRequestWarning: Unverified HTTPS request is being made to host 'omcs-global-customer-persister-ge4.omcs-nonprod.r1.pks.dell.com'. Adding certificate verification is strongly advised. See: https://urllib3.readthedocs.io/en/1.26.x/advanced-usage.html#ssl-warnings\n",
      "  warnings.warn(\n"
     ]
    },
    {
     "name": "stdout",
     "output_type": "stream",
     "text": [
      "not null\n",
      "7040000447562\n",
      "count 126\n",
      "https://omcs-global-customer-persister-ge4.omcs-nonprod.r1.pks.dell.com/omcs-global-customer-persister/v1/Dashboard/GetWorkflowSteps?dpid=7040000447562\n"
     ]
    },
    {
     "name": "stderr",
     "output_type": "stream",
     "text": [
      "C:\\Users\\Satpum\\AppData\\Local\\anaconda3\\Lib\\site-packages\\urllib3\\connectionpool.py:1056: InsecureRequestWarning: Unverified HTTPS request is being made to host 'omcs-global-customer-persister-ge4.omcs-nonprod.r1.pks.dell.com'. Adding certificate verification is strongly advised. See: https://urllib3.readthedocs.io/en/1.26.x/advanced-usage.html#ssl-warnings\n",
      "  warnings.warn(\n"
     ]
    },
    {
     "name": "stdout",
     "output_type": "stream",
     "text": [
      "not null\n",
      "7040000447561\n",
      "count 127\n",
      "https://omcs-global-customer-persister-ge4.omcs-nonprod.r1.pks.dell.com/omcs-global-customer-persister/v1/Dashboard/GetWorkflowSteps?dpid=7040000447561\n"
     ]
    },
    {
     "name": "stderr",
     "output_type": "stream",
     "text": [
      "C:\\Users\\Satpum\\AppData\\Local\\anaconda3\\Lib\\site-packages\\urllib3\\connectionpool.py:1056: InsecureRequestWarning: Unverified HTTPS request is being made to host 'omcs-global-customer-persister-ge4.omcs-nonprod.r1.pks.dell.com'. Adding certificate verification is strongly advised. See: https://urllib3.readthedocs.io/en/1.26.x/advanced-usage.html#ssl-warnings\n",
      "  warnings.warn(\n"
     ]
    },
    {
     "name": "stdout",
     "output_type": "stream",
     "text": [
      "not null\n",
      "7040000447560\n",
      "count 128\n",
      "https://omcs-global-customer-persister-ge4.omcs-nonprod.r1.pks.dell.com/omcs-global-customer-persister/v1/Dashboard/GetWorkflowSteps?dpid=7040000447560\n"
     ]
    },
    {
     "name": "stderr",
     "output_type": "stream",
     "text": [
      "C:\\Users\\Satpum\\AppData\\Local\\anaconda3\\Lib\\site-packages\\urllib3\\connectionpool.py:1056: InsecureRequestWarning: Unverified HTTPS request is being made to host 'omcs-global-customer-persister-ge4.omcs-nonprod.r1.pks.dell.com'. Adding certificate verification is strongly advised. See: https://urllib3.readthedocs.io/en/1.26.x/advanced-usage.html#ssl-warnings\n",
      "  warnings.warn(\n"
     ]
    },
    {
     "name": "stdout",
     "output_type": "stream",
     "text": [
      "not null\n",
      "7040000447559\n",
      "count 129\n",
      "https://omcs-global-customer-persister-ge4.omcs-nonprod.r1.pks.dell.com/omcs-global-customer-persister/v1/Dashboard/GetWorkflowSteps?dpid=7040000447559\n"
     ]
    },
    {
     "name": "stderr",
     "output_type": "stream",
     "text": [
      "C:\\Users\\Satpum\\AppData\\Local\\anaconda3\\Lib\\site-packages\\urllib3\\connectionpool.py:1056: InsecureRequestWarning: Unverified HTTPS request is being made to host 'omcs-global-customer-persister-ge4.omcs-nonprod.r1.pks.dell.com'. Adding certificate verification is strongly advised. See: https://urllib3.readthedocs.io/en/1.26.x/advanced-usage.html#ssl-warnings\n",
      "  warnings.warn(\n"
     ]
    },
    {
     "name": "stdout",
     "output_type": "stream",
     "text": [
      "not null\n",
      "7040000447558\n",
      "count 130\n",
      "https://omcs-global-customer-persister-ge4.omcs-nonprod.r1.pks.dell.com/omcs-global-customer-persister/v1/Dashboard/GetWorkflowSteps?dpid=7040000447558\n"
     ]
    },
    {
     "name": "stderr",
     "output_type": "stream",
     "text": [
      "C:\\Users\\Satpum\\AppData\\Local\\anaconda3\\Lib\\site-packages\\urllib3\\connectionpool.py:1056: InsecureRequestWarning: Unverified HTTPS request is being made to host 'omcs-global-customer-persister-ge4.omcs-nonprod.r1.pks.dell.com'. Adding certificate verification is strongly advised. See: https://urllib3.readthedocs.io/en/1.26.x/advanced-usage.html#ssl-warnings\n",
      "  warnings.warn(\n"
     ]
    },
    {
     "name": "stdout",
     "output_type": "stream",
     "text": [
      "not null\n",
      "7040000447557\n",
      "count 131\n",
      "https://omcs-global-customer-persister-ge4.omcs-nonprod.r1.pks.dell.com/omcs-global-customer-persister/v1/Dashboard/GetWorkflowSteps?dpid=7040000447557\n"
     ]
    },
    {
     "name": "stderr",
     "output_type": "stream",
     "text": [
      "C:\\Users\\Satpum\\AppData\\Local\\anaconda3\\Lib\\site-packages\\urllib3\\connectionpool.py:1056: InsecureRequestWarning: Unverified HTTPS request is being made to host 'omcs-global-customer-persister-ge4.omcs-nonprod.r1.pks.dell.com'. Adding certificate verification is strongly advised. See: https://urllib3.readthedocs.io/en/1.26.x/advanced-usage.html#ssl-warnings\n",
      "  warnings.warn(\n"
     ]
    },
    {
     "name": "stdout",
     "output_type": "stream",
     "text": [
      "not null\n",
      "7040000447556\n",
      "count 132\n",
      "https://omcs-global-customer-persister-ge4.omcs-nonprod.r1.pks.dell.com/omcs-global-customer-persister/v1/Dashboard/GetWorkflowSteps?dpid=7040000447556\n"
     ]
    },
    {
     "name": "stderr",
     "output_type": "stream",
     "text": [
      "C:\\Users\\Satpum\\AppData\\Local\\anaconda3\\Lib\\site-packages\\urllib3\\connectionpool.py:1056: InsecureRequestWarning: Unverified HTTPS request is being made to host 'omcs-global-customer-persister-ge4.omcs-nonprod.r1.pks.dell.com'. Adding certificate verification is strongly advised. See: https://urllib3.readthedocs.io/en/1.26.x/advanced-usage.html#ssl-warnings\n",
      "  warnings.warn(\n"
     ]
    },
    {
     "name": "stdout",
     "output_type": "stream",
     "text": [
      "not null\n",
      "7040000447555\n",
      "count 133\n",
      "https://omcs-global-customer-persister-ge4.omcs-nonprod.r1.pks.dell.com/omcs-global-customer-persister/v1/Dashboard/GetWorkflowSteps?dpid=7040000447555\n"
     ]
    },
    {
     "name": "stderr",
     "output_type": "stream",
     "text": [
      "C:\\Users\\Satpum\\AppData\\Local\\anaconda3\\Lib\\site-packages\\urllib3\\connectionpool.py:1056: InsecureRequestWarning: Unverified HTTPS request is being made to host 'omcs-global-customer-persister-ge4.omcs-nonprod.r1.pks.dell.com'. Adding certificate verification is strongly advised. See: https://urllib3.readthedocs.io/en/1.26.x/advanced-usage.html#ssl-warnings\n",
      "  warnings.warn(\n"
     ]
    },
    {
     "name": "stdout",
     "output_type": "stream",
     "text": [
      "not null\n",
      "7040000447554\n",
      "count 134\n",
      "https://omcs-global-customer-persister-ge4.omcs-nonprod.r1.pks.dell.com/omcs-global-customer-persister/v1/Dashboard/GetWorkflowSteps?dpid=7040000447554\n"
     ]
    },
    {
     "name": "stderr",
     "output_type": "stream",
     "text": [
      "C:\\Users\\Satpum\\AppData\\Local\\anaconda3\\Lib\\site-packages\\urllib3\\connectionpool.py:1056: InsecureRequestWarning: Unverified HTTPS request is being made to host 'omcs-global-customer-persister-ge4.omcs-nonprod.r1.pks.dell.com'. Adding certificate verification is strongly advised. See: https://urllib3.readthedocs.io/en/1.26.x/advanced-usage.html#ssl-warnings\n",
      "  warnings.warn(\n"
     ]
    },
    {
     "name": "stdout",
     "output_type": "stream",
     "text": [
      "not null\n",
      "7040000447553\n",
      "count 135\n",
      "https://omcs-global-customer-persister-ge4.omcs-nonprod.r1.pks.dell.com/omcs-global-customer-persister/v1/Dashboard/GetWorkflowSteps?dpid=7040000447553\n"
     ]
    },
    {
     "name": "stderr",
     "output_type": "stream",
     "text": [
      "C:\\Users\\Satpum\\AppData\\Local\\anaconda3\\Lib\\site-packages\\urllib3\\connectionpool.py:1056: InsecureRequestWarning: Unverified HTTPS request is being made to host 'omcs-global-customer-persister-ge4.omcs-nonprod.r1.pks.dell.com'. Adding certificate verification is strongly advised. See: https://urllib3.readthedocs.io/en/1.26.x/advanced-usage.html#ssl-warnings\n",
      "  warnings.warn(\n"
     ]
    },
    {
     "name": "stdout",
     "output_type": "stream",
     "text": [
      "not null\n",
      "7040000447552\n",
      "count 136\n",
      "https://omcs-global-customer-persister-ge4.omcs-nonprod.r1.pks.dell.com/omcs-global-customer-persister/v1/Dashboard/GetWorkflowSteps?dpid=7040000447552\n"
     ]
    },
    {
     "name": "stderr",
     "output_type": "stream",
     "text": [
      "C:\\Users\\Satpum\\AppData\\Local\\anaconda3\\Lib\\site-packages\\urllib3\\connectionpool.py:1056: InsecureRequestWarning: Unverified HTTPS request is being made to host 'omcs-global-customer-persister-ge4.omcs-nonprod.r1.pks.dell.com'. Adding certificate verification is strongly advised. See: https://urllib3.readthedocs.io/en/1.26.x/advanced-usage.html#ssl-warnings\n",
      "  warnings.warn(\n"
     ]
    },
    {
     "name": "stdout",
     "output_type": "stream",
     "text": [
      "not null\n",
      "7040000447551\n",
      "count 137\n",
      "https://omcs-global-customer-persister-ge4.omcs-nonprod.r1.pks.dell.com/omcs-global-customer-persister/v1/Dashboard/GetWorkflowSteps?dpid=7040000447551\n"
     ]
    },
    {
     "name": "stderr",
     "output_type": "stream",
     "text": [
      "C:\\Users\\Satpum\\AppData\\Local\\anaconda3\\Lib\\site-packages\\urllib3\\connectionpool.py:1056: InsecureRequestWarning: Unverified HTTPS request is being made to host 'omcs-global-customer-persister-ge4.omcs-nonprod.r1.pks.dell.com'. Adding certificate verification is strongly advised. See: https://urllib3.readthedocs.io/en/1.26.x/advanced-usage.html#ssl-warnings\n",
      "  warnings.warn(\n"
     ]
    },
    {
     "name": "stdout",
     "output_type": "stream",
     "text": [
      "not null\n",
      "7040000447550\n",
      "count 138\n",
      "https://omcs-global-customer-persister-ge4.omcs-nonprod.r1.pks.dell.com/omcs-global-customer-persister/v1/Dashboard/GetWorkflowSteps?dpid=7040000447550\n"
     ]
    },
    {
     "name": "stderr",
     "output_type": "stream",
     "text": [
      "C:\\Users\\Satpum\\AppData\\Local\\anaconda3\\Lib\\site-packages\\urllib3\\connectionpool.py:1056: InsecureRequestWarning: Unverified HTTPS request is being made to host 'omcs-global-customer-persister-ge4.omcs-nonprod.r1.pks.dell.com'. Adding certificate verification is strongly advised. See: https://urllib3.readthedocs.io/en/1.26.x/advanced-usage.html#ssl-warnings\n",
      "  warnings.warn(\n"
     ]
    },
    {
     "name": "stdout",
     "output_type": "stream",
     "text": [
      "not null\n",
      "7040000447549\n",
      "count 139\n",
      "https://omcs-global-customer-persister-ge4.omcs-nonprod.r1.pks.dell.com/omcs-global-customer-persister/v1/Dashboard/GetWorkflowSteps?dpid=7040000447549\n"
     ]
    },
    {
     "name": "stderr",
     "output_type": "stream",
     "text": [
      "C:\\Users\\Satpum\\AppData\\Local\\anaconda3\\Lib\\site-packages\\urllib3\\connectionpool.py:1056: InsecureRequestWarning: Unverified HTTPS request is being made to host 'omcs-global-customer-persister-ge4.omcs-nonprod.r1.pks.dell.com'. Adding certificate verification is strongly advised. See: https://urllib3.readthedocs.io/en/1.26.x/advanced-usage.html#ssl-warnings\n",
      "  warnings.warn(\n"
     ]
    },
    {
     "name": "stdout",
     "output_type": "stream",
     "text": [
      "not null\n",
      "7040000447548\n",
      "count 140\n",
      "https://omcs-global-customer-persister-ge4.omcs-nonprod.r1.pks.dell.com/omcs-global-customer-persister/v1/Dashboard/GetWorkflowSteps?dpid=7040000447548\n"
     ]
    },
    {
     "name": "stderr",
     "output_type": "stream",
     "text": [
      "C:\\Users\\Satpum\\AppData\\Local\\anaconda3\\Lib\\site-packages\\urllib3\\connectionpool.py:1056: InsecureRequestWarning: Unverified HTTPS request is being made to host 'omcs-global-customer-persister-ge4.omcs-nonprod.r1.pks.dell.com'. Adding certificate verification is strongly advised. See: https://urllib3.readthedocs.io/en/1.26.x/advanced-usage.html#ssl-warnings\n",
      "  warnings.warn(\n"
     ]
    },
    {
     "name": "stdout",
     "output_type": "stream",
     "text": [
      "not null\n",
      "7040000447547\n",
      "count 141\n",
      "https://omcs-global-customer-persister-ge4.omcs-nonprod.r1.pks.dell.com/omcs-global-customer-persister/v1/Dashboard/GetWorkflowSteps?dpid=7040000447547\n"
     ]
    },
    {
     "name": "stderr",
     "output_type": "stream",
     "text": [
      "C:\\Users\\Satpum\\AppData\\Local\\anaconda3\\Lib\\site-packages\\urllib3\\connectionpool.py:1056: InsecureRequestWarning: Unverified HTTPS request is being made to host 'omcs-global-customer-persister-ge4.omcs-nonprod.r1.pks.dell.com'. Adding certificate verification is strongly advised. See: https://urllib3.readthedocs.io/en/1.26.x/advanced-usage.html#ssl-warnings\n",
      "  warnings.warn(\n"
     ]
    },
    {
     "name": "stdout",
     "output_type": "stream",
     "text": [
      "not null\n",
      "7040000447546\n",
      "count 142\n",
      "https://omcs-global-customer-persister-ge4.omcs-nonprod.r1.pks.dell.com/omcs-global-customer-persister/v1/Dashboard/GetWorkflowSteps?dpid=7040000447546\n"
     ]
    },
    {
     "name": "stderr",
     "output_type": "stream",
     "text": [
      "C:\\Users\\Satpum\\AppData\\Local\\anaconda3\\Lib\\site-packages\\urllib3\\connectionpool.py:1056: InsecureRequestWarning: Unverified HTTPS request is being made to host 'omcs-global-customer-persister-ge4.omcs-nonprod.r1.pks.dell.com'. Adding certificate verification is strongly advised. See: https://urllib3.readthedocs.io/en/1.26.x/advanced-usage.html#ssl-warnings\n",
      "  warnings.warn(\n"
     ]
    },
    {
     "name": "stdout",
     "output_type": "stream",
     "text": [
      "not null\n",
      "7040000447545\n",
      "count 143\n",
      "https://omcs-global-customer-persister-ge4.omcs-nonprod.r1.pks.dell.com/omcs-global-customer-persister/v1/Dashboard/GetWorkflowSteps?dpid=7040000447545\n"
     ]
    },
    {
     "name": "stderr",
     "output_type": "stream",
     "text": [
      "C:\\Users\\Satpum\\AppData\\Local\\anaconda3\\Lib\\site-packages\\urllib3\\connectionpool.py:1056: InsecureRequestWarning: Unverified HTTPS request is being made to host 'omcs-global-customer-persister-ge4.omcs-nonprod.r1.pks.dell.com'. Adding certificate verification is strongly advised. See: https://urllib3.readthedocs.io/en/1.26.x/advanced-usage.html#ssl-warnings\n",
      "  warnings.warn(\n"
     ]
    },
    {
     "name": "stdout",
     "output_type": "stream",
     "text": [
      "not null\n",
      "7040000447544\n",
      "count 144\n",
      "https://omcs-global-customer-persister-ge4.omcs-nonprod.r1.pks.dell.com/omcs-global-customer-persister/v1/Dashboard/GetWorkflowSteps?dpid=7040000447544\n"
     ]
    },
    {
     "name": "stderr",
     "output_type": "stream",
     "text": [
      "C:\\Users\\Satpum\\AppData\\Local\\anaconda3\\Lib\\site-packages\\urllib3\\connectionpool.py:1056: InsecureRequestWarning: Unverified HTTPS request is being made to host 'omcs-global-customer-persister-ge4.omcs-nonprod.r1.pks.dell.com'. Adding certificate verification is strongly advised. See: https://urllib3.readthedocs.io/en/1.26.x/advanced-usage.html#ssl-warnings\n",
      "  warnings.warn(\n"
     ]
    },
    {
     "name": "stdout",
     "output_type": "stream",
     "text": [
      "not null\n",
      "7040000447543\n",
      "count 145\n",
      "https://omcs-global-customer-persister-ge4.omcs-nonprod.r1.pks.dell.com/omcs-global-customer-persister/v1/Dashboard/GetWorkflowSteps?dpid=7040000447543\n"
     ]
    },
    {
     "name": "stderr",
     "output_type": "stream",
     "text": [
      "C:\\Users\\Satpum\\AppData\\Local\\anaconda3\\Lib\\site-packages\\urllib3\\connectionpool.py:1056: InsecureRequestWarning: Unverified HTTPS request is being made to host 'omcs-global-customer-persister-ge4.omcs-nonprod.r1.pks.dell.com'. Adding certificate verification is strongly advised. See: https://urllib3.readthedocs.io/en/1.26.x/advanced-usage.html#ssl-warnings\n",
      "  warnings.warn(\n"
     ]
    },
    {
     "name": "stdout",
     "output_type": "stream",
     "text": [
      "null7040000447543\n",
      "7040000447542\n",
      "count 146\n",
      "https://omcs-global-customer-persister-ge4.omcs-nonprod.r1.pks.dell.com/omcs-global-customer-persister/v1/Dashboard/GetWorkflowSteps?dpid=7040000447542\n"
     ]
    },
    {
     "name": "stderr",
     "output_type": "stream",
     "text": [
      "C:\\Users\\Satpum\\AppData\\Local\\anaconda3\\Lib\\site-packages\\urllib3\\connectionpool.py:1056: InsecureRequestWarning: Unverified HTTPS request is being made to host 'omcs-global-customer-persister-ge4.omcs-nonprod.r1.pks.dell.com'. Adding certificate verification is strongly advised. See: https://urllib3.readthedocs.io/en/1.26.x/advanced-usage.html#ssl-warnings\n",
      "  warnings.warn(\n"
     ]
    },
    {
     "name": "stdout",
     "output_type": "stream",
     "text": [
      "null7040000447542\n",
      "7040000447541\n",
      "count 147\n",
      "https://omcs-global-customer-persister-ge4.omcs-nonprod.r1.pks.dell.com/omcs-global-customer-persister/v1/Dashboard/GetWorkflowSteps?dpid=7040000447541\n"
     ]
    },
    {
     "name": "stderr",
     "output_type": "stream",
     "text": [
      "C:\\Users\\Satpum\\AppData\\Local\\anaconda3\\Lib\\site-packages\\urllib3\\connectionpool.py:1056: InsecureRequestWarning: Unverified HTTPS request is being made to host 'omcs-global-customer-persister-ge4.omcs-nonprod.r1.pks.dell.com'. Adding certificate verification is strongly advised. See: https://urllib3.readthedocs.io/en/1.26.x/advanced-usage.html#ssl-warnings\n",
      "  warnings.warn(\n"
     ]
    },
    {
     "name": "stdout",
     "output_type": "stream",
     "text": [
      "null7040000447541\n",
      "7040000447540\n",
      "count 148\n",
      "https://omcs-global-customer-persister-ge4.omcs-nonprod.r1.pks.dell.com/omcs-global-customer-persister/v1/Dashboard/GetWorkflowSteps?dpid=7040000447540\n"
     ]
    },
    {
     "name": "stderr",
     "output_type": "stream",
     "text": [
      "C:\\Users\\Satpum\\AppData\\Local\\anaconda3\\Lib\\site-packages\\urllib3\\connectionpool.py:1056: InsecureRequestWarning: Unverified HTTPS request is being made to host 'omcs-global-customer-persister-ge4.omcs-nonprod.r1.pks.dell.com'. Adding certificate verification is strongly advised. See: https://urllib3.readthedocs.io/en/1.26.x/advanced-usage.html#ssl-warnings\n",
      "  warnings.warn(\n"
     ]
    },
    {
     "name": "stdout",
     "output_type": "stream",
     "text": [
      "not null\n",
      "7040000447539\n",
      "count 149\n",
      "https://omcs-global-customer-persister-ge4.omcs-nonprod.r1.pks.dell.com/omcs-global-customer-persister/v1/Dashboard/GetWorkflowSteps?dpid=7040000447539\n"
     ]
    },
    {
     "name": "stderr",
     "output_type": "stream",
     "text": [
      "C:\\Users\\Satpum\\AppData\\Local\\anaconda3\\Lib\\site-packages\\urllib3\\connectionpool.py:1056: InsecureRequestWarning: Unverified HTTPS request is being made to host 'omcs-global-customer-persister-ge4.omcs-nonprod.r1.pks.dell.com'. Adding certificate verification is strongly advised. See: https://urllib3.readthedocs.io/en/1.26.x/advanced-usage.html#ssl-warnings\n",
      "  warnings.warn(\n"
     ]
    },
    {
     "name": "stdout",
     "output_type": "stream",
     "text": [
      "not null\n",
      "7040000447538\n",
      "count 150\n",
      "https://omcs-global-customer-persister-ge4.omcs-nonprod.r1.pks.dell.com/omcs-global-customer-persister/v1/Dashboard/GetWorkflowSteps?dpid=7040000447538\n"
     ]
    },
    {
     "name": "stderr",
     "output_type": "stream",
     "text": [
      "C:\\Users\\Satpum\\AppData\\Local\\anaconda3\\Lib\\site-packages\\urllib3\\connectionpool.py:1056: InsecureRequestWarning: Unverified HTTPS request is being made to host 'omcs-global-customer-persister-ge4.omcs-nonprod.r1.pks.dell.com'. Adding certificate verification is strongly advised. See: https://urllib3.readthedocs.io/en/1.26.x/advanced-usage.html#ssl-warnings\n",
      "  warnings.warn(\n"
     ]
    },
    {
     "name": "stdout",
     "output_type": "stream",
     "text": [
      "not null\n",
      "7040000447537\n",
      "count 151\n",
      "https://omcs-global-customer-persister-ge4.omcs-nonprod.r1.pks.dell.com/omcs-global-customer-persister/v1/Dashboard/GetWorkflowSteps?dpid=7040000447537\n"
     ]
    },
    {
     "name": "stderr",
     "output_type": "stream",
     "text": [
      "C:\\Users\\Satpum\\AppData\\Local\\anaconda3\\Lib\\site-packages\\urllib3\\connectionpool.py:1056: InsecureRequestWarning: Unverified HTTPS request is being made to host 'omcs-global-customer-persister-ge4.omcs-nonprod.r1.pks.dell.com'. Adding certificate verification is strongly advised. See: https://urllib3.readthedocs.io/en/1.26.x/advanced-usage.html#ssl-warnings\n",
      "  warnings.warn(\n"
     ]
    },
    {
     "name": "stdout",
     "output_type": "stream",
     "text": [
      "not null\n",
      "7040000447536\n",
      "count 152\n",
      "https://omcs-global-customer-persister-ge4.omcs-nonprod.r1.pks.dell.com/omcs-global-customer-persister/v1/Dashboard/GetWorkflowSteps?dpid=7040000447536\n"
     ]
    },
    {
     "name": "stderr",
     "output_type": "stream",
     "text": [
      "C:\\Users\\Satpum\\AppData\\Local\\anaconda3\\Lib\\site-packages\\urllib3\\connectionpool.py:1056: InsecureRequestWarning: Unverified HTTPS request is being made to host 'omcs-global-customer-persister-ge4.omcs-nonprod.r1.pks.dell.com'. Adding certificate verification is strongly advised. See: https://urllib3.readthedocs.io/en/1.26.x/advanced-usage.html#ssl-warnings\n",
      "  warnings.warn(\n"
     ]
    },
    {
     "name": "stdout",
     "output_type": "stream",
     "text": [
      "not null\n",
      "7040000447535\n",
      "count 153\n",
      "https://omcs-global-customer-persister-ge4.omcs-nonprod.r1.pks.dell.com/omcs-global-customer-persister/v1/Dashboard/GetWorkflowSteps?dpid=7040000447535\n"
     ]
    },
    {
     "name": "stderr",
     "output_type": "stream",
     "text": [
      "C:\\Users\\Satpum\\AppData\\Local\\anaconda3\\Lib\\site-packages\\urllib3\\connectionpool.py:1056: InsecureRequestWarning: Unverified HTTPS request is being made to host 'omcs-global-customer-persister-ge4.omcs-nonprod.r1.pks.dell.com'. Adding certificate verification is strongly advised. See: https://urllib3.readthedocs.io/en/1.26.x/advanced-usage.html#ssl-warnings\n",
      "  warnings.warn(\n"
     ]
    },
    {
     "name": "stdout",
     "output_type": "stream",
     "text": [
      "not null\n",
      "7040000447534\n",
      "count 154\n",
      "https://omcs-global-customer-persister-ge4.omcs-nonprod.r1.pks.dell.com/omcs-global-customer-persister/v1/Dashboard/GetWorkflowSteps?dpid=7040000447534\n"
     ]
    },
    {
     "name": "stderr",
     "output_type": "stream",
     "text": [
      "C:\\Users\\Satpum\\AppData\\Local\\anaconda3\\Lib\\site-packages\\urllib3\\connectionpool.py:1056: InsecureRequestWarning: Unverified HTTPS request is being made to host 'omcs-global-customer-persister-ge4.omcs-nonprod.r1.pks.dell.com'. Adding certificate verification is strongly advised. See: https://urllib3.readthedocs.io/en/1.26.x/advanced-usage.html#ssl-warnings\n",
      "  warnings.warn(\n"
     ]
    },
    {
     "name": "stdout",
     "output_type": "stream",
     "text": [
      "not null\n",
      "7040000447533\n",
      "count 155\n",
      "https://omcs-global-customer-persister-ge4.omcs-nonprod.r1.pks.dell.com/omcs-global-customer-persister/v1/Dashboard/GetWorkflowSteps?dpid=7040000447533\n"
     ]
    },
    {
     "name": "stderr",
     "output_type": "stream",
     "text": [
      "C:\\Users\\Satpum\\AppData\\Local\\anaconda3\\Lib\\site-packages\\urllib3\\connectionpool.py:1056: InsecureRequestWarning: Unverified HTTPS request is being made to host 'omcs-global-customer-persister-ge4.omcs-nonprod.r1.pks.dell.com'. Adding certificate verification is strongly advised. See: https://urllib3.readthedocs.io/en/1.26.x/advanced-usage.html#ssl-warnings\n",
      "  warnings.warn(\n"
     ]
    },
    {
     "name": "stdout",
     "output_type": "stream",
     "text": [
      "not null\n",
      "7040000447532\n",
      "count 156\n",
      "https://omcs-global-customer-persister-ge4.omcs-nonprod.r1.pks.dell.com/omcs-global-customer-persister/v1/Dashboard/GetWorkflowSteps?dpid=7040000447532\n"
     ]
    },
    {
     "name": "stderr",
     "output_type": "stream",
     "text": [
      "C:\\Users\\Satpum\\AppData\\Local\\anaconda3\\Lib\\site-packages\\urllib3\\connectionpool.py:1056: InsecureRequestWarning: Unverified HTTPS request is being made to host 'omcs-global-customer-persister-ge4.omcs-nonprod.r1.pks.dell.com'. Adding certificate verification is strongly advised. See: https://urllib3.readthedocs.io/en/1.26.x/advanced-usage.html#ssl-warnings\n",
      "  warnings.warn(\n"
     ]
    },
    {
     "name": "stdout",
     "output_type": "stream",
     "text": [
      "not null\n",
      "7040000447531\n",
      "count 157\n",
      "https://omcs-global-customer-persister-ge4.omcs-nonprod.r1.pks.dell.com/omcs-global-customer-persister/v1/Dashboard/GetWorkflowSteps?dpid=7040000447531\n"
     ]
    },
    {
     "name": "stderr",
     "output_type": "stream",
     "text": [
      "C:\\Users\\Satpum\\AppData\\Local\\anaconda3\\Lib\\site-packages\\urllib3\\connectionpool.py:1056: InsecureRequestWarning: Unverified HTTPS request is being made to host 'omcs-global-customer-persister-ge4.omcs-nonprod.r1.pks.dell.com'. Adding certificate verification is strongly advised. See: https://urllib3.readthedocs.io/en/1.26.x/advanced-usage.html#ssl-warnings\n",
      "  warnings.warn(\n"
     ]
    },
    {
     "name": "stdout",
     "output_type": "stream",
     "text": [
      "not null\n",
      "7040000447530\n",
      "count 158\n",
      "https://omcs-global-customer-persister-ge4.omcs-nonprod.r1.pks.dell.com/omcs-global-customer-persister/v1/Dashboard/GetWorkflowSteps?dpid=7040000447530\n"
     ]
    },
    {
     "name": "stderr",
     "output_type": "stream",
     "text": [
      "C:\\Users\\Satpum\\AppData\\Local\\anaconda3\\Lib\\site-packages\\urllib3\\connectionpool.py:1056: InsecureRequestWarning: Unverified HTTPS request is being made to host 'omcs-global-customer-persister-ge4.omcs-nonprod.r1.pks.dell.com'. Adding certificate verification is strongly advised. See: https://urllib3.readthedocs.io/en/1.26.x/advanced-usage.html#ssl-warnings\n",
      "  warnings.warn(\n"
     ]
    },
    {
     "name": "stdout",
     "output_type": "stream",
     "text": [
      "not null\n",
      "7040000447529\n",
      "count 159\n",
      "https://omcs-global-customer-persister-ge4.omcs-nonprod.r1.pks.dell.com/omcs-global-customer-persister/v1/Dashboard/GetWorkflowSteps?dpid=7040000447529\n"
     ]
    },
    {
     "name": "stderr",
     "output_type": "stream",
     "text": [
      "C:\\Users\\Satpum\\AppData\\Local\\anaconda3\\Lib\\site-packages\\urllib3\\connectionpool.py:1056: InsecureRequestWarning: Unverified HTTPS request is being made to host 'omcs-global-customer-persister-ge4.omcs-nonprod.r1.pks.dell.com'. Adding certificate verification is strongly advised. See: https://urllib3.readthedocs.io/en/1.26.x/advanced-usage.html#ssl-warnings\n",
      "  warnings.warn(\n"
     ]
    },
    {
     "name": "stdout",
     "output_type": "stream",
     "text": [
      "not null\n",
      "7040000447528\n",
      "count 160\n",
      "https://omcs-global-customer-persister-ge4.omcs-nonprod.r1.pks.dell.com/omcs-global-customer-persister/v1/Dashboard/GetWorkflowSteps?dpid=7040000447528\n"
     ]
    },
    {
     "name": "stderr",
     "output_type": "stream",
     "text": [
      "C:\\Users\\Satpum\\AppData\\Local\\anaconda3\\Lib\\site-packages\\urllib3\\connectionpool.py:1056: InsecureRequestWarning: Unverified HTTPS request is being made to host 'omcs-global-customer-persister-ge4.omcs-nonprod.r1.pks.dell.com'. Adding certificate verification is strongly advised. See: https://urllib3.readthedocs.io/en/1.26.x/advanced-usage.html#ssl-warnings\n",
      "  warnings.warn(\n"
     ]
    },
    {
     "name": "stdout",
     "output_type": "stream",
     "text": [
      "null7040000447528\n",
      "7040000447527\n",
      "count 161\n",
      "https://omcs-global-customer-persister-ge4.omcs-nonprod.r1.pks.dell.com/omcs-global-customer-persister/v1/Dashboard/GetWorkflowSteps?dpid=7040000447527\n"
     ]
    },
    {
     "name": "stderr",
     "output_type": "stream",
     "text": [
      "C:\\Users\\Satpum\\AppData\\Local\\anaconda3\\Lib\\site-packages\\urllib3\\connectionpool.py:1056: InsecureRequestWarning: Unverified HTTPS request is being made to host 'omcs-global-customer-persister-ge4.omcs-nonprod.r1.pks.dell.com'. Adding certificate verification is strongly advised. See: https://urllib3.readthedocs.io/en/1.26.x/advanced-usage.html#ssl-warnings\n",
      "  warnings.warn(\n"
     ]
    },
    {
     "name": "stdout",
     "output_type": "stream",
     "text": [
      "not null\n",
      "7040000447526\n",
      "count 162\n",
      "https://omcs-global-customer-persister-ge4.omcs-nonprod.r1.pks.dell.com/omcs-global-customer-persister/v1/Dashboard/GetWorkflowSteps?dpid=7040000447526\n"
     ]
    },
    {
     "name": "stderr",
     "output_type": "stream",
     "text": [
      "C:\\Users\\Satpum\\AppData\\Local\\anaconda3\\Lib\\site-packages\\urllib3\\connectionpool.py:1056: InsecureRequestWarning: Unverified HTTPS request is being made to host 'omcs-global-customer-persister-ge4.omcs-nonprod.r1.pks.dell.com'. Adding certificate verification is strongly advised. See: https://urllib3.readthedocs.io/en/1.26.x/advanced-usage.html#ssl-warnings\n",
      "  warnings.warn(\n"
     ]
    },
    {
     "name": "stdout",
     "output_type": "stream",
     "text": [
      "not null\n",
      "7040000447525\n",
      "count 163\n",
      "https://omcs-global-customer-persister-ge4.omcs-nonprod.r1.pks.dell.com/omcs-global-customer-persister/v1/Dashboard/GetWorkflowSteps?dpid=7040000447525\n"
     ]
    },
    {
     "name": "stderr",
     "output_type": "stream",
     "text": [
      "C:\\Users\\Satpum\\AppData\\Local\\anaconda3\\Lib\\site-packages\\urllib3\\connectionpool.py:1056: InsecureRequestWarning: Unverified HTTPS request is being made to host 'omcs-global-customer-persister-ge4.omcs-nonprod.r1.pks.dell.com'. Adding certificate verification is strongly advised. See: https://urllib3.readthedocs.io/en/1.26.x/advanced-usage.html#ssl-warnings\n",
      "  warnings.warn(\n"
     ]
    },
    {
     "name": "stdout",
     "output_type": "stream",
     "text": [
      "not null\n",
      "7040000447524\n",
      "count 164\n",
      "https://omcs-global-customer-persister-ge4.omcs-nonprod.r1.pks.dell.com/omcs-global-customer-persister/v1/Dashboard/GetWorkflowSteps?dpid=7040000447524\n"
     ]
    },
    {
     "name": "stderr",
     "output_type": "stream",
     "text": [
      "C:\\Users\\Satpum\\AppData\\Local\\anaconda3\\Lib\\site-packages\\urllib3\\connectionpool.py:1056: InsecureRequestWarning: Unverified HTTPS request is being made to host 'omcs-global-customer-persister-ge4.omcs-nonprod.r1.pks.dell.com'. Adding certificate verification is strongly advised. See: https://urllib3.readthedocs.io/en/1.26.x/advanced-usage.html#ssl-warnings\n",
      "  warnings.warn(\n"
     ]
    },
    {
     "name": "stdout",
     "output_type": "stream",
     "text": [
      "not null\n",
      "7040000447523\n",
      "count 165\n",
      "https://omcs-global-customer-persister-ge4.omcs-nonprod.r1.pks.dell.com/omcs-global-customer-persister/v1/Dashboard/GetWorkflowSteps?dpid=7040000447523\n"
     ]
    },
    {
     "name": "stderr",
     "output_type": "stream",
     "text": [
      "C:\\Users\\Satpum\\AppData\\Local\\anaconda3\\Lib\\site-packages\\urllib3\\connectionpool.py:1056: InsecureRequestWarning: Unverified HTTPS request is being made to host 'omcs-global-customer-persister-ge4.omcs-nonprod.r1.pks.dell.com'. Adding certificate verification is strongly advised. See: https://urllib3.readthedocs.io/en/1.26.x/advanced-usage.html#ssl-warnings\n",
      "  warnings.warn(\n"
     ]
    },
    {
     "name": "stdout",
     "output_type": "stream",
     "text": [
      "not null\n",
      "7040000447522\n",
      "count 166\n",
      "https://omcs-global-customer-persister-ge4.omcs-nonprod.r1.pks.dell.com/omcs-global-customer-persister/v1/Dashboard/GetWorkflowSteps?dpid=7040000447522\n"
     ]
    },
    {
     "name": "stderr",
     "output_type": "stream",
     "text": [
      "C:\\Users\\Satpum\\AppData\\Local\\anaconda3\\Lib\\site-packages\\urllib3\\connectionpool.py:1056: InsecureRequestWarning: Unverified HTTPS request is being made to host 'omcs-global-customer-persister-ge4.omcs-nonprod.r1.pks.dell.com'. Adding certificate verification is strongly advised. See: https://urllib3.readthedocs.io/en/1.26.x/advanced-usage.html#ssl-warnings\n",
      "  warnings.warn(\n"
     ]
    },
    {
     "name": "stdout",
     "output_type": "stream",
     "text": [
      "not null\n",
      "7040000447521\n",
      "count 167\n",
      "https://omcs-global-customer-persister-ge4.omcs-nonprod.r1.pks.dell.com/omcs-global-customer-persister/v1/Dashboard/GetWorkflowSteps?dpid=7040000447521\n"
     ]
    },
    {
     "name": "stderr",
     "output_type": "stream",
     "text": [
      "C:\\Users\\Satpum\\AppData\\Local\\anaconda3\\Lib\\site-packages\\urllib3\\connectionpool.py:1056: InsecureRequestWarning: Unverified HTTPS request is being made to host 'omcs-global-customer-persister-ge4.omcs-nonprod.r1.pks.dell.com'. Adding certificate verification is strongly advised. See: https://urllib3.readthedocs.io/en/1.26.x/advanced-usage.html#ssl-warnings\n",
      "  warnings.warn(\n"
     ]
    },
    {
     "name": "stdout",
     "output_type": "stream",
     "text": [
      "not null\n",
      "7040000447520\n",
      "count 168\n",
      "https://omcs-global-customer-persister-ge4.omcs-nonprod.r1.pks.dell.com/omcs-global-customer-persister/v1/Dashboard/GetWorkflowSteps?dpid=7040000447520\n"
     ]
    },
    {
     "name": "stderr",
     "output_type": "stream",
     "text": [
      "C:\\Users\\Satpum\\AppData\\Local\\anaconda3\\Lib\\site-packages\\urllib3\\connectionpool.py:1056: InsecureRequestWarning: Unverified HTTPS request is being made to host 'omcs-global-customer-persister-ge4.omcs-nonprod.r1.pks.dell.com'. Adding certificate verification is strongly advised. See: https://urllib3.readthedocs.io/en/1.26.x/advanced-usage.html#ssl-warnings\n",
      "  warnings.warn(\n"
     ]
    },
    {
     "name": "stdout",
     "output_type": "stream",
     "text": [
      "null7040000447520\n",
      "7040000447519\n",
      "count 169\n",
      "https://omcs-global-customer-persister-ge4.omcs-nonprod.r1.pks.dell.com/omcs-global-customer-persister/v1/Dashboard/GetWorkflowSteps?dpid=7040000447519\n"
     ]
    },
    {
     "name": "stderr",
     "output_type": "stream",
     "text": [
      "C:\\Users\\Satpum\\AppData\\Local\\anaconda3\\Lib\\site-packages\\urllib3\\connectionpool.py:1056: InsecureRequestWarning: Unverified HTTPS request is being made to host 'omcs-global-customer-persister-ge4.omcs-nonprod.r1.pks.dell.com'. Adding certificate verification is strongly advised. See: https://urllib3.readthedocs.io/en/1.26.x/advanced-usage.html#ssl-warnings\n",
      "  warnings.warn(\n"
     ]
    },
    {
     "name": "stdout",
     "output_type": "stream",
     "text": [
      "null7040000447519\n",
      "7040000447518\n",
      "count 170\n",
      "https://omcs-global-customer-persister-ge4.omcs-nonprod.r1.pks.dell.com/omcs-global-customer-persister/v1/Dashboard/GetWorkflowSteps?dpid=7040000447518\n"
     ]
    },
    {
     "name": "stderr",
     "output_type": "stream",
     "text": [
      "C:\\Users\\Satpum\\AppData\\Local\\anaconda3\\Lib\\site-packages\\urllib3\\connectionpool.py:1056: InsecureRequestWarning: Unverified HTTPS request is being made to host 'omcs-global-customer-persister-ge4.omcs-nonprod.r1.pks.dell.com'. Adding certificate verification is strongly advised. See: https://urllib3.readthedocs.io/en/1.26.x/advanced-usage.html#ssl-warnings\n",
      "  warnings.warn(\n"
     ]
    },
    {
     "name": "stdout",
     "output_type": "stream",
     "text": [
      "null7040000447518\n",
      "7040000447517\n",
      "count 171\n",
      "https://omcs-global-customer-persister-ge4.omcs-nonprod.r1.pks.dell.com/omcs-global-customer-persister/v1/Dashboard/GetWorkflowSteps?dpid=7040000447517\n"
     ]
    },
    {
     "name": "stderr",
     "output_type": "stream",
     "text": [
      "C:\\Users\\Satpum\\AppData\\Local\\anaconda3\\Lib\\site-packages\\urllib3\\connectionpool.py:1056: InsecureRequestWarning: Unverified HTTPS request is being made to host 'omcs-global-customer-persister-ge4.omcs-nonprod.r1.pks.dell.com'. Adding certificate verification is strongly advised. See: https://urllib3.readthedocs.io/en/1.26.x/advanced-usage.html#ssl-warnings\n",
      "  warnings.warn(\n"
     ]
    },
    {
     "name": "stdout",
     "output_type": "stream",
     "text": [
      "not null\n",
      "7040000447516\n",
      "count 172\n",
      "https://omcs-global-customer-persister-ge4.omcs-nonprod.r1.pks.dell.com/omcs-global-customer-persister/v1/Dashboard/GetWorkflowSteps?dpid=7040000447516\n"
     ]
    },
    {
     "name": "stderr",
     "output_type": "stream",
     "text": [
      "C:\\Users\\Satpum\\AppData\\Local\\anaconda3\\Lib\\site-packages\\urllib3\\connectionpool.py:1056: InsecureRequestWarning: Unverified HTTPS request is being made to host 'omcs-global-customer-persister-ge4.omcs-nonprod.r1.pks.dell.com'. Adding certificate verification is strongly advised. See: https://urllib3.readthedocs.io/en/1.26.x/advanced-usage.html#ssl-warnings\n",
      "  warnings.warn(\n"
     ]
    },
    {
     "name": "stdout",
     "output_type": "stream",
     "text": [
      "not null\n",
      "7040000447515\n",
      "count 173\n",
      "https://omcs-global-customer-persister-ge4.omcs-nonprod.r1.pks.dell.com/omcs-global-customer-persister/v1/Dashboard/GetWorkflowSteps?dpid=7040000447515\n"
     ]
    },
    {
     "name": "stderr",
     "output_type": "stream",
     "text": [
      "C:\\Users\\Satpum\\AppData\\Local\\anaconda3\\Lib\\site-packages\\urllib3\\connectionpool.py:1056: InsecureRequestWarning: Unverified HTTPS request is being made to host 'omcs-global-customer-persister-ge4.omcs-nonprod.r1.pks.dell.com'. Adding certificate verification is strongly advised. See: https://urllib3.readthedocs.io/en/1.26.x/advanced-usage.html#ssl-warnings\n",
      "  warnings.warn(\n"
     ]
    },
    {
     "name": "stdout",
     "output_type": "stream",
     "text": [
      "not null\n",
      "7040000447514\n",
      "count 174\n",
      "https://omcs-global-customer-persister-ge4.omcs-nonprod.r1.pks.dell.com/omcs-global-customer-persister/v1/Dashboard/GetWorkflowSteps?dpid=7040000447514\n"
     ]
    },
    {
     "name": "stderr",
     "output_type": "stream",
     "text": [
      "C:\\Users\\Satpum\\AppData\\Local\\anaconda3\\Lib\\site-packages\\urllib3\\connectionpool.py:1056: InsecureRequestWarning: Unverified HTTPS request is being made to host 'omcs-global-customer-persister-ge4.omcs-nonprod.r1.pks.dell.com'. Adding certificate verification is strongly advised. See: https://urllib3.readthedocs.io/en/1.26.x/advanced-usage.html#ssl-warnings\n",
      "  warnings.warn(\n"
     ]
    },
    {
     "name": "stdout",
     "output_type": "stream",
     "text": [
      "null7040000447514\n",
      "7040000447513\n",
      "count 175\n",
      "https://omcs-global-customer-persister-ge4.omcs-nonprod.r1.pks.dell.com/omcs-global-customer-persister/v1/Dashboard/GetWorkflowSteps?dpid=7040000447513\n"
     ]
    },
    {
     "name": "stderr",
     "output_type": "stream",
     "text": [
      "C:\\Users\\Satpum\\AppData\\Local\\anaconda3\\Lib\\site-packages\\urllib3\\connectionpool.py:1056: InsecureRequestWarning: Unverified HTTPS request is being made to host 'omcs-global-customer-persister-ge4.omcs-nonprod.r1.pks.dell.com'. Adding certificate verification is strongly advised. See: https://urllib3.readthedocs.io/en/1.26.x/advanced-usage.html#ssl-warnings\n",
      "  warnings.warn(\n"
     ]
    },
    {
     "name": "stdout",
     "output_type": "stream",
     "text": [
      "not null\n",
      "7040000447512\n",
      "count 176\n",
      "https://omcs-global-customer-persister-ge4.omcs-nonprod.r1.pks.dell.com/omcs-global-customer-persister/v1/Dashboard/GetWorkflowSteps?dpid=7040000447512\n"
     ]
    },
    {
     "name": "stderr",
     "output_type": "stream",
     "text": [
      "C:\\Users\\Satpum\\AppData\\Local\\anaconda3\\Lib\\site-packages\\urllib3\\connectionpool.py:1056: InsecureRequestWarning: Unverified HTTPS request is being made to host 'omcs-global-customer-persister-ge4.omcs-nonprod.r1.pks.dell.com'. Adding certificate verification is strongly advised. See: https://urllib3.readthedocs.io/en/1.26.x/advanced-usage.html#ssl-warnings\n",
      "  warnings.warn(\n"
     ]
    },
    {
     "name": "stdout",
     "output_type": "stream",
     "text": [
      "null7040000447512\n",
      "7040000447511\n",
      "count 177\n",
      "https://omcs-global-customer-persister-ge4.omcs-nonprod.r1.pks.dell.com/omcs-global-customer-persister/v1/Dashboard/GetWorkflowSteps?dpid=7040000447511\n"
     ]
    },
    {
     "name": "stderr",
     "output_type": "stream",
     "text": [
      "C:\\Users\\Satpum\\AppData\\Local\\anaconda3\\Lib\\site-packages\\urllib3\\connectionpool.py:1056: InsecureRequestWarning: Unverified HTTPS request is being made to host 'omcs-global-customer-persister-ge4.omcs-nonprod.r1.pks.dell.com'. Adding certificate verification is strongly advised. See: https://urllib3.readthedocs.io/en/1.26.x/advanced-usage.html#ssl-warnings\n",
      "  warnings.warn(\n"
     ]
    },
    {
     "name": "stdout",
     "output_type": "stream",
     "text": [
      "null7040000447511\n",
      "7040000447510\n",
      "count 178\n",
      "https://omcs-global-customer-persister-ge4.omcs-nonprod.r1.pks.dell.com/omcs-global-customer-persister/v1/Dashboard/GetWorkflowSteps?dpid=7040000447510\n"
     ]
    },
    {
     "name": "stderr",
     "output_type": "stream",
     "text": [
      "C:\\Users\\Satpum\\AppData\\Local\\anaconda3\\Lib\\site-packages\\urllib3\\connectionpool.py:1056: InsecureRequestWarning: Unverified HTTPS request is being made to host 'omcs-global-customer-persister-ge4.omcs-nonprod.r1.pks.dell.com'. Adding certificate verification is strongly advised. See: https://urllib3.readthedocs.io/en/1.26.x/advanced-usage.html#ssl-warnings\n",
      "  warnings.warn(\n"
     ]
    },
    {
     "name": "stdout",
     "output_type": "stream",
     "text": [
      "not null\n",
      "7040000447509\n",
      "count 179\n",
      "https://omcs-global-customer-persister-ge4.omcs-nonprod.r1.pks.dell.com/omcs-global-customer-persister/v1/Dashboard/GetWorkflowSteps?dpid=7040000447509\n"
     ]
    },
    {
     "name": "stderr",
     "output_type": "stream",
     "text": [
      "C:\\Users\\Satpum\\AppData\\Local\\anaconda3\\Lib\\site-packages\\urllib3\\connectionpool.py:1056: InsecureRequestWarning: Unverified HTTPS request is being made to host 'omcs-global-customer-persister-ge4.omcs-nonprod.r1.pks.dell.com'. Adding certificate verification is strongly advised. See: https://urllib3.readthedocs.io/en/1.26.x/advanced-usage.html#ssl-warnings\n",
      "  warnings.warn(\n"
     ]
    },
    {
     "name": "stdout",
     "output_type": "stream",
     "text": [
      "not null\n",
      "7040000447508\n",
      "count 180\n",
      "https://omcs-global-customer-persister-ge4.omcs-nonprod.r1.pks.dell.com/omcs-global-customer-persister/v1/Dashboard/GetWorkflowSteps?dpid=7040000447508\n"
     ]
    },
    {
     "name": "stderr",
     "output_type": "stream",
     "text": [
      "C:\\Users\\Satpum\\AppData\\Local\\anaconda3\\Lib\\site-packages\\urllib3\\connectionpool.py:1056: InsecureRequestWarning: Unverified HTTPS request is being made to host 'omcs-global-customer-persister-ge4.omcs-nonprod.r1.pks.dell.com'. Adding certificate verification is strongly advised. See: https://urllib3.readthedocs.io/en/1.26.x/advanced-usage.html#ssl-warnings\n",
      "  warnings.warn(\n"
     ]
    },
    {
     "name": "stdout",
     "output_type": "stream",
     "text": [
      "not null\n",
      "7040000447507\n",
      "count 181\n",
      "https://omcs-global-customer-persister-ge4.omcs-nonprod.r1.pks.dell.com/omcs-global-customer-persister/v1/Dashboard/GetWorkflowSteps?dpid=7040000447507\n"
     ]
    },
    {
     "name": "stderr",
     "output_type": "stream",
     "text": [
      "C:\\Users\\Satpum\\AppData\\Local\\anaconda3\\Lib\\site-packages\\urllib3\\connectionpool.py:1056: InsecureRequestWarning: Unverified HTTPS request is being made to host 'omcs-global-customer-persister-ge4.omcs-nonprod.r1.pks.dell.com'. Adding certificate verification is strongly advised. See: https://urllib3.readthedocs.io/en/1.26.x/advanced-usage.html#ssl-warnings\n",
      "  warnings.warn(\n"
     ]
    },
    {
     "name": "stdout",
     "output_type": "stream",
     "text": [
      "not null\n",
      "7040000447506\n",
      "count 182\n",
      "https://omcs-global-customer-persister-ge4.omcs-nonprod.r1.pks.dell.com/omcs-global-customer-persister/v1/Dashboard/GetWorkflowSteps?dpid=7040000447506\n"
     ]
    },
    {
     "name": "stderr",
     "output_type": "stream",
     "text": [
      "C:\\Users\\Satpum\\AppData\\Local\\anaconda3\\Lib\\site-packages\\urllib3\\connectionpool.py:1056: InsecureRequestWarning: Unverified HTTPS request is being made to host 'omcs-global-customer-persister-ge4.omcs-nonprod.r1.pks.dell.com'. Adding certificate verification is strongly advised. See: https://urllib3.readthedocs.io/en/1.26.x/advanced-usage.html#ssl-warnings\n",
      "  warnings.warn(\n"
     ]
    },
    {
     "name": "stdout",
     "output_type": "stream",
     "text": [
      "null7040000447506\n",
      "7040000447505\n",
      "count 183\n",
      "https://omcs-global-customer-persister-ge4.omcs-nonprod.r1.pks.dell.com/omcs-global-customer-persister/v1/Dashboard/GetWorkflowSteps?dpid=7040000447505\n"
     ]
    },
    {
     "name": "stderr",
     "output_type": "stream",
     "text": [
      "C:\\Users\\Satpum\\AppData\\Local\\anaconda3\\Lib\\site-packages\\urllib3\\connectionpool.py:1056: InsecureRequestWarning: Unverified HTTPS request is being made to host 'omcs-global-customer-persister-ge4.omcs-nonprod.r1.pks.dell.com'. Adding certificate verification is strongly advised. See: https://urllib3.readthedocs.io/en/1.26.x/advanced-usage.html#ssl-warnings\n",
      "  warnings.warn(\n"
     ]
    },
    {
     "name": "stdout",
     "output_type": "stream",
     "text": [
      "null7040000447505\n",
      "7040000447504\n",
      "count 184\n",
      "https://omcs-global-customer-persister-ge4.omcs-nonprod.r1.pks.dell.com/omcs-global-customer-persister/v1/Dashboard/GetWorkflowSteps?dpid=7040000447504\n"
     ]
    },
    {
     "name": "stderr",
     "output_type": "stream",
     "text": [
      "C:\\Users\\Satpum\\AppData\\Local\\anaconda3\\Lib\\site-packages\\urllib3\\connectionpool.py:1056: InsecureRequestWarning: Unverified HTTPS request is being made to host 'omcs-global-customer-persister-ge4.omcs-nonprod.r1.pks.dell.com'. Adding certificate verification is strongly advised. See: https://urllib3.readthedocs.io/en/1.26.x/advanced-usage.html#ssl-warnings\n",
      "  warnings.warn(\n"
     ]
    },
    {
     "name": "stdout",
     "output_type": "stream",
     "text": [
      "not null\n",
      "7040000447503\n",
      "count 185\n",
      "https://omcs-global-customer-persister-ge4.omcs-nonprod.r1.pks.dell.com/omcs-global-customer-persister/v1/Dashboard/GetWorkflowSteps?dpid=7040000447503\n"
     ]
    },
    {
     "name": "stderr",
     "output_type": "stream",
     "text": [
      "C:\\Users\\Satpum\\AppData\\Local\\anaconda3\\Lib\\site-packages\\urllib3\\connectionpool.py:1056: InsecureRequestWarning: Unverified HTTPS request is being made to host 'omcs-global-customer-persister-ge4.omcs-nonprod.r1.pks.dell.com'. Adding certificate verification is strongly advised. See: https://urllib3.readthedocs.io/en/1.26.x/advanced-usage.html#ssl-warnings\n",
      "  warnings.warn(\n"
     ]
    },
    {
     "name": "stdout",
     "output_type": "stream",
     "text": [
      "null7040000447503\n",
      "7040000447502\n",
      "count 186\n",
      "https://omcs-global-customer-persister-ge4.omcs-nonprod.r1.pks.dell.com/omcs-global-customer-persister/v1/Dashboard/GetWorkflowSteps?dpid=7040000447502\n"
     ]
    },
    {
     "name": "stderr",
     "output_type": "stream",
     "text": [
      "C:\\Users\\Satpum\\AppData\\Local\\anaconda3\\Lib\\site-packages\\urllib3\\connectionpool.py:1056: InsecureRequestWarning: Unverified HTTPS request is being made to host 'omcs-global-customer-persister-ge4.omcs-nonprod.r1.pks.dell.com'. Adding certificate verification is strongly advised. See: https://urllib3.readthedocs.io/en/1.26.x/advanced-usage.html#ssl-warnings\n",
      "  warnings.warn(\n"
     ]
    },
    {
     "name": "stdout",
     "output_type": "stream",
     "text": [
      "null7040000447502\n",
      "7040000447501\n",
      "count 187\n",
      "https://omcs-global-customer-persister-ge4.omcs-nonprod.r1.pks.dell.com/omcs-global-customer-persister/v1/Dashboard/GetWorkflowSteps?dpid=7040000447501\n"
     ]
    },
    {
     "name": "stderr",
     "output_type": "stream",
     "text": [
      "C:\\Users\\Satpum\\AppData\\Local\\anaconda3\\Lib\\site-packages\\urllib3\\connectionpool.py:1056: InsecureRequestWarning: Unverified HTTPS request is being made to host 'omcs-global-customer-persister-ge4.omcs-nonprod.r1.pks.dell.com'. Adding certificate verification is strongly advised. See: https://urllib3.readthedocs.io/en/1.26.x/advanced-usage.html#ssl-warnings\n",
      "  warnings.warn(\n"
     ]
    },
    {
     "name": "stdout",
     "output_type": "stream",
     "text": [
      "null7040000447501\n",
      "7040000447500\n",
      "count 188\n",
      "https://omcs-global-customer-persister-ge4.omcs-nonprod.r1.pks.dell.com/omcs-global-customer-persister/v1/Dashboard/GetWorkflowSteps?dpid=7040000447500\n"
     ]
    },
    {
     "name": "stderr",
     "output_type": "stream",
     "text": [
      "C:\\Users\\Satpum\\AppData\\Local\\anaconda3\\Lib\\site-packages\\urllib3\\connectionpool.py:1056: InsecureRequestWarning: Unverified HTTPS request is being made to host 'omcs-global-customer-persister-ge4.omcs-nonprod.r1.pks.dell.com'. Adding certificate verification is strongly advised. See: https://urllib3.readthedocs.io/en/1.26.x/advanced-usage.html#ssl-warnings\n",
      "  warnings.warn(\n"
     ]
    },
    {
     "name": "stdout",
     "output_type": "stream",
     "text": [
      "not null\n",
      "7040000447499\n",
      "count 189\n",
      "https://omcs-global-customer-persister-ge4.omcs-nonprod.r1.pks.dell.com/omcs-global-customer-persister/v1/Dashboard/GetWorkflowSteps?dpid=7040000447499\n"
     ]
    },
    {
     "name": "stderr",
     "output_type": "stream",
     "text": [
      "C:\\Users\\Satpum\\AppData\\Local\\anaconda3\\Lib\\site-packages\\urllib3\\connectionpool.py:1056: InsecureRequestWarning: Unverified HTTPS request is being made to host 'omcs-global-customer-persister-ge4.omcs-nonprod.r1.pks.dell.com'. Adding certificate verification is strongly advised. See: https://urllib3.readthedocs.io/en/1.26.x/advanced-usage.html#ssl-warnings\n",
      "  warnings.warn(\n"
     ]
    },
    {
     "name": "stdout",
     "output_type": "stream",
     "text": [
      "null7040000447499\n",
      "7040000447498\n",
      "count 190\n",
      "https://omcs-global-customer-persister-ge4.omcs-nonprod.r1.pks.dell.com/omcs-global-customer-persister/v1/Dashboard/GetWorkflowSteps?dpid=7040000447498\n"
     ]
    },
    {
     "name": "stderr",
     "output_type": "stream",
     "text": [
      "C:\\Users\\Satpum\\AppData\\Local\\anaconda3\\Lib\\site-packages\\urllib3\\connectionpool.py:1056: InsecureRequestWarning: Unverified HTTPS request is being made to host 'omcs-global-customer-persister-ge4.omcs-nonprod.r1.pks.dell.com'. Adding certificate verification is strongly advised. See: https://urllib3.readthedocs.io/en/1.26.x/advanced-usage.html#ssl-warnings\n",
      "  warnings.warn(\n"
     ]
    },
    {
     "name": "stdout",
     "output_type": "stream",
     "text": [
      "not null\n",
      "7040000447497\n",
      "count 191\n",
      "https://omcs-global-customer-persister-ge4.omcs-nonprod.r1.pks.dell.com/omcs-global-customer-persister/v1/Dashboard/GetWorkflowSteps?dpid=7040000447497\n"
     ]
    },
    {
     "name": "stderr",
     "output_type": "stream",
     "text": [
      "C:\\Users\\Satpum\\AppData\\Local\\anaconda3\\Lib\\site-packages\\urllib3\\connectionpool.py:1056: InsecureRequestWarning: Unverified HTTPS request is being made to host 'omcs-global-customer-persister-ge4.omcs-nonprod.r1.pks.dell.com'. Adding certificate verification is strongly advised. See: https://urllib3.readthedocs.io/en/1.26.x/advanced-usage.html#ssl-warnings\n",
      "  warnings.warn(\n"
     ]
    },
    {
     "name": "stdout",
     "output_type": "stream",
     "text": [
      "not null\n",
      "7040000447496\n",
      "count 192\n",
      "https://omcs-global-customer-persister-ge4.omcs-nonprod.r1.pks.dell.com/omcs-global-customer-persister/v1/Dashboard/GetWorkflowSteps?dpid=7040000447496\n"
     ]
    },
    {
     "name": "stderr",
     "output_type": "stream",
     "text": [
      "C:\\Users\\Satpum\\AppData\\Local\\anaconda3\\Lib\\site-packages\\urllib3\\connectionpool.py:1056: InsecureRequestWarning: Unverified HTTPS request is being made to host 'omcs-global-customer-persister-ge4.omcs-nonprod.r1.pks.dell.com'. Adding certificate verification is strongly advised. See: https://urllib3.readthedocs.io/en/1.26.x/advanced-usage.html#ssl-warnings\n",
      "  warnings.warn(\n"
     ]
    },
    {
     "name": "stdout",
     "output_type": "stream",
     "text": [
      "not null\n",
      "7040000447495\n",
      "count 193\n",
      "https://omcs-global-customer-persister-ge4.omcs-nonprod.r1.pks.dell.com/omcs-global-customer-persister/v1/Dashboard/GetWorkflowSteps?dpid=7040000447495\n"
     ]
    },
    {
     "name": "stderr",
     "output_type": "stream",
     "text": [
      "C:\\Users\\Satpum\\AppData\\Local\\anaconda3\\Lib\\site-packages\\urllib3\\connectionpool.py:1056: InsecureRequestWarning: Unverified HTTPS request is being made to host 'omcs-global-customer-persister-ge4.omcs-nonprod.r1.pks.dell.com'. Adding certificate verification is strongly advised. See: https://urllib3.readthedocs.io/en/1.26.x/advanced-usage.html#ssl-warnings\n",
      "  warnings.warn(\n"
     ]
    },
    {
     "name": "stdout",
     "output_type": "stream",
     "text": [
      "not null\n",
      "7040000447494\n",
      "count 194\n",
      "https://omcs-global-customer-persister-ge4.omcs-nonprod.r1.pks.dell.com/omcs-global-customer-persister/v1/Dashboard/GetWorkflowSteps?dpid=7040000447494\n"
     ]
    },
    {
     "name": "stderr",
     "output_type": "stream",
     "text": [
      "C:\\Users\\Satpum\\AppData\\Local\\anaconda3\\Lib\\site-packages\\urllib3\\connectionpool.py:1056: InsecureRequestWarning: Unverified HTTPS request is being made to host 'omcs-global-customer-persister-ge4.omcs-nonprod.r1.pks.dell.com'. Adding certificate verification is strongly advised. See: https://urllib3.readthedocs.io/en/1.26.x/advanced-usage.html#ssl-warnings\n",
      "  warnings.warn(\n"
     ]
    },
    {
     "name": "stdout",
     "output_type": "stream",
     "text": [
      "not null\n",
      "7040000447493\n",
      "count 195\n",
      "https://omcs-global-customer-persister-ge4.omcs-nonprod.r1.pks.dell.com/omcs-global-customer-persister/v1/Dashboard/GetWorkflowSteps?dpid=7040000447493\n"
     ]
    },
    {
     "name": "stderr",
     "output_type": "stream",
     "text": [
      "C:\\Users\\Satpum\\AppData\\Local\\anaconda3\\Lib\\site-packages\\urllib3\\connectionpool.py:1056: InsecureRequestWarning: Unverified HTTPS request is being made to host 'omcs-global-customer-persister-ge4.omcs-nonprod.r1.pks.dell.com'. Adding certificate verification is strongly advised. See: https://urllib3.readthedocs.io/en/1.26.x/advanced-usage.html#ssl-warnings\n",
      "  warnings.warn(\n"
     ]
    },
    {
     "name": "stdout",
     "output_type": "stream",
     "text": [
      "not null\n",
      "7040000447492\n",
      "count 196\n",
      "https://omcs-global-customer-persister-ge4.omcs-nonprod.r1.pks.dell.com/omcs-global-customer-persister/v1/Dashboard/GetWorkflowSteps?dpid=7040000447492\n"
     ]
    },
    {
     "name": "stderr",
     "output_type": "stream",
     "text": [
      "C:\\Users\\Satpum\\AppData\\Local\\anaconda3\\Lib\\site-packages\\urllib3\\connectionpool.py:1056: InsecureRequestWarning: Unverified HTTPS request is being made to host 'omcs-global-customer-persister-ge4.omcs-nonprod.r1.pks.dell.com'. Adding certificate verification is strongly advised. See: https://urllib3.readthedocs.io/en/1.26.x/advanced-usage.html#ssl-warnings\n",
      "  warnings.warn(\n"
     ]
    },
    {
     "name": "stdout",
     "output_type": "stream",
     "text": [
      "null7040000447492\n",
      "7040000447491\n",
      "count 197\n",
      "https://omcs-global-customer-persister-ge4.omcs-nonprod.r1.pks.dell.com/omcs-global-customer-persister/v1/Dashboard/GetWorkflowSteps?dpid=7040000447491\n"
     ]
    },
    {
     "name": "stderr",
     "output_type": "stream",
     "text": [
      "C:\\Users\\Satpum\\AppData\\Local\\anaconda3\\Lib\\site-packages\\urllib3\\connectionpool.py:1056: InsecureRequestWarning: Unverified HTTPS request is being made to host 'omcs-global-customer-persister-ge4.omcs-nonprod.r1.pks.dell.com'. Adding certificate verification is strongly advised. See: https://urllib3.readthedocs.io/en/1.26.x/advanced-usage.html#ssl-warnings\n",
      "  warnings.warn(\n"
     ]
    },
    {
     "name": "stdout",
     "output_type": "stream",
     "text": [
      "not null\n",
      "7040000447490\n",
      "count 198\n",
      "https://omcs-global-customer-persister-ge4.omcs-nonprod.r1.pks.dell.com/omcs-global-customer-persister/v1/Dashboard/GetWorkflowSteps?dpid=7040000447490\n"
     ]
    },
    {
     "name": "stderr",
     "output_type": "stream",
     "text": [
      "C:\\Users\\Satpum\\AppData\\Local\\anaconda3\\Lib\\site-packages\\urllib3\\connectionpool.py:1056: InsecureRequestWarning: Unverified HTTPS request is being made to host 'omcs-global-customer-persister-ge4.omcs-nonprod.r1.pks.dell.com'. Adding certificate verification is strongly advised. See: https://urllib3.readthedocs.io/en/1.26.x/advanced-usage.html#ssl-warnings\n",
      "  warnings.warn(\n"
     ]
    },
    {
     "name": "stdout",
     "output_type": "stream",
     "text": [
      "null7040000447490\n",
      "7040000447489\n",
      "count 199\n",
      "https://omcs-global-customer-persister-ge4.omcs-nonprod.r1.pks.dell.com/omcs-global-customer-persister/v1/Dashboard/GetWorkflowSteps?dpid=7040000447489\n"
     ]
    },
    {
     "name": "stderr",
     "output_type": "stream",
     "text": [
      "C:\\Users\\Satpum\\AppData\\Local\\anaconda3\\Lib\\site-packages\\urllib3\\connectionpool.py:1056: InsecureRequestWarning: Unverified HTTPS request is being made to host 'omcs-global-customer-persister-ge4.omcs-nonprod.r1.pks.dell.com'. Adding certificate verification is strongly advised. See: https://urllib3.readthedocs.io/en/1.26.x/advanced-usage.html#ssl-warnings\n",
      "  warnings.warn(\n"
     ]
    },
    {
     "name": "stdout",
     "output_type": "stream",
     "text": [
      "null7040000447489\n",
      "7040000447488\n",
      "count 200\n",
      "https://omcs-global-customer-persister-ge4.omcs-nonprod.r1.pks.dell.com/omcs-global-customer-persister/v1/Dashboard/GetWorkflowSteps?dpid=7040000447488\n"
     ]
    },
    {
     "name": "stderr",
     "output_type": "stream",
     "text": [
      "C:\\Users\\Satpum\\AppData\\Local\\anaconda3\\Lib\\site-packages\\urllib3\\connectionpool.py:1056: InsecureRequestWarning: Unverified HTTPS request is being made to host 'omcs-global-customer-persister-ge4.omcs-nonprod.r1.pks.dell.com'. Adding certificate verification is strongly advised. See: https://urllib3.readthedocs.io/en/1.26.x/advanced-usage.html#ssl-warnings\n",
      "  warnings.warn(\n"
     ]
    },
    {
     "name": "stdout",
     "output_type": "stream",
     "text": [
      "not null\n",
      "7040000447487\n",
      "count 201\n",
      "https://omcs-global-customer-persister-ge4.omcs-nonprod.r1.pks.dell.com/omcs-global-customer-persister/v1/Dashboard/GetWorkflowSteps?dpid=7040000447487\n"
     ]
    },
    {
     "name": "stderr",
     "output_type": "stream",
     "text": [
      "C:\\Users\\Satpum\\AppData\\Local\\anaconda3\\Lib\\site-packages\\urllib3\\connectionpool.py:1056: InsecureRequestWarning: Unverified HTTPS request is being made to host 'omcs-global-customer-persister-ge4.omcs-nonprod.r1.pks.dell.com'. Adding certificate verification is strongly advised. See: https://urllib3.readthedocs.io/en/1.26.x/advanced-usage.html#ssl-warnings\n",
      "  warnings.warn(\n"
     ]
    },
    {
     "name": "stdout",
     "output_type": "stream",
     "text": [
      "not null\n",
      "7040000447486\n",
      "count 202\n",
      "https://omcs-global-customer-persister-ge4.omcs-nonprod.r1.pks.dell.com/omcs-global-customer-persister/v1/Dashboard/GetWorkflowSteps?dpid=7040000447486\n"
     ]
    },
    {
     "name": "stderr",
     "output_type": "stream",
     "text": [
      "C:\\Users\\Satpum\\AppData\\Local\\anaconda3\\Lib\\site-packages\\urllib3\\connectionpool.py:1056: InsecureRequestWarning: Unverified HTTPS request is being made to host 'omcs-global-customer-persister-ge4.omcs-nonprod.r1.pks.dell.com'. Adding certificate verification is strongly advised. See: https://urllib3.readthedocs.io/en/1.26.x/advanced-usage.html#ssl-warnings\n",
      "  warnings.warn(\n"
     ]
    },
    {
     "name": "stdout",
     "output_type": "stream",
     "text": [
      "not null\n",
      "7040000447485\n",
      "count 203\n",
      "https://omcs-global-customer-persister-ge4.omcs-nonprod.r1.pks.dell.com/omcs-global-customer-persister/v1/Dashboard/GetWorkflowSteps?dpid=7040000447485\n"
     ]
    },
    {
     "name": "stderr",
     "output_type": "stream",
     "text": [
      "C:\\Users\\Satpum\\AppData\\Local\\anaconda3\\Lib\\site-packages\\urllib3\\connectionpool.py:1056: InsecureRequestWarning: Unverified HTTPS request is being made to host 'omcs-global-customer-persister-ge4.omcs-nonprod.r1.pks.dell.com'. Adding certificate verification is strongly advised. See: https://urllib3.readthedocs.io/en/1.26.x/advanced-usage.html#ssl-warnings\n",
      "  warnings.warn(\n"
     ]
    },
    {
     "name": "stdout",
     "output_type": "stream",
     "text": [
      "null7040000447485\n",
      "7040000447484\n",
      "count 204\n",
      "https://omcs-global-customer-persister-ge4.omcs-nonprod.r1.pks.dell.com/omcs-global-customer-persister/v1/Dashboard/GetWorkflowSteps?dpid=7040000447484\n"
     ]
    },
    {
     "name": "stderr",
     "output_type": "stream",
     "text": [
      "C:\\Users\\Satpum\\AppData\\Local\\anaconda3\\Lib\\site-packages\\urllib3\\connectionpool.py:1056: InsecureRequestWarning: Unverified HTTPS request is being made to host 'omcs-global-customer-persister-ge4.omcs-nonprod.r1.pks.dell.com'. Adding certificate verification is strongly advised. See: https://urllib3.readthedocs.io/en/1.26.x/advanced-usage.html#ssl-warnings\n",
      "  warnings.warn(\n"
     ]
    },
    {
     "name": "stdout",
     "output_type": "stream",
     "text": [
      "null7040000447484\n",
      "7040000447483\n",
      "count 205\n",
      "https://omcs-global-customer-persister-ge4.omcs-nonprod.r1.pks.dell.com/omcs-global-customer-persister/v1/Dashboard/GetWorkflowSteps?dpid=7040000447483\n"
     ]
    },
    {
     "name": "stderr",
     "output_type": "stream",
     "text": [
      "C:\\Users\\Satpum\\AppData\\Local\\anaconda3\\Lib\\site-packages\\urllib3\\connectionpool.py:1056: InsecureRequestWarning: Unverified HTTPS request is being made to host 'omcs-global-customer-persister-ge4.omcs-nonprod.r1.pks.dell.com'. Adding certificate verification is strongly advised. See: https://urllib3.readthedocs.io/en/1.26.x/advanced-usage.html#ssl-warnings\n",
      "  warnings.warn(\n"
     ]
    },
    {
     "name": "stdout",
     "output_type": "stream",
     "text": [
      "null7040000447483\n",
      "7040000447482\n",
      "count 206\n",
      "https://omcs-global-customer-persister-ge4.omcs-nonprod.r1.pks.dell.com/omcs-global-customer-persister/v1/Dashboard/GetWorkflowSteps?dpid=7040000447482\n"
     ]
    },
    {
     "name": "stderr",
     "output_type": "stream",
     "text": [
      "C:\\Users\\Satpum\\AppData\\Local\\anaconda3\\Lib\\site-packages\\urllib3\\connectionpool.py:1056: InsecureRequestWarning: Unverified HTTPS request is being made to host 'omcs-global-customer-persister-ge4.omcs-nonprod.r1.pks.dell.com'. Adding certificate verification is strongly advised. See: https://urllib3.readthedocs.io/en/1.26.x/advanced-usage.html#ssl-warnings\n",
      "  warnings.warn(\n"
     ]
    },
    {
     "name": "stdout",
     "output_type": "stream",
     "text": [
      "not null\n",
      "7040000447481\n",
      "count 207\n",
      "https://omcs-global-customer-persister-ge4.omcs-nonprod.r1.pks.dell.com/omcs-global-customer-persister/v1/Dashboard/GetWorkflowSteps?dpid=7040000447481\n"
     ]
    },
    {
     "name": "stderr",
     "output_type": "stream",
     "text": [
      "C:\\Users\\Satpum\\AppData\\Local\\anaconda3\\Lib\\site-packages\\urllib3\\connectionpool.py:1056: InsecureRequestWarning: Unverified HTTPS request is being made to host 'omcs-global-customer-persister-ge4.omcs-nonprod.r1.pks.dell.com'. Adding certificate verification is strongly advised. See: https://urllib3.readthedocs.io/en/1.26.x/advanced-usage.html#ssl-warnings\n",
      "  warnings.warn(\n"
     ]
    },
    {
     "name": "stdout",
     "output_type": "stream",
     "text": [
      "not null\n",
      "7040000447480\n",
      "count 208\n",
      "https://omcs-global-customer-persister-ge4.omcs-nonprod.r1.pks.dell.com/omcs-global-customer-persister/v1/Dashboard/GetWorkflowSteps?dpid=7040000447480\n"
     ]
    },
    {
     "name": "stderr",
     "output_type": "stream",
     "text": [
      "C:\\Users\\Satpum\\AppData\\Local\\anaconda3\\Lib\\site-packages\\urllib3\\connectionpool.py:1056: InsecureRequestWarning: Unverified HTTPS request is being made to host 'omcs-global-customer-persister-ge4.omcs-nonprod.r1.pks.dell.com'. Adding certificate verification is strongly advised. See: https://urllib3.readthedocs.io/en/1.26.x/advanced-usage.html#ssl-warnings\n",
      "  warnings.warn(\n"
     ]
    },
    {
     "name": "stdout",
     "output_type": "stream",
     "text": [
      "not null\n",
      "7040000447479\n",
      "count 209\n",
      "https://omcs-global-customer-persister-ge4.omcs-nonprod.r1.pks.dell.com/omcs-global-customer-persister/v1/Dashboard/GetWorkflowSteps?dpid=7040000447479\n"
     ]
    },
    {
     "name": "stderr",
     "output_type": "stream",
     "text": [
      "C:\\Users\\Satpum\\AppData\\Local\\anaconda3\\Lib\\site-packages\\urllib3\\connectionpool.py:1056: InsecureRequestWarning: Unverified HTTPS request is being made to host 'omcs-global-customer-persister-ge4.omcs-nonprod.r1.pks.dell.com'. Adding certificate verification is strongly advised. See: https://urllib3.readthedocs.io/en/1.26.x/advanced-usage.html#ssl-warnings\n",
      "  warnings.warn(\n"
     ]
    },
    {
     "name": "stdout",
     "output_type": "stream",
     "text": [
      "null7040000447479\n",
      "7040000447478\n",
      "count 210\n",
      "https://omcs-global-customer-persister-ge4.omcs-nonprod.r1.pks.dell.com/omcs-global-customer-persister/v1/Dashboard/GetWorkflowSteps?dpid=7040000447478\n"
     ]
    },
    {
     "name": "stderr",
     "output_type": "stream",
     "text": [
      "C:\\Users\\Satpum\\AppData\\Local\\anaconda3\\Lib\\site-packages\\urllib3\\connectionpool.py:1056: InsecureRequestWarning: Unverified HTTPS request is being made to host 'omcs-global-customer-persister-ge4.omcs-nonprod.r1.pks.dell.com'. Adding certificate verification is strongly advised. See: https://urllib3.readthedocs.io/en/1.26.x/advanced-usage.html#ssl-warnings\n",
      "  warnings.warn(\n"
     ]
    },
    {
     "name": "stdout",
     "output_type": "stream",
     "text": [
      "null7040000447478\n",
      "7040000447477\n",
      "count 211\n",
      "https://omcs-global-customer-persister-ge4.omcs-nonprod.r1.pks.dell.com/omcs-global-customer-persister/v1/Dashboard/GetWorkflowSteps?dpid=7040000447477\n"
     ]
    },
    {
     "name": "stderr",
     "output_type": "stream",
     "text": [
      "C:\\Users\\Satpum\\AppData\\Local\\anaconda3\\Lib\\site-packages\\urllib3\\connectionpool.py:1056: InsecureRequestWarning: Unverified HTTPS request is being made to host 'omcs-global-customer-persister-ge4.omcs-nonprod.r1.pks.dell.com'. Adding certificate verification is strongly advised. See: https://urllib3.readthedocs.io/en/1.26.x/advanced-usage.html#ssl-warnings\n",
      "  warnings.warn(\n"
     ]
    },
    {
     "name": "stdout",
     "output_type": "stream",
     "text": [
      "null7040000447477\n",
      "7040000447475\n",
      "count 212\n",
      "https://omcs-global-customer-persister-ge4.omcs-nonprod.r1.pks.dell.com/omcs-global-customer-persister/v1/Dashboard/GetWorkflowSteps?dpid=7040000447475\n"
     ]
    },
    {
     "name": "stderr",
     "output_type": "stream",
     "text": [
      "C:\\Users\\Satpum\\AppData\\Local\\anaconda3\\Lib\\site-packages\\urllib3\\connectionpool.py:1056: InsecureRequestWarning: Unverified HTTPS request is being made to host 'omcs-global-customer-persister-ge4.omcs-nonprod.r1.pks.dell.com'. Adding certificate verification is strongly advised. See: https://urllib3.readthedocs.io/en/1.26.x/advanced-usage.html#ssl-warnings\n",
      "  warnings.warn(\n"
     ]
    },
    {
     "name": "stdout",
     "output_type": "stream",
     "text": [
      "not null\n",
      "7040000447476\n",
      "count 213\n",
      "https://omcs-global-customer-persister-ge4.omcs-nonprod.r1.pks.dell.com/omcs-global-customer-persister/v1/Dashboard/GetWorkflowSteps?dpid=7040000447476\n"
     ]
    },
    {
     "name": "stderr",
     "output_type": "stream",
     "text": [
      "C:\\Users\\Satpum\\AppData\\Local\\anaconda3\\Lib\\site-packages\\urllib3\\connectionpool.py:1056: InsecureRequestWarning: Unverified HTTPS request is being made to host 'omcs-global-customer-persister-ge4.omcs-nonprod.r1.pks.dell.com'. Adding certificate verification is strongly advised. See: https://urllib3.readthedocs.io/en/1.26.x/advanced-usage.html#ssl-warnings\n",
      "  warnings.warn(\n"
     ]
    },
    {
     "name": "stdout",
     "output_type": "stream",
     "text": [
      "not null\n",
      "7040000447474\n",
      "count 214\n",
      "https://omcs-global-customer-persister-ge4.omcs-nonprod.r1.pks.dell.com/omcs-global-customer-persister/v1/Dashboard/GetWorkflowSteps?dpid=7040000447474\n"
     ]
    },
    {
     "name": "stderr",
     "output_type": "stream",
     "text": [
      "C:\\Users\\Satpum\\AppData\\Local\\anaconda3\\Lib\\site-packages\\urllib3\\connectionpool.py:1056: InsecureRequestWarning: Unverified HTTPS request is being made to host 'omcs-global-customer-persister-ge4.omcs-nonprod.r1.pks.dell.com'. Adding certificate verification is strongly advised. See: https://urllib3.readthedocs.io/en/1.26.x/advanced-usage.html#ssl-warnings\n",
      "  warnings.warn(\n"
     ]
    },
    {
     "name": "stdout",
     "output_type": "stream",
     "text": [
      "not null\n",
      "7040000447473\n",
      "count 215\n",
      "https://omcs-global-customer-persister-ge4.omcs-nonprod.r1.pks.dell.com/omcs-global-customer-persister/v1/Dashboard/GetWorkflowSteps?dpid=7040000447473\n"
     ]
    },
    {
     "name": "stderr",
     "output_type": "stream",
     "text": [
      "C:\\Users\\Satpum\\AppData\\Local\\anaconda3\\Lib\\site-packages\\urllib3\\connectionpool.py:1056: InsecureRequestWarning: Unverified HTTPS request is being made to host 'omcs-global-customer-persister-ge4.omcs-nonprod.r1.pks.dell.com'. Adding certificate verification is strongly advised. See: https://urllib3.readthedocs.io/en/1.26.x/advanced-usage.html#ssl-warnings\n",
      "  warnings.warn(\n"
     ]
    },
    {
     "name": "stdout",
     "output_type": "stream",
     "text": [
      "null7040000447473\n",
      "7040000447472\n",
      "count 216\n",
      "https://omcs-global-customer-persister-ge4.omcs-nonprod.r1.pks.dell.com/omcs-global-customer-persister/v1/Dashboard/GetWorkflowSteps?dpid=7040000447472\n"
     ]
    },
    {
     "name": "stderr",
     "output_type": "stream",
     "text": [
      "C:\\Users\\Satpum\\AppData\\Local\\anaconda3\\Lib\\site-packages\\urllib3\\connectionpool.py:1056: InsecureRequestWarning: Unverified HTTPS request is being made to host 'omcs-global-customer-persister-ge4.omcs-nonprod.r1.pks.dell.com'. Adding certificate verification is strongly advised. See: https://urllib3.readthedocs.io/en/1.26.x/advanced-usage.html#ssl-warnings\n",
      "  warnings.warn(\n"
     ]
    },
    {
     "name": "stdout",
     "output_type": "stream",
     "text": [
      "null7040000447472\n",
      "7040000447471\n",
      "count 217\n",
      "https://omcs-global-customer-persister-ge4.omcs-nonprod.r1.pks.dell.com/omcs-global-customer-persister/v1/Dashboard/GetWorkflowSteps?dpid=7040000447471\n"
     ]
    },
    {
     "name": "stderr",
     "output_type": "stream",
     "text": [
      "C:\\Users\\Satpum\\AppData\\Local\\anaconda3\\Lib\\site-packages\\urllib3\\connectionpool.py:1056: InsecureRequestWarning: Unverified HTTPS request is being made to host 'omcs-global-customer-persister-ge4.omcs-nonprod.r1.pks.dell.com'. Adding certificate verification is strongly advised. See: https://urllib3.readthedocs.io/en/1.26.x/advanced-usage.html#ssl-warnings\n",
      "  warnings.warn(\n"
     ]
    },
    {
     "name": "stdout",
     "output_type": "stream",
     "text": [
      "not null\n",
      "7040000447470\n",
      "count 218\n",
      "https://omcs-global-customer-persister-ge4.omcs-nonprod.r1.pks.dell.com/omcs-global-customer-persister/v1/Dashboard/GetWorkflowSteps?dpid=7040000447470\n"
     ]
    },
    {
     "name": "stderr",
     "output_type": "stream",
     "text": [
      "C:\\Users\\Satpum\\AppData\\Local\\anaconda3\\Lib\\site-packages\\urllib3\\connectionpool.py:1056: InsecureRequestWarning: Unverified HTTPS request is being made to host 'omcs-global-customer-persister-ge4.omcs-nonprod.r1.pks.dell.com'. Adding certificate verification is strongly advised. See: https://urllib3.readthedocs.io/en/1.26.x/advanced-usage.html#ssl-warnings\n",
      "  warnings.warn(\n"
     ]
    },
    {
     "name": "stdout",
     "output_type": "stream",
     "text": [
      "null7040000447470\n",
      "7040000447469\n",
      "count 219\n",
      "https://omcs-global-customer-persister-ge4.omcs-nonprod.r1.pks.dell.com/omcs-global-customer-persister/v1/Dashboard/GetWorkflowSteps?dpid=7040000447469\n"
     ]
    },
    {
     "name": "stderr",
     "output_type": "stream",
     "text": [
      "C:\\Users\\Satpum\\AppData\\Local\\anaconda3\\Lib\\site-packages\\urllib3\\connectionpool.py:1056: InsecureRequestWarning: Unverified HTTPS request is being made to host 'omcs-global-customer-persister-ge4.omcs-nonprod.r1.pks.dell.com'. Adding certificate verification is strongly advised. See: https://urllib3.readthedocs.io/en/1.26.x/advanced-usage.html#ssl-warnings\n",
      "  warnings.warn(\n"
     ]
    },
    {
     "name": "stdout",
     "output_type": "stream",
     "text": [
      "not null\n",
      "7040000447468\n",
      "count 220\n",
      "https://omcs-global-customer-persister-ge4.omcs-nonprod.r1.pks.dell.com/omcs-global-customer-persister/v1/Dashboard/GetWorkflowSteps?dpid=7040000447468\n"
     ]
    },
    {
     "name": "stderr",
     "output_type": "stream",
     "text": [
      "C:\\Users\\Satpum\\AppData\\Local\\anaconda3\\Lib\\site-packages\\urllib3\\connectionpool.py:1056: InsecureRequestWarning: Unverified HTTPS request is being made to host 'omcs-global-customer-persister-ge4.omcs-nonprod.r1.pks.dell.com'. Adding certificate verification is strongly advised. See: https://urllib3.readthedocs.io/en/1.26.x/advanced-usage.html#ssl-warnings\n",
      "  warnings.warn(\n"
     ]
    },
    {
     "name": "stdout",
     "output_type": "stream",
     "text": [
      "null7040000447468\n",
      "7040000447467\n",
      "count 221\n",
      "https://omcs-global-customer-persister-ge4.omcs-nonprod.r1.pks.dell.com/omcs-global-customer-persister/v1/Dashboard/GetWorkflowSteps?dpid=7040000447467\n"
     ]
    },
    {
     "name": "stderr",
     "output_type": "stream",
     "text": [
      "C:\\Users\\Satpum\\AppData\\Local\\anaconda3\\Lib\\site-packages\\urllib3\\connectionpool.py:1056: InsecureRequestWarning: Unverified HTTPS request is being made to host 'omcs-global-customer-persister-ge4.omcs-nonprod.r1.pks.dell.com'. Adding certificate verification is strongly advised. See: https://urllib3.readthedocs.io/en/1.26.x/advanced-usage.html#ssl-warnings\n",
      "  warnings.warn(\n"
     ]
    },
    {
     "name": "stdout",
     "output_type": "stream",
     "text": [
      "not null\n",
      "7040000447466\n",
      "count 222\n",
      "https://omcs-global-customer-persister-ge4.omcs-nonprod.r1.pks.dell.com/omcs-global-customer-persister/v1/Dashboard/GetWorkflowSteps?dpid=7040000447466\n"
     ]
    },
    {
     "name": "stderr",
     "output_type": "stream",
     "text": [
      "C:\\Users\\Satpum\\AppData\\Local\\anaconda3\\Lib\\site-packages\\urllib3\\connectionpool.py:1056: InsecureRequestWarning: Unverified HTTPS request is being made to host 'omcs-global-customer-persister-ge4.omcs-nonprod.r1.pks.dell.com'. Adding certificate verification is strongly advised. See: https://urllib3.readthedocs.io/en/1.26.x/advanced-usage.html#ssl-warnings\n",
      "  warnings.warn(\n"
     ]
    },
    {
     "name": "stdout",
     "output_type": "stream",
     "text": [
      "not null\n",
      "7040000447465\n",
      "count 223\n",
      "https://omcs-global-customer-persister-ge4.omcs-nonprod.r1.pks.dell.com/omcs-global-customer-persister/v1/Dashboard/GetWorkflowSteps?dpid=7040000447465\n"
     ]
    },
    {
     "name": "stderr",
     "output_type": "stream",
     "text": [
      "C:\\Users\\Satpum\\AppData\\Local\\anaconda3\\Lib\\site-packages\\urllib3\\connectionpool.py:1056: InsecureRequestWarning: Unverified HTTPS request is being made to host 'omcs-global-customer-persister-ge4.omcs-nonprod.r1.pks.dell.com'. Adding certificate verification is strongly advised. See: https://urllib3.readthedocs.io/en/1.26.x/advanced-usage.html#ssl-warnings\n",
      "  warnings.warn(\n"
     ]
    },
    {
     "name": "stdout",
     "output_type": "stream",
     "text": [
      "not null\n",
      "7040000447464\n",
      "count 224\n",
      "https://omcs-global-customer-persister-ge4.omcs-nonprod.r1.pks.dell.com/omcs-global-customer-persister/v1/Dashboard/GetWorkflowSteps?dpid=7040000447464\n"
     ]
    },
    {
     "name": "stderr",
     "output_type": "stream",
     "text": [
      "C:\\Users\\Satpum\\AppData\\Local\\anaconda3\\Lib\\site-packages\\urllib3\\connectionpool.py:1056: InsecureRequestWarning: Unverified HTTPS request is being made to host 'omcs-global-customer-persister-ge4.omcs-nonprod.r1.pks.dell.com'. Adding certificate verification is strongly advised. See: https://urllib3.readthedocs.io/en/1.26.x/advanced-usage.html#ssl-warnings\n",
      "  warnings.warn(\n"
     ]
    },
    {
     "name": "stdout",
     "output_type": "stream",
     "text": [
      "not null\n",
      "7040000447463\n",
      "count 225\n",
      "https://omcs-global-customer-persister-ge4.omcs-nonprod.r1.pks.dell.com/omcs-global-customer-persister/v1/Dashboard/GetWorkflowSteps?dpid=7040000447463\n"
     ]
    },
    {
     "name": "stderr",
     "output_type": "stream",
     "text": [
      "C:\\Users\\Satpum\\AppData\\Local\\anaconda3\\Lib\\site-packages\\urllib3\\connectionpool.py:1056: InsecureRequestWarning: Unverified HTTPS request is being made to host 'omcs-global-customer-persister-ge4.omcs-nonprod.r1.pks.dell.com'. Adding certificate verification is strongly advised. See: https://urllib3.readthedocs.io/en/1.26.x/advanced-usage.html#ssl-warnings\n",
      "  warnings.warn(\n"
     ]
    },
    {
     "name": "stdout",
     "output_type": "stream",
     "text": [
      "not null\n",
      "7040000447462\n",
      "count 226\n",
      "https://omcs-global-customer-persister-ge4.omcs-nonprod.r1.pks.dell.com/omcs-global-customer-persister/v1/Dashboard/GetWorkflowSteps?dpid=7040000447462\n"
     ]
    },
    {
     "name": "stderr",
     "output_type": "stream",
     "text": [
      "C:\\Users\\Satpum\\AppData\\Local\\anaconda3\\Lib\\site-packages\\urllib3\\connectionpool.py:1056: InsecureRequestWarning: Unverified HTTPS request is being made to host 'omcs-global-customer-persister-ge4.omcs-nonprod.r1.pks.dell.com'. Adding certificate verification is strongly advised. See: https://urllib3.readthedocs.io/en/1.26.x/advanced-usage.html#ssl-warnings\n",
      "  warnings.warn(\n"
     ]
    },
    {
     "name": "stdout",
     "output_type": "stream",
     "text": [
      "null7040000447462\n",
      "7040000447461\n",
      "count 227\n",
      "https://omcs-global-customer-persister-ge4.omcs-nonprod.r1.pks.dell.com/omcs-global-customer-persister/v1/Dashboard/GetWorkflowSteps?dpid=7040000447461\n"
     ]
    },
    {
     "name": "stderr",
     "output_type": "stream",
     "text": [
      "C:\\Users\\Satpum\\AppData\\Local\\anaconda3\\Lib\\site-packages\\urllib3\\connectionpool.py:1056: InsecureRequestWarning: Unverified HTTPS request is being made to host 'omcs-global-customer-persister-ge4.omcs-nonprod.r1.pks.dell.com'. Adding certificate verification is strongly advised. See: https://urllib3.readthedocs.io/en/1.26.x/advanced-usage.html#ssl-warnings\n",
      "  warnings.warn(\n"
     ]
    },
    {
     "name": "stdout",
     "output_type": "stream",
     "text": [
      "not null\n",
      "7040000447460\n",
      "count 228\n",
      "https://omcs-global-customer-persister-ge4.omcs-nonprod.r1.pks.dell.com/omcs-global-customer-persister/v1/Dashboard/GetWorkflowSteps?dpid=7040000447460\n"
     ]
    },
    {
     "name": "stderr",
     "output_type": "stream",
     "text": [
      "C:\\Users\\Satpum\\AppData\\Local\\anaconda3\\Lib\\site-packages\\urllib3\\connectionpool.py:1056: InsecureRequestWarning: Unverified HTTPS request is being made to host 'omcs-global-customer-persister-ge4.omcs-nonprod.r1.pks.dell.com'. Adding certificate verification is strongly advised. See: https://urllib3.readthedocs.io/en/1.26.x/advanced-usage.html#ssl-warnings\n",
      "  warnings.warn(\n"
     ]
    },
    {
     "name": "stdout",
     "output_type": "stream",
     "text": [
      "null7040000447460\n",
      "7040000447459\n",
      "count 229\n",
      "https://omcs-global-customer-persister-ge4.omcs-nonprod.r1.pks.dell.com/omcs-global-customer-persister/v1/Dashboard/GetWorkflowSteps?dpid=7040000447459\n"
     ]
    },
    {
     "name": "stderr",
     "output_type": "stream",
     "text": [
      "C:\\Users\\Satpum\\AppData\\Local\\anaconda3\\Lib\\site-packages\\urllib3\\connectionpool.py:1056: InsecureRequestWarning: Unverified HTTPS request is being made to host 'omcs-global-customer-persister-ge4.omcs-nonprod.r1.pks.dell.com'. Adding certificate verification is strongly advised. See: https://urllib3.readthedocs.io/en/1.26.x/advanced-usage.html#ssl-warnings\n",
      "  warnings.warn(\n"
     ]
    },
    {
     "name": "stdout",
     "output_type": "stream",
     "text": [
      "null7040000447459\n",
      "7040000447458\n",
      "count 230\n",
      "https://omcs-global-customer-persister-ge4.omcs-nonprod.r1.pks.dell.com/omcs-global-customer-persister/v1/Dashboard/GetWorkflowSteps?dpid=7040000447458\n"
     ]
    },
    {
     "name": "stderr",
     "output_type": "stream",
     "text": [
      "C:\\Users\\Satpum\\AppData\\Local\\anaconda3\\Lib\\site-packages\\urllib3\\connectionpool.py:1056: InsecureRequestWarning: Unverified HTTPS request is being made to host 'omcs-global-customer-persister-ge4.omcs-nonprod.r1.pks.dell.com'. Adding certificate verification is strongly advised. See: https://urllib3.readthedocs.io/en/1.26.x/advanced-usage.html#ssl-warnings\n",
      "  warnings.warn(\n"
     ]
    },
    {
     "name": "stdout",
     "output_type": "stream",
     "text": [
      "null7040000447458\n",
      "7040000447457\n",
      "count 231\n",
      "https://omcs-global-customer-persister-ge4.omcs-nonprod.r1.pks.dell.com/omcs-global-customer-persister/v1/Dashboard/GetWorkflowSteps?dpid=7040000447457\n"
     ]
    },
    {
     "name": "stderr",
     "output_type": "stream",
     "text": [
      "C:\\Users\\Satpum\\AppData\\Local\\anaconda3\\Lib\\site-packages\\urllib3\\connectionpool.py:1056: InsecureRequestWarning: Unverified HTTPS request is being made to host 'omcs-global-customer-persister-ge4.omcs-nonprod.r1.pks.dell.com'. Adding certificate verification is strongly advised. See: https://urllib3.readthedocs.io/en/1.26.x/advanced-usage.html#ssl-warnings\n",
      "  warnings.warn(\n"
     ]
    },
    {
     "name": "stdout",
     "output_type": "stream",
     "text": [
      "null7040000447457\n",
      "7040000447456\n",
      "count 232\n",
      "https://omcs-global-customer-persister-ge4.omcs-nonprod.r1.pks.dell.com/omcs-global-customer-persister/v1/Dashboard/GetWorkflowSteps?dpid=7040000447456\n"
     ]
    },
    {
     "name": "stderr",
     "output_type": "stream",
     "text": [
      "C:\\Users\\Satpum\\AppData\\Local\\anaconda3\\Lib\\site-packages\\urllib3\\connectionpool.py:1056: InsecureRequestWarning: Unverified HTTPS request is being made to host 'omcs-global-customer-persister-ge4.omcs-nonprod.r1.pks.dell.com'. Adding certificate verification is strongly advised. See: https://urllib3.readthedocs.io/en/1.26.x/advanced-usage.html#ssl-warnings\n",
      "  warnings.warn(\n"
     ]
    },
    {
     "name": "stdout",
     "output_type": "stream",
     "text": [
      "not null\n",
      "7040000447455\n",
      "count 233\n",
      "https://omcs-global-customer-persister-ge4.omcs-nonprod.r1.pks.dell.com/omcs-global-customer-persister/v1/Dashboard/GetWorkflowSteps?dpid=7040000447455\n"
     ]
    },
    {
     "name": "stderr",
     "output_type": "stream",
     "text": [
      "C:\\Users\\Satpum\\AppData\\Local\\anaconda3\\Lib\\site-packages\\urllib3\\connectionpool.py:1056: InsecureRequestWarning: Unverified HTTPS request is being made to host 'omcs-global-customer-persister-ge4.omcs-nonprod.r1.pks.dell.com'. Adding certificate verification is strongly advised. See: https://urllib3.readthedocs.io/en/1.26.x/advanced-usage.html#ssl-warnings\n",
      "  warnings.warn(\n"
     ]
    },
    {
     "name": "stdout",
     "output_type": "stream",
     "text": [
      "not null\n",
      "7040000447454\n",
      "count 234\n",
      "https://omcs-global-customer-persister-ge4.omcs-nonprod.r1.pks.dell.com/omcs-global-customer-persister/v1/Dashboard/GetWorkflowSteps?dpid=7040000447454\n"
     ]
    },
    {
     "name": "stderr",
     "output_type": "stream",
     "text": [
      "C:\\Users\\Satpum\\AppData\\Local\\anaconda3\\Lib\\site-packages\\urllib3\\connectionpool.py:1056: InsecureRequestWarning: Unverified HTTPS request is being made to host 'omcs-global-customer-persister-ge4.omcs-nonprod.r1.pks.dell.com'. Adding certificate verification is strongly advised. See: https://urllib3.readthedocs.io/en/1.26.x/advanced-usage.html#ssl-warnings\n",
      "  warnings.warn(\n"
     ]
    },
    {
     "name": "stdout",
     "output_type": "stream",
     "text": [
      "not null\n",
      "7040000447453\n",
      "count 235\n",
      "https://omcs-global-customer-persister-ge4.omcs-nonprod.r1.pks.dell.com/omcs-global-customer-persister/v1/Dashboard/GetWorkflowSteps?dpid=7040000447453\n"
     ]
    },
    {
     "name": "stderr",
     "output_type": "stream",
     "text": [
      "C:\\Users\\Satpum\\AppData\\Local\\anaconda3\\Lib\\site-packages\\urllib3\\connectionpool.py:1056: InsecureRequestWarning: Unverified HTTPS request is being made to host 'omcs-global-customer-persister-ge4.omcs-nonprod.r1.pks.dell.com'. Adding certificate verification is strongly advised. See: https://urllib3.readthedocs.io/en/1.26.x/advanced-usage.html#ssl-warnings\n",
      "  warnings.warn(\n"
     ]
    },
    {
     "name": "stdout",
     "output_type": "stream",
     "text": [
      "not null\n",
      "7040000447452\n",
      "count 236\n",
      "https://omcs-global-customer-persister-ge4.omcs-nonprod.r1.pks.dell.com/omcs-global-customer-persister/v1/Dashboard/GetWorkflowSteps?dpid=7040000447452\n"
     ]
    },
    {
     "name": "stderr",
     "output_type": "stream",
     "text": [
      "C:\\Users\\Satpum\\AppData\\Local\\anaconda3\\Lib\\site-packages\\urllib3\\connectionpool.py:1056: InsecureRequestWarning: Unverified HTTPS request is being made to host 'omcs-global-customer-persister-ge4.omcs-nonprod.r1.pks.dell.com'. Adding certificate verification is strongly advised. See: https://urllib3.readthedocs.io/en/1.26.x/advanced-usage.html#ssl-warnings\n",
      "  warnings.warn(\n"
     ]
    },
    {
     "name": "stdout",
     "output_type": "stream",
     "text": [
      "not null\n",
      "7040000447451\n",
      "count 237\n",
      "https://omcs-global-customer-persister-ge4.omcs-nonprod.r1.pks.dell.com/omcs-global-customer-persister/v1/Dashboard/GetWorkflowSteps?dpid=7040000447451\n"
     ]
    },
    {
     "name": "stderr",
     "output_type": "stream",
     "text": [
      "C:\\Users\\Satpum\\AppData\\Local\\anaconda3\\Lib\\site-packages\\urllib3\\connectionpool.py:1056: InsecureRequestWarning: Unverified HTTPS request is being made to host 'omcs-global-customer-persister-ge4.omcs-nonprod.r1.pks.dell.com'. Adding certificate verification is strongly advised. See: https://urllib3.readthedocs.io/en/1.26.x/advanced-usage.html#ssl-warnings\n",
      "  warnings.warn(\n"
     ]
    },
    {
     "name": "stdout",
     "output_type": "stream",
     "text": [
      "not null\n",
      "7040000447450\n",
      "count 238\n",
      "https://omcs-global-customer-persister-ge4.omcs-nonprod.r1.pks.dell.com/omcs-global-customer-persister/v1/Dashboard/GetWorkflowSteps?dpid=7040000447450\n"
     ]
    },
    {
     "name": "stderr",
     "output_type": "stream",
     "text": [
      "C:\\Users\\Satpum\\AppData\\Local\\anaconda3\\Lib\\site-packages\\urllib3\\connectionpool.py:1056: InsecureRequestWarning: Unverified HTTPS request is being made to host 'omcs-global-customer-persister-ge4.omcs-nonprod.r1.pks.dell.com'. Adding certificate verification is strongly advised. See: https://urllib3.readthedocs.io/en/1.26.x/advanced-usage.html#ssl-warnings\n",
      "  warnings.warn(\n"
     ]
    },
    {
     "name": "stdout",
     "output_type": "stream",
     "text": [
      "not null\n",
      "7040000447449\n",
      "count 239\n",
      "https://omcs-global-customer-persister-ge4.omcs-nonprod.r1.pks.dell.com/omcs-global-customer-persister/v1/Dashboard/GetWorkflowSteps?dpid=7040000447449\n"
     ]
    },
    {
     "name": "stderr",
     "output_type": "stream",
     "text": [
      "C:\\Users\\Satpum\\AppData\\Local\\anaconda3\\Lib\\site-packages\\urllib3\\connectionpool.py:1056: InsecureRequestWarning: Unverified HTTPS request is being made to host 'omcs-global-customer-persister-ge4.omcs-nonprod.r1.pks.dell.com'. Adding certificate verification is strongly advised. See: https://urllib3.readthedocs.io/en/1.26.x/advanced-usage.html#ssl-warnings\n",
      "  warnings.warn(\n"
     ]
    },
    {
     "name": "stdout",
     "output_type": "stream",
     "text": [
      "not null\n",
      "7040000447448\n",
      "count 240\n",
      "https://omcs-global-customer-persister-ge4.omcs-nonprod.r1.pks.dell.com/omcs-global-customer-persister/v1/Dashboard/GetWorkflowSteps?dpid=7040000447448\n"
     ]
    },
    {
     "name": "stderr",
     "output_type": "stream",
     "text": [
      "C:\\Users\\Satpum\\AppData\\Local\\anaconda3\\Lib\\site-packages\\urllib3\\connectionpool.py:1056: InsecureRequestWarning: Unverified HTTPS request is being made to host 'omcs-global-customer-persister-ge4.omcs-nonprod.r1.pks.dell.com'. Adding certificate verification is strongly advised. See: https://urllib3.readthedocs.io/en/1.26.x/advanced-usage.html#ssl-warnings\n",
      "  warnings.warn(\n"
     ]
    },
    {
     "name": "stdout",
     "output_type": "stream",
     "text": [
      "not null\n",
      "7040000447447\n",
      "count 241\n",
      "https://omcs-global-customer-persister-ge4.omcs-nonprod.r1.pks.dell.com/omcs-global-customer-persister/v1/Dashboard/GetWorkflowSteps?dpid=7040000447447\n"
     ]
    },
    {
     "name": "stderr",
     "output_type": "stream",
     "text": [
      "C:\\Users\\Satpum\\AppData\\Local\\anaconda3\\Lib\\site-packages\\urllib3\\connectionpool.py:1056: InsecureRequestWarning: Unverified HTTPS request is being made to host 'omcs-global-customer-persister-ge4.omcs-nonprod.r1.pks.dell.com'. Adding certificate verification is strongly advised. See: https://urllib3.readthedocs.io/en/1.26.x/advanced-usage.html#ssl-warnings\n",
      "  warnings.warn(\n"
     ]
    },
    {
     "name": "stdout",
     "output_type": "stream",
     "text": [
      "not null\n",
      "7040000447446\n",
      "count 242\n",
      "https://omcs-global-customer-persister-ge4.omcs-nonprod.r1.pks.dell.com/omcs-global-customer-persister/v1/Dashboard/GetWorkflowSteps?dpid=7040000447446\n"
     ]
    },
    {
     "name": "stderr",
     "output_type": "stream",
     "text": [
      "C:\\Users\\Satpum\\AppData\\Local\\anaconda3\\Lib\\site-packages\\urllib3\\connectionpool.py:1056: InsecureRequestWarning: Unverified HTTPS request is being made to host 'omcs-global-customer-persister-ge4.omcs-nonprod.r1.pks.dell.com'. Adding certificate verification is strongly advised. See: https://urllib3.readthedocs.io/en/1.26.x/advanced-usage.html#ssl-warnings\n",
      "  warnings.warn(\n"
     ]
    },
    {
     "name": "stdout",
     "output_type": "stream",
     "text": [
      "not null\n",
      "7040000447445\n",
      "count 243\n",
      "https://omcs-global-customer-persister-ge4.omcs-nonprod.r1.pks.dell.com/omcs-global-customer-persister/v1/Dashboard/GetWorkflowSteps?dpid=7040000447445\n"
     ]
    },
    {
     "name": "stderr",
     "output_type": "stream",
     "text": [
      "C:\\Users\\Satpum\\AppData\\Local\\anaconda3\\Lib\\site-packages\\urllib3\\connectionpool.py:1056: InsecureRequestWarning: Unverified HTTPS request is being made to host 'omcs-global-customer-persister-ge4.omcs-nonprod.r1.pks.dell.com'. Adding certificate verification is strongly advised. See: https://urllib3.readthedocs.io/en/1.26.x/advanced-usage.html#ssl-warnings\n",
      "  warnings.warn(\n"
     ]
    },
    {
     "name": "stdout",
     "output_type": "stream",
     "text": [
      "not null\n",
      "7040000447444\n",
      "count 244\n",
      "https://omcs-global-customer-persister-ge4.omcs-nonprod.r1.pks.dell.com/omcs-global-customer-persister/v1/Dashboard/GetWorkflowSteps?dpid=7040000447444\n"
     ]
    },
    {
     "name": "stderr",
     "output_type": "stream",
     "text": [
      "C:\\Users\\Satpum\\AppData\\Local\\anaconda3\\Lib\\site-packages\\urllib3\\connectionpool.py:1056: InsecureRequestWarning: Unverified HTTPS request is being made to host 'omcs-global-customer-persister-ge4.omcs-nonprod.r1.pks.dell.com'. Adding certificate verification is strongly advised. See: https://urllib3.readthedocs.io/en/1.26.x/advanced-usage.html#ssl-warnings\n",
      "  warnings.warn(\n"
     ]
    },
    {
     "name": "stdout",
     "output_type": "stream",
     "text": [
      "not null\n",
      "7040000447443\n",
      "count 245\n",
      "https://omcs-global-customer-persister-ge4.omcs-nonprod.r1.pks.dell.com/omcs-global-customer-persister/v1/Dashboard/GetWorkflowSteps?dpid=7040000447443\n"
     ]
    },
    {
     "name": "stderr",
     "output_type": "stream",
     "text": [
      "C:\\Users\\Satpum\\AppData\\Local\\anaconda3\\Lib\\site-packages\\urllib3\\connectionpool.py:1056: InsecureRequestWarning: Unverified HTTPS request is being made to host 'omcs-global-customer-persister-ge4.omcs-nonprod.r1.pks.dell.com'. Adding certificate verification is strongly advised. See: https://urllib3.readthedocs.io/en/1.26.x/advanced-usage.html#ssl-warnings\n",
      "  warnings.warn(\n"
     ]
    },
    {
     "name": "stdout",
     "output_type": "stream",
     "text": [
      "not null\n",
      "7040000447442\n",
      "count 246\n",
      "https://omcs-global-customer-persister-ge4.omcs-nonprod.r1.pks.dell.com/omcs-global-customer-persister/v1/Dashboard/GetWorkflowSteps?dpid=7040000447442\n"
     ]
    },
    {
     "name": "stderr",
     "output_type": "stream",
     "text": [
      "C:\\Users\\Satpum\\AppData\\Local\\anaconda3\\Lib\\site-packages\\urllib3\\connectionpool.py:1056: InsecureRequestWarning: Unverified HTTPS request is being made to host 'omcs-global-customer-persister-ge4.omcs-nonprod.r1.pks.dell.com'. Adding certificate verification is strongly advised. See: https://urllib3.readthedocs.io/en/1.26.x/advanced-usage.html#ssl-warnings\n",
      "  warnings.warn(\n"
     ]
    },
    {
     "name": "stdout",
     "output_type": "stream",
     "text": [
      "not null\n",
      "7040000447441\n",
      "count 247\n",
      "https://omcs-global-customer-persister-ge4.omcs-nonprod.r1.pks.dell.com/omcs-global-customer-persister/v1/Dashboard/GetWorkflowSteps?dpid=7040000447441\n"
     ]
    },
    {
     "name": "stderr",
     "output_type": "stream",
     "text": [
      "C:\\Users\\Satpum\\AppData\\Local\\anaconda3\\Lib\\site-packages\\urllib3\\connectionpool.py:1056: InsecureRequestWarning: Unverified HTTPS request is being made to host 'omcs-global-customer-persister-ge4.omcs-nonprod.r1.pks.dell.com'. Adding certificate verification is strongly advised. See: https://urllib3.readthedocs.io/en/1.26.x/advanced-usage.html#ssl-warnings\n",
      "  warnings.warn(\n"
     ]
    },
    {
     "name": "stdout",
     "output_type": "stream",
     "text": [
      "not null\n",
      "7040000447440\n",
      "count 248\n",
      "https://omcs-global-customer-persister-ge4.omcs-nonprod.r1.pks.dell.com/omcs-global-customer-persister/v1/Dashboard/GetWorkflowSteps?dpid=7040000447440\n"
     ]
    },
    {
     "name": "stderr",
     "output_type": "stream",
     "text": [
      "C:\\Users\\Satpum\\AppData\\Local\\anaconda3\\Lib\\site-packages\\urllib3\\connectionpool.py:1056: InsecureRequestWarning: Unverified HTTPS request is being made to host 'omcs-global-customer-persister-ge4.omcs-nonprod.r1.pks.dell.com'. Adding certificate verification is strongly advised. See: https://urllib3.readthedocs.io/en/1.26.x/advanced-usage.html#ssl-warnings\n",
      "  warnings.warn(\n"
     ]
    },
    {
     "name": "stdout",
     "output_type": "stream",
     "text": [
      "null7040000447440\n",
      "7040000447439\n",
      "count 249\n",
      "https://omcs-global-customer-persister-ge4.omcs-nonprod.r1.pks.dell.com/omcs-global-customer-persister/v1/Dashboard/GetWorkflowSteps?dpid=7040000447439\n"
     ]
    },
    {
     "name": "stderr",
     "output_type": "stream",
     "text": [
      "C:\\Users\\Satpum\\AppData\\Local\\anaconda3\\Lib\\site-packages\\urllib3\\connectionpool.py:1056: InsecureRequestWarning: Unverified HTTPS request is being made to host 'omcs-global-customer-persister-ge4.omcs-nonprod.r1.pks.dell.com'. Adding certificate verification is strongly advised. See: https://urllib3.readthedocs.io/en/1.26.x/advanced-usage.html#ssl-warnings\n",
      "  warnings.warn(\n"
     ]
    },
    {
     "name": "stdout",
     "output_type": "stream",
     "text": [
      "null7040000447439\n",
      "7040000447438\n",
      "count 250\n",
      "https://omcs-global-customer-persister-ge4.omcs-nonprod.r1.pks.dell.com/omcs-global-customer-persister/v1/Dashboard/GetWorkflowSteps?dpid=7040000447438\n"
     ]
    },
    {
     "name": "stderr",
     "output_type": "stream",
     "text": [
      "C:\\Users\\Satpum\\AppData\\Local\\anaconda3\\Lib\\site-packages\\urllib3\\connectionpool.py:1056: InsecureRequestWarning: Unverified HTTPS request is being made to host 'omcs-global-customer-persister-ge4.omcs-nonprod.r1.pks.dell.com'. Adding certificate verification is strongly advised. See: https://urllib3.readthedocs.io/en/1.26.x/advanced-usage.html#ssl-warnings\n",
      "  warnings.warn(\n"
     ]
    },
    {
     "name": "stdout",
     "output_type": "stream",
     "text": [
      "not null\n",
      "7040000447437\n",
      "count 251\n",
      "https://omcs-global-customer-persister-ge4.omcs-nonprod.r1.pks.dell.com/omcs-global-customer-persister/v1/Dashboard/GetWorkflowSteps?dpid=7040000447437\n"
     ]
    },
    {
     "name": "stderr",
     "output_type": "stream",
     "text": [
      "C:\\Users\\Satpum\\AppData\\Local\\anaconda3\\Lib\\site-packages\\urllib3\\connectionpool.py:1056: InsecureRequestWarning: Unverified HTTPS request is being made to host 'omcs-global-customer-persister-ge4.omcs-nonprod.r1.pks.dell.com'. Adding certificate verification is strongly advised. See: https://urllib3.readthedocs.io/en/1.26.x/advanced-usage.html#ssl-warnings\n",
      "  warnings.warn(\n"
     ]
    },
    {
     "name": "stdout",
     "output_type": "stream",
     "text": [
      "not null\n",
      "7040000447436\n",
      "count 252\n",
      "https://omcs-global-customer-persister-ge4.omcs-nonprod.r1.pks.dell.com/omcs-global-customer-persister/v1/Dashboard/GetWorkflowSteps?dpid=7040000447436\n"
     ]
    },
    {
     "name": "stderr",
     "output_type": "stream",
     "text": [
      "C:\\Users\\Satpum\\AppData\\Local\\anaconda3\\Lib\\site-packages\\urllib3\\connectionpool.py:1056: InsecureRequestWarning: Unverified HTTPS request is being made to host 'omcs-global-customer-persister-ge4.omcs-nonprod.r1.pks.dell.com'. Adding certificate verification is strongly advised. See: https://urllib3.readthedocs.io/en/1.26.x/advanced-usage.html#ssl-warnings\n",
      "  warnings.warn(\n"
     ]
    },
    {
     "name": "stdout",
     "output_type": "stream",
     "text": [
      "not null\n",
      "7040000447435\n",
      "count 253\n",
      "https://omcs-global-customer-persister-ge4.omcs-nonprod.r1.pks.dell.com/omcs-global-customer-persister/v1/Dashboard/GetWorkflowSteps?dpid=7040000447435\n"
     ]
    },
    {
     "name": "stderr",
     "output_type": "stream",
     "text": [
      "C:\\Users\\Satpum\\AppData\\Local\\anaconda3\\Lib\\site-packages\\urllib3\\connectionpool.py:1056: InsecureRequestWarning: Unverified HTTPS request is being made to host 'omcs-global-customer-persister-ge4.omcs-nonprod.r1.pks.dell.com'. Adding certificate verification is strongly advised. See: https://urllib3.readthedocs.io/en/1.26.x/advanced-usage.html#ssl-warnings\n",
      "  warnings.warn(\n"
     ]
    },
    {
     "name": "stdout",
     "output_type": "stream",
     "text": [
      "not null\n",
      "7040000447434\n",
      "count 254\n",
      "https://omcs-global-customer-persister-ge4.omcs-nonprod.r1.pks.dell.com/omcs-global-customer-persister/v1/Dashboard/GetWorkflowSteps?dpid=7040000447434\n"
     ]
    },
    {
     "name": "stderr",
     "output_type": "stream",
     "text": [
      "C:\\Users\\Satpum\\AppData\\Local\\anaconda3\\Lib\\site-packages\\urllib3\\connectionpool.py:1056: InsecureRequestWarning: Unverified HTTPS request is being made to host 'omcs-global-customer-persister-ge4.omcs-nonprod.r1.pks.dell.com'. Adding certificate verification is strongly advised. See: https://urllib3.readthedocs.io/en/1.26.x/advanced-usage.html#ssl-warnings\n",
      "  warnings.warn(\n"
     ]
    },
    {
     "name": "stdout",
     "output_type": "stream",
     "text": [
      "not null\n",
      "7040000447433\n",
      "count 255\n",
      "https://omcs-global-customer-persister-ge4.omcs-nonprod.r1.pks.dell.com/omcs-global-customer-persister/v1/Dashboard/GetWorkflowSteps?dpid=7040000447433\n"
     ]
    },
    {
     "name": "stderr",
     "output_type": "stream",
     "text": [
      "C:\\Users\\Satpum\\AppData\\Local\\anaconda3\\Lib\\site-packages\\urllib3\\connectionpool.py:1056: InsecureRequestWarning: Unverified HTTPS request is being made to host 'omcs-global-customer-persister-ge4.omcs-nonprod.r1.pks.dell.com'. Adding certificate verification is strongly advised. See: https://urllib3.readthedocs.io/en/1.26.x/advanced-usage.html#ssl-warnings\n",
      "  warnings.warn(\n"
     ]
    },
    {
     "name": "stdout",
     "output_type": "stream",
     "text": [
      "not null\n",
      "7040000447432\n",
      "count 256\n",
      "https://omcs-global-customer-persister-ge4.omcs-nonprod.r1.pks.dell.com/omcs-global-customer-persister/v1/Dashboard/GetWorkflowSteps?dpid=7040000447432\n"
     ]
    },
    {
     "name": "stderr",
     "output_type": "stream",
     "text": [
      "C:\\Users\\Satpum\\AppData\\Local\\anaconda3\\Lib\\site-packages\\urllib3\\connectionpool.py:1056: InsecureRequestWarning: Unverified HTTPS request is being made to host 'omcs-global-customer-persister-ge4.omcs-nonprod.r1.pks.dell.com'. Adding certificate verification is strongly advised. See: https://urllib3.readthedocs.io/en/1.26.x/advanced-usage.html#ssl-warnings\n",
      "  warnings.warn(\n"
     ]
    },
    {
     "name": "stdout",
     "output_type": "stream",
     "text": [
      "not null\n",
      "7040000447431\n",
      "count 257\n",
      "https://omcs-global-customer-persister-ge4.omcs-nonprod.r1.pks.dell.com/omcs-global-customer-persister/v1/Dashboard/GetWorkflowSteps?dpid=7040000447431\n"
     ]
    },
    {
     "name": "stderr",
     "output_type": "stream",
     "text": [
      "C:\\Users\\Satpum\\AppData\\Local\\anaconda3\\Lib\\site-packages\\urllib3\\connectionpool.py:1056: InsecureRequestWarning: Unverified HTTPS request is being made to host 'omcs-global-customer-persister-ge4.omcs-nonprod.r1.pks.dell.com'. Adding certificate verification is strongly advised. See: https://urllib3.readthedocs.io/en/1.26.x/advanced-usage.html#ssl-warnings\n",
      "  warnings.warn(\n"
     ]
    },
    {
     "name": "stdout",
     "output_type": "stream",
     "text": [
      "not null\n",
      "7040000447430\n",
      "count 258\n",
      "https://omcs-global-customer-persister-ge4.omcs-nonprod.r1.pks.dell.com/omcs-global-customer-persister/v1/Dashboard/GetWorkflowSteps?dpid=7040000447430\n"
     ]
    },
    {
     "name": "stderr",
     "output_type": "stream",
     "text": [
      "C:\\Users\\Satpum\\AppData\\Local\\anaconda3\\Lib\\site-packages\\urllib3\\connectionpool.py:1056: InsecureRequestWarning: Unverified HTTPS request is being made to host 'omcs-global-customer-persister-ge4.omcs-nonprod.r1.pks.dell.com'. Adding certificate verification is strongly advised. See: https://urllib3.readthedocs.io/en/1.26.x/advanced-usage.html#ssl-warnings\n",
      "  warnings.warn(\n"
     ]
    },
    {
     "name": "stdout",
     "output_type": "stream",
     "text": [
      "not null\n",
      "7040000447429\n",
      "count 259\n",
      "https://omcs-global-customer-persister-ge4.omcs-nonprod.r1.pks.dell.com/omcs-global-customer-persister/v1/Dashboard/GetWorkflowSteps?dpid=7040000447429\n"
     ]
    },
    {
     "name": "stderr",
     "output_type": "stream",
     "text": [
      "C:\\Users\\Satpum\\AppData\\Local\\anaconda3\\Lib\\site-packages\\urllib3\\connectionpool.py:1056: InsecureRequestWarning: Unverified HTTPS request is being made to host 'omcs-global-customer-persister-ge4.omcs-nonprod.r1.pks.dell.com'. Adding certificate verification is strongly advised. See: https://urllib3.readthedocs.io/en/1.26.x/advanced-usage.html#ssl-warnings\n",
      "  warnings.warn(\n"
     ]
    },
    {
     "name": "stdout",
     "output_type": "stream",
     "text": [
      "not null\n",
      "7040000447428\n",
      "count 260\n",
      "https://omcs-global-customer-persister-ge4.omcs-nonprod.r1.pks.dell.com/omcs-global-customer-persister/v1/Dashboard/GetWorkflowSteps?dpid=7040000447428\n"
     ]
    },
    {
     "name": "stderr",
     "output_type": "stream",
     "text": [
      "C:\\Users\\Satpum\\AppData\\Local\\anaconda3\\Lib\\site-packages\\urllib3\\connectionpool.py:1056: InsecureRequestWarning: Unverified HTTPS request is being made to host 'omcs-global-customer-persister-ge4.omcs-nonprod.r1.pks.dell.com'. Adding certificate verification is strongly advised. See: https://urllib3.readthedocs.io/en/1.26.x/advanced-usage.html#ssl-warnings\n",
      "  warnings.warn(\n"
     ]
    },
    {
     "name": "stdout",
     "output_type": "stream",
     "text": [
      "not null\n",
      "7040000447427\n",
      "count 261\n",
      "https://omcs-global-customer-persister-ge4.omcs-nonprod.r1.pks.dell.com/omcs-global-customer-persister/v1/Dashboard/GetWorkflowSteps?dpid=7040000447427\n"
     ]
    },
    {
     "name": "stderr",
     "output_type": "stream",
     "text": [
      "C:\\Users\\Satpum\\AppData\\Local\\anaconda3\\Lib\\site-packages\\urllib3\\connectionpool.py:1056: InsecureRequestWarning: Unverified HTTPS request is being made to host 'omcs-global-customer-persister-ge4.omcs-nonprod.r1.pks.dell.com'. Adding certificate verification is strongly advised. See: https://urllib3.readthedocs.io/en/1.26.x/advanced-usage.html#ssl-warnings\n",
      "  warnings.warn(\n"
     ]
    },
    {
     "name": "stdout",
     "output_type": "stream",
     "text": [
      "not null\n",
      "7040000447426\n",
      "count 262\n",
      "https://omcs-global-customer-persister-ge4.omcs-nonprod.r1.pks.dell.com/omcs-global-customer-persister/v1/Dashboard/GetWorkflowSteps?dpid=7040000447426\n"
     ]
    },
    {
     "name": "stderr",
     "output_type": "stream",
     "text": [
      "C:\\Users\\Satpum\\AppData\\Local\\anaconda3\\Lib\\site-packages\\urllib3\\connectionpool.py:1056: InsecureRequestWarning: Unverified HTTPS request is being made to host 'omcs-global-customer-persister-ge4.omcs-nonprod.r1.pks.dell.com'. Adding certificate verification is strongly advised. See: https://urllib3.readthedocs.io/en/1.26.x/advanced-usage.html#ssl-warnings\n",
      "  warnings.warn(\n"
     ]
    },
    {
     "name": "stdout",
     "output_type": "stream",
     "text": [
      "not null\n",
      "7040000447425\n",
      "count 263\n",
      "https://omcs-global-customer-persister-ge4.omcs-nonprod.r1.pks.dell.com/omcs-global-customer-persister/v1/Dashboard/GetWorkflowSteps?dpid=7040000447425\n"
     ]
    },
    {
     "name": "stderr",
     "output_type": "stream",
     "text": [
      "C:\\Users\\Satpum\\AppData\\Local\\anaconda3\\Lib\\site-packages\\urllib3\\connectionpool.py:1056: InsecureRequestWarning: Unverified HTTPS request is being made to host 'omcs-global-customer-persister-ge4.omcs-nonprod.r1.pks.dell.com'. Adding certificate verification is strongly advised. See: https://urllib3.readthedocs.io/en/1.26.x/advanced-usage.html#ssl-warnings\n",
      "  warnings.warn(\n"
     ]
    },
    {
     "name": "stdout",
     "output_type": "stream",
     "text": [
      "null7040000447425\n",
      "7040000447424\n",
      "count 264\n",
      "https://omcs-global-customer-persister-ge4.omcs-nonprod.r1.pks.dell.com/omcs-global-customer-persister/v1/Dashboard/GetWorkflowSteps?dpid=7040000447424\n"
     ]
    },
    {
     "name": "stderr",
     "output_type": "stream",
     "text": [
      "C:\\Users\\Satpum\\AppData\\Local\\anaconda3\\Lib\\site-packages\\urllib3\\connectionpool.py:1056: InsecureRequestWarning: Unverified HTTPS request is being made to host 'omcs-global-customer-persister-ge4.omcs-nonprod.r1.pks.dell.com'. Adding certificate verification is strongly advised. See: https://urllib3.readthedocs.io/en/1.26.x/advanced-usage.html#ssl-warnings\n",
      "  warnings.warn(\n"
     ]
    },
    {
     "name": "stdout",
     "output_type": "stream",
     "text": [
      "null7040000447424\n",
      "7040000447423\n",
      "count 265\n",
      "https://omcs-global-customer-persister-ge4.omcs-nonprod.r1.pks.dell.com/omcs-global-customer-persister/v1/Dashboard/GetWorkflowSteps?dpid=7040000447423\n"
     ]
    },
    {
     "name": "stderr",
     "output_type": "stream",
     "text": [
      "C:\\Users\\Satpum\\AppData\\Local\\anaconda3\\Lib\\site-packages\\urllib3\\connectionpool.py:1056: InsecureRequestWarning: Unverified HTTPS request is being made to host 'omcs-global-customer-persister-ge4.omcs-nonprod.r1.pks.dell.com'. Adding certificate verification is strongly advised. See: https://urllib3.readthedocs.io/en/1.26.x/advanced-usage.html#ssl-warnings\n",
      "  warnings.warn(\n"
     ]
    },
    {
     "name": "stdout",
     "output_type": "stream",
     "text": [
      "null7040000447423\n",
      "7040000447422\n",
      "count 266\n",
      "https://omcs-global-customer-persister-ge4.omcs-nonprod.r1.pks.dell.com/omcs-global-customer-persister/v1/Dashboard/GetWorkflowSteps?dpid=7040000447422\n"
     ]
    },
    {
     "name": "stderr",
     "output_type": "stream",
     "text": [
      "C:\\Users\\Satpum\\AppData\\Local\\anaconda3\\Lib\\site-packages\\urllib3\\connectionpool.py:1056: InsecureRequestWarning: Unverified HTTPS request is being made to host 'omcs-global-customer-persister-ge4.omcs-nonprod.r1.pks.dell.com'. Adding certificate verification is strongly advised. See: https://urllib3.readthedocs.io/en/1.26.x/advanced-usage.html#ssl-warnings\n",
      "  warnings.warn(\n"
     ]
    },
    {
     "name": "stdout",
     "output_type": "stream",
     "text": [
      "null7040000447422\n",
      "7040000447421\n",
      "count 267\n",
      "https://omcs-global-customer-persister-ge4.omcs-nonprod.r1.pks.dell.com/omcs-global-customer-persister/v1/Dashboard/GetWorkflowSteps?dpid=7040000447421\n"
     ]
    },
    {
     "name": "stderr",
     "output_type": "stream",
     "text": [
      "C:\\Users\\Satpum\\AppData\\Local\\anaconda3\\Lib\\site-packages\\urllib3\\connectionpool.py:1056: InsecureRequestWarning: Unverified HTTPS request is being made to host 'omcs-global-customer-persister-ge4.omcs-nonprod.r1.pks.dell.com'. Adding certificate verification is strongly advised. See: https://urllib3.readthedocs.io/en/1.26.x/advanced-usage.html#ssl-warnings\n",
      "  warnings.warn(\n"
     ]
    },
    {
     "name": "stdout",
     "output_type": "stream",
     "text": [
      "null7040000447421\n",
      "7040000447420\n",
      "count 268\n",
      "https://omcs-global-customer-persister-ge4.omcs-nonprod.r1.pks.dell.com/omcs-global-customer-persister/v1/Dashboard/GetWorkflowSteps?dpid=7040000447420\n"
     ]
    },
    {
     "name": "stderr",
     "output_type": "stream",
     "text": [
      "C:\\Users\\Satpum\\AppData\\Local\\anaconda3\\Lib\\site-packages\\urllib3\\connectionpool.py:1056: InsecureRequestWarning: Unverified HTTPS request is being made to host 'omcs-global-customer-persister-ge4.omcs-nonprod.r1.pks.dell.com'. Adding certificate verification is strongly advised. See: https://urllib3.readthedocs.io/en/1.26.x/advanced-usage.html#ssl-warnings\n",
      "  warnings.warn(\n"
     ]
    },
    {
     "name": "stdout",
     "output_type": "stream",
     "text": [
      "not null\n",
      "7040000447419\n",
      "count 269\n",
      "https://omcs-global-customer-persister-ge4.omcs-nonprod.r1.pks.dell.com/omcs-global-customer-persister/v1/Dashboard/GetWorkflowSteps?dpid=7040000447419\n"
     ]
    },
    {
     "name": "stderr",
     "output_type": "stream",
     "text": [
      "C:\\Users\\Satpum\\AppData\\Local\\anaconda3\\Lib\\site-packages\\urllib3\\connectionpool.py:1056: InsecureRequestWarning: Unverified HTTPS request is being made to host 'omcs-global-customer-persister-ge4.omcs-nonprod.r1.pks.dell.com'. Adding certificate verification is strongly advised. See: https://urllib3.readthedocs.io/en/1.26.x/advanced-usage.html#ssl-warnings\n",
      "  warnings.warn(\n"
     ]
    },
    {
     "name": "stdout",
     "output_type": "stream",
     "text": [
      "not null\n",
      "7040000447418\n",
      "count 270\n",
      "https://omcs-global-customer-persister-ge4.omcs-nonprod.r1.pks.dell.com/omcs-global-customer-persister/v1/Dashboard/GetWorkflowSteps?dpid=7040000447418\n"
     ]
    },
    {
     "name": "stderr",
     "output_type": "stream",
     "text": [
      "C:\\Users\\Satpum\\AppData\\Local\\anaconda3\\Lib\\site-packages\\urllib3\\connectionpool.py:1056: InsecureRequestWarning: Unverified HTTPS request is being made to host 'omcs-global-customer-persister-ge4.omcs-nonprod.r1.pks.dell.com'. Adding certificate verification is strongly advised. See: https://urllib3.readthedocs.io/en/1.26.x/advanced-usage.html#ssl-warnings\n",
      "  warnings.warn(\n"
     ]
    },
    {
     "name": "stdout",
     "output_type": "stream",
     "text": [
      "not null\n",
      "7040000447417\n",
      "count 271\n",
      "https://omcs-global-customer-persister-ge4.omcs-nonprod.r1.pks.dell.com/omcs-global-customer-persister/v1/Dashboard/GetWorkflowSteps?dpid=7040000447417\n"
     ]
    },
    {
     "name": "stderr",
     "output_type": "stream",
     "text": [
      "C:\\Users\\Satpum\\AppData\\Local\\anaconda3\\Lib\\site-packages\\urllib3\\connectionpool.py:1056: InsecureRequestWarning: Unverified HTTPS request is being made to host 'omcs-global-customer-persister-ge4.omcs-nonprod.r1.pks.dell.com'. Adding certificate verification is strongly advised. See: https://urllib3.readthedocs.io/en/1.26.x/advanced-usage.html#ssl-warnings\n",
      "  warnings.warn(\n"
     ]
    },
    {
     "name": "stdout",
     "output_type": "stream",
     "text": [
      "not null\n",
      "7040000447416\n",
      "count 272\n",
      "https://omcs-global-customer-persister-ge4.omcs-nonprod.r1.pks.dell.com/omcs-global-customer-persister/v1/Dashboard/GetWorkflowSteps?dpid=7040000447416\n"
     ]
    },
    {
     "name": "stderr",
     "output_type": "stream",
     "text": [
      "C:\\Users\\Satpum\\AppData\\Local\\anaconda3\\Lib\\site-packages\\urllib3\\connectionpool.py:1056: InsecureRequestWarning: Unverified HTTPS request is being made to host 'omcs-global-customer-persister-ge4.omcs-nonprod.r1.pks.dell.com'. Adding certificate verification is strongly advised. See: https://urllib3.readthedocs.io/en/1.26.x/advanced-usage.html#ssl-warnings\n",
      "  warnings.warn(\n"
     ]
    },
    {
     "name": "stdout",
     "output_type": "stream",
     "text": [
      "not null\n",
      "7040000447415\n",
      "count 273\n",
      "https://omcs-global-customer-persister-ge4.omcs-nonprod.r1.pks.dell.com/omcs-global-customer-persister/v1/Dashboard/GetWorkflowSteps?dpid=7040000447415\n"
     ]
    },
    {
     "name": "stderr",
     "output_type": "stream",
     "text": [
      "C:\\Users\\Satpum\\AppData\\Local\\anaconda3\\Lib\\site-packages\\urllib3\\connectionpool.py:1056: InsecureRequestWarning: Unverified HTTPS request is being made to host 'omcs-global-customer-persister-ge4.omcs-nonprod.r1.pks.dell.com'. Adding certificate verification is strongly advised. See: https://urllib3.readthedocs.io/en/1.26.x/advanced-usage.html#ssl-warnings\n",
      "  warnings.warn(\n"
     ]
    },
    {
     "name": "stdout",
     "output_type": "stream",
     "text": [
      "not null\n",
      "7040000447414\n",
      "count 274\n",
      "https://omcs-global-customer-persister-ge4.omcs-nonprod.r1.pks.dell.com/omcs-global-customer-persister/v1/Dashboard/GetWorkflowSteps?dpid=7040000447414\n"
     ]
    },
    {
     "name": "stderr",
     "output_type": "stream",
     "text": [
      "C:\\Users\\Satpum\\AppData\\Local\\anaconda3\\Lib\\site-packages\\urllib3\\connectionpool.py:1056: InsecureRequestWarning: Unverified HTTPS request is being made to host 'omcs-global-customer-persister-ge4.omcs-nonprod.r1.pks.dell.com'. Adding certificate verification is strongly advised. See: https://urllib3.readthedocs.io/en/1.26.x/advanced-usage.html#ssl-warnings\n",
      "  warnings.warn(\n"
     ]
    },
    {
     "name": "stdout",
     "output_type": "stream",
     "text": [
      "not null\n",
      "7040000447413\n",
      "count 275\n",
      "https://omcs-global-customer-persister-ge4.omcs-nonprod.r1.pks.dell.com/omcs-global-customer-persister/v1/Dashboard/GetWorkflowSteps?dpid=7040000447413\n"
     ]
    },
    {
     "name": "stderr",
     "output_type": "stream",
     "text": [
      "C:\\Users\\Satpum\\AppData\\Local\\anaconda3\\Lib\\site-packages\\urllib3\\connectionpool.py:1056: InsecureRequestWarning: Unverified HTTPS request is being made to host 'omcs-global-customer-persister-ge4.omcs-nonprod.r1.pks.dell.com'. Adding certificate verification is strongly advised. See: https://urllib3.readthedocs.io/en/1.26.x/advanced-usage.html#ssl-warnings\n",
      "  warnings.warn(\n"
     ]
    },
    {
     "name": "stdout",
     "output_type": "stream",
     "text": [
      "not null\n",
      "7040000447412\n",
      "count 276\n",
      "https://omcs-global-customer-persister-ge4.omcs-nonprod.r1.pks.dell.com/omcs-global-customer-persister/v1/Dashboard/GetWorkflowSteps?dpid=7040000447412\n"
     ]
    },
    {
     "name": "stderr",
     "output_type": "stream",
     "text": [
      "C:\\Users\\Satpum\\AppData\\Local\\anaconda3\\Lib\\site-packages\\urllib3\\connectionpool.py:1056: InsecureRequestWarning: Unverified HTTPS request is being made to host 'omcs-global-customer-persister-ge4.omcs-nonprod.r1.pks.dell.com'. Adding certificate verification is strongly advised. See: https://urllib3.readthedocs.io/en/1.26.x/advanced-usage.html#ssl-warnings\n",
      "  warnings.warn(\n"
     ]
    },
    {
     "name": "stdout",
     "output_type": "stream",
     "text": [
      "not null\n",
      "7040000447411\n",
      "count 277\n",
      "https://omcs-global-customer-persister-ge4.omcs-nonprod.r1.pks.dell.com/omcs-global-customer-persister/v1/Dashboard/GetWorkflowSteps?dpid=7040000447411\n"
     ]
    },
    {
     "name": "stderr",
     "output_type": "stream",
     "text": [
      "C:\\Users\\Satpum\\AppData\\Local\\anaconda3\\Lib\\site-packages\\urllib3\\connectionpool.py:1056: InsecureRequestWarning: Unverified HTTPS request is being made to host 'omcs-global-customer-persister-ge4.omcs-nonprod.r1.pks.dell.com'. Adding certificate verification is strongly advised. See: https://urllib3.readthedocs.io/en/1.26.x/advanced-usage.html#ssl-warnings\n",
      "  warnings.warn(\n"
     ]
    },
    {
     "name": "stdout",
     "output_type": "stream",
     "text": [
      "not null\n",
      "7040000447410\n",
      "count 278\n",
      "https://omcs-global-customer-persister-ge4.omcs-nonprod.r1.pks.dell.com/omcs-global-customer-persister/v1/Dashboard/GetWorkflowSteps?dpid=7040000447410\n"
     ]
    },
    {
     "name": "stderr",
     "output_type": "stream",
     "text": [
      "C:\\Users\\Satpum\\AppData\\Local\\anaconda3\\Lib\\site-packages\\urllib3\\connectionpool.py:1056: InsecureRequestWarning: Unverified HTTPS request is being made to host 'omcs-global-customer-persister-ge4.omcs-nonprod.r1.pks.dell.com'. Adding certificate verification is strongly advised. See: https://urllib3.readthedocs.io/en/1.26.x/advanced-usage.html#ssl-warnings\n",
      "  warnings.warn(\n"
     ]
    },
    {
     "name": "stdout",
     "output_type": "stream",
     "text": [
      "not null\n",
      "7040000447409\n",
      "count 279\n",
      "https://omcs-global-customer-persister-ge4.omcs-nonprod.r1.pks.dell.com/omcs-global-customer-persister/v1/Dashboard/GetWorkflowSteps?dpid=7040000447409\n"
     ]
    },
    {
     "name": "stderr",
     "output_type": "stream",
     "text": [
      "C:\\Users\\Satpum\\AppData\\Local\\anaconda3\\Lib\\site-packages\\urllib3\\connectionpool.py:1056: InsecureRequestWarning: Unverified HTTPS request is being made to host 'omcs-global-customer-persister-ge4.omcs-nonprod.r1.pks.dell.com'. Adding certificate verification is strongly advised. See: https://urllib3.readthedocs.io/en/1.26.x/advanced-usage.html#ssl-warnings\n",
      "  warnings.warn(\n"
     ]
    },
    {
     "name": "stdout",
     "output_type": "stream",
     "text": [
      "not null\n",
      "7040000447408\n",
      "count 280\n",
      "https://omcs-global-customer-persister-ge4.omcs-nonprod.r1.pks.dell.com/omcs-global-customer-persister/v1/Dashboard/GetWorkflowSteps?dpid=7040000447408\n"
     ]
    },
    {
     "name": "stderr",
     "output_type": "stream",
     "text": [
      "C:\\Users\\Satpum\\AppData\\Local\\anaconda3\\Lib\\site-packages\\urllib3\\connectionpool.py:1056: InsecureRequestWarning: Unverified HTTPS request is being made to host 'omcs-global-customer-persister-ge4.omcs-nonprod.r1.pks.dell.com'. Adding certificate verification is strongly advised. See: https://urllib3.readthedocs.io/en/1.26.x/advanced-usage.html#ssl-warnings\n",
      "  warnings.warn(\n"
     ]
    },
    {
     "name": "stdout",
     "output_type": "stream",
     "text": [
      "not null\n",
      "7040000447407\n",
      "count 281\n",
      "https://omcs-global-customer-persister-ge4.omcs-nonprod.r1.pks.dell.com/omcs-global-customer-persister/v1/Dashboard/GetWorkflowSteps?dpid=7040000447407\n"
     ]
    },
    {
     "name": "stderr",
     "output_type": "stream",
     "text": [
      "C:\\Users\\Satpum\\AppData\\Local\\anaconda3\\Lib\\site-packages\\urllib3\\connectionpool.py:1056: InsecureRequestWarning: Unverified HTTPS request is being made to host 'omcs-global-customer-persister-ge4.omcs-nonprod.r1.pks.dell.com'. Adding certificate verification is strongly advised. See: https://urllib3.readthedocs.io/en/1.26.x/advanced-usage.html#ssl-warnings\n",
      "  warnings.warn(\n"
     ]
    },
    {
     "name": "stdout",
     "output_type": "stream",
     "text": [
      "not null\n",
      "7040000447406\n",
      "count 282\n",
      "https://omcs-global-customer-persister-ge4.omcs-nonprod.r1.pks.dell.com/omcs-global-customer-persister/v1/Dashboard/GetWorkflowSteps?dpid=7040000447406\n"
     ]
    },
    {
     "name": "stderr",
     "output_type": "stream",
     "text": [
      "C:\\Users\\Satpum\\AppData\\Local\\anaconda3\\Lib\\site-packages\\urllib3\\connectionpool.py:1056: InsecureRequestWarning: Unverified HTTPS request is being made to host 'omcs-global-customer-persister-ge4.omcs-nonprod.r1.pks.dell.com'. Adding certificate verification is strongly advised. See: https://urllib3.readthedocs.io/en/1.26.x/advanced-usage.html#ssl-warnings\n",
      "  warnings.warn(\n"
     ]
    },
    {
     "name": "stdout",
     "output_type": "stream",
     "text": [
      "null7040000447406\n",
      "7040000447405\n",
      "count 283\n",
      "https://omcs-global-customer-persister-ge4.omcs-nonprod.r1.pks.dell.com/omcs-global-customer-persister/v1/Dashboard/GetWorkflowSteps?dpid=7040000447405\n"
     ]
    },
    {
     "name": "stderr",
     "output_type": "stream",
     "text": [
      "C:\\Users\\Satpum\\AppData\\Local\\anaconda3\\Lib\\site-packages\\urllib3\\connectionpool.py:1056: InsecureRequestWarning: Unverified HTTPS request is being made to host 'omcs-global-customer-persister-ge4.omcs-nonprod.r1.pks.dell.com'. Adding certificate verification is strongly advised. See: https://urllib3.readthedocs.io/en/1.26.x/advanced-usage.html#ssl-warnings\n",
      "  warnings.warn(\n"
     ]
    },
    {
     "name": "stdout",
     "output_type": "stream",
     "text": [
      "null7040000447405\n",
      "7040000447404\n",
      "count 284\n",
      "https://omcs-global-customer-persister-ge4.omcs-nonprod.r1.pks.dell.com/omcs-global-customer-persister/v1/Dashboard/GetWorkflowSteps?dpid=7040000447404\n"
     ]
    },
    {
     "name": "stderr",
     "output_type": "stream",
     "text": [
      "C:\\Users\\Satpum\\AppData\\Local\\anaconda3\\Lib\\site-packages\\urllib3\\connectionpool.py:1056: InsecureRequestWarning: Unverified HTTPS request is being made to host 'omcs-global-customer-persister-ge4.omcs-nonprod.r1.pks.dell.com'. Adding certificate verification is strongly advised. See: https://urllib3.readthedocs.io/en/1.26.x/advanced-usage.html#ssl-warnings\n",
      "  warnings.warn(\n"
     ]
    },
    {
     "name": "stdout",
     "output_type": "stream",
     "text": [
      "null7040000447404\n",
      "7040000447403\n",
      "count 285\n",
      "https://omcs-global-customer-persister-ge4.omcs-nonprod.r1.pks.dell.com/omcs-global-customer-persister/v1/Dashboard/GetWorkflowSteps?dpid=7040000447403\n"
     ]
    },
    {
     "name": "stderr",
     "output_type": "stream",
     "text": [
      "C:\\Users\\Satpum\\AppData\\Local\\anaconda3\\Lib\\site-packages\\urllib3\\connectionpool.py:1056: InsecureRequestWarning: Unverified HTTPS request is being made to host 'omcs-global-customer-persister-ge4.omcs-nonprod.r1.pks.dell.com'. Adding certificate verification is strongly advised. See: https://urllib3.readthedocs.io/en/1.26.x/advanced-usage.html#ssl-warnings\n",
      "  warnings.warn(\n"
     ]
    },
    {
     "name": "stdout",
     "output_type": "stream",
     "text": [
      "null7040000447403\n",
      "7040000447402\n",
      "count 286\n",
      "https://omcs-global-customer-persister-ge4.omcs-nonprod.r1.pks.dell.com/omcs-global-customer-persister/v1/Dashboard/GetWorkflowSteps?dpid=7040000447402\n"
     ]
    },
    {
     "name": "stderr",
     "output_type": "stream",
     "text": [
      "C:\\Users\\Satpum\\AppData\\Local\\anaconda3\\Lib\\site-packages\\urllib3\\connectionpool.py:1056: InsecureRequestWarning: Unverified HTTPS request is being made to host 'omcs-global-customer-persister-ge4.omcs-nonprod.r1.pks.dell.com'. Adding certificate verification is strongly advised. See: https://urllib3.readthedocs.io/en/1.26.x/advanced-usage.html#ssl-warnings\n",
      "  warnings.warn(\n"
     ]
    },
    {
     "name": "stdout",
     "output_type": "stream",
     "text": [
      "null7040000447402\n",
      "7040000447401\n",
      "count 287\n",
      "https://omcs-global-customer-persister-ge4.omcs-nonprod.r1.pks.dell.com/omcs-global-customer-persister/v1/Dashboard/GetWorkflowSteps?dpid=7040000447401\n"
     ]
    },
    {
     "name": "stderr",
     "output_type": "stream",
     "text": [
      "C:\\Users\\Satpum\\AppData\\Local\\anaconda3\\Lib\\site-packages\\urllib3\\connectionpool.py:1056: InsecureRequestWarning: Unverified HTTPS request is being made to host 'omcs-global-customer-persister-ge4.omcs-nonprod.r1.pks.dell.com'. Adding certificate verification is strongly advised. See: https://urllib3.readthedocs.io/en/1.26.x/advanced-usage.html#ssl-warnings\n",
      "  warnings.warn(\n"
     ]
    },
    {
     "name": "stdout",
     "output_type": "stream",
     "text": [
      "not null\n",
      "7040000447400\n",
      "count 288\n",
      "https://omcs-global-customer-persister-ge4.omcs-nonprod.r1.pks.dell.com/omcs-global-customer-persister/v1/Dashboard/GetWorkflowSteps?dpid=7040000447400\n"
     ]
    },
    {
     "name": "stderr",
     "output_type": "stream",
     "text": [
      "C:\\Users\\Satpum\\AppData\\Local\\anaconda3\\Lib\\site-packages\\urllib3\\connectionpool.py:1056: InsecureRequestWarning: Unverified HTTPS request is being made to host 'omcs-global-customer-persister-ge4.omcs-nonprod.r1.pks.dell.com'. Adding certificate verification is strongly advised. See: https://urllib3.readthedocs.io/en/1.26.x/advanced-usage.html#ssl-warnings\n",
      "  warnings.warn(\n"
     ]
    },
    {
     "name": "stdout",
     "output_type": "stream",
     "text": [
      "null7040000447400\n",
      "7040000447399\n",
      "count 289\n",
      "https://omcs-global-customer-persister-ge4.omcs-nonprod.r1.pks.dell.com/omcs-global-customer-persister/v1/Dashboard/GetWorkflowSteps?dpid=7040000447399\n"
     ]
    },
    {
     "name": "stderr",
     "output_type": "stream",
     "text": [
      "C:\\Users\\Satpum\\AppData\\Local\\anaconda3\\Lib\\site-packages\\urllib3\\connectionpool.py:1056: InsecureRequestWarning: Unverified HTTPS request is being made to host 'omcs-global-customer-persister-ge4.omcs-nonprod.r1.pks.dell.com'. Adding certificate verification is strongly advised. See: https://urllib3.readthedocs.io/en/1.26.x/advanced-usage.html#ssl-warnings\n",
      "  warnings.warn(\n"
     ]
    },
    {
     "name": "stdout",
     "output_type": "stream",
     "text": [
      "null7040000447399\n",
      "7040000447398\n",
      "count 290\n",
      "https://omcs-global-customer-persister-ge4.omcs-nonprod.r1.pks.dell.com/omcs-global-customer-persister/v1/Dashboard/GetWorkflowSteps?dpid=7040000447398\n"
     ]
    },
    {
     "name": "stderr",
     "output_type": "stream",
     "text": [
      "C:\\Users\\Satpum\\AppData\\Local\\anaconda3\\Lib\\site-packages\\urllib3\\connectionpool.py:1056: InsecureRequestWarning: Unverified HTTPS request is being made to host 'omcs-global-customer-persister-ge4.omcs-nonprod.r1.pks.dell.com'. Adding certificate verification is strongly advised. See: https://urllib3.readthedocs.io/en/1.26.x/advanced-usage.html#ssl-warnings\n",
      "  warnings.warn(\n"
     ]
    },
    {
     "name": "stdout",
     "output_type": "stream",
     "text": [
      "null7040000447398\n",
      "7040000447397\n",
      "count 291\n",
      "https://omcs-global-customer-persister-ge4.omcs-nonprod.r1.pks.dell.com/omcs-global-customer-persister/v1/Dashboard/GetWorkflowSteps?dpid=7040000447397\n"
     ]
    },
    {
     "name": "stderr",
     "output_type": "stream",
     "text": [
      "C:\\Users\\Satpum\\AppData\\Local\\anaconda3\\Lib\\site-packages\\urllib3\\connectionpool.py:1056: InsecureRequestWarning: Unverified HTTPS request is being made to host 'omcs-global-customer-persister-ge4.omcs-nonprod.r1.pks.dell.com'. Adding certificate verification is strongly advised. See: https://urllib3.readthedocs.io/en/1.26.x/advanced-usage.html#ssl-warnings\n",
      "  warnings.warn(\n"
     ]
    },
    {
     "name": "stdout",
     "output_type": "stream",
     "text": [
      "null7040000447397\n",
      "7040000447396\n",
      "count 292\n",
      "https://omcs-global-customer-persister-ge4.omcs-nonprod.r1.pks.dell.com/omcs-global-customer-persister/v1/Dashboard/GetWorkflowSteps?dpid=7040000447396\n"
     ]
    },
    {
     "name": "stderr",
     "output_type": "stream",
     "text": [
      "C:\\Users\\Satpum\\AppData\\Local\\anaconda3\\Lib\\site-packages\\urllib3\\connectionpool.py:1056: InsecureRequestWarning: Unverified HTTPS request is being made to host 'omcs-global-customer-persister-ge4.omcs-nonprod.r1.pks.dell.com'. Adding certificate verification is strongly advised. See: https://urllib3.readthedocs.io/en/1.26.x/advanced-usage.html#ssl-warnings\n",
      "  warnings.warn(\n"
     ]
    },
    {
     "name": "stdout",
     "output_type": "stream",
     "text": [
      "not null\n",
      "7040000447395\n",
      "count 293\n",
      "https://omcs-global-customer-persister-ge4.omcs-nonprod.r1.pks.dell.com/omcs-global-customer-persister/v1/Dashboard/GetWorkflowSteps?dpid=7040000447395\n"
     ]
    },
    {
     "name": "stderr",
     "output_type": "stream",
     "text": [
      "C:\\Users\\Satpum\\AppData\\Local\\anaconda3\\Lib\\site-packages\\urllib3\\connectionpool.py:1056: InsecureRequestWarning: Unverified HTTPS request is being made to host 'omcs-global-customer-persister-ge4.omcs-nonprod.r1.pks.dell.com'. Adding certificate verification is strongly advised. See: https://urllib3.readthedocs.io/en/1.26.x/advanced-usage.html#ssl-warnings\n",
      "  warnings.warn(\n"
     ]
    },
    {
     "name": "stdout",
     "output_type": "stream",
     "text": [
      "not null\n",
      "7040000447394\n",
      "count 294\n",
      "https://omcs-global-customer-persister-ge4.omcs-nonprod.r1.pks.dell.com/omcs-global-customer-persister/v1/Dashboard/GetWorkflowSteps?dpid=7040000447394\n"
     ]
    },
    {
     "name": "stderr",
     "output_type": "stream",
     "text": [
      "C:\\Users\\Satpum\\AppData\\Local\\anaconda3\\Lib\\site-packages\\urllib3\\connectionpool.py:1056: InsecureRequestWarning: Unverified HTTPS request is being made to host 'omcs-global-customer-persister-ge4.omcs-nonprod.r1.pks.dell.com'. Adding certificate verification is strongly advised. See: https://urllib3.readthedocs.io/en/1.26.x/advanced-usage.html#ssl-warnings\n",
      "  warnings.warn(\n"
     ]
    },
    {
     "name": "stdout",
     "output_type": "stream",
     "text": [
      "not null\n",
      "7040000447393\n",
      "count 295\n",
      "https://omcs-global-customer-persister-ge4.omcs-nonprod.r1.pks.dell.com/omcs-global-customer-persister/v1/Dashboard/GetWorkflowSteps?dpid=7040000447393\n"
     ]
    },
    {
     "name": "stderr",
     "output_type": "stream",
     "text": [
      "C:\\Users\\Satpum\\AppData\\Local\\anaconda3\\Lib\\site-packages\\urllib3\\connectionpool.py:1056: InsecureRequestWarning: Unverified HTTPS request is being made to host 'omcs-global-customer-persister-ge4.omcs-nonprod.r1.pks.dell.com'. Adding certificate verification is strongly advised. See: https://urllib3.readthedocs.io/en/1.26.x/advanced-usage.html#ssl-warnings\n",
      "  warnings.warn(\n"
     ]
    },
    {
     "name": "stdout",
     "output_type": "stream",
     "text": [
      "null7040000447393\n",
      "7040000447392\n",
      "count 296\n",
      "https://omcs-global-customer-persister-ge4.omcs-nonprod.r1.pks.dell.com/omcs-global-customer-persister/v1/Dashboard/GetWorkflowSteps?dpid=7040000447392\n"
     ]
    },
    {
     "name": "stderr",
     "output_type": "stream",
     "text": [
      "C:\\Users\\Satpum\\AppData\\Local\\anaconda3\\Lib\\site-packages\\urllib3\\connectionpool.py:1056: InsecureRequestWarning: Unverified HTTPS request is being made to host 'omcs-global-customer-persister-ge4.omcs-nonprod.r1.pks.dell.com'. Adding certificate verification is strongly advised. See: https://urllib3.readthedocs.io/en/1.26.x/advanced-usage.html#ssl-warnings\n",
      "  warnings.warn(\n"
     ]
    },
    {
     "name": "stdout",
     "output_type": "stream",
     "text": [
      "null7040000447392\n",
      "7040000447391\n",
      "count 297\n",
      "https://omcs-global-customer-persister-ge4.omcs-nonprod.r1.pks.dell.com/omcs-global-customer-persister/v1/Dashboard/GetWorkflowSteps?dpid=7040000447391\n"
     ]
    },
    {
     "name": "stderr",
     "output_type": "stream",
     "text": [
      "C:\\Users\\Satpum\\AppData\\Local\\anaconda3\\Lib\\site-packages\\urllib3\\connectionpool.py:1056: InsecureRequestWarning: Unverified HTTPS request is being made to host 'omcs-global-customer-persister-ge4.omcs-nonprod.r1.pks.dell.com'. Adding certificate verification is strongly advised. See: https://urllib3.readthedocs.io/en/1.26.x/advanced-usage.html#ssl-warnings\n",
      "  warnings.warn(\n"
     ]
    },
    {
     "name": "stdout",
     "output_type": "stream",
     "text": [
      "not null\n",
      "7040000447390\n",
      "count 298\n",
      "https://omcs-global-customer-persister-ge4.omcs-nonprod.r1.pks.dell.com/omcs-global-customer-persister/v1/Dashboard/GetWorkflowSteps?dpid=7040000447390\n"
     ]
    },
    {
     "name": "stderr",
     "output_type": "stream",
     "text": [
      "C:\\Users\\Satpum\\AppData\\Local\\anaconda3\\Lib\\site-packages\\urllib3\\connectionpool.py:1056: InsecureRequestWarning: Unverified HTTPS request is being made to host 'omcs-global-customer-persister-ge4.omcs-nonprod.r1.pks.dell.com'. Adding certificate verification is strongly advised. See: https://urllib3.readthedocs.io/en/1.26.x/advanced-usage.html#ssl-warnings\n",
      "  warnings.warn(\n"
     ]
    },
    {
     "name": "stdout",
     "output_type": "stream",
     "text": [
      "null7040000447390\n",
      "7040000447389\n",
      "count 299\n",
      "https://omcs-global-customer-persister-ge4.omcs-nonprod.r1.pks.dell.com/omcs-global-customer-persister/v1/Dashboard/GetWorkflowSteps?dpid=7040000447389\n"
     ]
    },
    {
     "name": "stderr",
     "output_type": "stream",
     "text": [
      "C:\\Users\\Satpum\\AppData\\Local\\anaconda3\\Lib\\site-packages\\urllib3\\connectionpool.py:1056: InsecureRequestWarning: Unverified HTTPS request is being made to host 'omcs-global-customer-persister-ge4.omcs-nonprod.r1.pks.dell.com'. Adding certificate verification is strongly advised. See: https://urllib3.readthedocs.io/en/1.26.x/advanced-usage.html#ssl-warnings\n",
      "  warnings.warn(\n"
     ]
    },
    {
     "name": "stdout",
     "output_type": "stream",
     "text": [
      "null7040000447389\n",
      "7040000447381\n",
      "count 300\n",
      "https://omcs-global-customer-persister-ge4.omcs-nonprod.r1.pks.dell.com/omcs-global-customer-persister/v1/Dashboard/GetWorkflowSteps?dpid=7040000447381\n"
     ]
    },
    {
     "name": "stderr",
     "output_type": "stream",
     "text": [
      "C:\\Users\\Satpum\\AppData\\Local\\anaconda3\\Lib\\site-packages\\urllib3\\connectionpool.py:1056: InsecureRequestWarning: Unverified HTTPS request is being made to host 'omcs-global-customer-persister-ge4.omcs-nonprod.r1.pks.dell.com'. Adding certificate verification is strongly advised. See: https://urllib3.readthedocs.io/en/1.26.x/advanced-usage.html#ssl-warnings\n",
      "  warnings.warn(\n"
     ]
    },
    {
     "name": "stdout",
     "output_type": "stream",
     "text": [
      "not null\n",
      "7040000447380\n",
      "count 301\n",
      "https://omcs-global-customer-persister-ge4.omcs-nonprod.r1.pks.dell.com/omcs-global-customer-persister/v1/Dashboard/GetWorkflowSteps?dpid=7040000447380\n"
     ]
    },
    {
     "name": "stderr",
     "output_type": "stream",
     "text": [
      "C:\\Users\\Satpum\\AppData\\Local\\anaconda3\\Lib\\site-packages\\urllib3\\connectionpool.py:1056: InsecureRequestWarning: Unverified HTTPS request is being made to host 'omcs-global-customer-persister-ge4.omcs-nonprod.r1.pks.dell.com'. Adding certificate verification is strongly advised. See: https://urllib3.readthedocs.io/en/1.26.x/advanced-usage.html#ssl-warnings\n",
      "  warnings.warn(\n"
     ]
    },
    {
     "name": "stdout",
     "output_type": "stream",
     "text": [
      "null7040000447380\n",
      "7040000447379\n",
      "count 302\n",
      "https://omcs-global-customer-persister-ge4.omcs-nonprod.r1.pks.dell.com/omcs-global-customer-persister/v1/Dashboard/GetWorkflowSteps?dpid=7040000447379\n"
     ]
    },
    {
     "name": "stderr",
     "output_type": "stream",
     "text": [
      "C:\\Users\\Satpum\\AppData\\Local\\anaconda3\\Lib\\site-packages\\urllib3\\connectionpool.py:1056: InsecureRequestWarning: Unverified HTTPS request is being made to host 'omcs-global-customer-persister-ge4.omcs-nonprod.r1.pks.dell.com'. Adding certificate verification is strongly advised. See: https://urllib3.readthedocs.io/en/1.26.x/advanced-usage.html#ssl-warnings\n",
      "  warnings.warn(\n"
     ]
    },
    {
     "name": "stdout",
     "output_type": "stream",
     "text": [
      "not null\n",
      "7040000447378\n",
      "count 303\n",
      "https://omcs-global-customer-persister-ge4.omcs-nonprod.r1.pks.dell.com/omcs-global-customer-persister/v1/Dashboard/GetWorkflowSteps?dpid=7040000447378\n"
     ]
    },
    {
     "name": "stderr",
     "output_type": "stream",
     "text": [
      "C:\\Users\\Satpum\\AppData\\Local\\anaconda3\\Lib\\site-packages\\urllib3\\connectionpool.py:1056: InsecureRequestWarning: Unverified HTTPS request is being made to host 'omcs-global-customer-persister-ge4.omcs-nonprod.r1.pks.dell.com'. Adding certificate verification is strongly advised. See: https://urllib3.readthedocs.io/en/1.26.x/advanced-usage.html#ssl-warnings\n",
      "  warnings.warn(\n"
     ]
    },
    {
     "name": "stdout",
     "output_type": "stream",
     "text": [
      "not null\n",
      "7040000447377\n",
      "count 304\n",
      "https://omcs-global-customer-persister-ge4.omcs-nonprod.r1.pks.dell.com/omcs-global-customer-persister/v1/Dashboard/GetWorkflowSteps?dpid=7040000447377\n"
     ]
    },
    {
     "name": "stderr",
     "output_type": "stream",
     "text": [
      "C:\\Users\\Satpum\\AppData\\Local\\anaconda3\\Lib\\site-packages\\urllib3\\connectionpool.py:1056: InsecureRequestWarning: Unverified HTTPS request is being made to host 'omcs-global-customer-persister-ge4.omcs-nonprod.r1.pks.dell.com'. Adding certificate verification is strongly advised. See: https://urllib3.readthedocs.io/en/1.26.x/advanced-usage.html#ssl-warnings\n",
      "  warnings.warn(\n"
     ]
    },
    {
     "name": "stdout",
     "output_type": "stream",
     "text": [
      "null7040000447377\n",
      "7040000447376\n",
      "count 305\n",
      "https://omcs-global-customer-persister-ge4.omcs-nonprod.r1.pks.dell.com/omcs-global-customer-persister/v1/Dashboard/GetWorkflowSteps?dpid=7040000447376\n"
     ]
    },
    {
     "name": "stderr",
     "output_type": "stream",
     "text": [
      "C:\\Users\\Satpum\\AppData\\Local\\anaconda3\\Lib\\site-packages\\urllib3\\connectionpool.py:1056: InsecureRequestWarning: Unverified HTTPS request is being made to host 'omcs-global-customer-persister-ge4.omcs-nonprod.r1.pks.dell.com'. Adding certificate verification is strongly advised. See: https://urllib3.readthedocs.io/en/1.26.x/advanced-usage.html#ssl-warnings\n",
      "  warnings.warn(\n"
     ]
    },
    {
     "name": "stdout",
     "output_type": "stream",
     "text": [
      "not null\n",
      "7040000447375\n",
      "count 306\n",
      "https://omcs-global-customer-persister-ge4.omcs-nonprod.r1.pks.dell.com/omcs-global-customer-persister/v1/Dashboard/GetWorkflowSteps?dpid=7040000447375\n"
     ]
    },
    {
     "name": "stderr",
     "output_type": "stream",
     "text": [
      "C:\\Users\\Satpum\\AppData\\Local\\anaconda3\\Lib\\site-packages\\urllib3\\connectionpool.py:1056: InsecureRequestWarning: Unverified HTTPS request is being made to host 'omcs-global-customer-persister-ge4.omcs-nonprod.r1.pks.dell.com'. Adding certificate verification is strongly advised. See: https://urllib3.readthedocs.io/en/1.26.x/advanced-usage.html#ssl-warnings\n",
      "  warnings.warn(\n"
     ]
    },
    {
     "name": "stdout",
     "output_type": "stream",
     "text": [
      "null7040000447375\n",
      "7040000447374\n",
      "count 307\n",
      "https://omcs-global-customer-persister-ge4.omcs-nonprod.r1.pks.dell.com/omcs-global-customer-persister/v1/Dashboard/GetWorkflowSteps?dpid=7040000447374\n"
     ]
    },
    {
     "name": "stderr",
     "output_type": "stream",
     "text": [
      "C:\\Users\\Satpum\\AppData\\Local\\anaconda3\\Lib\\site-packages\\urllib3\\connectionpool.py:1056: InsecureRequestWarning: Unverified HTTPS request is being made to host 'omcs-global-customer-persister-ge4.omcs-nonprod.r1.pks.dell.com'. Adding certificate verification is strongly advised. See: https://urllib3.readthedocs.io/en/1.26.x/advanced-usage.html#ssl-warnings\n",
      "  warnings.warn(\n"
     ]
    },
    {
     "name": "stdout",
     "output_type": "stream",
     "text": [
      "null7040000447374\n",
      "7040000447373\n",
      "count 308\n",
      "https://omcs-global-customer-persister-ge4.omcs-nonprod.r1.pks.dell.com/omcs-global-customer-persister/v1/Dashboard/GetWorkflowSteps?dpid=7040000447373\n"
     ]
    },
    {
     "name": "stderr",
     "output_type": "stream",
     "text": [
      "C:\\Users\\Satpum\\AppData\\Local\\anaconda3\\Lib\\site-packages\\urllib3\\connectionpool.py:1056: InsecureRequestWarning: Unverified HTTPS request is being made to host 'omcs-global-customer-persister-ge4.omcs-nonprod.r1.pks.dell.com'. Adding certificate verification is strongly advised. See: https://urllib3.readthedocs.io/en/1.26.x/advanced-usage.html#ssl-warnings\n",
      "  warnings.warn(\n"
     ]
    },
    {
     "name": "stdout",
     "output_type": "stream",
     "text": [
      "not null\n",
      "7040000447372\n",
      "count 309\n",
      "https://omcs-global-customer-persister-ge4.omcs-nonprod.r1.pks.dell.com/omcs-global-customer-persister/v1/Dashboard/GetWorkflowSteps?dpid=7040000447372\n"
     ]
    },
    {
     "name": "stderr",
     "output_type": "stream",
     "text": [
      "C:\\Users\\Satpum\\AppData\\Local\\anaconda3\\Lib\\site-packages\\urllib3\\connectionpool.py:1056: InsecureRequestWarning: Unverified HTTPS request is being made to host 'omcs-global-customer-persister-ge4.omcs-nonprod.r1.pks.dell.com'. Adding certificate verification is strongly advised. See: https://urllib3.readthedocs.io/en/1.26.x/advanced-usage.html#ssl-warnings\n",
      "  warnings.warn(\n"
     ]
    },
    {
     "name": "stdout",
     "output_type": "stream",
     "text": [
      "null7040000447372\n",
      "7040000447371\n",
      "count 310\n",
      "https://omcs-global-customer-persister-ge4.omcs-nonprod.r1.pks.dell.com/omcs-global-customer-persister/v1/Dashboard/GetWorkflowSteps?dpid=7040000447371\n"
     ]
    },
    {
     "name": "stderr",
     "output_type": "stream",
     "text": [
      "C:\\Users\\Satpum\\AppData\\Local\\anaconda3\\Lib\\site-packages\\urllib3\\connectionpool.py:1056: InsecureRequestWarning: Unverified HTTPS request is being made to host 'omcs-global-customer-persister-ge4.omcs-nonprod.r1.pks.dell.com'. Adding certificate verification is strongly advised. See: https://urllib3.readthedocs.io/en/1.26.x/advanced-usage.html#ssl-warnings\n",
      "  warnings.warn(\n"
     ]
    },
    {
     "name": "stdout",
     "output_type": "stream",
     "text": [
      "null7040000447371\n",
      "7040000447370\n",
      "count 311\n",
      "https://omcs-global-customer-persister-ge4.omcs-nonprod.r1.pks.dell.com/omcs-global-customer-persister/v1/Dashboard/GetWorkflowSteps?dpid=7040000447370\n"
     ]
    },
    {
     "name": "stderr",
     "output_type": "stream",
     "text": [
      "C:\\Users\\Satpum\\AppData\\Local\\anaconda3\\Lib\\site-packages\\urllib3\\connectionpool.py:1056: InsecureRequestWarning: Unverified HTTPS request is being made to host 'omcs-global-customer-persister-ge4.omcs-nonprod.r1.pks.dell.com'. Adding certificate verification is strongly advised. See: https://urllib3.readthedocs.io/en/1.26.x/advanced-usage.html#ssl-warnings\n",
      "  warnings.warn(\n"
     ]
    },
    {
     "name": "stdout",
     "output_type": "stream",
     "text": [
      "null7040000447370\n",
      "7040000447369\n",
      "count 312\n",
      "https://omcs-global-customer-persister-ge4.omcs-nonprod.r1.pks.dell.com/omcs-global-customer-persister/v1/Dashboard/GetWorkflowSteps?dpid=7040000447369\n"
     ]
    },
    {
     "name": "stderr",
     "output_type": "stream",
     "text": [
      "C:\\Users\\Satpum\\AppData\\Local\\anaconda3\\Lib\\site-packages\\urllib3\\connectionpool.py:1056: InsecureRequestWarning: Unverified HTTPS request is being made to host 'omcs-global-customer-persister-ge4.omcs-nonprod.r1.pks.dell.com'. Adding certificate verification is strongly advised. See: https://urllib3.readthedocs.io/en/1.26.x/advanced-usage.html#ssl-warnings\n",
      "  warnings.warn(\n"
     ]
    },
    {
     "name": "stdout",
     "output_type": "stream",
     "text": [
      "null7040000447369\n",
      "7040000447368\n",
      "count 313\n",
      "https://omcs-global-customer-persister-ge4.omcs-nonprod.r1.pks.dell.com/omcs-global-customer-persister/v1/Dashboard/GetWorkflowSteps?dpid=7040000447368\n"
     ]
    },
    {
     "name": "stderr",
     "output_type": "stream",
     "text": [
      "C:\\Users\\Satpum\\AppData\\Local\\anaconda3\\Lib\\site-packages\\urllib3\\connectionpool.py:1056: InsecureRequestWarning: Unverified HTTPS request is being made to host 'omcs-global-customer-persister-ge4.omcs-nonprod.r1.pks.dell.com'. Adding certificate verification is strongly advised. See: https://urllib3.readthedocs.io/en/1.26.x/advanced-usage.html#ssl-warnings\n",
      "  warnings.warn(\n"
     ]
    },
    {
     "name": "stdout",
     "output_type": "stream",
     "text": [
      "not null\n",
      "7040000447367\n",
      "count 314\n",
      "https://omcs-global-customer-persister-ge4.omcs-nonprod.r1.pks.dell.com/omcs-global-customer-persister/v1/Dashboard/GetWorkflowSteps?dpid=7040000447367\n"
     ]
    },
    {
     "name": "stderr",
     "output_type": "stream",
     "text": [
      "C:\\Users\\Satpum\\AppData\\Local\\anaconda3\\Lib\\site-packages\\urllib3\\connectionpool.py:1056: InsecureRequestWarning: Unverified HTTPS request is being made to host 'omcs-global-customer-persister-ge4.omcs-nonprod.r1.pks.dell.com'. Adding certificate verification is strongly advised. See: https://urllib3.readthedocs.io/en/1.26.x/advanced-usage.html#ssl-warnings\n",
      "  warnings.warn(\n"
     ]
    },
    {
     "name": "stdout",
     "output_type": "stream",
     "text": [
      "null7040000447367\n",
      "7040000447366\n",
      "count 315\n",
      "https://omcs-global-customer-persister-ge4.omcs-nonprod.r1.pks.dell.com/omcs-global-customer-persister/v1/Dashboard/GetWorkflowSteps?dpid=7040000447366\n"
     ]
    },
    {
     "name": "stderr",
     "output_type": "stream",
     "text": [
      "C:\\Users\\Satpum\\AppData\\Local\\anaconda3\\Lib\\site-packages\\urllib3\\connectionpool.py:1056: InsecureRequestWarning: Unverified HTTPS request is being made to host 'omcs-global-customer-persister-ge4.omcs-nonprod.r1.pks.dell.com'. Adding certificate verification is strongly advised. See: https://urllib3.readthedocs.io/en/1.26.x/advanced-usage.html#ssl-warnings\n",
      "  warnings.warn(\n"
     ]
    },
    {
     "name": "stdout",
     "output_type": "stream",
     "text": [
      "null7040000447366\n",
      "7040000447362\n",
      "count 316\n",
      "https://omcs-global-customer-persister-ge4.omcs-nonprod.r1.pks.dell.com/omcs-global-customer-persister/v1/Dashboard/GetWorkflowSteps?dpid=7040000447362\n"
     ]
    },
    {
     "name": "stderr",
     "output_type": "stream",
     "text": [
      "C:\\Users\\Satpum\\AppData\\Local\\anaconda3\\Lib\\site-packages\\urllib3\\connectionpool.py:1056: InsecureRequestWarning: Unverified HTTPS request is being made to host 'omcs-global-customer-persister-ge4.omcs-nonprod.r1.pks.dell.com'. Adding certificate verification is strongly advised. See: https://urllib3.readthedocs.io/en/1.26.x/advanced-usage.html#ssl-warnings\n",
      "  warnings.warn(\n"
     ]
    },
    {
     "name": "stdout",
     "output_type": "stream",
     "text": [
      "null7040000447362\n",
      "7040000447361\n",
      "count 317\n",
      "https://omcs-global-customer-persister-ge4.omcs-nonprod.r1.pks.dell.com/omcs-global-customer-persister/v1/Dashboard/GetWorkflowSteps?dpid=7040000447361\n"
     ]
    },
    {
     "name": "stderr",
     "output_type": "stream",
     "text": [
      "C:\\Users\\Satpum\\AppData\\Local\\anaconda3\\Lib\\site-packages\\urllib3\\connectionpool.py:1056: InsecureRequestWarning: Unverified HTTPS request is being made to host 'omcs-global-customer-persister-ge4.omcs-nonprod.r1.pks.dell.com'. Adding certificate verification is strongly advised. See: https://urllib3.readthedocs.io/en/1.26.x/advanced-usage.html#ssl-warnings\n",
      "  warnings.warn(\n"
     ]
    },
    {
     "name": "stdout",
     "output_type": "stream",
     "text": [
      "null7040000447361\n",
      "7040000447360\n",
      "count 318\n",
      "https://omcs-global-customer-persister-ge4.omcs-nonprod.r1.pks.dell.com/omcs-global-customer-persister/v1/Dashboard/GetWorkflowSteps?dpid=7040000447360\n"
     ]
    },
    {
     "name": "stderr",
     "output_type": "stream",
     "text": [
      "C:\\Users\\Satpum\\AppData\\Local\\anaconda3\\Lib\\site-packages\\urllib3\\connectionpool.py:1056: InsecureRequestWarning: Unverified HTTPS request is being made to host 'omcs-global-customer-persister-ge4.omcs-nonprod.r1.pks.dell.com'. Adding certificate verification is strongly advised. See: https://urllib3.readthedocs.io/en/1.26.x/advanced-usage.html#ssl-warnings\n",
      "  warnings.warn(\n"
     ]
    },
    {
     "name": "stdout",
     "output_type": "stream",
     "text": [
      "null7040000447360\n",
      "7040000447359\n",
      "count 319\n",
      "https://omcs-global-customer-persister-ge4.omcs-nonprod.r1.pks.dell.com/omcs-global-customer-persister/v1/Dashboard/GetWorkflowSteps?dpid=7040000447359\n"
     ]
    },
    {
     "name": "stderr",
     "output_type": "stream",
     "text": [
      "C:\\Users\\Satpum\\AppData\\Local\\anaconda3\\Lib\\site-packages\\urllib3\\connectionpool.py:1056: InsecureRequestWarning: Unverified HTTPS request is being made to host 'omcs-global-customer-persister-ge4.omcs-nonprod.r1.pks.dell.com'. Adding certificate verification is strongly advised. See: https://urllib3.readthedocs.io/en/1.26.x/advanced-usage.html#ssl-warnings\n",
      "  warnings.warn(\n"
     ]
    },
    {
     "name": "stdout",
     "output_type": "stream",
     "text": [
      "null7040000447359\n",
      "7040000447358\n",
      "count 320\n",
      "https://omcs-global-customer-persister-ge4.omcs-nonprod.r1.pks.dell.com/omcs-global-customer-persister/v1/Dashboard/GetWorkflowSteps?dpid=7040000447358\n"
     ]
    },
    {
     "name": "stderr",
     "output_type": "stream",
     "text": [
      "C:\\Users\\Satpum\\AppData\\Local\\anaconda3\\Lib\\site-packages\\urllib3\\connectionpool.py:1056: InsecureRequestWarning: Unverified HTTPS request is being made to host 'omcs-global-customer-persister-ge4.omcs-nonprod.r1.pks.dell.com'. Adding certificate verification is strongly advised. See: https://urllib3.readthedocs.io/en/1.26.x/advanced-usage.html#ssl-warnings\n",
      "  warnings.warn(\n"
     ]
    },
    {
     "name": "stdout",
     "output_type": "stream",
     "text": [
      "not null\n",
      "7040000447350\n",
      "count 321\n",
      "https://omcs-global-customer-persister-ge4.omcs-nonprod.r1.pks.dell.com/omcs-global-customer-persister/v1/Dashboard/GetWorkflowSteps?dpid=7040000447350\n"
     ]
    },
    {
     "name": "stderr",
     "output_type": "stream",
     "text": [
      "C:\\Users\\Satpum\\AppData\\Local\\anaconda3\\Lib\\site-packages\\urllib3\\connectionpool.py:1056: InsecureRequestWarning: Unverified HTTPS request is being made to host 'omcs-global-customer-persister-ge4.omcs-nonprod.r1.pks.dell.com'. Adding certificate verification is strongly advised. See: https://urllib3.readthedocs.io/en/1.26.x/advanced-usage.html#ssl-warnings\n",
      "  warnings.warn(\n"
     ]
    },
    {
     "name": "stdout",
     "output_type": "stream",
     "text": [
      "null7040000447350\n",
      "7040000447349\n",
      "count 322\n",
      "https://omcs-global-customer-persister-ge4.omcs-nonprod.r1.pks.dell.com/omcs-global-customer-persister/v1/Dashboard/GetWorkflowSteps?dpid=7040000447349\n"
     ]
    },
    {
     "name": "stderr",
     "output_type": "stream",
     "text": [
      "C:\\Users\\Satpum\\AppData\\Local\\anaconda3\\Lib\\site-packages\\urllib3\\connectionpool.py:1056: InsecureRequestWarning: Unverified HTTPS request is being made to host 'omcs-global-customer-persister-ge4.omcs-nonprod.r1.pks.dell.com'. Adding certificate verification is strongly advised. See: https://urllib3.readthedocs.io/en/1.26.x/advanced-usage.html#ssl-warnings\n",
      "  warnings.warn(\n"
     ]
    },
    {
     "name": "stdout",
     "output_type": "stream",
     "text": [
      "null7040000447349\n",
      "7040000447348\n",
      "count 323\n",
      "https://omcs-global-customer-persister-ge4.omcs-nonprod.r1.pks.dell.com/omcs-global-customer-persister/v1/Dashboard/GetWorkflowSteps?dpid=7040000447348\n"
     ]
    },
    {
     "name": "stderr",
     "output_type": "stream",
     "text": [
      "C:\\Users\\Satpum\\AppData\\Local\\anaconda3\\Lib\\site-packages\\urllib3\\connectionpool.py:1056: InsecureRequestWarning: Unverified HTTPS request is being made to host 'omcs-global-customer-persister-ge4.omcs-nonprod.r1.pks.dell.com'. Adding certificate verification is strongly advised. See: https://urllib3.readthedocs.io/en/1.26.x/advanced-usage.html#ssl-warnings\n",
      "  warnings.warn(\n"
     ]
    },
    {
     "name": "stdout",
     "output_type": "stream",
     "text": [
      "not null\n",
      "7040000447347\n",
      "count 324\n",
      "https://omcs-global-customer-persister-ge4.omcs-nonprod.r1.pks.dell.com/omcs-global-customer-persister/v1/Dashboard/GetWorkflowSteps?dpid=7040000447347\n"
     ]
    },
    {
     "name": "stderr",
     "output_type": "stream",
     "text": [
      "C:\\Users\\Satpum\\AppData\\Local\\anaconda3\\Lib\\site-packages\\urllib3\\connectionpool.py:1056: InsecureRequestWarning: Unverified HTTPS request is being made to host 'omcs-global-customer-persister-ge4.omcs-nonprod.r1.pks.dell.com'. Adding certificate verification is strongly advised. See: https://urllib3.readthedocs.io/en/1.26.x/advanced-usage.html#ssl-warnings\n",
      "  warnings.warn(\n"
     ]
    },
    {
     "name": "stdout",
     "output_type": "stream",
     "text": [
      "null7040000447347\n",
      "7040000447346\n",
      "count 325\n",
      "https://omcs-global-customer-persister-ge4.omcs-nonprod.r1.pks.dell.com/omcs-global-customer-persister/v1/Dashboard/GetWorkflowSteps?dpid=7040000447346\n"
     ]
    },
    {
     "name": "stderr",
     "output_type": "stream",
     "text": [
      "C:\\Users\\Satpum\\AppData\\Local\\anaconda3\\Lib\\site-packages\\urllib3\\connectionpool.py:1056: InsecureRequestWarning: Unverified HTTPS request is being made to host 'omcs-global-customer-persister-ge4.omcs-nonprod.r1.pks.dell.com'. Adding certificate verification is strongly advised. See: https://urllib3.readthedocs.io/en/1.26.x/advanced-usage.html#ssl-warnings\n",
      "  warnings.warn(\n"
     ]
    },
    {
     "name": "stdout",
     "output_type": "stream",
     "text": [
      "null7040000447346\n",
      "7040000447345\n",
      "count 326\n",
      "https://omcs-global-customer-persister-ge4.omcs-nonprod.r1.pks.dell.com/omcs-global-customer-persister/v1/Dashboard/GetWorkflowSteps?dpid=7040000447345\n"
     ]
    },
    {
     "name": "stderr",
     "output_type": "stream",
     "text": [
      "C:\\Users\\Satpum\\AppData\\Local\\anaconda3\\Lib\\site-packages\\urllib3\\connectionpool.py:1056: InsecureRequestWarning: Unverified HTTPS request is being made to host 'omcs-global-customer-persister-ge4.omcs-nonprod.r1.pks.dell.com'. Adding certificate verification is strongly advised. See: https://urllib3.readthedocs.io/en/1.26.x/advanced-usage.html#ssl-warnings\n",
      "  warnings.warn(\n"
     ]
    },
    {
     "name": "stdout",
     "output_type": "stream",
     "text": [
      "not null\n",
      "7040000447344\n",
      "count 327\n",
      "https://omcs-global-customer-persister-ge4.omcs-nonprod.r1.pks.dell.com/omcs-global-customer-persister/v1/Dashboard/GetWorkflowSteps?dpid=7040000447344\n"
     ]
    },
    {
     "name": "stderr",
     "output_type": "stream",
     "text": [
      "C:\\Users\\Satpum\\AppData\\Local\\anaconda3\\Lib\\site-packages\\urllib3\\connectionpool.py:1056: InsecureRequestWarning: Unverified HTTPS request is being made to host 'omcs-global-customer-persister-ge4.omcs-nonprod.r1.pks.dell.com'. Adding certificate verification is strongly advised. See: https://urllib3.readthedocs.io/en/1.26.x/advanced-usage.html#ssl-warnings\n",
      "  warnings.warn(\n"
     ]
    },
    {
     "name": "stdout",
     "output_type": "stream",
     "text": [
      "null7040000447344\n",
      "7040000447335\n",
      "count 328\n",
      "https://omcs-global-customer-persister-ge4.omcs-nonprod.r1.pks.dell.com/omcs-global-customer-persister/v1/Dashboard/GetWorkflowSteps?dpid=7040000447335\n"
     ]
    },
    {
     "name": "stderr",
     "output_type": "stream",
     "text": [
      "C:\\Users\\Satpum\\AppData\\Local\\anaconda3\\Lib\\site-packages\\urllib3\\connectionpool.py:1056: InsecureRequestWarning: Unverified HTTPS request is being made to host 'omcs-global-customer-persister-ge4.omcs-nonprod.r1.pks.dell.com'. Adding certificate verification is strongly advised. See: https://urllib3.readthedocs.io/en/1.26.x/advanced-usage.html#ssl-warnings\n",
      "  warnings.warn(\n"
     ]
    },
    {
     "name": "stdout",
     "output_type": "stream",
     "text": [
      "not null\n",
      "7040000447334\n",
      "count 329\n",
      "https://omcs-global-customer-persister-ge4.omcs-nonprod.r1.pks.dell.com/omcs-global-customer-persister/v1/Dashboard/GetWorkflowSteps?dpid=7040000447334\n"
     ]
    },
    {
     "name": "stderr",
     "output_type": "stream",
     "text": [
      "C:\\Users\\Satpum\\AppData\\Local\\anaconda3\\Lib\\site-packages\\urllib3\\connectionpool.py:1056: InsecureRequestWarning: Unverified HTTPS request is being made to host 'omcs-global-customer-persister-ge4.omcs-nonprod.r1.pks.dell.com'. Adding certificate verification is strongly advised. See: https://urllib3.readthedocs.io/en/1.26.x/advanced-usage.html#ssl-warnings\n",
      "  warnings.warn(\n"
     ]
    },
    {
     "name": "stdout",
     "output_type": "stream",
     "text": [
      "not null\n",
      "7040000447333\n",
      "count 330\n",
      "https://omcs-global-customer-persister-ge4.omcs-nonprod.r1.pks.dell.com/omcs-global-customer-persister/v1/Dashboard/GetWorkflowSteps?dpid=7040000447333\n"
     ]
    },
    {
     "name": "stderr",
     "output_type": "stream",
     "text": [
      "C:\\Users\\Satpum\\AppData\\Local\\anaconda3\\Lib\\site-packages\\urllib3\\connectionpool.py:1056: InsecureRequestWarning: Unverified HTTPS request is being made to host 'omcs-global-customer-persister-ge4.omcs-nonprod.r1.pks.dell.com'. Adding certificate verification is strongly advised. See: https://urllib3.readthedocs.io/en/1.26.x/advanced-usage.html#ssl-warnings\n",
      "  warnings.warn(\n"
     ]
    },
    {
     "name": "stdout",
     "output_type": "stream",
     "text": [
      "not null\n",
      "7040000447332\n",
      "count 331\n",
      "https://omcs-global-customer-persister-ge4.omcs-nonprod.r1.pks.dell.com/omcs-global-customer-persister/v1/Dashboard/GetWorkflowSteps?dpid=7040000447332\n"
     ]
    },
    {
     "name": "stderr",
     "output_type": "stream",
     "text": [
      "C:\\Users\\Satpum\\AppData\\Local\\anaconda3\\Lib\\site-packages\\urllib3\\connectionpool.py:1056: InsecureRequestWarning: Unverified HTTPS request is being made to host 'omcs-global-customer-persister-ge4.omcs-nonprod.r1.pks.dell.com'. Adding certificate verification is strongly advised. See: https://urllib3.readthedocs.io/en/1.26.x/advanced-usage.html#ssl-warnings\n",
      "  warnings.warn(\n"
     ]
    },
    {
     "name": "stdout",
     "output_type": "stream",
     "text": [
      "not null\n",
      "7040000447331\n",
      "count 332\n",
      "https://omcs-global-customer-persister-ge4.omcs-nonprod.r1.pks.dell.com/omcs-global-customer-persister/v1/Dashboard/GetWorkflowSteps?dpid=7040000447331\n"
     ]
    },
    {
     "name": "stderr",
     "output_type": "stream",
     "text": [
      "C:\\Users\\Satpum\\AppData\\Local\\anaconda3\\Lib\\site-packages\\urllib3\\connectionpool.py:1056: InsecureRequestWarning: Unverified HTTPS request is being made to host 'omcs-global-customer-persister-ge4.omcs-nonprod.r1.pks.dell.com'. Adding certificate verification is strongly advised. See: https://urllib3.readthedocs.io/en/1.26.x/advanced-usage.html#ssl-warnings\n",
      "  warnings.warn(\n"
     ]
    },
    {
     "name": "stdout",
     "output_type": "stream",
     "text": [
      "null7040000447331\n",
      "7040000447330\n",
      "count 333\n",
      "https://omcs-global-customer-persister-ge4.omcs-nonprod.r1.pks.dell.com/omcs-global-customer-persister/v1/Dashboard/GetWorkflowSteps?dpid=7040000447330\n"
     ]
    },
    {
     "name": "stderr",
     "output_type": "stream",
     "text": [
      "C:\\Users\\Satpum\\AppData\\Local\\anaconda3\\Lib\\site-packages\\urllib3\\connectionpool.py:1056: InsecureRequestWarning: Unverified HTTPS request is being made to host 'omcs-global-customer-persister-ge4.omcs-nonprod.r1.pks.dell.com'. Adding certificate verification is strongly advised. See: https://urllib3.readthedocs.io/en/1.26.x/advanced-usage.html#ssl-warnings\n",
      "  warnings.warn(\n"
     ]
    },
    {
     "name": "stdout",
     "output_type": "stream",
     "text": [
      "null7040000447330\n",
      "7040000447329\n",
      "count 334\n",
      "https://omcs-global-customer-persister-ge4.omcs-nonprod.r1.pks.dell.com/omcs-global-customer-persister/v1/Dashboard/GetWorkflowSteps?dpid=7040000447329\n"
     ]
    },
    {
     "name": "stderr",
     "output_type": "stream",
     "text": [
      "C:\\Users\\Satpum\\AppData\\Local\\anaconda3\\Lib\\site-packages\\urllib3\\connectionpool.py:1056: InsecureRequestWarning: Unverified HTTPS request is being made to host 'omcs-global-customer-persister-ge4.omcs-nonprod.r1.pks.dell.com'. Adding certificate verification is strongly advised. See: https://urllib3.readthedocs.io/en/1.26.x/advanced-usage.html#ssl-warnings\n",
      "  warnings.warn(\n"
     ]
    },
    {
     "name": "stdout",
     "output_type": "stream",
     "text": [
      "not null\n",
      "7040000447328\n",
      "count 335\n",
      "https://omcs-global-customer-persister-ge4.omcs-nonprod.r1.pks.dell.com/omcs-global-customer-persister/v1/Dashboard/GetWorkflowSteps?dpid=7040000447328\n"
     ]
    },
    {
     "name": "stderr",
     "output_type": "stream",
     "text": [
      "C:\\Users\\Satpum\\AppData\\Local\\anaconda3\\Lib\\site-packages\\urllib3\\connectionpool.py:1056: InsecureRequestWarning: Unverified HTTPS request is being made to host 'omcs-global-customer-persister-ge4.omcs-nonprod.r1.pks.dell.com'. Adding certificate verification is strongly advised. See: https://urllib3.readthedocs.io/en/1.26.x/advanced-usage.html#ssl-warnings\n",
      "  warnings.warn(\n"
     ]
    },
    {
     "name": "stdout",
     "output_type": "stream",
     "text": [
      "not null\n",
      "7040000447327\n",
      "count 336\n",
      "https://omcs-global-customer-persister-ge4.omcs-nonprod.r1.pks.dell.com/omcs-global-customer-persister/v1/Dashboard/GetWorkflowSteps?dpid=7040000447327\n"
     ]
    },
    {
     "name": "stderr",
     "output_type": "stream",
     "text": [
      "C:\\Users\\Satpum\\AppData\\Local\\anaconda3\\Lib\\site-packages\\urllib3\\connectionpool.py:1056: InsecureRequestWarning: Unverified HTTPS request is being made to host 'omcs-global-customer-persister-ge4.omcs-nonprod.r1.pks.dell.com'. Adding certificate verification is strongly advised. See: https://urllib3.readthedocs.io/en/1.26.x/advanced-usage.html#ssl-warnings\n",
      "  warnings.warn(\n"
     ]
    },
    {
     "name": "stdout",
     "output_type": "stream",
     "text": [
      "not null\n",
      "7040000447326\n",
      "count 337\n",
      "https://omcs-global-customer-persister-ge4.omcs-nonprod.r1.pks.dell.com/omcs-global-customer-persister/v1/Dashboard/GetWorkflowSteps?dpid=7040000447326\n"
     ]
    },
    {
     "name": "stderr",
     "output_type": "stream",
     "text": [
      "C:\\Users\\Satpum\\AppData\\Local\\anaconda3\\Lib\\site-packages\\urllib3\\connectionpool.py:1056: InsecureRequestWarning: Unverified HTTPS request is being made to host 'omcs-global-customer-persister-ge4.omcs-nonprod.r1.pks.dell.com'. Adding certificate verification is strongly advised. See: https://urllib3.readthedocs.io/en/1.26.x/advanced-usage.html#ssl-warnings\n",
      "  warnings.warn(\n"
     ]
    },
    {
     "name": "stdout",
     "output_type": "stream",
     "text": [
      "not null\n",
      "7040000447325\n",
      "count 338\n",
      "https://omcs-global-customer-persister-ge4.omcs-nonprod.r1.pks.dell.com/omcs-global-customer-persister/v1/Dashboard/GetWorkflowSteps?dpid=7040000447325\n"
     ]
    },
    {
     "name": "stderr",
     "output_type": "stream",
     "text": [
      "C:\\Users\\Satpum\\AppData\\Local\\anaconda3\\Lib\\site-packages\\urllib3\\connectionpool.py:1056: InsecureRequestWarning: Unverified HTTPS request is being made to host 'omcs-global-customer-persister-ge4.omcs-nonprod.r1.pks.dell.com'. Adding certificate verification is strongly advised. See: https://urllib3.readthedocs.io/en/1.26.x/advanced-usage.html#ssl-warnings\n",
      "  warnings.warn(\n"
     ]
    },
    {
     "name": "stdout",
     "output_type": "stream",
     "text": [
      "null7040000447325\n",
      "7040000447319\n",
      "count 339\n",
      "https://omcs-global-customer-persister-ge4.omcs-nonprod.r1.pks.dell.com/omcs-global-customer-persister/v1/Dashboard/GetWorkflowSteps?dpid=7040000447319\n"
     ]
    },
    {
     "name": "stderr",
     "output_type": "stream",
     "text": [
      "C:\\Users\\Satpum\\AppData\\Local\\anaconda3\\Lib\\site-packages\\urllib3\\connectionpool.py:1056: InsecureRequestWarning: Unverified HTTPS request is being made to host 'omcs-global-customer-persister-ge4.omcs-nonprod.r1.pks.dell.com'. Adding certificate verification is strongly advised. See: https://urllib3.readthedocs.io/en/1.26.x/advanced-usage.html#ssl-warnings\n",
      "  warnings.warn(\n"
     ]
    },
    {
     "name": "stdout",
     "output_type": "stream",
     "text": [
      "null7040000447319\n",
      "7040000447318\n",
      "count 340\n",
      "https://omcs-global-customer-persister-ge4.omcs-nonprod.r1.pks.dell.com/omcs-global-customer-persister/v1/Dashboard/GetWorkflowSteps?dpid=7040000447318\n"
     ]
    },
    {
     "name": "stderr",
     "output_type": "stream",
     "text": [
      "C:\\Users\\Satpum\\AppData\\Local\\anaconda3\\Lib\\site-packages\\urllib3\\connectionpool.py:1056: InsecureRequestWarning: Unverified HTTPS request is being made to host 'omcs-global-customer-persister-ge4.omcs-nonprod.r1.pks.dell.com'. Adding certificate verification is strongly advised. See: https://urllib3.readthedocs.io/en/1.26.x/advanced-usage.html#ssl-warnings\n",
      "  warnings.warn(\n"
     ]
    },
    {
     "name": "stdout",
     "output_type": "stream",
     "text": [
      "null7040000447318\n",
      "7040000447317\n",
      "count 341\n",
      "https://omcs-global-customer-persister-ge4.omcs-nonprod.r1.pks.dell.com/omcs-global-customer-persister/v1/Dashboard/GetWorkflowSteps?dpid=7040000447317\n"
     ]
    },
    {
     "name": "stderr",
     "output_type": "stream",
     "text": [
      "C:\\Users\\Satpum\\AppData\\Local\\anaconda3\\Lib\\site-packages\\urllib3\\connectionpool.py:1056: InsecureRequestWarning: Unverified HTTPS request is being made to host 'omcs-global-customer-persister-ge4.omcs-nonprod.r1.pks.dell.com'. Adding certificate verification is strongly advised. See: https://urllib3.readthedocs.io/en/1.26.x/advanced-usage.html#ssl-warnings\n",
      "  warnings.warn(\n"
     ]
    },
    {
     "name": "stdout",
     "output_type": "stream",
     "text": [
      "null7040000447317\n",
      "7040000447314\n",
      "count 342\n",
      "https://omcs-global-customer-persister-ge4.omcs-nonprod.r1.pks.dell.com/omcs-global-customer-persister/v1/Dashboard/GetWorkflowSteps?dpid=7040000447314\n"
     ]
    },
    {
     "name": "stderr",
     "output_type": "stream",
     "text": [
      "C:\\Users\\Satpum\\AppData\\Local\\anaconda3\\Lib\\site-packages\\urllib3\\connectionpool.py:1056: InsecureRequestWarning: Unverified HTTPS request is being made to host 'omcs-global-customer-persister-ge4.omcs-nonprod.r1.pks.dell.com'. Adding certificate verification is strongly advised. See: https://urllib3.readthedocs.io/en/1.26.x/advanced-usage.html#ssl-warnings\n",
      "  warnings.warn(\n"
     ]
    },
    {
     "name": "stdout",
     "output_type": "stream",
     "text": [
      "null7040000447314\n",
      "7040000447313\n",
      "count 343\n",
      "https://omcs-global-customer-persister-ge4.omcs-nonprod.r1.pks.dell.com/omcs-global-customer-persister/v1/Dashboard/GetWorkflowSteps?dpid=7040000447313\n"
     ]
    },
    {
     "name": "stderr",
     "output_type": "stream",
     "text": [
      "C:\\Users\\Satpum\\AppData\\Local\\anaconda3\\Lib\\site-packages\\urllib3\\connectionpool.py:1056: InsecureRequestWarning: Unverified HTTPS request is being made to host 'omcs-global-customer-persister-ge4.omcs-nonprod.r1.pks.dell.com'. Adding certificate verification is strongly advised. See: https://urllib3.readthedocs.io/en/1.26.x/advanced-usage.html#ssl-warnings\n",
      "  warnings.warn(\n"
     ]
    },
    {
     "name": "stdout",
     "output_type": "stream",
     "text": [
      "null7040000447313\n",
      "7040000447312\n",
      "count 344\n",
      "https://omcs-global-customer-persister-ge4.omcs-nonprod.r1.pks.dell.com/omcs-global-customer-persister/v1/Dashboard/GetWorkflowSteps?dpid=7040000447312\n"
     ]
    },
    {
     "name": "stderr",
     "output_type": "stream",
     "text": [
      "C:\\Users\\Satpum\\AppData\\Local\\anaconda3\\Lib\\site-packages\\urllib3\\connectionpool.py:1056: InsecureRequestWarning: Unverified HTTPS request is being made to host 'omcs-global-customer-persister-ge4.omcs-nonprod.r1.pks.dell.com'. Adding certificate verification is strongly advised. See: https://urllib3.readthedocs.io/en/1.26.x/advanced-usage.html#ssl-warnings\n",
      "  warnings.warn(\n"
     ]
    },
    {
     "name": "stdout",
     "output_type": "stream",
     "text": [
      "not null\n",
      "7040000447311\n",
      "count 345\n",
      "https://omcs-global-customer-persister-ge4.omcs-nonprod.r1.pks.dell.com/omcs-global-customer-persister/v1/Dashboard/GetWorkflowSteps?dpid=7040000447311\n"
     ]
    },
    {
     "name": "stderr",
     "output_type": "stream",
     "text": [
      "C:\\Users\\Satpum\\AppData\\Local\\anaconda3\\Lib\\site-packages\\urllib3\\connectionpool.py:1056: InsecureRequestWarning: Unverified HTTPS request is being made to host 'omcs-global-customer-persister-ge4.omcs-nonprod.r1.pks.dell.com'. Adding certificate verification is strongly advised. See: https://urllib3.readthedocs.io/en/1.26.x/advanced-usage.html#ssl-warnings\n",
      "  warnings.warn(\n"
     ]
    },
    {
     "name": "stdout",
     "output_type": "stream",
     "text": [
      "null7040000447311\n",
      "7040000447310\n",
      "count 346\n",
      "https://omcs-global-customer-persister-ge4.omcs-nonprod.r1.pks.dell.com/omcs-global-customer-persister/v1/Dashboard/GetWorkflowSteps?dpid=7040000447310\n"
     ]
    },
    {
     "name": "stderr",
     "output_type": "stream",
     "text": [
      "C:\\Users\\Satpum\\AppData\\Local\\anaconda3\\Lib\\site-packages\\urllib3\\connectionpool.py:1056: InsecureRequestWarning: Unverified HTTPS request is being made to host 'omcs-global-customer-persister-ge4.omcs-nonprod.r1.pks.dell.com'. Adding certificate verification is strongly advised. See: https://urllib3.readthedocs.io/en/1.26.x/advanced-usage.html#ssl-warnings\n",
      "  warnings.warn(\n"
     ]
    },
    {
     "name": "stdout",
     "output_type": "stream",
     "text": [
      "null7040000447310\n",
      "7040000447309\n",
      "count 347\n",
      "https://omcs-global-customer-persister-ge4.omcs-nonprod.r1.pks.dell.com/omcs-global-customer-persister/v1/Dashboard/GetWorkflowSteps?dpid=7040000447309\n"
     ]
    },
    {
     "name": "stderr",
     "output_type": "stream",
     "text": [
      "C:\\Users\\Satpum\\AppData\\Local\\anaconda3\\Lib\\site-packages\\urllib3\\connectionpool.py:1056: InsecureRequestWarning: Unverified HTTPS request is being made to host 'omcs-global-customer-persister-ge4.omcs-nonprod.r1.pks.dell.com'. Adding certificate verification is strongly advised. See: https://urllib3.readthedocs.io/en/1.26.x/advanced-usage.html#ssl-warnings\n",
      "  warnings.warn(\n"
     ]
    },
    {
     "name": "stdout",
     "output_type": "stream",
     "text": [
      "null7040000447309\n",
      "7040000447308\n",
      "count 348\n",
      "https://omcs-global-customer-persister-ge4.omcs-nonprod.r1.pks.dell.com/omcs-global-customer-persister/v1/Dashboard/GetWorkflowSteps?dpid=7040000447308\n"
     ]
    },
    {
     "name": "stderr",
     "output_type": "stream",
     "text": [
      "C:\\Users\\Satpum\\AppData\\Local\\anaconda3\\Lib\\site-packages\\urllib3\\connectionpool.py:1056: InsecureRequestWarning: Unverified HTTPS request is being made to host 'omcs-global-customer-persister-ge4.omcs-nonprod.r1.pks.dell.com'. Adding certificate verification is strongly advised. See: https://urllib3.readthedocs.io/en/1.26.x/advanced-usage.html#ssl-warnings\n",
      "  warnings.warn(\n"
     ]
    },
    {
     "name": "stdout",
     "output_type": "stream",
     "text": [
      "not null\n",
      "7040000447307\n",
      "count 349\n",
      "https://omcs-global-customer-persister-ge4.omcs-nonprod.r1.pks.dell.com/omcs-global-customer-persister/v1/Dashboard/GetWorkflowSteps?dpid=7040000447307\n"
     ]
    },
    {
     "name": "stderr",
     "output_type": "stream",
     "text": [
      "C:\\Users\\Satpum\\AppData\\Local\\anaconda3\\Lib\\site-packages\\urllib3\\connectionpool.py:1056: InsecureRequestWarning: Unverified HTTPS request is being made to host 'omcs-global-customer-persister-ge4.omcs-nonprod.r1.pks.dell.com'. Adding certificate verification is strongly advised. See: https://urllib3.readthedocs.io/en/1.26.x/advanced-usage.html#ssl-warnings\n",
      "  warnings.warn(\n"
     ]
    },
    {
     "name": "stdout",
     "output_type": "stream",
     "text": [
      "not null\n",
      "7040000447306\n",
      "count 350\n",
      "https://omcs-global-customer-persister-ge4.omcs-nonprod.r1.pks.dell.com/omcs-global-customer-persister/v1/Dashboard/GetWorkflowSteps?dpid=7040000447306\n"
     ]
    },
    {
     "name": "stderr",
     "output_type": "stream",
     "text": [
      "C:\\Users\\Satpum\\AppData\\Local\\anaconda3\\Lib\\site-packages\\urllib3\\connectionpool.py:1056: InsecureRequestWarning: Unverified HTTPS request is being made to host 'omcs-global-customer-persister-ge4.omcs-nonprod.r1.pks.dell.com'. Adding certificate verification is strongly advised. See: https://urllib3.readthedocs.io/en/1.26.x/advanced-usage.html#ssl-warnings\n",
      "  warnings.warn(\n"
     ]
    },
    {
     "name": "stdout",
     "output_type": "stream",
     "text": [
      "null7040000447306\n",
      "7040000447305\n",
      "count 351\n",
      "https://omcs-global-customer-persister-ge4.omcs-nonprod.r1.pks.dell.com/omcs-global-customer-persister/v1/Dashboard/GetWorkflowSteps?dpid=7040000447305\n"
     ]
    },
    {
     "name": "stderr",
     "output_type": "stream",
     "text": [
      "C:\\Users\\Satpum\\AppData\\Local\\anaconda3\\Lib\\site-packages\\urllib3\\connectionpool.py:1056: InsecureRequestWarning: Unverified HTTPS request is being made to host 'omcs-global-customer-persister-ge4.omcs-nonprod.r1.pks.dell.com'. Adding certificate verification is strongly advised. See: https://urllib3.readthedocs.io/en/1.26.x/advanced-usage.html#ssl-warnings\n",
      "  warnings.warn(\n"
     ]
    },
    {
     "name": "stdout",
     "output_type": "stream",
     "text": [
      "not null\n",
      "7040000447304\n",
      "count 352\n",
      "https://omcs-global-customer-persister-ge4.omcs-nonprod.r1.pks.dell.com/omcs-global-customer-persister/v1/Dashboard/GetWorkflowSteps?dpid=7040000447304\n"
     ]
    },
    {
     "name": "stderr",
     "output_type": "stream",
     "text": [
      "C:\\Users\\Satpum\\AppData\\Local\\anaconda3\\Lib\\site-packages\\urllib3\\connectionpool.py:1056: InsecureRequestWarning: Unverified HTTPS request is being made to host 'omcs-global-customer-persister-ge4.omcs-nonprod.r1.pks.dell.com'. Adding certificate verification is strongly advised. See: https://urllib3.readthedocs.io/en/1.26.x/advanced-usage.html#ssl-warnings\n",
      "  warnings.warn(\n"
     ]
    },
    {
     "name": "stdout",
     "output_type": "stream",
     "text": [
      "null7040000447304\n",
      "7040000447303\n",
      "count 353\n",
      "https://omcs-global-customer-persister-ge4.omcs-nonprod.r1.pks.dell.com/omcs-global-customer-persister/v1/Dashboard/GetWorkflowSteps?dpid=7040000447303\n"
     ]
    },
    {
     "name": "stderr",
     "output_type": "stream",
     "text": [
      "C:\\Users\\Satpum\\AppData\\Local\\anaconda3\\Lib\\site-packages\\urllib3\\connectionpool.py:1056: InsecureRequestWarning: Unverified HTTPS request is being made to host 'omcs-global-customer-persister-ge4.omcs-nonprod.r1.pks.dell.com'. Adding certificate verification is strongly advised. See: https://urllib3.readthedocs.io/en/1.26.x/advanced-usage.html#ssl-warnings\n",
      "  warnings.warn(\n"
     ]
    },
    {
     "name": "stdout",
     "output_type": "stream",
     "text": [
      "null7040000447303\n",
      "7040000447302\n",
      "count 354\n",
      "https://omcs-global-customer-persister-ge4.omcs-nonprod.r1.pks.dell.com/omcs-global-customer-persister/v1/Dashboard/GetWorkflowSteps?dpid=7040000447302\n"
     ]
    },
    {
     "name": "stderr",
     "output_type": "stream",
     "text": [
      "C:\\Users\\Satpum\\AppData\\Local\\anaconda3\\Lib\\site-packages\\urllib3\\connectionpool.py:1056: InsecureRequestWarning: Unverified HTTPS request is being made to host 'omcs-global-customer-persister-ge4.omcs-nonprod.r1.pks.dell.com'. Adding certificate verification is strongly advised. See: https://urllib3.readthedocs.io/en/1.26.x/advanced-usage.html#ssl-warnings\n",
      "  warnings.warn(\n"
     ]
    },
    {
     "name": "stdout",
     "output_type": "stream",
     "text": [
      "not null\n",
      "7040000447301\n",
      "count 355\n",
      "https://omcs-global-customer-persister-ge4.omcs-nonprod.r1.pks.dell.com/omcs-global-customer-persister/v1/Dashboard/GetWorkflowSteps?dpid=7040000447301\n"
     ]
    },
    {
     "name": "stderr",
     "output_type": "stream",
     "text": [
      "C:\\Users\\Satpum\\AppData\\Local\\anaconda3\\Lib\\site-packages\\urllib3\\connectionpool.py:1056: InsecureRequestWarning: Unverified HTTPS request is being made to host 'omcs-global-customer-persister-ge4.omcs-nonprod.r1.pks.dell.com'. Adding certificate verification is strongly advised. See: https://urllib3.readthedocs.io/en/1.26.x/advanced-usage.html#ssl-warnings\n",
      "  warnings.warn(\n"
     ]
    },
    {
     "name": "stdout",
     "output_type": "stream",
     "text": [
      "null7040000447301\n",
      "7040000447300\n",
      "count 356\n",
      "https://omcs-global-customer-persister-ge4.omcs-nonprod.r1.pks.dell.com/omcs-global-customer-persister/v1/Dashboard/GetWorkflowSteps?dpid=7040000447300\n"
     ]
    },
    {
     "name": "stderr",
     "output_type": "stream",
     "text": [
      "C:\\Users\\Satpum\\AppData\\Local\\anaconda3\\Lib\\site-packages\\urllib3\\connectionpool.py:1056: InsecureRequestWarning: Unverified HTTPS request is being made to host 'omcs-global-customer-persister-ge4.omcs-nonprod.r1.pks.dell.com'. Adding certificate verification is strongly advised. See: https://urllib3.readthedocs.io/en/1.26.x/advanced-usage.html#ssl-warnings\n",
      "  warnings.warn(\n"
     ]
    },
    {
     "name": "stdout",
     "output_type": "stream",
     "text": [
      "not null\n",
      "7040000447299\n",
      "count 357\n",
      "https://omcs-global-customer-persister-ge4.omcs-nonprod.r1.pks.dell.com/omcs-global-customer-persister/v1/Dashboard/GetWorkflowSteps?dpid=7040000447299\n"
     ]
    },
    {
     "name": "stderr",
     "output_type": "stream",
     "text": [
      "C:\\Users\\Satpum\\AppData\\Local\\anaconda3\\Lib\\site-packages\\urllib3\\connectionpool.py:1056: InsecureRequestWarning: Unverified HTTPS request is being made to host 'omcs-global-customer-persister-ge4.omcs-nonprod.r1.pks.dell.com'. Adding certificate verification is strongly advised. See: https://urllib3.readthedocs.io/en/1.26.x/advanced-usage.html#ssl-warnings\n",
      "  warnings.warn(\n"
     ]
    },
    {
     "name": "stdout",
     "output_type": "stream",
     "text": [
      "null7040000447299\n",
      "7040000447298\n",
      "count 358\n",
      "https://omcs-global-customer-persister-ge4.omcs-nonprod.r1.pks.dell.com/omcs-global-customer-persister/v1/Dashboard/GetWorkflowSteps?dpid=7040000447298\n"
     ]
    },
    {
     "name": "stderr",
     "output_type": "stream",
     "text": [
      "C:\\Users\\Satpum\\AppData\\Local\\anaconda3\\Lib\\site-packages\\urllib3\\connectionpool.py:1056: InsecureRequestWarning: Unverified HTTPS request is being made to host 'omcs-global-customer-persister-ge4.omcs-nonprod.r1.pks.dell.com'. Adding certificate verification is strongly advised. See: https://urllib3.readthedocs.io/en/1.26.x/advanced-usage.html#ssl-warnings\n",
      "  warnings.warn(\n"
     ]
    },
    {
     "name": "stdout",
     "output_type": "stream",
     "text": [
      "null7040000447298\n",
      "7040000447295\n",
      "count 359\n",
      "https://omcs-global-customer-persister-ge4.omcs-nonprod.r1.pks.dell.com/omcs-global-customer-persister/v1/Dashboard/GetWorkflowSteps?dpid=7040000447295\n"
     ]
    },
    {
     "name": "stderr",
     "output_type": "stream",
     "text": [
      "C:\\Users\\Satpum\\AppData\\Local\\anaconda3\\Lib\\site-packages\\urllib3\\connectionpool.py:1056: InsecureRequestWarning: Unverified HTTPS request is being made to host 'omcs-global-customer-persister-ge4.omcs-nonprod.r1.pks.dell.com'. Adding certificate verification is strongly advised. See: https://urllib3.readthedocs.io/en/1.26.x/advanced-usage.html#ssl-warnings\n",
      "  warnings.warn(\n"
     ]
    },
    {
     "name": "stdout",
     "output_type": "stream",
     "text": [
      "null7040000447295\n",
      "7040000447294\n",
      "count 360\n",
      "https://omcs-global-customer-persister-ge4.omcs-nonprod.r1.pks.dell.com/omcs-global-customer-persister/v1/Dashboard/GetWorkflowSteps?dpid=7040000447294\n"
     ]
    },
    {
     "name": "stderr",
     "output_type": "stream",
     "text": [
      "C:\\Users\\Satpum\\AppData\\Local\\anaconda3\\Lib\\site-packages\\urllib3\\connectionpool.py:1056: InsecureRequestWarning: Unverified HTTPS request is being made to host 'omcs-global-customer-persister-ge4.omcs-nonprod.r1.pks.dell.com'. Adding certificate verification is strongly advised. See: https://urllib3.readthedocs.io/en/1.26.x/advanced-usage.html#ssl-warnings\n",
      "  warnings.warn(\n"
     ]
    },
    {
     "name": "stdout",
     "output_type": "stream",
     "text": [
      "null7040000447294\n",
      "7040000447293\n",
      "count 361\n",
      "https://omcs-global-customer-persister-ge4.omcs-nonprod.r1.pks.dell.com/omcs-global-customer-persister/v1/Dashboard/GetWorkflowSteps?dpid=7040000447293\n"
     ]
    },
    {
     "name": "stderr",
     "output_type": "stream",
     "text": [
      "C:\\Users\\Satpum\\AppData\\Local\\anaconda3\\Lib\\site-packages\\urllib3\\connectionpool.py:1056: InsecureRequestWarning: Unverified HTTPS request is being made to host 'omcs-global-customer-persister-ge4.omcs-nonprod.r1.pks.dell.com'. Adding certificate verification is strongly advised. See: https://urllib3.readthedocs.io/en/1.26.x/advanced-usage.html#ssl-warnings\n",
      "  warnings.warn(\n"
     ]
    },
    {
     "name": "stdout",
     "output_type": "stream",
     "text": [
      "not null\n",
      "7040000447292\n",
      "count 362\n",
      "https://omcs-global-customer-persister-ge4.omcs-nonprod.r1.pks.dell.com/omcs-global-customer-persister/v1/Dashboard/GetWorkflowSteps?dpid=7040000447292\n"
     ]
    },
    {
     "name": "stderr",
     "output_type": "stream",
     "text": [
      "C:\\Users\\Satpum\\AppData\\Local\\anaconda3\\Lib\\site-packages\\urllib3\\connectionpool.py:1056: InsecureRequestWarning: Unverified HTTPS request is being made to host 'omcs-global-customer-persister-ge4.omcs-nonprod.r1.pks.dell.com'. Adding certificate verification is strongly advised. See: https://urllib3.readthedocs.io/en/1.26.x/advanced-usage.html#ssl-warnings\n",
      "  warnings.warn(\n"
     ]
    },
    {
     "name": "stdout",
     "output_type": "stream",
     "text": [
      "null7040000447292\n",
      "7040000447291\n",
      "count 363\n",
      "https://omcs-global-customer-persister-ge4.omcs-nonprod.r1.pks.dell.com/omcs-global-customer-persister/v1/Dashboard/GetWorkflowSteps?dpid=7040000447291\n"
     ]
    },
    {
     "name": "stderr",
     "output_type": "stream",
     "text": [
      "C:\\Users\\Satpum\\AppData\\Local\\anaconda3\\Lib\\site-packages\\urllib3\\connectionpool.py:1056: InsecureRequestWarning: Unverified HTTPS request is being made to host 'omcs-global-customer-persister-ge4.omcs-nonprod.r1.pks.dell.com'. Adding certificate verification is strongly advised. See: https://urllib3.readthedocs.io/en/1.26.x/advanced-usage.html#ssl-warnings\n",
      "  warnings.warn(\n"
     ]
    },
    {
     "name": "stdout",
     "output_type": "stream",
     "text": [
      "null7040000447291\n",
      "7040000447290\n",
      "count 364\n",
      "https://omcs-global-customer-persister-ge4.omcs-nonprod.r1.pks.dell.com/omcs-global-customer-persister/v1/Dashboard/GetWorkflowSteps?dpid=7040000447290\n"
     ]
    },
    {
     "name": "stderr",
     "output_type": "stream",
     "text": [
      "C:\\Users\\Satpum\\AppData\\Local\\anaconda3\\Lib\\site-packages\\urllib3\\connectionpool.py:1056: InsecureRequestWarning: Unverified HTTPS request is being made to host 'omcs-global-customer-persister-ge4.omcs-nonprod.r1.pks.dell.com'. Adding certificate verification is strongly advised. See: https://urllib3.readthedocs.io/en/1.26.x/advanced-usage.html#ssl-warnings\n",
      "  warnings.warn(\n"
     ]
    },
    {
     "name": "stdout",
     "output_type": "stream",
     "text": [
      "null7040000447290\n",
      "7040000447289\n",
      "count 365\n",
      "https://omcs-global-customer-persister-ge4.omcs-nonprod.r1.pks.dell.com/omcs-global-customer-persister/v1/Dashboard/GetWorkflowSteps?dpid=7040000447289\n"
     ]
    },
    {
     "name": "stderr",
     "output_type": "stream",
     "text": [
      "C:\\Users\\Satpum\\AppData\\Local\\anaconda3\\Lib\\site-packages\\urllib3\\connectionpool.py:1056: InsecureRequestWarning: Unverified HTTPS request is being made to host 'omcs-global-customer-persister-ge4.omcs-nonprod.r1.pks.dell.com'. Adding certificate verification is strongly advised. See: https://urllib3.readthedocs.io/en/1.26.x/advanced-usage.html#ssl-warnings\n",
      "  warnings.warn(\n"
     ]
    },
    {
     "name": "stdout",
     "output_type": "stream",
     "text": [
      "null7040000447289\n",
      "7040000447288\n",
      "count 366\n",
      "https://omcs-global-customer-persister-ge4.omcs-nonprod.r1.pks.dell.com/omcs-global-customer-persister/v1/Dashboard/GetWorkflowSteps?dpid=7040000447288\n"
     ]
    },
    {
     "name": "stderr",
     "output_type": "stream",
     "text": [
      "C:\\Users\\Satpum\\AppData\\Local\\anaconda3\\Lib\\site-packages\\urllib3\\connectionpool.py:1056: InsecureRequestWarning: Unverified HTTPS request is being made to host 'omcs-global-customer-persister-ge4.omcs-nonprod.r1.pks.dell.com'. Adding certificate verification is strongly advised. See: https://urllib3.readthedocs.io/en/1.26.x/advanced-usage.html#ssl-warnings\n",
      "  warnings.warn(\n"
     ]
    },
    {
     "name": "stdout",
     "output_type": "stream",
     "text": [
      "not null\n",
      "7040000447287\n",
      "count 367\n",
      "https://omcs-global-customer-persister-ge4.omcs-nonprod.r1.pks.dell.com/omcs-global-customer-persister/v1/Dashboard/GetWorkflowSteps?dpid=7040000447287\n"
     ]
    },
    {
     "name": "stderr",
     "output_type": "stream",
     "text": [
      "C:\\Users\\Satpum\\AppData\\Local\\anaconda3\\Lib\\site-packages\\urllib3\\connectionpool.py:1056: InsecureRequestWarning: Unverified HTTPS request is being made to host 'omcs-global-customer-persister-ge4.omcs-nonprod.r1.pks.dell.com'. Adding certificate verification is strongly advised. See: https://urllib3.readthedocs.io/en/1.26.x/advanced-usage.html#ssl-warnings\n",
      "  warnings.warn(\n"
     ]
    },
    {
     "name": "stdout",
     "output_type": "stream",
     "text": [
      "not null\n",
      "7040000447286\n",
      "count 368\n",
      "https://omcs-global-customer-persister-ge4.omcs-nonprod.r1.pks.dell.com/omcs-global-customer-persister/v1/Dashboard/GetWorkflowSteps?dpid=7040000447286\n"
     ]
    },
    {
     "name": "stderr",
     "output_type": "stream",
     "text": [
      "C:\\Users\\Satpum\\AppData\\Local\\anaconda3\\Lib\\site-packages\\urllib3\\connectionpool.py:1056: InsecureRequestWarning: Unverified HTTPS request is being made to host 'omcs-global-customer-persister-ge4.omcs-nonprod.r1.pks.dell.com'. Adding certificate verification is strongly advised. See: https://urllib3.readthedocs.io/en/1.26.x/advanced-usage.html#ssl-warnings\n",
      "  warnings.warn(\n"
     ]
    },
    {
     "name": "stdout",
     "output_type": "stream",
     "text": [
      "null7040000447286\n",
      "7040000447283\n",
      "count 369\n",
      "https://omcs-global-customer-persister-ge4.omcs-nonprod.r1.pks.dell.com/omcs-global-customer-persister/v1/Dashboard/GetWorkflowSteps?dpid=7040000447283\n"
     ]
    },
    {
     "name": "stderr",
     "output_type": "stream",
     "text": [
      "C:\\Users\\Satpum\\AppData\\Local\\anaconda3\\Lib\\site-packages\\urllib3\\connectionpool.py:1056: InsecureRequestWarning: Unverified HTTPS request is being made to host 'omcs-global-customer-persister-ge4.omcs-nonprod.r1.pks.dell.com'. Adding certificate verification is strongly advised. See: https://urllib3.readthedocs.io/en/1.26.x/advanced-usage.html#ssl-warnings\n",
      "  warnings.warn(\n"
     ]
    },
    {
     "name": "stdout",
     "output_type": "stream",
     "text": [
      "not null\n",
      "7040000447282\n",
      "count 370\n",
      "https://omcs-global-customer-persister-ge4.omcs-nonprod.r1.pks.dell.com/omcs-global-customer-persister/v1/Dashboard/GetWorkflowSteps?dpid=7040000447282\n"
     ]
    },
    {
     "name": "stderr",
     "output_type": "stream",
     "text": [
      "C:\\Users\\Satpum\\AppData\\Local\\anaconda3\\Lib\\site-packages\\urllib3\\connectionpool.py:1056: InsecureRequestWarning: Unverified HTTPS request is being made to host 'omcs-global-customer-persister-ge4.omcs-nonprod.r1.pks.dell.com'. Adding certificate verification is strongly advised. See: https://urllib3.readthedocs.io/en/1.26.x/advanced-usage.html#ssl-warnings\n",
      "  warnings.warn(\n"
     ]
    },
    {
     "name": "stdout",
     "output_type": "stream",
     "text": [
      "not null\n",
      "7040000447281\n",
      "count 371\n",
      "https://omcs-global-customer-persister-ge4.omcs-nonprod.r1.pks.dell.com/omcs-global-customer-persister/v1/Dashboard/GetWorkflowSteps?dpid=7040000447281\n"
     ]
    },
    {
     "name": "stderr",
     "output_type": "stream",
     "text": [
      "C:\\Users\\Satpum\\AppData\\Local\\anaconda3\\Lib\\site-packages\\urllib3\\connectionpool.py:1056: InsecureRequestWarning: Unverified HTTPS request is being made to host 'omcs-global-customer-persister-ge4.omcs-nonprod.r1.pks.dell.com'. Adding certificate verification is strongly advised. See: https://urllib3.readthedocs.io/en/1.26.x/advanced-usage.html#ssl-warnings\n",
      "  warnings.warn(\n"
     ]
    },
    {
     "name": "stdout",
     "output_type": "stream",
     "text": [
      "null7040000447281\n",
      "7040000447280\n",
      "count 372\n",
      "https://omcs-global-customer-persister-ge4.omcs-nonprod.r1.pks.dell.com/omcs-global-customer-persister/v1/Dashboard/GetWorkflowSteps?dpid=7040000447280\n"
     ]
    },
    {
     "name": "stderr",
     "output_type": "stream",
     "text": [
      "C:\\Users\\Satpum\\AppData\\Local\\anaconda3\\Lib\\site-packages\\urllib3\\connectionpool.py:1056: InsecureRequestWarning: Unverified HTTPS request is being made to host 'omcs-global-customer-persister-ge4.omcs-nonprod.r1.pks.dell.com'. Adding certificate verification is strongly advised. See: https://urllib3.readthedocs.io/en/1.26.x/advanced-usage.html#ssl-warnings\n",
      "  warnings.warn(\n"
     ]
    },
    {
     "name": "stdout",
     "output_type": "stream",
     "text": [
      "not null\n",
      "7040000447279\n",
      "count 373\n",
      "https://omcs-global-customer-persister-ge4.omcs-nonprod.r1.pks.dell.com/omcs-global-customer-persister/v1/Dashboard/GetWorkflowSteps?dpid=7040000447279\n"
     ]
    },
    {
     "name": "stderr",
     "output_type": "stream",
     "text": [
      "C:\\Users\\Satpum\\AppData\\Local\\anaconda3\\Lib\\site-packages\\urllib3\\connectionpool.py:1056: InsecureRequestWarning: Unverified HTTPS request is being made to host 'omcs-global-customer-persister-ge4.omcs-nonprod.r1.pks.dell.com'. Adding certificate verification is strongly advised. See: https://urllib3.readthedocs.io/en/1.26.x/advanced-usage.html#ssl-warnings\n",
      "  warnings.warn(\n"
     ]
    },
    {
     "name": "stdout",
     "output_type": "stream",
     "text": [
      "not null\n",
      "7040000447278\n",
      "count 374\n",
      "https://omcs-global-customer-persister-ge4.omcs-nonprod.r1.pks.dell.com/omcs-global-customer-persister/v1/Dashboard/GetWorkflowSteps?dpid=7040000447278\n"
     ]
    },
    {
     "name": "stderr",
     "output_type": "stream",
     "text": [
      "C:\\Users\\Satpum\\AppData\\Local\\anaconda3\\Lib\\site-packages\\urllib3\\connectionpool.py:1056: InsecureRequestWarning: Unverified HTTPS request is being made to host 'omcs-global-customer-persister-ge4.omcs-nonprod.r1.pks.dell.com'. Adding certificate verification is strongly advised. See: https://urllib3.readthedocs.io/en/1.26.x/advanced-usage.html#ssl-warnings\n",
      "  warnings.warn(\n"
     ]
    },
    {
     "name": "stdout",
     "output_type": "stream",
     "text": [
      "not null\n",
      "7040000447277\n",
      "count 375\n",
      "https://omcs-global-customer-persister-ge4.omcs-nonprod.r1.pks.dell.com/omcs-global-customer-persister/v1/Dashboard/GetWorkflowSteps?dpid=7040000447277\n"
     ]
    },
    {
     "name": "stderr",
     "output_type": "stream",
     "text": [
      "C:\\Users\\Satpum\\AppData\\Local\\anaconda3\\Lib\\site-packages\\urllib3\\connectionpool.py:1056: InsecureRequestWarning: Unverified HTTPS request is being made to host 'omcs-global-customer-persister-ge4.omcs-nonprod.r1.pks.dell.com'. Adding certificate verification is strongly advised. See: https://urllib3.readthedocs.io/en/1.26.x/advanced-usage.html#ssl-warnings\n",
      "  warnings.warn(\n"
     ]
    },
    {
     "name": "stdout",
     "output_type": "stream",
     "text": [
      "not null\n",
      "7040000447276\n",
      "count 376\n",
      "https://omcs-global-customer-persister-ge4.omcs-nonprod.r1.pks.dell.com/omcs-global-customer-persister/v1/Dashboard/GetWorkflowSteps?dpid=7040000447276\n"
     ]
    },
    {
     "name": "stderr",
     "output_type": "stream",
     "text": [
      "C:\\Users\\Satpum\\AppData\\Local\\anaconda3\\Lib\\site-packages\\urllib3\\connectionpool.py:1056: InsecureRequestWarning: Unverified HTTPS request is being made to host 'omcs-global-customer-persister-ge4.omcs-nonprod.r1.pks.dell.com'. Adding certificate verification is strongly advised. See: https://urllib3.readthedocs.io/en/1.26.x/advanced-usage.html#ssl-warnings\n",
      "  warnings.warn(\n"
     ]
    },
    {
     "name": "stdout",
     "output_type": "stream",
     "text": [
      "not null\n",
      "7040000447275\n",
      "count 377\n",
      "https://omcs-global-customer-persister-ge4.omcs-nonprod.r1.pks.dell.com/omcs-global-customer-persister/v1/Dashboard/GetWorkflowSteps?dpid=7040000447275\n"
     ]
    },
    {
     "name": "stderr",
     "output_type": "stream",
     "text": [
      "C:\\Users\\Satpum\\AppData\\Local\\anaconda3\\Lib\\site-packages\\urllib3\\connectionpool.py:1056: InsecureRequestWarning: Unverified HTTPS request is being made to host 'omcs-global-customer-persister-ge4.omcs-nonprod.r1.pks.dell.com'. Adding certificate verification is strongly advised. See: https://urllib3.readthedocs.io/en/1.26.x/advanced-usage.html#ssl-warnings\n",
      "  warnings.warn(\n"
     ]
    },
    {
     "name": "stdout",
     "output_type": "stream",
     "text": [
      "not null\n",
      "7040000447274\n",
      "count 378\n",
      "https://omcs-global-customer-persister-ge4.omcs-nonprod.r1.pks.dell.com/omcs-global-customer-persister/v1/Dashboard/GetWorkflowSteps?dpid=7040000447274\n"
     ]
    },
    {
     "name": "stderr",
     "output_type": "stream",
     "text": [
      "C:\\Users\\Satpum\\AppData\\Local\\anaconda3\\Lib\\site-packages\\urllib3\\connectionpool.py:1056: InsecureRequestWarning: Unverified HTTPS request is being made to host 'omcs-global-customer-persister-ge4.omcs-nonprod.r1.pks.dell.com'. Adding certificate verification is strongly advised. See: https://urllib3.readthedocs.io/en/1.26.x/advanced-usage.html#ssl-warnings\n",
      "  warnings.warn(\n"
     ]
    },
    {
     "name": "stdout",
     "output_type": "stream",
     "text": [
      "not null\n",
      "7040000447273\n",
      "count 379\n",
      "https://omcs-global-customer-persister-ge4.omcs-nonprod.r1.pks.dell.com/omcs-global-customer-persister/v1/Dashboard/GetWorkflowSteps?dpid=7040000447273\n"
     ]
    },
    {
     "name": "stderr",
     "output_type": "stream",
     "text": [
      "C:\\Users\\Satpum\\AppData\\Local\\anaconda3\\Lib\\site-packages\\urllib3\\connectionpool.py:1056: InsecureRequestWarning: Unverified HTTPS request is being made to host 'omcs-global-customer-persister-ge4.omcs-nonprod.r1.pks.dell.com'. Adding certificate verification is strongly advised. See: https://urllib3.readthedocs.io/en/1.26.x/advanced-usage.html#ssl-warnings\n",
      "  warnings.warn(\n"
     ]
    },
    {
     "name": "stdout",
     "output_type": "stream",
     "text": [
      "not null\n",
      "7040000447272\n",
      "count 380\n",
      "https://omcs-global-customer-persister-ge4.omcs-nonprod.r1.pks.dell.com/omcs-global-customer-persister/v1/Dashboard/GetWorkflowSteps?dpid=7040000447272\n"
     ]
    },
    {
     "name": "stderr",
     "output_type": "stream",
     "text": [
      "C:\\Users\\Satpum\\AppData\\Local\\anaconda3\\Lib\\site-packages\\urllib3\\connectionpool.py:1056: InsecureRequestWarning: Unverified HTTPS request is being made to host 'omcs-global-customer-persister-ge4.omcs-nonprod.r1.pks.dell.com'. Adding certificate verification is strongly advised. See: https://urllib3.readthedocs.io/en/1.26.x/advanced-usage.html#ssl-warnings\n",
      "  warnings.warn(\n"
     ]
    },
    {
     "name": "stdout",
     "output_type": "stream",
     "text": [
      "not null\n",
      "7040000447271\n",
      "count 381\n",
      "https://omcs-global-customer-persister-ge4.omcs-nonprod.r1.pks.dell.com/omcs-global-customer-persister/v1/Dashboard/GetWorkflowSteps?dpid=7040000447271\n"
     ]
    },
    {
     "name": "stderr",
     "output_type": "stream",
     "text": [
      "C:\\Users\\Satpum\\AppData\\Local\\anaconda3\\Lib\\site-packages\\urllib3\\connectionpool.py:1056: InsecureRequestWarning: Unverified HTTPS request is being made to host 'omcs-global-customer-persister-ge4.omcs-nonprod.r1.pks.dell.com'. Adding certificate verification is strongly advised. See: https://urllib3.readthedocs.io/en/1.26.x/advanced-usage.html#ssl-warnings\n",
      "  warnings.warn(\n"
     ]
    },
    {
     "name": "stdout",
     "output_type": "stream",
     "text": [
      "not null\n",
      "7040000447270\n",
      "count 382\n",
      "https://omcs-global-customer-persister-ge4.omcs-nonprod.r1.pks.dell.com/omcs-global-customer-persister/v1/Dashboard/GetWorkflowSteps?dpid=7040000447270\n"
     ]
    },
    {
     "name": "stderr",
     "output_type": "stream",
     "text": [
      "C:\\Users\\Satpum\\AppData\\Local\\anaconda3\\Lib\\site-packages\\urllib3\\connectionpool.py:1056: InsecureRequestWarning: Unverified HTTPS request is being made to host 'omcs-global-customer-persister-ge4.omcs-nonprod.r1.pks.dell.com'. Adding certificate verification is strongly advised. See: https://urllib3.readthedocs.io/en/1.26.x/advanced-usage.html#ssl-warnings\n",
      "  warnings.warn(\n"
     ]
    },
    {
     "name": "stdout",
     "output_type": "stream",
     "text": [
      "not null\n",
      "7040000447269\n",
      "count 383\n",
      "https://omcs-global-customer-persister-ge4.omcs-nonprod.r1.pks.dell.com/omcs-global-customer-persister/v1/Dashboard/GetWorkflowSteps?dpid=7040000447269\n"
     ]
    },
    {
     "name": "stderr",
     "output_type": "stream",
     "text": [
      "C:\\Users\\Satpum\\AppData\\Local\\anaconda3\\Lib\\site-packages\\urllib3\\connectionpool.py:1056: InsecureRequestWarning: Unverified HTTPS request is being made to host 'omcs-global-customer-persister-ge4.omcs-nonprod.r1.pks.dell.com'. Adding certificate verification is strongly advised. See: https://urllib3.readthedocs.io/en/1.26.x/advanced-usage.html#ssl-warnings\n",
      "  warnings.warn(\n"
     ]
    },
    {
     "name": "stdout",
     "output_type": "stream",
     "text": [
      "null7040000447269\n",
      "7040000447268\n",
      "count 384\n",
      "https://omcs-global-customer-persister-ge4.omcs-nonprod.r1.pks.dell.com/omcs-global-customer-persister/v1/Dashboard/GetWorkflowSteps?dpid=7040000447268\n"
     ]
    },
    {
     "name": "stderr",
     "output_type": "stream",
     "text": [
      "C:\\Users\\Satpum\\AppData\\Local\\anaconda3\\Lib\\site-packages\\urllib3\\connectionpool.py:1056: InsecureRequestWarning: Unverified HTTPS request is being made to host 'omcs-global-customer-persister-ge4.omcs-nonprod.r1.pks.dell.com'. Adding certificate verification is strongly advised. See: https://urllib3.readthedocs.io/en/1.26.x/advanced-usage.html#ssl-warnings\n",
      "  warnings.warn(\n"
     ]
    },
    {
     "name": "stdout",
     "output_type": "stream",
     "text": [
      "not null\n",
      "7040000447267\n",
      "count 385\n",
      "https://omcs-global-customer-persister-ge4.omcs-nonprod.r1.pks.dell.com/omcs-global-customer-persister/v1/Dashboard/GetWorkflowSteps?dpid=7040000447267\n"
     ]
    },
    {
     "name": "stderr",
     "output_type": "stream",
     "text": [
      "C:\\Users\\Satpum\\AppData\\Local\\anaconda3\\Lib\\site-packages\\urllib3\\connectionpool.py:1056: InsecureRequestWarning: Unverified HTTPS request is being made to host 'omcs-global-customer-persister-ge4.omcs-nonprod.r1.pks.dell.com'. Adding certificate verification is strongly advised. See: https://urllib3.readthedocs.io/en/1.26.x/advanced-usage.html#ssl-warnings\n",
      "  warnings.warn(\n"
     ]
    },
    {
     "name": "stdout",
     "output_type": "stream",
     "text": [
      "not null\n",
      "7040000447266\n",
      "count 386\n",
      "https://omcs-global-customer-persister-ge4.omcs-nonprod.r1.pks.dell.com/omcs-global-customer-persister/v1/Dashboard/GetWorkflowSteps?dpid=7040000447266\n"
     ]
    },
    {
     "name": "stderr",
     "output_type": "stream",
     "text": [
      "C:\\Users\\Satpum\\AppData\\Local\\anaconda3\\Lib\\site-packages\\urllib3\\connectionpool.py:1056: InsecureRequestWarning: Unverified HTTPS request is being made to host 'omcs-global-customer-persister-ge4.omcs-nonprod.r1.pks.dell.com'. Adding certificate verification is strongly advised. See: https://urllib3.readthedocs.io/en/1.26.x/advanced-usage.html#ssl-warnings\n",
      "  warnings.warn(\n"
     ]
    },
    {
     "name": "stdout",
     "output_type": "stream",
     "text": [
      "not null\n",
      "7040000447265\n",
      "count 387\n",
      "https://omcs-global-customer-persister-ge4.omcs-nonprod.r1.pks.dell.com/omcs-global-customer-persister/v1/Dashboard/GetWorkflowSteps?dpid=7040000447265\n"
     ]
    },
    {
     "name": "stderr",
     "output_type": "stream",
     "text": [
      "C:\\Users\\Satpum\\AppData\\Local\\anaconda3\\Lib\\site-packages\\urllib3\\connectionpool.py:1056: InsecureRequestWarning: Unverified HTTPS request is being made to host 'omcs-global-customer-persister-ge4.omcs-nonprod.r1.pks.dell.com'. Adding certificate verification is strongly advised. See: https://urllib3.readthedocs.io/en/1.26.x/advanced-usage.html#ssl-warnings\n",
      "  warnings.warn(\n"
     ]
    },
    {
     "name": "stdout",
     "output_type": "stream",
     "text": [
      "not null\n",
      "7040000447264\n",
      "count 388\n",
      "https://omcs-global-customer-persister-ge4.omcs-nonprod.r1.pks.dell.com/omcs-global-customer-persister/v1/Dashboard/GetWorkflowSteps?dpid=7040000447264\n"
     ]
    },
    {
     "name": "stderr",
     "output_type": "stream",
     "text": [
      "C:\\Users\\Satpum\\AppData\\Local\\anaconda3\\Lib\\site-packages\\urllib3\\connectionpool.py:1056: InsecureRequestWarning: Unverified HTTPS request is being made to host 'omcs-global-customer-persister-ge4.omcs-nonprod.r1.pks.dell.com'. Adding certificate verification is strongly advised. See: https://urllib3.readthedocs.io/en/1.26.x/advanced-usage.html#ssl-warnings\n",
      "  warnings.warn(\n"
     ]
    },
    {
     "name": "stdout",
     "output_type": "stream",
     "text": [
      "null7040000447264\n",
      "7040000447263\n",
      "count 389\n",
      "https://omcs-global-customer-persister-ge4.omcs-nonprod.r1.pks.dell.com/omcs-global-customer-persister/v1/Dashboard/GetWorkflowSteps?dpid=7040000447263\n"
     ]
    },
    {
     "name": "stderr",
     "output_type": "stream",
     "text": [
      "C:\\Users\\Satpum\\AppData\\Local\\anaconda3\\Lib\\site-packages\\urllib3\\connectionpool.py:1056: InsecureRequestWarning: Unverified HTTPS request is being made to host 'omcs-global-customer-persister-ge4.omcs-nonprod.r1.pks.dell.com'. Adding certificate verification is strongly advised. See: https://urllib3.readthedocs.io/en/1.26.x/advanced-usage.html#ssl-warnings\n",
      "  warnings.warn(\n"
     ]
    },
    {
     "name": "stdout",
     "output_type": "stream",
     "text": [
      "not null\n",
      "7040000447262\n",
      "count 390\n",
      "https://omcs-global-customer-persister-ge4.omcs-nonprod.r1.pks.dell.com/omcs-global-customer-persister/v1/Dashboard/GetWorkflowSteps?dpid=7040000447262\n"
     ]
    },
    {
     "name": "stderr",
     "output_type": "stream",
     "text": [
      "C:\\Users\\Satpum\\AppData\\Local\\anaconda3\\Lib\\site-packages\\urllib3\\connectionpool.py:1056: InsecureRequestWarning: Unverified HTTPS request is being made to host 'omcs-global-customer-persister-ge4.omcs-nonprod.r1.pks.dell.com'. Adding certificate verification is strongly advised. See: https://urllib3.readthedocs.io/en/1.26.x/advanced-usage.html#ssl-warnings\n",
      "  warnings.warn(\n"
     ]
    },
    {
     "name": "stdout",
     "output_type": "stream",
     "text": [
      "not null\n",
      "7040000447261\n",
      "count 391\n",
      "https://omcs-global-customer-persister-ge4.omcs-nonprod.r1.pks.dell.com/omcs-global-customer-persister/v1/Dashboard/GetWorkflowSteps?dpid=7040000447261\n"
     ]
    },
    {
     "name": "stderr",
     "output_type": "stream",
     "text": [
      "C:\\Users\\Satpum\\AppData\\Local\\anaconda3\\Lib\\site-packages\\urllib3\\connectionpool.py:1056: InsecureRequestWarning: Unverified HTTPS request is being made to host 'omcs-global-customer-persister-ge4.omcs-nonprod.r1.pks.dell.com'. Adding certificate verification is strongly advised. See: https://urllib3.readthedocs.io/en/1.26.x/advanced-usage.html#ssl-warnings\n",
      "  warnings.warn(\n"
     ]
    },
    {
     "name": "stdout",
     "output_type": "stream",
     "text": [
      "null7040000447261\n",
      "7040000447260\n",
      "count 392\n",
      "https://omcs-global-customer-persister-ge4.omcs-nonprod.r1.pks.dell.com/omcs-global-customer-persister/v1/Dashboard/GetWorkflowSteps?dpid=7040000447260\n"
     ]
    },
    {
     "name": "stderr",
     "output_type": "stream",
     "text": [
      "C:\\Users\\Satpum\\AppData\\Local\\anaconda3\\Lib\\site-packages\\urllib3\\connectionpool.py:1056: InsecureRequestWarning: Unverified HTTPS request is being made to host 'omcs-global-customer-persister-ge4.omcs-nonprod.r1.pks.dell.com'. Adding certificate verification is strongly advised. See: https://urllib3.readthedocs.io/en/1.26.x/advanced-usage.html#ssl-warnings\n",
      "  warnings.warn(\n"
     ]
    },
    {
     "name": "stdout",
     "output_type": "stream",
     "text": [
      "not null\n",
      "7040000447259\n",
      "count 393\n",
      "https://omcs-global-customer-persister-ge4.omcs-nonprod.r1.pks.dell.com/omcs-global-customer-persister/v1/Dashboard/GetWorkflowSteps?dpid=7040000447259\n"
     ]
    },
    {
     "name": "stderr",
     "output_type": "stream",
     "text": [
      "C:\\Users\\Satpum\\AppData\\Local\\anaconda3\\Lib\\site-packages\\urllib3\\connectionpool.py:1056: InsecureRequestWarning: Unverified HTTPS request is being made to host 'omcs-global-customer-persister-ge4.omcs-nonprod.r1.pks.dell.com'. Adding certificate verification is strongly advised. See: https://urllib3.readthedocs.io/en/1.26.x/advanced-usage.html#ssl-warnings\n",
      "  warnings.warn(\n"
     ]
    },
    {
     "name": "stdout",
     "output_type": "stream",
     "text": [
      "null7040000447259\n",
      "7040000447258\n",
      "count 394\n",
      "https://omcs-global-customer-persister-ge4.omcs-nonprod.r1.pks.dell.com/omcs-global-customer-persister/v1/Dashboard/GetWorkflowSteps?dpid=7040000447258\n"
     ]
    },
    {
     "name": "stderr",
     "output_type": "stream",
     "text": [
      "C:\\Users\\Satpum\\AppData\\Local\\anaconda3\\Lib\\site-packages\\urllib3\\connectionpool.py:1056: InsecureRequestWarning: Unverified HTTPS request is being made to host 'omcs-global-customer-persister-ge4.omcs-nonprod.r1.pks.dell.com'. Adding certificate verification is strongly advised. See: https://urllib3.readthedocs.io/en/1.26.x/advanced-usage.html#ssl-warnings\n",
      "  warnings.warn(\n"
     ]
    },
    {
     "name": "stdout",
     "output_type": "stream",
     "text": [
      "not null\n",
      "7040000447257\n",
      "count 395\n",
      "https://omcs-global-customer-persister-ge4.omcs-nonprod.r1.pks.dell.com/omcs-global-customer-persister/v1/Dashboard/GetWorkflowSteps?dpid=7040000447257\n"
     ]
    },
    {
     "name": "stderr",
     "output_type": "stream",
     "text": [
      "C:\\Users\\Satpum\\AppData\\Local\\anaconda3\\Lib\\site-packages\\urllib3\\connectionpool.py:1056: InsecureRequestWarning: Unverified HTTPS request is being made to host 'omcs-global-customer-persister-ge4.omcs-nonprod.r1.pks.dell.com'. Adding certificate verification is strongly advised. See: https://urllib3.readthedocs.io/en/1.26.x/advanced-usage.html#ssl-warnings\n",
      "  warnings.warn(\n"
     ]
    },
    {
     "name": "stdout",
     "output_type": "stream",
     "text": [
      "not null\n",
      "7040000447256\n",
      "count 396\n",
      "https://omcs-global-customer-persister-ge4.omcs-nonprod.r1.pks.dell.com/omcs-global-customer-persister/v1/Dashboard/GetWorkflowSteps?dpid=7040000447256\n"
     ]
    },
    {
     "name": "stderr",
     "output_type": "stream",
     "text": [
      "C:\\Users\\Satpum\\AppData\\Local\\anaconda3\\Lib\\site-packages\\urllib3\\connectionpool.py:1056: InsecureRequestWarning: Unverified HTTPS request is being made to host 'omcs-global-customer-persister-ge4.omcs-nonprod.r1.pks.dell.com'. Adding certificate verification is strongly advised. See: https://urllib3.readthedocs.io/en/1.26.x/advanced-usage.html#ssl-warnings\n",
      "  warnings.warn(\n"
     ]
    },
    {
     "name": "stdout",
     "output_type": "stream",
     "text": [
      "not null\n",
      "7040000447255\n",
      "count 397\n",
      "https://omcs-global-customer-persister-ge4.omcs-nonprod.r1.pks.dell.com/omcs-global-customer-persister/v1/Dashboard/GetWorkflowSteps?dpid=7040000447255\n"
     ]
    },
    {
     "name": "stderr",
     "output_type": "stream",
     "text": [
      "C:\\Users\\Satpum\\AppData\\Local\\anaconda3\\Lib\\site-packages\\urllib3\\connectionpool.py:1056: InsecureRequestWarning: Unverified HTTPS request is being made to host 'omcs-global-customer-persister-ge4.omcs-nonprod.r1.pks.dell.com'. Adding certificate verification is strongly advised. See: https://urllib3.readthedocs.io/en/1.26.x/advanced-usage.html#ssl-warnings\n",
      "  warnings.warn(\n"
     ]
    },
    {
     "name": "stdout",
     "output_type": "stream",
     "text": [
      "not null\n",
      "7040000447254\n",
      "count 398\n",
      "https://omcs-global-customer-persister-ge4.omcs-nonprod.r1.pks.dell.com/omcs-global-customer-persister/v1/Dashboard/GetWorkflowSteps?dpid=7040000447254\n"
     ]
    },
    {
     "name": "stderr",
     "output_type": "stream",
     "text": [
      "C:\\Users\\Satpum\\AppData\\Local\\anaconda3\\Lib\\site-packages\\urllib3\\connectionpool.py:1056: InsecureRequestWarning: Unverified HTTPS request is being made to host 'omcs-global-customer-persister-ge4.omcs-nonprod.r1.pks.dell.com'. Adding certificate verification is strongly advised. See: https://urllib3.readthedocs.io/en/1.26.x/advanced-usage.html#ssl-warnings\n",
      "  warnings.warn(\n"
     ]
    },
    {
     "name": "stdout",
     "output_type": "stream",
     "text": [
      "not null\n",
      "7040000447253\n",
      "count 399\n",
      "https://omcs-global-customer-persister-ge4.omcs-nonprod.r1.pks.dell.com/omcs-global-customer-persister/v1/Dashboard/GetWorkflowSteps?dpid=7040000447253\n"
     ]
    },
    {
     "name": "stderr",
     "output_type": "stream",
     "text": [
      "C:\\Users\\Satpum\\AppData\\Local\\anaconda3\\Lib\\site-packages\\urllib3\\connectionpool.py:1056: InsecureRequestWarning: Unverified HTTPS request is being made to host 'omcs-global-customer-persister-ge4.omcs-nonprod.r1.pks.dell.com'. Adding certificate verification is strongly advised. See: https://urllib3.readthedocs.io/en/1.26.x/advanced-usage.html#ssl-warnings\n",
      "  warnings.warn(\n"
     ]
    },
    {
     "name": "stdout",
     "output_type": "stream",
     "text": [
      "not null\n",
      "7040000447252\n",
      "count 400\n",
      "https://omcs-global-customer-persister-ge4.omcs-nonprod.r1.pks.dell.com/omcs-global-customer-persister/v1/Dashboard/GetWorkflowSteps?dpid=7040000447252\n"
     ]
    },
    {
     "name": "stderr",
     "output_type": "stream",
     "text": [
      "C:\\Users\\Satpum\\AppData\\Local\\anaconda3\\Lib\\site-packages\\urllib3\\connectionpool.py:1056: InsecureRequestWarning: Unverified HTTPS request is being made to host 'omcs-global-customer-persister-ge4.omcs-nonprod.r1.pks.dell.com'. Adding certificate verification is strongly advised. See: https://urllib3.readthedocs.io/en/1.26.x/advanced-usage.html#ssl-warnings\n",
      "  warnings.warn(\n"
     ]
    },
    {
     "name": "stdout",
     "output_type": "stream",
     "text": [
      "not null\n",
      "7040000447251\n",
      "count 401\n",
      "https://omcs-global-customer-persister-ge4.omcs-nonprod.r1.pks.dell.com/omcs-global-customer-persister/v1/Dashboard/GetWorkflowSteps?dpid=7040000447251\n"
     ]
    },
    {
     "name": "stderr",
     "output_type": "stream",
     "text": [
      "C:\\Users\\Satpum\\AppData\\Local\\anaconda3\\Lib\\site-packages\\urllib3\\connectionpool.py:1056: InsecureRequestWarning: Unverified HTTPS request is being made to host 'omcs-global-customer-persister-ge4.omcs-nonprod.r1.pks.dell.com'. Adding certificate verification is strongly advised. See: https://urllib3.readthedocs.io/en/1.26.x/advanced-usage.html#ssl-warnings\n",
      "  warnings.warn(\n"
     ]
    },
    {
     "name": "stdout",
     "output_type": "stream",
     "text": [
      "not null\n",
      "7040000447250\n",
      "count 402\n",
      "https://omcs-global-customer-persister-ge4.omcs-nonprod.r1.pks.dell.com/omcs-global-customer-persister/v1/Dashboard/GetWorkflowSteps?dpid=7040000447250\n"
     ]
    },
    {
     "name": "stderr",
     "output_type": "stream",
     "text": [
      "C:\\Users\\Satpum\\AppData\\Local\\anaconda3\\Lib\\site-packages\\urllib3\\connectionpool.py:1056: InsecureRequestWarning: Unverified HTTPS request is being made to host 'omcs-global-customer-persister-ge4.omcs-nonprod.r1.pks.dell.com'. Adding certificate verification is strongly advised. See: https://urllib3.readthedocs.io/en/1.26.x/advanced-usage.html#ssl-warnings\n",
      "  warnings.warn(\n"
     ]
    },
    {
     "name": "stdout",
     "output_type": "stream",
     "text": [
      "not null\n",
      "7040000447249\n",
      "count 403\n",
      "https://omcs-global-customer-persister-ge4.omcs-nonprod.r1.pks.dell.com/omcs-global-customer-persister/v1/Dashboard/GetWorkflowSteps?dpid=7040000447249\n"
     ]
    },
    {
     "name": "stderr",
     "output_type": "stream",
     "text": [
      "C:\\Users\\Satpum\\AppData\\Local\\anaconda3\\Lib\\site-packages\\urllib3\\connectionpool.py:1056: InsecureRequestWarning: Unverified HTTPS request is being made to host 'omcs-global-customer-persister-ge4.omcs-nonprod.r1.pks.dell.com'. Adding certificate verification is strongly advised. See: https://urllib3.readthedocs.io/en/1.26.x/advanced-usage.html#ssl-warnings\n",
      "  warnings.warn(\n"
     ]
    },
    {
     "name": "stdout",
     "output_type": "stream",
     "text": [
      "not null\n",
      "7040000447248\n",
      "count 404\n",
      "https://omcs-global-customer-persister-ge4.omcs-nonprod.r1.pks.dell.com/omcs-global-customer-persister/v1/Dashboard/GetWorkflowSteps?dpid=7040000447248\n"
     ]
    },
    {
     "name": "stderr",
     "output_type": "stream",
     "text": [
      "C:\\Users\\Satpum\\AppData\\Local\\anaconda3\\Lib\\site-packages\\urllib3\\connectionpool.py:1056: InsecureRequestWarning: Unverified HTTPS request is being made to host 'omcs-global-customer-persister-ge4.omcs-nonprod.r1.pks.dell.com'. Adding certificate verification is strongly advised. See: https://urllib3.readthedocs.io/en/1.26.x/advanced-usage.html#ssl-warnings\n",
      "  warnings.warn(\n"
     ]
    },
    {
     "name": "stdout",
     "output_type": "stream",
     "text": [
      "not null\n",
      "7040000447247\n",
      "count 405\n",
      "https://omcs-global-customer-persister-ge4.omcs-nonprod.r1.pks.dell.com/omcs-global-customer-persister/v1/Dashboard/GetWorkflowSteps?dpid=7040000447247\n"
     ]
    },
    {
     "name": "stderr",
     "output_type": "stream",
     "text": [
      "C:\\Users\\Satpum\\AppData\\Local\\anaconda3\\Lib\\site-packages\\urllib3\\connectionpool.py:1056: InsecureRequestWarning: Unverified HTTPS request is being made to host 'omcs-global-customer-persister-ge4.omcs-nonprod.r1.pks.dell.com'. Adding certificate verification is strongly advised. See: https://urllib3.readthedocs.io/en/1.26.x/advanced-usage.html#ssl-warnings\n",
      "  warnings.warn(\n"
     ]
    },
    {
     "name": "stdout",
     "output_type": "stream",
     "text": [
      "not null\n",
      "7040000447246\n",
      "count 406\n",
      "https://omcs-global-customer-persister-ge4.omcs-nonprod.r1.pks.dell.com/omcs-global-customer-persister/v1/Dashboard/GetWorkflowSteps?dpid=7040000447246\n"
     ]
    },
    {
     "name": "stderr",
     "output_type": "stream",
     "text": [
      "C:\\Users\\Satpum\\AppData\\Local\\anaconda3\\Lib\\site-packages\\urllib3\\connectionpool.py:1056: InsecureRequestWarning: Unverified HTTPS request is being made to host 'omcs-global-customer-persister-ge4.omcs-nonprod.r1.pks.dell.com'. Adding certificate verification is strongly advised. See: https://urllib3.readthedocs.io/en/1.26.x/advanced-usage.html#ssl-warnings\n",
      "  warnings.warn(\n"
     ]
    },
    {
     "name": "stdout",
     "output_type": "stream",
     "text": [
      "not null\n",
      "7040000447245\n",
      "count 407\n",
      "https://omcs-global-customer-persister-ge4.omcs-nonprod.r1.pks.dell.com/omcs-global-customer-persister/v1/Dashboard/GetWorkflowSteps?dpid=7040000447245\n"
     ]
    },
    {
     "name": "stderr",
     "output_type": "stream",
     "text": [
      "C:\\Users\\Satpum\\AppData\\Local\\anaconda3\\Lib\\site-packages\\urllib3\\connectionpool.py:1056: InsecureRequestWarning: Unverified HTTPS request is being made to host 'omcs-global-customer-persister-ge4.omcs-nonprod.r1.pks.dell.com'. Adding certificate verification is strongly advised. See: https://urllib3.readthedocs.io/en/1.26.x/advanced-usage.html#ssl-warnings\n",
      "  warnings.warn(\n"
     ]
    },
    {
     "name": "stdout",
     "output_type": "stream",
     "text": [
      "not null\n",
      "7040000447244\n",
      "count 408\n",
      "https://omcs-global-customer-persister-ge4.omcs-nonprod.r1.pks.dell.com/omcs-global-customer-persister/v1/Dashboard/GetWorkflowSteps?dpid=7040000447244\n"
     ]
    },
    {
     "name": "stderr",
     "output_type": "stream",
     "text": [
      "C:\\Users\\Satpum\\AppData\\Local\\anaconda3\\Lib\\site-packages\\urllib3\\connectionpool.py:1056: InsecureRequestWarning: Unverified HTTPS request is being made to host 'omcs-global-customer-persister-ge4.omcs-nonprod.r1.pks.dell.com'. Adding certificate verification is strongly advised. See: https://urllib3.readthedocs.io/en/1.26.x/advanced-usage.html#ssl-warnings\n",
      "  warnings.warn(\n"
     ]
    },
    {
     "name": "stdout",
     "output_type": "stream",
     "text": [
      "not null\n",
      "7040000447243\n",
      "count 409\n",
      "https://omcs-global-customer-persister-ge4.omcs-nonprod.r1.pks.dell.com/omcs-global-customer-persister/v1/Dashboard/GetWorkflowSteps?dpid=7040000447243\n"
     ]
    },
    {
     "name": "stderr",
     "output_type": "stream",
     "text": [
      "C:\\Users\\Satpum\\AppData\\Local\\anaconda3\\Lib\\site-packages\\urllib3\\connectionpool.py:1056: InsecureRequestWarning: Unverified HTTPS request is being made to host 'omcs-global-customer-persister-ge4.omcs-nonprod.r1.pks.dell.com'. Adding certificate verification is strongly advised. See: https://urllib3.readthedocs.io/en/1.26.x/advanced-usage.html#ssl-warnings\n",
      "  warnings.warn(\n"
     ]
    },
    {
     "name": "stdout",
     "output_type": "stream",
     "text": [
      "not null\n",
      "7040000447242\n",
      "count 410\n",
      "https://omcs-global-customer-persister-ge4.omcs-nonprod.r1.pks.dell.com/omcs-global-customer-persister/v1/Dashboard/GetWorkflowSteps?dpid=7040000447242\n"
     ]
    },
    {
     "name": "stderr",
     "output_type": "stream",
     "text": [
      "C:\\Users\\Satpum\\AppData\\Local\\anaconda3\\Lib\\site-packages\\urllib3\\connectionpool.py:1056: InsecureRequestWarning: Unverified HTTPS request is being made to host 'omcs-global-customer-persister-ge4.omcs-nonprod.r1.pks.dell.com'. Adding certificate verification is strongly advised. See: https://urllib3.readthedocs.io/en/1.26.x/advanced-usage.html#ssl-warnings\n",
      "  warnings.warn(\n"
     ]
    },
    {
     "name": "stdout",
     "output_type": "stream",
     "text": [
      "not null\n",
      "7040000447241\n",
      "count 411\n",
      "https://omcs-global-customer-persister-ge4.omcs-nonprod.r1.pks.dell.com/omcs-global-customer-persister/v1/Dashboard/GetWorkflowSteps?dpid=7040000447241\n"
     ]
    },
    {
     "name": "stderr",
     "output_type": "stream",
     "text": [
      "C:\\Users\\Satpum\\AppData\\Local\\anaconda3\\Lib\\site-packages\\urllib3\\connectionpool.py:1056: InsecureRequestWarning: Unverified HTTPS request is being made to host 'omcs-global-customer-persister-ge4.omcs-nonprod.r1.pks.dell.com'. Adding certificate verification is strongly advised. See: https://urllib3.readthedocs.io/en/1.26.x/advanced-usage.html#ssl-warnings\n",
      "  warnings.warn(\n"
     ]
    },
    {
     "name": "stdout",
     "output_type": "stream",
     "text": [
      "not null\n",
      "7040000447240\n",
      "count 412\n",
      "https://omcs-global-customer-persister-ge4.omcs-nonprod.r1.pks.dell.com/omcs-global-customer-persister/v1/Dashboard/GetWorkflowSteps?dpid=7040000447240\n"
     ]
    },
    {
     "name": "stderr",
     "output_type": "stream",
     "text": [
      "C:\\Users\\Satpum\\AppData\\Local\\anaconda3\\Lib\\site-packages\\urllib3\\connectionpool.py:1056: InsecureRequestWarning: Unverified HTTPS request is being made to host 'omcs-global-customer-persister-ge4.omcs-nonprod.r1.pks.dell.com'. Adding certificate verification is strongly advised. See: https://urllib3.readthedocs.io/en/1.26.x/advanced-usage.html#ssl-warnings\n",
      "  warnings.warn(\n"
     ]
    },
    {
     "name": "stdout",
     "output_type": "stream",
     "text": [
      "not null\n",
      "7040000447239\n",
      "count 413\n",
      "https://omcs-global-customer-persister-ge4.omcs-nonprod.r1.pks.dell.com/omcs-global-customer-persister/v1/Dashboard/GetWorkflowSteps?dpid=7040000447239\n"
     ]
    },
    {
     "name": "stderr",
     "output_type": "stream",
     "text": [
      "C:\\Users\\Satpum\\AppData\\Local\\anaconda3\\Lib\\site-packages\\urllib3\\connectionpool.py:1056: InsecureRequestWarning: Unverified HTTPS request is being made to host 'omcs-global-customer-persister-ge4.omcs-nonprod.r1.pks.dell.com'. Adding certificate verification is strongly advised. See: https://urllib3.readthedocs.io/en/1.26.x/advanced-usage.html#ssl-warnings\n",
      "  warnings.warn(\n"
     ]
    },
    {
     "name": "stdout",
     "output_type": "stream",
     "text": [
      "not null\n",
      "7040000447238\n",
      "count 414\n",
      "https://omcs-global-customer-persister-ge4.omcs-nonprod.r1.pks.dell.com/omcs-global-customer-persister/v1/Dashboard/GetWorkflowSteps?dpid=7040000447238\n"
     ]
    },
    {
     "name": "stderr",
     "output_type": "stream",
     "text": [
      "C:\\Users\\Satpum\\AppData\\Local\\anaconda3\\Lib\\site-packages\\urllib3\\connectionpool.py:1056: InsecureRequestWarning: Unverified HTTPS request is being made to host 'omcs-global-customer-persister-ge4.omcs-nonprod.r1.pks.dell.com'. Adding certificate verification is strongly advised. See: https://urllib3.readthedocs.io/en/1.26.x/advanced-usage.html#ssl-warnings\n",
      "  warnings.warn(\n"
     ]
    },
    {
     "name": "stdout",
     "output_type": "stream",
     "text": [
      "not null\n",
      "7040000447237\n",
      "count 415\n",
      "https://omcs-global-customer-persister-ge4.omcs-nonprod.r1.pks.dell.com/omcs-global-customer-persister/v1/Dashboard/GetWorkflowSteps?dpid=7040000447237\n"
     ]
    },
    {
     "name": "stderr",
     "output_type": "stream",
     "text": [
      "C:\\Users\\Satpum\\AppData\\Local\\anaconda3\\Lib\\site-packages\\urllib3\\connectionpool.py:1056: InsecureRequestWarning: Unverified HTTPS request is being made to host 'omcs-global-customer-persister-ge4.omcs-nonprod.r1.pks.dell.com'. Adding certificate verification is strongly advised. See: https://urllib3.readthedocs.io/en/1.26.x/advanced-usage.html#ssl-warnings\n",
      "  warnings.warn(\n"
     ]
    },
    {
     "name": "stdout",
     "output_type": "stream",
     "text": [
      "not null\n",
      "7040000447236\n",
      "count 416\n",
      "https://omcs-global-customer-persister-ge4.omcs-nonprod.r1.pks.dell.com/omcs-global-customer-persister/v1/Dashboard/GetWorkflowSteps?dpid=7040000447236\n"
     ]
    },
    {
     "name": "stderr",
     "output_type": "stream",
     "text": [
      "C:\\Users\\Satpum\\AppData\\Local\\anaconda3\\Lib\\site-packages\\urllib3\\connectionpool.py:1056: InsecureRequestWarning: Unverified HTTPS request is being made to host 'omcs-global-customer-persister-ge4.omcs-nonprod.r1.pks.dell.com'. Adding certificate verification is strongly advised. See: https://urllib3.readthedocs.io/en/1.26.x/advanced-usage.html#ssl-warnings\n",
      "  warnings.warn(\n"
     ]
    },
    {
     "name": "stdout",
     "output_type": "stream",
     "text": [
      "not null\n",
      "7040000447235\n",
      "count 417\n",
      "https://omcs-global-customer-persister-ge4.omcs-nonprod.r1.pks.dell.com/omcs-global-customer-persister/v1/Dashboard/GetWorkflowSteps?dpid=7040000447235\n"
     ]
    },
    {
     "name": "stderr",
     "output_type": "stream",
     "text": [
      "C:\\Users\\Satpum\\AppData\\Local\\anaconda3\\Lib\\site-packages\\urllib3\\connectionpool.py:1056: InsecureRequestWarning: Unverified HTTPS request is being made to host 'omcs-global-customer-persister-ge4.omcs-nonprod.r1.pks.dell.com'. Adding certificate verification is strongly advised. See: https://urllib3.readthedocs.io/en/1.26.x/advanced-usage.html#ssl-warnings\n",
      "  warnings.warn(\n"
     ]
    },
    {
     "name": "stdout",
     "output_type": "stream",
     "text": [
      "not null\n",
      "7040000447234\n",
      "count 418\n",
      "https://omcs-global-customer-persister-ge4.omcs-nonprod.r1.pks.dell.com/omcs-global-customer-persister/v1/Dashboard/GetWorkflowSteps?dpid=7040000447234\n"
     ]
    },
    {
     "name": "stderr",
     "output_type": "stream",
     "text": [
      "C:\\Users\\Satpum\\AppData\\Local\\anaconda3\\Lib\\site-packages\\urllib3\\connectionpool.py:1056: InsecureRequestWarning: Unverified HTTPS request is being made to host 'omcs-global-customer-persister-ge4.omcs-nonprod.r1.pks.dell.com'. Adding certificate verification is strongly advised. See: https://urllib3.readthedocs.io/en/1.26.x/advanced-usage.html#ssl-warnings\n",
      "  warnings.warn(\n"
     ]
    },
    {
     "name": "stdout",
     "output_type": "stream",
     "text": [
      "not null\n",
      "7040000447233\n",
      "count 419\n",
      "https://omcs-global-customer-persister-ge4.omcs-nonprod.r1.pks.dell.com/omcs-global-customer-persister/v1/Dashboard/GetWorkflowSteps?dpid=7040000447233\n"
     ]
    },
    {
     "name": "stderr",
     "output_type": "stream",
     "text": [
      "C:\\Users\\Satpum\\AppData\\Local\\anaconda3\\Lib\\site-packages\\urllib3\\connectionpool.py:1056: InsecureRequestWarning: Unverified HTTPS request is being made to host 'omcs-global-customer-persister-ge4.omcs-nonprod.r1.pks.dell.com'. Adding certificate verification is strongly advised. See: https://urllib3.readthedocs.io/en/1.26.x/advanced-usage.html#ssl-warnings\n",
      "  warnings.warn(\n"
     ]
    },
    {
     "name": "stdout",
     "output_type": "stream",
     "text": [
      "not null\n",
      "7040000447232\n",
      "count 420\n",
      "https://omcs-global-customer-persister-ge4.omcs-nonprod.r1.pks.dell.com/omcs-global-customer-persister/v1/Dashboard/GetWorkflowSteps?dpid=7040000447232\n"
     ]
    },
    {
     "name": "stderr",
     "output_type": "stream",
     "text": [
      "C:\\Users\\Satpum\\AppData\\Local\\anaconda3\\Lib\\site-packages\\urllib3\\connectionpool.py:1056: InsecureRequestWarning: Unverified HTTPS request is being made to host 'omcs-global-customer-persister-ge4.omcs-nonprod.r1.pks.dell.com'. Adding certificate verification is strongly advised. See: https://urllib3.readthedocs.io/en/1.26.x/advanced-usage.html#ssl-warnings\n",
      "  warnings.warn(\n"
     ]
    },
    {
     "name": "stdout",
     "output_type": "stream",
     "text": [
      "not null\n",
      "7040000447231\n",
      "count 421\n",
      "https://omcs-global-customer-persister-ge4.omcs-nonprod.r1.pks.dell.com/omcs-global-customer-persister/v1/Dashboard/GetWorkflowSteps?dpid=7040000447231\n"
     ]
    },
    {
     "name": "stderr",
     "output_type": "stream",
     "text": [
      "C:\\Users\\Satpum\\AppData\\Local\\anaconda3\\Lib\\site-packages\\urllib3\\connectionpool.py:1056: InsecureRequestWarning: Unverified HTTPS request is being made to host 'omcs-global-customer-persister-ge4.omcs-nonprod.r1.pks.dell.com'. Adding certificate verification is strongly advised. See: https://urllib3.readthedocs.io/en/1.26.x/advanced-usage.html#ssl-warnings\n",
      "  warnings.warn(\n"
     ]
    },
    {
     "name": "stdout",
     "output_type": "stream",
     "text": [
      "null7040000447231\n",
      "7040000447230\n",
      "count 422\n",
      "https://omcs-global-customer-persister-ge4.omcs-nonprod.r1.pks.dell.com/omcs-global-customer-persister/v1/Dashboard/GetWorkflowSteps?dpid=7040000447230\n"
     ]
    },
    {
     "name": "stderr",
     "output_type": "stream",
     "text": [
      "C:\\Users\\Satpum\\AppData\\Local\\anaconda3\\Lib\\site-packages\\urllib3\\connectionpool.py:1056: InsecureRequestWarning: Unverified HTTPS request is being made to host 'omcs-global-customer-persister-ge4.omcs-nonprod.r1.pks.dell.com'. Adding certificate verification is strongly advised. See: https://urllib3.readthedocs.io/en/1.26.x/advanced-usage.html#ssl-warnings\n",
      "  warnings.warn(\n"
     ]
    },
    {
     "name": "stdout",
     "output_type": "stream",
     "text": [
      "null7040000447230\n",
      "7040000447225\n",
      "count 423\n",
      "https://omcs-global-customer-persister-ge4.omcs-nonprod.r1.pks.dell.com/omcs-global-customer-persister/v1/Dashboard/GetWorkflowSteps?dpid=7040000447225\n"
     ]
    },
    {
     "name": "stderr",
     "output_type": "stream",
     "text": [
      "C:\\Users\\Satpum\\AppData\\Local\\anaconda3\\Lib\\site-packages\\urllib3\\connectionpool.py:1056: InsecureRequestWarning: Unverified HTTPS request is being made to host 'omcs-global-customer-persister-ge4.omcs-nonprod.r1.pks.dell.com'. Adding certificate verification is strongly advised. See: https://urllib3.readthedocs.io/en/1.26.x/advanced-usage.html#ssl-warnings\n",
      "  warnings.warn(\n"
     ]
    },
    {
     "name": "stdout",
     "output_type": "stream",
     "text": [
      "null7040000447225\n",
      "7040000447224\n",
      "count 424\n",
      "https://omcs-global-customer-persister-ge4.omcs-nonprod.r1.pks.dell.com/omcs-global-customer-persister/v1/Dashboard/GetWorkflowSteps?dpid=7040000447224\n"
     ]
    },
    {
     "name": "stderr",
     "output_type": "stream",
     "text": [
      "C:\\Users\\Satpum\\AppData\\Local\\anaconda3\\Lib\\site-packages\\urllib3\\connectionpool.py:1056: InsecureRequestWarning: Unverified HTTPS request is being made to host 'omcs-global-customer-persister-ge4.omcs-nonprod.r1.pks.dell.com'. Adding certificate verification is strongly advised. See: https://urllib3.readthedocs.io/en/1.26.x/advanced-usage.html#ssl-warnings\n",
      "  warnings.warn(\n"
     ]
    },
    {
     "name": "stdout",
     "output_type": "stream",
     "text": [
      "null7040000447224\n",
      "7040000447223\n",
      "count 425\n",
      "https://omcs-global-customer-persister-ge4.omcs-nonprod.r1.pks.dell.com/omcs-global-customer-persister/v1/Dashboard/GetWorkflowSteps?dpid=7040000447223\n"
     ]
    },
    {
     "name": "stderr",
     "output_type": "stream",
     "text": [
      "C:\\Users\\Satpum\\AppData\\Local\\anaconda3\\Lib\\site-packages\\urllib3\\connectionpool.py:1056: InsecureRequestWarning: Unverified HTTPS request is being made to host 'omcs-global-customer-persister-ge4.omcs-nonprod.r1.pks.dell.com'. Adding certificate verification is strongly advised. See: https://urllib3.readthedocs.io/en/1.26.x/advanced-usage.html#ssl-warnings\n",
      "  warnings.warn(\n"
     ]
    },
    {
     "name": "stdout",
     "output_type": "stream",
     "text": [
      "null7040000447223\n",
      "7040000447222\n",
      "count 426\n",
      "https://omcs-global-customer-persister-ge4.omcs-nonprod.r1.pks.dell.com/omcs-global-customer-persister/v1/Dashboard/GetWorkflowSteps?dpid=7040000447222\n"
     ]
    },
    {
     "name": "stderr",
     "output_type": "stream",
     "text": [
      "C:\\Users\\Satpum\\AppData\\Local\\anaconda3\\Lib\\site-packages\\urllib3\\connectionpool.py:1056: InsecureRequestWarning: Unverified HTTPS request is being made to host 'omcs-global-customer-persister-ge4.omcs-nonprod.r1.pks.dell.com'. Adding certificate verification is strongly advised. See: https://urllib3.readthedocs.io/en/1.26.x/advanced-usage.html#ssl-warnings\n",
      "  warnings.warn(\n"
     ]
    },
    {
     "name": "stdout",
     "output_type": "stream",
     "text": [
      "null7040000447222\n",
      "7040000447219\n",
      "count 427\n",
      "https://omcs-global-customer-persister-ge4.omcs-nonprod.r1.pks.dell.com/omcs-global-customer-persister/v1/Dashboard/GetWorkflowSteps?dpid=7040000447219\n"
     ]
    },
    {
     "name": "stderr",
     "output_type": "stream",
     "text": [
      "C:\\Users\\Satpum\\AppData\\Local\\anaconda3\\Lib\\site-packages\\urllib3\\connectionpool.py:1056: InsecureRequestWarning: Unverified HTTPS request is being made to host 'omcs-global-customer-persister-ge4.omcs-nonprod.r1.pks.dell.com'. Adding certificate verification is strongly advised. See: https://urllib3.readthedocs.io/en/1.26.x/advanced-usage.html#ssl-warnings\n",
      "  warnings.warn(\n"
     ]
    },
    {
     "name": "stdout",
     "output_type": "stream",
     "text": [
      "not null\n",
      "7040000447218\n",
      "count 428\n",
      "https://omcs-global-customer-persister-ge4.omcs-nonprod.r1.pks.dell.com/omcs-global-customer-persister/v1/Dashboard/GetWorkflowSteps?dpid=7040000447218\n"
     ]
    },
    {
     "name": "stderr",
     "output_type": "stream",
     "text": [
      "C:\\Users\\Satpum\\AppData\\Local\\anaconda3\\Lib\\site-packages\\urllib3\\connectionpool.py:1056: InsecureRequestWarning: Unverified HTTPS request is being made to host 'omcs-global-customer-persister-ge4.omcs-nonprod.r1.pks.dell.com'. Adding certificate verification is strongly advised. See: https://urllib3.readthedocs.io/en/1.26.x/advanced-usage.html#ssl-warnings\n",
      "  warnings.warn(\n"
     ]
    },
    {
     "name": "stdout",
     "output_type": "stream",
     "text": [
      "not null\n",
      "7040000447218\n",
      "count 429\n",
      "https://omcs-global-customer-persister-ge4.omcs-nonprod.r1.pks.dell.com/omcs-global-customer-persister/v1/Dashboard/GetWorkflowSteps?dpid=7040000447218\n"
     ]
    },
    {
     "name": "stderr",
     "output_type": "stream",
     "text": [
      "C:\\Users\\Satpum\\AppData\\Local\\anaconda3\\Lib\\site-packages\\urllib3\\connectionpool.py:1056: InsecureRequestWarning: Unverified HTTPS request is being made to host 'omcs-global-customer-persister-ge4.omcs-nonprod.r1.pks.dell.com'. Adding certificate verification is strongly advised. See: https://urllib3.readthedocs.io/en/1.26.x/advanced-usage.html#ssl-warnings\n",
      "  warnings.warn(\n"
     ]
    },
    {
     "name": "stdout",
     "output_type": "stream",
     "text": [
      "not null\n",
      "7040000447217\n",
      "count 430\n",
      "https://omcs-global-customer-persister-ge4.omcs-nonprod.r1.pks.dell.com/omcs-global-customer-persister/v1/Dashboard/GetWorkflowSteps?dpid=7040000447217\n"
     ]
    },
    {
     "name": "stderr",
     "output_type": "stream",
     "text": [
      "C:\\Users\\Satpum\\AppData\\Local\\anaconda3\\Lib\\site-packages\\urllib3\\connectionpool.py:1056: InsecureRequestWarning: Unverified HTTPS request is being made to host 'omcs-global-customer-persister-ge4.omcs-nonprod.r1.pks.dell.com'. Adding certificate verification is strongly advised. See: https://urllib3.readthedocs.io/en/1.26.x/advanced-usage.html#ssl-warnings\n",
      "  warnings.warn(\n"
     ]
    },
    {
     "name": "stdout",
     "output_type": "stream",
     "text": [
      "not null\n",
      "7040000447216\n",
      "count 431\n",
      "https://omcs-global-customer-persister-ge4.omcs-nonprod.r1.pks.dell.com/omcs-global-customer-persister/v1/Dashboard/GetWorkflowSteps?dpid=7040000447216\n"
     ]
    },
    {
     "name": "stderr",
     "output_type": "stream",
     "text": [
      "C:\\Users\\Satpum\\AppData\\Local\\anaconda3\\Lib\\site-packages\\urllib3\\connectionpool.py:1056: InsecureRequestWarning: Unverified HTTPS request is being made to host 'omcs-global-customer-persister-ge4.omcs-nonprod.r1.pks.dell.com'. Adding certificate verification is strongly advised. See: https://urllib3.readthedocs.io/en/1.26.x/advanced-usage.html#ssl-warnings\n",
      "  warnings.warn(\n"
     ]
    },
    {
     "name": "stdout",
     "output_type": "stream",
     "text": [
      "not null\n",
      "7040000447215\n",
      "count 432\n",
      "https://omcs-global-customer-persister-ge4.omcs-nonprod.r1.pks.dell.com/omcs-global-customer-persister/v1/Dashboard/GetWorkflowSteps?dpid=7040000447215\n"
     ]
    },
    {
     "name": "stderr",
     "output_type": "stream",
     "text": [
      "C:\\Users\\Satpum\\AppData\\Local\\anaconda3\\Lib\\site-packages\\urllib3\\connectionpool.py:1056: InsecureRequestWarning: Unverified HTTPS request is being made to host 'omcs-global-customer-persister-ge4.omcs-nonprod.r1.pks.dell.com'. Adding certificate verification is strongly advised. See: https://urllib3.readthedocs.io/en/1.26.x/advanced-usage.html#ssl-warnings\n",
      "  warnings.warn(\n"
     ]
    },
    {
     "name": "stdout",
     "output_type": "stream",
     "text": [
      "not null\n",
      "7040000447214\n",
      "count 433\n",
      "https://omcs-global-customer-persister-ge4.omcs-nonprod.r1.pks.dell.com/omcs-global-customer-persister/v1/Dashboard/GetWorkflowSteps?dpid=7040000447214\n"
     ]
    },
    {
     "name": "stderr",
     "output_type": "stream",
     "text": [
      "C:\\Users\\Satpum\\AppData\\Local\\anaconda3\\Lib\\site-packages\\urllib3\\connectionpool.py:1056: InsecureRequestWarning: Unverified HTTPS request is being made to host 'omcs-global-customer-persister-ge4.omcs-nonprod.r1.pks.dell.com'. Adding certificate verification is strongly advised. See: https://urllib3.readthedocs.io/en/1.26.x/advanced-usage.html#ssl-warnings\n",
      "  warnings.warn(\n"
     ]
    },
    {
     "name": "stdout",
     "output_type": "stream",
     "text": [
      "not null\n",
      "7040000447213\n",
      "count 434\n",
      "https://omcs-global-customer-persister-ge4.omcs-nonprod.r1.pks.dell.com/omcs-global-customer-persister/v1/Dashboard/GetWorkflowSteps?dpid=7040000447213\n"
     ]
    },
    {
     "name": "stderr",
     "output_type": "stream",
     "text": [
      "C:\\Users\\Satpum\\AppData\\Local\\anaconda3\\Lib\\site-packages\\urllib3\\connectionpool.py:1056: InsecureRequestWarning: Unverified HTTPS request is being made to host 'omcs-global-customer-persister-ge4.omcs-nonprod.r1.pks.dell.com'. Adding certificate verification is strongly advised. See: https://urllib3.readthedocs.io/en/1.26.x/advanced-usage.html#ssl-warnings\n",
      "  warnings.warn(\n"
     ]
    },
    {
     "name": "stdout",
     "output_type": "stream",
     "text": [
      "not null\n",
      "7040000447212\n",
      "count 435\n",
      "https://omcs-global-customer-persister-ge4.omcs-nonprod.r1.pks.dell.com/omcs-global-customer-persister/v1/Dashboard/GetWorkflowSteps?dpid=7040000447212\n"
     ]
    },
    {
     "name": "stderr",
     "output_type": "stream",
     "text": [
      "C:\\Users\\Satpum\\AppData\\Local\\anaconda3\\Lib\\site-packages\\urllib3\\connectionpool.py:1056: InsecureRequestWarning: Unverified HTTPS request is being made to host 'omcs-global-customer-persister-ge4.omcs-nonprod.r1.pks.dell.com'. Adding certificate verification is strongly advised. See: https://urllib3.readthedocs.io/en/1.26.x/advanced-usage.html#ssl-warnings\n",
      "  warnings.warn(\n"
     ]
    },
    {
     "name": "stdout",
     "output_type": "stream",
     "text": [
      "not null\n",
      "7040000447211\n",
      "count 436\n",
      "https://omcs-global-customer-persister-ge4.omcs-nonprod.r1.pks.dell.com/omcs-global-customer-persister/v1/Dashboard/GetWorkflowSteps?dpid=7040000447211\n"
     ]
    },
    {
     "name": "stderr",
     "output_type": "stream",
     "text": [
      "C:\\Users\\Satpum\\AppData\\Local\\anaconda3\\Lib\\site-packages\\urllib3\\connectionpool.py:1056: InsecureRequestWarning: Unverified HTTPS request is being made to host 'omcs-global-customer-persister-ge4.omcs-nonprod.r1.pks.dell.com'. Adding certificate verification is strongly advised. See: https://urllib3.readthedocs.io/en/1.26.x/advanced-usage.html#ssl-warnings\n",
      "  warnings.warn(\n"
     ]
    },
    {
     "name": "stdout",
     "output_type": "stream",
     "text": [
      "not null\n",
      "7040000447210\n",
      "count 437\n",
      "https://omcs-global-customer-persister-ge4.omcs-nonprod.r1.pks.dell.com/omcs-global-customer-persister/v1/Dashboard/GetWorkflowSteps?dpid=7040000447210\n"
     ]
    },
    {
     "name": "stderr",
     "output_type": "stream",
     "text": [
      "C:\\Users\\Satpum\\AppData\\Local\\anaconda3\\Lib\\site-packages\\urllib3\\connectionpool.py:1056: InsecureRequestWarning: Unverified HTTPS request is being made to host 'omcs-global-customer-persister-ge4.omcs-nonprod.r1.pks.dell.com'. Adding certificate verification is strongly advised. See: https://urllib3.readthedocs.io/en/1.26.x/advanced-usage.html#ssl-warnings\n",
      "  warnings.warn(\n"
     ]
    },
    {
     "name": "stdout",
     "output_type": "stream",
     "text": [
      "not null\n",
      "7040000447209\n",
      "count 438\n",
      "https://omcs-global-customer-persister-ge4.omcs-nonprod.r1.pks.dell.com/omcs-global-customer-persister/v1/Dashboard/GetWorkflowSteps?dpid=7040000447209\n"
     ]
    },
    {
     "name": "stderr",
     "output_type": "stream",
     "text": [
      "C:\\Users\\Satpum\\AppData\\Local\\anaconda3\\Lib\\site-packages\\urllib3\\connectionpool.py:1056: InsecureRequestWarning: Unverified HTTPS request is being made to host 'omcs-global-customer-persister-ge4.omcs-nonprod.r1.pks.dell.com'. Adding certificate verification is strongly advised. See: https://urllib3.readthedocs.io/en/1.26.x/advanced-usage.html#ssl-warnings\n",
      "  warnings.warn(\n"
     ]
    },
    {
     "name": "stdout",
     "output_type": "stream",
     "text": [
      "not null\n",
      "7040000447208\n",
      "count 439\n",
      "https://omcs-global-customer-persister-ge4.omcs-nonprod.r1.pks.dell.com/omcs-global-customer-persister/v1/Dashboard/GetWorkflowSteps?dpid=7040000447208\n"
     ]
    },
    {
     "name": "stderr",
     "output_type": "stream",
     "text": [
      "C:\\Users\\Satpum\\AppData\\Local\\anaconda3\\Lib\\site-packages\\urllib3\\connectionpool.py:1056: InsecureRequestWarning: Unverified HTTPS request is being made to host 'omcs-global-customer-persister-ge4.omcs-nonprod.r1.pks.dell.com'. Adding certificate verification is strongly advised. See: https://urllib3.readthedocs.io/en/1.26.x/advanced-usage.html#ssl-warnings\n",
      "  warnings.warn(\n"
     ]
    },
    {
     "name": "stdout",
     "output_type": "stream",
     "text": [
      "not null\n",
      "7040000447207\n",
      "count 440\n",
      "https://omcs-global-customer-persister-ge4.omcs-nonprod.r1.pks.dell.com/omcs-global-customer-persister/v1/Dashboard/GetWorkflowSteps?dpid=7040000447207\n"
     ]
    },
    {
     "name": "stderr",
     "output_type": "stream",
     "text": [
      "C:\\Users\\Satpum\\AppData\\Local\\anaconda3\\Lib\\site-packages\\urllib3\\connectionpool.py:1056: InsecureRequestWarning: Unverified HTTPS request is being made to host 'omcs-global-customer-persister-ge4.omcs-nonprod.r1.pks.dell.com'. Adding certificate verification is strongly advised. See: https://urllib3.readthedocs.io/en/1.26.x/advanced-usage.html#ssl-warnings\n",
      "  warnings.warn(\n"
     ]
    },
    {
     "name": "stdout",
     "output_type": "stream",
     "text": [
      "not null\n",
      "7040000447206\n",
      "count 441\n",
      "https://omcs-global-customer-persister-ge4.omcs-nonprod.r1.pks.dell.com/omcs-global-customer-persister/v1/Dashboard/GetWorkflowSteps?dpid=7040000447206\n"
     ]
    },
    {
     "name": "stderr",
     "output_type": "stream",
     "text": [
      "C:\\Users\\Satpum\\AppData\\Local\\anaconda3\\Lib\\site-packages\\urllib3\\connectionpool.py:1056: InsecureRequestWarning: Unverified HTTPS request is being made to host 'omcs-global-customer-persister-ge4.omcs-nonprod.r1.pks.dell.com'. Adding certificate verification is strongly advised. See: https://urllib3.readthedocs.io/en/1.26.x/advanced-usage.html#ssl-warnings\n",
      "  warnings.warn(\n"
     ]
    },
    {
     "name": "stdout",
     "output_type": "stream",
     "text": [
      "not null\n",
      "7040000447205\n",
      "count 442\n",
      "https://omcs-global-customer-persister-ge4.omcs-nonprod.r1.pks.dell.com/omcs-global-customer-persister/v1/Dashboard/GetWorkflowSteps?dpid=7040000447205\n"
     ]
    },
    {
     "name": "stderr",
     "output_type": "stream",
     "text": [
      "C:\\Users\\Satpum\\AppData\\Local\\anaconda3\\Lib\\site-packages\\urllib3\\connectionpool.py:1056: InsecureRequestWarning: Unverified HTTPS request is being made to host 'omcs-global-customer-persister-ge4.omcs-nonprod.r1.pks.dell.com'. Adding certificate verification is strongly advised. See: https://urllib3.readthedocs.io/en/1.26.x/advanced-usage.html#ssl-warnings\n",
      "  warnings.warn(\n"
     ]
    },
    {
     "name": "stdout",
     "output_type": "stream",
     "text": [
      "not null\n",
      "7040000447204\n",
      "count 443\n",
      "https://omcs-global-customer-persister-ge4.omcs-nonprod.r1.pks.dell.com/omcs-global-customer-persister/v1/Dashboard/GetWorkflowSteps?dpid=7040000447204\n"
     ]
    },
    {
     "name": "stderr",
     "output_type": "stream",
     "text": [
      "C:\\Users\\Satpum\\AppData\\Local\\anaconda3\\Lib\\site-packages\\urllib3\\connectionpool.py:1056: InsecureRequestWarning: Unverified HTTPS request is being made to host 'omcs-global-customer-persister-ge4.omcs-nonprod.r1.pks.dell.com'. Adding certificate verification is strongly advised. See: https://urllib3.readthedocs.io/en/1.26.x/advanced-usage.html#ssl-warnings\n",
      "  warnings.warn(\n"
     ]
    },
    {
     "name": "stdout",
     "output_type": "stream",
     "text": [
      "not null\n",
      "7040000447203\n",
      "count 444\n",
      "https://omcs-global-customer-persister-ge4.omcs-nonprod.r1.pks.dell.com/omcs-global-customer-persister/v1/Dashboard/GetWorkflowSteps?dpid=7040000447203\n"
     ]
    },
    {
     "name": "stderr",
     "output_type": "stream",
     "text": [
      "C:\\Users\\Satpum\\AppData\\Local\\anaconda3\\Lib\\site-packages\\urllib3\\connectionpool.py:1056: InsecureRequestWarning: Unverified HTTPS request is being made to host 'omcs-global-customer-persister-ge4.omcs-nonprod.r1.pks.dell.com'. Adding certificate verification is strongly advised. See: https://urllib3.readthedocs.io/en/1.26.x/advanced-usage.html#ssl-warnings\n",
      "  warnings.warn(\n"
     ]
    },
    {
     "name": "stdout",
     "output_type": "stream",
     "text": [
      "not null\n",
      "7040000447202\n",
      "count 445\n",
      "https://omcs-global-customer-persister-ge4.omcs-nonprod.r1.pks.dell.com/omcs-global-customer-persister/v1/Dashboard/GetWorkflowSteps?dpid=7040000447202\n"
     ]
    },
    {
     "name": "stderr",
     "output_type": "stream",
     "text": [
      "C:\\Users\\Satpum\\AppData\\Local\\anaconda3\\Lib\\site-packages\\urllib3\\connectionpool.py:1056: InsecureRequestWarning: Unverified HTTPS request is being made to host 'omcs-global-customer-persister-ge4.omcs-nonprod.r1.pks.dell.com'. Adding certificate verification is strongly advised. See: https://urllib3.readthedocs.io/en/1.26.x/advanced-usage.html#ssl-warnings\n",
      "  warnings.warn(\n"
     ]
    },
    {
     "name": "stdout",
     "output_type": "stream",
     "text": [
      "not null\n",
      "7040000447201\n",
      "count 446\n",
      "https://omcs-global-customer-persister-ge4.omcs-nonprod.r1.pks.dell.com/omcs-global-customer-persister/v1/Dashboard/GetWorkflowSteps?dpid=7040000447201\n"
     ]
    },
    {
     "name": "stderr",
     "output_type": "stream",
     "text": [
      "C:\\Users\\Satpum\\AppData\\Local\\anaconda3\\Lib\\site-packages\\urllib3\\connectionpool.py:1056: InsecureRequestWarning: Unverified HTTPS request is being made to host 'omcs-global-customer-persister-ge4.omcs-nonprod.r1.pks.dell.com'. Adding certificate verification is strongly advised. See: https://urllib3.readthedocs.io/en/1.26.x/advanced-usage.html#ssl-warnings\n",
      "  warnings.warn(\n"
     ]
    },
    {
     "name": "stdout",
     "output_type": "stream",
     "text": [
      "not null\n",
      "7040000447200\n",
      "count 447\n",
      "https://omcs-global-customer-persister-ge4.omcs-nonprod.r1.pks.dell.com/omcs-global-customer-persister/v1/Dashboard/GetWorkflowSteps?dpid=7040000447200\n"
     ]
    },
    {
     "name": "stderr",
     "output_type": "stream",
     "text": [
      "C:\\Users\\Satpum\\AppData\\Local\\anaconda3\\Lib\\site-packages\\urllib3\\connectionpool.py:1056: InsecureRequestWarning: Unverified HTTPS request is being made to host 'omcs-global-customer-persister-ge4.omcs-nonprod.r1.pks.dell.com'. Adding certificate verification is strongly advised. See: https://urllib3.readthedocs.io/en/1.26.x/advanced-usage.html#ssl-warnings\n",
      "  warnings.warn(\n"
     ]
    },
    {
     "name": "stdout",
     "output_type": "stream",
     "text": [
      "not null\n",
      "7040000447199\n",
      "count 448\n",
      "https://omcs-global-customer-persister-ge4.omcs-nonprod.r1.pks.dell.com/omcs-global-customer-persister/v1/Dashboard/GetWorkflowSteps?dpid=7040000447199\n"
     ]
    },
    {
     "name": "stderr",
     "output_type": "stream",
     "text": [
      "C:\\Users\\Satpum\\AppData\\Local\\anaconda3\\Lib\\site-packages\\urllib3\\connectionpool.py:1056: InsecureRequestWarning: Unverified HTTPS request is being made to host 'omcs-global-customer-persister-ge4.omcs-nonprod.r1.pks.dell.com'. Adding certificate verification is strongly advised. See: https://urllib3.readthedocs.io/en/1.26.x/advanced-usage.html#ssl-warnings\n",
      "  warnings.warn(\n"
     ]
    },
    {
     "name": "stdout",
     "output_type": "stream",
     "text": [
      "not null\n",
      "7040000447198\n",
      "count 449\n",
      "https://omcs-global-customer-persister-ge4.omcs-nonprod.r1.pks.dell.com/omcs-global-customer-persister/v1/Dashboard/GetWorkflowSteps?dpid=7040000447198\n"
     ]
    },
    {
     "name": "stderr",
     "output_type": "stream",
     "text": [
      "C:\\Users\\Satpum\\AppData\\Local\\anaconda3\\Lib\\site-packages\\urllib3\\connectionpool.py:1056: InsecureRequestWarning: Unverified HTTPS request is being made to host 'omcs-global-customer-persister-ge4.omcs-nonprod.r1.pks.dell.com'. Adding certificate verification is strongly advised. See: https://urllib3.readthedocs.io/en/1.26.x/advanced-usage.html#ssl-warnings\n",
      "  warnings.warn(\n"
     ]
    },
    {
     "name": "stdout",
     "output_type": "stream",
     "text": [
      "not null\n",
      "7040000447197\n",
      "count 450\n",
      "https://omcs-global-customer-persister-ge4.omcs-nonprod.r1.pks.dell.com/omcs-global-customer-persister/v1/Dashboard/GetWorkflowSteps?dpid=7040000447197\n"
     ]
    },
    {
     "name": "stderr",
     "output_type": "stream",
     "text": [
      "C:\\Users\\Satpum\\AppData\\Local\\anaconda3\\Lib\\site-packages\\urllib3\\connectionpool.py:1056: InsecureRequestWarning: Unverified HTTPS request is being made to host 'omcs-global-customer-persister-ge4.omcs-nonprod.r1.pks.dell.com'. Adding certificate verification is strongly advised. See: https://urllib3.readthedocs.io/en/1.26.x/advanced-usage.html#ssl-warnings\n",
      "  warnings.warn(\n"
     ]
    },
    {
     "name": "stdout",
     "output_type": "stream",
     "text": [
      "not null\n",
      "7040000447196\n",
      "count 451\n",
      "https://omcs-global-customer-persister-ge4.omcs-nonprod.r1.pks.dell.com/omcs-global-customer-persister/v1/Dashboard/GetWorkflowSteps?dpid=7040000447196\n"
     ]
    },
    {
     "name": "stderr",
     "output_type": "stream",
     "text": [
      "C:\\Users\\Satpum\\AppData\\Local\\anaconda3\\Lib\\site-packages\\urllib3\\connectionpool.py:1056: InsecureRequestWarning: Unverified HTTPS request is being made to host 'omcs-global-customer-persister-ge4.omcs-nonprod.r1.pks.dell.com'. Adding certificate verification is strongly advised. See: https://urllib3.readthedocs.io/en/1.26.x/advanced-usage.html#ssl-warnings\n",
      "  warnings.warn(\n"
     ]
    },
    {
     "name": "stdout",
     "output_type": "stream",
     "text": [
      "not null\n",
      "7040000447195\n",
      "count 452\n",
      "https://omcs-global-customer-persister-ge4.omcs-nonprod.r1.pks.dell.com/omcs-global-customer-persister/v1/Dashboard/GetWorkflowSteps?dpid=7040000447195\n"
     ]
    },
    {
     "name": "stderr",
     "output_type": "stream",
     "text": [
      "C:\\Users\\Satpum\\AppData\\Local\\anaconda3\\Lib\\site-packages\\urllib3\\connectionpool.py:1056: InsecureRequestWarning: Unverified HTTPS request is being made to host 'omcs-global-customer-persister-ge4.omcs-nonprod.r1.pks.dell.com'. Adding certificate verification is strongly advised. See: https://urllib3.readthedocs.io/en/1.26.x/advanced-usage.html#ssl-warnings\n",
      "  warnings.warn(\n"
     ]
    },
    {
     "name": "stdout",
     "output_type": "stream",
     "text": [
      "not null\n",
      "7040000447194\n",
      "count 453\n",
      "https://omcs-global-customer-persister-ge4.omcs-nonprod.r1.pks.dell.com/omcs-global-customer-persister/v1/Dashboard/GetWorkflowSteps?dpid=7040000447194\n"
     ]
    },
    {
     "name": "stderr",
     "output_type": "stream",
     "text": [
      "C:\\Users\\Satpum\\AppData\\Local\\anaconda3\\Lib\\site-packages\\urllib3\\connectionpool.py:1056: InsecureRequestWarning: Unverified HTTPS request is being made to host 'omcs-global-customer-persister-ge4.omcs-nonprod.r1.pks.dell.com'. Adding certificate verification is strongly advised. See: https://urllib3.readthedocs.io/en/1.26.x/advanced-usage.html#ssl-warnings\n",
      "  warnings.warn(\n"
     ]
    },
    {
     "name": "stdout",
     "output_type": "stream",
     "text": [
      "not null\n",
      "7040000447193\n",
      "count 454\n",
      "https://omcs-global-customer-persister-ge4.omcs-nonprod.r1.pks.dell.com/omcs-global-customer-persister/v1/Dashboard/GetWorkflowSteps?dpid=7040000447193\n"
     ]
    },
    {
     "name": "stderr",
     "output_type": "stream",
     "text": [
      "C:\\Users\\Satpum\\AppData\\Local\\anaconda3\\Lib\\site-packages\\urllib3\\connectionpool.py:1056: InsecureRequestWarning: Unverified HTTPS request is being made to host 'omcs-global-customer-persister-ge4.omcs-nonprod.r1.pks.dell.com'. Adding certificate verification is strongly advised. See: https://urllib3.readthedocs.io/en/1.26.x/advanced-usage.html#ssl-warnings\n",
      "  warnings.warn(\n"
     ]
    },
    {
     "name": "stdout",
     "output_type": "stream",
     "text": [
      "not null\n",
      "7040000447192\n",
      "count 455\n",
      "https://omcs-global-customer-persister-ge4.omcs-nonprod.r1.pks.dell.com/omcs-global-customer-persister/v1/Dashboard/GetWorkflowSteps?dpid=7040000447192\n"
     ]
    },
    {
     "name": "stderr",
     "output_type": "stream",
     "text": [
      "C:\\Users\\Satpum\\AppData\\Local\\anaconda3\\Lib\\site-packages\\urllib3\\connectionpool.py:1056: InsecureRequestWarning: Unverified HTTPS request is being made to host 'omcs-global-customer-persister-ge4.omcs-nonprod.r1.pks.dell.com'. Adding certificate verification is strongly advised. See: https://urllib3.readthedocs.io/en/1.26.x/advanced-usage.html#ssl-warnings\n",
      "  warnings.warn(\n"
     ]
    },
    {
     "name": "stdout",
     "output_type": "stream",
     "text": [
      "not null\n",
      "7040000447191\n",
      "count 456\n",
      "https://omcs-global-customer-persister-ge4.omcs-nonprod.r1.pks.dell.com/omcs-global-customer-persister/v1/Dashboard/GetWorkflowSteps?dpid=7040000447191\n"
     ]
    },
    {
     "name": "stderr",
     "output_type": "stream",
     "text": [
      "C:\\Users\\Satpum\\AppData\\Local\\anaconda3\\Lib\\site-packages\\urllib3\\connectionpool.py:1056: InsecureRequestWarning: Unverified HTTPS request is being made to host 'omcs-global-customer-persister-ge4.omcs-nonprod.r1.pks.dell.com'. Adding certificate verification is strongly advised. See: https://urllib3.readthedocs.io/en/1.26.x/advanced-usage.html#ssl-warnings\n",
      "  warnings.warn(\n"
     ]
    },
    {
     "name": "stdout",
     "output_type": "stream",
     "text": [
      "not null\n",
      "7040000447190\n",
      "count 457\n",
      "https://omcs-global-customer-persister-ge4.omcs-nonprod.r1.pks.dell.com/omcs-global-customer-persister/v1/Dashboard/GetWorkflowSteps?dpid=7040000447190\n"
     ]
    },
    {
     "name": "stderr",
     "output_type": "stream",
     "text": [
      "C:\\Users\\Satpum\\AppData\\Local\\anaconda3\\Lib\\site-packages\\urllib3\\connectionpool.py:1056: InsecureRequestWarning: Unverified HTTPS request is being made to host 'omcs-global-customer-persister-ge4.omcs-nonprod.r1.pks.dell.com'. Adding certificate verification is strongly advised. See: https://urllib3.readthedocs.io/en/1.26.x/advanced-usage.html#ssl-warnings\n",
      "  warnings.warn(\n"
     ]
    },
    {
     "name": "stdout",
     "output_type": "stream",
     "text": [
      "not null\n",
      "7040000447189\n",
      "count 458\n",
      "https://omcs-global-customer-persister-ge4.omcs-nonprod.r1.pks.dell.com/omcs-global-customer-persister/v1/Dashboard/GetWorkflowSteps?dpid=7040000447189\n"
     ]
    },
    {
     "name": "stderr",
     "output_type": "stream",
     "text": [
      "C:\\Users\\Satpum\\AppData\\Local\\anaconda3\\Lib\\site-packages\\urllib3\\connectionpool.py:1056: InsecureRequestWarning: Unverified HTTPS request is being made to host 'omcs-global-customer-persister-ge4.omcs-nonprod.r1.pks.dell.com'. Adding certificate verification is strongly advised. See: https://urllib3.readthedocs.io/en/1.26.x/advanced-usage.html#ssl-warnings\n",
      "  warnings.warn(\n"
     ]
    },
    {
     "name": "stdout",
     "output_type": "stream",
     "text": [
      "not null\n",
      "7040000447188\n",
      "count 459\n",
      "https://omcs-global-customer-persister-ge4.omcs-nonprod.r1.pks.dell.com/omcs-global-customer-persister/v1/Dashboard/GetWorkflowSteps?dpid=7040000447188\n"
     ]
    },
    {
     "name": "stderr",
     "output_type": "stream",
     "text": [
      "C:\\Users\\Satpum\\AppData\\Local\\anaconda3\\Lib\\site-packages\\urllib3\\connectionpool.py:1056: InsecureRequestWarning: Unverified HTTPS request is being made to host 'omcs-global-customer-persister-ge4.omcs-nonprod.r1.pks.dell.com'. Adding certificate verification is strongly advised. See: https://urllib3.readthedocs.io/en/1.26.x/advanced-usage.html#ssl-warnings\n",
      "  warnings.warn(\n"
     ]
    },
    {
     "name": "stdout",
     "output_type": "stream",
     "text": [
      "not null\n",
      "7040000447187\n",
      "count 460\n",
      "https://omcs-global-customer-persister-ge4.omcs-nonprod.r1.pks.dell.com/omcs-global-customer-persister/v1/Dashboard/GetWorkflowSteps?dpid=7040000447187\n"
     ]
    },
    {
     "name": "stderr",
     "output_type": "stream",
     "text": [
      "C:\\Users\\Satpum\\AppData\\Local\\anaconda3\\Lib\\site-packages\\urllib3\\connectionpool.py:1056: InsecureRequestWarning: Unverified HTTPS request is being made to host 'omcs-global-customer-persister-ge4.omcs-nonprod.r1.pks.dell.com'. Adding certificate verification is strongly advised. See: https://urllib3.readthedocs.io/en/1.26.x/advanced-usage.html#ssl-warnings\n",
      "  warnings.warn(\n"
     ]
    },
    {
     "name": "stdout",
     "output_type": "stream",
     "text": [
      "not null\n",
      "7040000447186\n",
      "count 461\n",
      "https://omcs-global-customer-persister-ge4.omcs-nonprod.r1.pks.dell.com/omcs-global-customer-persister/v1/Dashboard/GetWorkflowSteps?dpid=7040000447186\n"
     ]
    },
    {
     "name": "stderr",
     "output_type": "stream",
     "text": [
      "C:\\Users\\Satpum\\AppData\\Local\\anaconda3\\Lib\\site-packages\\urllib3\\connectionpool.py:1056: InsecureRequestWarning: Unverified HTTPS request is being made to host 'omcs-global-customer-persister-ge4.omcs-nonprod.r1.pks.dell.com'. Adding certificate verification is strongly advised. See: https://urllib3.readthedocs.io/en/1.26.x/advanced-usage.html#ssl-warnings\n",
      "  warnings.warn(\n"
     ]
    },
    {
     "name": "stdout",
     "output_type": "stream",
     "text": [
      "not null\n",
      "7040000447185\n",
      "count 462\n",
      "https://omcs-global-customer-persister-ge4.omcs-nonprod.r1.pks.dell.com/omcs-global-customer-persister/v1/Dashboard/GetWorkflowSteps?dpid=7040000447185\n"
     ]
    },
    {
     "name": "stderr",
     "output_type": "stream",
     "text": [
      "C:\\Users\\Satpum\\AppData\\Local\\anaconda3\\Lib\\site-packages\\urllib3\\connectionpool.py:1056: InsecureRequestWarning: Unverified HTTPS request is being made to host 'omcs-global-customer-persister-ge4.omcs-nonprod.r1.pks.dell.com'. Adding certificate verification is strongly advised. See: https://urllib3.readthedocs.io/en/1.26.x/advanced-usage.html#ssl-warnings\n",
      "  warnings.warn(\n"
     ]
    },
    {
     "name": "stdout",
     "output_type": "stream",
     "text": [
      "not null\n",
      "7040000447184\n",
      "count 463\n",
      "https://omcs-global-customer-persister-ge4.omcs-nonprod.r1.pks.dell.com/omcs-global-customer-persister/v1/Dashboard/GetWorkflowSteps?dpid=7040000447184\n"
     ]
    },
    {
     "name": "stderr",
     "output_type": "stream",
     "text": [
      "C:\\Users\\Satpum\\AppData\\Local\\anaconda3\\Lib\\site-packages\\urllib3\\connectionpool.py:1056: InsecureRequestWarning: Unverified HTTPS request is being made to host 'omcs-global-customer-persister-ge4.omcs-nonprod.r1.pks.dell.com'. Adding certificate verification is strongly advised. See: https://urllib3.readthedocs.io/en/1.26.x/advanced-usage.html#ssl-warnings\n",
      "  warnings.warn(\n"
     ]
    },
    {
     "name": "stdout",
     "output_type": "stream",
     "text": [
      "not null\n",
      "7040000447183\n",
      "count 464\n",
      "https://omcs-global-customer-persister-ge4.omcs-nonprod.r1.pks.dell.com/omcs-global-customer-persister/v1/Dashboard/GetWorkflowSteps?dpid=7040000447183\n"
     ]
    },
    {
     "name": "stderr",
     "output_type": "stream",
     "text": [
      "C:\\Users\\Satpum\\AppData\\Local\\anaconda3\\Lib\\site-packages\\urllib3\\connectionpool.py:1056: InsecureRequestWarning: Unverified HTTPS request is being made to host 'omcs-global-customer-persister-ge4.omcs-nonprod.r1.pks.dell.com'. Adding certificate verification is strongly advised. See: https://urllib3.readthedocs.io/en/1.26.x/advanced-usage.html#ssl-warnings\n",
      "  warnings.warn(\n"
     ]
    },
    {
     "name": "stdout",
     "output_type": "stream",
     "text": [
      "null7040000447183\n",
      "7040000447182\n",
      "count 465\n",
      "https://omcs-global-customer-persister-ge4.omcs-nonprod.r1.pks.dell.com/omcs-global-customer-persister/v1/Dashboard/GetWorkflowSteps?dpid=7040000447182\n"
     ]
    },
    {
     "name": "stderr",
     "output_type": "stream",
     "text": [
      "C:\\Users\\Satpum\\AppData\\Local\\anaconda3\\Lib\\site-packages\\urllib3\\connectionpool.py:1056: InsecureRequestWarning: Unverified HTTPS request is being made to host 'omcs-global-customer-persister-ge4.omcs-nonprod.r1.pks.dell.com'. Adding certificate verification is strongly advised. See: https://urllib3.readthedocs.io/en/1.26.x/advanced-usage.html#ssl-warnings\n",
      "  warnings.warn(\n"
     ]
    },
    {
     "name": "stdout",
     "output_type": "stream",
     "text": [
      "not null\n",
      "7040000447181\n",
      "count 466\n",
      "https://omcs-global-customer-persister-ge4.omcs-nonprod.r1.pks.dell.com/omcs-global-customer-persister/v1/Dashboard/GetWorkflowSteps?dpid=7040000447181\n"
     ]
    },
    {
     "name": "stderr",
     "output_type": "stream",
     "text": [
      "C:\\Users\\Satpum\\AppData\\Local\\anaconda3\\Lib\\site-packages\\urllib3\\connectionpool.py:1056: InsecureRequestWarning: Unverified HTTPS request is being made to host 'omcs-global-customer-persister-ge4.omcs-nonprod.r1.pks.dell.com'. Adding certificate verification is strongly advised. See: https://urllib3.readthedocs.io/en/1.26.x/advanced-usage.html#ssl-warnings\n",
      "  warnings.warn(\n"
     ]
    },
    {
     "name": "stdout",
     "output_type": "stream",
     "text": [
      "not null\n",
      "7040000447180\n",
      "count 467\n",
      "https://omcs-global-customer-persister-ge4.omcs-nonprod.r1.pks.dell.com/omcs-global-customer-persister/v1/Dashboard/GetWorkflowSteps?dpid=7040000447180\n"
     ]
    },
    {
     "name": "stderr",
     "output_type": "stream",
     "text": [
      "C:\\Users\\Satpum\\AppData\\Local\\anaconda3\\Lib\\site-packages\\urllib3\\connectionpool.py:1056: InsecureRequestWarning: Unverified HTTPS request is being made to host 'omcs-global-customer-persister-ge4.omcs-nonprod.r1.pks.dell.com'. Adding certificate verification is strongly advised. See: https://urllib3.readthedocs.io/en/1.26.x/advanced-usage.html#ssl-warnings\n",
      "  warnings.warn(\n"
     ]
    },
    {
     "name": "stdout",
     "output_type": "stream",
     "text": [
      "not null\n",
      "7040000447179\n",
      "count 468\n",
      "https://omcs-global-customer-persister-ge4.omcs-nonprod.r1.pks.dell.com/omcs-global-customer-persister/v1/Dashboard/GetWorkflowSteps?dpid=7040000447179\n"
     ]
    },
    {
     "name": "stderr",
     "output_type": "stream",
     "text": [
      "C:\\Users\\Satpum\\AppData\\Local\\anaconda3\\Lib\\site-packages\\urllib3\\connectionpool.py:1056: InsecureRequestWarning: Unverified HTTPS request is being made to host 'omcs-global-customer-persister-ge4.omcs-nonprod.r1.pks.dell.com'. Adding certificate verification is strongly advised. See: https://urllib3.readthedocs.io/en/1.26.x/advanced-usage.html#ssl-warnings\n",
      "  warnings.warn(\n"
     ]
    },
    {
     "name": "stdout",
     "output_type": "stream",
     "text": [
      "null7040000447179\n",
      "7040000447178\n",
      "count 469\n",
      "https://omcs-global-customer-persister-ge4.omcs-nonprod.r1.pks.dell.com/omcs-global-customer-persister/v1/Dashboard/GetWorkflowSteps?dpid=7040000447178\n"
     ]
    },
    {
     "name": "stderr",
     "output_type": "stream",
     "text": [
      "C:\\Users\\Satpum\\AppData\\Local\\anaconda3\\Lib\\site-packages\\urllib3\\connectionpool.py:1056: InsecureRequestWarning: Unverified HTTPS request is being made to host 'omcs-global-customer-persister-ge4.omcs-nonprod.r1.pks.dell.com'. Adding certificate verification is strongly advised. See: https://urllib3.readthedocs.io/en/1.26.x/advanced-usage.html#ssl-warnings\n",
      "  warnings.warn(\n"
     ]
    },
    {
     "name": "stdout",
     "output_type": "stream",
     "text": [
      "not null\n",
      "7040000447177\n",
      "count 470\n",
      "https://omcs-global-customer-persister-ge4.omcs-nonprod.r1.pks.dell.com/omcs-global-customer-persister/v1/Dashboard/GetWorkflowSteps?dpid=7040000447177\n"
     ]
    },
    {
     "name": "stderr",
     "output_type": "stream",
     "text": [
      "C:\\Users\\Satpum\\AppData\\Local\\anaconda3\\Lib\\site-packages\\urllib3\\connectionpool.py:1056: InsecureRequestWarning: Unverified HTTPS request is being made to host 'omcs-global-customer-persister-ge4.omcs-nonprod.r1.pks.dell.com'. Adding certificate verification is strongly advised. See: https://urllib3.readthedocs.io/en/1.26.x/advanced-usage.html#ssl-warnings\n",
      "  warnings.warn(\n"
     ]
    },
    {
     "name": "stdout",
     "output_type": "stream",
     "text": [
      "not null\n",
      "7040000447176\n",
      "count 471\n",
      "https://omcs-global-customer-persister-ge4.omcs-nonprod.r1.pks.dell.com/omcs-global-customer-persister/v1/Dashboard/GetWorkflowSteps?dpid=7040000447176\n"
     ]
    },
    {
     "name": "stderr",
     "output_type": "stream",
     "text": [
      "C:\\Users\\Satpum\\AppData\\Local\\anaconda3\\Lib\\site-packages\\urllib3\\connectionpool.py:1056: InsecureRequestWarning: Unverified HTTPS request is being made to host 'omcs-global-customer-persister-ge4.omcs-nonprod.r1.pks.dell.com'. Adding certificate verification is strongly advised. See: https://urllib3.readthedocs.io/en/1.26.x/advanced-usage.html#ssl-warnings\n",
      "  warnings.warn(\n"
     ]
    },
    {
     "name": "stdout",
     "output_type": "stream",
     "text": [
      "not null\n",
      "7040000447175\n",
      "count 472\n",
      "https://omcs-global-customer-persister-ge4.omcs-nonprod.r1.pks.dell.com/omcs-global-customer-persister/v1/Dashboard/GetWorkflowSteps?dpid=7040000447175\n"
     ]
    },
    {
     "name": "stderr",
     "output_type": "stream",
     "text": [
      "C:\\Users\\Satpum\\AppData\\Local\\anaconda3\\Lib\\site-packages\\urllib3\\connectionpool.py:1056: InsecureRequestWarning: Unverified HTTPS request is being made to host 'omcs-global-customer-persister-ge4.omcs-nonprod.r1.pks.dell.com'. Adding certificate verification is strongly advised. See: https://urllib3.readthedocs.io/en/1.26.x/advanced-usage.html#ssl-warnings\n",
      "  warnings.warn(\n"
     ]
    },
    {
     "name": "stdout",
     "output_type": "stream",
     "text": [
      "not null\n",
      "7040000447174\n",
      "count 473\n",
      "https://omcs-global-customer-persister-ge4.omcs-nonprod.r1.pks.dell.com/omcs-global-customer-persister/v1/Dashboard/GetWorkflowSteps?dpid=7040000447174\n"
     ]
    },
    {
     "name": "stderr",
     "output_type": "stream",
     "text": [
      "C:\\Users\\Satpum\\AppData\\Local\\anaconda3\\Lib\\site-packages\\urllib3\\connectionpool.py:1056: InsecureRequestWarning: Unverified HTTPS request is being made to host 'omcs-global-customer-persister-ge4.omcs-nonprod.r1.pks.dell.com'. Adding certificate verification is strongly advised. See: https://urllib3.readthedocs.io/en/1.26.x/advanced-usage.html#ssl-warnings\n",
      "  warnings.warn(\n"
     ]
    },
    {
     "name": "stdout",
     "output_type": "stream",
     "text": [
      "not null\n",
      "7040000447173\n",
      "count 474\n",
      "https://omcs-global-customer-persister-ge4.omcs-nonprod.r1.pks.dell.com/omcs-global-customer-persister/v1/Dashboard/GetWorkflowSteps?dpid=7040000447173\n"
     ]
    },
    {
     "name": "stderr",
     "output_type": "stream",
     "text": [
      "C:\\Users\\Satpum\\AppData\\Local\\anaconda3\\Lib\\site-packages\\urllib3\\connectionpool.py:1056: InsecureRequestWarning: Unverified HTTPS request is being made to host 'omcs-global-customer-persister-ge4.omcs-nonprod.r1.pks.dell.com'. Adding certificate verification is strongly advised. See: https://urllib3.readthedocs.io/en/1.26.x/advanced-usage.html#ssl-warnings\n",
      "  warnings.warn(\n"
     ]
    },
    {
     "name": "stdout",
     "output_type": "stream",
     "text": [
      "not null\n",
      "7040000447172\n",
      "count 475\n",
      "https://omcs-global-customer-persister-ge4.omcs-nonprod.r1.pks.dell.com/omcs-global-customer-persister/v1/Dashboard/GetWorkflowSteps?dpid=7040000447172\n"
     ]
    },
    {
     "name": "stderr",
     "output_type": "stream",
     "text": [
      "C:\\Users\\Satpum\\AppData\\Local\\anaconda3\\Lib\\site-packages\\urllib3\\connectionpool.py:1056: InsecureRequestWarning: Unverified HTTPS request is being made to host 'omcs-global-customer-persister-ge4.omcs-nonprod.r1.pks.dell.com'. Adding certificate verification is strongly advised. See: https://urllib3.readthedocs.io/en/1.26.x/advanced-usage.html#ssl-warnings\n",
      "  warnings.warn(\n"
     ]
    },
    {
     "name": "stdout",
     "output_type": "stream",
     "text": [
      "not null\n",
      "7040000447171\n",
      "count 476\n",
      "https://omcs-global-customer-persister-ge4.omcs-nonprod.r1.pks.dell.com/omcs-global-customer-persister/v1/Dashboard/GetWorkflowSteps?dpid=7040000447171\n"
     ]
    },
    {
     "name": "stderr",
     "output_type": "stream",
     "text": [
      "C:\\Users\\Satpum\\AppData\\Local\\anaconda3\\Lib\\site-packages\\urllib3\\connectionpool.py:1056: InsecureRequestWarning: Unverified HTTPS request is being made to host 'omcs-global-customer-persister-ge4.omcs-nonprod.r1.pks.dell.com'. Adding certificate verification is strongly advised. See: https://urllib3.readthedocs.io/en/1.26.x/advanced-usage.html#ssl-warnings\n",
      "  warnings.warn(\n"
     ]
    },
    {
     "name": "stdout",
     "output_type": "stream",
     "text": [
      "not null\n",
      "7040000447170\n",
      "count 477\n",
      "https://omcs-global-customer-persister-ge4.omcs-nonprod.r1.pks.dell.com/omcs-global-customer-persister/v1/Dashboard/GetWorkflowSteps?dpid=7040000447170\n"
     ]
    },
    {
     "name": "stderr",
     "output_type": "stream",
     "text": [
      "C:\\Users\\Satpum\\AppData\\Local\\anaconda3\\Lib\\site-packages\\urllib3\\connectionpool.py:1056: InsecureRequestWarning: Unverified HTTPS request is being made to host 'omcs-global-customer-persister-ge4.omcs-nonprod.r1.pks.dell.com'. Adding certificate verification is strongly advised. See: https://urllib3.readthedocs.io/en/1.26.x/advanced-usage.html#ssl-warnings\n",
      "  warnings.warn(\n"
     ]
    },
    {
     "name": "stdout",
     "output_type": "stream",
     "text": [
      "null7040000447170\n",
      "7040000447169\n",
      "count 478\n",
      "https://omcs-global-customer-persister-ge4.omcs-nonprod.r1.pks.dell.com/omcs-global-customer-persister/v1/Dashboard/GetWorkflowSteps?dpid=7040000447169\n"
     ]
    },
    {
     "name": "stderr",
     "output_type": "stream",
     "text": [
      "C:\\Users\\Satpum\\AppData\\Local\\anaconda3\\Lib\\site-packages\\urllib3\\connectionpool.py:1056: InsecureRequestWarning: Unverified HTTPS request is being made to host 'omcs-global-customer-persister-ge4.omcs-nonprod.r1.pks.dell.com'. Adding certificate verification is strongly advised. See: https://urllib3.readthedocs.io/en/1.26.x/advanced-usage.html#ssl-warnings\n",
      "  warnings.warn(\n"
     ]
    },
    {
     "name": "stdout",
     "output_type": "stream",
     "text": [
      "null7040000447169\n",
      "7040000447168\n",
      "count 479\n",
      "https://omcs-global-customer-persister-ge4.omcs-nonprod.r1.pks.dell.com/omcs-global-customer-persister/v1/Dashboard/GetWorkflowSteps?dpid=7040000447168\n"
     ]
    },
    {
     "name": "stderr",
     "output_type": "stream",
     "text": [
      "C:\\Users\\Satpum\\AppData\\Local\\anaconda3\\Lib\\site-packages\\urllib3\\connectionpool.py:1056: InsecureRequestWarning: Unverified HTTPS request is being made to host 'omcs-global-customer-persister-ge4.omcs-nonprod.r1.pks.dell.com'. Adding certificate verification is strongly advised. See: https://urllib3.readthedocs.io/en/1.26.x/advanced-usage.html#ssl-warnings\n",
      "  warnings.warn(\n"
     ]
    },
    {
     "name": "stdout",
     "output_type": "stream",
     "text": [
      "null7040000447168\n",
      "7040000447167\n",
      "count 480\n",
      "https://omcs-global-customer-persister-ge4.omcs-nonprod.r1.pks.dell.com/omcs-global-customer-persister/v1/Dashboard/GetWorkflowSteps?dpid=7040000447167\n"
     ]
    },
    {
     "name": "stderr",
     "output_type": "stream",
     "text": [
      "C:\\Users\\Satpum\\AppData\\Local\\anaconda3\\Lib\\site-packages\\urllib3\\connectionpool.py:1056: InsecureRequestWarning: Unverified HTTPS request is being made to host 'omcs-global-customer-persister-ge4.omcs-nonprod.r1.pks.dell.com'. Adding certificate verification is strongly advised. See: https://urllib3.readthedocs.io/en/1.26.x/advanced-usage.html#ssl-warnings\n",
      "  warnings.warn(\n"
     ]
    },
    {
     "name": "stdout",
     "output_type": "stream",
     "text": [
      "not null\n",
      "7040000447166\n",
      "count 481\n",
      "https://omcs-global-customer-persister-ge4.omcs-nonprod.r1.pks.dell.com/omcs-global-customer-persister/v1/Dashboard/GetWorkflowSteps?dpid=7040000447166\n"
     ]
    },
    {
     "name": "stderr",
     "output_type": "stream",
     "text": [
      "C:\\Users\\Satpum\\AppData\\Local\\anaconda3\\Lib\\site-packages\\urllib3\\connectionpool.py:1056: InsecureRequestWarning: Unverified HTTPS request is being made to host 'omcs-global-customer-persister-ge4.omcs-nonprod.r1.pks.dell.com'. Adding certificate verification is strongly advised. See: https://urllib3.readthedocs.io/en/1.26.x/advanced-usage.html#ssl-warnings\n",
      "  warnings.warn(\n"
     ]
    },
    {
     "name": "stdout",
     "output_type": "stream",
     "text": [
      "null7040000447166\n",
      "7040000447165\n",
      "count 482\n",
      "https://omcs-global-customer-persister-ge4.omcs-nonprod.r1.pks.dell.com/omcs-global-customer-persister/v1/Dashboard/GetWorkflowSteps?dpid=7040000447165\n"
     ]
    },
    {
     "name": "stderr",
     "output_type": "stream",
     "text": [
      "C:\\Users\\Satpum\\AppData\\Local\\anaconda3\\Lib\\site-packages\\urllib3\\connectionpool.py:1056: InsecureRequestWarning: Unverified HTTPS request is being made to host 'omcs-global-customer-persister-ge4.omcs-nonprod.r1.pks.dell.com'. Adding certificate verification is strongly advised. See: https://urllib3.readthedocs.io/en/1.26.x/advanced-usage.html#ssl-warnings\n",
      "  warnings.warn(\n"
     ]
    },
    {
     "name": "stdout",
     "output_type": "stream",
     "text": [
      "not null\n",
      "7040000447164\n",
      "count 483\n",
      "https://omcs-global-customer-persister-ge4.omcs-nonprod.r1.pks.dell.com/omcs-global-customer-persister/v1/Dashboard/GetWorkflowSteps?dpid=7040000447164\n"
     ]
    },
    {
     "name": "stderr",
     "output_type": "stream",
     "text": [
      "C:\\Users\\Satpum\\AppData\\Local\\anaconda3\\Lib\\site-packages\\urllib3\\connectionpool.py:1056: InsecureRequestWarning: Unverified HTTPS request is being made to host 'omcs-global-customer-persister-ge4.omcs-nonprod.r1.pks.dell.com'. Adding certificate verification is strongly advised. See: https://urllib3.readthedocs.io/en/1.26.x/advanced-usage.html#ssl-warnings\n",
      "  warnings.warn(\n"
     ]
    },
    {
     "name": "stdout",
     "output_type": "stream",
     "text": [
      "not null\n",
      "7040000447163\n",
      "count 484\n",
      "https://omcs-global-customer-persister-ge4.omcs-nonprod.r1.pks.dell.com/omcs-global-customer-persister/v1/Dashboard/GetWorkflowSteps?dpid=7040000447163\n"
     ]
    },
    {
     "name": "stderr",
     "output_type": "stream",
     "text": [
      "C:\\Users\\Satpum\\AppData\\Local\\anaconda3\\Lib\\site-packages\\urllib3\\connectionpool.py:1056: InsecureRequestWarning: Unverified HTTPS request is being made to host 'omcs-global-customer-persister-ge4.omcs-nonprod.r1.pks.dell.com'. Adding certificate verification is strongly advised. See: https://urllib3.readthedocs.io/en/1.26.x/advanced-usage.html#ssl-warnings\n",
      "  warnings.warn(\n"
     ]
    },
    {
     "name": "stdout",
     "output_type": "stream",
     "text": [
      "not null\n",
      "7040000447162\n",
      "count 485\n",
      "https://omcs-global-customer-persister-ge4.omcs-nonprod.r1.pks.dell.com/omcs-global-customer-persister/v1/Dashboard/GetWorkflowSteps?dpid=7040000447162\n"
     ]
    },
    {
     "name": "stderr",
     "output_type": "stream",
     "text": [
      "C:\\Users\\Satpum\\AppData\\Local\\anaconda3\\Lib\\site-packages\\urllib3\\connectionpool.py:1056: InsecureRequestWarning: Unverified HTTPS request is being made to host 'omcs-global-customer-persister-ge4.omcs-nonprod.r1.pks.dell.com'. Adding certificate verification is strongly advised. See: https://urllib3.readthedocs.io/en/1.26.x/advanced-usage.html#ssl-warnings\n",
      "  warnings.warn(\n"
     ]
    },
    {
     "name": "stdout",
     "output_type": "stream",
     "text": [
      "not null\n",
      "7040000447161\n",
      "count 486\n",
      "https://omcs-global-customer-persister-ge4.omcs-nonprod.r1.pks.dell.com/omcs-global-customer-persister/v1/Dashboard/GetWorkflowSteps?dpid=7040000447161\n"
     ]
    },
    {
     "name": "stderr",
     "output_type": "stream",
     "text": [
      "C:\\Users\\Satpum\\AppData\\Local\\anaconda3\\Lib\\site-packages\\urllib3\\connectionpool.py:1056: InsecureRequestWarning: Unverified HTTPS request is being made to host 'omcs-global-customer-persister-ge4.omcs-nonprod.r1.pks.dell.com'. Adding certificate verification is strongly advised. See: https://urllib3.readthedocs.io/en/1.26.x/advanced-usage.html#ssl-warnings\n",
      "  warnings.warn(\n"
     ]
    },
    {
     "name": "stdout",
     "output_type": "stream",
     "text": [
      "null7040000447161\n",
      "7040000447160\n",
      "count 487\n",
      "https://omcs-global-customer-persister-ge4.omcs-nonprod.r1.pks.dell.com/omcs-global-customer-persister/v1/Dashboard/GetWorkflowSteps?dpid=7040000447160\n"
     ]
    },
    {
     "name": "stderr",
     "output_type": "stream",
     "text": [
      "C:\\Users\\Satpum\\AppData\\Local\\anaconda3\\Lib\\site-packages\\urllib3\\connectionpool.py:1056: InsecureRequestWarning: Unverified HTTPS request is being made to host 'omcs-global-customer-persister-ge4.omcs-nonprod.r1.pks.dell.com'. Adding certificate verification is strongly advised. See: https://urllib3.readthedocs.io/en/1.26.x/advanced-usage.html#ssl-warnings\n",
      "  warnings.warn(\n"
     ]
    },
    {
     "name": "stdout",
     "output_type": "stream",
     "text": [
      "null7040000447160\n",
      "7040000447159\n",
      "count 488\n",
      "https://omcs-global-customer-persister-ge4.omcs-nonprod.r1.pks.dell.com/omcs-global-customer-persister/v1/Dashboard/GetWorkflowSteps?dpid=7040000447159\n"
     ]
    },
    {
     "name": "stderr",
     "output_type": "stream",
     "text": [
      "C:\\Users\\Satpum\\AppData\\Local\\anaconda3\\Lib\\site-packages\\urllib3\\connectionpool.py:1056: InsecureRequestWarning: Unverified HTTPS request is being made to host 'omcs-global-customer-persister-ge4.omcs-nonprod.r1.pks.dell.com'. Adding certificate verification is strongly advised. See: https://urllib3.readthedocs.io/en/1.26.x/advanced-usage.html#ssl-warnings\n",
      "  warnings.warn(\n"
     ]
    },
    {
     "name": "stdout",
     "output_type": "stream",
     "text": [
      "null7040000447159\n",
      "7040000447158\n",
      "count 489\n",
      "https://omcs-global-customer-persister-ge4.omcs-nonprod.r1.pks.dell.com/omcs-global-customer-persister/v1/Dashboard/GetWorkflowSteps?dpid=7040000447158\n"
     ]
    },
    {
     "name": "stderr",
     "output_type": "stream",
     "text": [
      "C:\\Users\\Satpum\\AppData\\Local\\anaconda3\\Lib\\site-packages\\urllib3\\connectionpool.py:1056: InsecureRequestWarning: Unverified HTTPS request is being made to host 'omcs-global-customer-persister-ge4.omcs-nonprod.r1.pks.dell.com'. Adding certificate verification is strongly advised. See: https://urllib3.readthedocs.io/en/1.26.x/advanced-usage.html#ssl-warnings\n",
      "  warnings.warn(\n"
     ]
    },
    {
     "name": "stdout",
     "output_type": "stream",
     "text": [
      "not null\n",
      "7040000447157\n",
      "count 490\n",
      "https://omcs-global-customer-persister-ge4.omcs-nonprod.r1.pks.dell.com/omcs-global-customer-persister/v1/Dashboard/GetWorkflowSteps?dpid=7040000447157\n"
     ]
    },
    {
     "name": "stderr",
     "output_type": "stream",
     "text": [
      "C:\\Users\\Satpum\\AppData\\Local\\anaconda3\\Lib\\site-packages\\urllib3\\connectionpool.py:1056: InsecureRequestWarning: Unverified HTTPS request is being made to host 'omcs-global-customer-persister-ge4.omcs-nonprod.r1.pks.dell.com'. Adding certificate verification is strongly advised. See: https://urllib3.readthedocs.io/en/1.26.x/advanced-usage.html#ssl-warnings\n",
      "  warnings.warn(\n"
     ]
    },
    {
     "name": "stdout",
     "output_type": "stream",
     "text": [
      "not null\n",
      "7040000447156\n",
      "count 491\n",
      "https://omcs-global-customer-persister-ge4.omcs-nonprod.r1.pks.dell.com/omcs-global-customer-persister/v1/Dashboard/GetWorkflowSteps?dpid=7040000447156\n"
     ]
    },
    {
     "name": "stderr",
     "output_type": "stream",
     "text": [
      "C:\\Users\\Satpum\\AppData\\Local\\anaconda3\\Lib\\site-packages\\urllib3\\connectionpool.py:1056: InsecureRequestWarning: Unverified HTTPS request is being made to host 'omcs-global-customer-persister-ge4.omcs-nonprod.r1.pks.dell.com'. Adding certificate verification is strongly advised. See: https://urllib3.readthedocs.io/en/1.26.x/advanced-usage.html#ssl-warnings\n",
      "  warnings.warn(\n"
     ]
    },
    {
     "name": "stdout",
     "output_type": "stream",
     "text": [
      "not null\n",
      "7040000447155\n",
      "count 492\n",
      "https://omcs-global-customer-persister-ge4.omcs-nonprod.r1.pks.dell.com/omcs-global-customer-persister/v1/Dashboard/GetWorkflowSteps?dpid=7040000447155\n"
     ]
    },
    {
     "name": "stderr",
     "output_type": "stream",
     "text": [
      "C:\\Users\\Satpum\\AppData\\Local\\anaconda3\\Lib\\site-packages\\urllib3\\connectionpool.py:1056: InsecureRequestWarning: Unverified HTTPS request is being made to host 'omcs-global-customer-persister-ge4.omcs-nonprod.r1.pks.dell.com'. Adding certificate verification is strongly advised. See: https://urllib3.readthedocs.io/en/1.26.x/advanced-usage.html#ssl-warnings\n",
      "  warnings.warn(\n"
     ]
    },
    {
     "name": "stdout",
     "output_type": "stream",
     "text": [
      "null7040000447155\n",
      "7040000447154\n",
      "count 493\n",
      "https://omcs-global-customer-persister-ge4.omcs-nonprod.r1.pks.dell.com/omcs-global-customer-persister/v1/Dashboard/GetWorkflowSteps?dpid=7040000447154\n"
     ]
    },
    {
     "name": "stderr",
     "output_type": "stream",
     "text": [
      "C:\\Users\\Satpum\\AppData\\Local\\anaconda3\\Lib\\site-packages\\urllib3\\connectionpool.py:1056: InsecureRequestWarning: Unverified HTTPS request is being made to host 'omcs-global-customer-persister-ge4.omcs-nonprod.r1.pks.dell.com'. Adding certificate verification is strongly advised. See: https://urllib3.readthedocs.io/en/1.26.x/advanced-usage.html#ssl-warnings\n",
      "  warnings.warn(\n"
     ]
    },
    {
     "name": "stdout",
     "output_type": "stream",
     "text": [
      "null7040000447154\n",
      "7040000447153\n",
      "count 494\n",
      "https://omcs-global-customer-persister-ge4.omcs-nonprod.r1.pks.dell.com/omcs-global-customer-persister/v1/Dashboard/GetWorkflowSteps?dpid=7040000447153\n"
     ]
    },
    {
     "name": "stderr",
     "output_type": "stream",
     "text": [
      "C:\\Users\\Satpum\\AppData\\Local\\anaconda3\\Lib\\site-packages\\urllib3\\connectionpool.py:1056: InsecureRequestWarning: Unverified HTTPS request is being made to host 'omcs-global-customer-persister-ge4.omcs-nonprod.r1.pks.dell.com'. Adding certificate verification is strongly advised. See: https://urllib3.readthedocs.io/en/1.26.x/advanced-usage.html#ssl-warnings\n",
      "  warnings.warn(\n"
     ]
    },
    {
     "name": "stdout",
     "output_type": "stream",
     "text": [
      "null7040000447153\n",
      "7040000447152\n",
      "count 495\n",
      "https://omcs-global-customer-persister-ge4.omcs-nonprod.r1.pks.dell.com/omcs-global-customer-persister/v1/Dashboard/GetWorkflowSteps?dpid=7040000447152\n"
     ]
    },
    {
     "name": "stderr",
     "output_type": "stream",
     "text": [
      "C:\\Users\\Satpum\\AppData\\Local\\anaconda3\\Lib\\site-packages\\urllib3\\connectionpool.py:1056: InsecureRequestWarning: Unverified HTTPS request is being made to host 'omcs-global-customer-persister-ge4.omcs-nonprod.r1.pks.dell.com'. Adding certificate verification is strongly advised. See: https://urllib3.readthedocs.io/en/1.26.x/advanced-usage.html#ssl-warnings\n",
      "  warnings.warn(\n"
     ]
    },
    {
     "name": "stdout",
     "output_type": "stream",
     "text": [
      "null7040000447152\n",
      "7040000447151\n",
      "count 496\n",
      "https://omcs-global-customer-persister-ge4.omcs-nonprod.r1.pks.dell.com/omcs-global-customer-persister/v1/Dashboard/GetWorkflowSteps?dpid=7040000447151\n"
     ]
    },
    {
     "name": "stderr",
     "output_type": "stream",
     "text": [
      "C:\\Users\\Satpum\\AppData\\Local\\anaconda3\\Lib\\site-packages\\urllib3\\connectionpool.py:1056: InsecureRequestWarning: Unverified HTTPS request is being made to host 'omcs-global-customer-persister-ge4.omcs-nonprod.r1.pks.dell.com'. Adding certificate verification is strongly advised. See: https://urllib3.readthedocs.io/en/1.26.x/advanced-usage.html#ssl-warnings\n",
      "  warnings.warn(\n"
     ]
    },
    {
     "name": "stdout",
     "output_type": "stream",
     "text": [
      "not null\n",
      "7040000447150\n",
      "count 497\n",
      "https://omcs-global-customer-persister-ge4.omcs-nonprod.r1.pks.dell.com/omcs-global-customer-persister/v1/Dashboard/GetWorkflowSteps?dpid=7040000447150\n"
     ]
    },
    {
     "name": "stderr",
     "output_type": "stream",
     "text": [
      "C:\\Users\\Satpum\\AppData\\Local\\anaconda3\\Lib\\site-packages\\urllib3\\connectionpool.py:1056: InsecureRequestWarning: Unverified HTTPS request is being made to host 'omcs-global-customer-persister-ge4.omcs-nonprod.r1.pks.dell.com'. Adding certificate verification is strongly advised. See: https://urllib3.readthedocs.io/en/1.26.x/advanced-usage.html#ssl-warnings\n",
      "  warnings.warn(\n"
     ]
    },
    {
     "name": "stdout",
     "output_type": "stream",
     "text": [
      "not null\n",
      "7040000447149\n",
      "count 498\n",
      "https://omcs-global-customer-persister-ge4.omcs-nonprod.r1.pks.dell.com/omcs-global-customer-persister/v1/Dashboard/GetWorkflowSteps?dpid=7040000447149\n"
     ]
    },
    {
     "name": "stderr",
     "output_type": "stream",
     "text": [
      "C:\\Users\\Satpum\\AppData\\Local\\anaconda3\\Lib\\site-packages\\urllib3\\connectionpool.py:1056: InsecureRequestWarning: Unverified HTTPS request is being made to host 'omcs-global-customer-persister-ge4.omcs-nonprod.r1.pks.dell.com'. Adding certificate verification is strongly advised. See: https://urllib3.readthedocs.io/en/1.26.x/advanced-usage.html#ssl-warnings\n",
      "  warnings.warn(\n"
     ]
    },
    {
     "name": "stdout",
     "output_type": "stream",
     "text": [
      "not null\n",
      "7040000447148\n",
      "count 499\n",
      "https://omcs-global-customer-persister-ge4.omcs-nonprod.r1.pks.dell.com/omcs-global-customer-persister/v1/Dashboard/GetWorkflowSteps?dpid=7040000447148\n"
     ]
    },
    {
     "name": "stderr",
     "output_type": "stream",
     "text": [
      "C:\\Users\\Satpum\\AppData\\Local\\anaconda3\\Lib\\site-packages\\urllib3\\connectionpool.py:1056: InsecureRequestWarning: Unverified HTTPS request is being made to host 'omcs-global-customer-persister-ge4.omcs-nonprod.r1.pks.dell.com'. Adding certificate verification is strongly advised. See: https://urllib3.readthedocs.io/en/1.26.x/advanced-usage.html#ssl-warnings\n",
      "  warnings.warn(\n"
     ]
    },
    {
     "name": "stdout",
     "output_type": "stream",
     "text": [
      "not null\n",
      "7040000447147\n",
      "count 500\n",
      "https://omcs-global-customer-persister-ge4.omcs-nonprod.r1.pks.dell.com/omcs-global-customer-persister/v1/Dashboard/GetWorkflowSteps?dpid=7040000447147\n"
     ]
    },
    {
     "name": "stderr",
     "output_type": "stream",
     "text": [
      "C:\\Users\\Satpum\\AppData\\Local\\anaconda3\\Lib\\site-packages\\urllib3\\connectionpool.py:1056: InsecureRequestWarning: Unverified HTTPS request is being made to host 'omcs-global-customer-persister-ge4.omcs-nonprod.r1.pks.dell.com'. Adding certificate verification is strongly advised. See: https://urllib3.readthedocs.io/en/1.26.x/advanced-usage.html#ssl-warnings\n",
      "  warnings.warn(\n"
     ]
    },
    {
     "name": "stdout",
     "output_type": "stream",
     "text": [
      "null7040000447147\n",
      "=============SAVING dashboardDf to File=========================\n",
      "./Data/Workflow/Output/ge4/Workflow_Logs_ge4.json\n",
      "============Displaying DF ========\n"
     ]
    },
    {
     "data": {
      "text/html": [
       "<div>\n",
       "<style scoped>\n",
       "    .dataframe tbody tr th:only-of-type {\n",
       "        vertical-align: middle;\n",
       "    }\n",
       "\n",
       "    .dataframe tbody tr th {\n",
       "        vertical-align: top;\n",
       "    }\n",
       "\n",
       "    .dataframe thead th {\n",
       "        text-align: right;\n",
       "    }\n",
       "</style>\n",
       "<table border=\"1\" class=\"dataframe\">\n",
       "  <thead>\n",
       "    <tr style=\"text-align: right;\">\n",
       "      <th></th>\n",
       "      <th>dpid</th>\n",
       "      <th>orchestratorInstanceId</th>\n",
       "      <th>businessId</th>\n",
       "      <th>workflowName</th>\n",
       "      <th>workflowDescription</th>\n",
       "      <th>holdCode</th>\n",
       "      <th>holdMessage</th>\n",
       "      <th>holdCategory</th>\n",
       "      <th>createdDate</th>\n",
       "      <th>externalCallServiceType</th>\n",
       "      <th>...</th>\n",
       "      <th>tracingId</th>\n",
       "      <th>buid</th>\n",
       "      <th>businessContextRegion</th>\n",
       "      <th>businessContextCountry</th>\n",
       "      <th>sourceApplication</th>\n",
       "      <th>endUserCustomerName</th>\n",
       "      <th>billToCustomerName</th>\n",
       "      <th>shipToCustomerName</th>\n",
       "      <th>soldToCustomerName</th>\n",
       "      <th>0</th>\n",
       "    </tr>\n",
       "  </thead>\n",
       "  <tbody>\n",
       "    <tr>\n",
       "      <th>0</th>\n",
       "      <td>7.040000e+12</td>\n",
       "      <td>1e9f9a4b-8a23-4195-abaa-2653f613440a</td>\n",
       "      <td>227c31ca-49ad-4c84-a228-577c79220759</td>\n",
       "      <td>EndCustomerManagementWF</td>\n",
       "      <td>None</td>\n",
       "      <td>None</td>\n",
       "      <td>None</td>\n",
       "      <td>None</td>\n",
       "      <td>2023-11-21T21:48:54.231Z</td>\n",
       "      <td>None</td>\n",
       "      <td>...</td>\n",
       "      <td>None</td>\n",
       "      <td>None</td>\n",
       "      <td>None</td>\n",
       "      <td>None</td>\n",
       "      <td>None</td>\n",
       "      <td>None</td>\n",
       "      <td>None</td>\n",
       "      <td>None</td>\n",
       "      <td>None</td>\n",
       "      <td>NaN</td>\n",
       "    </tr>\n",
       "    <tr>\n",
       "      <th>1</th>\n",
       "      <td>7.040000e+12</td>\n",
       "      <td>1e9f9a4b-8a23-4195-abaa-2653f613440a</td>\n",
       "      <td>1f795129-4d2a-40e6-9d79-e39d439667de</td>\n",
       "      <td>PostCustomerValidation</td>\n",
       "      <td>Post Customer Validation</td>\n",
       "      <td>None</td>\n",
       "      <td>None</td>\n",
       "      <td>None</td>\n",
       "      <td>2023-11-21T21:48:53.568Z</td>\n",
       "      <td>None</td>\n",
       "      <td>...</td>\n",
       "      <td>None</td>\n",
       "      <td>None</td>\n",
       "      <td>None</td>\n",
       "      <td>None</td>\n",
       "      <td>None</td>\n",
       "      <td>None</td>\n",
       "      <td>None</td>\n",
       "      <td>None</td>\n",
       "      <td>None</td>\n",
       "      <td>NaN</td>\n",
       "    </tr>\n",
       "    <tr>\n",
       "      <th>2</th>\n",
       "      <td>7.040000e+12</td>\n",
       "      <td>1e9f9a4b-8a23-4195-abaa-2653f613440a</td>\n",
       "      <td>cebd6692-cc83-4582-9c0c-e0c843f6868d</td>\n",
       "      <td>FunderReplacementEligibility</td>\n",
       "      <td>Funder eligibility check</td>\n",
       "      <td>None</td>\n",
       "      <td>None</td>\n",
       "      <td>None</td>\n",
       "      <td>2023-11-21T21:48:53.437Z</td>\n",
       "      <td>None</td>\n",
       "      <td>...</td>\n",
       "      <td>None</td>\n",
       "      <td>None</td>\n",
       "      <td>None</td>\n",
       "      <td>None</td>\n",
       "      <td>None</td>\n",
       "      <td>None</td>\n",
       "      <td>None</td>\n",
       "      <td>None</td>\n",
       "      <td>None</td>\n",
       "      <td>NaN</td>\n",
       "    </tr>\n",
       "    <tr>\n",
       "      <th>3</th>\n",
       "      <td>7.040000e+12</td>\n",
       "      <td>1e9f9a4b-8a23-4195-abaa-2653f613440a</td>\n",
       "      <td>6939ad4e-cbc9-4a92-a03c-7a8b6b562535</td>\n",
       "      <td>UcidBasicValidation</td>\n",
       "      <td>UCID basic validation</td>\n",
       "      <td>None</td>\n",
       "      <td>None</td>\n",
       "      <td>None</td>\n",
       "      <td>2023-11-21T21:48:52.957Z</td>\n",
       "      <td>None</td>\n",
       "      <td>...</td>\n",
       "      <td>None</td>\n",
       "      <td>None</td>\n",
       "      <td>None</td>\n",
       "      <td>None</td>\n",
       "      <td>None</td>\n",
       "      <td>None</td>\n",
       "      <td>None</td>\n",
       "      <td>None</td>\n",
       "      <td>None</td>\n",
       "      <td>NaN</td>\n",
       "    </tr>\n",
       "    <tr>\n",
       "      <th>4</th>\n",
       "      <td>7.040000e+12</td>\n",
       "      <td>1e9f9a4b-8a23-4195-abaa-2653f613440a</td>\n",
       "      <td>b56a5bfa-eb93-4ca3-834e-7308719abc20</td>\n",
       "      <td>CustomerEnrichment</td>\n",
       "      <td>Customer Enrichment</td>\n",
       "      <td>None</td>\n",
       "      <td>None</td>\n",
       "      <td>None</td>\n",
       "      <td>2023-11-21T21:48:52.229Z</td>\n",
       "      <td>None</td>\n",
       "      <td>...</td>\n",
       "      <td>None</td>\n",
       "      <td>None</td>\n",
       "      <td>None</td>\n",
       "      <td>None</td>\n",
       "      <td>None</td>\n",
       "      <td>None</td>\n",
       "      <td>None</td>\n",
       "      <td>None</td>\n",
       "      <td>None</td>\n",
       "      <td>NaN</td>\n",
       "    </tr>\n",
       "    <tr>\n",
       "      <th>...</th>\n",
       "      <td>...</td>\n",
       "      <td>...</td>\n",
       "      <td>...</td>\n",
       "      <td>...</td>\n",
       "      <td>...</td>\n",
       "      <td>...</td>\n",
       "      <td>...</td>\n",
       "      <td>...</td>\n",
       "      <td>...</td>\n",
       "      <td>...</td>\n",
       "      <td>...</td>\n",
       "      <td>...</td>\n",
       "      <td>...</td>\n",
       "      <td>...</td>\n",
       "      <td>...</td>\n",
       "      <td>...</td>\n",
       "      <td>...</td>\n",
       "      <td>...</td>\n",
       "      <td>...</td>\n",
       "      <td>...</td>\n",
       "      <td>...</td>\n",
       "    </tr>\n",
       "    <tr>\n",
       "      <th>22567</th>\n",
       "      <td>NaN</td>\n",
       "      <td>NaN</td>\n",
       "      <td>NaN</td>\n",
       "      <td>NaN</td>\n",
       "      <td>NaN</td>\n",
       "      <td>NaN</td>\n",
       "      <td>NaN</td>\n",
       "      <td>NaN</td>\n",
       "      <td>NaN</td>\n",
       "      <td>NaN</td>\n",
       "      <td>...</td>\n",
       "      <td>NaN</td>\n",
       "      <td>NaN</td>\n",
       "      <td>NaN</td>\n",
       "      <td>NaN</td>\n",
       "      <td>NaN</td>\n",
       "      <td>NaN</td>\n",
       "      <td>NaN</td>\n",
       "      <td>NaN</td>\n",
       "      <td>NaN</td>\n",
       "      <td>NaN</td>\n",
       "    </tr>\n",
       "    <tr>\n",
       "      <th>22568</th>\n",
       "      <td>NaN</td>\n",
       "      <td>NaN</td>\n",
       "      <td>NaN</td>\n",
       "      <td>NaN</td>\n",
       "      <td>NaN</td>\n",
       "      <td>NaN</td>\n",
       "      <td>NaN</td>\n",
       "      <td>NaN</td>\n",
       "      <td>NaN</td>\n",
       "      <td>NaN</td>\n",
       "      <td>...</td>\n",
       "      <td>NaN</td>\n",
       "      <td>NaN</td>\n",
       "      <td>NaN</td>\n",
       "      <td>NaN</td>\n",
       "      <td>NaN</td>\n",
       "      <td>NaN</td>\n",
       "      <td>NaN</td>\n",
       "      <td>NaN</td>\n",
       "      <td>NaN</td>\n",
       "      <td>NaN</td>\n",
       "    </tr>\n",
       "    <tr>\n",
       "      <th>22569</th>\n",
       "      <td>NaN</td>\n",
       "      <td>NaN</td>\n",
       "      <td>NaN</td>\n",
       "      <td>NaN</td>\n",
       "      <td>NaN</td>\n",
       "      <td>NaN</td>\n",
       "      <td>NaN</td>\n",
       "      <td>NaN</td>\n",
       "      <td>NaN</td>\n",
       "      <td>NaN</td>\n",
       "      <td>...</td>\n",
       "      <td>NaN</td>\n",
       "      <td>NaN</td>\n",
       "      <td>NaN</td>\n",
       "      <td>NaN</td>\n",
       "      <td>NaN</td>\n",
       "      <td>NaN</td>\n",
       "      <td>NaN</td>\n",
       "      <td>NaN</td>\n",
       "      <td>NaN</td>\n",
       "      <td>NaN</td>\n",
       "    </tr>\n",
       "    <tr>\n",
       "      <th>22570</th>\n",
       "      <td>NaN</td>\n",
       "      <td>NaN</td>\n",
       "      <td>NaN</td>\n",
       "      <td>NaN</td>\n",
       "      <td>NaN</td>\n",
       "      <td>NaN</td>\n",
       "      <td>NaN</td>\n",
       "      <td>NaN</td>\n",
       "      <td>NaN</td>\n",
       "      <td>NaN</td>\n",
       "      <td>...</td>\n",
       "      <td>NaN</td>\n",
       "      <td>NaN</td>\n",
       "      <td>NaN</td>\n",
       "      <td>NaN</td>\n",
       "      <td>NaN</td>\n",
       "      <td>NaN</td>\n",
       "      <td>NaN</td>\n",
       "      <td>NaN</td>\n",
       "      <td>NaN</td>\n",
       "      <td>NaN</td>\n",
       "    </tr>\n",
       "    <tr>\n",
       "      <th>22571</th>\n",
       "      <td>NaN</td>\n",
       "      <td>NaN</td>\n",
       "      <td>NaN</td>\n",
       "      <td>NaN</td>\n",
       "      <td>NaN</td>\n",
       "      <td>NaN</td>\n",
       "      <td>NaN</td>\n",
       "      <td>NaN</td>\n",
       "      <td>NaN</td>\n",
       "      <td>NaN</td>\n",
       "      <td>...</td>\n",
       "      <td>NaN</td>\n",
       "      <td>NaN</td>\n",
       "      <td>NaN</td>\n",
       "      <td>NaN</td>\n",
       "      <td>NaN</td>\n",
       "      <td>NaN</td>\n",
       "      <td>NaN</td>\n",
       "      <td>NaN</td>\n",
       "      <td>NaN</td>\n",
       "      <td>NaN</td>\n",
       "    </tr>\n",
       "  </tbody>\n",
       "</table>\n",
       "<p>22572 rows × 25 columns</p>\n",
       "</div>"
      ],
      "text/plain": [
       "               dpid                orchestratorInstanceId  \\\n",
       "0      7.040000e+12  1e9f9a4b-8a23-4195-abaa-2653f613440a   \n",
       "1      7.040000e+12  1e9f9a4b-8a23-4195-abaa-2653f613440a   \n",
       "2      7.040000e+12  1e9f9a4b-8a23-4195-abaa-2653f613440a   \n",
       "3      7.040000e+12  1e9f9a4b-8a23-4195-abaa-2653f613440a   \n",
       "4      7.040000e+12  1e9f9a4b-8a23-4195-abaa-2653f613440a   \n",
       "...             ...                                   ...   \n",
       "22567           NaN                                   NaN   \n",
       "22568           NaN                                   NaN   \n",
       "22569           NaN                                   NaN   \n",
       "22570           NaN                                   NaN   \n",
       "22571           NaN                                   NaN   \n",
       "\n",
       "                                 businessId                  workflowName  \\\n",
       "0      227c31ca-49ad-4c84-a228-577c79220759       EndCustomerManagementWF   \n",
       "1      1f795129-4d2a-40e6-9d79-e39d439667de        PostCustomerValidation   \n",
       "2      cebd6692-cc83-4582-9c0c-e0c843f6868d  FunderReplacementEligibility   \n",
       "3      6939ad4e-cbc9-4a92-a03c-7a8b6b562535           UcidBasicValidation   \n",
       "4      b56a5bfa-eb93-4ca3-834e-7308719abc20            CustomerEnrichment   \n",
       "...                                     ...                           ...   \n",
       "22567                                   NaN                           NaN   \n",
       "22568                                   NaN                           NaN   \n",
       "22569                                   NaN                           NaN   \n",
       "22570                                   NaN                           NaN   \n",
       "22571                                   NaN                           NaN   \n",
       "\n",
       "            workflowDescription holdCode holdMessage holdCategory  \\\n",
       "0                          None     None        None         None   \n",
       "1      Post Customer Validation     None        None         None   \n",
       "2      Funder eligibility check     None        None         None   \n",
       "3         UCID basic validation     None        None         None   \n",
       "4           Customer Enrichment     None        None         None   \n",
       "...                         ...      ...         ...          ...   \n",
       "22567                       NaN      NaN         NaN          NaN   \n",
       "22568                       NaN      NaN         NaN          NaN   \n",
       "22569                       NaN      NaN         NaN          NaN   \n",
       "22570                       NaN      NaN         NaN          NaN   \n",
       "22571                       NaN      NaN         NaN          NaN   \n",
       "\n",
       "                    createdDate externalCallServiceType  ... tracingId  buid  \\\n",
       "0      2023-11-21T21:48:54.231Z                    None  ...      None  None   \n",
       "1      2023-11-21T21:48:53.568Z                    None  ...      None  None   \n",
       "2      2023-11-21T21:48:53.437Z                    None  ...      None  None   \n",
       "3      2023-11-21T21:48:52.957Z                    None  ...      None  None   \n",
       "4      2023-11-21T21:48:52.229Z                    None  ...      None  None   \n",
       "...                         ...                     ...  ...       ...   ...   \n",
       "22567                       NaN                     NaN  ...       NaN   NaN   \n",
       "22568                       NaN                     NaN  ...       NaN   NaN   \n",
       "22569                       NaN                     NaN  ...       NaN   NaN   \n",
       "22570                       NaN                     NaN  ...       NaN   NaN   \n",
       "22571                       NaN                     NaN  ...       NaN   NaN   \n",
       "\n",
       "      businessContextRegion businessContextCountry sourceApplication  \\\n",
       "0                      None                   None              None   \n",
       "1                      None                   None              None   \n",
       "2                      None                   None              None   \n",
       "3                      None                   None              None   \n",
       "4                      None                   None              None   \n",
       "...                     ...                    ...               ...   \n",
       "22567                   NaN                    NaN               NaN   \n",
       "22568                   NaN                    NaN               NaN   \n",
       "22569                   NaN                    NaN               NaN   \n",
       "22570                   NaN                    NaN               NaN   \n",
       "22571                   NaN                    NaN               NaN   \n",
       "\n",
       "      endUserCustomerName billToCustomerName shipToCustomerName  \\\n",
       "0                    None               None               None   \n",
       "1                    None               None               None   \n",
       "2                    None               None               None   \n",
       "3                    None               None               None   \n",
       "4                    None               None               None   \n",
       "...                   ...                ...                ...   \n",
       "22567                 NaN                NaN                NaN   \n",
       "22568                 NaN                NaN                NaN   \n",
       "22569                 NaN                NaN                NaN   \n",
       "22570                 NaN                NaN                NaN   \n",
       "22571                 NaN                NaN                NaN   \n",
       "\n",
       "      soldToCustomerName    0  \n",
       "0                   None  NaN  \n",
       "1                   None  NaN  \n",
       "2                   None  NaN  \n",
       "3                   None  NaN  \n",
       "4                   None  NaN  \n",
       "...                  ...  ...  \n",
       "22567                NaN  NaN  \n",
       "22568                NaN  NaN  \n",
       "22569                NaN  NaN  \n",
       "22570                NaN  NaN  \n",
       "22571                NaN  NaN  \n",
       "\n",
       "[22572 rows x 25 columns]"
      ]
     },
     "metadata": {},
     "output_type": "display_data"
    }
   ],
   "source": [
    "import requests\n",
    "import pandas as pd\n",
    "import os\n",
    "import pandas as pd\n",
    "import json\n",
    "from IPython.display import display\n",
    "\n",
    "dashboardArray=[]\n",
    "temp=[]\n",
    "dpidNull=[]\n",
    "dpidNotNull=[]\n",
    "dashboardDf = pd.DataFrame()\n",
    "count=0\n",
    "for dpid in dpidsDF['dpid'].iloc[:500]:\n",
    "#for dpid in ['7040000447687','7040000447687','7040000446370','7040000446374','7040000446375']: \n",
    "#for dpid in ['7040000447687','7040000447687']: \n",
    "    enviroment='ge4'\n",
    "    print(dpid)\n",
    "    count=count+1\n",
    "    print(\"count\",count)\n",
    "    # Specify the API URL we want to send our JSON to\n",
    "    #https://omcs-global-customer-persister-prod-s3b.omcs-dr.s1.pks.dell.com/omcs-global-customer-persister/v1/Dashboard/GetWorkflowSteps?dpid=7400003912158\n",
    "    url = 'https://omcs-global-customer-persister-ge4.omcs-nonprod.r1.pks.dell.com/omcs-global-customer-persister/v1/Dashboard/GetWorkflowSteps?dpid='+dpid.strip()\n",
    "    print(url)\n",
    "    # Specify the appropriate header for the POST request\n",
    "    headers={'Content-Type':'application/json','Referer':'strict-origin-when-cross-origin','Authorization': 'allaccesskey'}\n",
    "    # Specify the JSON data we want to send\n",
    "    #data = '{\"url\":\"https://omcs-global-customer-persister-ge4.omcs-nonprod.r1.pks.dell.com/omcs-global-customer-persister/v1/Dashboard/GetWorkflowSteps?dpid=7040000447610\"}'\n",
    "    result = requests.get(url,headers=headers,verify=False)\n",
    "    #print(type(result.text))\n",
    "    if len(result.text) > 2:\n",
    "        print('not null')\n",
    "        # Load the JSON array string into a Python list\n",
    "        data = json.loads(result.text)\n",
    "        # Create a DataFrame from the list\n",
    "        dashboardArray.append(data)\n",
    "        dpidNotNull.append(dpid)\n",
    "    else:\n",
    "        print('null'+dpid)\n",
    "        dpidNull.append(dpid)\n",
    "\n",
    "\n",
    "dashboardDf = pd.DataFrame(dashboardArray)\n",
    "\n",
    "dfFinal = pd.DataFrame()\n",
    "#dfFinal1 = pd.DataFrame()\n",
    "for index,row in dashboardDf.iterrows():\n",
    "    for j in row:\n",
    "        dfFinal = pd.concat([dfFinal, pd.DataFrame([j])], ignore_index=True)\n",
    "\n",
    "\n",
    "print('=============SAVING dashboardDf to File=========================')\n",
    "\n",
    "\n",
    "directoryName='./Data/Workflow/Output/'+enviroment+'/'\n",
    "fileName='Workflow_Logs_'+enviroment+'.json'\n",
    "if not os.path.exists(directoryName):\n",
    "    os.makedirs(directoryName)\n",
    "\n",
    "print(directoryName+fileName)\n",
    "dfFinal.to_json(directoryName+fileName,orient='records')\n",
    "\n",
    "print('============Displaying DF ========')\n",
    "display(dfFinal)"
   ]
  },
  {
   "cell_type": "code",
   "execution_count": 7,
   "id": "ad9abafa",
   "metadata": {},
   "outputs": [
    {
     "name": "stdout",
     "output_type": "stream",
     "text": [
      "===============IMPORTING DATA====================\n",
      "=======Getting Data From ./Data/Workflow/Output/ge4/Dashboard_Logs_ge4.json============\n",
      "<class 'list'>\n",
      "==================finalDataFrame==========================\n",
      "./Data/Workflow/Output/Final/ge4/Final_Workflow_DF_ge4.json\n"
     ]
    }
   ],
   "source": [
    "# -*- coding: utf-8 -*-\n",
    "\"\"\"\n",
    "Created on Sun Nov  5 15:56:13 2023\n",
    "\n",
    "@author: satpum\n",
    "\"\"\"\n",
    "\n",
    "import json;\n",
    "import pandas as pd\n",
    "import time \n",
    "import os, shutil\n",
    "from bs4 import BeautifulSoup \n",
    "import requests \n",
    "import re\n",
    "from IPython.display import display\n",
    "\n",
    "\n",
    "print('===============IMPORTING DATA====================')\n",
    "directoryName='./Data/Workflow/Output/ge4/Dashboard_Logs_ge4.json'\n",
    "if not os.path.exists(directoryName):\n",
    "    os.makedirs(directoryName)\n",
    "\n",
    "\n",
    "print('=======Getting Data From '+directoryName+'============')\n",
    "\n",
    "f1  = open(directoryName, encoding=\"utf8\")\n",
    "\n",
    "\n",
    "dataDashboardLogs = json.load(f1)\n",
    "\n",
    "print(type(dataDashboardLogs))\n",
    "\n",
    "finalDataFrame= pd.DataFrame(dataDashboardLogs,columns=['dpid','workflowName','workflowDescription','holdCode','holdMessage','holdCategory'])\n",
    "\n",
    "print('==================finalDataFrame==========================')\n",
    "#print(len(dpidNotNull))\n",
    "\n",
    "\n",
    "directoryName='./Data/Workflow/Output/Final/'+enviroment+'/'\n",
    "fileName='Final_Workflow_DF_'+enviroment+'.json'\n",
    "if not os.path.exists(directoryName):\n",
    "    os.makedirs(directoryName)\n",
    "\n",
    "print(directoryName+fileName)\n",
    "finalDataFrame.to_json(directoryName+fileName,orient='records')\n",
    "display(finalDataFrame)"
   ]
  },
  {
   "cell_type": "markdown",
   "id": "77acc1da",
   "metadata": {},
   "source": [
    "Reprocess Final_Workflow_DF_ge4 Json "
   ]
  },
  {
   "cell_type": "code",
   "execution_count": 11,
   "id": "442720a0",
   "metadata": {},
   "outputs": [
    {
     "name": "stdout",
     "output_type": "stream",
     "text": [
      "===============IMPORTING DATA====================\n",
      "=======Getting Data From ./Data/Workflow/Output/Final/ge4/Final_Workflow_DF_ge4.json============\n"
     ]
    },
    {
     "data": {
      "text/html": [
       "<div>\n",
       "<style scoped>\n",
       "    .dataframe tbody tr th:only-of-type {\n",
       "        vertical-align: middle;\n",
       "    }\n",
       "\n",
       "    .dataframe tbody tr th {\n",
       "        vertical-align: top;\n",
       "    }\n",
       "\n",
       "    .dataframe thead th {\n",
       "        text-align: right;\n",
       "    }\n",
       "</style>\n",
       "<table border=\"1\" class=\"dataframe\">\n",
       "  <thead>\n",
       "    <tr style=\"text-align: right;\">\n",
       "      <th></th>\n",
       "      <th>dpid</th>\n",
       "      <th>workflowName</th>\n",
       "      <th>workflowDescription</th>\n",
       "      <th>holdCode</th>\n",
       "      <th>holdMessage</th>\n",
       "      <th>holdCategory</th>\n",
       "      <th>TagName</th>\n",
       "    </tr>\n",
       "  </thead>\n",
       "  <tbody>\n",
       "    <tr>\n",
       "      <th>0</th>\n",
       "      <td>7.040000e+12</td>\n",
       "      <td>EndCustomerManagementWF</td>\n",
       "      <td>NAN</td>\n",
       "      <td>NAN</td>\n",
       "      <td>NAN</td>\n",
       "      <td>NAN</td>\n",
       "      <td>EndCustomerManagementWF</td>\n",
       "    </tr>\n",
       "    <tr>\n",
       "      <th>1</th>\n",
       "      <td>7.040000e+12</td>\n",
       "      <td>PostCustomerValidation</td>\n",
       "      <td>Post Customer Validation</td>\n",
       "      <td>NAN</td>\n",
       "      <td>NAN</td>\n",
       "      <td>NAN</td>\n",
       "      <td>PostCustomerValidation</td>\n",
       "    </tr>\n",
       "    <tr>\n",
       "      <th>2</th>\n",
       "      <td>7.040000e+12</td>\n",
       "      <td>FunderReplacementEligibility</td>\n",
       "      <td>Funder eligibility check</td>\n",
       "      <td>NAN</td>\n",
       "      <td>NAN</td>\n",
       "      <td>NAN</td>\n",
       "      <td>FunderReplacementEligibility</td>\n",
       "    </tr>\n",
       "    <tr>\n",
       "      <th>3</th>\n",
       "      <td>7.040000e+12</td>\n",
       "      <td>UcidBasicValidation</td>\n",
       "      <td>UCID basic validation</td>\n",
       "      <td>NAN</td>\n",
       "      <td>NAN</td>\n",
       "      <td>NAN</td>\n",
       "      <td>UcidBasicValidation</td>\n",
       "    </tr>\n",
       "    <tr>\n",
       "      <th>4</th>\n",
       "      <td>7.040000e+12</td>\n",
       "      <td>CustomerEnrichment</td>\n",
       "      <td>Customer Enrichment</td>\n",
       "      <td>NAN</td>\n",
       "      <td>NAN</td>\n",
       "      <td>NAN</td>\n",
       "      <td>CustomerEnrichment</td>\n",
       "    </tr>\n",
       "    <tr>\n",
       "      <th>5</th>\n",
       "      <td>7.040000e+12</td>\n",
       "      <td>ParallelStatusCheck</td>\n",
       "      <td>customers contacts parallel status check</td>\n",
       "      <td>NAN</td>\n",
       "      <td>NAN</td>\n",
       "      <td>NAN</td>\n",
       "      <td>ParallelStatusCheck</td>\n",
       "    </tr>\n",
       "    <tr>\n",
       "      <th>6</th>\n",
       "      <td>7.040000e+12</td>\n",
       "      <td>ContactBasicValidation</td>\n",
       "      <td>Contacts Basic Validation</td>\n",
       "      <td>NAN</td>\n",
       "      <td>NAN</td>\n",
       "      <td>NAN</td>\n",
       "      <td>ContactBasicValidation</td>\n",
       "    </tr>\n",
       "    <tr>\n",
       "      <th>7</th>\n",
       "      <td>7.040000e+12</td>\n",
       "      <td>CustomerBasicValidation</td>\n",
       "      <td>Customers Basic Validation</td>\n",
       "      <td>NAN</td>\n",
       "      <td>NAN</td>\n",
       "      <td>NAN</td>\n",
       "      <td>CustomerBasicValidation</td>\n",
       "    </tr>\n",
       "    <tr>\n",
       "      <th>8</th>\n",
       "      <td>7.040000e+12</td>\n",
       "      <td>BasicRulesValidation</td>\n",
       "      <td>Basic Rules Validation</td>\n",
       "      <td>NAN</td>\n",
       "      <td>NAN</td>\n",
       "      <td>NAN</td>\n",
       "      <td>BasicRulesValidation</td>\n",
       "    </tr>\n",
       "    <tr>\n",
       "      <th>9</th>\n",
       "      <td>7.040000e+12</td>\n",
       "      <td>IsOmegaCustomerPrediction</td>\n",
       "      <td>Predict the customer number is omega customer ...</td>\n",
       "      <td>NAN</td>\n",
       "      <td>NAN</td>\n",
       "      <td>NAN</td>\n",
       "      <td>IsOmegaCustomerPrediction</td>\n",
       "    </tr>\n",
       "    <tr>\n",
       "      <th>10</th>\n",
       "      <td>7.040000e+12</td>\n",
       "      <td>ValidationInitiated</td>\n",
       "      <td>Validation process initiated</td>\n",
       "      <td>NAN</td>\n",
       "      <td>NAN</td>\n",
       "      <td>NAN</td>\n",
       "      <td>ValidationInitiated</td>\n",
       "    </tr>\n",
       "    <tr>\n",
       "      <th>11</th>\n",
       "      <td>7.040000e+12</td>\n",
       "      <td>OrderHoldWorkflow</td>\n",
       "      <td>NAN</td>\n",
       "      <td>CUD-002</td>\n",
       "      <td>All the Ids(CamId| CamLocationId | AddressId) ...</td>\n",
       "      <td>NAN</td>\n",
       "      <td>CUD-002</td>\n",
       "    </tr>\n",
       "    <tr>\n",
       "      <th>12</th>\n",
       "      <td>7.040000e+12</td>\n",
       "      <td>BasicRulesValidation</td>\n",
       "      <td>Basic Rules Validation</td>\n",
       "      <td>NAN</td>\n",
       "      <td>NAN</td>\n",
       "      <td>NAN</td>\n",
       "      <td>BasicRulesValidation</td>\n",
       "    </tr>\n",
       "    <tr>\n",
       "      <th>13</th>\n",
       "      <td>7.040000e+12</td>\n",
       "      <td>IsOmegaCustomerPrediction</td>\n",
       "      <td>Predict the customer number is omega customer ...</td>\n",
       "      <td>NAN</td>\n",
       "      <td>NAN</td>\n",
       "      <td>NAN</td>\n",
       "      <td>IsOmegaCustomerPrediction</td>\n",
       "    </tr>\n",
       "    <tr>\n",
       "      <th>14</th>\n",
       "      <td>7.040000e+12</td>\n",
       "      <td>ValidationInitiated</td>\n",
       "      <td>Validation process initiated</td>\n",
       "      <td>NAN</td>\n",
       "      <td>NAN</td>\n",
       "      <td>NAN</td>\n",
       "      <td>ValidationInitiated</td>\n",
       "    </tr>\n",
       "    <tr>\n",
       "      <th>22</th>\n",
       "      <td>7.040000e+12</td>\n",
       "      <td>OrderHoldWorkflow</td>\n",
       "      <td>NAN</td>\n",
       "      <td>CUD-002</td>\n",
       "      <td>All the Ids(CamId| CamLocationId | AddressId) ...</td>\n",
       "      <td>NAN</td>\n",
       "      <td>CUD-002</td>\n",
       "    </tr>\n",
       "    <tr>\n",
       "      <th>23</th>\n",
       "      <td>7.040000e+12</td>\n",
       "      <td>BasicRulesValidation</td>\n",
       "      <td>Basic Rules Validation</td>\n",
       "      <td>NAN</td>\n",
       "      <td>NAN</td>\n",
       "      <td>NAN</td>\n",
       "      <td>BasicRulesValidation</td>\n",
       "    </tr>\n",
       "    <tr>\n",
       "      <th>24</th>\n",
       "      <td>7.040000e+12</td>\n",
       "      <td>IsOmegaCustomerPrediction</td>\n",
       "      <td>Predict the customer number is omega customer ...</td>\n",
       "      <td>NAN</td>\n",
       "      <td>NAN</td>\n",
       "      <td>NAN</td>\n",
       "      <td>IsOmegaCustomerPrediction</td>\n",
       "    </tr>\n",
       "    <tr>\n",
       "      <th>25</th>\n",
       "      <td>7.040000e+12</td>\n",
       "      <td>ValidationInitiated</td>\n",
       "      <td>Validation process initiated</td>\n",
       "      <td>NAN</td>\n",
       "      <td>NAN</td>\n",
       "      <td>NAN</td>\n",
       "      <td>ValidationInitiated</td>\n",
       "    </tr>\n",
       "    <tr>\n",
       "      <th>33</th>\n",
       "      <td>7.040000e+12</td>\n",
       "      <td>OrderHoldWorkflow</td>\n",
       "      <td>NAN</td>\n",
       "      <td>CUD-006</td>\n",
       "      <td>&lt;br&gt;BillContact Contact not found in CMDM: 400...</td>\n",
       "      <td>NAN</td>\n",
       "      <td>CUD-006</td>\n",
       "    </tr>\n",
       "    <tr>\n",
       "      <th>34</th>\n",
       "      <td>7.040000e+12</td>\n",
       "      <td>ParallelStatusCheck</td>\n",
       "      <td>customers contacts parallel status check</td>\n",
       "      <td>NAN</td>\n",
       "      <td>NAN</td>\n",
       "      <td>NAN</td>\n",
       "      <td>ParallelStatusCheck</td>\n",
       "    </tr>\n",
       "    <tr>\n",
       "      <th>35</th>\n",
       "      <td>7.040000e+12</td>\n",
       "      <td>ContactBasicValidation</td>\n",
       "      <td>Contacts Basic Validation</td>\n",
       "      <td>NAN</td>\n",
       "      <td>NAN</td>\n",
       "      <td>NAN</td>\n",
       "      <td>ContactBasicValidation</td>\n",
       "    </tr>\n",
       "    <tr>\n",
       "      <th>36</th>\n",
       "      <td>7.040000e+12</td>\n",
       "      <td>CustomerBasicValidation</td>\n",
       "      <td>Customers Basic Validation</td>\n",
       "      <td>NAN</td>\n",
       "      <td>NAN</td>\n",
       "      <td>NAN</td>\n",
       "      <td>CustomerBasicValidation</td>\n",
       "    </tr>\n",
       "    <tr>\n",
       "      <th>37</th>\n",
       "      <td>7.040000e+12</td>\n",
       "      <td>BasicRulesValidation</td>\n",
       "      <td>Basic Rules Validation</td>\n",
       "      <td>NAN</td>\n",
       "      <td>NAN</td>\n",
       "      <td>NAN</td>\n",
       "      <td>BasicRulesValidation</td>\n",
       "    </tr>\n",
       "    <tr>\n",
       "      <th>38</th>\n",
       "      <td>7.040000e+12</td>\n",
       "      <td>IsOmegaCustomerPrediction</td>\n",
       "      <td>Predict the customer number is omega customer ...</td>\n",
       "      <td>NAN</td>\n",
       "      <td>NAN</td>\n",
       "      <td>NAN</td>\n",
       "      <td>IsOmegaCustomerPrediction</td>\n",
       "    </tr>\n",
       "    <tr>\n",
       "      <th>39</th>\n",
       "      <td>7.040000e+12</td>\n",
       "      <td>ValidationInitiated</td>\n",
       "      <td>Validation process initiated</td>\n",
       "      <td>NAN</td>\n",
       "      <td>NAN</td>\n",
       "      <td>NAN</td>\n",
       "      <td>ValidationInitiated</td>\n",
       "    </tr>\n",
       "  </tbody>\n",
       "</table>\n",
       "</div>"
      ],
      "text/plain": [
       "            dpid                  workflowName  \\\n",
       "0   7.040000e+12       EndCustomerManagementWF   \n",
       "1   7.040000e+12        PostCustomerValidation   \n",
       "2   7.040000e+12  FunderReplacementEligibility   \n",
       "3   7.040000e+12           UcidBasicValidation   \n",
       "4   7.040000e+12            CustomerEnrichment   \n",
       "5   7.040000e+12           ParallelStatusCheck   \n",
       "6   7.040000e+12        ContactBasicValidation   \n",
       "7   7.040000e+12       CustomerBasicValidation   \n",
       "8   7.040000e+12          BasicRulesValidation   \n",
       "9   7.040000e+12     IsOmegaCustomerPrediction   \n",
       "10  7.040000e+12           ValidationInitiated   \n",
       "11  7.040000e+12             OrderHoldWorkflow   \n",
       "12  7.040000e+12          BasicRulesValidation   \n",
       "13  7.040000e+12     IsOmegaCustomerPrediction   \n",
       "14  7.040000e+12           ValidationInitiated   \n",
       "22  7.040000e+12             OrderHoldWorkflow   \n",
       "23  7.040000e+12          BasicRulesValidation   \n",
       "24  7.040000e+12     IsOmegaCustomerPrediction   \n",
       "25  7.040000e+12           ValidationInitiated   \n",
       "33  7.040000e+12             OrderHoldWorkflow   \n",
       "34  7.040000e+12           ParallelStatusCheck   \n",
       "35  7.040000e+12        ContactBasicValidation   \n",
       "36  7.040000e+12       CustomerBasicValidation   \n",
       "37  7.040000e+12          BasicRulesValidation   \n",
       "38  7.040000e+12     IsOmegaCustomerPrediction   \n",
       "39  7.040000e+12           ValidationInitiated   \n",
       "\n",
       "                                  workflowDescription holdCode  \\\n",
       "0                                                 NAN      NAN   \n",
       "1                            Post Customer Validation      NAN   \n",
       "2                            Funder eligibility check      NAN   \n",
       "3                               UCID basic validation      NAN   \n",
       "4                                 Customer Enrichment      NAN   \n",
       "5            customers contacts parallel status check      NAN   \n",
       "6                           Contacts Basic Validation      NAN   \n",
       "7                          Customers Basic Validation      NAN   \n",
       "8                              Basic Rules Validation      NAN   \n",
       "9   Predict the customer number is omega customer ...      NAN   \n",
       "10                       Validation process initiated      NAN   \n",
       "11                                                NAN  CUD-002   \n",
       "12                             Basic Rules Validation      NAN   \n",
       "13  Predict the customer number is omega customer ...      NAN   \n",
       "14                       Validation process initiated      NAN   \n",
       "22                                                NAN  CUD-002   \n",
       "23                             Basic Rules Validation      NAN   \n",
       "24  Predict the customer number is omega customer ...      NAN   \n",
       "25                       Validation process initiated      NAN   \n",
       "33                                                NAN  CUD-006   \n",
       "34           customers contacts parallel status check      NAN   \n",
       "35                          Contacts Basic Validation      NAN   \n",
       "36                         Customers Basic Validation      NAN   \n",
       "37                             Basic Rules Validation      NAN   \n",
       "38  Predict the customer number is omega customer ...      NAN   \n",
       "39                       Validation process initiated      NAN   \n",
       "\n",
       "                                          holdMessage holdCategory  \\\n",
       "0                                                 NAN          NAN   \n",
       "1                                                 NAN          NAN   \n",
       "2                                                 NAN          NAN   \n",
       "3                                                 NAN          NAN   \n",
       "4                                                 NAN          NAN   \n",
       "5                                                 NAN          NAN   \n",
       "6                                                 NAN          NAN   \n",
       "7                                                 NAN          NAN   \n",
       "8                                                 NAN          NAN   \n",
       "9                                                 NAN          NAN   \n",
       "10                                                NAN          NAN   \n",
       "11  All the Ids(CamId| CamLocationId | AddressId) ...          NAN   \n",
       "12                                                NAN          NAN   \n",
       "13                                                NAN          NAN   \n",
       "14                                                NAN          NAN   \n",
       "22  All the Ids(CamId| CamLocationId | AddressId) ...          NAN   \n",
       "23                                                NAN          NAN   \n",
       "24                                                NAN          NAN   \n",
       "25                                                NAN          NAN   \n",
       "33  <br>BillContact Contact not found in CMDM: 400...          NAN   \n",
       "34                                                NAN          NAN   \n",
       "35                                                NAN          NAN   \n",
       "36                                                NAN          NAN   \n",
       "37                                                NAN          NAN   \n",
       "38                                                NAN          NAN   \n",
       "39                                                NAN          NAN   \n",
       "\n",
       "                         TagName  \n",
       "0        EndCustomerManagementWF  \n",
       "1         PostCustomerValidation  \n",
       "2   FunderReplacementEligibility  \n",
       "3            UcidBasicValidation  \n",
       "4             CustomerEnrichment  \n",
       "5            ParallelStatusCheck  \n",
       "6         ContactBasicValidation  \n",
       "7        CustomerBasicValidation  \n",
       "8           BasicRulesValidation  \n",
       "9      IsOmegaCustomerPrediction  \n",
       "10           ValidationInitiated  \n",
       "11                       CUD-002  \n",
       "12          BasicRulesValidation  \n",
       "13     IsOmegaCustomerPrediction  \n",
       "14           ValidationInitiated  \n",
       "22                       CUD-002  \n",
       "23          BasicRulesValidation  \n",
       "24     IsOmegaCustomerPrediction  \n",
       "25           ValidationInitiated  \n",
       "33                       CUD-006  \n",
       "34           ParallelStatusCheck  \n",
       "35        ContactBasicValidation  \n",
       "36       CustomerBasicValidation  \n",
       "37          BasicRulesValidation  \n",
       "38     IsOmegaCustomerPrediction  \n",
       "39           ValidationInitiated  "
      ]
     },
     "metadata": {},
     "output_type": "display_data"
    },
    {
     "name": "stdout",
     "output_type": "stream",
     "text": [
      "./Data/Workflow/Output/Final/DataSet/ge4/Final_DataSet_Workflow_DF_ge4.json\n"
     ]
    }
   ],
   "source": [
    "# -*- coding: utf-8 -*-\n",
    "\"\"\"\n",
    "Created on Sun Nov  5 15:56:13 2023\n",
    "\n",
    "@author: satpum\n",
    "\"\"\"\n",
    "\n",
    "import json;\n",
    "import pandas as pd\n",
    "import time \n",
    "import os, shutil\n",
    "from bs4 import BeautifulSoup \n",
    "import requests \n",
    "import re\n",
    "import numpy as np\n",
    "from IPython.display import display\n",
    "\n",
    "print('===============IMPORTING DATA====================')\n",
    "directoryName='./Data/Workflow/Output/Final/ge4/Final_Workflow_DF_ge4.json'\n",
    "if not os.path.exists(directoryName):\n",
    "    os.makedirs(directoryName)\n",
    "\n",
    "    \n",
    "print('=======Getting Data From '+directoryName+'============')\n",
    "\n",
    "f1  = open(directoryName, encoding=\"utf8\")\n",
    "\n",
    "\n",
    "dataWorkflowLogs = json.load(f1)\n",
    "\n",
    "\n",
    "\n",
    "\n",
    "finalDataFrame= pd.DataFrame(dataWorkflowLogs,columns=['dpid','workflowName','workflowDescription','holdCode','holdMessage','holdCategory','TagName'])\n",
    "\n",
    "finalDataFrame.fillna(\"NAN\",inplace=True)\n",
    "\n",
    "for index,row in finalDataFrame.iterrows():\n",
    "    if row['holdMessage']!='NAN':\n",
    "        #holdArray.append(row)\n",
    "        finalDataFrame.at[index,'TagName']=row['holdCode']\n",
    "    else:\n",
    "        finalDataFrame.at[index,'TagName']=row['workflowName']\n",
    "\n",
    "DataSetArr=[]       \n",
    "for index, row in finalDataFrame.iterrows():\n",
    "    if row['dpid']!='NAN':\n",
    "        DataSetArr.append(row)\n",
    "        \n",
    "        \n",
    "        \n",
    "datasetDF= pd.DataFrame(DataSetArr)\n",
    "#display(finalDataFrame)\n",
    "display(datasetDF)\n",
    "\n",
    "\n",
    "directoryName='./Data/Workflow/Output/Final/DataSet/'+enviroment+'/'\n",
    "fileName='Final_DataSet_Workflow_DF_'+enviroment+'.json'\n",
    "if not os.path.exists(directoryName):\n",
    "    os.makedirs(directoryName)\n",
    "\n",
    "print(directoryName+fileName)\n",
    "datasetDF.to_json(directoryName+fileName,orient='records')"
   ]
  },
  {
   "cell_type": "code",
   "execution_count": null,
   "id": "987af7c6",
   "metadata": {},
   "outputs": [],
   "source": []
  }
 ],
 "metadata": {
  "kernelspec": {
   "display_name": "Python 3 (ipykernel)",
   "language": "python",
   "name": "python3"
  },
  "language_info": {
   "codemirror_mode": {
    "name": "ipython",
    "version": 3
   },
   "file_extension": ".py",
   "mimetype": "text/x-python",
   "name": "python",
   "nbconvert_exporter": "python",
   "pygments_lexer": "ipython3",
   "version": "3.11.5"
  }
 },
 "nbformat": 4,
 "nbformat_minor": 5
}
